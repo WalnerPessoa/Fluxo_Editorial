{
 "cells": [
  {
   "cell_type": "code",
   "execution_count": 1,
   "metadata": {},
   "outputs": [],
   "source": [
    "import pandas as pd\n",
    "import numpy as np\n",
    "from sklearn.model_selection import RepeatedKFold\n",
    "from sklearn.model_selection import train_test_split\n",
    "\n",
    "#Importando o modelo machine learnig\n",
    "from sklearn.linear_model import LinearRegression\n",
    "from sklearn.ensemble import RandomForestClassifier\n",
    "from sklearn import metrics\n",
    "import pickle\n",
    "\n"
   ]
  },
  {
   "cell_type": "code",
   "execution_count": 85,
   "metadata": {},
   "outputs": [],
   "source": [
    "# importar csv\n",
    "data = pd.read_csv(\"nge_dados_input.csv\")\n",
    "#data_semNF = pd.read_csv(\"nge_dados_input_semNF.csv\") # jobs sem nota está emoutro método"
   ]
  },
  {
   "cell_type": "code",
   "execution_count": 86,
   "metadata": {
    "scrolled": true
   },
   "outputs": [
    {
     "data": {
      "text/plain": [
       "id                    int64\n",
       "entidade              int64\n",
       "fornecedor            int64\n",
       "complexidade          int64\n",
       "stat_pagto            int64\n",
       "qtd_pag_word          int64\n",
       "qtd_pag_estimado    float64\n",
       "qtd_pg_word           int64\n",
       "qtd_carc              int64\n",
       "qtd_tabela            int64\n",
       "qtd_image             int64\n",
       "qtd_estilos         float64\n",
       "pag_final             int64\n",
       "tamanho_livro         int64\n",
       "dtype: object"
      ]
     },
     "execution_count": 86,
     "metadata": {},
     "output_type": "execute_result"
    }
   ],
   "source": [
    "data.dtypes"
   ]
  },
  {
   "cell_type": "code",
   "execution_count": 87,
   "metadata": {
    "scrolled": false
   },
   "outputs": [
    {
     "data": {
      "text/html": [
       "<div>\n",
       "<style scoped>\n",
       "    .dataframe tbody tr th:only-of-type {\n",
       "        vertical-align: middle;\n",
       "    }\n",
       "\n",
       "    .dataframe tbody tr th {\n",
       "        vertical-align: top;\n",
       "    }\n",
       "\n",
       "    .dataframe thead th {\n",
       "        text-align: right;\n",
       "    }\n",
       "</style>\n",
       "<table border=\"1\" class=\"dataframe\">\n",
       "  <thead>\n",
       "    <tr style=\"text-align: right;\">\n",
       "      <th></th>\n",
       "      <th>id</th>\n",
       "      <th>entidade</th>\n",
       "      <th>fornecedor</th>\n",
       "      <th>complexidade</th>\n",
       "      <th>stat_pagto</th>\n",
       "      <th>qtd_pag_word</th>\n",
       "      <th>qtd_pag_estimado</th>\n",
       "      <th>qtd_pg_word</th>\n",
       "      <th>qtd_carc</th>\n",
       "      <th>qtd_tabela</th>\n",
       "      <th>qtd_image</th>\n",
       "      <th>qtd_estilos</th>\n",
       "      <th>pag_final</th>\n",
       "      <th>tamanho_livro</th>\n",
       "    </tr>\n",
       "  </thead>\n",
       "  <tbody>\n",
       "    <tr>\n",
       "      <th>0</th>\n",
       "      <td>224323</td>\n",
       "      <td>0</td>\n",
       "      <td>0</td>\n",
       "      <td>1</td>\n",
       "      <td>0</td>\n",
       "      <td>87</td>\n",
       "      <td>140.0</td>\n",
       "      <td>87</td>\n",
       "      <td>116142</td>\n",
       "      <td>505</td>\n",
       "      <td>742</td>\n",
       "      <td>60.0</td>\n",
       "      <td>140</td>\n",
       "      <td>2</td>\n",
       "    </tr>\n",
       "    <tr>\n",
       "      <th>1</th>\n",
       "      <td>224325</td>\n",
       "      <td>0</td>\n",
       "      <td>0</td>\n",
       "      <td>1</td>\n",
       "      <td>0</td>\n",
       "      <td>82</td>\n",
       "      <td>122.0</td>\n",
       "      <td>82</td>\n",
       "      <td>108307</td>\n",
       "      <td>76</td>\n",
       "      <td>94</td>\n",
       "      <td>69.0</td>\n",
       "      <td>122</td>\n",
       "      <td>2</td>\n",
       "    </tr>\n",
       "    <tr>\n",
       "      <th>2</th>\n",
       "      <td>225392</td>\n",
       "      <td>0</td>\n",
       "      <td>0</td>\n",
       "      <td>3</td>\n",
       "      <td>0</td>\n",
       "      <td>41</td>\n",
       "      <td>70.0</td>\n",
       "      <td>30</td>\n",
       "      <td>41144</td>\n",
       "      <td>28</td>\n",
       "      <td>24</td>\n",
       "      <td>23.0</td>\n",
       "      <td>52</td>\n",
       "      <td>1</td>\n",
       "    </tr>\n",
       "    <tr>\n",
       "      <th>3</th>\n",
       "      <td>225392</td>\n",
       "      <td>0</td>\n",
       "      <td>0</td>\n",
       "      <td>3</td>\n",
       "      <td>0</td>\n",
       "      <td>41</td>\n",
       "      <td>70.0</td>\n",
       "      <td>42</td>\n",
       "      <td>62913</td>\n",
       "      <td>432</td>\n",
       "      <td>696</td>\n",
       "      <td>21.0</td>\n",
       "      <td>52</td>\n",
       "      <td>1</td>\n",
       "    </tr>\n",
       "    <tr>\n",
       "      <th>4</th>\n",
       "      <td>225531</td>\n",
       "      <td>0</td>\n",
       "      <td>0</td>\n",
       "      <td>2</td>\n",
       "      <td>0</td>\n",
       "      <td>36</td>\n",
       "      <td>48.0</td>\n",
       "      <td>36</td>\n",
       "      <td>37548</td>\n",
       "      <td>270</td>\n",
       "      <td>456</td>\n",
       "      <td>17.0</td>\n",
       "      <td>48</td>\n",
       "      <td>0</td>\n",
       "    </tr>\n",
       "    <tr>\n",
       "      <th>5</th>\n",
       "      <td>228711</td>\n",
       "      <td>2</td>\n",
       "      <td>0</td>\n",
       "      <td>1</td>\n",
       "      <td>0</td>\n",
       "      <td>77</td>\n",
       "      <td>108.0</td>\n",
       "      <td>77</td>\n",
       "      <td>101967</td>\n",
       "      <td>317</td>\n",
       "      <td>517</td>\n",
       "      <td>17.0</td>\n",
       "      <td>88</td>\n",
       "      <td>1</td>\n",
       "    </tr>\n",
       "    <tr>\n",
       "      <th>6</th>\n",
       "      <td>226842</td>\n",
       "      <td>0</td>\n",
       "      <td>0</td>\n",
       "      <td>1</td>\n",
       "      <td>0</td>\n",
       "      <td>46</td>\n",
       "      <td>66.0</td>\n",
       "      <td>46</td>\n",
       "      <td>96474</td>\n",
       "      <td>99</td>\n",
       "      <td>114</td>\n",
       "      <td>37.0</td>\n",
       "      <td>66</td>\n",
       "      <td>1</td>\n",
       "    </tr>\n",
       "    <tr>\n",
       "      <th>7</th>\n",
       "      <td>227130</td>\n",
       "      <td>0</td>\n",
       "      <td>0</td>\n",
       "      <td>1</td>\n",
       "      <td>0</td>\n",
       "      <td>66</td>\n",
       "      <td>102.0</td>\n",
       "      <td>66</td>\n",
       "      <td>112888</td>\n",
       "      <td>604</td>\n",
       "      <td>872</td>\n",
       "      <td>23.0</td>\n",
       "      <td>82</td>\n",
       "      <td>1</td>\n",
       "    </tr>\n",
       "    <tr>\n",
       "      <th>8</th>\n",
       "      <td>228307</td>\n",
       "      <td>0</td>\n",
       "      <td>0</td>\n",
       "      <td>1</td>\n",
       "      <td>0</td>\n",
       "      <td>62</td>\n",
       "      <td>95.0</td>\n",
       "      <td>62</td>\n",
       "      <td>43155</td>\n",
       "      <td>40</td>\n",
       "      <td>73</td>\n",
       "      <td>25.0</td>\n",
       "      <td>70</td>\n",
       "      <td>1</td>\n",
       "    </tr>\n",
       "    <tr>\n",
       "      <th>9</th>\n",
       "      <td>228354</td>\n",
       "      <td>0</td>\n",
       "      <td>0</td>\n",
       "      <td>1</td>\n",
       "      <td>0</td>\n",
       "      <td>76</td>\n",
       "      <td>110.0</td>\n",
       "      <td>76</td>\n",
       "      <td>129122</td>\n",
       "      <td>14</td>\n",
       "      <td>10</td>\n",
       "      <td>26.0</td>\n",
       "      <td>96</td>\n",
       "      <td>1</td>\n",
       "    </tr>\n",
       "    <tr>\n",
       "      <th>10</th>\n",
       "      <td>228437</td>\n",
       "      <td>0</td>\n",
       "      <td>0</td>\n",
       "      <td>2</td>\n",
       "      <td>0</td>\n",
       "      <td>18</td>\n",
       "      <td>18.0</td>\n",
       "      <td>80</td>\n",
       "      <td>145034</td>\n",
       "      <td>175</td>\n",
       "      <td>370</td>\n",
       "      <td>35.0</td>\n",
       "      <td>18</td>\n",
       "      <td>0</td>\n",
       "    </tr>\n",
       "    <tr>\n",
       "      <th>11</th>\n",
       "      <td>228603</td>\n",
       "      <td>0</td>\n",
       "      <td>0</td>\n",
       "      <td>2</td>\n",
       "      <td>0</td>\n",
       "      <td>33</td>\n",
       "      <td>48.0</td>\n",
       "      <td>13</td>\n",
       "      <td>45943</td>\n",
       "      <td>114</td>\n",
       "      <td>132</td>\n",
       "      <td>22.0</td>\n",
       "      <td>40</td>\n",
       "      <td>0</td>\n",
       "    </tr>\n",
       "  </tbody>\n",
       "</table>\n",
       "</div>"
      ],
      "text/plain": [
       "        id  entidade  fornecedor  complexidade  stat_pagto  qtd_pag_word  \\\n",
       "0   224323         0           0             1           0            87   \n",
       "1   224325         0           0             1           0            82   \n",
       "2   225392         0           0             3           0            41   \n",
       "3   225392         0           0             3           0            41   \n",
       "4   225531         0           0             2           0            36   \n",
       "5   228711         2           0             1           0            77   \n",
       "6   226842         0           0             1           0            46   \n",
       "7   227130         0           0             1           0            66   \n",
       "8   228307         0           0             1           0            62   \n",
       "9   228354         0           0             1           0            76   \n",
       "10  228437         0           0             2           0            18   \n",
       "11  228603         0           0             2           0            33   \n",
       "\n",
       "    qtd_pag_estimado  qtd_pg_word  qtd_carc  qtd_tabela  qtd_image  \\\n",
       "0              140.0           87    116142         505        742   \n",
       "1              122.0           82    108307          76         94   \n",
       "2               70.0           30     41144          28         24   \n",
       "3               70.0           42     62913         432        696   \n",
       "4               48.0           36     37548         270        456   \n",
       "5              108.0           77    101967         317        517   \n",
       "6               66.0           46     96474          99        114   \n",
       "7              102.0           66    112888         604        872   \n",
       "8               95.0           62     43155          40         73   \n",
       "9              110.0           76    129122          14         10   \n",
       "10              18.0           80    145034         175        370   \n",
       "11              48.0           13     45943         114        132   \n",
       "\n",
       "    qtd_estilos  pag_final  tamanho_livro  \n",
       "0          60.0        140              2  \n",
       "1          69.0        122              2  \n",
       "2          23.0         52              1  \n",
       "3          21.0         52              1  \n",
       "4          17.0         48              0  \n",
       "5          17.0         88              1  \n",
       "6          37.0         66              1  \n",
       "7          23.0         82              1  \n",
       "8          25.0         70              1  \n",
       "9          26.0         96              1  \n",
       "10         35.0         18              0  \n",
       "11         22.0         40              0  "
      ]
     },
     "execution_count": 87,
     "metadata": {},
     "output_type": "execute_result"
    }
   ],
   "source": [
    "data.head(12)"
   ]
  },
  {
   "cell_type": "code",
   "execution_count": 88,
   "metadata": {
    "scrolled": true
   },
   "outputs": [
    {
     "data": {
      "text/plain": [
       "array([ 87,  82,  30,  42,  36,  77,  46,  66,  62,  76,  80,  13,  34,\n",
       "        52,  18,  78,  50,  47,  54,  88,  91,  38, 214,  22,  26,  92,\n",
       "        14,  40,  81,  63, 216,  24,  33, 195,  29,  60,  70,  72, 107,\n",
       "        85,  68,  41, 112,  45,  19,  51,  31,  56,  28,  21,  12,  17,\n",
       "       131,  67, 207,  43,  86,  90,  49,  39,   1,  59,  48,  57,  73,\n",
       "        23,  37])"
      ]
     },
     "execution_count": 88,
     "metadata": {},
     "output_type": "execute_result"
    }
   ],
   "source": [
    "data['qtd_pg_word'].unique()"
   ]
  },
  {
   "cell_type": "code",
   "execution_count": 89,
   "metadata": {
    "scrolled": true
   },
   "outputs": [
    {
     "data": {
      "text/plain": [
       "array([ 87,  82,  41,  36,  77,  46,  66,  62,  76,  18,  33,  34,  57,\n",
       "        22,  78,  50,  38,  54,  88,  91,  80, 214,  26,  83,  40,  81,\n",
       "        63, 216,  51,  27, 195,  29,  58,  70,  92,  72, 107,  85,  67,\n",
       "        24, 112,  45,  19,  31,  56,  28,  12, 158, 207,  43,  17,  86,\n",
       "        90,  49, 168, 162,  20,  59,  48, 100,  39,  42,  32,  73,  23])"
      ]
     },
     "execution_count": 89,
     "metadata": {},
     "output_type": "execute_result"
    }
   ],
   "source": [
    "data['qtd_pag_word'].unique()"
   ]
  },
  {
   "cell_type": "code",
   "execution_count": 90,
   "metadata": {},
   "outputs": [
    {
     "data": {
      "text/html": [
       "<div>\n",
       "<style scoped>\n",
       "    .dataframe tbody tr th:only-of-type {\n",
       "        vertical-align: middle;\n",
       "    }\n",
       "\n",
       "    .dataframe tbody tr th {\n",
       "        vertical-align: top;\n",
       "    }\n",
       "\n",
       "    .dataframe thead th {\n",
       "        text-align: right;\n",
       "    }\n",
       "</style>\n",
       "<table border=\"1\" class=\"dataframe\">\n",
       "  <thead>\n",
       "    <tr style=\"text-align: right;\">\n",
       "      <th></th>\n",
       "      <th>id</th>\n",
       "      <th>qtd_pag_word</th>\n",
       "      <th>qtd_pg_word</th>\n",
       "      <th>pag_final</th>\n",
       "    </tr>\n",
       "  </thead>\n",
       "  <tbody>\n",
       "    <tr>\n",
       "      <th>2</th>\n",
       "      <td>225392</td>\n",
       "      <td>41</td>\n",
       "      <td>30</td>\n",
       "      <td>52</td>\n",
       "    </tr>\n",
       "    <tr>\n",
       "      <th>3</th>\n",
       "      <td>225392</td>\n",
       "      <td>41</td>\n",
       "      <td>42</td>\n",
       "      <td>52</td>\n",
       "    </tr>\n",
       "    <tr>\n",
       "      <th>10</th>\n",
       "      <td>228437</td>\n",
       "      <td>18</td>\n",
       "      <td>80</td>\n",
       "      <td>18</td>\n",
       "    </tr>\n",
       "    <tr>\n",
       "      <th>11</th>\n",
       "      <td>228603</td>\n",
       "      <td>33</td>\n",
       "      <td>13</td>\n",
       "      <td>40</td>\n",
       "    </tr>\n",
       "    <tr>\n",
       "      <th>13</th>\n",
       "      <td>228837</td>\n",
       "      <td>57</td>\n",
       "      <td>52</td>\n",
       "      <td>68</td>\n",
       "    </tr>\n",
       "    <tr>\n",
       "      <th>14</th>\n",
       "      <td>229294</td>\n",
       "      <td>22</td>\n",
       "      <td>18</td>\n",
       "      <td>34</td>\n",
       "    </tr>\n",
       "    <tr>\n",
       "      <th>18</th>\n",
       "      <td>229536</td>\n",
       "      <td>38</td>\n",
       "      <td>47</td>\n",
       "      <td>84</td>\n",
       "    </tr>\n",
       "    <tr>\n",
       "      <th>28</th>\n",
       "      <td>231210</td>\n",
       "      <td>83</td>\n",
       "      <td>92</td>\n",
       "      <td>112</td>\n",
       "    </tr>\n",
       "    <tr>\n",
       "      <th>29</th>\n",
       "      <td>230571</td>\n",
       "      <td>80</td>\n",
       "      <td>14</td>\n",
       "      <td>110</td>\n",
       "    </tr>\n",
       "    <tr>\n",
       "      <th>35</th>\n",
       "      <td>231890</td>\n",
       "      <td>51</td>\n",
       "      <td>52</td>\n",
       "      <td>76</td>\n",
       "    </tr>\n",
       "    <tr>\n",
       "      <th>36</th>\n",
       "      <td>235502</td>\n",
       "      <td>27</td>\n",
       "      <td>24</td>\n",
       "      <td>38</td>\n",
       "    </tr>\n",
       "    <tr>\n",
       "      <th>37</th>\n",
       "      <td>235502</td>\n",
       "      <td>27</td>\n",
       "      <td>24</td>\n",
       "      <td>38</td>\n",
       "    </tr>\n",
       "    <tr>\n",
       "      <th>43</th>\n",
       "      <td>231772</td>\n",
       "      <td>58</td>\n",
       "      <td>60</td>\n",
       "      <td>66</td>\n",
       "    </tr>\n",
       "    <tr>\n",
       "      <th>51</th>\n",
       "      <td>232943</td>\n",
       "      <td>67</td>\n",
       "      <td>68</td>\n",
       "      <td>92</td>\n",
       "    </tr>\n",
       "    <tr>\n",
       "      <th>52</th>\n",
       "      <td>231274</td>\n",
       "      <td>78</td>\n",
       "      <td>76</td>\n",
       "      <td>100</td>\n",
       "    </tr>\n",
       "    <tr>\n",
       "      <th>66</th>\n",
       "      <td>233890</td>\n",
       "      <td>22</td>\n",
       "      <td>21</td>\n",
       "      <td>30</td>\n",
       "    </tr>\n",
       "    <tr>\n",
       "      <th>68</th>\n",
       "      <td>233892</td>\n",
       "      <td>19</td>\n",
       "      <td>17</td>\n",
       "      <td>24</td>\n",
       "    </tr>\n",
       "    <tr>\n",
       "      <th>69</th>\n",
       "      <td>233884</td>\n",
       "      <td>158</td>\n",
       "      <td>131</td>\n",
       "      <td>176</td>\n",
       "    </tr>\n",
       "    <tr>\n",
       "      <th>70</th>\n",
       "      <td>233896</td>\n",
       "      <td>72</td>\n",
       "      <td>68</td>\n",
       "      <td>84</td>\n",
       "    </tr>\n",
       "    <tr>\n",
       "      <th>71</th>\n",
       "      <td>233893</td>\n",
       "      <td>66</td>\n",
       "      <td>77</td>\n",
       "      <td>98</td>\n",
       "    </tr>\n",
       "    <tr>\n",
       "      <th>74</th>\n",
       "      <td>233904</td>\n",
       "      <td>38</td>\n",
       "      <td>50</td>\n",
       "      <td>68</td>\n",
       "    </tr>\n",
       "    <tr>\n",
       "      <th>84</th>\n",
       "      <td>0</td>\n",
       "      <td>168</td>\n",
       "      <td>70</td>\n",
       "      <td>168</td>\n",
       "    </tr>\n",
       "    <tr>\n",
       "      <th>85</th>\n",
       "      <td>0</td>\n",
       "      <td>162</td>\n",
       "      <td>70</td>\n",
       "      <td>162</td>\n",
       "    </tr>\n",
       "    <tr>\n",
       "      <th>87</th>\n",
       "      <td>235469</td>\n",
       "      <td>40</td>\n",
       "      <td>24</td>\n",
       "      <td>48</td>\n",
       "    </tr>\n",
       "    <tr>\n",
       "      <th>88</th>\n",
       "      <td>235495</td>\n",
       "      <td>77</td>\n",
       "      <td>39</td>\n",
       "      <td>100</td>\n",
       "    </tr>\n",
       "    <tr>\n",
       "      <th>91</th>\n",
       "      <td>235509</td>\n",
       "      <td>20</td>\n",
       "      <td>1</td>\n",
       "      <td>36</td>\n",
       "    </tr>\n",
       "    <tr>\n",
       "      <th>94</th>\n",
       "      <td>233900</td>\n",
       "      <td>100</td>\n",
       "      <td>57</td>\n",
       "      <td>82</td>\n",
       "    </tr>\n",
       "    <tr>\n",
       "      <th>95</th>\n",
       "      <td>235520</td>\n",
       "      <td>28</td>\n",
       "      <td>29</td>\n",
       "      <td>38</td>\n",
       "    </tr>\n",
       "    <tr>\n",
       "      <th>99</th>\n",
       "      <td>235651</td>\n",
       "      <td>32</td>\n",
       "      <td>33</td>\n",
       "      <td>44</td>\n",
       "    </tr>\n",
       "    <tr>\n",
       "      <th>101</th>\n",
       "      <td>235665</td>\n",
       "      <td>39</td>\n",
       "      <td>40</td>\n",
       "      <td>66</td>\n",
       "    </tr>\n",
       "    <tr>\n",
       "      <th>107</th>\n",
       "      <td>235513</td>\n",
       "      <td>49</td>\n",
       "      <td>52</td>\n",
       "      <td>52</td>\n",
       "    </tr>\n",
       "    <tr>\n",
       "      <th>108</th>\n",
       "      <td>235514</td>\n",
       "      <td>56</td>\n",
       "      <td>41</td>\n",
       "      <td>72</td>\n",
       "    </tr>\n",
       "    <tr>\n",
       "      <th>109</th>\n",
       "      <td>235700</td>\n",
       "      <td>38</td>\n",
       "      <td>37</td>\n",
       "      <td>44</td>\n",
       "    </tr>\n",
       "  </tbody>\n",
       "</table>\n",
       "</div>"
      ],
      "text/plain": [
       "         id  qtd_pag_word  qtd_pg_word  pag_final\n",
       "2    225392            41           30         52\n",
       "3    225392            41           42         52\n",
       "10   228437            18           80         18\n",
       "11   228603            33           13         40\n",
       "13   228837            57           52         68\n",
       "14   229294            22           18         34\n",
       "18   229536            38           47         84\n",
       "28   231210            83           92        112\n",
       "29   230571            80           14        110\n",
       "35   231890            51           52         76\n",
       "36   235502            27           24         38\n",
       "37   235502            27           24         38\n",
       "43   231772            58           60         66\n",
       "51   232943            67           68         92\n",
       "52   231274            78           76        100\n",
       "66   233890            22           21         30\n",
       "68   233892            19           17         24\n",
       "69   233884           158          131        176\n",
       "70   233896            72           68         84\n",
       "71   233893            66           77         98\n",
       "74   233904            38           50         68\n",
       "84        0           168           70        168\n",
       "85        0           162           70        162\n",
       "87   235469            40           24         48\n",
       "88   235495            77           39        100\n",
       "91   235509            20            1         36\n",
       "94   233900           100           57         82\n",
       "95   235520            28           29         38\n",
       "99   235651            32           33         44\n",
       "101  235665            39           40         66\n",
       "107  235513            49           52         52\n",
       "108  235514            56           41         72\n",
       "109  235700            38           37         44"
      ]
     },
     "execution_count": 90,
     "metadata": {},
     "output_type": "execute_result"
    }
   ],
   "source": [
    "data[data['qtd_pag_word']!=data['qtd_pg_word']][['id','qtd_pag_word','qtd_pg_word','pag_final']]"
   ]
  },
  {
   "cell_type": "code",
   "execution_count": 91,
   "metadata": {
    "scrolled": true
   },
   "outputs": [
    {
     "data": {
      "text/html": [
       "<div>\n",
       "<style scoped>\n",
       "    .dataframe tbody tr th:only-of-type {\n",
       "        vertical-align: middle;\n",
       "    }\n",
       "\n",
       "    .dataframe tbody tr th {\n",
       "        vertical-align: top;\n",
       "    }\n",
       "\n",
       "    .dataframe thead th {\n",
       "        text-align: right;\n",
       "    }\n",
       "</style>\n",
       "<table border=\"1\" class=\"dataframe\">\n",
       "  <thead>\n",
       "    <tr style=\"text-align: right;\">\n",
       "      <th></th>\n",
       "      <th>id</th>\n",
       "      <th>qtd_pag_word</th>\n",
       "      <th>qtd_pg_word</th>\n",
       "      <th>pag_final</th>\n",
       "    </tr>\n",
       "  </thead>\n",
       "  <tbody>\n",
       "    <tr>\n",
       "      <th>10</th>\n",
       "      <td>228437</td>\n",
       "      <td>18</td>\n",
       "      <td>80</td>\n",
       "      <td>18</td>\n",
       "    </tr>\n",
       "    <tr>\n",
       "      <th>71</th>\n",
       "      <td>233893</td>\n",
       "      <td>66</td>\n",
       "      <td>77</td>\n",
       "      <td>98</td>\n",
       "    </tr>\n",
       "    <tr>\n",
       "      <th>74</th>\n",
       "      <td>233904</td>\n",
       "      <td>38</td>\n",
       "      <td>50</td>\n",
       "      <td>68</td>\n",
       "    </tr>\n",
       "  </tbody>\n",
       "</table>\n",
       "</div>"
      ],
      "text/plain": [
       "        id  qtd_pag_word  qtd_pg_word  pag_final\n",
       "10  228437            18           80         18\n",
       "71  233893            66           77         98\n",
       "74  233904            38           50         68"
      ]
     },
     "execution_count": 91,
     "metadata": {},
     "output_type": "execute_result"
    }
   ],
   "source": [
    "data[(data['qtd_pg_word']-data['qtd_pag_word'])>10][['id','qtd_pag_word','qtd_pg_word','pag_final']]"
   ]
  },
  {
   "cell_type": "code",
   "execution_count": 92,
   "metadata": {},
   "outputs": [
    {
     "data": {
      "text/html": [
       "<div>\n",
       "<style scoped>\n",
       "    .dataframe tbody tr th:only-of-type {\n",
       "        vertical-align: middle;\n",
       "    }\n",
       "\n",
       "    .dataframe tbody tr th {\n",
       "        vertical-align: top;\n",
       "    }\n",
       "\n",
       "    .dataframe thead th {\n",
       "        text-align: right;\n",
       "    }\n",
       "</style>\n",
       "<table border=\"1\" class=\"dataframe\">\n",
       "  <thead>\n",
       "    <tr style=\"text-align: right;\">\n",
       "      <th></th>\n",
       "      <th>id</th>\n",
       "      <th>qtd_pag_word</th>\n",
       "      <th>qtd_pg_word</th>\n",
       "      <th>pag_final</th>\n",
       "    </tr>\n",
       "  </thead>\n",
       "  <tbody>\n",
       "    <tr>\n",
       "      <th>10</th>\n",
       "      <td>228437</td>\n",
       "      <td>18</td>\n",
       "      <td>80</td>\n",
       "      <td>18</td>\n",
       "    </tr>\n",
       "    <tr>\n",
       "      <th>84</th>\n",
       "      <td>0</td>\n",
       "      <td>168</td>\n",
       "      <td>70</td>\n",
       "      <td>168</td>\n",
       "    </tr>\n",
       "    <tr>\n",
       "      <th>85</th>\n",
       "      <td>0</td>\n",
       "      <td>162</td>\n",
       "      <td>70</td>\n",
       "      <td>162</td>\n",
       "    </tr>\n",
       "  </tbody>\n",
       "</table>\n",
       "</div>"
      ],
      "text/plain": [
       "        id  qtd_pag_word  qtd_pg_word  pag_final\n",
       "10  228437            18           80         18\n",
       "84       0           168           70        168\n",
       "85       0           162           70        162"
      ]
     },
     "execution_count": 92,
     "metadata": {},
     "output_type": "execute_result"
    }
   ],
   "source": [
    "data[data['qtd_pag_word']==data['pag_final']][['id','qtd_pag_word','qtd_pg_word','pag_final']]\n"
   ]
  },
  {
   "cell_type": "code",
   "execution_count": 93,
   "metadata": {},
   "outputs": [
    {
     "data": {
      "text/html": [
       "<div>\n",
       "<style scoped>\n",
       "    .dataframe tbody tr th:only-of-type {\n",
       "        vertical-align: middle;\n",
       "    }\n",
       "\n",
       "    .dataframe tbody tr th {\n",
       "        vertical-align: top;\n",
       "    }\n",
       "\n",
       "    .dataframe thead th {\n",
       "        text-align: right;\n",
       "    }\n",
       "</style>\n",
       "<table border=\"1\" class=\"dataframe\">\n",
       "  <thead>\n",
       "    <tr style=\"text-align: right;\">\n",
       "      <th></th>\n",
       "      <th>id</th>\n",
       "      <th>qtd_pag_word</th>\n",
       "      <th>qtd_pg_word</th>\n",
       "      <th>pag_final</th>\n",
       "    </tr>\n",
       "  </thead>\n",
       "  <tbody>\n",
       "    <tr>\n",
       "      <th>10</th>\n",
       "      <td>228437</td>\n",
       "      <td>18</td>\n",
       "      <td>80</td>\n",
       "      <td>18</td>\n",
       "    </tr>\n",
       "  </tbody>\n",
       "</table>\n",
       "</div>"
      ],
      "text/plain": [
       "        id  qtd_pag_word  qtd_pg_word  pag_final\n",
       "10  228437            18           80         18"
      ]
     },
     "execution_count": 93,
     "metadata": {},
     "output_type": "execute_result"
    }
   ],
   "source": [
    "# Deletar linha quando a quantidade de pagina do word for igual a quantidade de pagina final\n",
    "\n",
    "# critério da diferença entre qtd pagina digitado e qtd pagina raspado do word\n",
    "criterio01= ((data['qtd_pg_word']-data['qtd_pag_word'])>10)\n",
    "\n",
    "# critério de qtd pagina digitado e qtd pagina da nota fiscal serem iguais\n",
    "criterio02=(data['qtd_pag_word']==data['pag_final'])\n",
    "data[(criterio02 & criterio01)][['id','qtd_pag_word','qtd_pg_word','pag_final']]\n"
   ]
  },
  {
   "cell_type": "code",
   "execution_count": 94,
   "metadata": {},
   "outputs": [],
   "source": [
    "# Deletar linha quando a quantidade de pagina do word for igual a quantidade de pagina final\n",
    "# caso que o \n",
    "data = data[~(criterio02 & criterio01)]"
   ]
  },
  {
   "cell_type": "code",
   "execution_count": 95,
   "metadata": {
    "scrolled": true
   },
   "outputs": [
    {
     "name": "stdout",
     "output_type": "stream",
     "text": [
      "7\n",
      "58\n",
      "46\n"
     ]
    }
   ],
   "source": [
    "# tentanto estatificar o dataframe\n",
    "print(len(data[data[\"pag_final\"]>149]))\n",
    "print(len(data[(data[\"pag_final\"]>59) & (data[\"pag_final\"]<150)]))\n",
    "print(len(data[data[\"pag_final\"]<60]))"
   ]
  },
  {
   "cell_type": "code",
   "execution_count": 96,
   "metadata": {},
   "outputs": [
    {
     "name": "stdout",
     "output_type": "stream",
     "text": [
      "10\n",
      "82\n",
      "19\n"
     ]
    }
   ],
   "source": [
    "print(len(data[data[\"tamanho_livro\"]==2]))\n",
    "print(len(data[data[\"tamanho_livro\"]==1]))\n",
    "print(len(data[data[\"tamanho_livro\"]==0]))"
   ]
  },
  {
   "cell_type": "code",
   "execution_count": 97,
   "metadata": {
    "scrolled": false
   },
   "outputs": [],
   "source": [
    "#data[\"pag_final\"].to_numpy()"
   ]
  },
  {
   "cell_type": "code",
   "execution_count": 98,
   "metadata": {},
   "outputs": [],
   "source": [
    "# Lambda function with if, elif & else i.e.\n",
    "# If the given value is less than 10 then Multiplies it by 2\n",
    "# else if it's between 10 to 20 the multiplies it by 3\n",
    "# else returns the unmodified same value\n",
    "#converter = lambda x : x*2 if x < 10 else (x*3 if x < 20 else x)"
   ]
  },
  {
   "cell_type": "code",
   "execution_count": 99,
   "metadata": {},
   "outputs": [],
   "source": [
    "#list(map(lambda banco: banco>149, data['qtd_pag_word']))\n"
   ]
  },
  {
   "cell_type": "code",
   "execution_count": 100,
   "metadata": {},
   "outputs": [],
   "source": [
    "#list(filter(lambda banco: banco>149, data['qtd_pag_word']))"
   ]
  },
  {
   "cell_type": "code",
   "execution_count": 101,
   "metadata": {},
   "outputs": [],
   "source": [
    "\n",
    "#lambda_function = lambda x: x*2 if x<3 else x\n",
    "#lambda_function(2)"
   ]
  },
  {
   "cell_type": "markdown",
   "metadata": {},
   "source": [
    "# fazer um critério de seleção de dados:\n",
    "### se o dado colhido na tabela (qtd_pag_word) tiver diferente da raspagem do word (qtd_pg_word) mais de 5 pontos deve retirar do arquivo de entrada. \n",
    "###  - incluir a coluna raspagem do word (qtd_pg_word)  para treinamento"
   ]
  },
  {
   "cell_type": "code",
   "execution_count": 102,
   "metadata": {},
   "outputs": [
    {
     "data": {
      "text/plain": [
       "111"
      ]
     },
     "execution_count": 102,
     "metadata": {},
     "output_type": "execute_result"
    }
   ],
   "source": [
    "data['id'].count()"
   ]
  },
  {
   "cell_type": "code",
   "execution_count": 103,
   "metadata": {},
   "outputs": [],
   "source": [
    "#\n",
    "# normalizar a quantidade de caracteres\n",
    "#\n",
    "\n",
    "# X[\"qtd_carc_normal\"]=(X.qtd_carc-X.qtd_carc.min())/(X.qtd_carc.max()-X.qtd_carc.min())"
   ]
  },
  {
   "cell_type": "code",
   "execution_count": 104,
   "metadata": {
    "scrolled": true
   },
   "outputs": [
    {
     "data": {
      "text/html": [
       "<div>\n",
       "<style scoped>\n",
       "    .dataframe tbody tr th:only-of-type {\n",
       "        vertical-align: middle;\n",
       "    }\n",
       "\n",
       "    .dataframe tbody tr th {\n",
       "        vertical-align: top;\n",
       "    }\n",
       "\n",
       "    .dataframe thead th {\n",
       "        text-align: right;\n",
       "    }\n",
       "</style>\n",
       "<table border=\"1\" class=\"dataframe\">\n",
       "  <thead>\n",
       "    <tr style=\"text-align: right;\">\n",
       "      <th></th>\n",
       "      <th>id</th>\n",
       "      <th>entidade</th>\n",
       "      <th>fornecedor</th>\n",
       "      <th>complexidade</th>\n",
       "      <th>stat_pagto</th>\n",
       "      <th>qtd_pag_word</th>\n",
       "      <th>qtd_pag_estimado</th>\n",
       "      <th>qtd_pg_word</th>\n",
       "      <th>qtd_carc</th>\n",
       "      <th>qtd_tabela</th>\n",
       "      <th>qtd_image</th>\n",
       "      <th>qtd_estilos</th>\n",
       "      <th>pag_final</th>\n",
       "      <th>tamanho_livro</th>\n",
       "    </tr>\n",
       "  </thead>\n",
       "  <tbody>\n",
       "    <tr>\n",
       "      <th>count</th>\n",
       "      <td>111.000000</td>\n",
       "      <td>111.000000</td>\n",
       "      <td>111.000000</td>\n",
       "      <td>111.000000</td>\n",
       "      <td>111.0</td>\n",
       "      <td>111.000000</td>\n",
       "      <td>111.000000</td>\n",
       "      <td>111.000000</td>\n",
       "      <td>111.000000</td>\n",
       "      <td>111.000000</td>\n",
       "      <td>111.000000</td>\n",
       "      <td>111.000000</td>\n",
       "      <td>111.000000</td>\n",
       "      <td>111.000000</td>\n",
       "    </tr>\n",
       "    <tr>\n",
       "      <th>mean</th>\n",
       "      <td>224242.603604</td>\n",
       "      <td>0.279279</td>\n",
       "      <td>0.054054</td>\n",
       "      <td>1.432432</td>\n",
       "      <td>0.0</td>\n",
       "      <td>58.468468</td>\n",
       "      <td>92.504505</td>\n",
       "      <td>54.702703</td>\n",
       "      <td>82834.531532</td>\n",
       "      <td>299.027027</td>\n",
       "      <td>404.324324</td>\n",
       "      <td>26.540541</td>\n",
       "      <td>77.279279</td>\n",
       "      <td>0.918919</td>\n",
       "    </tr>\n",
       "    <tr>\n",
       "      <th>std</th>\n",
       "      <td>43642.966272</td>\n",
       "      <td>0.605598</td>\n",
       "      <td>0.227150</td>\n",
       "      <td>0.626993</td>\n",
       "      <td>0.0</td>\n",
       "      <td>41.329237</td>\n",
       "      <td>60.922883</td>\n",
       "      <td>38.699917</td>\n",
       "      <td>83796.069234</td>\n",
       "      <td>183.089916</td>\n",
       "      <td>236.267728</td>\n",
       "      <td>13.092527</td>\n",
       "      <td>53.474067</td>\n",
       "      <td>0.506954</td>\n",
       "    </tr>\n",
       "    <tr>\n",
       "      <th>min</th>\n",
       "      <td>0.000000</td>\n",
       "      <td>0.000000</td>\n",
       "      <td>0.000000</td>\n",
       "      <td>0.000000</td>\n",
       "      <td>0.0</td>\n",
       "      <td>12.000000</td>\n",
       "      <td>35.000000</td>\n",
       "      <td>1.000000</td>\n",
       "      <td>12032.000000</td>\n",
       "      <td>2.000000</td>\n",
       "      <td>2.000000</td>\n",
       "      <td>3.000000</td>\n",
       "      <td>22.000000</td>\n",
       "      <td>0.000000</td>\n",
       "    </tr>\n",
       "    <tr>\n",
       "      <th>25%</th>\n",
       "      <td>230752.000000</td>\n",
       "      <td>0.000000</td>\n",
       "      <td>0.000000</td>\n",
       "      <td>1.000000</td>\n",
       "      <td>0.0</td>\n",
       "      <td>32.500000</td>\n",
       "      <td>48.000000</td>\n",
       "      <td>29.000000</td>\n",
       "      <td>31167.000000</td>\n",
       "      <td>135.000000</td>\n",
       "      <td>178.000000</td>\n",
       "      <td>18.000000</td>\n",
       "      <td>45.000000</td>\n",
       "      <td>1.000000</td>\n",
       "    </tr>\n",
       "    <tr>\n",
       "      <th>50%</th>\n",
       "      <td>233269.000000</td>\n",
       "      <td>0.000000</td>\n",
       "      <td>0.000000</td>\n",
       "      <td>1.000000</td>\n",
       "      <td>0.0</td>\n",
       "      <td>46.000000</td>\n",
       "      <td>75.000000</td>\n",
       "      <td>46.000000</td>\n",
       "      <td>64211.000000</td>\n",
       "      <td>307.000000</td>\n",
       "      <td>424.000000</td>\n",
       "      <td>23.000000</td>\n",
       "      <td>68.000000</td>\n",
       "      <td>1.000000</td>\n",
       "    </tr>\n",
       "    <tr>\n",
       "      <th>75%</th>\n",
       "      <td>235309.000000</td>\n",
       "      <td>0.000000</td>\n",
       "      <td>0.000000</td>\n",
       "      <td>2.000000</td>\n",
       "      <td>0.0</td>\n",
       "      <td>74.500000</td>\n",
       "      <td>110.000000</td>\n",
       "      <td>70.000000</td>\n",
       "      <td>101969.000000</td>\n",
       "      <td>448.500000</td>\n",
       "      <td>559.500000</td>\n",
       "      <td>28.500000</td>\n",
       "      <td>90.000000</td>\n",
       "      <td>1.000000</td>\n",
       "    </tr>\n",
       "    <tr>\n",
       "      <th>max</th>\n",
       "      <td>235831.000000</td>\n",
       "      <td>2.000000</td>\n",
       "      <td>1.000000</td>\n",
       "      <td>3.000000</td>\n",
       "      <td>0.0</td>\n",
       "      <td>216.000000</td>\n",
       "      <td>420.000000</td>\n",
       "      <td>216.000000</td>\n",
       "      <td>571640.000000</td>\n",
       "      <td>604.000000</td>\n",
       "      <td>872.000000</td>\n",
       "      <td>71.000000</td>\n",
       "      <td>340.000000</td>\n",
       "      <td>2.000000</td>\n",
       "    </tr>\n",
       "  </tbody>\n",
       "</table>\n",
       "</div>"
      ],
      "text/plain": [
       "                  id    entidade  fornecedor  complexidade  stat_pagto  \\\n",
       "count     111.000000  111.000000  111.000000    111.000000       111.0   \n",
       "mean   224242.603604    0.279279    0.054054      1.432432         0.0   \n",
       "std     43642.966272    0.605598    0.227150      0.626993         0.0   \n",
       "min         0.000000    0.000000    0.000000      0.000000         0.0   \n",
       "25%    230752.000000    0.000000    0.000000      1.000000         0.0   \n",
       "50%    233269.000000    0.000000    0.000000      1.000000         0.0   \n",
       "75%    235309.000000    0.000000    0.000000      2.000000         0.0   \n",
       "max    235831.000000    2.000000    1.000000      3.000000         0.0   \n",
       "\n",
       "       qtd_pag_word  qtd_pag_estimado  qtd_pg_word       qtd_carc  qtd_tabela  \\\n",
       "count    111.000000        111.000000   111.000000     111.000000  111.000000   \n",
       "mean      58.468468         92.504505    54.702703   82834.531532  299.027027   \n",
       "std       41.329237         60.922883    38.699917   83796.069234  183.089916   \n",
       "min       12.000000         35.000000     1.000000   12032.000000    2.000000   \n",
       "25%       32.500000         48.000000    29.000000   31167.000000  135.000000   \n",
       "50%       46.000000         75.000000    46.000000   64211.000000  307.000000   \n",
       "75%       74.500000        110.000000    70.000000  101969.000000  448.500000   \n",
       "max      216.000000        420.000000   216.000000  571640.000000  604.000000   \n",
       "\n",
       "        qtd_image  qtd_estilos   pag_final  tamanho_livro  \n",
       "count  111.000000   111.000000  111.000000     111.000000  \n",
       "mean   404.324324    26.540541   77.279279       0.918919  \n",
       "std    236.267728    13.092527   53.474067       0.506954  \n",
       "min      2.000000     3.000000   22.000000       0.000000  \n",
       "25%    178.000000    18.000000   45.000000       1.000000  \n",
       "50%    424.000000    23.000000   68.000000       1.000000  \n",
       "75%    559.500000    28.500000   90.000000       1.000000  \n",
       "max    872.000000    71.000000  340.000000       2.000000  "
      ]
     },
     "execution_count": 104,
     "metadata": {},
     "output_type": "execute_result"
    }
   ],
   "source": [
    "data.describe()"
   ]
  },
  {
   "cell_type": "markdown",
   "metadata": {},
   "source": [
    "# Normalizar?"
   ]
  },
  {
   "cell_type": "code",
   "execution_count": 105,
   "metadata": {},
   "outputs": [],
   "source": [
    "# padronização/escalonamento dos dados.\n",
    "#\n",
    "# Escalas Diferentes Podem Ser um Problema? Normalizar?\n",
    "# https://www.linkedin.com/pulse/pr%C3%A9-processamento-de-dados-intui%C3%A7%C3%A3o-e-pr%C3%A1tica-em-lucas-thiago-zane/\n",
    "# https://medium.com/tentando-ser-um-unic%C3%B3rnio/porqu%C3%AA-e-quando-%C3%A9-necess%C3%A1rio-normalizar-os-dados-92e5cce445aa\n",
    "#\n",
    "#"
   ]
  },
  {
   "cell_type": "code",
   "execution_count": 106,
   "metadata": {},
   "outputs": [],
   "source": [
    "# O objetivo da normalização é alterar os valores das colunas numéricas no conjunto de dados para uma escala comum,\n",
    "# sem distorcer as diferenças nos intervalos de valores.\n",
    "# Esse método é necessário apenas quando os parâmetros tiverem intervalos muito diferentes."
   ]
  },
  {
   "cell_type": "code",
   "execution_count": 107,
   "metadata": {},
   "outputs": [],
   "source": [
    "# a normalização não é necessária para a Regressão Logística.\n",
    "# a normalização poderá fazer sentido no tratamento de outliers.\n",
    "# Deixar variáveis com escalas similares é algo importante em algoritmos que trabalham com distâncias euclidianas,\n",
    "# como é o caso das regressões lineares multivariadas.\n",
    "# random florest não envolvem o uso de distâncias euclidianas."
   ]
  },
  {
   "attachments": {
    "image.png": {
     "image/png": "[encoded data removed]"
    }
   },
   "cell_type": "markdown",
   "metadata": {},
   "source": [
    "![image.png](attachment:image.png)"
   ]
  },
  {
   "cell_type": "code",
   "execution_count": 108,
   "metadata": {},
   "outputs": [],
   "source": [
    "# O que essa fórmula está dizendo é que pra cada observação em ambas as variáveis,\n",
    "# eu respondo a seguinte pergunta:quantos desvios padrões esse valor está longe da média? "
   ]
  },
  {
   "cell_type": "code",
   "execution_count": 109,
   "metadata": {},
   "outputs": [],
   "source": [
    "# “E se eu quiser modelar um classificador usando Regressão Logística, eu precisaria normalizar meus dados?”\n",
    "# Tecnicamente falando, a normalização não é necessária para a Regressão Logística, \n",
    "# pois ela trata com probabilidades relacionadas as classes envolvidas, \n",
    "# se preocupa em desenhar um “fronteira” de decisão em torno de um limiar (o famoso threshold).\n",
    "# Deixar variáveis com escalas similares é algo importante em algoritmos que trabalham com distâncias euclidianas, \n",
    "# como é o caso das regressões lineares multivariadas. "
   ]
  },
  {
   "cell_type": "code",
   "execution_count": 110,
   "metadata": {},
   "outputs": [],
   "source": [
    "# Os algoritmos de otimização:\n",
    "#Adaptive Gradient (AdaGrad)\n",
    "#Stochastic Gradient Descent (SGD)\n",
    "#Gradiente Descendente com Momentum (momentum)\n",
    "#Adaptative Delta Learning (adadelta)\n",
    "#Nesterov Accelerated Gradient (nag)\n",
    "#Otimizador RMSprop (rmsprop)\n"
   ]
  },
  {
   "cell_type": "markdown",
   "metadata": {},
   "source": [
    "### normalização (StandardScaler)\n",
    "\n",
    "from sklearn.preprocessing import StandardScaler\n",
    "\n",
    "- sc_X = StandardScaler()\n",
    "- X_train = sc_X.fit_transform(X_train)\n",
    "- X_test = sc_X.transform(X_test)\n",
    "\n",
    "- sc_y = StandardScaler()\n",
    "- y_train = sc_y.fit_transform(y_train)"
   ]
  },
  {
   "cell_type": "markdown",
   "metadata": {},
   "source": [
    "#### Uma maneira fácil de usar o Pandas : (aqui eu quero usar a normalização média)\n",
    "\n",
    "- normalized_df=(df-df.mean())/df.std()\n",
    "#### para usar a normalização min-max:\n",
    "\n",
    "- normalized_df=(df-df.min())/(df.max()-df.min())"
   ]
  },
  {
   "cell_type": "markdown",
   "metadata": {},
   "source": [
    "#### Você pode usar o pacote sklearn e seus utilitários de pré-processamento associados para normalizar os dados.\n",
    "\n",
    "- import pandas as pd\n",
    "- from sklearn import preprocessing\n",
    "\n",
    "- x = df.values #returns a numpy array\n",
    "- min_max_scaler = preprocessing.MinMaxScaler()\n",
    "- x_scaled = min_max_scaler.fit_transform(x)\n",
    "- df = pd.DataFrame(x_scaled)"
   ]
  },
  {
   "cell_type": "code",
   "execution_count": 111,
   "metadata": {},
   "outputs": [],
   "source": [
    "#\n",
    "# normalizar a quantidade de caracteres\n",
    "#\n",
    "data.loc[:,'qtd_carc_normal'] = pd.Series((data.qtd_carc-data.qtd_carc.min())/(data.qtd_carc.max()-data.qtd_carc.min()))"
   ]
  },
  {
   "cell_type": "code",
   "execution_count": 112,
   "metadata": {},
   "outputs": [],
   "source": [
    "#########################################################\n",
    "# INÍCIO DA PARTE DE MACHINE LEARNIG  \\\n",
    "# RANDOM FOREST\n",
    "########################################################"
   ]
  },
  {
   "cell_type": "code",
   "execution_count": 113,
   "metadata": {},
   "outputs": [],
   "source": [
    "# instalar biblioteca scikit-learn\n",
    "#! pip install -U scikit-learn"
   ]
  },
  {
   "cell_type": "code",
   "execution_count": 114,
   "metadata": {},
   "outputs": [
    {
     "data": {
      "text/plain": [
       "Index(['id', 'entidade', 'fornecedor', 'complexidade', 'stat_pagto',\n",
       "       'qtd_pag_word', 'qtd_pag_estimado', 'qtd_pg_word', 'qtd_carc',\n",
       "       'qtd_tabela', 'qtd_image', 'qtd_estilos', 'pag_final', 'tamanho_livro',\n",
       "       'qtd_carc_normal'],\n",
       "      dtype='object')"
      ]
     },
     "execution_count": 114,
     "metadata": {},
     "output_type": "execute_result"
    }
   ],
   "source": [
    "data.columns"
   ]
  },
  {
   "cell_type": "code",
   "execution_count": 115,
   "metadata": {},
   "outputs": [],
   "source": [
    "#colunas_X= ['qtd_pag_word', 'qtd_carc','qtd_tabela','qtd_image',\"qtd_estilos\"]\n",
    "#colunas_X= ['qtd_pag_word', 'qtd_tabela','qtd_image',\"qtd_estilos\", 'qtd_carc_normal']\n",
    "#colunas_X= ['qtd_pag_word', 'qtd_tabela','qtd_image','qtd_carc_normal']\n",
    "#colunas_X= ['qtd_pag_word', 'qtd_carc','qtd_tabela','qtd_image']\n",
    "#colunas_X= ['qtd_pag_word', 'qtd_tabela','qtd_image', 'qtd_carc_normal']\n",
    "\n",
    "\n",
    "colunas_X= ['complexidade','entidade','qtd_pag_word', 'qtd_pg_word','qtd_tabela','qtd_image', 'qtd_carc','tamanho_livro']\n",
    "\n",
    "#colunas_X= ['qtd_pag_word', 'qtd_pg_word','qtd_tabela','qtd_image','qtd_carc','tamanho_livro']\n",
    "\n",
    "\n",
    "colunas_y=['pag_final']\n",
    "X = data[colunas_X]\n",
    "y = data[colunas_y]"
   ]
  },
  {
   "cell_type": "code",
   "execution_count": 116,
   "metadata": {},
   "outputs": [
    {
     "data": {
      "text/plain": [
       "Index(['complexidade', 'entidade', 'qtd_pag_word', 'qtd_pg_word', 'qtd_tabela',\n",
       "       'qtd_image', 'qtd_carc', 'tamanho_livro'],\n",
       "      dtype='object')"
      ]
     },
     "execution_count": 116,
     "metadata": {},
     "output_type": "execute_result"
    }
   ],
   "source": [
    "X.columns"
   ]
  },
  {
   "cell_type": "code",
   "execution_count": 117,
   "metadata": {},
   "outputs": [],
   "source": [
    "# método train_test_split, Scikit-Learn \n",
    "X_train_f, X_test_f, y_train_f, y_test_f = train_test_split(X, y, test_size=0.10, random_state=1,stratify=X['tamanho_livro'])"
   ]
  },
  {
   "cell_type": "code",
   "execution_count": 118,
   "metadata": {},
   "outputs": [
    {
     "data": {
      "text/plain": [
       "((99, 8), (12, 8), (99, 1), (12, 1))"
      ]
     },
     "execution_count": 118,
     "metadata": {},
     "output_type": "execute_result"
    }
   ],
   "source": [
    "X_train_f.shape, X_test_f.shape, y_train_f.shape, y_test_f.shape"
   ]
  },
  {
   "cell_type": "code",
   "execution_count": 119,
   "metadata": {},
   "outputs": [
    {
     "data": {
      "text/html": [
       "<div>\n",
       "<style scoped>\n",
       "    .dataframe tbody tr th:only-of-type {\n",
       "        vertical-align: middle;\n",
       "    }\n",
       "\n",
       "    .dataframe tbody tr th {\n",
       "        vertical-align: top;\n",
       "    }\n",
       "\n",
       "    .dataframe thead th {\n",
       "        text-align: right;\n",
       "    }\n",
       "</style>\n",
       "<table border=\"1\" class=\"dataframe\">\n",
       "  <thead>\n",
       "    <tr style=\"text-align: right;\">\n",
       "      <th></th>\n",
       "      <th>pag_final</th>\n",
       "    </tr>\n",
       "  </thead>\n",
       "  <tbody>\n",
       "    <tr>\n",
       "      <th>71</th>\n",
       "      <td>98</td>\n",
       "    </tr>\n",
       "    <tr>\n",
       "      <th>20</th>\n",
       "      <td>110</td>\n",
       "    </tr>\n",
       "    <tr>\n",
       "      <th>39</th>\n",
       "      <td>48</td>\n",
       "    </tr>\n",
       "    <tr>\n",
       "      <th>17</th>\n",
       "      <td>70</td>\n",
       "    </tr>\n",
       "    <tr>\n",
       "      <th>69</th>\n",
       "      <td>176</td>\n",
       "    </tr>\n",
       "  </tbody>\n",
       "</table>\n",
       "</div>"
      ],
      "text/plain": [
       "    pag_final\n",
       "71         98\n",
       "20        110\n",
       "39         48\n",
       "17         70\n",
       "69        176"
      ]
     },
     "execution_count": 119,
     "metadata": {},
     "output_type": "execute_result"
    }
   ],
   "source": [
    "y_test_f.head()"
   ]
  },
  {
   "cell_type": "code",
   "execution_count": 120,
   "metadata": {},
   "outputs": [
    {
     "data": {
      "text/html": [
       "<div>\n",
       "<style scoped>\n",
       "    .dataframe tbody tr th:only-of-type {\n",
       "        vertical-align: middle;\n",
       "    }\n",
       "\n",
       "    .dataframe tbody tr th {\n",
       "        vertical-align: top;\n",
       "    }\n",
       "\n",
       "    .dataframe thead th {\n",
       "        text-align: right;\n",
       "    }\n",
       "</style>\n",
       "<table border=\"1\" class=\"dataframe\">\n",
       "  <thead>\n",
       "    <tr style=\"text-align: right;\">\n",
       "      <th></th>\n",
       "      <th>complexidade</th>\n",
       "      <th>entidade</th>\n",
       "      <th>qtd_pag_word</th>\n",
       "      <th>qtd_pg_word</th>\n",
       "      <th>qtd_tabela</th>\n",
       "      <th>qtd_image</th>\n",
       "      <th>qtd_carc</th>\n",
       "      <th>tamanho_livro</th>\n",
       "    </tr>\n",
       "  </thead>\n",
       "  <tbody>\n",
       "    <tr>\n",
       "      <th>31</th>\n",
       "      <td>1</td>\n",
       "      <td>0</td>\n",
       "      <td>81</td>\n",
       "      <td>81</td>\n",
       "      <td>468</td>\n",
       "      <td>717</td>\n",
       "      <td>105732</td>\n",
       "      <td>1</td>\n",
       "    </tr>\n",
       "    <tr>\n",
       "      <th>74</th>\n",
       "      <td>1</td>\n",
       "      <td>0</td>\n",
       "      <td>38</td>\n",
       "      <td>50</td>\n",
       "      <td>174</td>\n",
       "      <td>298</td>\n",
       "      <td>73461</td>\n",
       "      <td>1</td>\n",
       "    </tr>\n",
       "    <tr>\n",
       "      <th>81</th>\n",
       "      <td>1</td>\n",
       "      <td>0</td>\n",
       "      <td>86</td>\n",
       "      <td>86</td>\n",
       "      <td>112</td>\n",
       "      <td>182</td>\n",
       "      <td>101971</td>\n",
       "      <td>1</td>\n",
       "    </tr>\n",
       "    <tr>\n",
       "      <th>0</th>\n",
       "      <td>1</td>\n",
       "      <td>0</td>\n",
       "      <td>87</td>\n",
       "      <td>87</td>\n",
       "      <td>505</td>\n",
       "      <td>742</td>\n",
       "      <td>116142</td>\n",
       "      <td>2</td>\n",
       "    </tr>\n",
       "    <tr>\n",
       "      <th>28</th>\n",
       "      <td>1</td>\n",
       "      <td>2</td>\n",
       "      <td>83</td>\n",
       "      <td>92</td>\n",
       "      <td>153</td>\n",
       "      <td>261</td>\n",
       "      <td>186373</td>\n",
       "      <td>1</td>\n",
       "    </tr>\n",
       "    <tr>\n",
       "      <th>...</th>\n",
       "      <td>...</td>\n",
       "      <td>...</td>\n",
       "      <td>...</td>\n",
       "      <td>...</td>\n",
       "      <td>...</td>\n",
       "      <td>...</td>\n",
       "      <td>...</td>\n",
       "      <td>...</td>\n",
       "    </tr>\n",
       "    <tr>\n",
       "      <th>61</th>\n",
       "      <td>1</td>\n",
       "      <td>0</td>\n",
       "      <td>56</td>\n",
       "      <td>56</td>\n",
       "      <td>516</td>\n",
       "      <td>518</td>\n",
       "      <td>87983</td>\n",
       "      <td>1</td>\n",
       "    </tr>\n",
       "    <tr>\n",
       "      <th>102</th>\n",
       "      <td>1</td>\n",
       "      <td>0</td>\n",
       "      <td>73</td>\n",
       "      <td>73</td>\n",
       "      <td>219</td>\n",
       "      <td>351</td>\n",
       "      <td>162582</td>\n",
       "      <td>1</td>\n",
       "    </tr>\n",
       "    <tr>\n",
       "      <th>99</th>\n",
       "      <td>2</td>\n",
       "      <td>0</td>\n",
       "      <td>32</td>\n",
       "      <td>33</td>\n",
       "      <td>2</td>\n",
       "      <td>2</td>\n",
       "      <td>29683</td>\n",
       "      <td>1</td>\n",
       "    </tr>\n",
       "    <tr>\n",
       "      <th>66</th>\n",
       "      <td>2</td>\n",
       "      <td>1</td>\n",
       "      <td>22</td>\n",
       "      <td>21</td>\n",
       "      <td>451</td>\n",
       "      <td>480</td>\n",
       "      <td>29631</td>\n",
       "      <td>1</td>\n",
       "    </tr>\n",
       "    <tr>\n",
       "      <th>106</th>\n",
       "      <td>2</td>\n",
       "      <td>0</td>\n",
       "      <td>28</td>\n",
       "      <td>28</td>\n",
       "      <td>425</td>\n",
       "      <td>439</td>\n",
       "      <td>25136</td>\n",
       "      <td>0</td>\n",
       "    </tr>\n",
       "  </tbody>\n",
       "</table>\n",
       "<p>99 rows × 8 columns</p>\n",
       "</div>"
      ],
      "text/plain": [
       "     complexidade  entidade  qtd_pag_word  qtd_pg_word  qtd_tabela  qtd_image  \\\n",
       "31              1         0            81           81         468        717   \n",
       "74              1         0            38           50         174        298   \n",
       "81              1         0            86           86         112        182   \n",
       "0               1         0            87           87         505        742   \n",
       "28              1         2            83           92         153        261   \n",
       "..            ...       ...           ...          ...         ...        ...   \n",
       "61              1         0            56           56         516        518   \n",
       "102             1         0            73           73         219        351   \n",
       "99              2         0            32           33           2          2   \n",
       "66              2         1            22           21         451        480   \n",
       "106             2         0            28           28         425        439   \n",
       "\n",
       "     qtd_carc  tamanho_livro  \n",
       "31     105732              1  \n",
       "74      73461              1  \n",
       "81     101971              1  \n",
       "0      116142              2  \n",
       "28     186373              1  \n",
       "..        ...            ...  \n",
       "61      87983              1  \n",
       "102    162582              1  \n",
       "99      29683              1  \n",
       "66      29631              1  \n",
       "106     25136              0  \n",
       "\n",
       "[99 rows x 8 columns]"
      ]
     },
     "execution_count": 120,
     "metadata": {},
     "output_type": "execute_result"
    }
   ],
   "source": [
    "X_train_f"
   ]
  },
  {
   "cell_type": "code",
   "execution_count": 121,
   "metadata": {},
   "outputs": [
    {
     "data": {
      "text/plain": [
       "complexidade     int64\n",
       "entidade         int64\n",
       "qtd_pag_word     int64\n",
       "qtd_pg_word      int64\n",
       "qtd_tabela       int64\n",
       "qtd_image        int64\n",
       "qtd_carc         int64\n",
       "tamanho_livro    int64\n",
       "dtype: object"
      ]
     },
     "execution_count": 121,
     "metadata": {},
     "output_type": "execute_result"
    }
   ],
   "source": [
    "X_train_f.dtypes"
   ]
  },
  {
   "cell_type": "code",
   "execution_count": 122,
   "metadata": {},
   "outputs": [
    {
     "data": {
      "text/html": [
       "<div>\n",
       "<style scoped>\n",
       "    .dataframe tbody tr th:only-of-type {\n",
       "        vertical-align: middle;\n",
       "    }\n",
       "\n",
       "    .dataframe tbody tr th {\n",
       "        vertical-align: top;\n",
       "    }\n",
       "\n",
       "    .dataframe thead th {\n",
       "        text-align: right;\n",
       "    }\n",
       "</style>\n",
       "<table border=\"1\" class=\"dataframe\">\n",
       "  <thead>\n",
       "    <tr style=\"text-align: right;\">\n",
       "      <th></th>\n",
       "      <th>pag_final</th>\n",
       "    </tr>\n",
       "  </thead>\n",
       "  <tbody>\n",
       "    <tr>\n",
       "      <th>31</th>\n",
       "      <td>100</td>\n",
       "    </tr>\n",
       "    <tr>\n",
       "      <th>74</th>\n",
       "      <td>68</td>\n",
       "    </tr>\n",
       "    <tr>\n",
       "      <th>81</th>\n",
       "      <td>82</td>\n",
       "    </tr>\n",
       "    <tr>\n",
       "      <th>0</th>\n",
       "      <td>140</td>\n",
       "    </tr>\n",
       "    <tr>\n",
       "      <th>28</th>\n",
       "      <td>112</td>\n",
       "    </tr>\n",
       "    <tr>\n",
       "      <th>...</th>\n",
       "      <td>...</td>\n",
       "    </tr>\n",
       "    <tr>\n",
       "      <th>61</th>\n",
       "      <td>66</td>\n",
       "    </tr>\n",
       "    <tr>\n",
       "      <th>102</th>\n",
       "      <td>110</td>\n",
       "    </tr>\n",
       "    <tr>\n",
       "      <th>99</th>\n",
       "      <td>44</td>\n",
       "    </tr>\n",
       "    <tr>\n",
       "      <th>66</th>\n",
       "      <td>30</td>\n",
       "    </tr>\n",
       "    <tr>\n",
       "      <th>106</th>\n",
       "      <td>42</td>\n",
       "    </tr>\n",
       "  </tbody>\n",
       "</table>\n",
       "<p>99 rows × 1 columns</p>\n",
       "</div>"
      ],
      "text/plain": [
       "     pag_final\n",
       "31         100\n",
       "74          68\n",
       "81          82\n",
       "0          140\n",
       "28         112\n",
       "..         ...\n",
       "61          66\n",
       "102        110\n",
       "99          44\n",
       "66          30\n",
       "106         42\n",
       "\n",
       "[99 rows x 1 columns]"
      ]
     },
     "execution_count": 122,
     "metadata": {},
     "output_type": "execute_result"
    }
   ],
   "source": [
    "y_train_f"
   ]
  },
  {
   "cell_type": "code",
   "execution_count": 123,
   "metadata": {},
   "outputs": [
    {
     "name": "stdout",
     "output_type": "stream",
     "text": [
      "(99, 8) (99, 1)\n"
     ]
    }
   ],
   "source": [
    "print(X_train_f.shape,y_train_f.shape)"
   ]
  },
  {
   "cell_type": "code",
   "execution_count": 124,
   "metadata": {},
   "outputs": [
    {
     "name": "stdout",
     "output_type": "stream",
     "text": [
      "(99, 8) (99,)\n"
     ]
    }
   ],
   "source": [
    "print(X_train_f.shape,y_train_f.values.ravel().shape)"
   ]
  },
  {
   "cell_type": "code",
   "execution_count": 125,
   "metadata": {},
   "outputs": [],
   "source": [
    "modelo = RandomForestClassifier(n_estimators=100, n_jobs=-1, random_state=0)\n",
    "#modelo = RandomForestClassifier(n_estimators=100, n_jobs=-1, random_state=0)\n",
    "\n",
    "#modelo.fit(X_train_f, y_train_f)\n",
    "modelo = modelo.fit(X_train_f, y_train_f.values.ravel())\n",
    "\n",
    "# https://stackoverflow.com/questions/34165731/a-column-vector-y-was-passed-when-a-1d-array-was-expected\n",
    "#.values will give the values in an array. (shape: (n,1)\n",
    "#.ravel will convert that array shape to   (n, )"
   ]
  },
  {
   "cell_type": "code",
   "execution_count": 126,
   "metadata": {},
   "outputs": [],
   "source": [
    "p = modelo.predict(X_test_f)"
   ]
  },
  {
   "cell_type": "code",
   "execution_count": 127,
   "metadata": {},
   "outputs": [
    {
     "data": {
      "text/plain": [
       "array([ 86,  84,  40,  76, 126,  68,  84,  48,  76,  46,  72,  38])"
      ]
     },
     "execution_count": 127,
     "metadata": {},
     "output_type": "execute_result"
    }
   ],
   "source": [
    "p"
   ]
  },
  {
   "cell_type": "code",
   "execution_count": 128,
   "metadata": {},
   "outputs": [
    {
     "name": "stdout",
     "output_type": "stream",
     "text": [
      "(12,) (12, 1)\n"
     ]
    }
   ],
   "source": [
    "print(p.shape,y_test_f.shape)"
   ]
  },
  {
   "cell_type": "code",
   "execution_count": 129,
   "metadata": {},
   "outputs": [
    {
     "data": {
      "text/html": [
       "<div>\n",
       "<style scoped>\n",
       "    .dataframe tbody tr th:only-of-type {\n",
       "        vertical-align: middle;\n",
       "    }\n",
       "\n",
       "    .dataframe tbody tr th {\n",
       "        vertical-align: top;\n",
       "    }\n",
       "\n",
       "    .dataframe thead th {\n",
       "        text-align: right;\n",
       "    }\n",
       "</style>\n",
       "<table border=\"1\" class=\"dataframe\">\n",
       "  <thead>\n",
       "    <tr style=\"text-align: right;\">\n",
       "      <th></th>\n",
       "      <th>pag_final</th>\n",
       "    </tr>\n",
       "  </thead>\n",
       "  <tbody>\n",
       "    <tr>\n",
       "      <th>71</th>\n",
       "      <td>98</td>\n",
       "    </tr>\n",
       "    <tr>\n",
       "      <th>20</th>\n",
       "      <td>110</td>\n",
       "    </tr>\n",
       "    <tr>\n",
       "      <th>39</th>\n",
       "      <td>48</td>\n",
       "    </tr>\n",
       "    <tr>\n",
       "      <th>17</th>\n",
       "      <td>70</td>\n",
       "    </tr>\n",
       "    <tr>\n",
       "      <th>69</th>\n",
       "      <td>176</td>\n",
       "    </tr>\n",
       "    <tr>\n",
       "      <th>93</th>\n",
       "      <td>66</td>\n",
       "    </tr>\n",
       "    <tr>\n",
       "      <th>43</th>\n",
       "      <td>66</td>\n",
       "    </tr>\n",
       "    <tr>\n",
       "      <th>58</th>\n",
       "      <td>48</td>\n",
       "    </tr>\n",
       "    <tr>\n",
       "      <th>19</th>\n",
       "      <td>66</td>\n",
       "    </tr>\n",
       "    <tr>\n",
       "      <th>38</th>\n",
       "      <td>46</td>\n",
       "    </tr>\n",
       "    <tr>\n",
       "      <th>27</th>\n",
       "      <td>72</td>\n",
       "    </tr>\n",
       "    <tr>\n",
       "      <th>15</th>\n",
       "      <td>28</td>\n",
       "    </tr>\n",
       "  </tbody>\n",
       "</table>\n",
       "</div>"
      ],
      "text/plain": [
       "    pag_final\n",
       "71         98\n",
       "20        110\n",
       "39         48\n",
       "17         70\n",
       "69        176\n",
       "93         66\n",
       "43         66\n",
       "58         48\n",
       "19         66\n",
       "38         46\n",
       "27         72\n",
       "15         28"
      ]
     },
     "execution_count": 129,
     "metadata": {},
     "output_type": "execute_result"
    }
   ],
   "source": [
    "y_test_f"
   ]
  },
  {
   "cell_type": "code",
   "execution_count": 130,
   "metadata": {},
   "outputs": [
    {
     "name": "stdout",
     "output_type": "stream",
     "text": [
      "RMSE:  18.138357147217054\n"
     ]
    }
   ],
   "source": [
    "# Calculando RMSE utilizando scikit-learn\n",
    "print('RMSE: ',np.sqrt(metrics.mean_squared_error(y_test_f,p)))\n",
    "# RMSE:  78.92781512242689\n",
    "# RMSE:  78.58244078673046\n",
    "# RMSE:  19.371957239079567\n",
    "# RMSE:  53.665631459994955\n",
    "# RMSE:  26.642413213111567 sem a feature quantidade de estilo\n",
    "# RMSE:  28.926238482168273   ['qtd_pag_word', 'qtd_carc','qtd_tabela','qtd_image']\n",
    "# RMSE:  9.302980949429841 depois de configurar split por estratificação\n",
    "# RMSE:  14.142135623730951\n",
    "# RMSE:  18.138357147217054"
   ]
  },
  {
   "cell_type": "code",
   "execution_count": 131,
   "metadata": {},
   "outputs": [],
   "source": [
    "# Save Model Using Pickle\n",
    "# save the model to disk\n",
    "\n",
    "filename = 'finalized_model-forest4a.sav'\n",
    "pickle.dump(modelo, open(filename, 'wb'))\n",
    " "
   ]
  },
  {
   "cell_type": "code",
   "execution_count": null,
   "metadata": {},
   "outputs": [],
   "source": []
  },
  {
   "cell_type": "code",
   "execution_count": null,
   "metadata": {},
   "outputs": [],
   "source": []
  },
  {
   "cell_type": "code",
   "execution_count": 132,
   "metadata": {},
   "outputs": [],
   "source": [
    "##############################################################################################################"
   ]
  },
  {
   "cell_type": "code",
   "execution_count": 133,
   "metadata": {},
   "outputs": [],
   "source": [
    "#########################################################\n",
    "# FIM RANDOM FOREST\n",
    "########################################################"
   ]
  },
  {
   "cell_type": "code",
   "execution_count": null,
   "metadata": {},
   "outputs": [],
   "source": []
  },
  {
   "cell_type": "code",
   "execution_count": 134,
   "metadata": {},
   "outputs": [],
   "source": [
    "# https://github.com/WalnerPessoa/Medical-Cost-Personal/blob/master/Aula%205%20-%20Regress%C3%A3o%20linear%20para%20prever%20as%20despesas%20m%C3%A9dicas%20de%20um%20paciente%20.ipynb\n",
    "\n",
    "\n",
    "# Criando uma lista com os nomes dos atributos\n",
    "#feature_cols = ['age','sex','bmi','children','smoker']\n",
    "\n",
    "# Usando a lista para escolher um subconjunto do dataframe original\n",
    "#X = data[feature_cols]\n",
    "\n",
    "# Selecionando a Série no dataframe\n",
    "#y = data.charges\n",
    "\n",
    "# Dividindo entre conjunto de treinamento e teste\n",
    "#X_train, X_test, y_train, y_test = train_test_split(X, y, random_state=1)\n",
    "\n",
    "# Ajsutando o modelo (Aprendendo os coeficientes)\n",
    "#linreg.fit(X_train, y_train)\n",
    "\n",
    "# Fazendo predições no conjunto de teste\n",
    "#y_pred = linreg.predict(X_test)\n",
    "\n",
    "# Calculando RMSE para nossas predições\n",
    "#print(np.sqrt(metrics.mean_squared_error(y_test, y_pred)))"
   ]
  },
  {
   "cell_type": "code",
   "execution_count": 135,
   "metadata": {},
   "outputs": [],
   "source": [
    "##############################################################################################################"
   ]
  },
  {
   "cell_type": "code",
   "execution_count": 136,
   "metadata": {},
   "outputs": [],
   "source": [
    "#########################################################\n",
    "# INÍCIO DA PARTE DE MACHINE LEARNIG  \\\n",
    "# LINEAR REGRESSION\n",
    "########################################################"
   ]
  },
  {
   "cell_type": "code",
   "execution_count": 137,
   "metadata": {},
   "outputs": [],
   "source": [
    "# prepara dados de entrada X e dados de saida Y\n",
    "#colunas_X= ['entidade', 'fornecedor', 'complexidade', 'stat_pagto','qtd_pag_word', 'qtd_carc', 'qtd_tabela','qtd_image']\n",
    "# colunas_X= ['complexidade', 'qtd_pag_word', 'qtd_carc','qtd_tabela','qtd_image']\n",
    "#colunas_X= ['complexidade', 'qtd_pag_word', \"qtd_carc_normal\",'qtd_tabela','qtd_image']\n",
    "#colunas_X= ['complexidade', 'qtd_pag_word', 'qtd_pag_estimado','qtd_carc','qtd_tabela','qtd_image']\n",
    "#colunas_X= ['qtd_pag_word', 'qtd_carc','qtd_tabela','qtd_image',\"qtd_estilos\"]\n",
    "#colunas_X= ['qtd_pag_word', 'qtd_tabela','qtd_image',\"qtd_estilos\", 'qtd_carc_normal']\n",
    "#colunas_X= ['qtd_pag_word', 'qtd_tabela','qtd_image', 'qtd_carc_normal']\n",
    "\n",
    "\n",
    "#colunas_X= ['id','qtd_pag_word', 'qtd_pag_estimado', 'qtd_carc','qtd_tabela','qtd_image']\n",
    "colunas_X= ['id','complexidade', 'qtd_pag_estimado', 'qtd_pag_word', 'qtd_pg_word','qtd_carc','qtd_tabela','qtd_image',\"qtd_estilos\",'qtd_carc_normal','tamanho_livro']\n",
    "\n",
    "\n",
    "colunas_y=['pag_final']\n",
    "X = data[colunas_X]\n",
    "y = data[colunas_y]"
   ]
  },
  {
   "cell_type": "code",
   "execution_count": 138,
   "metadata": {},
   "outputs": [],
   "source": [
    "# método train_test_split, Scikit-Learn \n",
    "X_train, X_test, y_train, y_test = train_test_split(X, y,  test_size=0.10,random_state=1,stratify=X['tamanho_livro']) # feito com 0,10 e agora com 0,20"
   ]
  },
  {
   "cell_type": "code",
   "execution_count": 139,
   "metadata": {},
   "outputs": [],
   "source": [
    "####\n",
    "####   selecionar a FEATURES para MODELO\n",
    "####\n",
    "# mantendo algumas features para compara resultados no final no arquivo X_train_ref\n",
    "X_test_ref = X_test.copy()\n",
    "X_train_ref= X_train.copy()\n",
    "\n",
    "# X_test = X_test_ref[['qtd_pag_word', 'qtd_carc','qtd_tabela','qtd_image']]\n",
    "\n",
    "#X_test = X_test_ref[[ 'qtd_pag_word', 'qtd_tabela','qtd_image','qtd_carc_normal']]\n",
    "#X_test = X_test_ref[['qtd_pag_word', 'qtd_tabela','qtd_image',\"qtd_estilos\", 'qtd_carc_normal']]\n",
    "\n",
    "#X_test = X_test_ref[[ 'qtd_pag_word','qtd_pg_word','qtd_tabela','qtd_image',\"qtd_estilos\", 'qtd_carc_normal','tamanho_livro']]\n",
    "X_test = X_test_ref[['qtd_pag_word','qtd_pg_word', 'qtd_tabela','qtd_image', 'qtd_carc_normal','tamanho_livro']]\n",
    "\n",
    "\n",
    "#X_train = X_train_ref[['qtd_pag_word', 'qtd_carc','qtd_tabela','qtd_image']]\n",
    "\n",
    "#X_train = X_train_ref[['qtd_pag_word', 'qtd_tabela','qtd_image','qtd_carc_normal']]\n",
    "#X_train = X_train_ref[['qtd_pag_word', 'qtd_tabela','qtd_image',\"qtd_estilos\", 'qtd_carc_normal']]\n",
    "\n",
    "#X_train = X_train_ref[['qtd_pag_word','qtd_pg_word', 'qtd_tabela','qtd_image',\"qtd_estilos\", 'qtd_carc_normal','tamanho_livro']]\n",
    "\n",
    "X_train = X_train_ref[['qtd_pag_word','qtd_pg_word', 'qtd_tabela','qtd_image', 'qtd_carc_normal','tamanho_livro']]\n"
   ]
  },
  {
   "cell_type": "code",
   "execution_count": 140,
   "metadata": {},
   "outputs": [
    {
     "data": {
      "text/plain": [
       "Index(['id', 'complexidade', 'qtd_pag_estimado', 'qtd_pag_word', 'qtd_pg_word',\n",
       "       'qtd_carc', 'qtd_tabela', 'qtd_image', 'qtd_estilos', 'qtd_carc_normal',\n",
       "       'tamanho_livro'],\n",
       "      dtype='object')"
      ]
     },
     "execution_count": 140,
     "metadata": {},
     "output_type": "execute_result"
    }
   ],
   "source": [
    "X_test_ref.columns"
   ]
  },
  {
   "cell_type": "code",
   "execution_count": 141,
   "metadata": {},
   "outputs": [
    {
     "data": {
      "text/html": [
       "<div>\n",
       "<style scoped>\n",
       "    .dataframe tbody tr th:only-of-type {\n",
       "        vertical-align: middle;\n",
       "    }\n",
       "\n",
       "    .dataframe tbody tr th {\n",
       "        vertical-align: top;\n",
       "    }\n",
       "\n",
       "    .dataframe thead th {\n",
       "        text-align: right;\n",
       "    }\n",
       "</style>\n",
       "<table border=\"1\" class=\"dataframe\">\n",
       "  <thead>\n",
       "    <tr style=\"text-align: right;\">\n",
       "      <th></th>\n",
       "      <th>qtd_pag_word</th>\n",
       "      <th>qtd_pg_word</th>\n",
       "      <th>qtd_tabela</th>\n",
       "      <th>qtd_image</th>\n",
       "      <th>qtd_carc_normal</th>\n",
       "      <th>tamanho_livro</th>\n",
       "    </tr>\n",
       "  </thead>\n",
       "  <tbody>\n",
       "    <tr>\n",
       "      <th>31</th>\n",
       "      <td>81</td>\n",
       "      <td>81</td>\n",
       "      <td>468</td>\n",
       "      <td>717</td>\n",
       "      <td>0.167439</td>\n",
       "      <td>1</td>\n",
       "    </tr>\n",
       "    <tr>\n",
       "      <th>74</th>\n",
       "      <td>38</td>\n",
       "      <td>50</td>\n",
       "      <td>174</td>\n",
       "      <td>298</td>\n",
       "      <td>0.109771</td>\n",
       "      <td>1</td>\n",
       "    </tr>\n",
       "    <tr>\n",
       "      <th>81</th>\n",
       "      <td>86</td>\n",
       "      <td>86</td>\n",
       "      <td>112</td>\n",
       "      <td>182</td>\n",
       "      <td>0.160718</td>\n",
       "      <td>1</td>\n",
       "    </tr>\n",
       "    <tr>\n",
       "      <th>0</th>\n",
       "      <td>87</td>\n",
       "      <td>87</td>\n",
       "      <td>505</td>\n",
       "      <td>742</td>\n",
       "      <td>0.186041</td>\n",
       "      <td>2</td>\n",
       "    </tr>\n",
       "    <tr>\n",
       "      <th>28</th>\n",
       "      <td>83</td>\n",
       "      <td>92</td>\n",
       "      <td>153</td>\n",
       "      <td>261</td>\n",
       "      <td>0.311541</td>\n",
       "      <td>1</td>\n",
       "    </tr>\n",
       "    <tr>\n",
       "      <th>...</th>\n",
       "      <td>...</td>\n",
       "      <td>...</td>\n",
       "      <td>...</td>\n",
       "      <td>...</td>\n",
       "      <td>...</td>\n",
       "      <td>...</td>\n",
       "    </tr>\n",
       "    <tr>\n",
       "      <th>61</th>\n",
       "      <td>56</td>\n",
       "      <td>56</td>\n",
       "      <td>516</td>\n",
       "      <td>518</td>\n",
       "      <td>0.135722</td>\n",
       "      <td>1</td>\n",
       "    </tr>\n",
       "    <tr>\n",
       "      <th>102</th>\n",
       "      <td>73</td>\n",
       "      <td>73</td>\n",
       "      <td>219</td>\n",
       "      <td>351</td>\n",
       "      <td>0.269028</td>\n",
       "      <td>1</td>\n",
       "    </tr>\n",
       "    <tr>\n",
       "      <th>99</th>\n",
       "      <td>32</td>\n",
       "      <td>33</td>\n",
       "      <td>2</td>\n",
       "      <td>2</td>\n",
       "      <td>0.031542</td>\n",
       "      <td>1</td>\n",
       "    </tr>\n",
       "    <tr>\n",
       "      <th>66</th>\n",
       "      <td>22</td>\n",
       "      <td>21</td>\n",
       "      <td>451</td>\n",
       "      <td>480</td>\n",
       "      <td>0.031449</td>\n",
       "      <td>1</td>\n",
       "    </tr>\n",
       "    <tr>\n",
       "      <th>106</th>\n",
       "      <td>28</td>\n",
       "      <td>28</td>\n",
       "      <td>425</td>\n",
       "      <td>439</td>\n",
       "      <td>0.023416</td>\n",
       "      <td>0</td>\n",
       "    </tr>\n",
       "  </tbody>\n",
       "</table>\n",
       "<p>99 rows × 6 columns</p>\n",
       "</div>"
      ],
      "text/plain": [
       "     qtd_pag_word  qtd_pg_word  qtd_tabela  qtd_image  qtd_carc_normal  \\\n",
       "31             81           81         468        717         0.167439   \n",
       "74             38           50         174        298         0.109771   \n",
       "81             86           86         112        182         0.160718   \n",
       "0              87           87         505        742         0.186041   \n",
       "28             83           92         153        261         0.311541   \n",
       "..            ...          ...         ...        ...              ...   \n",
       "61             56           56         516        518         0.135722   \n",
       "102            73           73         219        351         0.269028   \n",
       "99             32           33           2          2         0.031542   \n",
       "66             22           21         451        480         0.031449   \n",
       "106            28           28         425        439         0.023416   \n",
       "\n",
       "     tamanho_livro  \n",
       "31               1  \n",
       "74               1  \n",
       "81               1  \n",
       "0                2  \n",
       "28               1  \n",
       "..             ...  \n",
       "61               1  \n",
       "102              1  \n",
       "99               1  \n",
       "66               1  \n",
       "106              0  \n",
       "\n",
       "[99 rows x 6 columns]"
      ]
     },
     "execution_count": 141,
     "metadata": {},
     "output_type": "execute_result"
    }
   ],
   "source": [
    "X_train"
   ]
  },
  {
   "cell_type": "code",
   "execution_count": 142,
   "metadata": {},
   "outputs": [
    {
     "data": {
      "text/html": [
       "<div>\n",
       "<style scoped>\n",
       "    .dataframe tbody tr th:only-of-type {\n",
       "        vertical-align: middle;\n",
       "    }\n",
       "\n",
       "    .dataframe tbody tr th {\n",
       "        vertical-align: top;\n",
       "    }\n",
       "\n",
       "    .dataframe thead th {\n",
       "        text-align: right;\n",
       "    }\n",
       "</style>\n",
       "<table border=\"1\" class=\"dataframe\">\n",
       "  <thead>\n",
       "    <tr style=\"text-align: right;\">\n",
       "      <th></th>\n",
       "      <th>pag_final</th>\n",
       "    </tr>\n",
       "  </thead>\n",
       "  <tbody>\n",
       "    <tr>\n",
       "      <th>31</th>\n",
       "      <td>100</td>\n",
       "    </tr>\n",
       "    <tr>\n",
       "      <th>74</th>\n",
       "      <td>68</td>\n",
       "    </tr>\n",
       "    <tr>\n",
       "      <th>81</th>\n",
       "      <td>82</td>\n",
       "    </tr>\n",
       "    <tr>\n",
       "      <th>0</th>\n",
       "      <td>140</td>\n",
       "    </tr>\n",
       "    <tr>\n",
       "      <th>28</th>\n",
       "      <td>112</td>\n",
       "    </tr>\n",
       "    <tr>\n",
       "      <th>...</th>\n",
       "      <td>...</td>\n",
       "    </tr>\n",
       "    <tr>\n",
       "      <th>61</th>\n",
       "      <td>66</td>\n",
       "    </tr>\n",
       "    <tr>\n",
       "      <th>102</th>\n",
       "      <td>110</td>\n",
       "    </tr>\n",
       "    <tr>\n",
       "      <th>99</th>\n",
       "      <td>44</td>\n",
       "    </tr>\n",
       "    <tr>\n",
       "      <th>66</th>\n",
       "      <td>30</td>\n",
       "    </tr>\n",
       "    <tr>\n",
       "      <th>106</th>\n",
       "      <td>42</td>\n",
       "    </tr>\n",
       "  </tbody>\n",
       "</table>\n",
       "<p>99 rows × 1 columns</p>\n",
       "</div>"
      ],
      "text/plain": [
       "     pag_final\n",
       "31         100\n",
       "74          68\n",
       "81          82\n",
       "0          140\n",
       "28         112\n",
       "..         ...\n",
       "61          66\n",
       "102        110\n",
       "99          44\n",
       "66          30\n",
       "106         42\n",
       "\n",
       "[99 rows x 1 columns]"
      ]
     },
     "execution_count": 142,
     "metadata": {},
     "output_type": "execute_result"
    }
   ],
   "source": [
    "y_train"
   ]
  },
  {
   "cell_type": "code",
   "execution_count": 143,
   "metadata": {},
   "outputs": [
    {
     "name": "stdout",
     "output_type": "stream",
     "text": [
      "[17.43082317]\n",
      "coeficientes encontrados:  [[ 8.07911224e-01 -1.88497820e-01  4.53391258e-03 -1.19895232e-02\n",
      "   1.71824976e+02  5.22766469e+00]]\n"
     ]
    }
   ],
   "source": [
    "##### machine learnig\n",
    "\n",
    "#Instanciando o estimador\n",
    "linreg = LinearRegression()\n",
    "\n",
    "#Ajustando o modelo ao conjunto de treino\n",
    "linreg.fit(X_train, y_train)\n",
    "\n",
    "#Interpretando os coeficientes do modelo\n",
    "#Visualizando a interseção e os coeficientes \n",
    "print(linreg.intercept_)\n",
    "print('coeficientes encontrados: ',linreg.coef_) # para visualizar os coeficientes encontrados\n",
    "\n"
   ]
  },
  {
   "cell_type": "code",
   "execution_count": 144,
   "metadata": {},
   "outputs": [],
   "source": [
    "# para visualizar os coeficientes encontrados\n",
    "# para visualizar o R²\n",
    "# linreg.score()"
   ]
  },
  {
   "cell_type": "code",
   "execution_count": 145,
   "metadata": {},
   "outputs": [
    {
     "data": {
      "text/plain": [
       "['id',\n",
       " 'complexidade',\n",
       " 'qtd_pag_estimado',\n",
       " 'qtd_pag_word',\n",
       " 'qtd_pg_word',\n",
       " 'qtd_carc',\n",
       " 'qtd_tabela',\n",
       " 'qtd_image',\n",
       " 'qtd_estilos',\n",
       " 'qtd_carc_normal',\n",
       " 'tamanho_livro']"
      ]
     },
     "execution_count": 145,
     "metadata": {},
     "output_type": "execute_result"
    }
   ],
   "source": [
    "colunas_X"
   ]
  },
  {
   "cell_type": "code",
   "execution_count": 146,
   "metadata": {},
   "outputs": [
    {
     "data": {
      "text/plain": [
       "Index(['qtd_pag_word', 'qtd_pg_word', 'qtd_tabela', 'qtd_image',\n",
       "       'qtd_carc_normal', 'tamanho_livro'],\n",
       "      dtype='object')"
      ]
     },
     "execution_count": 146,
     "metadata": {},
     "output_type": "execute_result"
    }
   ],
   "source": [
    "X_train.columns"
   ]
  },
  {
   "cell_type": "code",
   "execution_count": 147,
   "metadata": {},
   "outputs": [
    {
     "data": {
      "text/plain": [
       "[('id',\n",
       "  array([ 8.07911224e-01, -1.88497820e-01,  4.53391258e-03, -1.19895232e-02,\n",
       "          1.71824976e+02,  5.22766469e+00]))]"
      ]
     },
     "execution_count": 147,
     "metadata": {},
     "output_type": "execute_result"
    }
   ],
   "source": [
    "#Atributos e seus coeficientes\n",
    "list(zip(colunas_X, linreg.coef_))"
   ]
  },
  {
   "cell_type": "code",
   "execution_count": 148,
   "metadata": {},
   "outputs": [],
   "source": [
    "#Fazendo predições no conjunto de teste\n",
    "y_pred = linreg.predict(X_test)"
   ]
  },
  {
   "cell_type": "code",
   "execution_count": 149,
   "metadata": {},
   "outputs": [
    {
     "data": {
      "text/plain": [
       "array([[ 99.53402045],\n",
       "       [103.26847065],\n",
       "       [ 51.14574012],\n",
       "       [ 72.39740182],\n",
       "       [188.01435382],\n",
       "       [ 70.89937871],\n",
       "       [ 89.71095552],\n",
       "       [ 42.25276389],\n",
       "       [ 72.29857782],\n",
       "       [ 35.69890152],\n",
       "       [ 50.34248036],\n",
       "       [ 32.75848843]])"
      ]
     },
     "execution_count": 149,
     "metadata": {},
     "output_type": "execute_result"
    }
   ],
   "source": [
    "y_pred"
   ]
  },
  {
   "cell_type": "code",
   "execution_count": 150,
   "metadata": {
    "scrolled": true
   },
   "outputs": [
    {
     "data": {
      "text/html": [
       "<div>\n",
       "<style scoped>\n",
       "    .dataframe tbody tr th:only-of-type {\n",
       "        vertical-align: middle;\n",
       "    }\n",
       "\n",
       "    .dataframe tbody tr th {\n",
       "        vertical-align: top;\n",
       "    }\n",
       "\n",
       "    .dataframe thead th {\n",
       "        text-align: right;\n",
       "    }\n",
       "</style>\n",
       "<table border=\"1\" class=\"dataframe\">\n",
       "  <thead>\n",
       "    <tr style=\"text-align: right;\">\n",
       "      <th></th>\n",
       "      <th>pag_final</th>\n",
       "    </tr>\n",
       "  </thead>\n",
       "  <tbody>\n",
       "    <tr>\n",
       "      <th>71</th>\n",
       "      <td>98</td>\n",
       "    </tr>\n",
       "    <tr>\n",
       "      <th>20</th>\n",
       "      <td>110</td>\n",
       "    </tr>\n",
       "    <tr>\n",
       "      <th>39</th>\n",
       "      <td>48</td>\n",
       "    </tr>\n",
       "    <tr>\n",
       "      <th>17</th>\n",
       "      <td>70</td>\n",
       "    </tr>\n",
       "    <tr>\n",
       "      <th>69</th>\n",
       "      <td>176</td>\n",
       "    </tr>\n",
       "    <tr>\n",
       "      <th>93</th>\n",
       "      <td>66</td>\n",
       "    </tr>\n",
       "    <tr>\n",
       "      <th>43</th>\n",
       "      <td>66</td>\n",
       "    </tr>\n",
       "    <tr>\n",
       "      <th>58</th>\n",
       "      <td>48</td>\n",
       "    </tr>\n",
       "    <tr>\n",
       "      <th>19</th>\n",
       "      <td>66</td>\n",
       "    </tr>\n",
       "    <tr>\n",
       "      <th>38</th>\n",
       "      <td>46</td>\n",
       "    </tr>\n",
       "    <tr>\n",
       "      <th>27</th>\n",
       "      <td>72</td>\n",
       "    </tr>\n",
       "    <tr>\n",
       "      <th>15</th>\n",
       "      <td>28</td>\n",
       "    </tr>\n",
       "  </tbody>\n",
       "</table>\n",
       "</div>"
      ],
      "text/plain": [
       "    pag_final\n",
       "71         98\n",
       "20        110\n",
       "39         48\n",
       "17         70\n",
       "69        176\n",
       "93         66\n",
       "43         66\n",
       "58         48\n",
       "19         66\n",
       "38         46\n",
       "27         72\n",
       "15         28"
      ]
     },
     "execution_count": 150,
     "metadata": {},
     "output_type": "execute_result"
    }
   ],
   "source": [
    "y_test"
   ]
  },
  {
   "cell_type": "markdown",
   "metadata": {},
   "source": [
    "Comparando essas métricas:\n",
    "\n",
    "- MAE é a mais fácil de entender.\n",
    "- MSE é mais popular que MAE, porque MSE \"pune\" erros grandes.\n",
    "- RMSE é ainda mais popular que MSE, porque RMSE é interpretável na mesma unidade de y."
   ]
  },
  {
   "cell_type": "code",
   "execution_count": 151,
   "metadata": {},
   "outputs": [],
   "source": [
    "#RMSE:  12.11799697428631 # primeiro test com columas\n",
    "#colunas_X= ['entidade', 'fornecedor', 'complexidade', 'stat_pagto','qtd_pag_word', 'qtd_carc', 'qtd_tabela','qtd_image']\n",
    "\n",
    "#colunas_X= ['complexidade', 'qtd_pag_word', 'qtd_carc','qtd_tabela','qtd_image']\n",
    "\n",
    "#RMSE:  11.831745496309976\n",
    "# colunas_X= ['complexidade', 'qtd_pag_word', 'qtd_pag_estimado','qtd_carc','qtd_tabela','qtd_image']\n",
    "# RMSE:  8.41739234335301"
   ]
  },
  {
   "cell_type": "code",
   "execution_count": 152,
   "metadata": {},
   "outputs": [
    {
     "name": "stdout",
     "output_type": "stream",
     "text": [
      "RMSE:  11.046774596908435\n"
     ]
    }
   ],
   "source": [
    "#Nós precisamos de uma métrica de avaliação para comparar nossas predições com os valores verdadeiros!\n",
    "\n",
    "# Calculando RMSE utilizando scikit-learn\n",
    "RMSE_1 = np.sqrt(metrics.mean_squared_error(y_test,y_pred))\n",
    "print('RMSE: ',RMSE_1)\n",
    "\n",
    "# incluido feature Quantidade de estilo, mas o resultado piorou. RMSE foi de 11.83 para 12.43\n",
    "# RMSE:  12.051420343980208\n",
    "# RMSE:  9.782602553564418 => melhorou quando retirou feature complexidade\n",
    "# RMSE:  9.16223875809479 => melhorou quando retirou feature quantidade de estilos\n",
    "# RMSE:  4.5881270718708045 => melhorou MUITO depois de verificar os arquivo word que estavam errados\n",
    "# RMSE:  4.303364983662433 => melhorou quando alterei arquivos do WORD\n",
    "\n",
    "# Campos em análise [['complexidade', 'qtd_pag_word', 'qtd_carc','qtd_tabela','qtd_image',\"qtd_estilos\",'qtd_carc_normal']]\n",
    "#RMSE:  12.051420343982636\n",
    "# RMSE:  16.219875583371206\n",
    "#RMSE:  14.883956821122942"
   ]
  },
  {
   "cell_type": "code",
   "execution_count": 153,
   "metadata": {},
   "outputs": [
    {
     "data": {
      "text/plain": [
       "Index(['id', 'complexidade', 'qtd_pag_estimado', 'qtd_pag_word', 'qtd_pg_word',\n",
       "       'qtd_carc', 'qtd_tabela', 'qtd_image', 'qtd_estilos', 'qtd_carc_normal',\n",
       "       'tamanho_livro'],\n",
       "      dtype='object')"
      ]
     },
     "execution_count": 153,
     "metadata": {},
     "output_type": "execute_result"
    }
   ],
   "source": [
    "X_test_ref.columns"
   ]
  },
  {
   "cell_type": "code",
   "execution_count": 154,
   "metadata": {},
   "outputs": [
    {
     "data": {
      "text/plain": [
       "Index(['qtd_pag_word', 'qtd_pg_word', 'qtd_tabela', 'qtd_image',\n",
       "       'qtd_carc_normal', 'tamanho_livro'],\n",
       "      dtype='object')"
      ]
     },
     "execution_count": 154,
     "metadata": {},
     "output_type": "execute_result"
    }
   ],
   "source": [
    "X_test.columns"
   ]
  },
  {
   "cell_type": "code",
   "execution_count": 155,
   "metadata": {},
   "outputs": [
    {
     "name": "stdout",
     "output_type": "stream",
     "text": [
      "RMSE:  19.964551919172475\n",
      "Percentual entre os dois métodos:  0.8072743083542033\n"
     ]
    }
   ],
   "source": [
    "#\n",
    "#\n",
    "# comparar erros de calculo do campo Num Página estimado com o QTD_PAG_INFERIDO\n",
    "#\n",
    "RMSE_2 = np.sqrt(metrics.mean_squared_error(y_test,X_test_ref['qtd_pag_estimado']))\n",
    "print('RMSE: ',RMSE_2)\n",
    "print ('Percentual entre os dois métodos: ', (RMSE_2-RMSE_1)/RMSE_1)"
   ]
  },
  {
   "cell_type": "markdown",
   "metadata": {},
   "source": [
    "### Avaliação dos Resultados\n",
    "- RMSE:  4.5881270718708045, ou seja, erro médio de 4 páginas  - com dados do modelo de Machine Learning (ML)\n",
    "- RMSE:  13.010485281984192, ou seja, erro médio de 15 páginas - com dados estimados da Editorar\n",
    "- diferença de 83% , ou seja, os dados estimados da Editorar está 83% acima dos dados do Modelo de ML"
   ]
  },
  {
   "cell_type": "code",
   "execution_count": 156,
   "metadata": {},
   "outputs": [],
   "source": [
    "#Como interpretar esse valor?\n",
    "# numero menor de RMSE é melhor\n",
    "# RMSE:  11.831745496309976\n",
    "# RMSE:  12.43000991830557\n",
    "# RMSE:  14.428565435305106\n"
   ]
  },
  {
   "cell_type": "code",
   "execution_count": 157,
   "metadata": {},
   "outputs": [],
   "source": [
    "# Save Model Using Pickle\n",
    "# save the model to disk\n",
    "\n",
    "filename = 'finalized_model-linreg3.sav'\n",
    "pickle.dump(linreg, open(filename, 'wb'))\n",
    " \n"
   ]
  },
  {
   "cell_type": "code",
   "execution_count": 158,
   "metadata": {},
   "outputs": [],
   "source": [
    "#########################################################\n",
    "# FIM  LINEAR REGRESSION\n",
    "########################################################"
   ]
  },
  {
   "cell_type": "code",
   "execution_count": null,
   "metadata": {},
   "outputs": [],
   "source": []
  },
  {
   "cell_type": "code",
   "execution_count": 159,
   "metadata": {},
   "outputs": [],
   "source": [
    "################################################################################################################\n",
    "#########################################################\n",
    "# LOGISTIC REGRESSION\n",
    "########################################################"
   ]
  },
  {
   "cell_type": "code",
   "execution_count": 160,
   "metadata": {},
   "outputs": [],
   "source": [
    "#colunas_X= ['qtd_pag_word', 'qtd_carc','qtd_tabela','qtd_image',\"qtd_estilos\"]\n",
    "#colunas_X= ['qtd_pag_word', 'qtd_tabela','qtd_image',\"qtd_estilos\", 'qtd_carc_normal']\n",
    "#colunas_X= ['qtd_pag_word', 'qtd_tabela','qtd_image', 'qtd_carc_normal']\n",
    "#colunas_X= ['qtd_pag_word', 'qtd_carc','qtd_tabela','qtd_image']\n",
    "\n",
    "#colunas_X= ['qtd_pag_word', 'qtd_tabela','qtd_image',\"qtd_estilos\", 'qtd_carc_normal']\n",
    "colunas_X= ['qtd_pag_word','qtd_pg_word', 'qtd_tabela','qtd_image',\"qtd_estilos\", 'qtd_carc_normal','tamanho_livro']\n",
    "\n",
    "#colunas_X= ['qtd_pag_word', 'qtd_tabela','qtd_image', 'qtd_carc_normal']\n",
    "\n",
    "\n",
    "#colunas_X= ['complexidade','entidade','qtd_pag_word', 'qtd_tabela','qtd_image', 'qtd_carc_normal']\n",
    "\n",
    "colunas_y=['pag_final']\n",
    "X = data[colunas_X]\n",
    "y = data[colunas_y]"
   ]
  },
  {
   "cell_type": "code",
   "execution_count": 161,
   "metadata": {},
   "outputs": [],
   "source": [
    "X_train, X_test, y_train, y_test = train_test_split(X, y,  test_size=0.10,random_state=1,stratify=X['tamanho_livro'])"
   ]
  },
  {
   "cell_type": "code",
   "execution_count": 162,
   "metadata": {},
   "outputs": [
    {
     "name": "stdout",
     "output_type": "stream",
     "text": [
      "[ 84  68  84  76 340  98  84  98  76  34  98  48]\n",
      "[[1.34188332e-06 8.54104038e-06 2.52192592e-03 2.49569734e-07\n",
      "  2.63212114e-04 5.82752371e-03 4.42258037e-03 5.30499498e-04\n",
      "  1.05874154e-01 9.93100720e-04 3.91753141e-03 3.15834457e-03\n",
      "  6.79510296e-02 3.44075005e-05 3.62725372e-02 5.71060379e-02\n",
      "  9.98455300e-03 4.57576981e-02 1.25280394e-02 3.96572449e-03\n",
      "  4.62741936e-02 1.05714654e-02 3.05856820e-01 1.01205564e-01\n",
      "  5.07885976e-03 1.96597564e-03 3.44741652e-02 8.53199717e-05\n",
      "  6.08118315e-03 1.35137345e-02 6.07444825e-02 2.40803715e-03\n",
      "  1.13845158e-05 1.40718666e-03 8.21609053e-07 1.83928316e-02\n",
      "  7.39505358e-03 8.68103237e-11 3.23054186e-11 1.79102309e-14\n",
      "  2.33859363e-02 2.79535005e-05]\n",
      " [7.02357886e-10 4.99810938e-05 2.48536455e-03 2.28633603e-05\n",
      "  5.38419365e-02 5.74587170e-03 4.06370955e-02 1.18473958e-04\n",
      "  5.73358621e-06 2.21264460e-04 2.79198742e-02 6.90902607e-02\n",
      "  5.42934406e-03 3.99115758e-03 2.14022013e-09 1.43688839e-01\n",
      "  7.48877925e-04 8.52976381e-04 4.50949039e-02 4.15064598e-02\n",
      "  1.49019427e-06 2.04425182e-02 5.52565437e-03 5.15895177e-02\n",
      "  4.80379501e-02 4.43402166e-02 2.16566061e-02 1.13588883e-01\n",
      "  1.34224377e-01 5.61961747e-03 8.95363678e-04 1.24569982e-02\n",
      "  1.10354561e-02 3.11602763e-02 3.41373874e-05 2.49537881e-03\n",
      "  5.54361614e-02 5.79019913e-06 2.02293403e-06 2.26877119e-07\n",
      "  1.05266961e-09 7.53642026e-08]\n",
      " [5.55231535e-05 1.28125521e-03 1.23301560e-02 3.15547911e-04\n",
      "  3.54789577e-02 5.22878555e-02 3.20205631e-02 2.35879635e-03\n",
      "  4.15690767e-02 3.67695236e-02 2.49808532e-02 2.09243061e-02\n",
      "  4.65305520e-02 3.94607949e-03 6.09193366e-02 6.98301091e-02\n",
      "  3.48743767e-02 3.81762454e-02 3.10799591e-02 1.43666239e-02\n",
      "  2.00162824e-02 1.76399548e-02 7.88833990e-02 5.25957093e-02\n",
      "  2.38685149e-02 1.46075536e-02 2.54497182e-02 1.65842975e-02\n",
      "  5.66229887e-02 1.00432570e-02 1.31185924e-02 2.60649886e-02\n",
      "  6.76647859e-03 1.41709074e-02 1.22708801e-02 7.98353254e-03\n",
      "  3.78850751e-02 1.61284473e-04 1.30795840e-04 5.54667575e-05\n",
      "  4.15430020e-03 8.30325555e-04]\n",
      " [5.66267609e-06 6.97618614e-03 2.21776004e-02 2.17555036e-02\n",
      "  9.18576739e-03 9.74831555e-04 6.50426764e-02 1.76201941e-02\n",
      "  2.81371764e-08 1.15019014e-05 1.15606800e-01 9.87924600e-02\n",
      "  1.07212479e-03 1.98202315e-02 2.03534842e-14 5.76473843e-02\n",
      "  1.20907771e-05 7.20967253e-05 4.80743726e-02 1.89530025e-01\n",
      "  2.56746222e-08 3.78770570e-02 1.34331398e-04 1.09149591e-02\n",
      "  1.73179109e-02 4.19567297e-02 1.32220646e-02 3.34824975e-02\n",
      "  5.69339289e-02 2.60998640e-02 2.00415291e-03 3.49092413e-03\n",
      "  1.79227927e-03 3.65313058e-02 1.30422471e-08 1.49195306e-02\n",
      "  2.89423730e-02 2.10852744e-06 4.01399417e-07 1.87359653e-10\n",
      "  1.52551962e-11 5.02445769e-09]\n",
      " [2.03533986e-14 2.91143852e-12 1.46964594e-08 1.66548651e-13\n",
      "  2.55445447e-07 2.38125005e-08 3.07413419e-06 1.04196072e-08\n",
      "  4.11035737e-03 1.58804013e-10 1.49448099e-07 2.34280967e-04\n",
      "  5.45536427e-04 8.53442544e-07 2.12850174e-04 3.20044343e-05\n",
      "  8.52287561e-03 9.34588924e-03 7.51476583e-05 9.05377796e-05\n",
      "  2.87768505e-03 6.73859009e-02 1.35219763e-01 5.02680004e-02\n",
      "  4.82788921e-03 1.63194329e-03 5.77368949e-02 2.49230972e-06\n",
      "  5.49347117e-05 1.95029480e-02 3.15089218e-02 6.50436319e-03\n",
      "  1.09866028e-05 3.72925378e-04 2.50328568e-08 7.96020495e-02\n",
      "  1.78937738e-05 7.22274200e-08 5.35753473e-08 1.59490774e-10\n",
      "  1.10240479e-01 4.09059917e-01]\n",
      " [1.23520485e-06 7.79485718e-04 3.21662776e-03 1.72348404e-03\n",
      "  1.82915790e-02 1.36721343e-03 1.73874149e-02 1.52783283e-03\n",
      "  1.45554407e-05 8.59355331e-05 1.29608250e-02 7.66410567e-02\n",
      "  3.54448171e-03 3.21762659e-02 9.47551968e-09 2.95394020e-02\n",
      "  1.33547795e-03 1.11596114e-03 2.93087513e-02 7.06593460e-02\n",
      "  1.00742705e-05 4.74544333e-02 3.45740903e-03 3.29140971e-02\n",
      "  6.96693213e-02 1.08077916e-01 3.74071488e-02 1.28148353e-01\n",
      "  3.04998308e-02 3.01540535e-02 4.54566369e-03 1.56648758e-02\n",
      "  6.47572948e-02 6.84729582e-02 1.48007930e-04 2.21509318e-02\n",
      "  2.49645388e-02 5.48843704e-03 2.85237923e-03 1.41682662e-03\n",
      "  1.78924229e-07 6.83285377e-05]\n",
      " [2.17283432e-07 2.44138557e-05 7.89112958e-04 6.27500581e-06\n",
      "  8.05659668e-03 4.34362596e-03 5.16320423e-03 1.36655845e-04\n",
      "  3.72353512e-02 1.37784888e-03 2.16469269e-03 1.75657965e-02\n",
      "  2.72441476e-02 2.38112549e-03 4.04118854e-02 2.77122991e-02\n",
      "  7.54385061e-02 3.39065336e-02 1.52812759e-02 9.75646760e-03\n",
      "  1.57097430e-02 2.72432242e-02 1.88085345e-01 1.03844760e-01\n",
      "  5.63782168e-02 3.37612600e-02 6.05161290e-02 1.82021633e-02\n",
      "  1.52686179e-02 1.69037293e-02 1.61295902e-02 2.47432822e-02\n",
      "  2.05884476e-02 1.94590208e-02 1.52667785e-02 1.71980455e-02\n",
      "  1.57082177e-02 6.73697329e-04 6.15650534e-04 2.17183403e-03\n",
      "  7.39939143e-03 1.51368239e-02]\n",
      " [1.18147033e-06 1.53506007e-02 1.76231845e-02 5.30054816e-02\n",
      "  1.33706231e-01 8.05074074e-03 6.76866680e-02 2.54066545e-03\n",
      "  3.46649054e-08 6.26588500e-04 1.18982672e-01 4.17135724e-02\n",
      "  4.74841872e-04 2.52011259e-02 1.37057884e-12 4.35928564e-02\n",
      "  1.76483442e-05 2.90228614e-05 2.14079888e-02 3.95715958e-02\n",
      "  1.62697023e-08 2.88741596e-03 4.41515970e-05 1.93644824e-03\n",
      "  7.06485288e-03 1.40269838e-02 1.33028805e-03 2.31162936e-01\n",
      "  8.43996485e-02 9.90920196e-04 6.36225967e-05 2.25241032e-03\n",
      "  1.48136443e-02 1.63154959e-02 2.06347161e-05 2.96155901e-04\n",
      "  3.24458053e-02 2.62495189e-04 8.89836196e-05 1.43880924e-05\n",
      "  2.40273040e-12 1.54061782e-09]\n",
      " [2.35737390e-06 5.24510459e-03 1.62092339e-02 2.22004875e-02\n",
      "  6.62574738e-03 4.54511156e-04 5.42158286e-02 1.50228198e-02\n",
      "  5.92126732e-09 3.24647821e-06 9.72155874e-02 1.09632725e-01\n",
      "  6.34330372e-04 2.22857728e-02 9.29301709e-16 4.70483698e-02\n",
      "  5.56103757e-06 3.49530885e-05 4.38413289e-02 2.26940617e-01\n",
      "  5.73902853e-09 4.15036575e-02 7.09001946e-05 9.38163711e-03\n",
      "  1.78759766e-02 5.02265805e-02 1.29328014e-02 3.65300934e-02\n",
      "  4.69526632e-02 2.92026395e-02 1.58273958e-03 2.75844791e-03\n",
      "  1.83228261e-03 4.08133029e-02 3.40306641e-09 1.65536832e-02\n",
      "  2.41617971e-02 1.88218176e-06 3.16556296e-07 1.01505608e-10\n",
      "  2.07118156e-12 2.10050638e-09]\n",
      " [1.16782451e-04 6.85694415e-02 4.55849817e-02 3.79664196e-01\n",
      "  6.11685122e-03 9.02278835e-04 5.44492279e-02 4.76471593e-02\n",
      "  6.17609746e-10 1.44047162e-05 1.91177320e-01 2.53326221e-02\n",
      "  1.45745847e-04 9.89242047e-03 9.47176499e-17 1.97729329e-02\n",
      "  3.64803517e-07 4.54888029e-06 1.52885925e-02 6.61912887e-02\n",
      "  6.85447919e-10 3.97596143e-03 3.62723713e-06 6.93991074e-04\n",
      "  1.45996666e-03 4.71515906e-03 8.53000320e-04 9.53971446e-03\n",
      "  2.64899426e-02 2.79914373e-03 1.65891438e-04 4.21274235e-04\n",
      "  1.94409650e-04 6.20515271e-03 7.49641414e-10 1.18358384e-03\n",
      "  1.04277550e-02 2.29765911e-07 3.49147479e-08 3.06146835e-12\n",
      "  8.56571724e-14 1.97252155e-11]\n",
      " [3.03350885e-06 6.57933111e-03 5.93073369e-03 6.12892009e-02\n",
      "  1.68386278e-02 4.13694521e-04 2.28898558e-02 5.10012421e-03\n",
      "  1.89525445e-08 9.05929967e-06 3.01056326e-02 8.80999958e-02\n",
      "  3.69759845e-04 7.84640312e-02 5.69057275e-14 1.69709312e-02\n",
      "  2.32437419e-05 3.54972012e-05 2.18850010e-02 1.23372495e-01\n",
      "  1.78139802e-08 2.23904778e-02 6.88809695e-05 5.23012064e-03\n",
      "  2.68335380e-02 8.14437873e-02 8.68365099e-03 2.01021618e-01\n",
      "  2.46966751e-02 1.48324349e-02 6.29952956e-04 3.75706454e-03\n",
      "  4.21165119e-02 5.97086577e-02 1.63822335e-06 7.99549237e-03\n",
      "  1.70915483e-02 3.79393225e-03 1.22409397e-03 9.94475029e-05\n",
      "  2.03314752e-11 1.91906972e-07]\n",
      " [8.00127263e-04 3.46816555e-02 4.14417629e-02 6.33452651e-02\n",
      "  4.36684320e-02 1.43817345e-02 6.47073920e-02 2.60925694e-02\n",
      "  4.39220140e-05 2.71089286e-03 9.12075192e-02 5.61038579e-02\n",
      "  6.31622613e-03 3.47865501e-02 1.08375499e-07 5.20819475e-02\n",
      "  8.03096916e-04 1.57748909e-03 4.16743259e-02 6.77254204e-02\n",
      "  3.69500819e-05 2.21243341e-02 1.83139383e-03 1.40259484e-02\n",
      "  2.11089315e-02 3.16604856e-02 1.34963503e-02 5.95305587e-02\n",
      "  6.09893434e-02 1.59673452e-02 4.50443893e-03 1.15238892e-02\n",
      "  1.35825879e-02 3.30829204e-02 1.45331408e-04 1.03329731e-02\n",
      "  4.04577240e-02 9.35636245e-04 4.67812426e-04 3.33002723e-05\n",
      "  6.75710300e-07 1.07740785e-05]]\n",
      "0.29292929292929293\n"
     ]
    },
    {
     "name": "stderr",
     "output_type": "stream",
     "text": [
      "/Users/wpessoa/miniconda3/envs/py3/lib/python3.8/site-packages/sklearn/utils/validation.py:72: DataConversionWarning: A column-vector y was passed when a 1d array was expected. Please change the shape of y to (n_samples, ), for example using ravel().\n",
      "  return f(**kwargs)\n",
      "/Users/wpessoa/miniconda3/envs/py3/lib/python3.8/site-packages/sklearn/linear_model/_logistic.py:762: ConvergenceWarning: lbfgs failed to converge (status=1):\n",
      "STOP: TOTAL NO. of ITERATIONS REACHED LIMIT.\n",
      "\n",
      "Increase the number of iterations (max_iter) or scale the data as shown in:\n",
      "    https://scikit-learn.org/stable/modules/preprocessing.html\n",
      "Please also refer to the documentation for alternative solver options:\n",
      "    https://scikit-learn.org/stable/modules/linear_model.html#logistic-regression\n",
      "  n_iter_i = _check_optimize_result(\n"
     ]
    }
   ],
   "source": [
    "from sklearn.datasets import load_iris\n",
    "from sklearn.linear_model import LogisticRegression\n",
    "##### machine learnig\n",
    "#X, y = load_iris(return_X_y=True)\n",
    "\n",
    "clf = LogisticRegression(random_state=0).fit(X_train, y_train)\n",
    "\n",
    "# modelo = LogisticRegression()\n",
    "# modelo.fit(X_treino, y_treino)\n",
    "# p = modelo.predict(X_valid)\n",
    "\n",
    "\n",
    "\n",
    "print(clf.predict(X_test.fillna(-1)))\n",
    "print(clf.predict_proba(X_test.fillna(-1)))\n",
    "print(clf.score(X_train, y_train))\n"
   ]
  },
  {
   "cell_type": "code",
   "execution_count": 163,
   "metadata": {},
   "outputs": [
    {
     "name": "stdout",
     "output_type": "stream",
     "text": [
      "[ 84  68  84  76 340  98  84  98  76  34  98  48]\n",
      "           71   20  39  17   69  93  43  58  19  38  27  15\n",
      "pag_final  98  110  48  70  176  66  66  48  66  46  72  28\n"
     ]
    },
    {
     "name": "stderr",
     "output_type": "stream",
     "text": [
      "/Users/wpessoa/miniconda3/envs/py3/lib/python3.8/site-packages/sklearn/utils/validation.py:72: DataConversionWarning: A column-vector y was passed when a 1d array was expected. Please change the shape of y to (n_samples, ), for example using ravel().\n",
      "  return f(**kwargs)\n",
      "/Users/wpessoa/miniconda3/envs/py3/lib/python3.8/site-packages/sklearn/linear_model/_logistic.py:762: ConvergenceWarning: lbfgs failed to converge (status=1):\n",
      "STOP: TOTAL NO. of ITERATIONS REACHED LIMIT.\n",
      "\n",
      "Increase the number of iterations (max_iter) or scale the data as shown in:\n",
      "    https://scikit-learn.org/stable/modules/preprocessing.html\n",
      "Please also refer to the documentation for alternative solver options:\n",
      "    https://scikit-learn.org/stable/modules/linear_model.html#logistic-regression\n",
      "  n_iter_i = _check_optimize_result(\n"
     ]
    }
   ],
   "source": [
    "modelo = LogisticRegression()\n",
    "modelo.fit(X_train, y_train)\n",
    "\n",
    "y_pred = modelo.predict(X_test.fillna(-1))\n",
    "print(y_pred)\n",
    "print(y_test.T)"
   ]
  },
  {
   "cell_type": "code",
   "execution_count": 164,
   "metadata": {},
   "outputs": [
    {
     "name": "stdout",
     "output_type": "stream",
     "text": [
      "RMSE:  54.28013755816517\n"
     ]
    }
   ],
   "source": [
    "# Calculando RMSE utilizando scikit-learn\n",
    "print('RMSE: ',np.sqrt(metrics.mean_squared_error(y_test,y_pred)))\n",
    "# RMSE:  26.17424132789543 => Features ['qtd_pag_word', 'qtd_tabela','qtd_image',\"qtd_estilos\", 'qtd_carc_normal']\n",
    "\n",
    "# quantidade de estilo é muito relevante nesse modelo, sem essa feature RMSE:  106.26211160915429\n",
    "# RMSE:  92.03951720469163 Para essa features ['qtd_pag_word', 'qtd_carc','qtd_tabela','qtd_image']\n",
    "# RMSE:  19.521549863955705\n"
   ]
  },
  {
   "cell_type": "code",
   "execution_count": 165,
   "metadata": {},
   "outputs": [],
   "source": [
    "# Save Model Using Pickle\n",
    "# save the model to disk\n",
    "\n",
    "filename = 'finalized_model-log2.sav'\n",
    "pickle.dump(modelo, open(filename, 'wb'))\n",
    " "
   ]
  },
  {
   "cell_type": "markdown",
   "metadata": {},
   "source": [
    "# Modelos treinados salvo em:\n",
    "- finalized_model-forest3a.sav\n",
    "- finalized_model-linreg.sav\n",
    "- finalized_model-log.sav"
   ]
  },
  {
   "cell_type": "code",
   "execution_count": null,
   "metadata": {},
   "outputs": [],
   "source": [
    "#########################################################\n",
    "# FIM  LOGISTIC REGRESSION\n",
    "########################################################"
   ]
  },
  {
   "cell_type": "code",
   "execution_count": null,
   "metadata": {},
   "outputs": [],
   "source": [
    "#\n",
    "# \n",
    "################################################################################################################"
   ]
  },
  {
   "cell_type": "code",
   "execution_count": null,
   "metadata": {},
   "outputs": [],
   "source": [
    "# codigos consultados de \n",
    "# https://github.com/WalnerPessoa/Medical-Cost-Personal/blob/master/Aula%205%20-%20Regress%C3%A3o%20linear%20para%20prever%20as%20despesas%20m%C3%A9dicas%20de%20um%20paciente%20.ipynb\n",
    "\n",
    "\n",
    "# calculando a media de um exemplo\n",
    "# Definindo os valores de resposta verdadeiros e preditos\n",
    "true = [100,50,30,30]\n",
    "pred = [90,50,50,30]\n",
    "print(\"dados verdadeiros: \",true)\n",
    "print(\"dados inferidos:\", pred)\n",
    "# Calculando erro médio absoluto na mão\n",
    "print('erro médio absoluto: ',(10+0+20+0)/4)\n",
    "# Calculando erro médio absoluto utilizando scikit-learn\n",
    "from sklearn import metrics\n",
    "print('erro médio absoluto: ',metrics.mean_absolute_error(true,pred)) \n",
    "\n",
    "#Calculando MSE na mão\n",
    "print('MSE: ',(10**2+0+20**2+0)/4)\n",
    "# Calculando MSE utilizando scikit-learn\n",
    "print('MSE: ',metrics.mean_squared_error(true,pred))\n",
    "\n",
    "# Calculando RMSE na mão\n",
    "print('RMSE: ',np.sqrt((10**2+0+20**2+0)/4))\n",
    "# Calculando RMSE utilizando scikit-learn\n",
    "print('RMSE: ',np.sqrt(metrics.mean_squared_error(true,pred)))"
   ]
  },
  {
   "cell_type": "code",
   "execution_count": null,
   "metadata": {},
   "outputs": [],
   "source": []
  }
 ],
 "metadata": {
  "kernelspec": {
   "display_name": "Python 3",
   "language": "python",
   "name": "python3"
  },
  "language_info": {
   "codemirror_mode": {
    "name": "ipython",
    "version": 3
   },
   "file_extension": ".py",
   "mimetype": "text/x-python",
   "name": "python",
   "nbconvert_exporter": "python",
   "pygments_lexer": "ipython3",
   "version": "3.8.5"
  }
 },
 "nbformat": 4,
 "nbformat_minor": 4
}
