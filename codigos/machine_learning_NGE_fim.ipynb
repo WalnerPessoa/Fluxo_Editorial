{
 "cells": [
  {
   "cell_type": "code",
   "execution_count": 239,
   "metadata": {},
   "outputs": [],
   "source": [
    "import pandas as pd\n",
    "import numpy as np\n",
    "from sklearn.model_selection import RepeatedKFold\n",
    "from sklearn.model_selection import train_test_split\n",
    "\n",
    "#Importando o modelo machine learnig\n",
    "from sklearn.linear_model import LinearRegression\n",
    "from sklearn.ensemble import RandomForestClassifier\n",
    "from sklearn import metrics\n",
    "import pickle\n",
    "\n"
   ]
  },
  {
   "cell_type": "code",
   "execution_count": 240,
   "metadata": {},
   "outputs": [],
   "source": [
    "# importar csv\n",
    "data = pd.read_csv(\"nge_dados_input_final.csv\")\n",
    "#data_semNF = pd.read_csv(\"nge_dados_input_semNF.csv\") # jobs sem nota está emoutro método"
   ]
  },
  {
   "cell_type": "code",
   "execution_count": 241,
   "metadata": {
    "scrolled": true
   },
   "outputs": [
    {
     "data": {
      "text/plain": [
       "id                 int64\n",
       "pag_final          int64\n",
       "qtd_pg_word        int64\n",
       "qtd_carc           int64\n",
       "qtd_tabela         int64\n",
       "qtd_image          int64\n",
       "qtd_estilos      float64\n",
       "Data              object\n",
       "tamanho_livro      int64\n",
       "dtype: object"
      ]
     },
     "execution_count": 241,
     "metadata": {},
     "output_type": "execute_result"
    }
   ],
   "source": [
    "data.dtypes"
   ]
  },
  {
   "cell_type": "code",
   "execution_count": 242,
   "metadata": {
    "scrolled": false
   },
   "outputs": [
    {
     "data": {
      "text/html": [
       "<div>\n",
       "<style scoped>\n",
       "    .dataframe tbody tr th:only-of-type {\n",
       "        vertical-align: middle;\n",
       "    }\n",
       "\n",
       "    .dataframe tbody tr th {\n",
       "        vertical-align: top;\n",
       "    }\n",
       "\n",
       "    .dataframe thead th {\n",
       "        text-align: right;\n",
       "    }\n",
       "</style>\n",
       "<table border=\"1\" class=\"dataframe\">\n",
       "  <thead>\n",
       "    <tr style=\"text-align: right;\">\n",
       "      <th></th>\n",
       "      <th>id</th>\n",
       "      <th>pag_final</th>\n",
       "      <th>qtd_pg_word</th>\n",
       "      <th>qtd_carc</th>\n",
       "      <th>qtd_tabela</th>\n",
       "      <th>qtd_image</th>\n",
       "      <th>qtd_estilos</th>\n",
       "      <th>Data</th>\n",
       "      <th>tamanho_livro</th>\n",
       "    </tr>\n",
       "  </thead>\n",
       "  <tbody>\n",
       "    <tr>\n",
       "      <th>0</th>\n",
       "      <td>224323</td>\n",
       "      <td>140</td>\n",
       "      <td>87</td>\n",
       "      <td>116142</td>\n",
       "      <td>505</td>\n",
       "      <td>742</td>\n",
       "      <td>60.0</td>\n",
       "      <td>2018-09-20</td>\n",
       "      <td>2</td>\n",
       "    </tr>\n",
       "    <tr>\n",
       "      <th>1</th>\n",
       "      <td>224325</td>\n",
       "      <td>122</td>\n",
       "      <td>82</td>\n",
       "      <td>108307</td>\n",
       "      <td>76</td>\n",
       "      <td>94</td>\n",
       "      <td>69.0</td>\n",
       "      <td>2018-09-20</td>\n",
       "      <td>2</td>\n",
       "    </tr>\n",
       "    <tr>\n",
       "      <th>2</th>\n",
       "      <td>225392</td>\n",
       "      <td>52</td>\n",
       "      <td>30</td>\n",
       "      <td>41144</td>\n",
       "      <td>28</td>\n",
       "      <td>24</td>\n",
       "      <td>23.0</td>\n",
       "      <td>2018-11-07</td>\n",
       "      <td>1</td>\n",
       "    </tr>\n",
       "    <tr>\n",
       "      <th>3</th>\n",
       "      <td>225392</td>\n",
       "      <td>52</td>\n",
       "      <td>42</td>\n",
       "      <td>62913</td>\n",
       "      <td>432</td>\n",
       "      <td>696</td>\n",
       "      <td>21.0</td>\n",
       "      <td>2018-11-05</td>\n",
       "      <td>1</td>\n",
       "    </tr>\n",
       "    <tr>\n",
       "      <th>4</th>\n",
       "      <td>225531</td>\n",
       "      <td>32</td>\n",
       "      <td>36</td>\n",
       "      <td>37548</td>\n",
       "      <td>270</td>\n",
       "      <td>456</td>\n",
       "      <td>17.0</td>\n",
       "      <td>2018-11-07</td>\n",
       "      <td>0</td>\n",
       "    </tr>\n",
       "    <tr>\n",
       "      <th>5</th>\n",
       "      <td>228711</td>\n",
       "      <td>48</td>\n",
       "      <td>77</td>\n",
       "      <td>101967</td>\n",
       "      <td>317</td>\n",
       "      <td>517</td>\n",
       "      <td>17.0</td>\n",
       "      <td>2019-03-28</td>\n",
       "      <td>0</td>\n",
       "    </tr>\n",
       "    <tr>\n",
       "      <th>6</th>\n",
       "      <td>226842</td>\n",
       "      <td>88</td>\n",
       "      <td>46</td>\n",
       "      <td>96474</td>\n",
       "      <td>99</td>\n",
       "      <td>114</td>\n",
       "      <td>37.0</td>\n",
       "      <td>2019-01-15</td>\n",
       "      <td>1</td>\n",
       "    </tr>\n",
       "    <tr>\n",
       "      <th>7</th>\n",
       "      <td>227130</td>\n",
       "      <td>66</td>\n",
       "      <td>66</td>\n",
       "      <td>112888</td>\n",
       "      <td>604</td>\n",
       "      <td>872</td>\n",
       "      <td>23.0</td>\n",
       "      <td>2020-11-09</td>\n",
       "      <td>1</td>\n",
       "    </tr>\n",
       "    <tr>\n",
       "      <th>8</th>\n",
       "      <td>228307</td>\n",
       "      <td>82</td>\n",
       "      <td>62</td>\n",
       "      <td>43155</td>\n",
       "      <td>40</td>\n",
       "      <td>73</td>\n",
       "      <td>25.0</td>\n",
       "      <td>2019-02-26</td>\n",
       "      <td>1</td>\n",
       "    </tr>\n",
       "    <tr>\n",
       "      <th>9</th>\n",
       "      <td>228354</td>\n",
       "      <td>92</td>\n",
       "      <td>76</td>\n",
       "      <td>129122</td>\n",
       "      <td>14</td>\n",
       "      <td>10</td>\n",
       "      <td>26.0</td>\n",
       "      <td>2019-02-27</td>\n",
       "      <td>1</td>\n",
       "    </tr>\n",
       "    <tr>\n",
       "      <th>10</th>\n",
       "      <td>228437</td>\n",
       "      <td>70</td>\n",
       "      <td>80</td>\n",
       "      <td>145034</td>\n",
       "      <td>175</td>\n",
       "      <td>370</td>\n",
       "      <td>35.0</td>\n",
       "      <td>2018-10-16</td>\n",
       "      <td>1</td>\n",
       "    </tr>\n",
       "    <tr>\n",
       "      <th>11</th>\n",
       "      <td>228603</td>\n",
       "      <td>96</td>\n",
       "      <td>13</td>\n",
       "      <td>45943</td>\n",
       "      <td>114</td>\n",
       "      <td>132</td>\n",
       "      <td>22.0</td>\n",
       "      <td>2019-03-21</td>\n",
       "      <td>1</td>\n",
       "    </tr>\n",
       "  </tbody>\n",
       "</table>\n",
       "</div>"
      ],
      "text/plain": [
       "        id  pag_final  qtd_pg_word  qtd_carc  qtd_tabela  qtd_image  \\\n",
       "0   224323        140           87    116142         505        742   \n",
       "1   224325        122           82    108307          76         94   \n",
       "2   225392         52           30     41144          28         24   \n",
       "3   225392         52           42     62913         432        696   \n",
       "4   225531         32           36     37548         270        456   \n",
       "5   228711         48           77    101967         317        517   \n",
       "6   226842         88           46     96474          99        114   \n",
       "7   227130         66           66    112888         604        872   \n",
       "8   228307         82           62     43155          40         73   \n",
       "9   228354         92           76    129122          14         10   \n",
       "10  228437         70           80    145034         175        370   \n",
       "11  228603         96           13     45943         114        132   \n",
       "\n",
       "    qtd_estilos        Data  tamanho_livro  \n",
       "0          60.0  2018-09-20              2  \n",
       "1          69.0  2018-09-20              2  \n",
       "2          23.0  2018-11-07              1  \n",
       "3          21.0  2018-11-05              1  \n",
       "4          17.0  2018-11-07              0  \n",
       "5          17.0  2019-03-28              0  \n",
       "6          37.0  2019-01-15              1  \n",
       "7          23.0  2020-11-09              1  \n",
       "8          25.0  2019-02-26              1  \n",
       "9          26.0  2019-02-27              1  \n",
       "10         35.0  2018-10-16              1  \n",
       "11         22.0  2019-03-21              1  "
      ]
     },
     "execution_count": 242,
     "metadata": {},
     "output_type": "execute_result"
    }
   ],
   "source": [
    "data.head(12)"
   ]
  },
  {
   "cell_type": "code",
   "execution_count": 243,
   "metadata": {
    "scrolled": true
   },
   "outputs": [
    {
     "data": {
      "text/plain": [
       "array([ 87,  82,  30,  42,  36,  77,  46,  66,  62,  76,  80,  13,  34,\n",
       "        52,  18,  78,  50,  47,  54,  88,  91,  38, 214,  22,  26,  92,\n",
       "        14,  40,  81,  63, 216,  24,  33, 195,  29,  60,  70,  72, 107,\n",
       "        85,  68,  41, 112,  45,  19,  51,  83,  31,  56,  28,  21,  12,\n",
       "        17, 131,  67, 207,  43,  73,  86,  90,  49, 106,  39,  59,  48,\n",
       "        64,  23,  44,  20, 142,  11, 424, 374,  32,  57,  37])"
      ]
     },
     "execution_count": 243,
     "metadata": {},
     "output_type": "execute_result"
    }
   ],
   "source": [
    "data['qtd_pg_word'].unique()"
   ]
  },
  {
   "cell_type": "code",
   "execution_count": 244,
   "metadata": {
    "scrolled": true
   },
   "outputs": [
    {
     "name": "stdout",
     "output_type": "stream",
     "text": [
      "9\n",
      "67\n",
      "63\n"
     ]
    }
   ],
   "source": [
    "# tentanto estatificar o dataframe\n",
    "print(len(data[data[\"pag_final\"]>149]))\n",
    "print(len(data[(data[\"pag_final\"]>59) & (data[\"pag_final\"]<150)]))\n",
    "print(len(data[data[\"pag_final\"]<60]))"
   ]
  },
  {
   "cell_type": "code",
   "execution_count": 245,
   "metadata": {},
   "outputs": [
    {
     "name": "stdout",
     "output_type": "stream",
     "text": [
      "16\n",
      "95\n",
      "28\n"
     ]
    }
   ],
   "source": [
    "print(len(data[data[\"tamanho_livro\"]==2]))\n",
    "print(len(data[data[\"tamanho_livro\"]==1]))\n",
    "print(len(data[data[\"tamanho_livro\"]==0]))"
   ]
  },
  {
   "cell_type": "markdown",
   "metadata": {},
   "source": [
    "# fazer um critério de seleção de dados:\n",
    "### se o dado colhido na tabela (qtd_pag_word) tiver diferente da raspagem do word (qtd_pg_word) mais de 5 pontos deve retirar do arquivo de entrada. \n",
    "###  - incluir a coluna raspagem do word (qtd_pg_word)  para treinamento"
   ]
  },
  {
   "cell_type": "code",
   "execution_count": 246,
   "metadata": {},
   "outputs": [
    {
     "data": {
      "text/plain": [
       "139"
      ]
     },
     "execution_count": 246,
     "metadata": {},
     "output_type": "execute_result"
    }
   ],
   "source": [
    "data['id'].count()"
   ]
  },
  {
   "cell_type": "code",
   "execution_count": 247,
   "metadata": {
    "scrolled": true
   },
   "outputs": [
    {
     "data": {
      "text/html": [
       "<div>\n",
       "<style scoped>\n",
       "    .dataframe tbody tr th:only-of-type {\n",
       "        vertical-align: middle;\n",
       "    }\n",
       "\n",
       "    .dataframe tbody tr th {\n",
       "        vertical-align: top;\n",
       "    }\n",
       "\n",
       "    .dataframe thead th {\n",
       "        text-align: right;\n",
       "    }\n",
       "</style>\n",
       "<table border=\"1\" class=\"dataframe\">\n",
       "  <thead>\n",
       "    <tr style=\"text-align: right;\">\n",
       "      <th></th>\n",
       "      <th>id</th>\n",
       "      <th>pag_final</th>\n",
       "      <th>qtd_pg_word</th>\n",
       "      <th>qtd_carc</th>\n",
       "      <th>qtd_tabela</th>\n",
       "      <th>qtd_image</th>\n",
       "      <th>qtd_estilos</th>\n",
       "      <th>tamanho_livro</th>\n",
       "    </tr>\n",
       "  </thead>\n",
       "  <tbody>\n",
       "    <tr>\n",
       "      <th>count</th>\n",
       "      <td>139.000000</td>\n",
       "      <td>139.000000</td>\n",
       "      <td>139.000000</td>\n",
       "      <td>139.000000</td>\n",
       "      <td>139.000000</td>\n",
       "      <td>139.000000</td>\n",
       "      <td>139.000000</td>\n",
       "      <td>139.000000</td>\n",
       "    </tr>\n",
       "    <tr>\n",
       "      <th>mean</th>\n",
       "      <td>219735.294964</td>\n",
       "      <td>76.733813</td>\n",
       "      <td>59.359712</td>\n",
       "      <td>90749.014388</td>\n",
       "      <td>393.913669</td>\n",
       "      <td>432.057554</td>\n",
       "      <td>27.266187</td>\n",
       "      <td>0.913669</td>\n",
       "    </tr>\n",
       "    <tr>\n",
       "      <th>std</th>\n",
       "      <td>54569.337684</td>\n",
       "      <td>58.271301</td>\n",
       "      <td>55.227068</td>\n",
       "      <td>101685.944703</td>\n",
       "      <td>282.048549</td>\n",
       "      <td>239.173631</td>\n",
       "      <td>14.970297</td>\n",
       "      <td>0.557973</td>\n",
       "    </tr>\n",
       "    <tr>\n",
       "      <th>min</th>\n",
       "      <td>0.000000</td>\n",
       "      <td>1.000000</td>\n",
       "      <td>11.000000</td>\n",
       "      <td>12032.000000</td>\n",
       "      <td>2.000000</td>\n",
       "      <td>2.000000</td>\n",
       "      <td>3.000000</td>\n",
       "      <td>0.000000</td>\n",
       "    </tr>\n",
       "    <tr>\n",
       "      <th>25%</th>\n",
       "      <td>230981.500000</td>\n",
       "      <td>42.500000</td>\n",
       "      <td>29.500000</td>\n",
       "      <td>32448.000000</td>\n",
       "      <td>152.000000</td>\n",
       "      <td>262.000000</td>\n",
       "      <td>18.500000</td>\n",
       "      <td>1.000000</td>\n",
       "    </tr>\n",
       "    <tr>\n",
       "      <th>50%</th>\n",
       "      <td>233887.000000</td>\n",
       "      <td>66.000000</td>\n",
       "      <td>46.000000</td>\n",
       "      <td>70528.000000</td>\n",
       "      <td>351.000000</td>\n",
       "      <td>438.000000</td>\n",
       "      <td>23.000000</td>\n",
       "      <td>1.000000</td>\n",
       "    </tr>\n",
       "    <tr>\n",
       "      <th>75%</th>\n",
       "      <td>235519.500000</td>\n",
       "      <td>91.000000</td>\n",
       "      <td>70.000000</td>\n",
       "      <td>101969.000000</td>\n",
       "      <td>570.000000</td>\n",
       "      <td>634.000000</td>\n",
       "      <td>29.000000</td>\n",
       "      <td>1.000000</td>\n",
       "    </tr>\n",
       "    <tr>\n",
       "      <th>max</th>\n",
       "      <td>236123.000000</td>\n",
       "      <td>386.000000</td>\n",
       "      <td>424.000000</td>\n",
       "      <td>660609.000000</td>\n",
       "      <td>929.000000</td>\n",
       "      <td>872.000000</td>\n",
       "      <td>127.000000</td>\n",
       "      <td>2.000000</td>\n",
       "    </tr>\n",
       "  </tbody>\n",
       "</table>\n",
       "</div>"
      ],
      "text/plain": [
       "                  id   pag_final  qtd_pg_word       qtd_carc  qtd_tabela  \\\n",
       "count     139.000000  139.000000   139.000000     139.000000  139.000000   \n",
       "mean   219735.294964   76.733813    59.359712   90749.014388  393.913669   \n",
       "std     54569.337684   58.271301    55.227068  101685.944703  282.048549   \n",
       "min         0.000000    1.000000    11.000000   12032.000000    2.000000   \n",
       "25%    230981.500000   42.500000    29.500000   32448.000000  152.000000   \n",
       "50%    233887.000000   66.000000    46.000000   70528.000000  351.000000   \n",
       "75%    235519.500000   91.000000    70.000000  101969.000000  570.000000   \n",
       "max    236123.000000  386.000000   424.000000  660609.000000  929.000000   \n",
       "\n",
       "        qtd_image  qtd_estilos  tamanho_livro  \n",
       "count  139.000000   139.000000     139.000000  \n",
       "mean   432.057554    27.266187       0.913669  \n",
       "std    239.173631    14.970297       0.557973  \n",
       "min      2.000000     3.000000       0.000000  \n",
       "25%    262.000000    18.500000       1.000000  \n",
       "50%    438.000000    23.000000       1.000000  \n",
       "75%    634.000000    29.000000       1.000000  \n",
       "max    872.000000   127.000000       2.000000  "
      ]
     },
     "execution_count": 247,
     "metadata": {},
     "output_type": "execute_result"
    }
   ],
   "source": [
    "data.describe()"
   ]
  },
  {
   "cell_type": "code",
   "execution_count": 248,
   "metadata": {},
   "outputs": [],
   "source": [
    "#\n",
    "# normalizar a quantidade de caracteres\n",
    "#\n",
    "data.loc[:,'qtd_carc_normal'] = pd.Series((data.qtd_carc-data.qtd_carc.min())/(data.qtd_carc.max()-data.qtd_carc.min()))"
   ]
  },
  {
   "cell_type": "code",
   "execution_count": 249,
   "metadata": {},
   "outputs": [],
   "source": [
    "#########################################################\n",
    "# INÍCIO DA PARTE DE MACHINE LEARNIG  \\\n",
    "# RANDOM FOREST\n",
    "########################################################"
   ]
  },
  {
   "cell_type": "code",
   "execution_count": 250,
   "metadata": {},
   "outputs": [],
   "source": [
    "# instalar biblioteca scikit-learn\n",
    "#! pip install -U scikit-learn"
   ]
  },
  {
   "cell_type": "code",
   "execution_count": 251,
   "metadata": {},
   "outputs": [
    {
     "data": {
      "text/plain": [
       "Index(['id', 'pag_final', 'qtd_pg_word', 'qtd_carc', 'qtd_tabela', 'qtd_image',\n",
       "       'qtd_estilos', 'Data', 'tamanho_livro', 'qtd_carc_normal'],\n",
       "      dtype='object')"
      ]
     },
     "execution_count": 251,
     "metadata": {},
     "output_type": "execute_result"
    }
   ],
   "source": [
    "data.columns"
   ]
  },
  {
   "cell_type": "code",
   "execution_count": 252,
   "metadata": {},
   "outputs": [],
   "source": [
    "colunas_X= ['qtd_pg_word','qtd_tabela','qtd_image', 'qtd_estilos', 'qtd_carc','tamanho_livro']\n",
    "\n",
    "# ficou de fora: 'qtd_estilos', 'qtd_carc_normal']\n",
    "\n",
    "colunas_y=['pag_final']\n",
    "X = data[colunas_X]\n",
    "y = data[colunas_y]"
   ]
  },
  {
   "cell_type": "code",
   "execution_count": 253,
   "metadata": {},
   "outputs": [
    {
     "data": {
      "text/plain": [
       "Index(['qtd_pg_word', 'qtd_tabela', 'qtd_image', 'qtd_estilos', 'qtd_carc',\n",
       "       'tamanho_livro'],\n",
       "      dtype='object')"
      ]
     },
     "execution_count": 253,
     "metadata": {},
     "output_type": "execute_result"
    }
   ],
   "source": [
    "X.columns"
   ]
  },
  {
   "cell_type": "code",
   "execution_count": 254,
   "metadata": {},
   "outputs": [],
   "source": [
    "# método train_test_split, Scikit-Learn \n",
    "X_train_f, X_test_f, y_train_f, y_test_f = train_test_split(X, y, test_size=0.20, random_state=0,stratify=X['tamanho_livro'])"
   ]
  },
  {
   "cell_type": "code",
   "execution_count": 255,
   "metadata": {},
   "outputs": [
    {
     "data": {
      "text/plain": [
       "((111, 6), (28, 6), (111, 1), (28, 1))"
      ]
     },
     "execution_count": 255,
     "metadata": {},
     "output_type": "execute_result"
    }
   ],
   "source": [
    "X_train_f.shape, X_test_f.shape, y_train_f.shape, y_test_f.shape"
   ]
  },
  {
   "cell_type": "code",
   "execution_count": 256,
   "metadata": {},
   "outputs": [
    {
     "data": {
      "text/html": [
       "<div>\n",
       "<style scoped>\n",
       "    .dataframe tbody tr th:only-of-type {\n",
       "        vertical-align: middle;\n",
       "    }\n",
       "\n",
       "    .dataframe tbody tr th {\n",
       "        vertical-align: top;\n",
       "    }\n",
       "\n",
       "    .dataframe thead th {\n",
       "        text-align: right;\n",
       "    }\n",
       "</style>\n",
       "<table border=\"1\" class=\"dataframe\">\n",
       "  <thead>\n",
       "    <tr style=\"text-align: right;\">\n",
       "      <th></th>\n",
       "      <th>pag_final</th>\n",
       "    </tr>\n",
       "  </thead>\n",
       "  <tbody>\n",
       "    <tr>\n",
       "      <th>75</th>\n",
       "      <td>46</td>\n",
       "    </tr>\n",
       "    <tr>\n",
       "      <th>98</th>\n",
       "      <td>110</td>\n",
       "    </tr>\n",
       "    <tr>\n",
       "      <th>44</th>\n",
       "      <td>46</td>\n",
       "    </tr>\n",
       "    <tr>\n",
       "      <th>29</th>\n",
       "      <td>46</td>\n",
       "    </tr>\n",
       "    <tr>\n",
       "      <th>73</th>\n",
       "      <td>86</td>\n",
       "    </tr>\n",
       "  </tbody>\n",
       "</table>\n",
       "</div>"
      ],
      "text/plain": [
       "    pag_final\n",
       "75         46\n",
       "98        110\n",
       "44         46\n",
       "29         46\n",
       "73         86"
      ]
     },
     "execution_count": 256,
     "metadata": {},
     "output_type": "execute_result"
    }
   ],
   "source": [
    "y_test_f.head()"
   ]
  },
  {
   "cell_type": "code",
   "execution_count": 257,
   "metadata": {},
   "outputs": [
    {
     "data": {
      "text/html": [
       "<div>\n",
       "<style scoped>\n",
       "    .dataframe tbody tr th:only-of-type {\n",
       "        vertical-align: middle;\n",
       "    }\n",
       "\n",
       "    .dataframe tbody tr th {\n",
       "        vertical-align: top;\n",
       "    }\n",
       "\n",
       "    .dataframe thead th {\n",
       "        text-align: right;\n",
       "    }\n",
       "</style>\n",
       "<table border=\"1\" class=\"dataframe\">\n",
       "  <thead>\n",
       "    <tr style=\"text-align: right;\">\n",
       "      <th></th>\n",
       "      <th>qtd_pg_word</th>\n",
       "      <th>qtd_tabela</th>\n",
       "      <th>qtd_image</th>\n",
       "      <th>qtd_estilos</th>\n",
       "      <th>qtd_carc</th>\n",
       "      <th>tamanho_livro</th>\n",
       "    </tr>\n",
       "  </thead>\n",
       "  <tbody>\n",
       "    <tr>\n",
       "      <th>53</th>\n",
       "      <td>41</td>\n",
       "      <td>571</td>\n",
       "      <td>852</td>\n",
       "      <td>30.0</td>\n",
       "      <td>42669</td>\n",
       "      <td>1</td>\n",
       "    </tr>\n",
       "    <tr>\n",
       "      <th>104</th>\n",
       "      <td>40</td>\n",
       "      <td>39</td>\n",
       "      <td>25</td>\n",
       "      <td>22.0</td>\n",
       "      <td>42151</td>\n",
       "      <td>2</td>\n",
       "    </tr>\n",
       "    <tr>\n",
       "      <th>86</th>\n",
       "      <td>49</td>\n",
       "      <td>895</td>\n",
       "      <td>682</td>\n",
       "      <td>20.0</td>\n",
       "      <td>103663</td>\n",
       "      <td>1</td>\n",
       "    </tr>\n",
       "    <tr>\n",
       "      <th>87</th>\n",
       "      <td>70</td>\n",
       "      <td>220</td>\n",
       "      <td>438</td>\n",
       "      <td>17.0</td>\n",
       "      <td>95656</td>\n",
       "      <td>2</td>\n",
       "    </tr>\n",
       "    <tr>\n",
       "      <th>18</th>\n",
       "      <td>47</td>\n",
       "      <td>85</td>\n",
       "      <td>111</td>\n",
       "      <td>28.0</td>\n",
       "      <td>87338</td>\n",
       "      <td>1</td>\n",
       "    </tr>\n",
       "    <tr>\n",
       "      <th>...</th>\n",
       "      <td>...</td>\n",
       "      <td>...</td>\n",
       "      <td>...</td>\n",
       "      <td>...</td>\n",
       "      <td>...</td>\n",
       "      <td>...</td>\n",
       "    </tr>\n",
       "    <tr>\n",
       "      <th>56</th>\n",
       "      <td>45</td>\n",
       "      <td>315</td>\n",
       "      <td>495</td>\n",
       "      <td>40.0</td>\n",
       "      <td>70054</td>\n",
       "      <td>1</td>\n",
       "    </tr>\n",
       "    <tr>\n",
       "      <th>68</th>\n",
       "      <td>21</td>\n",
       "      <td>738</td>\n",
       "      <td>559</td>\n",
       "      <td>12.0</td>\n",
       "      <td>29631</td>\n",
       "      <td>0</td>\n",
       "    </tr>\n",
       "    <tr>\n",
       "      <th>128</th>\n",
       "      <td>30</td>\n",
       "      <td>482</td>\n",
       "      <td>419</td>\n",
       "      <td>43.0</td>\n",
       "      <td>66895</td>\n",
       "      <td>1</td>\n",
       "    </tr>\n",
       "    <tr>\n",
       "      <th>77</th>\n",
       "      <td>207</td>\n",
       "      <td>763</td>\n",
       "      <td>568</td>\n",
       "      <td>24.0</td>\n",
       "      <td>571640</td>\n",
       "      <td>1</td>\n",
       "    </tr>\n",
       "    <tr>\n",
       "      <th>7</th>\n",
       "      <td>66</td>\n",
       "      <td>604</td>\n",
       "      <td>872</td>\n",
       "      <td>23.0</td>\n",
       "      <td>112888</td>\n",
       "      <td>1</td>\n",
       "    </tr>\n",
       "  </tbody>\n",
       "</table>\n",
       "<p>111 rows × 6 columns</p>\n",
       "</div>"
      ],
      "text/plain": [
       "     qtd_pg_word  qtd_tabela  qtd_image  qtd_estilos  qtd_carc  tamanho_livro\n",
       "53            41         571        852         30.0     42669              1\n",
       "104           40          39         25         22.0     42151              2\n",
       "86            49         895        682         20.0    103663              1\n",
       "87            70         220        438         17.0     95656              2\n",
       "18            47          85        111         28.0     87338              1\n",
       "..           ...         ...        ...          ...       ...            ...\n",
       "56            45         315        495         40.0     70054              1\n",
       "68            21         738        559         12.0     29631              0\n",
       "128           30         482        419         43.0     66895              1\n",
       "77           207         763        568         24.0    571640              1\n",
       "7             66         604        872         23.0    112888              1\n",
       "\n",
       "[111 rows x 6 columns]"
      ]
     },
     "execution_count": 257,
     "metadata": {},
     "output_type": "execute_result"
    }
   ],
   "source": [
    "X_train_f"
   ]
  },
  {
   "cell_type": "code",
   "execution_count": 258,
   "metadata": {},
   "outputs": [
    {
     "data": {
      "text/plain": [
       "qtd_pg_word        int64\n",
       "qtd_tabela         int64\n",
       "qtd_image          int64\n",
       "qtd_estilos      float64\n",
       "qtd_carc           int64\n",
       "tamanho_livro      int64\n",
       "dtype: object"
      ]
     },
     "execution_count": 258,
     "metadata": {},
     "output_type": "execute_result"
    }
   ],
   "source": [
    "X_train_f.dtypes"
   ]
  },
  {
   "cell_type": "code",
   "execution_count": 259,
   "metadata": {},
   "outputs": [
    {
     "data": {
      "text/html": [
       "<div>\n",
       "<style scoped>\n",
       "    .dataframe tbody tr th:only-of-type {\n",
       "        vertical-align: middle;\n",
       "    }\n",
       "\n",
       "    .dataframe tbody tr th {\n",
       "        vertical-align: top;\n",
       "    }\n",
       "\n",
       "    .dataframe thead th {\n",
       "        text-align: right;\n",
       "    }\n",
       "</style>\n",
       "<table border=\"1\" class=\"dataframe\">\n",
       "  <thead>\n",
       "    <tr style=\"text-align: right;\">\n",
       "      <th></th>\n",
       "      <th>pag_final</th>\n",
       "    </tr>\n",
       "  </thead>\n",
       "  <tbody>\n",
       "    <tr>\n",
       "      <th>53</th>\n",
       "      <td>98</td>\n",
       "    </tr>\n",
       "    <tr>\n",
       "      <th>104</th>\n",
       "      <td>162</td>\n",
       "    </tr>\n",
       "    <tr>\n",
       "      <th>86</th>\n",
       "      <td>68</td>\n",
       "    </tr>\n",
       "    <tr>\n",
       "      <th>87</th>\n",
       "      <td>296</td>\n",
       "    </tr>\n",
       "    <tr>\n",
       "      <th>18</th>\n",
       "      <td>28</td>\n",
       "    </tr>\n",
       "    <tr>\n",
       "      <th>...</th>\n",
       "      <td>...</td>\n",
       "    </tr>\n",
       "    <tr>\n",
       "      <th>56</th>\n",
       "      <td>104</td>\n",
       "    </tr>\n",
       "    <tr>\n",
       "      <th>68</th>\n",
       "      <td>40</td>\n",
       "    </tr>\n",
       "    <tr>\n",
       "      <th>128</th>\n",
       "      <td>38</td>\n",
       "    </tr>\n",
       "    <tr>\n",
       "      <th>77</th>\n",
       "      <td>20</td>\n",
       "    </tr>\n",
       "    <tr>\n",
       "      <th>7</th>\n",
       "      <td>66</td>\n",
       "    </tr>\n",
       "  </tbody>\n",
       "</table>\n",
       "<p>111 rows × 1 columns</p>\n",
       "</div>"
      ],
      "text/plain": [
       "     pag_final\n",
       "53          98\n",
       "104        162\n",
       "86          68\n",
       "87         296\n",
       "18          28\n",
       "..         ...\n",
       "56         104\n",
       "68          40\n",
       "128         38\n",
       "77          20\n",
       "7           66\n",
       "\n",
       "[111 rows x 1 columns]"
      ]
     },
     "execution_count": 259,
     "metadata": {},
     "output_type": "execute_result"
    }
   ],
   "source": [
    "y_train_f"
   ]
  },
  {
   "cell_type": "code",
   "execution_count": 260,
   "metadata": {},
   "outputs": [
    {
     "name": "stdout",
     "output_type": "stream",
     "text": [
      "(111, 6) (111, 1)\n"
     ]
    }
   ],
   "source": [
    "print(X_train_f.shape,y_train_f.shape)"
   ]
  },
  {
   "cell_type": "code",
   "execution_count": 261,
   "metadata": {},
   "outputs": [
    {
     "name": "stdout",
     "output_type": "stream",
     "text": [
      "(111, 6) (111,)\n"
     ]
    }
   ],
   "source": [
    "print(X_train_f.shape,y_train_f.values.ravel().shape)"
   ]
  },
  {
   "cell_type": "code",
   "execution_count": 262,
   "metadata": {},
   "outputs": [],
   "source": [
    "modelo = RandomForestClassifier(n_estimators=100, n_jobs=-1, random_state=0)\n",
    "modelo = modelo.fit(X_train_f, y_train_f.values.ravel())\n"
   ]
  },
  {
   "cell_type": "code",
   "execution_count": 263,
   "metadata": {},
   "outputs": [],
   "source": [
    "p = modelo.predict(X_test_f)"
   ]
  },
  {
   "cell_type": "code",
   "execution_count": 264,
   "metadata": {},
   "outputs": [
    {
     "data": {
      "text/plain": [
       "array([ 38,  78,  52, 122,  68,  96, 120, 122,  57,  68,  44,  68,  68,\n",
       "        43,  76,  66, 126,  96,  54,  48,  48,  68,  48, 340, 168,  48,\n",
       "        28,  40])"
      ]
     },
     "execution_count": 264,
     "metadata": {},
     "output_type": "execute_result"
    }
   ],
   "source": [
    "p"
   ]
  },
  {
   "cell_type": "code",
   "execution_count": 265,
   "metadata": {},
   "outputs": [
    {
     "name": "stdout",
     "output_type": "stream",
     "text": [
      "(28,) (28, 1)\n"
     ]
    }
   ],
   "source": [
    "print(p.shape,y_test_f.shape)"
   ]
  },
  {
   "cell_type": "code",
   "execution_count": 266,
   "metadata": {},
   "outputs": [
    {
     "data": {
      "text/html": [
       "<div>\n",
       "<style scoped>\n",
       "    .dataframe tbody tr th:only-of-type {\n",
       "        vertical-align: middle;\n",
       "    }\n",
       "\n",
       "    .dataframe tbody tr th {\n",
       "        vertical-align: top;\n",
       "    }\n",
       "\n",
       "    .dataframe thead th {\n",
       "        text-align: right;\n",
       "    }\n",
       "</style>\n",
       "<table border=\"1\" class=\"dataframe\">\n",
       "  <thead>\n",
       "    <tr style=\"text-align: right;\">\n",
       "      <th></th>\n",
       "      <th>pag_final</th>\n",
       "    </tr>\n",
       "  </thead>\n",
       "  <tbody>\n",
       "    <tr>\n",
       "      <th>75</th>\n",
       "      <td>46</td>\n",
       "    </tr>\n",
       "    <tr>\n",
       "      <th>98</th>\n",
       "      <td>110</td>\n",
       "    </tr>\n",
       "    <tr>\n",
       "      <th>44</th>\n",
       "      <td>46</td>\n",
       "    </tr>\n",
       "    <tr>\n",
       "      <th>29</th>\n",
       "      <td>46</td>\n",
       "    </tr>\n",
       "    <tr>\n",
       "      <th>73</th>\n",
       "      <td>86</td>\n",
       "    </tr>\n",
       "    <tr>\n",
       "      <th>121</th>\n",
       "      <td>66</td>\n",
       "    </tr>\n",
       "    <tr>\n",
       "      <th>102</th>\n",
       "      <td>128</td>\n",
       "    </tr>\n",
       "    <tr>\n",
       "      <th>15</th>\n",
       "      <td>46</td>\n",
       "    </tr>\n",
       "    <tr>\n",
       "      <th>97</th>\n",
       "      <td>57</td>\n",
       "    </tr>\n",
       "    <tr>\n",
       "      <th>21</th>\n",
       "      <td>84</td>\n",
       "    </tr>\n",
       "    <tr>\n",
       "      <th>122</th>\n",
       "      <td>90</td>\n",
       "    </tr>\n",
       "    <tr>\n",
       "      <th>120</th>\n",
       "      <td>62</td>\n",
       "    </tr>\n",
       "    <tr>\n",
       "      <th>119</th>\n",
       "      <td>44</td>\n",
       "    </tr>\n",
       "    <tr>\n",
       "      <th>94</th>\n",
       "      <td>38</td>\n",
       "    </tr>\n",
       "    <tr>\n",
       "      <th>42</th>\n",
       "      <td>38</td>\n",
       "    </tr>\n",
       "    <tr>\n",
       "      <th>125</th>\n",
       "      <td>30</td>\n",
       "    </tr>\n",
       "    <tr>\n",
       "      <th>105</th>\n",
       "      <td>54</td>\n",
       "    </tr>\n",
       "    <tr>\n",
       "      <th>30</th>\n",
       "      <td>72</td>\n",
       "    </tr>\n",
       "    <tr>\n",
       "      <th>49</th>\n",
       "      <td>66</td>\n",
       "    </tr>\n",
       "    <tr>\n",
       "      <th>115</th>\n",
       "      <td>40</td>\n",
       "    </tr>\n",
       "    <tr>\n",
       "      <th>66</th>\n",
       "      <td>48</td>\n",
       "    </tr>\n",
       "    <tr>\n",
       "      <th>85</th>\n",
       "      <td>88</td>\n",
       "    </tr>\n",
       "    <tr>\n",
       "      <th>54</th>\n",
       "      <td>40</td>\n",
       "    </tr>\n",
       "    <tr>\n",
       "      <th>69</th>\n",
       "      <td>196</td>\n",
       "    </tr>\n",
       "    <tr>\n",
       "      <th>27</th>\n",
       "      <td>340</td>\n",
       "    </tr>\n",
       "    <tr>\n",
       "      <th>4</th>\n",
       "      <td>32</td>\n",
       "    </tr>\n",
       "    <tr>\n",
       "      <th>57</th>\n",
       "      <td>96</td>\n",
       "    </tr>\n",
       "    <tr>\n",
       "      <th>14</th>\n",
       "      <td>40</td>\n",
       "    </tr>\n",
       "  </tbody>\n",
       "</table>\n",
       "</div>"
      ],
      "text/plain": [
       "     pag_final\n",
       "75          46\n",
       "98         110\n",
       "44          46\n",
       "29          46\n",
       "73          86\n",
       "121         66\n",
       "102        128\n",
       "15          46\n",
       "97          57\n",
       "21          84\n",
       "122         90\n",
       "120         62\n",
       "119         44\n",
       "94          38\n",
       "42          38\n",
       "125         30\n",
       "105         54\n",
       "30          72\n",
       "49          66\n",
       "115         40\n",
       "66          48\n",
       "85          88\n",
       "54          40\n",
       "69         196\n",
       "27         340\n",
       "4           32\n",
       "57          96\n",
       "14          40"
      ]
     },
     "execution_count": 266,
     "metadata": {},
     "output_type": "execute_result"
    }
   ],
   "source": [
    "y_test_f"
   ]
  },
  {
   "cell_type": "code",
   "execution_count": 267,
   "metadata": {},
   "outputs": [
    {
     "name": "stdout",
     "output_type": "stream",
     "text": [
      "RMSE:  53.89970845402201\n"
     ]
    }
   ],
   "source": [
    "# Calculando RMSE utilizando scikit-learn\n",
    "print('RMSE: ',np.sqrt(metrics.mean_squared_error(y_test_f,p)))\n",
    "# RMSE:  78.92781512242689\n",
    "# RMSE:  78.58244078673046\n",
    "# RMSE:  19.371957239079567\n",
    "# RMSE:  53.665631459994955\n",
    "# RMSE:  26.642413213111567 sem a feature quantidade de estilo\n",
    "# RMSE:  28.926238482168273   ['qtd_pag_word', 'qtd_carc','qtd_tabela','qtd_image']\n",
    "# RMSE:  9.302980949429841 depois de configurar split por estratificação\n",
    "# RMSE:  14.142135623730951\n",
    "# RMSE:  18.138357147217054"
   ]
  },
  {
   "cell_type": "code",
   "execution_count": 268,
   "metadata": {},
   "outputs": [],
   "source": [
    "# Save Model Using Pickle\n",
    "# save the model to disk\n",
    "\n",
    "filename = 'finalized_model-forest_final.sav'\n",
    "pickle.dump(modelo, open(filename, 'wb'))\n",
    " "
   ]
  },
  {
   "cell_type": "code",
   "execution_count": null,
   "metadata": {},
   "outputs": [],
   "source": []
  },
  {
   "cell_type": "code",
   "execution_count": null,
   "metadata": {},
   "outputs": [],
   "source": []
  },
  {
   "cell_type": "code",
   "execution_count": 269,
   "metadata": {},
   "outputs": [],
   "source": [
    "##############################################################################################################"
   ]
  },
  {
   "cell_type": "code",
   "execution_count": 270,
   "metadata": {},
   "outputs": [],
   "source": [
    "#########################################################\n",
    "# FIM RANDOM FOREST\n",
    "########################################################"
   ]
  },
  {
   "cell_type": "code",
   "execution_count": null,
   "metadata": {},
   "outputs": [],
   "source": []
  },
  {
   "cell_type": "code",
   "execution_count": 271,
   "metadata": {},
   "outputs": [],
   "source": [
    "##############################################################################################################"
   ]
  },
  {
   "cell_type": "code",
   "execution_count": 272,
   "metadata": {},
   "outputs": [],
   "source": [
    "#########################################################\n",
    "# INÍCIO DA PARTE DE MACHINE LEARNIG  \\\n",
    "# LINEAR REGRESSION\n",
    "########################################################"
   ]
  },
  {
   "cell_type": "code",
   "execution_count": 273,
   "metadata": {},
   "outputs": [],
   "source": [
    "\n",
    "colunas_X= ['id', 'qtd_pg_word','qtd_carc','qtd_tabela','qtd_image',\"qtd_estilos\",'qtd_carc','tamanho_livro']\n",
    "\n",
    "\n",
    "colunas_y=['pag_final']\n",
    "X = data[colunas_X]\n",
    "y = data[colunas_y]"
   ]
  },
  {
   "cell_type": "code",
   "execution_count": 274,
   "metadata": {},
   "outputs": [],
   "source": [
    "# método train_test_split, Scikit-Learn \n",
    "X_train, X_test, y_train, y_test = train_test_split(X, y,  test_size=0.20,random_state=0,stratify=X['tamanho_livro']) # feito com 0,10 e agora com 0,20"
   ]
  },
  {
   "cell_type": "code",
   "execution_count": 275,
   "metadata": {},
   "outputs": [],
   "source": [
    "####\n",
    "####   selecionar a FEATURES para MODELO\n",
    "####\n",
    "# mantendo algumas features para compara resultados no final no arquivo X_train_ref\n",
    "X_test_ref = X_test.copy()\n",
    "X_train_ref= X_train.copy()\n",
    "\n",
    "X_test = X_test_ref[['qtd_pg_word', 'qtd_tabela','qtd_image', 'qtd_carc','tamanho_livro']]\n",
    "\n",
    "X_train = X_train_ref[['qtd_pg_word', 'qtd_tabela','qtd_image', 'qtd_carc','tamanho_livro']]\n"
   ]
  },
  {
   "cell_type": "code",
   "execution_count": 276,
   "metadata": {},
   "outputs": [
    {
     "data": {
      "text/plain": [
       "Index(['id', 'qtd_pg_word', 'qtd_carc', 'qtd_tabela', 'qtd_image',\n",
       "       'qtd_estilos', 'qtd_carc', 'tamanho_livro'],\n",
       "      dtype='object')"
      ]
     },
     "execution_count": 276,
     "metadata": {},
     "output_type": "execute_result"
    }
   ],
   "source": [
    "X_test_ref.columns"
   ]
  },
  {
   "cell_type": "code",
   "execution_count": 277,
   "metadata": {},
   "outputs": [
    {
     "data": {
      "text/html": [
       "<div>\n",
       "<style scoped>\n",
       "    .dataframe tbody tr th:only-of-type {\n",
       "        vertical-align: middle;\n",
       "    }\n",
       "\n",
       "    .dataframe tbody tr th {\n",
       "        vertical-align: top;\n",
       "    }\n",
       "\n",
       "    .dataframe thead th {\n",
       "        text-align: right;\n",
       "    }\n",
       "</style>\n",
       "<table border=\"1\" class=\"dataframe\">\n",
       "  <thead>\n",
       "    <tr style=\"text-align: right;\">\n",
       "      <th></th>\n",
       "      <th>qtd_pg_word</th>\n",
       "      <th>qtd_tabela</th>\n",
       "      <th>qtd_image</th>\n",
       "      <th>qtd_carc</th>\n",
       "      <th>qtd_carc</th>\n",
       "      <th>tamanho_livro</th>\n",
       "    </tr>\n",
       "  </thead>\n",
       "  <tbody>\n",
       "    <tr>\n",
       "      <th>53</th>\n",
       "      <td>41</td>\n",
       "      <td>571</td>\n",
       "      <td>852</td>\n",
       "      <td>42669</td>\n",
       "      <td>42669</td>\n",
       "      <td>1</td>\n",
       "    </tr>\n",
       "    <tr>\n",
       "      <th>104</th>\n",
       "      <td>40</td>\n",
       "      <td>39</td>\n",
       "      <td>25</td>\n",
       "      <td>42151</td>\n",
       "      <td>42151</td>\n",
       "      <td>2</td>\n",
       "    </tr>\n",
       "    <tr>\n",
       "      <th>86</th>\n",
       "      <td>49</td>\n",
       "      <td>895</td>\n",
       "      <td>682</td>\n",
       "      <td>103663</td>\n",
       "      <td>103663</td>\n",
       "      <td>1</td>\n",
       "    </tr>\n",
       "    <tr>\n",
       "      <th>87</th>\n",
       "      <td>70</td>\n",
       "      <td>220</td>\n",
       "      <td>438</td>\n",
       "      <td>95656</td>\n",
       "      <td>95656</td>\n",
       "      <td>2</td>\n",
       "    </tr>\n",
       "    <tr>\n",
       "      <th>18</th>\n",
       "      <td>47</td>\n",
       "      <td>85</td>\n",
       "      <td>111</td>\n",
       "      <td>87338</td>\n",
       "      <td>87338</td>\n",
       "      <td>1</td>\n",
       "    </tr>\n",
       "    <tr>\n",
       "      <th>...</th>\n",
       "      <td>...</td>\n",
       "      <td>...</td>\n",
       "      <td>...</td>\n",
       "      <td>...</td>\n",
       "      <td>...</td>\n",
       "      <td>...</td>\n",
       "    </tr>\n",
       "    <tr>\n",
       "      <th>56</th>\n",
       "      <td>45</td>\n",
       "      <td>315</td>\n",
       "      <td>495</td>\n",
       "      <td>70054</td>\n",
       "      <td>70054</td>\n",
       "      <td>1</td>\n",
       "    </tr>\n",
       "    <tr>\n",
       "      <th>68</th>\n",
       "      <td>21</td>\n",
       "      <td>738</td>\n",
       "      <td>559</td>\n",
       "      <td>29631</td>\n",
       "      <td>29631</td>\n",
       "      <td>0</td>\n",
       "    </tr>\n",
       "    <tr>\n",
       "      <th>128</th>\n",
       "      <td>30</td>\n",
       "      <td>482</td>\n",
       "      <td>419</td>\n",
       "      <td>66895</td>\n",
       "      <td>66895</td>\n",
       "      <td>1</td>\n",
       "    </tr>\n",
       "    <tr>\n",
       "      <th>77</th>\n",
       "      <td>207</td>\n",
       "      <td>763</td>\n",
       "      <td>568</td>\n",
       "      <td>571640</td>\n",
       "      <td>571640</td>\n",
       "      <td>1</td>\n",
       "    </tr>\n",
       "    <tr>\n",
       "      <th>7</th>\n",
       "      <td>66</td>\n",
       "      <td>604</td>\n",
       "      <td>872</td>\n",
       "      <td>112888</td>\n",
       "      <td>112888</td>\n",
       "      <td>1</td>\n",
       "    </tr>\n",
       "  </tbody>\n",
       "</table>\n",
       "<p>111 rows × 6 columns</p>\n",
       "</div>"
      ],
      "text/plain": [
       "     qtd_pg_word  qtd_tabela  qtd_image  qtd_carc  qtd_carc  tamanho_livro\n",
       "53            41         571        852     42669     42669              1\n",
       "104           40          39         25     42151     42151              2\n",
       "86            49         895        682    103663    103663              1\n",
       "87            70         220        438     95656     95656              2\n",
       "18            47          85        111     87338     87338              1\n",
       "..           ...         ...        ...       ...       ...            ...\n",
       "56            45         315        495     70054     70054              1\n",
       "68            21         738        559     29631     29631              0\n",
       "128           30         482        419     66895     66895              1\n",
       "77           207         763        568    571640    571640              1\n",
       "7             66         604        872    112888    112888              1\n",
       "\n",
       "[111 rows x 6 columns]"
      ]
     },
     "execution_count": 277,
     "metadata": {},
     "output_type": "execute_result"
    }
   ],
   "source": [
    "X_train"
   ]
  },
  {
   "cell_type": "code",
   "execution_count": 278,
   "metadata": {},
   "outputs": [
    {
     "data": {
      "text/html": [
       "<div>\n",
       "<style scoped>\n",
       "    .dataframe tbody tr th:only-of-type {\n",
       "        vertical-align: middle;\n",
       "    }\n",
       "\n",
       "    .dataframe tbody tr th {\n",
       "        vertical-align: top;\n",
       "    }\n",
       "\n",
       "    .dataframe thead th {\n",
       "        text-align: right;\n",
       "    }\n",
       "</style>\n",
       "<table border=\"1\" class=\"dataframe\">\n",
       "  <thead>\n",
       "    <tr style=\"text-align: right;\">\n",
       "      <th></th>\n",
       "      <th>pag_final</th>\n",
       "    </tr>\n",
       "  </thead>\n",
       "  <tbody>\n",
       "    <tr>\n",
       "      <th>53</th>\n",
       "      <td>98</td>\n",
       "    </tr>\n",
       "    <tr>\n",
       "      <th>104</th>\n",
       "      <td>162</td>\n",
       "    </tr>\n",
       "    <tr>\n",
       "      <th>86</th>\n",
       "      <td>68</td>\n",
       "    </tr>\n",
       "    <tr>\n",
       "      <th>87</th>\n",
       "      <td>296</td>\n",
       "    </tr>\n",
       "    <tr>\n",
       "      <th>18</th>\n",
       "      <td>28</td>\n",
       "    </tr>\n",
       "    <tr>\n",
       "      <th>...</th>\n",
       "      <td>...</td>\n",
       "    </tr>\n",
       "    <tr>\n",
       "      <th>56</th>\n",
       "      <td>104</td>\n",
       "    </tr>\n",
       "    <tr>\n",
       "      <th>68</th>\n",
       "      <td>40</td>\n",
       "    </tr>\n",
       "    <tr>\n",
       "      <th>128</th>\n",
       "      <td>38</td>\n",
       "    </tr>\n",
       "    <tr>\n",
       "      <th>77</th>\n",
       "      <td>20</td>\n",
       "    </tr>\n",
       "    <tr>\n",
       "      <th>7</th>\n",
       "      <td>66</td>\n",
       "    </tr>\n",
       "  </tbody>\n",
       "</table>\n",
       "<p>111 rows × 1 columns</p>\n",
       "</div>"
      ],
      "text/plain": [
       "     pag_final\n",
       "53          98\n",
       "104        162\n",
       "86          68\n",
       "87         296\n",
       "18          28\n",
       "..         ...\n",
       "56         104\n",
       "68          40\n",
       "128         38\n",
       "77          20\n",
       "7           66\n",
       "\n",
       "[111 rows x 1 columns]"
      ]
     },
     "execution_count": 278,
     "metadata": {},
     "output_type": "execute_result"
    }
   ],
   "source": [
    "y_train"
   ]
  },
  {
   "cell_type": "code",
   "execution_count": 279,
   "metadata": {},
   "outputs": [
    {
     "name": "stdout",
     "output_type": "stream",
     "text": [
      "[-1.98021585]\n",
      "coeficientes encontrados:  [[ 3.65194773e-01 -5.66773734e-02  7.92144091e-02 -9.32712157e-05\n",
      "  -9.32713670e-05  6.69966106e+01]]\n"
     ]
    }
   ],
   "source": [
    "##### machine learnig\n",
    "\n",
    "#Instanciando o estimador\n",
    "linreg = LinearRegression()\n",
    "\n",
    "#Ajustando o modelo ao conjunto de treino\n",
    "linreg.fit(X_train, y_train)\n",
    "\n",
    "#Interpretando os coeficientes do modelo\n",
    "#Visualizando a interseção e os coeficientes \n",
    "print(linreg.intercept_)\n",
    "print('coeficientes encontrados: ',linreg.coef_) # para visualizar os coeficientes encontrados\n",
    "\n"
   ]
  },
  {
   "cell_type": "code",
   "execution_count": 280,
   "metadata": {},
   "outputs": [],
   "source": [
    "# para visualizar os coeficientes encontrados\n",
    "# para visualizar o R²\n",
    "# linreg.score()"
   ]
  },
  {
   "cell_type": "code",
   "execution_count": 281,
   "metadata": {},
   "outputs": [
    {
     "data": {
      "text/plain": [
       "['id',\n",
       " 'qtd_pg_word',\n",
       " 'qtd_carc',\n",
       " 'qtd_tabela',\n",
       " 'qtd_image',\n",
       " 'qtd_estilos',\n",
       " 'qtd_carc',\n",
       " 'tamanho_livro']"
      ]
     },
     "execution_count": 281,
     "metadata": {},
     "output_type": "execute_result"
    }
   ],
   "source": [
    "colunas_X"
   ]
  },
  {
   "cell_type": "code",
   "execution_count": 282,
   "metadata": {},
   "outputs": [
    {
     "data": {
      "text/plain": [
       "Index(['qtd_pg_word', 'qtd_tabela', 'qtd_image', 'qtd_carc', 'qtd_carc',\n",
       "       'tamanho_livro'],\n",
       "      dtype='object')"
      ]
     },
     "execution_count": 282,
     "metadata": {},
     "output_type": "execute_result"
    }
   ],
   "source": [
    "X_train.columns"
   ]
  },
  {
   "cell_type": "code",
   "execution_count": 283,
   "metadata": {},
   "outputs": [
    {
     "data": {
      "text/plain": [
       "[('id',\n",
       "  array([ 3.65194773e-01, -5.66773734e-02,  7.92144091e-02, -9.32712157e-05,\n",
       "         -9.32713670e-05,  6.69966106e+01]))]"
      ]
     },
     "execution_count": 283,
     "metadata": {},
     "output_type": "execute_result"
    }
   ],
   "source": [
    "#Atributos e seus coeficientes\n",
    "list(zip(colunas_X, linreg.coef_))"
   ]
  },
  {
   "cell_type": "code",
   "execution_count": 284,
   "metadata": {},
   "outputs": [],
   "source": [
    "#Fazendo predições no conjunto de teste\n",
    "y_pred = linreg.predict(X_test)"
   ]
  },
  {
   "cell_type": "code",
   "execution_count": 285,
   "metadata": {},
   "outputs": [
    {
     "data": {
      "text/plain": [
       "array([[ 74.75577591],\n",
       "       [ 71.65098031],\n",
       "       [ 75.66250738],\n",
       "       [ 70.813169  ],\n",
       "       [ 71.21967612],\n",
       "       [ 51.53924703],\n",
       "       [138.57236351],\n",
       "       [ 80.54262325],\n",
       "       [ 12.61868761],\n",
       "       [ 94.47534085],\n",
       "       [ 65.3210475 ],\n",
       "       [ 74.68681566],\n",
       "       [ 72.10654193],\n",
       "       [ 68.64115144],\n",
       "       [101.05862156],\n",
       "       [ 94.96300064],\n",
       "       [ 75.91815544],\n",
       "       [ 74.91867106],\n",
       "       [111.4313846 ],\n",
       "       [  6.17979578],\n",
       "       [  2.76483895],\n",
       "       [ 78.22440002],\n",
       "       [ 22.93919264],\n",
       "       [139.0743258 ],\n",
       "       [161.02113472],\n",
       "       [ 24.98137481],\n",
       "       [ 88.43578853],\n",
       "       [  5.94343805]])"
      ]
     },
     "execution_count": 285,
     "metadata": {},
     "output_type": "execute_result"
    }
   ],
   "source": [
    "y_pred"
   ]
  },
  {
   "cell_type": "code",
   "execution_count": 286,
   "metadata": {
    "scrolled": true
   },
   "outputs": [
    {
     "data": {
      "text/html": [
       "<div>\n",
       "<style scoped>\n",
       "    .dataframe tbody tr th:only-of-type {\n",
       "        vertical-align: middle;\n",
       "    }\n",
       "\n",
       "    .dataframe tbody tr th {\n",
       "        vertical-align: top;\n",
       "    }\n",
       "\n",
       "    .dataframe thead th {\n",
       "        text-align: right;\n",
       "    }\n",
       "</style>\n",
       "<table border=\"1\" class=\"dataframe\">\n",
       "  <thead>\n",
       "    <tr style=\"text-align: right;\">\n",
       "      <th></th>\n",
       "      <th>pag_final</th>\n",
       "    </tr>\n",
       "  </thead>\n",
       "  <tbody>\n",
       "    <tr>\n",
       "      <th>75</th>\n",
       "      <td>46</td>\n",
       "    </tr>\n",
       "    <tr>\n",
       "      <th>98</th>\n",
       "      <td>110</td>\n",
       "    </tr>\n",
       "    <tr>\n",
       "      <th>44</th>\n",
       "      <td>46</td>\n",
       "    </tr>\n",
       "    <tr>\n",
       "      <th>29</th>\n",
       "      <td>46</td>\n",
       "    </tr>\n",
       "    <tr>\n",
       "      <th>73</th>\n",
       "      <td>86</td>\n",
       "    </tr>\n",
       "    <tr>\n",
       "      <th>121</th>\n",
       "      <td>66</td>\n",
       "    </tr>\n",
       "    <tr>\n",
       "      <th>102</th>\n",
       "      <td>128</td>\n",
       "    </tr>\n",
       "    <tr>\n",
       "      <th>15</th>\n",
       "      <td>46</td>\n",
       "    </tr>\n",
       "    <tr>\n",
       "      <th>97</th>\n",
       "      <td>57</td>\n",
       "    </tr>\n",
       "    <tr>\n",
       "      <th>21</th>\n",
       "      <td>84</td>\n",
       "    </tr>\n",
       "    <tr>\n",
       "      <th>122</th>\n",
       "      <td>90</td>\n",
       "    </tr>\n",
       "    <tr>\n",
       "      <th>120</th>\n",
       "      <td>62</td>\n",
       "    </tr>\n",
       "    <tr>\n",
       "      <th>119</th>\n",
       "      <td>44</td>\n",
       "    </tr>\n",
       "    <tr>\n",
       "      <th>94</th>\n",
       "      <td>38</td>\n",
       "    </tr>\n",
       "    <tr>\n",
       "      <th>42</th>\n",
       "      <td>38</td>\n",
       "    </tr>\n",
       "    <tr>\n",
       "      <th>125</th>\n",
       "      <td>30</td>\n",
       "    </tr>\n",
       "    <tr>\n",
       "      <th>105</th>\n",
       "      <td>54</td>\n",
       "    </tr>\n",
       "    <tr>\n",
       "      <th>30</th>\n",
       "      <td>72</td>\n",
       "    </tr>\n",
       "    <tr>\n",
       "      <th>49</th>\n",
       "      <td>66</td>\n",
       "    </tr>\n",
       "    <tr>\n",
       "      <th>115</th>\n",
       "      <td>40</td>\n",
       "    </tr>\n",
       "    <tr>\n",
       "      <th>66</th>\n",
       "      <td>48</td>\n",
       "    </tr>\n",
       "    <tr>\n",
       "      <th>85</th>\n",
       "      <td>88</td>\n",
       "    </tr>\n",
       "    <tr>\n",
       "      <th>54</th>\n",
       "      <td>40</td>\n",
       "    </tr>\n",
       "    <tr>\n",
       "      <th>69</th>\n",
       "      <td>196</td>\n",
       "    </tr>\n",
       "    <tr>\n",
       "      <th>27</th>\n",
       "      <td>340</td>\n",
       "    </tr>\n",
       "    <tr>\n",
       "      <th>4</th>\n",
       "      <td>32</td>\n",
       "    </tr>\n",
       "    <tr>\n",
       "      <th>57</th>\n",
       "      <td>96</td>\n",
       "    </tr>\n",
       "    <tr>\n",
       "      <th>14</th>\n",
       "      <td>40</td>\n",
       "    </tr>\n",
       "  </tbody>\n",
       "</table>\n",
       "</div>"
      ],
      "text/plain": [
       "     pag_final\n",
       "75          46\n",
       "98         110\n",
       "44          46\n",
       "29          46\n",
       "73          86\n",
       "121         66\n",
       "102        128\n",
       "15          46\n",
       "97          57\n",
       "21          84\n",
       "122         90\n",
       "120         62\n",
       "119         44\n",
       "94          38\n",
       "42          38\n",
       "125         30\n",
       "105         54\n",
       "30          72\n",
       "49          66\n",
       "115         40\n",
       "66          48\n",
       "85          88\n",
       "54          40\n",
       "69         196\n",
       "27         340\n",
       "4           32\n",
       "57          96\n",
       "14          40"
      ]
     },
     "execution_count": 286,
     "metadata": {},
     "output_type": "execute_result"
    }
   ],
   "source": [
    "y_test"
   ]
  },
  {
   "cell_type": "markdown",
   "metadata": {},
   "source": [
    "Comparando essas métricas:\n",
    "\n",
    "- MAE é a mais fácil de entender.\n",
    "- MSE é mais popular que MAE, porque MSE \"pune\" erros grandes.\n",
    "- RMSE é ainda mais popular que MSE, porque RMSE é interpretável na mesma unidade de y."
   ]
  },
  {
   "cell_type": "code",
   "execution_count": 287,
   "metadata": {},
   "outputs": [
    {
     "name": "stdout",
     "output_type": "stream",
     "text": [
      "RMSE:  46.66384582961599\n"
     ]
    }
   ],
   "source": [
    "#Nós precisamos de uma métrica de avaliação para comparar nossas predições com os valores verdadeiros!\n",
    "\n",
    "# Calculando RMSE utilizando scikit-learn\n",
    "RMSE_1 = np.sqrt(metrics.mean_squared_error(y_test,y_pred))\n",
    "print('RMSE: ',RMSE_1)\n",
    "\n",
    "# incluido feature Quantidade de estilo, mas o resultado piorou. RMSE foi de 11.83 para 12.43\n",
    "# RMSE:  12.051420343980208\n",
    "# RMSE:  9.782602553564418 => melhorou quando retirou feature complexidade\n",
    "# RMSE:  9.16223875809479 => melhorou quando retirou feature quantidade de estilos\n",
    "# RMSE:  4.5881270718708045 => melhorou MUITO depois de verificar os arquivo word que estavam errados\n",
    "# RMSE:  4.303364983662433 => melhorou quando alterei arquivos do WORD\n",
    "\n",
    "# Campos em análise [['complexidade', 'qtd_pag_word', 'qtd_carc','qtd_tabela','qtd_image',\"qtd_estilos\",'qtd_carc_normal']]\n",
    "#RMSE:  12.051420343982636\n",
    "# RMSE:  16.219875583371206\n",
    "#RMSE:  14.883956821122942"
   ]
  },
  {
   "cell_type": "code",
   "execution_count": 288,
   "metadata": {},
   "outputs": [
    {
     "data": {
      "text/plain": [
       "Index(['id', 'qtd_pg_word', 'qtd_carc', 'qtd_tabela', 'qtd_image',\n",
       "       'qtd_estilos', 'qtd_carc', 'tamanho_livro'],\n",
       "      dtype='object')"
      ]
     },
     "execution_count": 288,
     "metadata": {},
     "output_type": "execute_result"
    }
   ],
   "source": [
    "X_test_ref.columns"
   ]
  },
  {
   "cell_type": "code",
   "execution_count": 289,
   "metadata": {},
   "outputs": [
    {
     "data": {
      "text/plain": [
       "Index(['qtd_pg_word', 'qtd_tabela', 'qtd_image', 'qtd_carc', 'qtd_carc',\n",
       "       'tamanho_livro'],\n",
       "      dtype='object')"
      ]
     },
     "execution_count": 289,
     "metadata": {},
     "output_type": "execute_result"
    }
   ],
   "source": [
    "X_test.columns"
   ]
  },
  {
   "cell_type": "code",
   "execution_count": 290,
   "metadata": {},
   "outputs": [],
   "source": [
    "#Como interpretar esse valor?\n",
    "# numero menor de RMSE é melhor\n",
    "# RMSE:  11.831745496309976\n",
    "# RMSE:  12.43000991830557\n",
    "# RMSE:  14.428565435305106\n"
   ]
  },
  {
   "cell_type": "code",
   "execution_count": 291,
   "metadata": {},
   "outputs": [],
   "source": [
    "# Save Model Using Pickle\n",
    "# save the model to disk\n",
    "\n",
    "filename = 'finalized_model-linreg_final.sav'\n",
    "pickle.dump(linreg, open(filename, 'wb'))\n",
    " \n"
   ]
  },
  {
   "cell_type": "code",
   "execution_count": 292,
   "metadata": {},
   "outputs": [],
   "source": [
    "#########################################################\n",
    "# FIM  LINEAR REGRESSION\n",
    "########################################################"
   ]
  },
  {
   "cell_type": "code",
   "execution_count": null,
   "metadata": {},
   "outputs": [],
   "source": []
  },
  {
   "cell_type": "code",
   "execution_count": 293,
   "metadata": {},
   "outputs": [],
   "source": [
    "################################################################################################################\n",
    "#########################################################\n",
    "# LOGISTIC REGRESSION\n",
    "########################################################"
   ]
  },
  {
   "cell_type": "code",
   "execution_count": 294,
   "metadata": {},
   "outputs": [],
   "source": [
    "\n",
    "colunas_X= ['qtd_pg_word', 'qtd_tabela','qtd_image',\"qtd_estilos\", 'qtd_carc','tamanho_livro']\n",
    "\n",
    "\n",
    "colunas_y=['pag_final']\n",
    "X = data[colunas_X]\n",
    "y = data[colunas_y]"
   ]
  },
  {
   "cell_type": "code",
   "execution_count": 295,
   "metadata": {},
   "outputs": [],
   "source": [
    "X_train, X_test, y_train, y_test = train_test_split(X, y,  test_size=0.20,random_state=0,stratify=X['tamanho_livro'])"
   ]
  },
  {
   "cell_type": "code",
   "execution_count": 296,
   "metadata": {},
   "outputs": [
    {
     "name": "stdout",
     "output_type": "stream",
     "text": [
      "[48 42 48 48 48 48 42 48 48 48 48 48 48 42 48 48 48 48 48 68 48 48 48 68\n",
      " 48 48 48 48]\n",
      "[[1.12472148e-56 2.72205599e-02 5.04620596e-03 ... 1.34508111e-02\n",
      "  9.90867879e-04 1.34508111e-02]\n",
      " [4.16613662e-13 2.22461185e-02 1.58496274e-02 ... 1.92099067e-02\n",
      "  1.12925769e-02 1.92099067e-02]\n",
      " [6.67790779e-19 2.25517734e-02 1.37113994e-02 ... 1.84809824e-02\n",
      "  8.65332815e-03 1.84809824e-02]\n",
      " ...\n",
      " [3.71230627e-19 1.80078341e-02 1.20463884e-02 ... 1.64861257e-02\n",
      "  9.72476223e-03 1.64861257e-02]\n",
      " [4.58503150e-10 1.68925509e-02 1.48297685e-02 ... 1.72183199e-02\n",
      "  1.53179066e-02 1.72183199e-02]\n",
      " [8.00292867e-10 1.93154414e-02 1.60520992e-02 ... 1.83708709e-02\n",
      "  1.43005125e-02 1.83708709e-02]]\n",
      "0.09009009009009009\n"
     ]
    },
    {
     "name": "stderr",
     "output_type": "stream",
     "text": [
      "/Users/wpessoa/miniconda3/envs/py3/lib/python3.8/site-packages/sklearn/utils/validation.py:72: DataConversionWarning: A column-vector y was passed when a 1d array was expected. Please change the shape of y to (n_samples, ), for example using ravel().\n",
      "  return f(**kwargs)\n",
      "/Users/wpessoa/miniconda3/envs/py3/lib/python3.8/site-packages/sklearn/linear_model/_logistic.py:762: ConvergenceWarning: lbfgs failed to converge (status=1):\n",
      "STOP: TOTAL NO. of ITERATIONS REACHED LIMIT.\n",
      "\n",
      "Increase the number of iterations (max_iter) or scale the data as shown in:\n",
      "    https://scikit-learn.org/stable/modules/preprocessing.html\n",
      "Please also refer to the documentation for alternative solver options:\n",
      "    https://scikit-learn.org/stable/modules/linear_model.html#logistic-regression\n",
      "  n_iter_i = _check_optimize_result(\n"
     ]
    }
   ],
   "source": [
    "from sklearn.datasets import load_iris\n",
    "from sklearn.linear_model import LogisticRegression\n",
    "##### machine learnig\n",
    "#X, y = load_iris(return_X_y=True)\n",
    "\n",
    "clf = LogisticRegression(random_state=0).fit(X_train, y_train)\n",
    "\n",
    "# modelo = LogisticRegression()\n",
    "# modelo.fit(X_treino, y_treino)\n",
    "# p = modelo.predict(X_valid)\n",
    "\n",
    "\n",
    "\n",
    "print(clf.predict(X_test.fillna(-1)))\n",
    "print(clf.predict_proba(X_test.fillna(-1)))\n",
    "print(clf.score(X_train, y_train))\n"
   ]
  },
  {
   "cell_type": "code",
   "execution_count": 297,
   "metadata": {},
   "outputs": [
    {
     "name": "stdout",
     "output_type": "stream",
     "text": [
      "[48 42 48 48 48 48 42 48 48 48 48 48 48 42 48 48 48 48 48 68 48 48 48 68\n",
      " 48 48 48 48]\n",
      "           75   98   44   29   73   121  102  15   97   21   ...  49   115  \\\n",
      "pag_final   46  110   46   46   86   66  128   46   57   84  ...   66   40   \n",
      "\n",
      "           66   85   54   69   27   4    57   14   \n",
      "pag_final   48   88   40  196  340   32   96   40  \n",
      "\n",
      "[1 rows x 28 columns]\n"
     ]
    },
    {
     "name": "stderr",
     "output_type": "stream",
     "text": [
      "/Users/wpessoa/miniconda3/envs/py3/lib/python3.8/site-packages/sklearn/utils/validation.py:72: DataConversionWarning: A column-vector y was passed when a 1d array was expected. Please change the shape of y to (n_samples, ), for example using ravel().\n",
      "  return f(**kwargs)\n",
      "/Users/wpessoa/miniconda3/envs/py3/lib/python3.8/site-packages/sklearn/linear_model/_logistic.py:762: ConvergenceWarning: lbfgs failed to converge (status=1):\n",
      "STOP: TOTAL NO. of ITERATIONS REACHED LIMIT.\n",
      "\n",
      "Increase the number of iterations (max_iter) or scale the data as shown in:\n",
      "    https://scikit-learn.org/stable/modules/preprocessing.html\n",
      "Please also refer to the documentation for alternative solver options:\n",
      "    https://scikit-learn.org/stable/modules/linear_model.html#logistic-regression\n",
      "  n_iter_i = _check_optimize_result(\n"
     ]
    }
   ],
   "source": [
    "modelo = LogisticRegression()\n",
    "modelo.fit(X_train, y_train)\n",
    "\n",
    "y_pred = modelo.predict(X_test.fillna(-1))\n",
    "print(y_pred)\n",
    "print(y_test.T)"
   ]
  },
  {
   "cell_type": "code",
   "execution_count": 298,
   "metadata": {},
   "outputs": [
    {
     "name": "stdout",
     "output_type": "stream",
     "text": [
      "RMSE:  66.88289339264135\n"
     ]
    }
   ],
   "source": [
    "# Calculando RMSE utilizando scikit-learn\n",
    "print('RMSE: ',np.sqrt(metrics.mean_squared_error(y_test,y_pred)))\n",
    "# RMSE:  26.17424132789543 => Features ['qtd_pag_word', 'qtd_tabela','qtd_image',\"qtd_estilos\", 'qtd_carc_normal']\n",
    "\n",
    "# quantidade de estilo é muito relevante nesse modelo, sem essa feature RMSE:  106.26211160915429\n",
    "# RMSE:  92.03951720469163 Para essa features ['qtd_pag_word', 'qtd_carc','qtd_tabela','qtd_image']\n",
    "# RMSE:  19.521549863955705\n"
   ]
  },
  {
   "cell_type": "code",
   "execution_count": 299,
   "metadata": {},
   "outputs": [],
   "source": [
    "# Save Model Using Pickle\n",
    "# save the model to disk\n",
    "\n",
    "filename = 'finalized_model-log_final.sav'\n",
    "pickle.dump(modelo, open(filename, 'wb'))\n",
    " "
   ]
  },
  {
   "cell_type": "markdown",
   "metadata": {},
   "source": [
    "# Modelos treinados salvo em:\n",
    "- finalized_model-forest3a.sav\n",
    "- finalized_model-linreg.sav\n",
    "- finalized_model-log.sav"
   ]
  },
  {
   "cell_type": "code",
   "execution_count": null,
   "metadata": {},
   "outputs": [],
   "source": [
    "#########################################################\n",
    "# FIM  LOGISTIC REGRESSION\n",
    "########################################################"
   ]
  },
  {
   "cell_type": "code",
   "execution_count": null,
   "metadata": {},
   "outputs": [],
   "source": [
    "#\n",
    "# \n",
    "################################################################################################################"
   ]
  },
  {
   "cell_type": "code",
   "execution_count": null,
   "metadata": {},
   "outputs": [],
   "source": []
  }
 ],
 "metadata": {
  "kernelspec": {
   "display_name": "Python 3",
   "language": "python",
   "name": "python3"
  },
  "language_info": {
   "codemirror_mode": {
    "name": "ipython",
    "version": 3
   },
   "file_extension": ".py",
   "mimetype": "text/x-python",
   "name": "python",
   "nbconvert_exporter": "python",
   "pygments_lexer": "ipython3",
   "version": "3.8.5"
  }
 },
 "nbformat": 4,
 "nbformat_minor": 4
}
