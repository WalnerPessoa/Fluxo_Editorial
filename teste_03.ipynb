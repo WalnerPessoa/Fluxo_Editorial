{
 "cells": [
  {
   "cell_type": "code",
   "execution_count": 3,
   "metadata": {},
   "outputs": [],
   "source": [
    "import smartsheet\n",
    "#create the client with token - be sure to safeguard the token:\n",
    "smartsheet_client = smartsheet.Smartsheet('sf39axxsx04j6lgekyekkc6w53')\n",
    "\n",
    "\n",
    "response = smartsheet_client.Sheets.list_sheets(include_all=True)\n",
    "sheets = response.data"
   ]
  },
  {
   "cell_type": "code",
   "execution_count": 9,
   "metadata": {},
   "outputs": [
    {
     "ename": "TypeError",
     "evalue": "list indices must be integers or slices, not str",
     "output_type": "error",
     "traceback": [
      "\u001b[0;31m---------------------------------------------------------------------------\u001b[0m",
      "\u001b[0;31mTypeError\u001b[0m                                 Traceback (most recent call last)",
      "\u001b[0;32m<ipython-input-9-ff8f15646dd3>\u001b[0m in \u001b[0;36m<module>\u001b[0;34m\u001b[0m\n\u001b[0;32m----> 1\u001b[0;31m \u001b[0mprint\u001b[0m\u001b[0;34m(\u001b[0m\u001b[0mresponse\u001b[0m\u001b[0;34m.\u001b[0m\u001b[0mdata\u001b[0m\u001b[0;34m[\u001b[0m\u001b[0;34m'name'\u001b[0m\u001b[0;34m]\u001b[0m\u001b[0;34m)\u001b[0m\u001b[0;34m\u001b[0m\u001b[0;34m\u001b[0m\u001b[0m\n\u001b[0m",
      "\u001b[0;31mTypeError\u001b[0m: list indices must be integers or slices, not str"
     ]
    }
   ],
   "source": [
    "print(response.data['name'])"
   ]
  },
  {
   "cell_type": "code",
   "execution_count": 12,
   "metadata": {},
   "outputs": [],
   "source": [
    "#print(response)"
   ]
  },
  {
   "cell_type": "code",
   "execution_count": 42,
   "metadata": {},
   "outputs": [],
   "source": [
    "#List Attachments\n",
    "\n",
    "# Sample 1: List All\n",
    "response = smartsheet_client.Attachments.list_all_attachments(\n",
    "  7413190645573508,       # sheet_id ID 000000 Manual de formatos para correspondências e documentos do Sistema Indústria\n",
    "  include_all=True)\n",
    "attachments = response.data\n",
    "#print(attachments)\n",
    "#print(response)"
   ]
  },
  {
   "cell_type": "code",
   "execution_count": 23,
   "metadata": {},
   "outputs": [
    {
     "name": "stdout",
     "output_type": "stream",
     "text": [
      "{\"data\": [{\"attachmentType\": \"FILE\", \"createdAt\": \"2019-11-07T20:29:49+00:00Z\", \"createdBy\": {\"email\": \"wpessoa@cni.com.br\", \"name\": \"Walner\"}, \"id\": 1465787474044804, \"mimeType\": \"application/pdf\", \"name\": \"ID_000000_Manual_de_formatos_V4 (revisado).pdf\", \"parentId\": 2823220100917124, \"parentType\": \"ROW\", \"sizeInKb\": 9827}, {\"attachmentType\": \"FILE\", \"createdAt\": \"2019-11-07T19:37:59+00:00Z\", \"createdBy\": {\"email\": \"andrey@editorarmultimidia.com.br\", \"name\": \"Editorar Multim\\u00eddia\"}, \"id\": 8830097313556356, \"mimeType\": \"application/pdf\", \"name\": \"ID_000000_Manual_de_formatos_V4.pdf\", \"parentId\": 2823220100917124, \"parentType\": \"ROW\", \"sizeInKb\": 9790}, {\"attachmentType\": \"FILE\", \"createdAt\": \"2019-11-07T17:22:56+00:00Z\", \"createdBy\": {\"email\": \"wpessoa@cni.com.br\", \"name\": \"Walner\"}, \"id\": 3516191976253316, \"mimeType\": \"application/pdf\", \"name\": \"ID_000000_Manual_de_formatos_V3 (1).pdf\", \"parentId\": 3949120007759748, \"parentType\": \"ROW\", \"sizeInKb\": 13177}, {\"attachmentType\": \"FILE\", \"createdAt\": \"2019-10-28T22:23:36+00:00Z\", \"createdBy\": {\"email\": \"andrey@editorarmultimidia.com.br\", \"name\": \"Editorar Multim\\u00eddia\"}, \"id\": 7398470762948484, \"mimeType\": \"application/pdf\", \"name\": \"ID_000000_Manual_de_formatos_V3.pdf\", \"parentId\": 2823220100917124, \"parentType\": \"ROW\", \"sizeInKb\": 13126}, {\"attachmentType\": \"FILE\", \"createdAt\": \"2019-10-28T17:35:11+00:00Z\", \"createdBy\": {\"email\": \"wpessoa@cni.com.br\", \"name\": \"Walner\"}, \"id\": 1839022145333124, \"mimeType\": \"application/pdf\", \"name\": \"ID_000000_Manual_de_formatos (vers\\u00e3o ajustada - coment\\u00e1rios Gabin 28out).pdf\", \"parentId\": 3949120007759748, \"parentType\": \"ROW\", \"sizeInKb\": 13014}, {\"attachmentType\": \"FILE\", \"createdAt\": \"2019-10-25T21:05:24+00:00Z\", \"createdBy\": {\"email\": \"andrey@editorarmultimidia.com.br\", \"name\": \"Editorar Multim\\u00eddia\"}, \"id\": 7485653599446916, \"mimeType\": \"application/pdf\", \"name\": \"ID_000000_Manual_de_formatos.pdf\", \"parentId\": 2823220100917124, \"parentType\": \"ROW\", \"sizeInKb\": 12952}, {\"attachmentType\": \"FILE\", \"createdAt\": \"2019-10-25T14:56:22+00:00Z\", \"createdBy\": {\"email\": \"wpessoa@cni.com.br\", \"name\": \"Walner\"}, \"id\": 5044394188400516, \"mimeType\": \"application/pdf\", \"name\": \"ID_000000_Manual_de_formatos_NGE.pdf\", \"parentId\": 5637969868023684, \"parentType\": \"ROW\", \"sizeInKb\": 7259}, {\"attachmentType\": \"FILE\", \"createdAt\": \"2019-10-24T22:04:57+00:00Z\", \"createdBy\": {\"email\": \"andrey@editorarmultimidia.com.br\", \"name\": \"Editorar Multim\\u00eddia\"}, \"id\": 6827673199634308, \"mimeType\": \"application/pdf\", \"name\": \"ID_000000_Manual_de_formatos.pdf\", \"parentId\": 1134370240653188, \"parentType\": \"ROW\", \"sizeInKb\": 7157}, {\"attachmentType\": \"FILE\", \"createdAt\": \"2019-10-23T18:29:52+00:00Z\", \"createdBy\": {\"email\": \"wpessoa@cni.com.br\", \"name\": \"Walner\"}, \"id\": 7841544790140804, \"mimeType\": \"application/pdf\", \"name\": \"ID_000000_Manual_de_formatos_V1 (com coment\\u00e1rios - Gabin) (1).pdf\", \"parentId\": 2260270147495812, \"parentType\": \"ROW\", \"sizeInKb\": 18488}, {\"attachmentType\": \"FILE\", \"createdAt\": \"2019-10-18T21:22:42+00:00Z\", \"createdBy\": {\"email\": \"andrey@editorarmultimidia.com.br\", \"name\": \"Editorar Multim\\u00eddia\"}, \"id\": 3771724780070788, \"mimeType\": \"application/pdf\", \"name\": \"ID_000000_Manual_de_formatos_V1.pdf\", \"parentId\": 4498875821647748, \"parentType\": \"ROW\", \"sizeInKb\": 20257}], \"pageNumber\": 1, \"pageSize\": 10, \"result\": [{\"attachmentType\": \"FILE\", \"createdAt\": \"2019-11-07T20:29:49+00:00Z\", \"createdBy\": {\"email\": \"wpessoa@cni.com.br\", \"name\": \"Walner\"}, \"id\": 1465787474044804, \"mimeType\": \"application/pdf\", \"name\": \"ID_000000_Manual_de_formatos_V4 (revisado).pdf\", \"parentId\": 2823220100917124, \"parentType\": \"ROW\", \"sizeInKb\": 9827}, {\"attachmentType\": \"FILE\", \"createdAt\": \"2019-11-07T19:37:59+00:00Z\", \"createdBy\": {\"email\": \"andrey@editorarmultimidia.com.br\", \"name\": \"Editorar Multim\\u00eddia\"}, \"id\": 8830097313556356, \"mimeType\": \"application/pdf\", \"name\": \"ID_000000_Manual_de_formatos_V4.pdf\", \"parentId\": 2823220100917124, \"parentType\": \"ROW\", \"sizeInKb\": 9790}, {\"attachmentType\": \"FILE\", \"createdAt\": \"2019-11-07T17:22:56+00:00Z\", \"createdBy\": {\"email\": \"wpessoa@cni.com.br\", \"name\": \"Walner\"}, \"id\": 3516191976253316, \"mimeType\": \"application/pdf\", \"name\": \"ID_000000_Manual_de_formatos_V3 (1).pdf\", \"parentId\": 3949120007759748, \"parentType\": \"ROW\", \"sizeInKb\": 13177}, {\"attachmentType\": \"FILE\", \"createdAt\": \"2019-10-28T22:23:36+00:00Z\", \"createdBy\": {\"email\": \"andrey@editorarmultimidia.com.br\", \"name\": \"Editorar Multim\\u00eddia\"}, \"id\": 7398470762948484, \"mimeType\": \"application/pdf\", \"name\": \"ID_000000_Manual_de_formatos_V3.pdf\", \"parentId\": 2823220100917124, \"parentType\": \"ROW\", \"sizeInKb\": 13126}, {\"attachmentType\": \"FILE\", \"createdAt\": \"2019-10-28T17:35:11+00:00Z\", \"createdBy\": {\"email\": \"wpessoa@cni.com.br\", \"name\": \"Walner\"}, \"id\": 1839022145333124, \"mimeType\": \"application/pdf\", \"name\": \"ID_000000_Manual_de_formatos (vers\\u00e3o ajustada - coment\\u00e1rios Gabin 28out).pdf\", \"parentId\": 3949120007759748, \"parentType\": \"ROW\", \"sizeInKb\": 13014}, {\"attachmentType\": \"FILE\", \"createdAt\": \"2019-10-25T21:05:24+00:00Z\", \"createdBy\": {\"email\": \"andrey@editorarmultimidia.com.br\", \"name\": \"Editorar Multim\\u00eddia\"}, \"id\": 7485653599446916, \"mimeType\": \"application/pdf\", \"name\": \"ID_000000_Manual_de_formatos.pdf\", \"parentId\": 2823220100917124, \"parentType\": \"ROW\", \"sizeInKb\": 12952}, {\"attachmentType\": \"FILE\", \"createdAt\": \"2019-10-25T14:56:22+00:00Z\", \"createdBy\": {\"email\": \"wpessoa@cni.com.br\", \"name\": \"Walner\"}, \"id\": 5044394188400516, \"mimeType\": \"application/pdf\", \"name\": \"ID_000000_Manual_de_formatos_NGE.pdf\", \"parentId\": 5637969868023684, \"parentType\": \"ROW\", \"sizeInKb\": 7259}, {\"attachmentType\": \"FILE\", \"createdAt\": \"2019-10-24T22:04:57+00:00Z\", \"createdBy\": {\"email\": \"andrey@editorarmultimidia.com.br\", \"name\": \"Editorar Multim\\u00eddia\"}, \"id\": 6827673199634308, \"mimeType\": \"application/pdf\", \"name\": \"ID_000000_Manual_de_formatos.pdf\", \"parentId\": 1134370240653188, \"parentType\": \"ROW\", \"sizeInKb\": 7157}, {\"attachmentType\": \"FILE\", \"createdAt\": \"2019-10-23T18:29:52+00:00Z\", \"createdBy\": {\"email\": \"wpessoa@cni.com.br\", \"name\": \"Walner\"}, \"id\": 7841544790140804, \"mimeType\": \"application/pdf\", \"name\": \"ID_000000_Manual_de_formatos_V1 (com coment\\u00e1rios - Gabin) (1).pdf\", \"parentId\": 2260270147495812, \"parentType\": \"ROW\", \"sizeInKb\": 18488}, {\"attachmentType\": \"FILE\", \"createdAt\": \"2019-10-18T21:22:42+00:00Z\", \"createdBy\": {\"email\": \"andrey@editorarmultimidia.com.br\", \"name\": \"Editorar Multim\\u00eddia\"}, \"id\": 3771724780070788, \"mimeType\": \"application/pdf\", \"name\": \"ID_000000_Manual_de_formatos_V1.pdf\", \"parentId\": 4498875821647748, \"parentType\": \"ROW\", \"sizeInKb\": 20257}], \"totalCount\": 24, \"totalPages\": 3}\n",
      "3\n"
     ]
    }
   ],
   "source": [
    "# List Attachments\n",
    "# Sample 2: Paginate the list of attachments\n",
    "response = smartsheet_client.Attachments.list_all_attachments(\n",
    "  7413190645573508,       # sheet_id ID 000000 Manual de formatos para correspondências e documentos do Sistema Indústria\n",
    "  page_size=10, \n",
    "  page=1)\n",
    "pages = response.total_pages\n",
    "attachments = response.data\n",
    "#print(attachments)\n",
    "print(response)\n",
    "print(pages)"
   ]
  },
  {
   "cell_type": "code",
   "execution_count": 50,
   "metadata": {},
   "outputs": [],
   "source": [
    "#Get Attachment\n",
    "attachment = smartsheet_client.Attachments.get_attachment(\n",
    "  7413190645573508,       # # sheet_id ID 000000 Manual de formatos para correspondências e documentos do Sistema Indústria\n",
    "  1465787474044804)       # attachment_id \"name\": \"ID_000000_Manual_de_formatos_V4 (revisado).pdf\n",
    "\n",
    "#print(attachment.)\n",
    "#print(response.status_code)"
   ]
  },
  {
   "cell_type": "code",
   "execution_count": 51,
   "metadata": {},
   "outputs": [
    {
     "name": "stdout",
     "output_type": "stream",
     "text": [
      "ID_000000_Manual_de_formatos_V4 (revisado).pdf\n",
      "https://s3.amazonaws.com/SmartsheetB1/1a69d1f8aa26402e9d15ba6146124948?response-content-disposition=attachment%3Bfilename%3D%22ID_000000_Manual_de_formatos_V4+%28revisado%29.pdf%22%3Bfilename*%3DUTF-8%27%27ID_000000_Manual_de_formatos_V4%2520%2528revisado%2529.pdf&Signature=GNZdwp6JLoLFJd8A5Sj9xsYwe50%3D&Expires=1598042942&AWSAccessKeyId=11950YFEZZJFSSKKB3G2\n"
     ]
    }
   ],
   "source": [
    "#print(type(attachment))\n",
    "#print(attachment)\n",
    "print(attachment.name)\n",
    "print(attachment.url)"
   ]
  },
  {
   "cell_type": "code",
   "execution_count": null,
   "metadata": {},
   "outputs": [],
   "source": [
    "\n",
    ")"
   ]
  },
  {
   "cell_type": "code",
   "execution_count": null,
   "metadata": {},
   "outputs": [],
   "source": []
  },
  {
   "cell_type": "code",
   "execution_count": null,
   "metadata": {},
   "outputs": [],
   "source": []
  },
  {
   "cell_type": "code",
   "execution_count": null,
   "metadata": {},
   "outputs": [],
   "source": []
  },
  {
   "cell_type": "code",
   "execution_count": null,
   "metadata": {},
   "outputs": [],
   "source": []
  },
  {
   "cell_type": "code",
   "execution_count": null,
   "metadata": {},
   "outputs": [],
   "source": [
    "# Download a row attachment using smart sheet API C#\n",
    "# SmartsheetRequest getAttachment = new SmartsheetRequest { callURL = \"/attachment/\" + attach.Id, method = \"GET\", contentType = \"application/json\" };\n",
    "# SmartsheetRequest getAttachment = new SmartsheetRequest { callURL = \"/sheets/\" + SheetID + \"/attachments/\" + attach.Id, method = \"GET\", contentType = \"application/json\"};\n",
    "#   Attachment at = smartsheet.sheetResources().attachmentResources().getAttachment(sheetId, att.getId());\n"
   ]
  }
 ],
 "metadata": {
  "kernelspec": {
   "display_name": "Python 3",
   "language": "python",
   "name": "python3"
  },
  "language_info": {
   "codemirror_mode": {
    "name": "ipython",
    "version": 3
   },
   "file_extension": ".py",
   "mimetype": "text/x-python",
   "name": "python",
   "nbconvert_exporter": "python",
   "pygments_lexer": "ipython3",
   "version": "3.8.5"
  }
 },
 "nbformat": 4,
 "nbformat_minor": 4
}
