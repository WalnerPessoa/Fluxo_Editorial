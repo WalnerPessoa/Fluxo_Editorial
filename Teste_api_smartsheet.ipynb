{
 "cells": [
  {
   "cell_type": "code",
   "execution_count": 11,
   "metadata": {},
   "outputs": [],
   "source": [
    "import requests"
   ]
  },
  {
   "cell_type": "code",
   "execution_count": 28,
   "metadata": {},
   "outputs": [
    {
     "name": "stdout",
     "output_type": "stream",
     "text": [
      "\u001b[31mERROR: Could not find a version that satisfies the requirement smartsheet (from versions: none)\u001b[0m\n",
      "\u001b[31mERROR: No matching distribution found for smartsheet\u001b[0m\n"
     ]
    }
   ],
   "source": [
    "# Install the smartsheet sdk with the command: pip install smartsheet-python-sdk\n",
    "\n",
    "#!pip install smartsheet-python-sdk\n",
    "# !pip install smartsheet --upgrade"
   ]
  },
  {
   "cell_type": "code",
   "execution_count": 20,
   "metadata": {},
   "outputs": [],
   "source": [
    "import smartsheet\n",
    "import logging\n",
    "import os.path"
   ]
  },
  {
   "cell_type": "code",
   "execution_count": 31,
   "metadata": {},
   "outputs": [],
   "source": [
    "access_token = 'sf39axxsx04j6lgekyekkc6w53'\n",
    "_dir = os.path.dirname(os.path.abspath('Sample Sheet.xlsx'))"
   ]
  },
  {
   "cell_type": "code",
   "execution_count": 26,
   "metadata": {},
   "outputs": [
    {
     "ename": "NameError",
     "evalue": "name '_dir' is not defined",
     "output_type": "error",
     "traceback": [
      "\u001b[0;31m---------------------------------------------------------------------------\u001b[0m",
      "\u001b[0;31mNameError\u001b[0m                                 Traceback (most recent call last)",
      "\u001b[0;32m<ipython-input-26-f6ae49110000>\u001b[0m in \u001b[0;36m<module>\u001b[0;34m\u001b[0m\n\u001b[1;32m      8\u001b[0m \u001b[0;34m\u001b[0m\u001b[0m\n\u001b[1;32m      9\u001b[0m \u001b[0;31m# Import the sheet\u001b[0m\u001b[0;34m\u001b[0m\u001b[0;34m\u001b[0m\u001b[0;34m\u001b[0m\u001b[0m\n\u001b[0;32m---> 10\u001b[0;31m \u001b[0mresult\u001b[0m \u001b[0;34m=\u001b[0m \u001b[0mss\u001b[0m\u001b[0;34m.\u001b[0m\u001b[0mSheets\u001b[0m\u001b[0;34m.\u001b[0m\u001b[0mimport_xlsx_sheet\u001b[0m\u001b[0;34m(\u001b[0m\u001b[0m_dir\u001b[0m \u001b[0;34m+\u001b[0m \u001b[0;34m'/Sample Sheet.xlsx'\u001b[0m\u001b[0;34m,\u001b[0m \u001b[0mheader_row_index\u001b[0m\u001b[0;34m=\u001b[0m\u001b[0;36m0\u001b[0m\u001b[0;34m)\u001b[0m\u001b[0;34m\u001b[0m\u001b[0;34m\u001b[0m\u001b[0m\n\u001b[0m",
      "\u001b[0;31mNameError\u001b[0m: name '_dir' is not defined"
     ]
    }
   ],
   "source": [
    "# Initialize client\n",
    "ss = smartsheet.Smartsheet(access_token)\n",
    "# Make sure we don't miss any error\n",
    "ss.errors_as_exceptions(True)\n",
    "\n"
   ]
  },
  {
   "cell_type": "code",
   "execution_count": 17,
   "metadata": {},
   "outputs": [],
   "source": [
    "# https://github.com/FD-PP/Smartsheet-samps/blob/d68d492b5661e67160e8e02ab63bb6562c798801/python-read-write-sheet.py"
   ]
  },
  {
   "cell_type": "code",
   "execution_count": 12,
   "metadata": {},
   "outputs": [],
   "source": [
    "response = requests.get(\"https://api.smartsheet.com/2.0/sheets\")\n",
    "resposta = response.json()"
   ]
  },
  {
   "cell_type": "code",
   "execution_count": 13,
   "metadata": {},
   "outputs": [
    {
     "name": "stdout",
     "output_type": "stream",
     "text": [
      "403\n",
      "{'errorCode': 1004, 'message': 'You are not authorized to perform this action.', 'refId': '1w0y5mz0aaml'}\n",
      "You are not authorized to perform this action.\n"
     ]
    }
   ],
   "source": [
    "print(response.status_code)\n",
    "print(resposta)\n",
    "print(resposta[\"message\"])"
   ]
  },
  {
   "cell_type": "code",
   "execution_count": 14,
   "metadata": {},
   "outputs": [
    {
     "name": "stdout",
     "output_type": "stream",
     "text": [
      "{\n",
      "  \"errorCode\" : 1004,\n",
      "  \"message\" : \"You are not authorized to perform this action.\",\n",
      "  \"refId\" : \"1w0y5mz0aaml\"\n",
      "}\n"
     ]
    }
   ],
   "source": [
    "print(response.text)"
   ]
  },
  {
   "cell_type": "code",
   "execution_count": 15,
   "metadata": {},
   "outputs": [
    {
     "ename": "NameError",
     "evalue": "name 'smartsheet_client' is not defined",
     "output_type": "error",
     "traceback": [
      "\u001b[0;31m---------------------------------------------------------------------------\u001b[0m",
      "\u001b[0;31mNameError\u001b[0m                                 Traceback (most recent call last)",
      "\u001b[0;32m<ipython-input-15-323b14472b4d>\u001b[0m in \u001b[0;36m<module>\u001b[0;34m\u001b[0m\n\u001b[0;32m----> 1\u001b[0;31m attachment = smartsheet_client.Attachments.get_attachment(\n\u001b[0m\u001b[1;32m      2\u001b[0m   \u001b[0;36m9283173393803140\u001b[0m\u001b[0;34m,\u001b[0m       \u001b[0;31m# sheet_id\u001b[0m\u001b[0;34m\u001b[0m\u001b[0;34m\u001b[0m\u001b[0m\n\u001b[1;32m      3\u001b[0m   4583173393803140)       # attachment_id\n",
      "\u001b[0;31mNameError\u001b[0m: name 'smartsheet_client' is not defined"
     ]
    }
   ],
   "source": [
    "\n",
    "attachment = smartsheet_client.Attachments.get_attachment(\n",
    "  9283173393803140,       # sheet_id\n",
    "  4583173393803140)       # attachment_id"
   ]
  },
  {
   "cell_type": "code",
   "execution_count": null,
   "metadata": {},
   "outputs": [],
   "source": []
  }
 ],
 "metadata": {
  "kernelspec": {
   "display_name": "Python 3",
   "language": "python",
   "name": "python3"
  },
  "language_info": {
   "codemirror_mode": {
    "name": "ipython",
    "version": 3
   },
   "file_extension": ".py",
   "mimetype": "text/x-python",
   "name": "python",
   "nbconvert_exporter": "python",
   "pygments_lexer": "ipython3",
   "version": "3.8.5"
  }
 },
 "nbformat": 4,
 "nbformat_minor": 4
}
