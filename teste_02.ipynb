{
 "cells": [
  {
   "cell_type": "code",
   "execution_count": 3,
   "metadata": {},
   "outputs": [
    {
     "ename": "ModuleNotFoundError",
     "evalue": "No module named 'simple_smartsheet'",
     "output_type": "error",
     "traceback": [
      "\u001b[0;31m---------------------------------------------------------------------------\u001b[0m",
      "\u001b[0;31mModuleNotFoundError\u001b[0m                       Traceback (most recent call last)",
      "\u001b[0;32m<ipython-input-3-cf550116eea2>\u001b[0m in \u001b[0;36m<module>\u001b[0;34m\u001b[0m\n\u001b[1;32m      3\u001b[0m \u001b[0;34m\u001b[0m\u001b[0m\n\u001b[1;32m      4\u001b[0m \u001b[0;32mfrom\u001b[0m \u001b[0mdatetime\u001b[0m \u001b[0;32mimport\u001b[0m \u001b[0mdate\u001b[0m\u001b[0;34m\u001b[0m\u001b[0;34m\u001b[0m\u001b[0m\n\u001b[0;32m----> 5\u001b[0;31m \u001b[0;32mfrom\u001b[0m \u001b[0msimple_smartsheet\u001b[0m \u001b[0;32mimport\u001b[0m \u001b[0mSmartsheet\u001b[0m\u001b[0;34m\u001b[0m\u001b[0;34m\u001b[0m\u001b[0m\n\u001b[0m\u001b[1;32m      6\u001b[0m \u001b[0;32mfrom\u001b[0m \u001b[0msimple_smartsheet\u001b[0m\u001b[0;34m.\u001b[0m\u001b[0mmodels\u001b[0m \u001b[0;32mimport\u001b[0m \u001b[0mSheet\u001b[0m\u001b[0;34m,\u001b[0m \u001b[0mColumn\u001b[0m\u001b[0;34m,\u001b[0m \u001b[0mRow\u001b[0m\u001b[0;34m,\u001b[0m \u001b[0mCell\u001b[0m\u001b[0;34m,\u001b[0m \u001b[0mColumnType\u001b[0m\u001b[0;34m\u001b[0m\u001b[0;34m\u001b[0m\u001b[0m\n\u001b[1;32m      7\u001b[0m \u001b[0;34m\u001b[0m\u001b[0m\n",
      "\u001b[0;31mModuleNotFoundError\u001b[0m: No module named 'simple_smartsheet'"
     ]
    }
   ],
   "source": [
    "  \n",
    "'''Breif of smartsheet api using simple_smartsheet'''\n",
    "\n",
    "\n",
    "from datetime import date\n",
    "from simple_smartsheet import Smartsheet\n",
    "from simple_smartsheet.models import Sheet, Column, Row, Cell, ColumnType\n",
    "\n",
    "TOKEN = 'sf39axxsx04j6lgekyekkc6w53'\n",
    "\n",
    "smartsheet = smartsheet.Smartsheet(TOKEN)\n",
    "# Create base client object and set the access token\n",
    "#smartsheet_client = smartsheet.Smartsheet(TOKEN)\n",
    "\n",
    "#smartsheet.assume_user(\"jane.doe@smartsheet.com\")\n",
    "smartsheet.assume_user(\"wpessoa@cni.com.br\")\n",
    "\n",
    "SHEET_NAME = \"My Python Sheet\"\n",
    "smartsheet = Smartsheet(TOKEN)\n",
    "\n",
    "# retrieve a list of sheets (limited set of attributes)\n",
    "sheets = smartsheet.sheets.list()\n",
    "print(sheets)"
   ]
  },
  {
   "cell_type": "code",
   "execution_count": 2,
   "metadata": {},
   "outputs": [],
   "source": [
    "import smartsheet"
   ]
  },
  {
   "cell_type": "code",
   "execution_count": 4,
   "metadata": {},
   "outputs": [],
   "source": [
    "#create the client with token - be sure to safeguard the token:\n",
    "smartsheet_client = smartsheet.Smartsheet('sf39axxsx04j6lgekyekkc6w53')\n",
    "\n",
    "# Get current user\n",
    "user_profile = smartsheet_client.Users.get_current_user()\n",
    "#list all the workspaces (this is useful to get the id of the workspace)\n",
    "x = smartsheet_client.Workspaces.list_workspaces(include_all=True)\n",
    "#list all the worksheets (also sometimes useful to get the ids of the sheets - but there are a lot of them!)\n",
    "y = response = smartsheet_client.Sheets.list_sheets()\n",
    "\n"
   ]
  },
  {
   "cell_type": "code",
   "execution_count": 5,
   "metadata": {},
   "outputs": [
    {
     "ename": "AttributeError",
     "evalue": "module 'smartsheet.sheets' has no attribute 'list'",
     "output_type": "error",
     "traceback": [
      "\u001b[0;31m---------------------------------------------------------------------------\u001b[0m",
      "\u001b[0;31mAttributeError\u001b[0m                            Traceback (most recent call last)",
      "\u001b[0;32m<ipython-input-5-4fdfdafc90ee>\u001b[0m in \u001b[0;36m<module>\u001b[0;34m\u001b[0m\n\u001b[1;32m      1\u001b[0m \u001b[0;31m# retrieve a list of sheets (limited set of attributes)\u001b[0m\u001b[0;34m\u001b[0m\u001b[0;34m\u001b[0m\u001b[0;34m\u001b[0m\u001b[0m\n\u001b[0;32m----> 2\u001b[0;31m \u001b[0msheets\u001b[0m \u001b[0;34m=\u001b[0m \u001b[0msmartsheet\u001b[0m\u001b[0;34m.\u001b[0m\u001b[0msheets\u001b[0m\u001b[0;34m.\u001b[0m\u001b[0mlist\u001b[0m\u001b[0;34m(\u001b[0m\u001b[0;34m)\u001b[0m\u001b[0;34m\u001b[0m\u001b[0;34m\u001b[0m\u001b[0m\n\u001b[0m\u001b[1;32m      3\u001b[0m \u001b[0mprint\u001b[0m\u001b[0;34m(\u001b[0m\u001b[0msheets\u001b[0m\u001b[0;34m)\u001b[0m\u001b[0;34m\u001b[0m\u001b[0;34m\u001b[0m\u001b[0m\n",
      "\u001b[0;31mAttributeError\u001b[0m: module 'smartsheet.sheets' has no attribute 'list'"
     ]
    }
   ],
   "source": [
    "# retrieve a list of sheets (limited set of attributes)\n",
    "sheets = smartsheet.sheets.list()\n",
    "print(sheets)"
   ]
  },
  {
   "cell_type": "code",
   "execution_count": null,
   "metadata": {},
   "outputs": [],
   "source": [
    "#create a new workspace\n",
    "workspace = smartsheet_client.Workspaces.create_workspace(\n",
    "  smartsheet.models.Workspace({\n",
    "    'name': 'Nurse Turnover'\n",
    "  })\n",
    ")\n",
    "\n",
    "#define the specs for a new sheet you want to create\n",
    "sheet_spec = smartsheet.models.Sheet({\n",
    "  'name': 'This Month Variable',\n",
    "  'columns': [{\n",
    "      'title': 'Unit Name',\n",
    "      'type': 'TEXT_NUMBER'\n",
    "    }, {\n",
    "      'title': 'Person Name',\n",
    "      'primary': True,\n",
    "      'type': 'TEXT_NUMBER'\n",
    "    }, {\n",
    "      \"title\": \"Reason for Turnover\",\n",
    "      \"type\": \"MULTI_PICKLIST\",\n",
    "      \"options\": [\n",
    "        \"Left Hospital\",\n",
    "        \"left Unit\",\n",
    "        \"left direct patient care\",\n",
    "        \"won the lottery\",\n",
    "        \"fired\",\n",
    "        \"gave up; nursing too difficult\"\n",
    "      ],\n",
    "      \"width\": 150\n",
    "    }\n",
    "  ]\n",
    "})"
   ]
  },
  {
   "cell_type": "code",
   "execution_count": 6,
   "metadata": {},
   "outputs": [],
   "source": [
    "response = smartsheet_client.Sheets.list_sheets(include_all=True)\n",
    "sheets = response.data"
   ]
  },
  {
   "cell_type": "code",
   "execution_count": 30,
   "metadata": {},
   "outputs": [
    {
     "name": "stdout",
     "output_type": "stream",
     "text": [
      "<class 'list'>\n"
     ]
    },
    {
     "ename": "AttributeError",
     "evalue": "'IndexResult' object has no attribute 'pageSize'",
     "output_type": "error",
     "traceback": [
      "\u001b[0;31m---------------------------------------------------------------------------\u001b[0m",
      "\u001b[0;31mAttributeError\u001b[0m                            Traceback (most recent call last)",
      "\u001b[0;32m<ipython-input-30-615cf42f999d>\u001b[0m in \u001b[0;36m<module>\u001b[0;34m\u001b[0m\n\u001b[1;32m      2\u001b[0m \u001b[0;31m#print(sheets)\u001b[0m\u001b[0;34m\u001b[0m\u001b[0;34m\u001b[0m\u001b[0;34m\u001b[0m\u001b[0m\n\u001b[1;32m      3\u001b[0m \u001b[0mprint\u001b[0m\u001b[0;34m(\u001b[0m\u001b[0mtype\u001b[0m\u001b[0;34m(\u001b[0m\u001b[0mresponse\u001b[0m\u001b[0;34m.\u001b[0m\u001b[0mdata\u001b[0m\u001b[0;34m)\u001b[0m\u001b[0;34m)\u001b[0m\u001b[0;34m\u001b[0m\u001b[0;34m\u001b[0m\u001b[0m\n\u001b[0;32m----> 4\u001b[0;31m \u001b[0mprint\u001b[0m\u001b[0;34m(\u001b[0m\u001b[0mresponse\u001b[0m\u001b[0;34m.\u001b[0m\u001b[0mpageSize\u001b[0m\u001b[0;34m)\u001b[0m\u001b[0;34m\u001b[0m\u001b[0;34m\u001b[0m\u001b[0m\n\u001b[0m",
      "\u001b[0;31mAttributeError\u001b[0m: 'IndexResult' object has no attribute 'pageSize'"
     ]
    }
   ],
   "source": [
    "#print(response)\n",
    "#print(sheets)\n",
    "print(type(response.data))\n",
    "print(response.pageSize)"
   ]
  },
  {
   "cell_type": "code",
   "execution_count": 21,
   "metadata": {},
   "outputs": [],
   "source": [
    "#import json\n",
    "#with open('data.txt', 'w') as outfile:\n",
    "#    json.dump(response, outfile)"
   ]
  },
  {
   "cell_type": "code",
   "execution_count": null,
   "metadata": {},
   "outputs": [],
   "source": []
  }
 ],
 "metadata": {
  "kernelspec": {
   "display_name": "Python 3",
   "language": "python",
   "name": "python3"
  },
  "language_info": {
   "codemirror_mode": {
    "name": "ipython",
    "version": 3
   },
   "file_extension": ".py",
   "mimetype": "text/x-python",
   "name": "python",
   "nbconvert_exporter": "python",
   "pygments_lexer": "ipython3",
   "version": "3.8.5"
  }
 },
 "nbformat": 4,
 "nbformat_minor": 4
}
