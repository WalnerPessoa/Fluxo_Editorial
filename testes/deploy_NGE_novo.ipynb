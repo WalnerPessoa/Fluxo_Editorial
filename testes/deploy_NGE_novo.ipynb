{
 "cells": [
  {
   "cell_type": "markdown",
   "metadata": {},
   "source": [
    "# Programa de inferência de quantidade de páginas prevista\n",
    "## inserir no inicio do arquivo word: \"id999999-\"\n",
    "## Inserir o arquivo Word na pasta Repositório/NGE/input"
   ]
  },
  {
   "cell_type": "code",
   "execution_count": 60,
   "metadata": {},
   "outputs": [
    {
     "name": "stdout",
     "output_type": "stream",
     "text": [
      "Existe esse diretório?  True\n",
      "Quantidade de arquivos do word no diretório:  1\n",
      "Entre com o número de paginas Word: 38\n",
      "\n",
      "\n",
      "Quantidade de páginas prevista por Machine Learning:  [[60.0419623]]\n"
     ]
    }
   ],
   "source": [
    "import os\n",
    "import get_file_word as gf\n",
    "\n",
    "import pandas as pd\n",
    "import numpy as np\n",
    "from sklearn.model_selection import train_test_split\n",
    "\n",
    "#Importando o modelo machine learnig\n",
    "from sklearn.linear_model import LinearRegression\n",
    "from sklearn import metrics\n",
    "import pickle\n",
    "import argparse\n",
    "\n",
    "fileExt_input = r\".docx\"\n",
    "fileDir_input = r\"/Users/wpessoa/repositorios/NGE/input/\"\n",
    "print(\"Existe esse diretório? \",os.path.exists(fileDir_input)) \n",
    "files_array_input = [_ for _ in os.listdir(fileDir_input) if _.endswith(fileExt_input)]\n",
    "print(\"Quantidade de arquivos do word no diretório: \",len(files_array_input))\n",
    "var__input=gf.get_info(fileDir_input,files_array_input)\n",
    "\n",
    "df_input = pd.DataFrame(var__input,columns=['id',\"qtd_pg_word\",\"qtd_carac\",\"qtd_tabela\",\"qtd_image\",\"qtd_estilos\", \"Data\"])\n",
    "\n",
    "# while len(files_array_input)<1\n",
    "\n",
    "campo1 = input('Entre com o número de paginas Word: ')\n",
    "if int(campo1)>119:\n",
    "        tamanho_livro =  2\n",
    "elif int(campo1)>59 & int(campo1)<120:\n",
    "        tamanho_livro =  1\n",
    "else:  \n",
    "        tamanho_livro =  0\n",
    "        \n",
    "        \n",
    "df_input[\"id\"] = df_input[\"id\"].astype('int')\n",
    "df_input[\"qtd_pg_word\"] = df_input[\"qtd_pg_word\"].astype('int')\n",
    "df_input[\"Data\"] = pd.to_datetime(df_input[\"Data\"])\n",
    "\n",
    "# USANDO ARQUIVO TREINADO MODELO REGRESSÃO LINEAR\n",
    "filename ='finalized_model-linreg5.sav'\n",
    "\n",
    "loaded_model_f = pickle.load(open(filename, 'rb'))\n",
    "\n",
    "df_input.loc[:,'qtd_carc_normal']=df_input.qtd_carac[0]\n",
    "df_input.loc[:,'qtd_pag_word_input'] = int(campo1)\n",
    "df_input.loc[:,'tamanho_livro'] = int(tamanho_livro)\n",
    "\n",
    "colunas_X= [ 'qtd_pag_word_input','qtd_pg_word','qtd_tabela','qtd_image', 'qtd_carac','tamanho_livro']# REG LINEAR 2\n",
    "\n",
    "\n",
    "\n",
    "X_semNF= df_input[colunas_X]\n",
    "\n",
    "\n",
    "#Fazendo predições no conjunto de teste\n",
    "y_pred_semNF = loaded_model_f.predict(X_semNF)\n",
    "print()\n",
    "print()\n",
    "print(\"Quantidade de páginas prevista por Machine Learning: \",y_pred_semNF)"
   ]
  },
  {
   "cell_type": "code",
   "execution_count": 56,
   "metadata": {},
   "outputs": [
    {
     "data": {
      "text/html": [
       "<div>\n",
       "<style scoped>\n",
       "    .dataframe tbody tr th:only-of-type {\n",
       "        vertical-align: middle;\n",
       "    }\n",
       "\n",
       "    .dataframe tbody tr th {\n",
       "        vertical-align: top;\n",
       "    }\n",
       "\n",
       "    .dataframe thead th {\n",
       "        text-align: right;\n",
       "    }\n",
       "</style>\n",
       "<table border=\"1\" class=\"dataframe\">\n",
       "  <thead>\n",
       "    <tr style=\"text-align: right;\">\n",
       "      <th></th>\n",
       "      <th>id</th>\n",
       "      <th>qtd_pg_word</th>\n",
       "      <th>qtd_carac</th>\n",
       "      <th>qtd_tabela</th>\n",
       "      <th>qtd_image</th>\n",
       "      <th>qtd_estilos</th>\n",
       "      <th>Data</th>\n",
       "      <th>qtd_carc_normal</th>\n",
       "      <th>qtd_pag_word_input</th>\n",
       "      <th>tamanho_livro</th>\n",
       "    </tr>\n",
       "  </thead>\n",
       "  <tbody>\n",
       "    <tr>\n",
       "      <th>0</th>\n",
       "      <td>236339</td>\n",
       "      <td>38</td>\n",
       "      <td>61902</td>\n",
       "      <td>4</td>\n",
       "      <td>3</td>\n",
       "      <td>22</td>\n",
       "      <td>2020-11-17</td>\n",
       "      <td>61902.0</td>\n",
       "      <td>38.0</td>\n",
       "      <td>1.0</td>\n",
       "    </tr>\n",
       "  </tbody>\n",
       "</table>\n",
       "</div>"
      ],
      "text/plain": [
       "       id  qtd_pg_word  qtd_carac  qtd_tabela  qtd_image  qtd_estilos  \\\n",
       "0  236339           38      61902           4          3           22   \n",
       "\n",
       "        Data  qtd_carc_normal  qtd_pag_word_input  tamanho_livro  \n",
       "0 2020-11-17          61902.0                38.0            1.0  "
      ]
     },
     "execution_count": 56,
     "metadata": {},
     "output_type": "execute_result"
    }
   ],
   "source": [
    "# fazer alteração para incluir mais de um arquivo\n",
    "\n",
    "df_input"
   ]
  },
  {
   "cell_type": "code",
   "execution_count": null,
   "metadata": {},
   "outputs": [],
   "source": []
  }
 ],
 "metadata": {
  "kernelspec": {
   "display_name": "Python 3",
   "language": "python",
   "name": "python3"
  },
  "language_info": {
   "codemirror_mode": {
    "name": "ipython",
    "version": 3
   },
   "file_extension": ".py",
   "mimetype": "text/x-python",
   "name": "python",
   "nbconvert_exporter": "python",
   "pygments_lexer": "ipython3",
   "version": "3.8.5"
  }
 },
 "nbformat": 4,
 "nbformat_minor": 4
}
