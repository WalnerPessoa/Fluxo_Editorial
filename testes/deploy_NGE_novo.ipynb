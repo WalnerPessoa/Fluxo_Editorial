{
 "cells": [
  {
   "cell_type": "markdown",
   "metadata": {},
   "source": [
    "# Programa de inferência de quantidade de páginas prevista\n",
    "## inserir no inicio do arquivo word: \"id999999-\"\n",
    "## Inserir o arquivo Word na pasta Repositório/NGE/input"
   ]
  },
  {
   "cell_type": "code",
   "execution_count": 1,
   "metadata": {},
   "outputs": [
    {
     "name": "stdout",
     "output_type": "stream",
     "text": [
      "Existe esse diretório?  True\n",
      "Quantidade de arquivos do word no diretório:  1\n",
      "Entre com o número de paginas Word: 38\n",
      "\n",
      "\n",
      "Quantidade de páginas prevista por Machine Learning:  [[60.0419623]]\n"
     ]
    }
   ],
   "source": [
    "import os\n",
    "import get_file_word as gf\n",
    "\n",
    "import pandas as pd\n",
    "import numpy as np\n",
    "from sklearn.model_selection import train_test_split\n",
    "\n",
    "#Importando o modelo machine learnig\n",
    "from sklearn.linear_model import LinearRegression\n",
    "from sklearn import metrics\n",
    "import pickle\n",
    "import argparse\n",
    "\n",
    "fileExt_input = r\".docx\"\n",
    "fileDir_input = r\"/Users/wpessoa/repositorios/NGE/input/\"\n",
    "print(\"Existe esse diretório? \",os.path.exists(fileDir_input)) \n",
    "files_array_input = [_ for _ in os.listdir(fileDir_input) if _.endswith(fileExt_input)]\n",
    "print(\"Quantidade de arquivos do word no diretório: \",len(files_array_input))\n",
    "var__input=gf.get_info(fileDir_input,files_array_input)\n",
    "\n",
    "df_input = pd.DataFrame(var__input,columns=['id',\"qtd_pg_word\",\"qtd_carac\",\"qtd_tabela\",\"qtd_image\",\"qtd_estilos\", \"Data\"])\n",
    "\n",
    "# while len(files_array_input)<1\n",
    "\n",
    "campo1 = input('Entre com o número de paginas Word: ')\n",
    "if int(campo1)>119:\n",
    "        tamanho_livro =  2\n",
    "elif int(campo1)>59 & int(campo1)<120:\n",
    "        tamanho_livro =  1\n",
    "else:  \n",
    "        tamanho_livro =  0\n",
    "        \n",
    "        \n",
    "df_input[\"id\"] = df_input[\"id\"].astype('int')\n",
    "df_input[\"qtd_pg_word\"] = df_input[\"qtd_pg_word\"].astype('int')\n",
    "df_input[\"Data\"] = pd.to_datetime(df_input[\"Data\"])\n",
    "\n",
    "# USANDO ARQUIVO TREINADO MODELO REGRESSÃO LINEAR\n",
    "filename ='finalized_model-linreg5.sav'\n",
    "\n",
    "loaded_model_f = pickle.load(open(filename, 'rb'))\n",
    "\n",
    "df_input.loc[:,'qtd_carc_normal']=df_input.qtd_carac[0]\n",
    "df_input.loc[:,'qtd_pag_word_input'] = int(campo1)\n",
    "df_input.loc[:,'tamanho_livro'] = int(tamanho_livro)\n",
    "\n",
    "colunas_X= [ 'qtd_pag_word_input','qtd_pg_word','qtd_tabela','qtd_image', 'qtd_carac','tamanho_livro']# REG LINEAR 2\n",
    "\n",
    "\n",
    "\n",
    "X_semNF= df_input[colunas_X]\n",
    "\n",
    "\n",
    "#Fazendo predições no conjunto de teste\n",
    "y_pred_semNF = loaded_model_f.predict(X_semNF)\n",
    "print()\n",
    "print()\n",
    "print(\"Quantidade de páginas prevista por Machine Learning: \",y_pred_semNF)"
   ]
  },
  {
   "cell_type": "code",
   "execution_count": null,
   "metadata": {},
   "outputs": [],
   "source": [
    "# fazer alteração para incluir mais de um arquivo\n",
    "\n",
    "df_input"
   ]
  },
  {
   "cell_type": "code",
   "execution_count": null,
   "metadata": {},
   "outputs": [],
   "source": []
  }
 ],
 "metadata": {
  "kernelspec": {
   "display_name": "Python 3",
   "language": "python",
   "name": "python3"
  },
  "language_info": {
   "codemirror_mode": {
    "name": "ipython",
    "version": 3
   },
   "file_extension": ".py",
   "mimetype": "text/x-python",
   "name": "python",
   "nbconvert_exporter": "python",
   "pygments_lexer": "ipython3",
   "version": "3.8.5"
  }
 },
 "nbformat": 4,
 "nbformat_minor": 4
}
