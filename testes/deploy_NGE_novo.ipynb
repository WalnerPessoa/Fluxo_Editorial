{
 "cells": [
  {
   "cell_type": "code",
   "execution_count": 4,
   "metadata": {},
   "outputs": [],
   "source": [
    "import os\n",
    "import get_file_word as gf\n",
    "\n",
    "import pandas as pd\n",
    "import numpy as np\n",
    "from sklearn.model_selection import train_test_split\n",
    "\n",
    "#Importando o modelo machine learnig\n",
    "from sklearn.linear_model import LinearRegression\n",
    "from sklearn import metrics\n",
    "import pickle\n",
    "import argparse"
   ]
  },
  {
   "cell_type": "code",
   "execution_count": 5,
   "metadata": {},
   "outputs": [
    {
     "name": "stdout",
     "output_type": "stream",
     "text": [
      "Existe esse diretório?  True\n",
      "Quantidade de arquivos do word no diretório:  1\n"
     ]
    }
   ],
   "source": [
    "fileExt_input = r\".docx\"\n",
    "fileDir_input = r\"/Users/wpessoa/repositorios/NGE/input/\"\n",
    "print(\"Existe esse diretório? \",os.path.exists(fileDir_input)) \n",
    "files_array_input = [_ for _ in os.listdir(fileDir_input) if _.endswith(fileExt_input)]\n",
    "print(\"Quantidade de arquivos do word no diretório: \",len(files_array_input))\n",
    "var__input=gf.get_info(fileDir_input,files_array_input)\n",
    "\n",
    "df_input = pd.DataFrame(var__input,columns=['id',\"qtd_pg_word\",\"qtd_carac\",\"qtd_tabela\",\"qtd_image\",\"qtd_estilos\", \"Data\"])\n"
   ]
  },
  {
   "cell_type": "code",
   "execution_count": 6,
   "metadata": {},
   "outputs": [
    {
     "name": "stdout",
     "output_type": "stream",
     "text": [
      "Entre com o número de paginas Word: 38\n"
     ]
    }
   ],
   "source": [
    "campo1 = input('Entre com o número de paginas Word: ')\n",
    "if int(campo1)>119:\n",
    "        tamanho_livro =  2\n",
    "elif int(campo1)>59 & int(campo1)<120:\n",
    "        tamanho_livro =  1\n",
    "else:  \n",
    "        tamanho_livro =  0"
   ]
  },
  {
   "cell_type": "code",
   "execution_count": 7,
   "metadata": {
    "scrolled": true
   },
   "outputs": [
    {
     "data": {
      "text/html": [
       "<div>\n",
       "<style scoped>\n",
       "    .dataframe tbody tr th:only-of-type {\n",
       "        vertical-align: middle;\n",
       "    }\n",
       "\n",
       "    .dataframe tbody tr th {\n",
       "        vertical-align: top;\n",
       "    }\n",
       "\n",
       "    .dataframe thead th {\n",
       "        text-align: right;\n",
       "    }\n",
       "</style>\n",
       "<table border=\"1\" class=\"dataframe\">\n",
       "  <thead>\n",
       "    <tr style=\"text-align: right;\">\n",
       "      <th></th>\n",
       "      <th>id</th>\n",
       "      <th>qtd_pg_word</th>\n",
       "      <th>qtd_carac</th>\n",
       "      <th>qtd_tabela</th>\n",
       "      <th>qtd_image</th>\n",
       "      <th>qtd_estilos</th>\n",
       "      <th>Data</th>\n",
       "    </tr>\n",
       "  </thead>\n",
       "  <tbody>\n",
       "    <tr>\n",
       "      <th>0</th>\n",
       "      <td>236339</td>\n",
       "      <td>38</td>\n",
       "      <td>61902</td>\n",
       "      <td>4</td>\n",
       "      <td>3</td>\n",
       "      <td>22</td>\n",
       "      <td>2020-11-17</td>\n",
       "    </tr>\n",
       "  </tbody>\n",
       "</table>\n",
       "</div>"
      ],
      "text/plain": [
       "       id qtd_pg_word  qtd_carac  qtd_tabela  qtd_image  qtd_estilos  \\\n",
       "0  236339          38      61902           4          3           22   \n",
       "\n",
       "         Data  \n",
       "0  2020-11-17  "
      ]
     },
     "execution_count": 7,
     "metadata": {},
     "output_type": "execute_result"
    }
   ],
   "source": [
    "df_input"
   ]
  },
  {
   "cell_type": "code",
   "execution_count": 8,
   "metadata": {},
   "outputs": [
    {
     "data": {
      "text/plain": [
       "id             object\n",
       "qtd_pg_word    object\n",
       "qtd_carac       int64\n",
       "qtd_tabela      int64\n",
       "qtd_image       int64\n",
       "qtd_estilos     int64\n",
       "Data           object\n",
       "dtype: object"
      ]
     },
     "execution_count": 8,
     "metadata": {},
     "output_type": "execute_result"
    }
   ],
   "source": [
    "df_input.dtypes"
   ]
  },
  {
   "cell_type": "code",
   "execution_count": 9,
   "metadata": {},
   "outputs": [],
   "source": [
    "df_input[\"id\"] = df_input[\"id\"].astype('int')\n",
    "df_input[\"qtd_pg_word\"] = df_input[\"qtd_pg_word\"].astype('int')\n",
    "df_input[\"Data\"] = pd.to_datetime(df_input[\"Data\"])"
   ]
  },
  {
   "cell_type": "code",
   "execution_count": 10,
   "metadata": {},
   "outputs": [
    {
     "data": {
      "text/plain": [
       "id             1\n",
       "qtd_pg_word    1\n",
       "qtd_carac      1\n",
       "qtd_tabela     1\n",
       "qtd_image      1\n",
       "qtd_estilos    1\n",
       "Data           1\n",
       "dtype: int64"
      ]
     },
     "execution_count": 10,
     "metadata": {},
     "output_type": "execute_result"
    }
   ],
   "source": [
    "#data_semNF.count()\n",
    "df_input.count()"
   ]
  },
  {
   "cell_type": "code",
   "execution_count": null,
   "metadata": {},
   "outputs": [],
   "source": []
  },
  {
   "cell_type": "code",
   "execution_count": 22,
   "metadata": {},
   "outputs": [],
   "source": [
    "# USANDO ARQUIVO TREINADO MODELO REGRESSÃO LINEAR\n",
    "filename ='finalized_model-linreg5.sav'\n",
    "\n",
    "loaded_model_f = pickle.load(open(filename, 'rb'))"
   ]
  },
  {
   "cell_type": "code",
   "execution_count": 23,
   "metadata": {},
   "outputs": [
    {
     "data": {
      "text/plain": [
       "Index(['id', 'qtd_pg_word', 'qtd_carac', 'qtd_tabela', 'qtd_image',\n",
       "       'qtd_estilos', 'Data', 'qtd_carc_normal', 'qtd_pag_word',\n",
       "       'tamanho_livro'],\n",
       "      dtype='object')"
      ]
     },
     "execution_count": 23,
     "metadata": {},
     "output_type": "execute_result"
    }
   ],
   "source": [
    "df_input.columns"
   ]
  },
  {
   "cell_type": "code",
   "execution_count": 24,
   "metadata": {},
   "outputs": [
    {
     "data": {
      "text/plain": [
       "61902"
      ]
     },
     "execution_count": 24,
     "metadata": {},
     "output_type": "execute_result"
    }
   ],
   "source": [
    "df_input.qtd_carac[0].min()"
   ]
  },
  {
   "cell_type": "code",
   "execution_count": 14,
   "metadata": {},
   "outputs": [],
   "source": [
    "df_input.loc[:,'qtd_carc_normal']=df_input.qtd_carac[0]\n",
    "df_input.loc[:,'qtd_pag_word'] = int(campo1)\n",
    "df_input.loc[:,'tamanho_livro'] = int(tamanho_livro)"
   ]
  },
  {
   "cell_type": "code",
   "execution_count": 25,
   "metadata": {},
   "outputs": [],
   "source": [
    "colunas_X= [ 'qtd_pag_word','qtd_pg_word','qtd_tabela','qtd_image', 'qtd_carac','tamanho_livro']# REG LINEAR 2\n",
    "\n",
    "\n",
    "\n",
    "X_semNF= df_input[colunas_X]"
   ]
  },
  {
   "cell_type": "code",
   "execution_count": 26,
   "metadata": {},
   "outputs": [
    {
     "data": {
      "text/html": [
       "<div>\n",
       "<style scoped>\n",
       "    .dataframe tbody tr th:only-of-type {\n",
       "        vertical-align: middle;\n",
       "    }\n",
       "\n",
       "    .dataframe tbody tr th {\n",
       "        vertical-align: top;\n",
       "    }\n",
       "\n",
       "    .dataframe thead th {\n",
       "        text-align: right;\n",
       "    }\n",
       "</style>\n",
       "<table border=\"1\" class=\"dataframe\">\n",
       "  <thead>\n",
       "    <tr style=\"text-align: right;\">\n",
       "      <th></th>\n",
       "      <th>qtd_pag_word</th>\n",
       "      <th>qtd_pg_word</th>\n",
       "      <th>qtd_tabela</th>\n",
       "      <th>qtd_image</th>\n",
       "      <th>qtd_carac</th>\n",
       "      <th>tamanho_livro</th>\n",
       "    </tr>\n",
       "  </thead>\n",
       "  <tbody>\n",
       "    <tr>\n",
       "      <th>0</th>\n",
       "      <td>38.0</td>\n",
       "      <td>38</td>\n",
       "      <td>4</td>\n",
       "      <td>3</td>\n",
       "      <td>61902</td>\n",
       "      <td>1.0</td>\n",
       "    </tr>\n",
       "  </tbody>\n",
       "</table>\n",
       "</div>"
      ],
      "text/plain": [
       "   qtd_pag_word  qtd_pg_word  qtd_tabela  qtd_image  qtd_carac  tamanho_livro\n",
       "0          38.0           38           4          3      61902            1.0"
      ]
     },
     "execution_count": 26,
     "metadata": {},
     "output_type": "execute_result"
    }
   ],
   "source": [
    "X_semNF"
   ]
  },
  {
   "cell_type": "code",
   "execution_count": 27,
   "metadata": {},
   "outputs": [
    {
     "data": {
      "text/plain": [
       "qtd_pag_word     float64\n",
       "qtd_pg_word        int64\n",
       "qtd_tabela         int64\n",
       "qtd_image          int64\n",
       "qtd_carac          int64\n",
       "tamanho_livro    float64\n",
       "dtype: object"
      ]
     },
     "execution_count": 27,
     "metadata": {},
     "output_type": "execute_result"
    }
   ],
   "source": [
    "X_semNF.dtypes"
   ]
  },
  {
   "cell_type": "code",
   "execution_count": 28,
   "metadata": {},
   "outputs": [
    {
     "name": "stdout",
     "output_type": "stream",
     "text": [
      "(1, 6)\n"
     ]
    }
   ],
   "source": [
    "print(X_semNF.shape)"
   ]
  },
  {
   "cell_type": "code",
   "execution_count": 29,
   "metadata": {},
   "outputs": [],
   "source": [
    "#Fazendo predições no conjunto de teste\n",
    "y_pred_semNF = loaded_model_f.predict(X_semNF)"
   ]
  },
  {
   "cell_type": "code",
   "execution_count": 30,
   "metadata": {},
   "outputs": [
    {
     "name": "stdout",
     "output_type": "stream",
     "text": [
      "[[60.0419623]]\n"
     ]
    }
   ],
   "source": [
    "print(y_pred_semNF)"
   ]
  },
  {
   "cell_type": "code",
   "execution_count": null,
   "metadata": {},
   "outputs": [],
   "source": []
  },
  {
   "cell_type": "code",
   "execution_count": null,
   "metadata": {},
   "outputs": [],
   "source": []
  }
 ],
 "metadata": {
  "kernelspec": {
   "display_name": "Python 3",
   "language": "python",
   "name": "python3"
  },
  "language_info": {
   "codemirror_mode": {
    "name": "ipython",
    "version": 3
   },
   "file_extension": ".py",
   "mimetype": "text/x-python",
   "name": "python",
   "nbconvert_exporter": "python",
   "pygments_lexer": "ipython3",
   "version": "3.8.5"
  }
 },
 "nbformat": 4,
 "nbformat_minor": 4
}
