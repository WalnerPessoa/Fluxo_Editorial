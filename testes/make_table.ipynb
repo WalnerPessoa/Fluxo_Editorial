{
 "cells": [
  {
   "cell_type": "code",
   "execution_count": null,
   "metadata": {},
   "outputs": [],
   "source": [
    "# metodo de tratar tabelas\n"
   ]
  },
  {
   "cell_type": "code",
   "execution_count": 2,
   "metadata": {
    "scrolled": true
   },
   "outputs": [
    {
     "name": "stdout",
     "output_type": "stream",
     "text": [
      "Existe esse diretório?  True\n",
      "Existe esse diretório?  True\n",
      "Quantidade de arquivos do word no diretório:  58\n",
      "Quantidade de arquivos do word no diretório:  35\n"
     ]
    }
   ],
   "source": [
    "import os\n",
    "import get_file_word as gf\n",
    "import datetime\n",
    "import pandas as pd\n",
    "\n",
    "#setar variáveis onde estão arquivos\n",
    "fileExt = r\".docx\"\n",
    "fileExt2 = r\".doc\"\n",
    "fileDir_19 = r\"/Users/wpessoa/repositorios/NGE/words_2019/\"\n",
    "fileDir_20 = r\"/Users/wpessoa/repositorios/NGE/words_2020/\"\n",
    "\n",
    "\n",
    "# verificar se existe o diretório\n",
    "print(\"Existe esse diretório? \",os.path.exists(fileDir_19)) \n",
    "print(\"Existe esse diretório? \",os.path.exists(fileDir_20)) \n",
    "\n",
    "\n",
    "#fileDir = r\"/Users/wpessoa/repositorios/Fluxo_Editorial/words/\"\n",
    "#fileDir= r'/Users/walnerpessoa/repositories/Fluxo_Editorial/words'\n",
    "files_array_19 = [_ for _ in os.listdir(fileDir_19) if _.endswith(fileExt)]\n",
    "#files_array_19_2 = [_ for _ in os.listdir(fileDir_19) if _.endswith(fileExt2)]\n",
    "#files_array_19=files_array_19_1+files_array_19_2\n",
    "\n",
    "\n",
    "files_array_20 = [_ for _ in os.listdir(fileDir_20) if _.endswith(fileExt)]\n",
    "#files_array_20_2 = [_ for _ in os.listdir(fileDir_20) if _.endswith(fileExt2)]\n",
    "#files_array_20=files_array_20_1+files_array_20_2\n",
    "\n",
    "print(\"Quantidade de arquivos do word no diretório: \",len(files_array_19))\n",
    "print(\"Quantidade de arquivos do word no diretório: \",len(files_array_20))\n",
    "\n",
    "\n",
    "# rodar método get_info para ler aquivos do Word e retornar features de cada arquivo\n",
    "# argumentos (diretório e array dos arquivos word)\n",
    "# retorna (NºID,Qtd_caracteres,Qtd_tabela,Qtd_image,data)\n",
    "\n",
    "var_19=gf.get_info(fileDir_19,files_array_19)\n",
    "var_20=gf.get_info(fileDir_20,files_array_20)\n",
    "\n",
    "#print(var)\n"
   ]
  },
  {
   "cell_type": "code",
   "execution_count": null,
   "metadata": {},
   "outputs": [],
   "source": [
    "#\n",
    "#\n",
    "# converter arquivo DOC para arquivo DOCX -> AINDA NÃO FUNCIONA\n",
    "#\n",
    "#\n",
    "\n",
    "# https://stackoverflow.com/questions/38468442/multiple-doc-to-docx-file-conversion-using-python\n",
    "from glob import glob\n",
    "import re\n",
    "import os\n",
    "import win32com.client as win32\n",
    "from win32com.client import constants\n",
    "\n",
    "# Create list of paths to .doc files\n",
    "paths = glob('C:\\\\path\\\\to\\\\doc\\\\files\\\\**\\\\*.doc', recursive=True)\n",
    "\n",
    "def save_as_docx(path):\n",
    "    # Opening MS Word\n",
    "    word = win32.gencache.EnsureDispatch('Word.Application')\n",
    "    doc = word.Documents.Open(path)\n",
    "    doc.Activate ()\n",
    "\n",
    "    # Rename path with .docx\n",
    "    new_file_abs = os.path.abspath(path)\n",
    "    new_file_abs = re.sub(r'\\.\\w+$', '.docx', new_file_abs)\n",
    "\n",
    "    # Save and Close\n",
    "    word.ActiveDocument.SaveAs(\n",
    "        new_file_abs, FileFormat=constants.wdFormatXMLDocument\n",
    "    )\n",
    "    doc.Close(False)\n",
    "\n",
    "for path in paths:\n",
    "    save_as_docx(files_array_19_2)"
   ]
  },
  {
   "cell_type": "code",
   "execution_count": 4,
   "metadata": {},
   "outputs": [],
   "source": [
    "#files_array_19_2"
   ]
  },
  {
   "cell_type": "markdown",
   "metadata": {},
   "source": [
    "- Existe esse diretório?  True\n",
    "- Existe esse diretório?  True\n",
    "- Quantidade de arquivos do word no diretório:  58\n",
    "- Quantidade de arquivos do word no diretório:  35"
   ]
  },
  {
   "cell_type": "code",
   "execution_count": 5,
   "metadata": {},
   "outputs": [
    {
     "name": "stdout",
     "output_type": "stream",
     "text": [
      "<class 'list'>\n"
     ]
    }
   ],
   "source": [
    "print(type(var_19))"
   ]
  },
  {
   "cell_type": "code",
   "execution_count": null,
   "metadata": {},
   "outputs": [],
   "source": []
  },
  {
   "cell_type": "code",
   "execution_count": 6,
   "metadata": {},
   "outputs": [],
   "source": [
    "# unindo lista 2019 com lista 2020\n",
    "var=var_19+var_20"
   ]
  },
  {
   "cell_type": "code",
   "execution_count": 7,
   "metadata": {},
   "outputs": [
    {
     "data": {
      "text/html": [
       "<div>\n",
       "<style scoped>\n",
       "    .dataframe tbody tr th:only-of-type {\n",
       "        vertical-align: middle;\n",
       "    }\n",
       "\n",
       "    .dataframe tbody tr th {\n",
       "        vertical-align: top;\n",
       "    }\n",
       "\n",
       "    .dataframe thead th {\n",
       "        text-align: right;\n",
       "    }\n",
       "</style>\n",
       "<table border=\"1\" class=\"dataframe\">\n",
       "  <thead>\n",
       "    <tr style=\"text-align: right;\">\n",
       "      <th></th>\n",
       "      <th>Nº DA PLANILHA</th>\n",
       "      <th>Qtd_carac</th>\n",
       "      <th>Qtd_tabela</th>\n",
       "      <th>Qtd_image</th>\n",
       "      <th>Qtd_estilos</th>\n",
       "      <th>Data</th>\n",
       "    </tr>\n",
       "  </thead>\n",
       "  <tbody>\n",
       "    <tr>\n",
       "      <th>0</th>\n",
       "      <td>228354</td>\n",
       "      <td>129122</td>\n",
       "      <td>14</td>\n",
       "      <td>10</td>\n",
       "      <td>26</td>\n",
       "      <td>2019-02-27</td>\n",
       "    </tr>\n",
       "    <tr>\n",
       "      <th>1</th>\n",
       "      <td>235502</td>\n",
       "      <td>31123</td>\n",
       "      <td>21</td>\n",
       "      <td>17</td>\n",
       "      <td>23</td>\n",
       "      <td>2020-05-27</td>\n",
       "    </tr>\n",
       "    <tr>\n",
       "      <th>2</th>\n",
       "      <td>232098</td>\n",
       "      <td>413596</td>\n",
       "      <td>26</td>\n",
       "      <td>20</td>\n",
       "      <td>19</td>\n",
       "      <td>2019-09-16</td>\n",
       "    </tr>\n",
       "    <tr>\n",
       "      <th>3</th>\n",
       "      <td>225392</td>\n",
       "      <td>41144</td>\n",
       "      <td>28</td>\n",
       "      <td>24</td>\n",
       "      <td>23</td>\n",
       "      <td>2018-11-07</td>\n",
       "    </tr>\n",
       "    <tr>\n",
       "      <th>4</th>\n",
       "      <td>228307</td>\n",
       "      <td>43155</td>\n",
       "      <td>40</td>\n",
       "      <td>73</td>\n",
       "      <td>25</td>\n",
       "      <td>2019-02-26</td>\n",
       "    </tr>\n",
       "  </tbody>\n",
       "</table>\n",
       "</div>"
      ],
      "text/plain": [
       "  Nº DA PLANILHA  Qtd_carac  Qtd_tabela  Qtd_image  Qtd_estilos        Data\n",
       "0         228354     129122          14         10           26  2019-02-27\n",
       "1         235502      31123          21         17           23  2020-05-27\n",
       "2         232098     413596          26         20           19  2019-09-16\n",
       "3         225392      41144          28         24           23  2018-11-07\n",
       "4         228307      43155          40         73           25  2019-02-26"
      ]
     },
     "execution_count": 7,
     "metadata": {},
     "output_type": "execute_result"
    }
   ],
   "source": [
    "# converter veriável de retorno do método para Dataframe\n",
    "#df = pd.DataFrame(var,columns=['Nº DA PLANILHA',\"Qtd_carac\",\"Qtd_tabela\",\"Qtd_image\",\"Data\"])\n",
    "df = pd.DataFrame(var,columns=['Nº DA PLANILHA',\"Qtd_carac\",\"Qtd_tabela\",\"Qtd_image\",\"Qtd_estilos\", \"Data\"])\n",
    "\n",
    "df.head()"
   ]
  },
  {
   "cell_type": "code",
   "execution_count": 8,
   "metadata": {},
   "outputs": [
    {
     "data": {
      "text/html": [
       "<div>\n",
       "<style scoped>\n",
       "    .dataframe tbody tr th:only-of-type {\n",
       "        vertical-align: middle;\n",
       "    }\n",
       "\n",
       "    .dataframe tbody tr th {\n",
       "        vertical-align: top;\n",
       "    }\n",
       "\n",
       "    .dataframe thead th {\n",
       "        text-align: right;\n",
       "    }\n",
       "</style>\n",
       "<table border=\"1\" class=\"dataframe\">\n",
       "  <thead>\n",
       "    <tr style=\"text-align: right;\">\n",
       "      <th></th>\n",
       "      <th>Nº DA PLANILHA</th>\n",
       "      <th>Qtd_carac</th>\n",
       "      <th>Qtd_tabela</th>\n",
       "      <th>Qtd_image</th>\n",
       "      <th>Qtd_estilos</th>\n",
       "      <th>Data</th>\n",
       "    </tr>\n",
       "  </thead>\n",
       "  <tbody>\n",
       "    <tr>\n",
       "      <th>0</th>\n",
       "      <td>228354</td>\n",
       "      <td>129122</td>\n",
       "      <td>14</td>\n",
       "      <td>10</td>\n",
       "      <td>26</td>\n",
       "      <td>2019-02-27</td>\n",
       "    </tr>\n",
       "    <tr>\n",
       "      <th>1</th>\n",
       "      <td>235502</td>\n",
       "      <td>31123</td>\n",
       "      <td>21</td>\n",
       "      <td>17</td>\n",
       "      <td>23</td>\n",
       "      <td>2020-05-27</td>\n",
       "    </tr>\n",
       "    <tr>\n",
       "      <th>2</th>\n",
       "      <td>232098</td>\n",
       "      <td>413596</td>\n",
       "      <td>26</td>\n",
       "      <td>20</td>\n",
       "      <td>19</td>\n",
       "      <td>2019-09-16</td>\n",
       "    </tr>\n",
       "    <tr>\n",
       "      <th>3</th>\n",
       "      <td>225392</td>\n",
       "      <td>41144</td>\n",
       "      <td>28</td>\n",
       "      <td>24</td>\n",
       "      <td>23</td>\n",
       "      <td>2018-11-07</td>\n",
       "    </tr>\n",
       "    <tr>\n",
       "      <th>4</th>\n",
       "      <td>228307</td>\n",
       "      <td>43155</td>\n",
       "      <td>40</td>\n",
       "      <td>73</td>\n",
       "      <td>25</td>\n",
       "      <td>2019-02-26</td>\n",
       "    </tr>\n",
       "    <tr>\n",
       "      <th>...</th>\n",
       "      <td>...</td>\n",
       "      <td>...</td>\n",
       "      <td>...</td>\n",
       "      <td>...</td>\n",
       "      <td>...</td>\n",
       "      <td>...</td>\n",
       "    </tr>\n",
       "    <tr>\n",
       "      <th>88</th>\n",
       "      <td>233889</td>\n",
       "      <td>14968</td>\n",
       "      <td>366</td>\n",
       "      <td>323</td>\n",
       "      <td>12</td>\n",
       "      <td>2020-02-05</td>\n",
       "    </tr>\n",
       "    <tr>\n",
       "      <th>89</th>\n",
       "      <td>235320</td>\n",
       "      <td>103663</td>\n",
       "      <td>368</td>\n",
       "      <td>330</td>\n",
       "      <td>20</td>\n",
       "      <td>2020-05-21</td>\n",
       "    </tr>\n",
       "    <tr>\n",
       "      <th>90</th>\n",
       "      <td>233887</td>\n",
       "      <td>47904</td>\n",
       "      <td>373</td>\n",
       "      <td>335</td>\n",
       "      <td>14</td>\n",
       "      <td>2020-02-05</td>\n",
       "    </tr>\n",
       "    <tr>\n",
       "      <th>91</th>\n",
       "      <td>235495</td>\n",
       "      <td>31612</td>\n",
       "      <td>383</td>\n",
       "      <td>348</td>\n",
       "      <td>25</td>\n",
       "      <td>2020-05-25</td>\n",
       "    </tr>\n",
       "    <tr>\n",
       "      <th>92</th>\n",
       "      <td>233906</td>\n",
       "      <td>118624</td>\n",
       "      <td>386</td>\n",
       "      <td>417</td>\n",
       "      <td>19</td>\n",
       "      <td>2020-03-09</td>\n",
       "    </tr>\n",
       "  </tbody>\n",
       "</table>\n",
       "<p>93 rows × 6 columns</p>\n",
       "</div>"
      ],
      "text/plain": [
       "   Nº DA PLANILHA  Qtd_carac  Qtd_tabela  Qtd_image  Qtd_estilos        Data\n",
       "0          228354     129122          14         10           26  2019-02-27\n",
       "1          235502      31123          21         17           23  2020-05-27\n",
       "2          232098     413596          26         20           19  2019-09-16\n",
       "3          225392      41144          28         24           23  2018-11-07\n",
       "4          228307      43155          40         73           25  2019-02-26\n",
       "..            ...        ...         ...        ...          ...         ...\n",
       "88         233889      14968         366        323           12  2020-02-05\n",
       "89         235320     103663         368        330           20  2020-05-21\n",
       "90         233887      47904         373        335           14  2020-02-05\n",
       "91         235495      31612         383        348           25  2020-05-25\n",
       "92         233906     118624         386        417           19  2020-03-09\n",
       "\n",
       "[93 rows x 6 columns]"
      ]
     },
     "execution_count": 8,
     "metadata": {},
     "output_type": "execute_result"
    }
   ],
   "source": [
    "df"
   ]
  },
  {
   "cell_type": "code",
   "execution_count": 9,
   "metadata": {},
   "outputs": [
    {
     "data": {
      "text/plain": [
       "Nº DA PLANILHA    object\n",
       "Qtd_carac          int64\n",
       "Qtd_tabela         int64\n",
       "Qtd_image          int64\n",
       "Qtd_estilos        int64\n",
       "Data              object\n",
       "dtype: object"
      ]
     },
     "execution_count": 9,
     "metadata": {},
     "output_type": "execute_result"
    }
   ],
   "source": [
    "# verificando tipo das variáveis\n",
    "df.dtypes"
   ]
  },
  {
   "cell_type": "code",
   "execution_count": 10,
   "metadata": {},
   "outputs": [],
   "source": [
    "# converter tipo para inteiros e data\n",
    "df[\"Nº DA PLANILHA\"] = pd.to_numeric(df[\"Nº DA PLANILHA\"], errors='coerce')\n",
    "df[\"Data\"] = pd.to_datetime(df[\"Data\"])"
   ]
  },
  {
   "cell_type": "code",
   "execution_count": 11,
   "metadata": {},
   "outputs": [
    {
     "data": {
      "text/plain": [
       "Nº DA PLANILHA           float64\n",
       "Qtd_carac                  int64\n",
       "Qtd_tabela                 int64\n",
       "Qtd_image                  int64\n",
       "Qtd_estilos                int64\n",
       "Data              datetime64[ns]\n",
       "dtype: object"
      ]
     },
     "execution_count": 11,
     "metadata": {},
     "output_type": "execute_result"
    }
   ],
   "source": [
    "df.dtypes"
   ]
  },
  {
   "cell_type": "code",
   "execution_count": 12,
   "metadata": {},
   "outputs": [],
   "source": [
    "#Convertendo arquivo excel em dataframe\n",
    "\n",
    "excelDir =\"/Users/wpessoa/repositorios/Fluxo_Editorial/dados/\"\n",
    "excelFile_2019 = pd.read_excel(excelDir+'Exercicio_estimativa_de_paginas_2019_2020.xlsx',\"EXECUTADO 2019\")\n",
    "excelFile_2020 = pd.read_excel(excelDir+'Exercicio_estimativa_de_paginas_2019_2020.xlsx',\"EXECUTADO 2020\")\n"
   ]
  },
  {
   "cell_type": "code",
   "execution_count": 13,
   "metadata": {},
   "outputs": [
    {
     "data": {
      "text/plain": [
       "26"
      ]
     },
     "execution_count": 13,
     "metadata": {},
     "output_type": "execute_result"
    }
   ],
   "source": [
    "len(excelFile_2020.columns)"
   ]
  },
  {
   "cell_type": "code",
   "execution_count": 14,
   "metadata": {},
   "outputs": [
    {
     "data": {
      "text/plain": [
       "28"
      ]
     },
     "execution_count": 14,
     "metadata": {},
     "output_type": "execute_result"
    }
   ],
   "source": [
    "len(excelFile_2019.columns)"
   ]
  },
  {
   "cell_type": "code",
   "execution_count": 15,
   "metadata": {},
   "outputs": [],
   "source": [
    "###################################################\n",
    "# FAZER MERGE COM excelFile_2020 & excelFile_2019\n",
    "##################################################"
   ]
  },
  {
   "cell_type": "code",
   "execution_count": 16,
   "metadata": {},
   "outputs": [],
   "source": [
    "frames = [excelFile_2019, excelFile_2020]\n",
    "excelFile2 = pd.concat(frames)"
   ]
  },
  {
   "cell_type": "code",
   "execution_count": 17,
   "metadata": {},
   "outputs": [],
   "source": [
    "# reindexar o index devido ter deletado algumas linhas\n",
    "excelFile2.reset_index(drop=True, inplace=True)"
   ]
  },
  {
   "cell_type": "code",
   "execution_count": 18,
   "metadata": {},
   "outputs": [],
   "source": [
    "# selecionando apenas colunas necessárias\n",
    "colunas=['ENTIDADE','PUBLICAÇÃO','Nº de páginas WORD','Nº de páginas estimado', 'COMPLEXIDADE','FORNECEDOR','Nº DA PLANILHA','STATUS DE PGTO','Nº de páginas finais']\n",
    "excelFile2 = excelFile2[colunas]"
   ]
  },
  {
   "cell_type": "code",
   "execution_count": 19,
   "metadata": {},
   "outputs": [
    {
     "data": {
      "text/plain": [
       "Index(['ENTIDADE', 'PUBLICAÇÃO', 'Nº de páginas WORD',\n",
       "       'Nº de páginas estimado', 'COMPLEXIDADE', 'FORNECEDOR',\n",
       "       'Nº DA PLANILHA', 'STATUS DE PGTO', 'Nº de páginas finais'],\n",
       "      dtype='object')"
      ]
     },
     "execution_count": 19,
     "metadata": {},
     "output_type": "execute_result"
    }
   ],
   "source": [
    "excelFile2.columns"
   ]
  },
  {
   "cell_type": "code",
   "execution_count": 20,
   "metadata": {},
   "outputs": [
    {
     "data": {
      "text/plain": [
       "ENTIDADE                   object\n",
       "PUBLICAÇÃO                 object\n",
       "Nº de páginas WORD         object\n",
       "Nº de páginas estimado    float64\n",
       "COMPLEXIDADE               object\n",
       "FORNECEDOR                 object\n",
       "Nº DA PLANILHA             object\n",
       "STATUS DE PGTO             object\n",
       "Nº de páginas finais       object\n",
       "dtype: object"
      ]
     },
     "execution_count": 20,
     "metadata": {},
     "output_type": "execute_result"
    }
   ],
   "source": [
    "excelFile2.dtypes"
   ]
  },
  {
   "cell_type": "code",
   "execution_count": 21,
   "metadata": {},
   "outputs": [
    {
     "data": {
      "text/plain": [
       "ENTIDADE                   object\n",
       "PUBLICAÇÃO                 object\n",
       "Nº de páginas WORD         object\n",
       "Nº de páginas estimado    float64\n",
       "COMPLEXIDADE               object\n",
       "FORNECEDOR                 object\n",
       "Nº DA PLANILHA             object\n",
       "STATUS DE PGTO             object\n",
       "Nº de páginas finais       object\n",
       "dtype: object"
      ]
     },
     "execution_count": 21,
     "metadata": {},
     "output_type": "execute_result"
    }
   ],
   "source": [
    "excelFile2.dtypes"
   ]
  },
  {
   "cell_type": "code",
   "execution_count": 22,
   "metadata": {},
   "outputs": [],
   "source": [
    "#excelFile2.set_index('Nº DA PLANILHA',inplace=True)"
   ]
  },
  {
   "cell_type": "code",
   "execution_count": 23,
   "metadata": {},
   "outputs": [
    {
     "data": {
      "text/html": [
       "<div>\n",
       "<style scoped>\n",
       "    .dataframe tbody tr th:only-of-type {\n",
       "        vertical-align: middle;\n",
       "    }\n",
       "\n",
       "    .dataframe tbody tr th {\n",
       "        vertical-align: top;\n",
       "    }\n",
       "\n",
       "    .dataframe thead th {\n",
       "        text-align: right;\n",
       "    }\n",
       "</style>\n",
       "<table border=\"1\" class=\"dataframe\">\n",
       "  <thead>\n",
       "    <tr style=\"text-align: right;\">\n",
       "      <th></th>\n",
       "      <th>ENTIDADE</th>\n",
       "      <th>PUBLICAÇÃO</th>\n",
       "      <th>Nº de páginas WORD</th>\n",
       "      <th>Nº de páginas estimado</th>\n",
       "      <th>COMPLEXIDADE</th>\n",
       "      <th>FORNECEDOR</th>\n",
       "      <th>Nº DA PLANILHA</th>\n",
       "      <th>STATUS DE PGTO</th>\n",
       "      <th>Nº de páginas finais</th>\n",
       "    </tr>\n",
       "  </thead>\n",
       "  <tbody>\n",
       "    <tr>\n",
       "      <th>0</th>\n",
       "      <td>CNI</td>\n",
       "      <td>Reuso CE</td>\n",
       "      <td>87</td>\n",
       "      <td>140.0</td>\n",
       "      <td>Alta</td>\n",
       "      <td>Editorar</td>\n",
       "      <td>224323</td>\n",
       "      <td>Pago</td>\n",
       "      <td>140</td>\n",
       "    </tr>\n",
       "    <tr>\n",
       "      <th>1</th>\n",
       "      <td>CNI</td>\n",
       "      <td>Reuso PE</td>\n",
       "      <td>82</td>\n",
       "      <td>122.0</td>\n",
       "      <td>Alta</td>\n",
       "      <td>Editorar</td>\n",
       "      <td>224325</td>\n",
       "      <td>Pago</td>\n",
       "      <td>122</td>\n",
       "    </tr>\n",
       "    <tr>\n",
       "      <th>2</th>\n",
       "      <td>CNI</td>\n",
       "      <td>Processo De Internalização Dos Atos Internacio...</td>\n",
       "      <td>41</td>\n",
       "      <td>70.0</td>\n",
       "      <td>Média</td>\n",
       "      <td>Editorar</td>\n",
       "      <td>225392</td>\n",
       "      <td>Pago</td>\n",
       "      <td>52</td>\n",
       "    </tr>\n",
       "    <tr>\n",
       "      <th>3</th>\n",
       "      <td>CNI</td>\n",
       "      <td>Manual de orientações da ouvidoria do Sesi e d...</td>\n",
       "      <td>30</td>\n",
       "      <td>45.0</td>\n",
       "      <td>Baixa</td>\n",
       "      <td>Editorar</td>\n",
       "      <td>225507</td>\n",
       "      <td>Pago</td>\n",
       "      <td>32</td>\n",
       "    </tr>\n",
       "    <tr>\n",
       "      <th>4</th>\n",
       "      <td>CNI</td>\n",
       "      <td>Guia de Propriedade Intelectual para o Jornalista</td>\n",
       "      <td>36</td>\n",
       "      <td>48.0</td>\n",
       "      <td>Baixa</td>\n",
       "      <td>Editorar</td>\n",
       "      <td>225531</td>\n",
       "      <td>Pago</td>\n",
       "      <td>48</td>\n",
       "    </tr>\n",
       "    <tr>\n",
       "      <th>...</th>\n",
       "      <td>...</td>\n",
       "      <td>...</td>\n",
       "      <td>...</td>\n",
       "      <td>...</td>\n",
       "      <td>...</td>\n",
       "      <td>...</td>\n",
       "      <td>...</td>\n",
       "      <td>...</td>\n",
       "      <td>...</td>\n",
       "    </tr>\n",
       "    <tr>\n",
       "      <th>118</th>\n",
       "      <td>NaN</td>\n",
       "      <td>NaN</td>\n",
       "      <td>NaN</td>\n",
       "      <td>NaN</td>\n",
       "      <td>NaN</td>\n",
       "      <td>NaN</td>\n",
       "      <td>NaN</td>\n",
       "      <td>NaN</td>\n",
       "      <td>NaN</td>\n",
       "    </tr>\n",
       "    <tr>\n",
       "      <th>119</th>\n",
       "      <td>NaN</td>\n",
       "      <td>NaN</td>\n",
       "      <td>NaN</td>\n",
       "      <td>NaN</td>\n",
       "      <td>NaN</td>\n",
       "      <td>NaN</td>\n",
       "      <td>NaN</td>\n",
       "      <td>NaN</td>\n",
       "      <td>NaN</td>\n",
       "    </tr>\n",
       "    <tr>\n",
       "      <th>120</th>\n",
       "      <td>NaN</td>\n",
       "      <td>NaN</td>\n",
       "      <td>GERAL</td>\n",
       "      <td>NaN</td>\n",
       "      <td>NaN</td>\n",
       "      <td>GERAL</td>\n",
       "      <td>NaN</td>\n",
       "      <td>NaN</td>\n",
       "      <td>NaN</td>\n",
       "    </tr>\n",
       "    <tr>\n",
       "      <th>121</th>\n",
       "      <td>NaN</td>\n",
       "      <td>NaN</td>\n",
       "      <td>EDITORAR</td>\n",
       "      <td>NaN</td>\n",
       "      <td>NaN</td>\n",
       "      <td>EDITORAR</td>\n",
       "      <td>NaN</td>\n",
       "      <td>NaN</td>\n",
       "      <td>NaN</td>\n",
       "    </tr>\n",
       "    <tr>\n",
       "      <th>122</th>\n",
       "      <td>NaN</td>\n",
       "      <td>NaN</td>\n",
       "      <td>ICOMUNICAÇÃO</td>\n",
       "      <td>NaN</td>\n",
       "      <td>NaN</td>\n",
       "      <td>ICOMUNICAÇÃO</td>\n",
       "      <td>NaN</td>\n",
       "      <td>NaN</td>\n",
       "      <td>NaN</td>\n",
       "    </tr>\n",
       "  </tbody>\n",
       "</table>\n",
       "<p>123 rows × 9 columns</p>\n",
       "</div>"
      ],
      "text/plain": [
       "    ENTIDADE                                         PUBLICAÇÃO  \\\n",
       "0        CNI                                           Reuso CE   \n",
       "1        CNI                                           Reuso PE   \n",
       "2        CNI  Processo De Internalização Dos Atos Internacio...   \n",
       "3        CNI  Manual de orientações da ouvidoria do Sesi e d...   \n",
       "4        CNI  Guia de Propriedade Intelectual para o Jornalista   \n",
       "..       ...                                                ...   \n",
       "118      NaN                                                NaN   \n",
       "119      NaN                                                NaN   \n",
       "120      NaN                                                NaN   \n",
       "121      NaN                                                NaN   \n",
       "122      NaN                                                NaN   \n",
       "\n",
       "    Nº de páginas WORD  Nº de páginas estimado COMPLEXIDADE    FORNECEDOR  \\\n",
       "0                   87                   140.0         Alta      Editorar   \n",
       "1                   82                   122.0         Alta      Editorar   \n",
       "2                   41                    70.0        Média      Editorar   \n",
       "3                   30                    45.0        Baixa      Editorar   \n",
       "4                   36                    48.0        Baixa      Editorar   \n",
       "..                 ...                     ...          ...           ...   \n",
       "118                NaN                     NaN          NaN           NaN   \n",
       "119                NaN                     NaN          NaN           NaN   \n",
       "120              GERAL                     NaN          NaN         GERAL   \n",
       "121           EDITORAR                     NaN          NaN      EDITORAR   \n",
       "122       ICOMUNICAÇÃO                     NaN          NaN  ICOMUNICAÇÃO   \n",
       "\n",
       "    Nº DA PLANILHA STATUS DE PGTO Nº de páginas finais  \n",
       "0           224323           Pago                  140  \n",
       "1           224325           Pago                  122  \n",
       "2           225392           Pago                   52  \n",
       "3           225507           Pago                   32  \n",
       "4           225531           Pago                   48  \n",
       "..             ...            ...                  ...  \n",
       "118            NaN            NaN                  NaN  \n",
       "119            NaN            NaN                  NaN  \n",
       "120            NaN            NaN                  NaN  \n",
       "121            NaN            NaN                  NaN  \n",
       "122            NaN            NaN                  NaN  \n",
       "\n",
       "[123 rows x 9 columns]"
      ]
     },
     "execution_count": 23,
     "metadata": {},
     "output_type": "execute_result"
    }
   ],
   "source": [
    "excelFile2"
   ]
  },
  {
   "cell_type": "code",
   "execution_count": 24,
   "metadata": {
    "scrolled": true
   },
   "outputs": [
    {
     "data": {
      "text/plain": [
       "ENTIDADE                  12\n",
       "PUBLICAÇÃO                12\n",
       "Nº de páginas WORD         6\n",
       "Nº de páginas estimado    12\n",
       "COMPLEXIDADE              12\n",
       "FORNECEDOR                 6\n",
       "Nº DA PLANILHA            12\n",
       "STATUS DE PGTO            12\n",
       "Nº de páginas finais      11\n",
       "dtype: int64"
      ]
     },
     "execution_count": 24,
     "metadata": {},
     "output_type": "execute_result"
    }
   ],
   "source": [
    "# verifiacando valores nulos\n",
    "excelFile2.isnull().sum()"
   ]
  },
  {
   "cell_type": "code",
   "execution_count": 25,
   "metadata": {},
   "outputs": [],
   "source": [
    "# retirar registro nulos\n",
    "excelFile2=excelFile2.dropna()"
   ]
  },
  {
   "cell_type": "code",
   "execution_count": 26,
   "metadata": {},
   "outputs": [
    {
     "data": {
      "text/plain": [
       "ENTIDADE                  0\n",
       "PUBLICAÇÃO                0\n",
       "Nº de páginas WORD        0\n",
       "Nº de páginas estimado    0\n",
       "COMPLEXIDADE              0\n",
       "FORNECEDOR                0\n",
       "Nº DA PLANILHA            0\n",
       "STATUS DE PGTO            0\n",
       "Nº de páginas finais      0\n",
       "dtype: int64"
      ]
     },
     "execution_count": 26,
     "metadata": {},
     "output_type": "execute_result"
    }
   ],
   "source": [
    "# verifiacando valores nulos\n",
    "excelFile2.isnull().sum()"
   ]
  },
  {
   "cell_type": "code",
   "execution_count": 27,
   "metadata": {},
   "outputs": [
    {
     "data": {
      "text/plain": [
       "ENTIDADE                   object\n",
       "PUBLICAÇÃO                 object\n",
       "Nº de páginas WORD         object\n",
       "Nº de páginas estimado    float64\n",
       "COMPLEXIDADE               object\n",
       "FORNECEDOR                 object\n",
       "Nº DA PLANILHA             object\n",
       "STATUS DE PGTO             object\n",
       "Nº de páginas finais       object\n",
       "dtype: object"
      ]
     },
     "execution_count": 27,
     "metadata": {},
     "output_type": "execute_result"
    }
   ],
   "source": [
    "excelFile2.dtypes"
   ]
  },
  {
   "cell_type": "code",
   "execution_count": 28,
   "metadata": {},
   "outputs": [
    {
     "name": "stderr",
     "output_type": "stream",
     "text": [
      "<ipython-input-28-8fdfc85dce57>:2: SettingWithCopyWarning: \n",
      "A value is trying to be set on a copy of a slice from a DataFrame.\n",
      "Try using .loc[row_indexer,col_indexer] = value instead\n",
      "\n",
      "See the caveats in the documentation: https://pandas.pydata.org/pandas-docs/stable/user_guide/indexing.html#returning-a-view-versus-a-copy\n",
      "  excelFile2[\"Nº DA PLANILHA\"] = (pd.to_numeric(excelFile2[\"Nº DA PLANILHA\"], errors='coerce').fillna(0).astype(np.int64))#,downcast='integer'))\n"
     ]
    }
   ],
   "source": [
    "import numpy as np\n",
    "excelFile2[\"Nº DA PLANILHA\"] = (pd.to_numeric(excelFile2[\"Nº DA PLANILHA\"], errors='coerce').fillna(0).astype(np.int64))#,downcast='integer'))\n",
    "#excelFile2[\"Nº DA PLANILHA\"] = excelFile2[\"Nº DA PLANILHA\"].astype('int64',errors='ignore')\n"
   ]
  },
  {
   "cell_type": "code",
   "execution_count": 29,
   "metadata": {},
   "outputs": [
    {
     "data": {
      "text/plain": [
       "ENTIDADE                   object\n",
       "PUBLICAÇÃO                 object\n",
       "Nº de páginas WORD         object\n",
       "Nº de páginas estimado    float64\n",
       "COMPLEXIDADE               object\n",
       "FORNECEDOR                 object\n",
       "Nº DA PLANILHA              int64\n",
       "STATUS DE PGTO             object\n",
       "Nº de páginas finais       object\n",
       "dtype: object"
      ]
     },
     "execution_count": 29,
     "metadata": {},
     "output_type": "execute_result"
    }
   ],
   "source": [
    "excelFile2.dtypes"
   ]
  },
  {
   "cell_type": "code",
   "execution_count": 30,
   "metadata": {},
   "outputs": [
    {
     "data": {
      "text/plain": [
       "Nº DA PLANILHA           float64\n",
       "Qtd_carac                  int64\n",
       "Qtd_tabela                 int64\n",
       "Qtd_image                  int64\n",
       "Qtd_estilos                int64\n",
       "Data              datetime64[ns]\n",
       "dtype: object"
      ]
     },
     "execution_count": 30,
     "metadata": {},
     "output_type": "execute_result"
    }
   ],
   "source": [
    "df.dtypes"
   ]
  },
  {
   "cell_type": "code",
   "execution_count": null,
   "metadata": {},
   "outputs": [],
   "source": []
  },
  {
   "cell_type": "code",
   "execution_count": 31,
   "metadata": {
    "scrolled": false
   },
   "outputs": [
    {
     "data": {
      "text/html": [
       "<div>\n",
       "<style scoped>\n",
       "    .dataframe tbody tr th:only-of-type {\n",
       "        vertical-align: middle;\n",
       "    }\n",
       "\n",
       "    .dataframe tbody tr th {\n",
       "        vertical-align: top;\n",
       "    }\n",
       "\n",
       "    .dataframe thead th {\n",
       "        text-align: right;\n",
       "    }\n",
       "</style>\n",
       "<table border=\"1\" class=\"dataframe\">\n",
       "  <thead>\n",
       "    <tr style=\"text-align: right;\">\n",
       "      <th></th>\n",
       "      <th>ENTIDADE</th>\n",
       "      <th>PUBLICAÇÃO</th>\n",
       "      <th>Nº de páginas WORD</th>\n",
       "      <th>Nº de páginas estimado</th>\n",
       "      <th>COMPLEXIDADE</th>\n",
       "      <th>FORNECEDOR</th>\n",
       "      <th>Nº DA PLANILHA</th>\n",
       "      <th>STATUS DE PGTO</th>\n",
       "      <th>Nº de páginas finais</th>\n",
       "    </tr>\n",
       "  </thead>\n",
       "  <tbody>\n",
       "    <tr>\n",
       "      <th>0</th>\n",
       "      <td>CNI</td>\n",
       "      <td>Reuso CE</td>\n",
       "      <td>87</td>\n",
       "      <td>140.0</td>\n",
       "      <td>Alta</td>\n",
       "      <td>Editorar</td>\n",
       "      <td>224323</td>\n",
       "      <td>Pago</td>\n",
       "      <td>140</td>\n",
       "    </tr>\n",
       "    <tr>\n",
       "      <th>1</th>\n",
       "      <td>CNI</td>\n",
       "      <td>Reuso PE</td>\n",
       "      <td>82</td>\n",
       "      <td>122.0</td>\n",
       "      <td>Alta</td>\n",
       "      <td>Editorar</td>\n",
       "      <td>224325</td>\n",
       "      <td>Pago</td>\n",
       "      <td>122</td>\n",
       "    </tr>\n",
       "    <tr>\n",
       "      <th>2</th>\n",
       "      <td>CNI</td>\n",
       "      <td>Processo De Internalização Dos Atos Internacio...</td>\n",
       "      <td>41</td>\n",
       "      <td>70.0</td>\n",
       "      <td>Média</td>\n",
       "      <td>Editorar</td>\n",
       "      <td>225392</td>\n",
       "      <td>Pago</td>\n",
       "      <td>52</td>\n",
       "    </tr>\n",
       "    <tr>\n",
       "      <th>3</th>\n",
       "      <td>CNI</td>\n",
       "      <td>Manual de orientações da ouvidoria do Sesi e d...</td>\n",
       "      <td>30</td>\n",
       "      <td>45.0</td>\n",
       "      <td>Baixa</td>\n",
       "      <td>Editorar</td>\n",
       "      <td>225507</td>\n",
       "      <td>Pago</td>\n",
       "      <td>32</td>\n",
       "    </tr>\n",
       "    <tr>\n",
       "      <th>4</th>\n",
       "      <td>CNI</td>\n",
       "      <td>Guia de Propriedade Intelectual para o Jornalista</td>\n",
       "      <td>36</td>\n",
       "      <td>48.0</td>\n",
       "      <td>Baixa</td>\n",
       "      <td>Editorar</td>\n",
       "      <td>225531</td>\n",
       "      <td>Pago</td>\n",
       "      <td>48</td>\n",
       "    </tr>\n",
       "    <tr>\n",
       "      <th>...</th>\n",
       "      <td>...</td>\n",
       "      <td>...</td>\n",
       "      <td>...</td>\n",
       "      <td>...</td>\n",
       "      <td>...</td>\n",
       "      <td>...</td>\n",
       "      <td>...</td>\n",
       "      <td>...</td>\n",
       "      <td>...</td>\n",
       "    </tr>\n",
       "    <tr>\n",
       "      <th>112</th>\n",
       "      <td>CNI</td>\n",
       "      <td>Acordo para evitar a dupla tributação entre Br...</td>\n",
       "      <td>24</td>\n",
       "      <td>48.0</td>\n",
       "      <td>Baixa</td>\n",
       "      <td>Editorar</td>\n",
       "      <td>235502</td>\n",
       "      <td>Pago</td>\n",
       "      <td>36</td>\n",
       "    </tr>\n",
       "    <tr>\n",
       "      <th>113</th>\n",
       "      <td>CNI</td>\n",
       "      <td>Compatibilidade da cláusula de arbitragem com ...</td>\n",
       "      <td>20</td>\n",
       "      <td>48.0</td>\n",
       "      <td>Baixa</td>\n",
       "      <td>Editorar</td>\n",
       "      <td>235509</td>\n",
       "      <td>Pago</td>\n",
       "      <td>36</td>\n",
       "    </tr>\n",
       "    <tr>\n",
       "      <th>114</th>\n",
       "      <td>CNI</td>\n",
       "      <td>Modelos Aduaneiros Globais</td>\n",
       "      <td>59</td>\n",
       "      <td>90.0</td>\n",
       "      <td>Alta</td>\n",
       "      <td>Editorar</td>\n",
       "      <td>235519</td>\n",
       "      <td>Pago</td>\n",
       "      <td>78</td>\n",
       "    </tr>\n",
       "    <tr>\n",
       "      <th>115</th>\n",
       "      <td>CNI</td>\n",
       "      <td>A agenda ambiental e de químicos da OCDE e o B...</td>\n",
       "      <td>48</td>\n",
       "      <td>75.0</td>\n",
       "      <td>Alta</td>\n",
       "      <td>Editorar</td>\n",
       "      <td>235512</td>\n",
       "      <td>Pago</td>\n",
       "      <td>66</td>\n",
       "    </tr>\n",
       "    <tr>\n",
       "      <th>116</th>\n",
       "      <td>SESI</td>\n",
       "      <td>Relatório de Atividades 2019 - SESI / SENAI / ...</td>\n",
       "      <td>100</td>\n",
       "      <td>120.0</td>\n",
       "      <td>Alta</td>\n",
       "      <td>Icomunicação</td>\n",
       "      <td>233900</td>\n",
       "      <td>Pago</td>\n",
       "      <td>82</td>\n",
       "    </tr>\n",
       "  </tbody>\n",
       "</table>\n",
       "<p>110 rows × 9 columns</p>\n",
       "</div>"
      ],
      "text/plain": [
       "    ENTIDADE                                         PUBLICAÇÃO  \\\n",
       "0        CNI                                           Reuso CE   \n",
       "1        CNI                                           Reuso PE   \n",
       "2        CNI  Processo De Internalização Dos Atos Internacio...   \n",
       "3        CNI  Manual de orientações da ouvidoria do Sesi e d...   \n",
       "4        CNI  Guia de Propriedade Intelectual para o Jornalista   \n",
       "..       ...                                                ...   \n",
       "112      CNI  Acordo para evitar a dupla tributação entre Br...   \n",
       "113      CNI  Compatibilidade da cláusula de arbitragem com ...   \n",
       "114      CNI                         Modelos Aduaneiros Globais   \n",
       "115      CNI  A agenda ambiental e de químicos da OCDE e o B...   \n",
       "116     SESI  Relatório de Atividades 2019 - SESI / SENAI / ...   \n",
       "\n",
       "    Nº de páginas WORD  Nº de páginas estimado COMPLEXIDADE    FORNECEDOR  \\\n",
       "0                   87                   140.0         Alta      Editorar   \n",
       "1                   82                   122.0         Alta      Editorar   \n",
       "2                   41                    70.0        Média      Editorar   \n",
       "3                   30                    45.0        Baixa      Editorar   \n",
       "4                   36                    48.0        Baixa      Editorar   \n",
       "..                 ...                     ...          ...           ...   \n",
       "112                 24                    48.0        Baixa      Editorar   \n",
       "113                 20                    48.0        Baixa      Editorar   \n",
       "114                 59                    90.0         Alta      Editorar   \n",
       "115                 48                    75.0         Alta      Editorar   \n",
       "116                100                   120.0         Alta  Icomunicação   \n",
       "\n",
       "     Nº DA PLANILHA STATUS DE PGTO Nº de páginas finais  \n",
       "0            224323           Pago                  140  \n",
       "1            224325           Pago                  122  \n",
       "2            225392           Pago                   52  \n",
       "3            225507           Pago                   32  \n",
       "4            225531           Pago                   48  \n",
       "..              ...            ...                  ...  \n",
       "112          235502           Pago                   36  \n",
       "113          235509           Pago                   36  \n",
       "114          235519           Pago                   78  \n",
       "115          235512           Pago                   66  \n",
       "116          233900           Pago                   82  \n",
       "\n",
       "[110 rows x 9 columns]"
      ]
     },
     "execution_count": 31,
     "metadata": {},
     "output_type": "execute_result"
    }
   ],
   "source": [
    "excelFile2"
   ]
  },
  {
   "cell_type": "code",
   "execution_count": null,
   "metadata": {},
   "outputs": [],
   "source": []
  },
  {
   "cell_type": "code",
   "execution_count": 32,
   "metadata": {},
   "outputs": [
    {
     "data": {
      "text/html": [
       "<div>\n",
       "<style scoped>\n",
       "    .dataframe tbody tr th:only-of-type {\n",
       "        vertical-align: middle;\n",
       "    }\n",
       "\n",
       "    .dataframe tbody tr th {\n",
       "        vertical-align: top;\n",
       "    }\n",
       "\n",
       "    .dataframe thead th {\n",
       "        text-align: right;\n",
       "    }\n",
       "</style>\n",
       "<table border=\"1\" class=\"dataframe\">\n",
       "  <thead>\n",
       "    <tr style=\"text-align: right;\">\n",
       "      <th></th>\n",
       "      <th>Nº DA PLANILHA</th>\n",
       "      <th>Qtd_carac</th>\n",
       "      <th>Qtd_tabela</th>\n",
       "      <th>Qtd_image</th>\n",
       "      <th>Qtd_estilos</th>\n",
       "      <th>Data</th>\n",
       "    </tr>\n",
       "  </thead>\n",
       "  <tbody>\n",
       "    <tr>\n",
       "      <th>0</th>\n",
       "      <td>228354.0</td>\n",
       "      <td>129122</td>\n",
       "      <td>14</td>\n",
       "      <td>10</td>\n",
       "      <td>26</td>\n",
       "      <td>2019-02-27</td>\n",
       "    </tr>\n",
       "    <tr>\n",
       "      <th>1</th>\n",
       "      <td>235502.0</td>\n",
       "      <td>31123</td>\n",
       "      <td>21</td>\n",
       "      <td>17</td>\n",
       "      <td>23</td>\n",
       "      <td>2020-05-27</td>\n",
       "    </tr>\n",
       "    <tr>\n",
       "      <th>2</th>\n",
       "      <td>232098.0</td>\n",
       "      <td>413596</td>\n",
       "      <td>26</td>\n",
       "      <td>20</td>\n",
       "      <td>19</td>\n",
       "      <td>2019-09-16</td>\n",
       "    </tr>\n",
       "    <tr>\n",
       "      <th>3</th>\n",
       "      <td>225392.0</td>\n",
       "      <td>41144</td>\n",
       "      <td>28</td>\n",
       "      <td>24</td>\n",
       "      <td>23</td>\n",
       "      <td>2018-11-07</td>\n",
       "    </tr>\n",
       "    <tr>\n",
       "      <th>4</th>\n",
       "      <td>228307.0</td>\n",
       "      <td>43155</td>\n",
       "      <td>40</td>\n",
       "      <td>73</td>\n",
       "      <td>25</td>\n",
       "      <td>2019-02-26</td>\n",
       "    </tr>\n",
       "    <tr>\n",
       "      <th>...</th>\n",
       "      <td>...</td>\n",
       "      <td>...</td>\n",
       "      <td>...</td>\n",
       "      <td>...</td>\n",
       "      <td>...</td>\n",
       "      <td>...</td>\n",
       "    </tr>\n",
       "    <tr>\n",
       "      <th>88</th>\n",
       "      <td>233889.0</td>\n",
       "      <td>14968</td>\n",
       "      <td>366</td>\n",
       "      <td>323</td>\n",
       "      <td>12</td>\n",
       "      <td>2020-02-05</td>\n",
       "    </tr>\n",
       "    <tr>\n",
       "      <th>89</th>\n",
       "      <td>235320.0</td>\n",
       "      <td>103663</td>\n",
       "      <td>368</td>\n",
       "      <td>330</td>\n",
       "      <td>20</td>\n",
       "      <td>2020-05-21</td>\n",
       "    </tr>\n",
       "    <tr>\n",
       "      <th>90</th>\n",
       "      <td>233887.0</td>\n",
       "      <td>47904</td>\n",
       "      <td>373</td>\n",
       "      <td>335</td>\n",
       "      <td>14</td>\n",
       "      <td>2020-02-05</td>\n",
       "    </tr>\n",
       "    <tr>\n",
       "      <th>91</th>\n",
       "      <td>235495.0</td>\n",
       "      <td>31612</td>\n",
       "      <td>383</td>\n",
       "      <td>348</td>\n",
       "      <td>25</td>\n",
       "      <td>2020-05-25</td>\n",
       "    </tr>\n",
       "    <tr>\n",
       "      <th>92</th>\n",
       "      <td>233906.0</td>\n",
       "      <td>118624</td>\n",
       "      <td>386</td>\n",
       "      <td>417</td>\n",
       "      <td>19</td>\n",
       "      <td>2020-03-09</td>\n",
       "    </tr>\n",
       "  </tbody>\n",
       "</table>\n",
       "<p>93 rows × 6 columns</p>\n",
       "</div>"
      ],
      "text/plain": [
       "    Nº DA PLANILHA  Qtd_carac  Qtd_tabela  Qtd_image  Qtd_estilos       Data\n",
       "0         228354.0     129122          14         10           26 2019-02-27\n",
       "1         235502.0      31123          21         17           23 2020-05-27\n",
       "2         232098.0     413596          26         20           19 2019-09-16\n",
       "3         225392.0      41144          28         24           23 2018-11-07\n",
       "4         228307.0      43155          40         73           25 2019-02-26\n",
       "..             ...        ...         ...        ...          ...        ...\n",
       "88        233889.0      14968         366        323           12 2020-02-05\n",
       "89        235320.0     103663         368        330           20 2020-05-21\n",
       "90        233887.0      47904         373        335           14 2020-02-05\n",
       "91        235495.0      31612         383        348           25 2020-05-25\n",
       "92        233906.0     118624         386        417           19 2020-03-09\n",
       "\n",
       "[93 rows x 6 columns]"
      ]
     },
     "execution_count": 32,
     "metadata": {},
     "output_type": "execute_result"
    }
   ],
   "source": [
    "df"
   ]
  },
  {
   "cell_type": "code",
   "execution_count": 33,
   "metadata": {},
   "outputs": [],
   "source": [
    "# unir arquivo do NGE com o método de leitura dos arquivos Word\n",
    "#\n",
    "# Atenção >>>>>>>> alguns arquivos não passaram pelo método de leitura dos arquivos word e irão gerar valores NAN\n",
    "#\n",
    "df_final = pd.merge(excelFile2, df, on=['Nº DA PLANILHA'], how='left')"
   ]
  },
  {
   "cell_type": "code",
   "execution_count": 34,
   "metadata": {},
   "outputs": [],
   "source": [
    "# colocando ordem das colunas adequada\n",
    "excelFile2.columns\n",
    "#colunas_final = ['Nº DA PLANILHA','ENTIDADE',  'FORNECEDOR','COMPLEXIDADE', 'STATUS DE PGTO',  'Nº de páginas WORD','Nº de páginas estimado', 'Qtd_carac','Qtd_tabela', 'Qtd_image','Nº de páginas finais' ]\n",
    "colunas_final = ['Nº DA PLANILHA','ENTIDADE',  'FORNECEDOR','COMPLEXIDADE', 'STATUS DE PGTO',  'Nº de páginas WORD','Nº de páginas estimado', 'Qtd_carac','Qtd_tabela', 'Qtd_image',\"Qtd_estilos\",'Nº de páginas finais' ]\n",
    "df_final = df_final[colunas_final]\n"
   ]
  },
  {
   "cell_type": "code",
   "execution_count": 35,
   "metadata": {},
   "outputs": [
    {
     "data": {
      "text/plain": [
       "Nº DA PLANILHA             0\n",
       "ENTIDADE                   0\n",
       "FORNECEDOR                 0\n",
       "COMPLEXIDADE               0\n",
       "STATUS DE PGTO             0\n",
       "Nº de páginas WORD         0\n",
       "Nº de páginas estimado     0\n",
       "Qtd_carac                 20\n",
       "Qtd_tabela                20\n",
       "Qtd_image                 20\n",
       "Qtd_estilos               20\n",
       "Nº de páginas finais       0\n",
       "dtype: int64"
      ]
     },
     "execution_count": 35,
     "metadata": {},
     "output_type": "execute_result"
    }
   ],
   "source": [
    "# -----> verificar valores NAN \n",
    "df_final.isnull().sum()\n",
    "# OS REGISTROS COM NAN NESSE CASO FORAM OS ARQUIVOS WORD QUE NÃO FOI ENCONTRADO."
   ]
  },
  {
   "cell_type": "code",
   "execution_count": 36,
   "metadata": {},
   "outputs": [],
   "source": [
    "# retirar registro nulos\n",
    "df_final=df_final.dropna()\n",
    "# APAGOU AS LINHAS COM NAN"
   ]
  },
  {
   "cell_type": "code",
   "execution_count": 37,
   "metadata": {},
   "outputs": [
    {
     "data": {
      "text/plain": [
       "Nº DA PLANILHA            0\n",
       "ENTIDADE                  0\n",
       "FORNECEDOR                0\n",
       "COMPLEXIDADE              0\n",
       "STATUS DE PGTO            0\n",
       "Nº de páginas WORD        0\n",
       "Nº de páginas estimado    0\n",
       "Qtd_carac                 0\n",
       "Qtd_tabela                0\n",
       "Qtd_image                 0\n",
       "Qtd_estilos               0\n",
       "Nº de páginas finais      0\n",
       "dtype: int64"
      ]
     },
     "execution_count": 37,
     "metadata": {},
     "output_type": "execute_result"
    }
   ],
   "source": [
    "# -----> verificar valores NAN \n",
    "df_final.isnull().sum()"
   ]
  },
  {
   "cell_type": "code",
   "execution_count": 38,
   "metadata": {
    "scrolled": false
   },
   "outputs": [
    {
     "data": {
      "text/html": [
       "<div>\n",
       "<style scoped>\n",
       "    .dataframe tbody tr th:only-of-type {\n",
       "        vertical-align: middle;\n",
       "    }\n",
       "\n",
       "    .dataframe tbody tr th {\n",
       "        vertical-align: top;\n",
       "    }\n",
       "\n",
       "    .dataframe thead th {\n",
       "        text-align: right;\n",
       "    }\n",
       "</style>\n",
       "<table border=\"1\" class=\"dataframe\">\n",
       "  <thead>\n",
       "    <tr style=\"text-align: right;\">\n",
       "      <th></th>\n",
       "      <th>Nº DA PLANILHA</th>\n",
       "      <th>ENTIDADE</th>\n",
       "      <th>FORNECEDOR</th>\n",
       "      <th>COMPLEXIDADE</th>\n",
       "      <th>STATUS DE PGTO</th>\n",
       "      <th>Nº de páginas WORD</th>\n",
       "      <th>Nº de páginas estimado</th>\n",
       "      <th>Qtd_carac</th>\n",
       "      <th>Qtd_tabela</th>\n",
       "      <th>Qtd_image</th>\n",
       "      <th>Qtd_estilos</th>\n",
       "      <th>Nº de páginas finais</th>\n",
       "    </tr>\n",
       "  </thead>\n",
       "  <tbody>\n",
       "    <tr>\n",
       "      <th>0</th>\n",
       "      <td>224323</td>\n",
       "      <td>CNI</td>\n",
       "      <td>Editorar</td>\n",
       "      <td>Alta</td>\n",
       "      <td>Pago</td>\n",
       "      <td>87</td>\n",
       "      <td>140.0</td>\n",
       "      <td>116142.0</td>\n",
       "      <td>470.0</td>\n",
       "      <td>685.0</td>\n",
       "      <td>60.0</td>\n",
       "      <td>140</td>\n",
       "    </tr>\n",
       "    <tr>\n",
       "      <th>1</th>\n",
       "      <td>224325</td>\n",
       "      <td>CNI</td>\n",
       "      <td>Editorar</td>\n",
       "      <td>Alta</td>\n",
       "      <td>Pago</td>\n",
       "      <td>82</td>\n",
       "      <td>122.0</td>\n",
       "      <td>108307.0</td>\n",
       "      <td>76.0</td>\n",
       "      <td>94.0</td>\n",
       "      <td>69.0</td>\n",
       "      <td>122</td>\n",
       "    </tr>\n",
       "    <tr>\n",
       "      <th>2</th>\n",
       "      <td>225392</td>\n",
       "      <td>CNI</td>\n",
       "      <td>Editorar</td>\n",
       "      <td>Média</td>\n",
       "      <td>Pago</td>\n",
       "      <td>41</td>\n",
       "      <td>70.0</td>\n",
       "      <td>41144.0</td>\n",
       "      <td>28.0</td>\n",
       "      <td>24.0</td>\n",
       "      <td>23.0</td>\n",
       "      <td>52</td>\n",
       "    </tr>\n",
       "    <tr>\n",
       "      <th>3</th>\n",
       "      <td>225392</td>\n",
       "      <td>CNI</td>\n",
       "      <td>Editorar</td>\n",
       "      <td>Média</td>\n",
       "      <td>Pago</td>\n",
       "      <td>41</td>\n",
       "      <td>70.0</td>\n",
       "      <td>62913.0</td>\n",
       "      <td>397.0</td>\n",
       "      <td>639.0</td>\n",
       "      <td>21.0</td>\n",
       "      <td>52</td>\n",
       "    </tr>\n",
       "    <tr>\n",
       "      <th>5</th>\n",
       "      <td>225531</td>\n",
       "      <td>CNI</td>\n",
       "      <td>Editorar</td>\n",
       "      <td>Baixa</td>\n",
       "      <td>Pago</td>\n",
       "      <td>36</td>\n",
       "      <td>48.0</td>\n",
       "      <td>37548.0</td>\n",
       "      <td>233.0</td>\n",
       "      <td>397.0</td>\n",
       "      <td>17.0</td>\n",
       "      <td>48</td>\n",
       "    </tr>\n",
       "    <tr>\n",
       "      <th>...</th>\n",
       "      <td>...</td>\n",
       "      <td>...</td>\n",
       "      <td>...</td>\n",
       "      <td>...</td>\n",
       "      <td>...</td>\n",
       "      <td>...</td>\n",
       "      <td>...</td>\n",
       "      <td>...</td>\n",
       "      <td>...</td>\n",
       "      <td>...</td>\n",
       "      <td>...</td>\n",
       "      <td>...</td>\n",
       "    </tr>\n",
       "    <tr>\n",
       "      <th>107</th>\n",
       "      <td>235502</td>\n",
       "      <td>CNI</td>\n",
       "      <td>Editorar</td>\n",
       "      <td>Baixa</td>\n",
       "      <td>Pago</td>\n",
       "      <td>24</td>\n",
       "      <td>48.0</td>\n",
       "      <td>31123.0</td>\n",
       "      <td>21.0</td>\n",
       "      <td>17.0</td>\n",
       "      <td>23.0</td>\n",
       "      <td>36</td>\n",
       "    </tr>\n",
       "    <tr>\n",
       "      <th>108</th>\n",
       "      <td>235502</td>\n",
       "      <td>CNI</td>\n",
       "      <td>Editorar</td>\n",
       "      <td>Baixa</td>\n",
       "      <td>Pago</td>\n",
       "      <td>24</td>\n",
       "      <td>48.0</td>\n",
       "      <td>31123.0</td>\n",
       "      <td>7.0</td>\n",
       "      <td>8.0</td>\n",
       "      <td>23.0</td>\n",
       "      <td>36</td>\n",
       "    </tr>\n",
       "    <tr>\n",
       "      <th>110</th>\n",
       "      <td>235519</td>\n",
       "      <td>CNI</td>\n",
       "      <td>Editorar</td>\n",
       "      <td>Alta</td>\n",
       "      <td>Pago</td>\n",
       "      <td>59</td>\n",
       "      <td>90.0</td>\n",
       "      <td>122719.0</td>\n",
       "      <td>363.0</td>\n",
       "      <td>323.0</td>\n",
       "      <td>23.0</td>\n",
       "      <td>78</td>\n",
       "    </tr>\n",
       "    <tr>\n",
       "      <th>111</th>\n",
       "      <td>235512</td>\n",
       "      <td>CNI</td>\n",
       "      <td>Editorar</td>\n",
       "      <td>Alta</td>\n",
       "      <td>Pago</td>\n",
       "      <td>48</td>\n",
       "      <td>75.0</td>\n",
       "      <td>81475.0</td>\n",
       "      <td>115.0</td>\n",
       "      <td>205.0</td>\n",
       "      <td>23.0</td>\n",
       "      <td>66</td>\n",
       "    </tr>\n",
       "    <tr>\n",
       "      <th>112</th>\n",
       "      <td>233900</td>\n",
       "      <td>SESI</td>\n",
       "      <td>Icomunicação</td>\n",
       "      <td>Alta</td>\n",
       "      <td>Pago</td>\n",
       "      <td>100</td>\n",
       "      <td>120.0</td>\n",
       "      <td>74242.0</td>\n",
       "      <td>132.0</td>\n",
       "      <td>224.0</td>\n",
       "      <td>16.0</td>\n",
       "      <td>82</td>\n",
       "    </tr>\n",
       "  </tbody>\n",
       "</table>\n",
       "<p>93 rows × 12 columns</p>\n",
       "</div>"
      ],
      "text/plain": [
       "     Nº DA PLANILHA ENTIDADE    FORNECEDOR COMPLEXIDADE STATUS DE PGTO  \\\n",
       "0            224323      CNI      Editorar         Alta           Pago   \n",
       "1            224325      CNI      Editorar         Alta           Pago   \n",
       "2            225392      CNI      Editorar        Média           Pago   \n",
       "3            225392      CNI      Editorar        Média           Pago   \n",
       "5            225531      CNI      Editorar        Baixa           Pago   \n",
       "..              ...      ...           ...          ...            ...   \n",
       "107          235502      CNI      Editorar        Baixa           Pago   \n",
       "108          235502      CNI      Editorar        Baixa           Pago   \n",
       "110          235519      CNI      Editorar         Alta           Pago   \n",
       "111          235512      CNI      Editorar         Alta           Pago   \n",
       "112          233900     SESI  Icomunicação         Alta           Pago   \n",
       "\n",
       "    Nº de páginas WORD  Nº de páginas estimado  Qtd_carac  Qtd_tabela  \\\n",
       "0                   87                   140.0   116142.0       470.0   \n",
       "1                   82                   122.0   108307.0        76.0   \n",
       "2                   41                    70.0    41144.0        28.0   \n",
       "3                   41                    70.0    62913.0       397.0   \n",
       "5                   36                    48.0    37548.0       233.0   \n",
       "..                 ...                     ...        ...         ...   \n",
       "107                 24                    48.0    31123.0        21.0   \n",
       "108                 24                    48.0    31123.0         7.0   \n",
       "110                 59                    90.0   122719.0       363.0   \n",
       "111                 48                    75.0    81475.0       115.0   \n",
       "112                100                   120.0    74242.0       132.0   \n",
       "\n",
       "     Qtd_image  Qtd_estilos Nº de páginas finais  \n",
       "0        685.0         60.0                  140  \n",
       "1         94.0         69.0                  122  \n",
       "2         24.0         23.0                   52  \n",
       "3        639.0         21.0                   52  \n",
       "5        397.0         17.0                   48  \n",
       "..         ...          ...                  ...  \n",
       "107       17.0         23.0                   36  \n",
       "108        8.0         23.0                   36  \n",
       "110      323.0         23.0                   78  \n",
       "111      205.0         23.0                   66  \n",
       "112      224.0         16.0                   82  \n",
       "\n",
       "[93 rows x 12 columns]"
      ]
     },
     "execution_count": 38,
     "metadata": {},
     "output_type": "execute_result"
    }
   ],
   "source": [
    "df_final"
   ]
  },
  {
   "cell_type": "code",
   "execution_count": 55,
   "metadata": {},
   "outputs": [],
   "source": [
    "#print(df_final[\"qtd_pag_word\"],(df_final[\"qtd_carc\"]/1430))"
   ]
  },
  {
   "cell_type": "code",
   "execution_count": 40,
   "metadata": {},
   "outputs": [],
   "source": [
    "# reindexar o index devido ter deletado algumas linhas\n",
    "df_final.reset_index(drop=True, inplace=True)"
   ]
  },
  {
   "cell_type": "code",
   "execution_count": 41,
   "metadata": {},
   "outputs": [],
   "source": [
    "#colunas_final = ['Nº DA PLANILHA','ENTIDADE', 'PUBLICAÇÃO', 'FORNECEDOR','COMPLEXIDADE', 'STATUS DE PGTO', 'Data', 'Nº de páginas WORD', 'Nº de páginas estimado', 'Qtd_carac','Qtd_tabela', 'Qtd_image','Nº de páginas finais' ]\n",
    "#df_final_num = df_final[colunas_final]\n"
   ]
  },
  {
   "cell_type": "code",
   "execution_count": 42,
   "metadata": {
    "scrolled": true
   },
   "outputs": [
    {
     "data": {
      "text/plain": [
       "Nº DA PLANILHA              int64\n",
       "ENTIDADE                   object\n",
       "FORNECEDOR                 object\n",
       "COMPLEXIDADE               object\n",
       "STATUS DE PGTO             object\n",
       "Nº de páginas WORD         object\n",
       "Nº de páginas estimado    float64\n",
       "Qtd_carac                 float64\n",
       "Qtd_tabela                float64\n",
       "Qtd_image                 float64\n",
       "Qtd_estilos               float64\n",
       "Nº de páginas finais       object\n",
       "dtype: object"
      ]
     },
     "execution_count": 42,
     "metadata": {},
     "output_type": "execute_result"
    }
   ],
   "source": [
    "df_final.dtypes"
   ]
  },
  {
   "cell_type": "code",
   "execution_count": 43,
   "metadata": {
    "scrolled": false
   },
   "outputs": [
    {
     "data": {
      "text/html": [
       "<div>\n",
       "<style scoped>\n",
       "    .dataframe tbody tr th:only-of-type {\n",
       "        vertical-align: middle;\n",
       "    }\n",
       "\n",
       "    .dataframe tbody tr th {\n",
       "        vertical-align: top;\n",
       "    }\n",
       "\n",
       "    .dataframe thead th {\n",
       "        text-align: right;\n",
       "    }\n",
       "</style>\n",
       "<table border=\"1\" class=\"dataframe\">\n",
       "  <thead>\n",
       "    <tr style=\"text-align: right;\">\n",
       "      <th></th>\n",
       "      <th>Nº DA PLANILHA</th>\n",
       "      <th>ENTIDADE</th>\n",
       "      <th>FORNECEDOR</th>\n",
       "      <th>COMPLEXIDADE</th>\n",
       "      <th>STATUS DE PGTO</th>\n",
       "      <th>Nº de páginas WORD</th>\n",
       "      <th>Nº de páginas estimado</th>\n",
       "      <th>Qtd_carac</th>\n",
       "      <th>Qtd_tabela</th>\n",
       "      <th>Qtd_image</th>\n",
       "      <th>Qtd_estilos</th>\n",
       "      <th>Nº de páginas finais</th>\n",
       "    </tr>\n",
       "  </thead>\n",
       "  <tbody>\n",
       "    <tr>\n",
       "      <th>0</th>\n",
       "      <td>224323</td>\n",
       "      <td>CNI</td>\n",
       "      <td>Editorar</td>\n",
       "      <td>Alta</td>\n",
       "      <td>Pago</td>\n",
       "      <td>87</td>\n",
       "      <td>140.0</td>\n",
       "      <td>116142.0</td>\n",
       "      <td>470.0</td>\n",
       "      <td>685.0</td>\n",
       "      <td>60.0</td>\n",
       "      <td>140</td>\n",
       "    </tr>\n",
       "    <tr>\n",
       "      <th>1</th>\n",
       "      <td>224325</td>\n",
       "      <td>CNI</td>\n",
       "      <td>Editorar</td>\n",
       "      <td>Alta</td>\n",
       "      <td>Pago</td>\n",
       "      <td>82</td>\n",
       "      <td>122.0</td>\n",
       "      <td>108307.0</td>\n",
       "      <td>76.0</td>\n",
       "      <td>94.0</td>\n",
       "      <td>69.0</td>\n",
       "      <td>122</td>\n",
       "    </tr>\n",
       "    <tr>\n",
       "      <th>2</th>\n",
       "      <td>225392</td>\n",
       "      <td>CNI</td>\n",
       "      <td>Editorar</td>\n",
       "      <td>Média</td>\n",
       "      <td>Pago</td>\n",
       "      <td>41</td>\n",
       "      <td>70.0</td>\n",
       "      <td>41144.0</td>\n",
       "      <td>28.0</td>\n",
       "      <td>24.0</td>\n",
       "      <td>23.0</td>\n",
       "      <td>52</td>\n",
       "    </tr>\n",
       "    <tr>\n",
       "      <th>3</th>\n",
       "      <td>225392</td>\n",
       "      <td>CNI</td>\n",
       "      <td>Editorar</td>\n",
       "      <td>Média</td>\n",
       "      <td>Pago</td>\n",
       "      <td>41</td>\n",
       "      <td>70.0</td>\n",
       "      <td>62913.0</td>\n",
       "      <td>397.0</td>\n",
       "      <td>639.0</td>\n",
       "      <td>21.0</td>\n",
       "      <td>52</td>\n",
       "    </tr>\n",
       "    <tr>\n",
       "      <th>4</th>\n",
       "      <td>225531</td>\n",
       "      <td>CNI</td>\n",
       "      <td>Editorar</td>\n",
       "      <td>Baixa</td>\n",
       "      <td>Pago</td>\n",
       "      <td>36</td>\n",
       "      <td>48.0</td>\n",
       "      <td>37548.0</td>\n",
       "      <td>233.0</td>\n",
       "      <td>397.0</td>\n",
       "      <td>17.0</td>\n",
       "      <td>48</td>\n",
       "    </tr>\n",
       "  </tbody>\n",
       "</table>\n",
       "</div>"
      ],
      "text/plain": [
       "   Nº DA PLANILHA ENTIDADE FORNECEDOR COMPLEXIDADE STATUS DE PGTO  \\\n",
       "0          224323      CNI   Editorar         Alta           Pago   \n",
       "1          224325      CNI   Editorar         Alta           Pago   \n",
       "2          225392      CNI   Editorar        Média           Pago   \n",
       "3          225392      CNI   Editorar        Média           Pago   \n",
       "4          225531      CNI   Editorar        Baixa           Pago   \n",
       "\n",
       "  Nº de páginas WORD  Nº de páginas estimado  Qtd_carac  Qtd_tabela  \\\n",
       "0                 87                   140.0   116142.0       470.0   \n",
       "1                 82                   122.0   108307.0        76.0   \n",
       "2                 41                    70.0    41144.0        28.0   \n",
       "3                 41                    70.0    62913.0       397.0   \n",
       "4                 36                    48.0    37548.0       233.0   \n",
       "\n",
       "   Qtd_image  Qtd_estilos Nº de páginas finais  \n",
       "0      685.0         60.0                  140  \n",
       "1       94.0         69.0                  122  \n",
       "2       24.0         23.0                   52  \n",
       "3      639.0         21.0                   52  \n",
       "4      397.0         17.0                   48  "
      ]
     },
     "execution_count": 43,
     "metadata": {},
     "output_type": "execute_result"
    }
   ],
   "source": [
    "df_final.head()"
   ]
  },
  {
   "cell_type": "code",
   "execution_count": 44,
   "metadata": {},
   "outputs": [],
   "source": [
    "# alterar campos typo string para categóricos \n",
    "df_final['ENTIDADE'] = df_final['ENTIDADE'].astype('category')\n",
    "df_final['COMPLEXIDADE'] = df_final['COMPLEXIDADE'].astype('category')\n",
    "df_final['FORNECEDOR'] = df_final['FORNECEDOR'].astype('category')\n",
    "df_final['STATUS DE PGTO'] = df_final['STATUS DE PGTO'].astype('category')"
   ]
  },
  {
   "cell_type": "code",
   "execution_count": 45,
   "metadata": {},
   "outputs": [],
   "source": [
    "# SOBRE O AVISO: A value is trying to be set on a copy of a slice from a dataframe\n",
    "# https://paulovasconcellos.com.br/o-que-%C3%A9-a-value-is-trying-to-be-set-on-a-copy-of-a-slice-from-a-dataframe-e85f744d8be1\n"
   ]
  },
  {
   "cell_type": "code",
   "execution_count": 46,
   "metadata": {},
   "outputs": [],
   "source": [
    "# alterar campos typo categóricos para numérico\n",
    "# aplicando .cat.codes em cada uma dessas colunas\n",
    "df_final['ENTIDADE'] = df_final['ENTIDADE'].cat.codes\n",
    "df_final['COMPLEXIDADE'] = df_final['COMPLEXIDADE'].cat.codes\n",
    "df_final['FORNECEDOR'] = df_final['FORNECEDOR'].cat.codes\n",
    "df_final['STATUS DE PGTO'] = df_final['STATUS DE PGTO'].cat.codes"
   ]
  },
  {
   "cell_type": "code",
   "execution_count": 47,
   "metadata": {},
   "outputs": [],
   "source": [
    "df_final['Nº de páginas WORD'] = df_final['Nº de páginas WORD'].astype('int')"
   ]
  },
  {
   "cell_type": "code",
   "execution_count": 48,
   "metadata": {},
   "outputs": [
    {
     "data": {
      "text/plain": [
       "Nº DA PLANILHA              int64\n",
       "ENTIDADE                     int8\n",
       "FORNECEDOR                   int8\n",
       "COMPLEXIDADE                 int8\n",
       "STATUS DE PGTO               int8\n",
       "Nº de páginas WORD          int64\n",
       "Nº de páginas estimado    float64\n",
       "Qtd_carac                 float64\n",
       "Qtd_tabela                float64\n",
       "Qtd_image                 float64\n",
       "Qtd_estilos               float64\n",
       "Nº de páginas finais       object\n",
       "dtype: object"
      ]
     },
     "execution_count": 48,
     "metadata": {},
     "output_type": "execute_result"
    }
   ],
   "source": [
    "df_final.dtypes"
   ]
  },
  {
   "cell_type": "code",
   "execution_count": 49,
   "metadata": {},
   "outputs": [
    {
     "data": {
      "text/html": [
       "<div>\n",
       "<style scoped>\n",
       "    .dataframe tbody tr th:only-of-type {\n",
       "        vertical-align: middle;\n",
       "    }\n",
       "\n",
       "    .dataframe tbody tr th {\n",
       "        vertical-align: top;\n",
       "    }\n",
       "\n",
       "    .dataframe thead th {\n",
       "        text-align: right;\n",
       "    }\n",
       "</style>\n",
       "<table border=\"1\" class=\"dataframe\">\n",
       "  <thead>\n",
       "    <tr style=\"text-align: right;\">\n",
       "      <th></th>\n",
       "      <th>Nº DA PLANILHA</th>\n",
       "      <th>ENTIDADE</th>\n",
       "      <th>FORNECEDOR</th>\n",
       "      <th>COMPLEXIDADE</th>\n",
       "      <th>STATUS DE PGTO</th>\n",
       "      <th>Nº de páginas WORD</th>\n",
       "      <th>Nº de páginas estimado</th>\n",
       "      <th>Qtd_carac</th>\n",
       "      <th>Qtd_tabela</th>\n",
       "      <th>Qtd_image</th>\n",
       "      <th>Qtd_estilos</th>\n",
       "      <th>Nº de páginas finais</th>\n",
       "    </tr>\n",
       "  </thead>\n",
       "  <tbody>\n",
       "    <tr>\n",
       "      <th>0</th>\n",
       "      <td>224323</td>\n",
       "      <td>0</td>\n",
       "      <td>0</td>\n",
       "      <td>1</td>\n",
       "      <td>0</td>\n",
       "      <td>87</td>\n",
       "      <td>140.0</td>\n",
       "      <td>116142.0</td>\n",
       "      <td>470.0</td>\n",
       "      <td>685.0</td>\n",
       "      <td>60.0</td>\n",
       "      <td>140</td>\n",
       "    </tr>\n",
       "    <tr>\n",
       "      <th>1</th>\n",
       "      <td>224325</td>\n",
       "      <td>0</td>\n",
       "      <td>0</td>\n",
       "      <td>1</td>\n",
       "      <td>0</td>\n",
       "      <td>82</td>\n",
       "      <td>122.0</td>\n",
       "      <td>108307.0</td>\n",
       "      <td>76.0</td>\n",
       "      <td>94.0</td>\n",
       "      <td>69.0</td>\n",
       "      <td>122</td>\n",
       "    </tr>\n",
       "    <tr>\n",
       "      <th>2</th>\n",
       "      <td>225392</td>\n",
       "      <td>0</td>\n",
       "      <td>0</td>\n",
       "      <td>3</td>\n",
       "      <td>0</td>\n",
       "      <td>41</td>\n",
       "      <td>70.0</td>\n",
       "      <td>41144.0</td>\n",
       "      <td>28.0</td>\n",
       "      <td>24.0</td>\n",
       "      <td>23.0</td>\n",
       "      <td>52</td>\n",
       "    </tr>\n",
       "    <tr>\n",
       "      <th>3</th>\n",
       "      <td>225392</td>\n",
       "      <td>0</td>\n",
       "      <td>0</td>\n",
       "      <td>3</td>\n",
       "      <td>0</td>\n",
       "      <td>41</td>\n",
       "      <td>70.0</td>\n",
       "      <td>62913.0</td>\n",
       "      <td>397.0</td>\n",
       "      <td>639.0</td>\n",
       "      <td>21.0</td>\n",
       "      <td>52</td>\n",
       "    </tr>\n",
       "    <tr>\n",
       "      <th>4</th>\n",
       "      <td>225531</td>\n",
       "      <td>0</td>\n",
       "      <td>0</td>\n",
       "      <td>2</td>\n",
       "      <td>0</td>\n",
       "      <td>36</td>\n",
       "      <td>48.0</td>\n",
       "      <td>37548.0</td>\n",
       "      <td>233.0</td>\n",
       "      <td>397.0</td>\n",
       "      <td>17.0</td>\n",
       "      <td>48</td>\n",
       "    </tr>\n",
       "  </tbody>\n",
       "</table>\n",
       "</div>"
      ],
      "text/plain": [
       "   Nº DA PLANILHA  ENTIDADE  FORNECEDOR  COMPLEXIDADE  STATUS DE PGTO  \\\n",
       "0          224323         0           0             1               0   \n",
       "1          224325         0           0             1               0   \n",
       "2          225392         0           0             3               0   \n",
       "3          225392         0           0             3               0   \n",
       "4          225531         0           0             2               0   \n",
       "\n",
       "   Nº de páginas WORD  Nº de páginas estimado  Qtd_carac  Qtd_tabela  \\\n",
       "0                  87                   140.0   116142.0       470.0   \n",
       "1                  82                   122.0   108307.0        76.0   \n",
       "2                  41                    70.0    41144.0        28.0   \n",
       "3                  41                    70.0    62913.0       397.0   \n",
       "4                  36                    48.0    37548.0       233.0   \n",
       "\n",
       "   Qtd_image  Qtd_estilos Nº de páginas finais  \n",
       "0      685.0         60.0                  140  \n",
       "1       94.0         69.0                  122  \n",
       "2       24.0         23.0                   52  \n",
       "3      639.0         21.0                   52  \n",
       "4      397.0         17.0                   48  "
      ]
     },
     "execution_count": 49,
     "metadata": {},
     "output_type": "execute_result"
    }
   ],
   "source": [
    "df_final.head()"
   ]
  },
  {
   "cell_type": "code",
   "execution_count": 50,
   "metadata": {},
   "outputs": [
    {
     "data": {
      "text/plain": [
       "Index(['Nº DA PLANILHA', 'ENTIDADE', 'FORNECEDOR', 'COMPLEXIDADE',\n",
       "       'STATUS DE PGTO', 'Nº de páginas WORD', 'Nº de páginas estimado',\n",
       "       'Qtd_carac', 'Qtd_tabela', 'Qtd_image', 'Qtd_estilos',\n",
       "       'Nº de páginas finais'],\n",
       "      dtype='object')"
      ]
     },
     "execution_count": 50,
     "metadata": {},
     "output_type": "execute_result"
    }
   ],
   "source": [
    "df_final.columns"
   ]
  },
  {
   "cell_type": "code",
   "execution_count": 51,
   "metadata": {},
   "outputs": [],
   "source": [
    "# trocar type float por int\n",
    "#df_final['Nº DA PLANILHA'] = df_final['Nº DA PLANILHA'].astype('int')\n",
    "#df_final['Nº DA PLANILHA'] = df_final['Nº DA PLANILHA'].astype('int')"
   ]
  },
  {
   "cell_type": "code",
   "execution_count": 52,
   "metadata": {},
   "outputs": [],
   "source": [
    "# inserir zeros no lugar do valor NAN\n",
    "#df_final['Qtd_carac']= df_final['Qtd_carac'].fillna(0)\n",
    "#df_final['Qtd_tabela'] = df_final['Qtd_tabela'].fillna(0)\n",
    "#df_final['Qtd_image'] = df_final['Qtd_image'].fillna(0)\n"
   ]
  },
  {
   "cell_type": "code",
   "execution_count": 53,
   "metadata": {},
   "outputs": [],
   "source": [
    "# trocar type float por int\n",
    "#df_final['Nº de páginas estimado'] = df_final['Nº de páginas estimado'].astype('int')\n",
    "df_final['Qtd_carac'] = df_final['Qtd_carac'].astype('int')\n",
    "df_final['Qtd_tabela'] = df_final['Qtd_tabela'].astype('int')\n",
    "df_final['Qtd_image'] = df_final['Qtd_image'].astype('int')\n",
    "\n",
    "df_final['Nº de páginas finais'] = df_final['Nº de páginas finais'].astype('int')"
   ]
  },
  {
   "cell_type": "code",
   "execution_count": 54,
   "metadata": {},
   "outputs": [
    {
     "data": {
      "text/plain": [
       "Index(['Nº DA PLANILHA', 'ENTIDADE', 'FORNECEDOR', 'COMPLEXIDADE',\n",
       "       'STATUS DE PGTO', 'Nº de páginas WORD', 'Nº de páginas estimado',\n",
       "       'Qtd_carac', 'Qtd_tabela', 'Qtd_image', 'Qtd_estilos',\n",
       "       'Nº de páginas finais'],\n",
       "      dtype='object')"
      ]
     },
     "execution_count": 54,
     "metadata": {},
     "output_type": "execute_result"
    }
   ],
   "source": [
    "df_final.columns"
   ]
  },
  {
   "cell_type": "code",
   "execution_count": null,
   "metadata": {},
   "outputs": [],
   "source": [
    "df_final.dtypes"
   ]
  },
  {
   "cell_type": "code",
   "execution_count": 56,
   "metadata": {},
   "outputs": [],
   "source": [
    "#renomear colunas\n",
    "#df_final.rename(columns={'Nº DA PLANILHA': 'id','ENTIDADE':\"entidade\",'FORNECEDOR':\"fornecedor\", 'COMPLEXIDADE':\"complexidade\",\n",
    "#                         'STATUS DE PGTO':\"stat_pagto\",'Nº de páginas WORD':\"qtd_pag_word\", \n",
    "#                         'Nº de páginas estimado':\"qtd_pag_estimado\", 'Qtd_carac':\"qtd_carc\",\n",
    "#       'Qtd_tabela':\"qtd_tabela\", 'Qtd_image': \"qtd_image\", 'Nº de páginas finais':\"pag_final\"} , inplace = True)\n",
    "\n",
    "df_final.rename(columns={'Nº DA PLANILHA': 'id','ENTIDADE':\"entidade\",'FORNECEDOR':\"fornecedor\", 'COMPLEXIDADE':\"complexidade\",\n",
    "                         'STATUS DE PGTO':\"stat_pagto\",'Nº de páginas WORD':\"qtd_pag_word\", \n",
    "                         'Nº de páginas estimado':\"qtd_pag_estimado\", 'Qtd_carac':\"qtd_carc\",\n",
    "       'Qtd_tabela':\"qtd_tabela\", 'Qtd_image': \"qtd_image\",\"Qtd_estilos\":\"qtd_estilos\", 'Nº de páginas finais':\"pag_final\"} , inplace = True)\n",
    "\n"
   ]
  },
  {
   "cell_type": "code",
   "execution_count": 57,
   "metadata": {
    "scrolled": true
   },
   "outputs": [],
   "source": [
    "# gerar arquivo csv para arquivo tratado\n",
    "\n",
    "df_final.to_csv(\"nge_dados_input.csv\",index=False )\n",
    "\n",
    "#data = pd.read_csv(\"nge_dados_input.csv\")\n",
    "#df_final.to_csv(index=False)\n",
    "#df_final.to_csv(\"nge_dados_input.csv\", data = imprimir_ano)\n"
   ]
  },
  {
   "cell_type": "code",
   "execution_count": null,
   "metadata": {},
   "outputs": [],
   "source": []
  }
 ],
 "metadata": {
  "kernelspec": {
   "display_name": "Python 3",
   "language": "python",
   "name": "python3"
  }
 },
 "nbformat": 4,
 "nbformat_minor": 4
}
