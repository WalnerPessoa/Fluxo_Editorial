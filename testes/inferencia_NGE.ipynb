{
 "cells": [
  {
   "cell_type": "code",
   "execution_count": 89,
   "metadata": {},
   "outputs": [],
   "source": [
    "import pandas as pd\n",
    "import numpy as np\n",
    "from sklearn.model_selection import train_test_split\n",
    "\n",
    "#Importando o modelo machine learnig\n",
    "from sklearn.linear_model import LinearRegression\n",
    "from sklearn import metrics\n",
    "import pickle\n",
    "import argparse"
   ]
  },
  {
   "cell_type": "code",
   "execution_count": 91,
   "metadata": {},
   "outputs": [
    {
     "name": "stderr",
     "output_type": "stream",
     "text": [
      "usage: ipykernel_launcher.py [-h] -i FILEINPUT\n",
      "ipykernel_launcher.py: error: the following arguments are required: -i/--fileInput\n"
     ]
    },
    {
     "ename": "SystemExit",
     "evalue": "2",
     "output_type": "error",
     "traceback": [
      "An exception has occurred, use %tb to see the full traceback.\n",
      "\u001b[0;31mSystemExit\u001b[0m\u001b[0;31m:\u001b[0m 2\n"
     ]
    }
   ],
   "source": [
    "# construct the argument parser and parse the arguments\n",
    "ap = argparse.ArgumentParser()\n",
    "ap.add_argument(\"-i\", \"--fileInput\", required=True, help=\"path + file to start process\")\n",
    "args = vars(ap.parse_args())\n",
    "\n",
    "# display a friendly message to the user\n",
    "print(\"Hi there {}, it's nice to meet you!\".format(args[\"fileInput\"]))\n",
    "\n",
    "# importar csv da base de jobs sem nota fiscal ou seja sem o valor final de páginas confirmado\n",
    "\n",
    "data_semNF = pd.read_csv(\"nge_dados_input_semNF.csv\")\n",
    "\n",
    "#\n",
    "# normalizar a quantidade de caracteres\n",
    "#\n",
    "data_semNF.loc[:,'qtd_carc_normal'] = pd.Series((data_semNF.qtd_carc-data_semNF.qtd_carc.min())/(data_semNF.qtd_carc.max()-data_semNF.qtd_carc.min()))\n"
   ]
  },
  {
   "cell_type": "code",
   "execution_count": 52,
   "metadata": {},
   "outputs": [],
   "source": []
  },
  {
   "cell_type": "code",
   "execution_count": 54,
   "metadata": {},
   "outputs": [],
   "source": []
  },
  {
   "cell_type": "code",
   "execution_count": null,
   "metadata": {},
   "outputs": [],
   "source": []
  },
  {
   "cell_type": "code",
   "execution_count": 60,
   "metadata": {},
   "outputs": [],
   "source": [
    "# USANDO ARQUIVO TREINADO MODELO REGRESSÃO LINEAR\n",
    "filename ='finalized_model-linreg3.sav'\n",
    "loaded_model_f = pickle.load(open(filename, 'rb'))"
   ]
  },
  {
   "cell_type": "code",
   "execution_count": 79,
   "metadata": {},
   "outputs": [],
   "source": [
    "#Fazendo predições no conjunto de teste\n",
    "y_pred_semNF = loaded_model_f.predict(X_semNF)"
   ]
  },
  {
   "cell_type": "code",
   "execution_count": 83,
   "metadata": {},
   "outputs": [],
   "source": [
    "#y_pred_semNF = pd.Series(y_pred_semNF,name=[\"qtd_pag_inferido\"])\n",
    "\n",
    "resultado_comparativo =  pd.concat([data_semNF[\"qtd_pag_word\"], data_semNF[\"qtd_pag_estimado\"], pd.Series(y_pred_semNF.T[0])], axis=1) # REG LINEAR\n",
    "#resultado_comparativo =  pd.concat([data_semNF[\"qtd_pag_word\"], data_semNF[\"qtd_pag_estimado\"], pd.Series(y_pred_semNF)], axis=1) # REG LOGISTICA\n"
   ]
  },
  {
   "cell_type": "code",
   "execution_count": 84,
   "metadata": {},
   "outputs": [],
   "source": [
    "data_semNF_final =  pd.concat([data_semNF, pd.Series(y_pred_semNF.T[0])], axis=1) # REG LINEAR\n",
    "#data_semNF_final =  pd.concat([data_semNF, pd.Series(y_pred_semNF)], axis=1) # REG LOGISTICA"
   ]
  },
  {
   "cell_type": "code",
   "execution_count": 85,
   "metadata": {},
   "outputs": [],
   "source": [
    "data_semNF_final.rename(columns={0: 'QTD_PAG_INFERIDO'}, inplace = True)"
   ]
  },
  {
   "cell_type": "code",
   "execution_count": 88,
   "metadata": {},
   "outputs": [],
   "source": [
    "data_semNF_final.to_excel(\"resultado_inferência_NGE-reg_linear_novo_FOREST9.xlsx\",sheet_name='Inferencia por IA') "
   ]
  },
  {
   "cell_type": "code",
   "execution_count": null,
   "metadata": {},
   "outputs": [],
   "source": []
  },
  {
   "cell_type": "code",
   "execution_count": null,
   "metadata": {},
   "outputs": [],
   "source": []
  }
 ],
 "metadata": {
  "kernelspec": {
   "display_name": "Python 3",
   "language": "python",
   "name": "python3"
  },
  "language_info": {
   "codemirror_mode": {
    "name": "ipython",
    "version": 3
   },
   "file_extension": ".py",
   "mimetype": "text/x-python",
   "name": "python",
   "nbconvert_exporter": "python",
   "pygments_lexer": "ipython3",
   "version": "3.8.5"
  }
 },
 "nbformat": 4,
 "nbformat_minor": 4
}
