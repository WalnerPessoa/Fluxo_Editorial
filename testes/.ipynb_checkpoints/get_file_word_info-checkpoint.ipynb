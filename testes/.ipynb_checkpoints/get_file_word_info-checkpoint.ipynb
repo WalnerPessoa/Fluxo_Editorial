{
 "cells": [
  {
   "cell_type": "code",
   "execution_count": null,
   "metadata": {},
   "outputs": [],
   "source": [
    "# Importar bibliotecas- verificar quais devem sair\n",
    "from os import listdir\n",
    "from os.path import isfile, join\n",
    "import docx2txt\n",
    "import docx\n",
    "import os\n",
    "import glob\n",
    "\n",
    "from os import listdir\n",
    "from os.path import isfile, join\n",
    "\n",
    "#argumentos \n",
    "#fileDir = r\"/Users/wpessoa/repositorios/Fluxo_Editorial/words/\"\n",
    "#fileExt = r\".docx\"\n",
    "\n",
    "def get_file_word_info(fileDir, fileExt):\n",
    "    while True:\n",
    "        try:\n",
    "            onlyfiles = [_ for _ in os.listdir(fileDir) if _.endswith(fileExt)]\n",
    "            indice = 0\n",
    "            image_array=[]\n",
    "            table_chunks = []\n",
    "\n",
    "            # abrir conecção com o arquivo Word \n",
    "            doc = docx.Document(files_array[indice])\n",
    "\n",
    "            # data criação\n",
    "            dt_doc = doc.core_properties.created\n",
    "            # ler em cada parágrafo dentro do arquivo Word\n",
    "            paragra= [p.text for p in doc.paragraphs]\n",
    "\n",
    "            # extai a quantidade de caracteres\n",
    "            caracteres = docx2txt.process(files_array[indice])\n",
    "\n",
    "            # gerar um array com tamanho de todas as imagens\n",
    "            for image in doc.inline_shapes:\n",
    "                image_array.append([image.width, image.height])\n",
    "                # print (image.width, image.height)\n",
    "\n",
    "            # gerar um array com todas as tabelas\n",
    "            for table in doc.tables:\n",
    "                table_chunks.append(table)\n",
    "            return(dt_doc,len(caracteres),len(image_array),len(table_chunks))\n",
    "            break\n",
    "        except ValueError:\n",
    "            print(\"Oops!  erro no método verificar diret'ório e extensão do arquivos no argumento desse método\")\n",
    "\n",
    "            \n",
    "            \n",
    "            \n",
    "\n",
    "    "
   ]
  }
 ],
 "metadata": {
  "kernelspec": {
   "display_name": "Python 3",
   "language": "python",
   "name": "python3"
  },
  "language_info": {
   "codemirror_mode": {
    "name": "ipython",
    "version": 3
   },
   "file_extension": ".py",
   "mimetype": "text/x-python",
   "name": "python",
   "nbconvert_exporter": "python",
   "pygments_lexer": "ipython3",
   "version": "3.6.3"
  }
 },
 "nbformat": 4,
 "nbformat_minor": 4
}
