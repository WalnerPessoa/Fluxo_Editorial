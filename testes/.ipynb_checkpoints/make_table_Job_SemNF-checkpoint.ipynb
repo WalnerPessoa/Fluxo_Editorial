{
 "cells": [
  {
   "cell_type": "code",
   "execution_count": null,
   "metadata": {},
   "outputs": [],
   "source": [
    "# metodo de tratar tabelas\n"
   ]
  },
  {
   "cell_type": "code",
   "execution_count": 1,
   "metadata": {
    "scrolled": true
   },
   "outputs": [
    {
     "name": "stdout",
     "output_type": "stream",
     "text": [
      "Existe esse diretório?  True\n",
      "Existe esse diretório?  True\n",
      "Quantidade de arquivos do word no diretório:  58\n",
      "Quantidade de arquivos do word no diretório:  52\n"
     ]
    }
   ],
   "source": [
    "import os\n",
    "import get_file_word as gf\n",
    "import datetime\n",
    "import pandas as pd\n",
    "\n",
    "#setar variáveis onde estão arquivos\n",
    "fileExt = r\".docx\"\n",
    "fileExt2 = r\".doc\"\n",
    "fileDir_19 = r\"/Users/wpessoa/repositorios/NGE/words_2019/\"\n",
    "fileDir_20 = r\"/Users/wpessoa/repositorios/NGE/words_2020/\"\n",
    "\n",
    "\n",
    "fileDir_semNF = r\"/Users/wpessoa/repositorios/NGE/words_semNota/\"\n",
    "\n",
    "# verificar se existe o diretório\n",
    "print(\"Existe esse diretório? \",os.path.exists(fileDir_19)) \n",
    "print(\"Existe esse diretório? \",os.path.exists(fileDir_20)) \n",
    "\n",
    "\n",
    "#fileDir = r\"/Users/wpessoa/repositorios/Fluxo_Editorial/words/\"\n",
    "#fileDir= r'/Users/walnerpessoa/repositories/Fluxo_Editorial/words'\n",
    "files_array_19 = [_ for _ in os.listdir(fileDir_19) if _.endswith(fileExt)]\n",
    "#files_array_19_2 = [_ for _ in os.listdir(fileDir_19) if _.endswith(fileExt2)]\n",
    "#files_array_19=files_array_19_1+files_array_19_2\n",
    "\n",
    "\n",
    "files_array_20 = [_ for _ in os.listdir(fileDir_20) if _.endswith(fileExt)]\n",
    "#files_array_20_2 = [_ for _ in os.listdir(fileDir_20) if _.endswith(fileExt2)]\n",
    "#files_array_20=files_array_20_1+files_array_20_2\n",
    "\n",
    "print(\"Quantidade de arquivos do word no diretório: \",len(files_array_19))\n",
    "print(\"Quantidade de arquivos do word no diretório: \",len(files_array_20))\n",
    "\n",
    "\n",
    "\n",
    "# rodar método get_info para ler aquivos do Word e retornar features de cada arquivo\n",
    "# argumentos (diretório e array dos arquivos word)\n",
    "# retorna (NºID,Qtd_caracteres,Qtd_tabela,Qtd_image,data)\n",
    "\n",
    "var_19=gf.get_info(fileDir_19,files_array_19)\n",
    "var_20=gf.get_info(fileDir_20,files_array_20)\n",
    "\n",
    "#print(var)\n"
   ]
  },
  {
   "cell_type": "code",
   "execution_count": 2,
   "metadata": {},
   "outputs": [
    {
     "ename": "ModuleNotFoundError",
     "evalue": "No module named 'win32com'",
     "output_type": "error",
     "traceback": [
      "\u001b[0;31m---------------------------------------------------------------------------\u001b[0m",
      "\u001b[0;31mModuleNotFoundError\u001b[0m                       Traceback (most recent call last)",
      "\u001b[0;32m<ipython-input-2-59a939fc653e>\u001b[0m in \u001b[0;36m<module>\u001b[0;34m\u001b[0m\n\u001b[1;32m      9\u001b[0m \u001b[0;32mimport\u001b[0m \u001b[0mre\u001b[0m\u001b[0;34m\u001b[0m\u001b[0;34m\u001b[0m\u001b[0m\n\u001b[1;32m     10\u001b[0m \u001b[0;32mimport\u001b[0m \u001b[0mos\u001b[0m\u001b[0;34m\u001b[0m\u001b[0;34m\u001b[0m\u001b[0m\n\u001b[0;32m---> 11\u001b[0;31m \u001b[0;32mimport\u001b[0m \u001b[0mwin32com\u001b[0m\u001b[0;34m.\u001b[0m\u001b[0mclient\u001b[0m \u001b[0;32mas\u001b[0m \u001b[0mwin32\u001b[0m\u001b[0;34m\u001b[0m\u001b[0;34m\u001b[0m\u001b[0m\n\u001b[0m\u001b[1;32m     12\u001b[0m \u001b[0;32mfrom\u001b[0m \u001b[0mwin32com\u001b[0m\u001b[0;34m.\u001b[0m\u001b[0mclient\u001b[0m \u001b[0;32mimport\u001b[0m \u001b[0mconstants\u001b[0m\u001b[0;34m\u001b[0m\u001b[0;34m\u001b[0m\u001b[0m\n\u001b[1;32m     13\u001b[0m \u001b[0;34m\u001b[0m\u001b[0m\n",
      "\u001b[0;31mModuleNotFoundError\u001b[0m: No module named 'win32com'"
     ]
    }
   ],
   "source": [
    "#\n",
    "#\n",
    "# converter arquivo DOC para arquivo DOCX -> AINDA NÃO FUNCIONA\n",
    "#\n",
    "#\n",
    "\n",
    "# https://stackoverflow.com/questions/38468442/multiple-doc-to-docx-file-conversion-using-python\n",
    "from glob import glob\n",
    "import re\n",
    "import os\n",
    "import win32com.client as win32\n",
    "from win32com.client import constants\n",
    "\n",
    "# Create list of paths to .doc files\n",
    "paths = glob('C:\\\\path\\\\to\\\\doc\\\\files\\\\**\\\\*.doc', recursive=True)\n",
    "\n",
    "def save_as_docx(path):\n",
    "    # Opening MS Word\n",
    "    word = win32.gencache.EnsureDispatch('Word.Application')\n",
    "    doc = word.Documents.Open(path)\n",
    "    doc.Activate ()\n",
    "\n",
    "    # Rename path with .docx\n",
    "    new_file_abs = os.path.abspath(path)\n",
    "    new_file_abs = re.sub(r'\\.\\w+$', '.docx', new_file_abs)\n",
    "\n",
    "    # Save and Close\n",
    "    word.ActiveDocument.SaveAs(\n",
    "        new_file_abs, FileFormat=constants.wdFormatXMLDocument\n",
    "    )\n",
    "    doc.Close(False)\n",
    "\n",
    "for path in paths:\n",
    "    save_as_docx(files_array_19_2)"
   ]
  },
  {
   "cell_type": "code",
   "execution_count": null,
   "metadata": {},
   "outputs": [],
   "source": [
    "#files_array_19_2"
   ]
  },
  {
   "cell_type": "markdown",
   "metadata": {},
   "source": [
    "- Existe esse diretório?  True\n",
    "- Existe esse diretório?  True\n",
    "- Quantidade de arquivos do word no diretório:  58\n",
    "- Quantidade de arquivos do word no diretório:  35"
   ]
  },
  {
   "cell_type": "code",
   "execution_count": 3,
   "metadata": {},
   "outputs": [
    {
     "name": "stdout",
     "output_type": "stream",
     "text": [
      "<class 'list'>\n"
     ]
    }
   ],
   "source": [
    "print(type(var_19))"
   ]
  },
  {
   "cell_type": "code",
   "execution_count": null,
   "metadata": {},
   "outputs": [],
   "source": []
  },
  {
   "cell_type": "code",
   "execution_count": 4,
   "metadata": {},
   "outputs": [],
   "source": [
    "# unindo lista 2019 com lista 2020\n",
    "var=var_19+var_20"
   ]
  },
  {
   "cell_type": "code",
   "execution_count": 5,
   "metadata": {},
   "outputs": [
    {
     "data": {
      "text/html": [
       "<div>\n",
       "<style scoped>\n",
       "    .dataframe tbody tr th:only-of-type {\n",
       "        vertical-align: middle;\n",
       "    }\n",
       "\n",
       "    .dataframe tbody tr th {\n",
       "        vertical-align: top;\n",
       "    }\n",
       "\n",
       "    .dataframe thead th {\n",
       "        text-align: right;\n",
       "    }\n",
       "</style>\n",
       "<table border=\"1\" class=\"dataframe\">\n",
       "  <thead>\n",
       "    <tr style=\"text-align: right;\">\n",
       "      <th></th>\n",
       "      <th>Nº DA PLANILHA</th>\n",
       "      <th>Qtd_carac</th>\n",
       "      <th>Qtd_tabela</th>\n",
       "      <th>Qtd_image</th>\n",
       "      <th>Qtd_estilos</th>\n",
       "      <th>Data</th>\n",
       "    </tr>\n",
       "  </thead>\n",
       "  <tbody>\n",
       "    <tr>\n",
       "      <th>0</th>\n",
       "      <td>228354</td>\n",
       "      <td>129122</td>\n",
       "      <td>14</td>\n",
       "      <td>10</td>\n",
       "      <td>26</td>\n",
       "      <td>2019-02-27</td>\n",
       "    </tr>\n",
       "    <tr>\n",
       "      <th>1</th>\n",
       "      <td>235502</td>\n",
       "      <td>31123</td>\n",
       "      <td>21</td>\n",
       "      <td>17</td>\n",
       "      <td>23</td>\n",
       "      <td>2020-05-27</td>\n",
       "    </tr>\n",
       "    <tr>\n",
       "      <th>2</th>\n",
       "      <td>232098</td>\n",
       "      <td>413596</td>\n",
       "      <td>26</td>\n",
       "      <td>20</td>\n",
       "      <td>19</td>\n",
       "      <td>2019-09-16</td>\n",
       "    </tr>\n",
       "    <tr>\n",
       "      <th>3</th>\n",
       "      <td>225392</td>\n",
       "      <td>41144</td>\n",
       "      <td>28</td>\n",
       "      <td>24</td>\n",
       "      <td>23</td>\n",
       "      <td>2018-11-07</td>\n",
       "    </tr>\n",
       "    <tr>\n",
       "      <th>4</th>\n",
       "      <td>228307</td>\n",
       "      <td>43155</td>\n",
       "      <td>40</td>\n",
       "      <td>73</td>\n",
       "      <td>25</td>\n",
       "      <td>2019-02-26</td>\n",
       "    </tr>\n",
       "  </tbody>\n",
       "</table>\n",
       "</div>"
      ],
      "text/plain": [
       "  Nº DA PLANILHA  Qtd_carac  Qtd_tabela  Qtd_image  Qtd_estilos        Data\n",
       "0         228354     129122          14         10           26  2019-02-27\n",
       "1         235502      31123          21         17           23  2020-05-27\n",
       "2         232098     413596          26         20           19  2019-09-16\n",
       "3         225392      41144          28         24           23  2018-11-07\n",
       "4         228307      43155          40         73           25  2019-02-26"
      ]
     },
     "execution_count": 5,
     "metadata": {},
     "output_type": "execute_result"
    }
   ],
   "source": [
    "# converter veriável de retorno do método para Dataframe\n",
    "#df = pd.DataFrame(var,columns=['Nº DA PLANILHA',\"Qtd_carac\",\"Qtd_tabela\",\"Qtd_image\",\"Data\"])\n",
    "df = pd.DataFrame(var,columns=['Nº DA PLANILHA',\"Qtd_carac\",\"Qtd_tabela\",\"Qtd_image\",\"Qtd_estilos\", \"Data\"])\n",
    "\n",
    "df.head()"
   ]
  },
  {
   "cell_type": "code",
   "execution_count": 6,
   "metadata": {},
   "outputs": [
    {
     "data": {
      "text/html": [
       "<div>\n",
       "<style scoped>\n",
       "    .dataframe tbody tr th:only-of-type {\n",
       "        vertical-align: middle;\n",
       "    }\n",
       "\n",
       "    .dataframe tbody tr th {\n",
       "        vertical-align: top;\n",
       "    }\n",
       "\n",
       "    .dataframe thead th {\n",
       "        text-align: right;\n",
       "    }\n",
       "</style>\n",
       "<table border=\"1\" class=\"dataframe\">\n",
       "  <thead>\n",
       "    <tr style=\"text-align: right;\">\n",
       "      <th></th>\n",
       "      <th>Nº DA PLANILHA</th>\n",
       "      <th>Qtd_carac</th>\n",
       "      <th>Qtd_tabela</th>\n",
       "      <th>Qtd_image</th>\n",
       "      <th>Qtd_estilos</th>\n",
       "      <th>Data</th>\n",
       "    </tr>\n",
       "  </thead>\n",
       "  <tbody>\n",
       "    <tr>\n",
       "      <th>0</th>\n",
       "      <td>228354</td>\n",
       "      <td>129122</td>\n",
       "      <td>14</td>\n",
       "      <td>10</td>\n",
       "      <td>26</td>\n",
       "      <td>2019-02-27</td>\n",
       "    </tr>\n",
       "    <tr>\n",
       "      <th>1</th>\n",
       "      <td>235502</td>\n",
       "      <td>31123</td>\n",
       "      <td>21</td>\n",
       "      <td>17</td>\n",
       "      <td>23</td>\n",
       "      <td>2020-05-27</td>\n",
       "    </tr>\n",
       "    <tr>\n",
       "      <th>2</th>\n",
       "      <td>232098</td>\n",
       "      <td>413596</td>\n",
       "      <td>26</td>\n",
       "      <td>20</td>\n",
       "      <td>19</td>\n",
       "      <td>2019-09-16</td>\n",
       "    </tr>\n",
       "    <tr>\n",
       "      <th>3</th>\n",
       "      <td>225392</td>\n",
       "      <td>41144</td>\n",
       "      <td>28</td>\n",
       "      <td>24</td>\n",
       "      <td>23</td>\n",
       "      <td>2018-11-07</td>\n",
       "    </tr>\n",
       "    <tr>\n",
       "      <th>4</th>\n",
       "      <td>228307</td>\n",
       "      <td>43155</td>\n",
       "      <td>40</td>\n",
       "      <td>73</td>\n",
       "      <td>25</td>\n",
       "      <td>2019-02-26</td>\n",
       "    </tr>\n",
       "    <tr>\n",
       "      <th>...</th>\n",
       "      <td>...</td>\n",
       "      <td>...</td>\n",
       "      <td>...</td>\n",
       "      <td>...</td>\n",
       "      <td>...</td>\n",
       "      <td>...</td>\n",
       "    </tr>\n",
       "    <tr>\n",
       "      <th>105</th>\n",
       "      <td>235320</td>\n",
       "      <td>103663</td>\n",
       "      <td>455</td>\n",
       "      <td>444</td>\n",
       "      <td>20</td>\n",
       "      <td>2020-05-21</td>\n",
       "    </tr>\n",
       "    <tr>\n",
       "      <th>106</th>\n",
       "      <td>235811</td>\n",
       "      <td>29372</td>\n",
       "      <td>457</td>\n",
       "      <td>446</td>\n",
       "      <td>18</td>\n",
       "      <td>2020-08-03</td>\n",
       "    </tr>\n",
       "    <tr>\n",
       "      <th>107</th>\n",
       "      <td>233887</td>\n",
       "      <td>47904</td>\n",
       "      <td>462</td>\n",
       "      <td>451</td>\n",
       "      <td>14</td>\n",
       "      <td>2020-02-05</td>\n",
       "    </tr>\n",
       "    <tr>\n",
       "      <th>108</th>\n",
       "      <td>235495</td>\n",
       "      <td>31612</td>\n",
       "      <td>472</td>\n",
       "      <td>464</td>\n",
       "      <td>25</td>\n",
       "      <td>2020-05-25</td>\n",
       "    </tr>\n",
       "    <tr>\n",
       "      <th>109</th>\n",
       "      <td>233906</td>\n",
       "      <td>118624</td>\n",
       "      <td>475</td>\n",
       "      <td>533</td>\n",
       "      <td>19</td>\n",
       "      <td>2020-03-09</td>\n",
       "    </tr>\n",
       "  </tbody>\n",
       "</table>\n",
       "<p>110 rows × 6 columns</p>\n",
       "</div>"
      ],
      "text/plain": [
       "    Nº DA PLANILHA  Qtd_carac  Qtd_tabela  Qtd_image  Qtd_estilos        Data\n",
       "0           228354     129122          14         10           26  2019-02-27\n",
       "1           235502      31123          21         17           23  2020-05-27\n",
       "2           232098     413596          26         20           19  2019-09-16\n",
       "3           225392      41144          28         24           23  2018-11-07\n",
       "4           228307      43155          40         73           25  2019-02-26\n",
       "..             ...        ...         ...        ...          ...         ...\n",
       "105         235320     103663         455        444           20  2020-05-21\n",
       "106         235811      29372         457        446           18  2020-08-03\n",
       "107         233887      47904         462        451           14  2020-02-05\n",
       "108         235495      31612         472        464           25  2020-05-25\n",
       "109         233906     118624         475        533           19  2020-03-09\n",
       "\n",
       "[110 rows x 6 columns]"
      ]
     },
     "execution_count": 6,
     "metadata": {},
     "output_type": "execute_result"
    }
   ],
   "source": [
    "df"
   ]
  },
  {
   "cell_type": "code",
   "execution_count": 7,
   "metadata": {},
   "outputs": [
    {
     "data": {
      "text/plain": [
       "Nº DA PLANILHA    object\n",
       "Qtd_carac          int64\n",
       "Qtd_tabela         int64\n",
       "Qtd_image          int64\n",
       "Qtd_estilos        int64\n",
       "Data              object\n",
       "dtype: object"
      ]
     },
     "execution_count": 7,
     "metadata": {},
     "output_type": "execute_result"
    }
   ],
   "source": [
    "# verificando tipo das variáveis\n",
    "df.dtypes"
   ]
  },
  {
   "cell_type": "code",
   "execution_count": 8,
   "metadata": {},
   "outputs": [],
   "source": [
    "# converter tipo para inteiros e data\n",
    "df[\"Nº DA PLANILHA\"] = pd.to_numeric(df[\"Nº DA PLANILHA\"], errors='coerce')\n",
    "df[\"Data\"] = pd.to_datetime(df[\"Data\"])"
   ]
  },
  {
   "cell_type": "code",
   "execution_count": 9,
   "metadata": {},
   "outputs": [
    {
     "data": {
      "text/plain": [
       "Nº DA PLANILHA           float64\n",
       "Qtd_carac                  int64\n",
       "Qtd_tabela                 int64\n",
       "Qtd_image                  int64\n",
       "Qtd_estilos                int64\n",
       "Data              datetime64[ns]\n",
       "dtype: object"
      ]
     },
     "execution_count": 9,
     "metadata": {},
     "output_type": "execute_result"
    }
   ],
   "source": [
    "df.dtypes"
   ]
  },
  {
   "cell_type": "code",
   "execution_count": 10,
   "metadata": {},
   "outputs": [],
   "source": [
    "#Convertendo arquivo excel em dataframe\n",
    "\n",
    "excelDir =\"/Users/wpessoa/repositorios/Fluxo_Editorial/dados/\"\n",
    "excelFile_2019 = pd.read_excel(excelDir+'Exercicio_estimativa_de_paginas_2019_2020.xlsx',\"EXECUTADO 2019\")\n",
    "excelFile_2020 = pd.read_excel(excelDir+'Exercicio_estimativa_de_paginas_2019_2020.xlsx',\"EXECUTADO 2020\")\n"
   ]
  },
  {
   "cell_type": "code",
   "execution_count": 11,
   "metadata": {},
   "outputs": [
    {
     "data": {
      "text/plain": [
       "26"
      ]
     },
     "execution_count": 11,
     "metadata": {},
     "output_type": "execute_result"
    }
   ],
   "source": [
    "len(excelFile_2020.columns)"
   ]
  },
  {
   "cell_type": "code",
   "execution_count": 12,
   "metadata": {},
   "outputs": [
    {
     "data": {
      "text/plain": [
       "28"
      ]
     },
     "execution_count": 12,
     "metadata": {},
     "output_type": "execute_result"
    }
   ],
   "source": [
    "len(excelFile_2019.columns)"
   ]
  },
  {
   "cell_type": "code",
   "execution_count": 13,
   "metadata": {},
   "outputs": [],
   "source": [
    "###################################################\n",
    "# FAZER MERGE COM excelFile_2020 & excelFile_2019\n",
    "##################################################"
   ]
  },
  {
   "cell_type": "code",
   "execution_count": 14,
   "metadata": {},
   "outputs": [],
   "source": [
    "frames = [excelFile_2019, excelFile_2020]\n",
    "excelFile2 = pd.concat(frames)"
   ]
  },
  {
   "cell_type": "code",
   "execution_count": 15,
   "metadata": {},
   "outputs": [],
   "source": [
    "# reindexar o index devido ter deletado algumas linhas\n",
    "excelFile2.reset_index(drop=True, inplace=True)"
   ]
  },
  {
   "cell_type": "code",
   "execution_count": 16,
   "metadata": {},
   "outputs": [],
   "source": [
    "# selecionando apenas colunas necessárias\n",
    "colunas=['ENTIDADE','PUBLICAÇÃO','Nº de páginas WORD','Nº de páginas estimado', 'COMPLEXIDADE','FORNECEDOR','Nº DA PLANILHA','STATUS DE PGTO','Nº de páginas finais']\n",
    "excelFile2 = excelFile2[colunas]"
   ]
  },
  {
   "cell_type": "code",
   "execution_count": 17,
   "metadata": {},
   "outputs": [
    {
     "data": {
      "text/plain": [
       "Index(['ENTIDADE', 'PUBLICAÇÃO', 'Nº de páginas WORD',\n",
       "       'Nº de páginas estimado', 'COMPLEXIDADE', 'FORNECEDOR',\n",
       "       'Nº DA PLANILHA', 'STATUS DE PGTO', 'Nº de páginas finais'],\n",
       "      dtype='object')"
      ]
     },
     "execution_count": 17,
     "metadata": {},
     "output_type": "execute_result"
    }
   ],
   "source": [
    "excelFile2.columns"
   ]
  },
  {
   "cell_type": "code",
   "execution_count": 18,
   "metadata": {},
   "outputs": [
    {
     "data": {
      "text/plain": [
       "ENTIDADE                   object\n",
       "PUBLICAÇÃO                 object\n",
       "Nº de páginas WORD         object\n",
       "Nº de páginas estimado    float64\n",
       "COMPLEXIDADE               object\n",
       "FORNECEDOR                 object\n",
       "Nº DA PLANILHA             object\n",
       "STATUS DE PGTO             object\n",
       "Nº de páginas finais       object\n",
       "dtype: object"
      ]
     },
     "execution_count": 18,
     "metadata": {},
     "output_type": "execute_result"
    }
   ],
   "source": [
    "excelFile2.dtypes"
   ]
  },
  {
   "cell_type": "code",
   "execution_count": 19,
   "metadata": {},
   "outputs": [
    {
     "data": {
      "text/plain": [
       "ENTIDADE                   object\n",
       "PUBLICAÇÃO                 object\n",
       "Nº de páginas WORD         object\n",
       "Nº de páginas estimado    float64\n",
       "COMPLEXIDADE               object\n",
       "FORNECEDOR                 object\n",
       "Nº DA PLANILHA             object\n",
       "STATUS DE PGTO             object\n",
       "Nº de páginas finais       object\n",
       "dtype: object"
      ]
     },
     "execution_count": 19,
     "metadata": {},
     "output_type": "execute_result"
    }
   ],
   "source": [
    "excelFile2.dtypes"
   ]
  },
  {
   "cell_type": "code",
   "execution_count": 20,
   "metadata": {},
   "outputs": [],
   "source": [
    "#excelFile2.set_index('Nº DA PLANILHA',inplace=True)"
   ]
  },
  {
   "cell_type": "code",
   "execution_count": 21,
   "metadata": {},
   "outputs": [
    {
     "data": {
      "text/html": [
       "<div>\n",
       "<style scoped>\n",
       "    .dataframe tbody tr th:only-of-type {\n",
       "        vertical-align: middle;\n",
       "    }\n",
       "\n",
       "    .dataframe tbody tr th {\n",
       "        vertical-align: top;\n",
       "    }\n",
       "\n",
       "    .dataframe thead th {\n",
       "        text-align: right;\n",
       "    }\n",
       "</style>\n",
       "<table border=\"1\" class=\"dataframe\">\n",
       "  <thead>\n",
       "    <tr style=\"text-align: right;\">\n",
       "      <th></th>\n",
       "      <th>ENTIDADE</th>\n",
       "      <th>PUBLICAÇÃO</th>\n",
       "      <th>Nº de páginas WORD</th>\n",
       "      <th>Nº de páginas estimado</th>\n",
       "      <th>COMPLEXIDADE</th>\n",
       "      <th>FORNECEDOR</th>\n",
       "      <th>Nº DA PLANILHA</th>\n",
       "      <th>STATUS DE PGTO</th>\n",
       "      <th>Nº de páginas finais</th>\n",
       "    </tr>\n",
       "  </thead>\n",
       "  <tbody>\n",
       "    <tr>\n",
       "      <th>0</th>\n",
       "      <td>CNI</td>\n",
       "      <td>Reuso CE</td>\n",
       "      <td>87</td>\n",
       "      <td>140.0</td>\n",
       "      <td>Alta</td>\n",
       "      <td>Editorar</td>\n",
       "      <td>224323</td>\n",
       "      <td>Pago</td>\n",
       "      <td>140</td>\n",
       "    </tr>\n",
       "    <tr>\n",
       "      <th>1</th>\n",
       "      <td>CNI</td>\n",
       "      <td>Reuso PE</td>\n",
       "      <td>82</td>\n",
       "      <td>122.0</td>\n",
       "      <td>Alta</td>\n",
       "      <td>Editorar</td>\n",
       "      <td>224325</td>\n",
       "      <td>Pago</td>\n",
       "      <td>122</td>\n",
       "    </tr>\n",
       "    <tr>\n",
       "      <th>2</th>\n",
       "      <td>CNI</td>\n",
       "      <td>Processo De Internalização Dos Atos Internacio...</td>\n",
       "      <td>41</td>\n",
       "      <td>70.0</td>\n",
       "      <td>Média</td>\n",
       "      <td>Editorar</td>\n",
       "      <td>225392</td>\n",
       "      <td>Pago</td>\n",
       "      <td>52</td>\n",
       "    </tr>\n",
       "    <tr>\n",
       "      <th>3</th>\n",
       "      <td>CNI</td>\n",
       "      <td>Manual de orientações da ouvidoria do Sesi e d...</td>\n",
       "      <td>30</td>\n",
       "      <td>45.0</td>\n",
       "      <td>Baixa</td>\n",
       "      <td>Editorar</td>\n",
       "      <td>225507</td>\n",
       "      <td>Pago</td>\n",
       "      <td>32</td>\n",
       "    </tr>\n",
       "    <tr>\n",
       "      <th>4</th>\n",
       "      <td>CNI</td>\n",
       "      <td>Guia de Propriedade Intelectual para o Jornalista</td>\n",
       "      <td>36</td>\n",
       "      <td>48.0</td>\n",
       "      <td>Baixa</td>\n",
       "      <td>Editorar</td>\n",
       "      <td>225531</td>\n",
       "      <td>Pago</td>\n",
       "      <td>48</td>\n",
       "    </tr>\n",
       "    <tr>\n",
       "      <th>...</th>\n",
       "      <td>...</td>\n",
       "      <td>...</td>\n",
       "      <td>...</td>\n",
       "      <td>...</td>\n",
       "      <td>...</td>\n",
       "      <td>...</td>\n",
       "      <td>...</td>\n",
       "      <td>...</td>\n",
       "      <td>...</td>\n",
       "    </tr>\n",
       "    <tr>\n",
       "      <th>130</th>\n",
       "      <td>SENAI</td>\n",
       "      <td>Guia de Operacionalização da MSEP</td>\n",
       "      <td>56</td>\n",
       "      <td>104.0</td>\n",
       "      <td>Alta</td>\n",
       "      <td>Icomunicação</td>\n",
       "      <td>235514</td>\n",
       "      <td>Pago</td>\n",
       "      <td>72</td>\n",
       "    </tr>\n",
       "    <tr>\n",
       "      <th>131</th>\n",
       "      <td>SENAI</td>\n",
       "      <td>MSEP / 1º Guia da Prática Pedagógica</td>\n",
       "      <td>38</td>\n",
       "      <td>48.0</td>\n",
       "      <td>Baixa</td>\n",
       "      <td>Icomunicação</td>\n",
       "      <td>235700</td>\n",
       "      <td>Pago</td>\n",
       "      <td>44</td>\n",
       "    </tr>\n",
       "    <tr>\n",
       "      <th>132</th>\n",
       "      <td>SENAI</td>\n",
       "      <td>MSEP / 2º Guia da Prática Pedagógica</td>\n",
       "      <td>33</td>\n",
       "      <td>44.0</td>\n",
       "      <td>Baixa</td>\n",
       "      <td>Icomunicação</td>\n",
       "      <td>235701</td>\n",
       "      <td>Pago</td>\n",
       "      <td>40</td>\n",
       "    </tr>\n",
       "    <tr>\n",
       "      <th>133</th>\n",
       "      <td>SENAI</td>\n",
       "      <td>Guia de Operalização PSAI Sustentável</td>\n",
       "      <td>33</td>\n",
       "      <td>72.0</td>\n",
       "      <td>Baixa</td>\n",
       "      <td>Icomunicação</td>\n",
       "      <td>235710</td>\n",
       "      <td>Pago</td>\n",
       "      <td>48</td>\n",
       "    </tr>\n",
       "    <tr>\n",
       "      <th>134</th>\n",
       "      <td>SENAI</td>\n",
       "      <td>Introdução ao método do emprego apoiado</td>\n",
       "      <td>12</td>\n",
       "      <td>24.0</td>\n",
       "      <td>Baixa</td>\n",
       "      <td>Icomunicação</td>\n",
       "      <td>235813</td>\n",
       "      <td>Pago</td>\n",
       "      <td>24</td>\n",
       "    </tr>\n",
       "  </tbody>\n",
       "</table>\n",
       "<p>135 rows × 9 columns</p>\n",
       "</div>"
      ],
      "text/plain": [
       "    ENTIDADE                                         PUBLICAÇÃO  \\\n",
       "0        CNI                                           Reuso CE   \n",
       "1        CNI                                           Reuso PE   \n",
       "2        CNI  Processo De Internalização Dos Atos Internacio...   \n",
       "3        CNI  Manual de orientações da ouvidoria do Sesi e d...   \n",
       "4        CNI  Guia de Propriedade Intelectual para o Jornalista   \n",
       "..       ...                                                ...   \n",
       "130    SENAI                  Guia de Operacionalização da MSEP   \n",
       "131    SENAI               MSEP / 1º Guia da Prática Pedagógica   \n",
       "132    SENAI               MSEP / 2º Guia da Prática Pedagógica   \n",
       "133    SENAI              Guia de Operalização PSAI Sustentável   \n",
       "134    SENAI            Introdução ao método do emprego apoiado   \n",
       "\n",
       "    Nº de páginas WORD  Nº de páginas estimado COMPLEXIDADE    FORNECEDOR  \\\n",
       "0                   87                   140.0         Alta      Editorar   \n",
       "1                   82                   122.0         Alta      Editorar   \n",
       "2                   41                    70.0        Média      Editorar   \n",
       "3                   30                    45.0        Baixa      Editorar   \n",
       "4                   36                    48.0        Baixa      Editorar   \n",
       "..                 ...                     ...          ...           ...   \n",
       "130                 56                   104.0         Alta  Icomunicação   \n",
       "131                 38                    48.0        Baixa  Icomunicação   \n",
       "132                 33                    44.0        Baixa  Icomunicação   \n",
       "133                 33                    72.0        Baixa  Icomunicação   \n",
       "134                 12                    24.0        Baixa  Icomunicação   \n",
       "\n",
       "    Nº DA PLANILHA STATUS DE PGTO Nº de páginas finais  \n",
       "0           224323           Pago                  140  \n",
       "1           224325           Pago                  122  \n",
       "2           225392           Pago                   52  \n",
       "3           225507           Pago                   32  \n",
       "4           225531           Pago                   48  \n",
       "..             ...            ...                  ...  \n",
       "130         235514           Pago                   72  \n",
       "131         235700           Pago                   44  \n",
       "132         235701           Pago                   40  \n",
       "133         235710           Pago                   48  \n",
       "134         235813           Pago                   24  \n",
       "\n",
       "[135 rows x 9 columns]"
      ]
     },
     "execution_count": 21,
     "metadata": {},
     "output_type": "execute_result"
    }
   ],
   "source": [
    "excelFile2"
   ]
  },
  {
   "cell_type": "code",
   "execution_count": 22,
   "metadata": {},
   "outputs": [
    {
     "data": {
      "text/html": [
       "<div>\n",
       "<style scoped>\n",
       "    .dataframe tbody tr th:only-of-type {\n",
       "        vertical-align: middle;\n",
       "    }\n",
       "\n",
       "    .dataframe tbody tr th {\n",
       "        vertical-align: top;\n",
       "    }\n",
       "\n",
       "    .dataframe thead th {\n",
       "        text-align: right;\n",
       "    }\n",
       "</style>\n",
       "<table border=\"1\" class=\"dataframe\">\n",
       "  <thead>\n",
       "    <tr style=\"text-align: right;\">\n",
       "      <th></th>\n",
       "      <th>Nº de páginas estimado</th>\n",
       "    </tr>\n",
       "  </thead>\n",
       "  <tbody>\n",
       "    <tr>\n",
       "      <th>count</th>\n",
       "      <td>129.000000</td>\n",
       "    </tr>\n",
       "    <tr>\n",
       "      <th>mean</th>\n",
       "      <td>93.953488</td>\n",
       "    </tr>\n",
       "    <tr>\n",
       "      <th>std</th>\n",
       "      <td>72.398297</td>\n",
       "    </tr>\n",
       "    <tr>\n",
       "      <th>min</th>\n",
       "      <td>1.000000</td>\n",
       "    </tr>\n",
       "    <tr>\n",
       "      <th>25%</th>\n",
       "      <td>48.000000</td>\n",
       "    </tr>\n",
       "    <tr>\n",
       "      <th>50%</th>\n",
       "      <td>75.000000</td>\n",
       "    </tr>\n",
       "    <tr>\n",
       "      <th>75%</th>\n",
       "      <td>110.000000</td>\n",
       "    </tr>\n",
       "    <tr>\n",
       "      <th>max</th>\n",
       "      <td>440.000000</td>\n",
       "    </tr>\n",
       "  </tbody>\n",
       "</table>\n",
       "</div>"
      ],
      "text/plain": [
       "       Nº de páginas estimado\n",
       "count              129.000000\n",
       "mean                93.953488\n",
       "std                 72.398297\n",
       "min                  1.000000\n",
       "25%                 48.000000\n",
       "50%                 75.000000\n",
       "75%                110.000000\n",
       "max                440.000000"
      ]
     },
     "execution_count": 22,
     "metadata": {},
     "output_type": "execute_result"
    }
   ],
   "source": [
    "excelFile2.describe()"
   ]
  },
  {
   "cell_type": "code",
   "execution_count": 52,
   "metadata": {},
   "outputs": [
    {
     "data": {
      "text/html": [
       "<div>\n",
       "<style scoped>\n",
       "    .dataframe tbody tr th:only-of-type {\n",
       "        vertical-align: middle;\n",
       "    }\n",
       "\n",
       "    .dataframe tbody tr th {\n",
       "        vertical-align: top;\n",
       "    }\n",
       "\n",
       "    .dataframe thead th {\n",
       "        text-align: right;\n",
       "    }\n",
       "</style>\n",
       "<table border=\"1\" class=\"dataframe\">\n",
       "  <thead>\n",
       "    <tr style=\"text-align: right;\">\n",
       "      <th></th>\n",
       "      <th>ENTIDADE</th>\n",
       "      <th>PUBLICAÇÃO</th>\n",
       "      <th>Nº de páginas WORD</th>\n",
       "      <th>Nº de páginas estimado</th>\n",
       "      <th>COMPLEXIDADE</th>\n",
       "      <th>FORNECEDOR</th>\n",
       "      <th>Nº DA PLANILHA</th>\n",
       "      <th>STATUS DE PGTO</th>\n",
       "      <th>Nº de páginas finais</th>\n",
       "    </tr>\n",
       "  </thead>\n",
       "  <tbody>\n",
       "    <tr>\n",
       "      <th>75</th>\n",
       "      <td>CNI</td>\n",
       "      <td>Relatório de Atividades da DJ</td>\n",
       "      <td>1</td>\n",
       "      <td>1.0</td>\n",
       "      <td>Alta</td>\n",
       "      <td>Editorar</td>\n",
       "      <td>233694</td>\n",
       "      <td>Pago</td>\n",
       "      <td>1</td>\n",
       "    </tr>\n",
       "    <tr>\n",
       "      <th>82</th>\n",
       "      <td>SENAI</td>\n",
       "      <td>Guia Autoinstrucionais</td>\n",
       "      <td>10</td>\n",
       "      <td>40.0</td>\n",
       "      <td>Baixa</td>\n",
       "      <td>Editorar</td>\n",
       "      <td>233889</td>\n",
       "      <td>Pago</td>\n",
       "      <td>20</td>\n",
       "    </tr>\n",
       "    <tr>\n",
       "      <th>134</th>\n",
       "      <td>SENAI</td>\n",
       "      <td>Introdução ao método do emprego apoiado</td>\n",
       "      <td>12</td>\n",
       "      <td>24.0</td>\n",
       "      <td>Baixa</td>\n",
       "      <td>Icomunicação</td>\n",
       "      <td>235813</td>\n",
       "      <td>Pago</td>\n",
       "      <td>24</td>\n",
       "    </tr>\n",
       "    <tr>\n",
       "      <th>84</th>\n",
       "      <td>SENAI</td>\n",
       "      <td>Guia Microlearning</td>\n",
       "      <td>12</td>\n",
       "      <td>35.0</td>\n",
       "      <td>Baixa</td>\n",
       "      <td>Editorar</td>\n",
       "      <td>233891</td>\n",
       "      <td>Pago</td>\n",
       "      <td>22</td>\n",
       "    </tr>\n",
       "    <tr>\n",
       "      <th>95</th>\n",
       "      <td>CNI</td>\n",
       "      <td>Cartilha de Licenciamento Ambiental</td>\n",
       "      <td>15</td>\n",
       "      <td>15.0</td>\n",
       "      <td>Baixa</td>\n",
       "      <td>Editorar</td>\n",
       "      <td>233910</td>\n",
       "      <td>Pago</td>\n",
       "      <td>15</td>\n",
       "    </tr>\n",
       "    <tr>\n",
       "      <th>...</th>\n",
       "      <td>...</td>\n",
       "      <td>...</td>\n",
       "      <td>...</td>\n",
       "      <td>...</td>\n",
       "      <td>...</td>\n",
       "      <td>...</td>\n",
       "      <td>...</td>\n",
       "      <td>...</td>\n",
       "      <td>...</td>\n",
       "    </tr>\n",
       "    <tr>\n",
       "      <th>92</th>\n",
       "      <td>CNI</td>\n",
       "      <td>Agenda Legislativa 2020</td>\n",
       "      <td>207</td>\n",
       "      <td>310.0</td>\n",
       "      <td>Alta</td>\n",
       "      <td>Editorar</td>\n",
       "      <td>233908</td>\n",
       "      <td>Pago</td>\n",
       "      <td>296</td>\n",
       "    </tr>\n",
       "    <tr>\n",
       "      <th>26</th>\n",
       "      <td>CNI</td>\n",
       "      <td>30 Casos de Inovação MIOLO</td>\n",
       "      <td>214</td>\n",
       "      <td>420.0</td>\n",
       "      <td>---</td>\n",
       "      <td>Editorar</td>\n",
       "      <td>231201</td>\n",
       "      <td>Pago</td>\n",
       "      <td>340</td>\n",
       "    </tr>\n",
       "    <tr>\n",
       "      <th>38</th>\n",
       "      <td>SESI</td>\n",
       "      <td>Estudo e prospectiva para a indústria</td>\n",
       "      <td>216</td>\n",
       "      <td>300.0</td>\n",
       "      <td>Alta</td>\n",
       "      <td>Editorar</td>\n",
       "      <td>3</td>\n",
       "      <td>Pago</td>\n",
       "      <td>212</td>\n",
       "    </tr>\n",
       "    <tr>\n",
       "      <th>66</th>\n",
       "      <td>CNI</td>\n",
       "      <td>Agenda Legislativa da Indústria 2019</td>\n",
       "      <td>316</td>\n",
       "      <td>440.0</td>\n",
       "      <td>Alta</td>\n",
       "      <td>Icomunicação</td>\n",
       "      <td>228346</td>\n",
       "      <td>Pago</td>\n",
       "      <td>296</td>\n",
       "    </tr>\n",
       "    <tr>\n",
       "      <th>58</th>\n",
       "      <td>SENAI</td>\n",
       "      <td>Catálogo Itinenário</td>\n",
       "      <td>543</td>\n",
       "      <td>400.0</td>\n",
       "      <td>Alta</td>\n",
       "      <td>Editorar</td>\n",
       "      <td>233002</td>\n",
       "      <td>Pago</td>\n",
       "      <td>386</td>\n",
       "    </tr>\n",
       "  </tbody>\n",
       "</table>\n",
       "<p>128 rows × 9 columns</p>\n",
       "</div>"
      ],
      "text/plain": [
       "    ENTIDADE                               PUBLICAÇÃO Nº de páginas WORD  \\\n",
       "75       CNI            Relatório de Atividades da DJ                  1   \n",
       "82     SENAI                   Guia Autoinstrucionais                 10   \n",
       "134    SENAI  Introdução ao método do emprego apoiado                 12   \n",
       "84     SENAI                       Guia Microlearning                 12   \n",
       "95       CNI      Cartilha de Licenciamento Ambiental                 15   \n",
       "..       ...                                      ...                ...   \n",
       "92       CNI                  Agenda Legislativa 2020                207   \n",
       "26       CNI               30 Casos de Inovação MIOLO                214   \n",
       "38      SESI    Estudo e prospectiva para a indústria                216   \n",
       "66       CNI     Agenda Legislativa da Indústria 2019                316   \n",
       "58     SENAI                      Catálogo Itinenário                543   \n",
       "\n",
       "     Nº de páginas estimado COMPLEXIDADE    FORNECEDOR  Nº DA PLANILHA  \\\n",
       "75                      1.0         Alta      Editorar          233694   \n",
       "82                     40.0        Baixa      Editorar          233889   \n",
       "134                    24.0        Baixa  Icomunicação          235813   \n",
       "84                     35.0        Baixa      Editorar          233891   \n",
       "95                     15.0        Baixa      Editorar          233910   \n",
       "..                      ...          ...           ...             ...   \n",
       "92                    310.0         Alta      Editorar          233908   \n",
       "26                    420.0          ---      Editorar          231201   \n",
       "38                    300.0         Alta      Editorar               3   \n",
       "66                    440.0         Alta  Icomunicação          228346   \n",
       "58                    400.0         Alta      Editorar          233002   \n",
       "\n",
       "    STATUS DE PGTO Nº de páginas finais  \n",
       "75            Pago                    1  \n",
       "82            Pago                   20  \n",
       "134           Pago                   24  \n",
       "84            Pago                   22  \n",
       "95            Pago                   15  \n",
       "..             ...                  ...  \n",
       "92            Pago                  296  \n",
       "26            Pago                  340  \n",
       "38            Pago                  212  \n",
       "66            Pago                  296  \n",
       "58            Pago                  386  \n",
       "\n",
       "[128 rows x 9 columns]"
      ]
     },
     "execution_count": 52,
     "metadata": {},
     "output_type": "execute_result"
    }
   ],
   "source": [
    "# Verificar se tem alguma inconsistencia na planilha Excel - Quantidade de páginas por exemplo\n",
    "excelFile2.sort_values('Nº de páginas WORD')"
   ]
  },
  {
   "cell_type": "code",
   "execution_count": null,
   "metadata": {},
   "outputs": [],
   "source": []
  },
  {
   "cell_type": "code",
   "execution_count": 24,
   "metadata": {},
   "outputs": [
    {
     "data": {
      "text/plain": [
       "array(['140', '122', '52', '32', '48', 88, '66', '82', '92', '70', '96',\n",
       "       '18', '40', '46', '68', '34', '28', '86', '84', '110', '116', '98',\n",
       "       '340', '72', '112', '71', '100', '43', '76', '212', '74', '38',\n",
       "       '42', '54', '104', '386', '126', '296', '196', 'RMSE', nan, 1, 52,\n",
       "       66, 86, 68, 46, 30, 20, 22, 24, 176, 84, 98, 38, 296, 76, 15, 108,\n",
       "       120, 57, 82, 168, 162, 54, 48, 100, 36, 78, 40, 44, 62, 110, 42,\n",
       "       72], dtype=object)"
      ]
     },
     "execution_count": 24,
     "metadata": {},
     "output_type": "execute_result"
    }
   ],
   "source": [
    "excelFile2['Nº de páginas finais'].unique()"
   ]
  },
  {
   "cell_type": "code",
   "execution_count": 53,
   "metadata": {},
   "outputs": [
    {
     "ename": "TypeError",
     "evalue": "'<' not supported between instances of 'int' and 'str'",
     "output_type": "error",
     "traceback": [
      "\u001b[0;31m---------------------------------------------------------------------------\u001b[0m",
      "\u001b[0;31mTypeError\u001b[0m                                 Traceback (most recent call last)",
      "\u001b[0;32m<ipython-input-53-8b2331ce7d14>\u001b[0m in \u001b[0;36m<module>\u001b[0;34m\u001b[0m\n\u001b[1;32m      1\u001b[0m \u001b[0;31m# Verificar se tem alguma inconsistencia na planilha Excel - Quantidade de páginas por exemplo\u001b[0m\u001b[0;34m\u001b[0m\u001b[0;34m\u001b[0m\u001b[0;34m\u001b[0m\u001b[0m\n\u001b[0;32m----> 2\u001b[0;31m \u001b[0mexcelFile2\u001b[0m\u001b[0;34m.\u001b[0m\u001b[0msort_values\u001b[0m\u001b[0;34m(\u001b[0m\u001b[0;34m'Nº de páginas finais'\u001b[0m\u001b[0;34m)\u001b[0m\u001b[0;34m\u001b[0m\u001b[0;34m\u001b[0m\u001b[0m\n\u001b[0m",
      "\u001b[0;32m~/miniconda3/envs/py3/lib/python3.8/site-packages/pandas/core/frame.py\u001b[0m in \u001b[0;36msort_values\u001b[0;34m(self, by, axis, ascending, inplace, kind, na_position, ignore_index, key)\u001b[0m\n\u001b[1;32m   5298\u001b[0m                 \u001b[0mascending\u001b[0m \u001b[0;34m=\u001b[0m \u001b[0mascending\u001b[0m\u001b[0;34m[\u001b[0m\u001b[0;36m0\u001b[0m\u001b[0;34m]\u001b[0m\u001b[0;34m\u001b[0m\u001b[0;34m\u001b[0m\u001b[0m\n\u001b[1;32m   5299\u001b[0m \u001b[0;34m\u001b[0m\u001b[0m\n\u001b[0;32m-> 5300\u001b[0;31m             indexer = nargsort(\n\u001b[0m\u001b[1;32m   5301\u001b[0m                 \u001b[0mk\u001b[0m\u001b[0;34m,\u001b[0m \u001b[0mkind\u001b[0m\u001b[0;34m=\u001b[0m\u001b[0mkind\u001b[0m\u001b[0;34m,\u001b[0m \u001b[0mascending\u001b[0m\u001b[0;34m=\u001b[0m\u001b[0mascending\u001b[0m\u001b[0;34m,\u001b[0m \u001b[0mna_position\u001b[0m\u001b[0;34m=\u001b[0m\u001b[0mna_position\u001b[0m\u001b[0;34m,\u001b[0m \u001b[0mkey\u001b[0m\u001b[0;34m=\u001b[0m\u001b[0mkey\u001b[0m\u001b[0;34m\u001b[0m\u001b[0;34m\u001b[0m\u001b[0m\n\u001b[1;32m   5302\u001b[0m             )\n",
      "\u001b[0;32m~/miniconda3/envs/py3/lib/python3.8/site-packages/pandas/core/sorting.py\u001b[0m in \u001b[0;36mnargsort\u001b[0;34m(items, kind, ascending, na_position, key)\u001b[0m\n\u001b[1;32m    306\u001b[0m         \u001b[0mnon_nans\u001b[0m \u001b[0;34m=\u001b[0m \u001b[0mnon_nans\u001b[0m\u001b[0;34m[\u001b[0m\u001b[0;34m:\u001b[0m\u001b[0;34m:\u001b[0m\u001b[0;34m-\u001b[0m\u001b[0;36m1\u001b[0m\u001b[0;34m]\u001b[0m\u001b[0;34m\u001b[0m\u001b[0;34m\u001b[0m\u001b[0m\n\u001b[1;32m    307\u001b[0m         \u001b[0mnon_nan_idx\u001b[0m \u001b[0;34m=\u001b[0m \u001b[0mnon_nan_idx\u001b[0m\u001b[0;34m[\u001b[0m\u001b[0;34m:\u001b[0m\u001b[0;34m:\u001b[0m\u001b[0;34m-\u001b[0m\u001b[0;36m1\u001b[0m\u001b[0;34m]\u001b[0m\u001b[0;34m\u001b[0m\u001b[0;34m\u001b[0m\u001b[0m\n\u001b[0;32m--> 308\u001b[0;31m     \u001b[0mindexer\u001b[0m \u001b[0;34m=\u001b[0m \u001b[0mnon_nan_idx\u001b[0m\u001b[0;34m[\u001b[0m\u001b[0mnon_nans\u001b[0m\u001b[0;34m.\u001b[0m\u001b[0margsort\u001b[0m\u001b[0;34m(\u001b[0m\u001b[0mkind\u001b[0m\u001b[0;34m=\u001b[0m\u001b[0mkind\u001b[0m\u001b[0;34m)\u001b[0m\u001b[0;34m]\u001b[0m\u001b[0;34m\u001b[0m\u001b[0;34m\u001b[0m\u001b[0m\n\u001b[0m\u001b[1;32m    309\u001b[0m     \u001b[0;32mif\u001b[0m \u001b[0;32mnot\u001b[0m \u001b[0mascending\u001b[0m\u001b[0;34m:\u001b[0m\u001b[0;34m\u001b[0m\u001b[0;34m\u001b[0m\u001b[0m\n\u001b[1;32m    310\u001b[0m         \u001b[0mindexer\u001b[0m \u001b[0;34m=\u001b[0m \u001b[0mindexer\u001b[0m\u001b[0;34m[\u001b[0m\u001b[0;34m:\u001b[0m\u001b[0;34m:\u001b[0m\u001b[0;34m-\u001b[0m\u001b[0;36m1\u001b[0m\u001b[0;34m]\u001b[0m\u001b[0;34m\u001b[0m\u001b[0;34m\u001b[0m\u001b[0m\n",
      "\u001b[0;31mTypeError\u001b[0m: '<' not supported between instances of 'int' and 'str'"
     ]
    }
   ],
   "source": [
    "# Verificar se tem alguma inconsistencia na planilha Excel - Quantidade de páginas por exemplo\n",
    "excelFile2.sort_values('Nº de páginas finais')"
   ]
  },
  {
   "cell_type": "code",
   "execution_count": 26,
   "metadata": {
    "scrolled": true
   },
   "outputs": [
    {
     "data": {
      "text/plain": [
       "ENTIDADE                  6\n",
       "PUBLICAÇÃO                6\n",
       "Nº de páginas WORD        3\n",
       "Nº de páginas estimado    6\n",
       "COMPLEXIDADE              6\n",
       "FORNECEDOR                3\n",
       "Nº DA PLANILHA            6\n",
       "STATUS DE PGTO            6\n",
       "Nº de páginas finais      5\n",
       "dtype: int64"
      ]
     },
     "execution_count": 26,
     "metadata": {},
     "output_type": "execute_result"
    }
   ],
   "source": [
    "# verifiacando valores nulos\n",
    "excelFile2.isnull().sum()"
   ]
  },
  {
   "cell_type": "code",
   "execution_count": 27,
   "metadata": {},
   "outputs": [],
   "source": [
    "# retirar registro nulos\n",
    "excelFile2=excelFile2.dropna()"
   ]
  },
  {
   "cell_type": "code",
   "execution_count": 28,
   "metadata": {},
   "outputs": [
    {
     "data": {
      "text/plain": [
       "ENTIDADE                  0\n",
       "PUBLICAÇÃO                0\n",
       "Nº de páginas WORD        0\n",
       "Nº de páginas estimado    0\n",
       "COMPLEXIDADE              0\n",
       "FORNECEDOR                0\n",
       "Nº DA PLANILHA            0\n",
       "STATUS DE PGTO            0\n",
       "Nº de páginas finais      0\n",
       "dtype: int64"
      ]
     },
     "execution_count": 28,
     "metadata": {},
     "output_type": "execute_result"
    }
   ],
   "source": [
    "# verifiacando valores nulos\n",
    "excelFile2.isnull().sum()"
   ]
  },
  {
   "cell_type": "code",
   "execution_count": 29,
   "metadata": {},
   "outputs": [
    {
     "data": {
      "text/plain": [
       "ENTIDADE                   object\n",
       "PUBLICAÇÃO                 object\n",
       "Nº de páginas WORD         object\n",
       "Nº de páginas estimado    float64\n",
       "COMPLEXIDADE               object\n",
       "FORNECEDOR                 object\n",
       "Nº DA PLANILHA             object\n",
       "STATUS DE PGTO             object\n",
       "Nº de páginas finais       object\n",
       "dtype: object"
      ]
     },
     "execution_count": 29,
     "metadata": {},
     "output_type": "execute_result"
    }
   ],
   "source": [
    "excelFile2.dtypes"
   ]
  },
  {
   "cell_type": "code",
   "execution_count": 30,
   "metadata": {},
   "outputs": [
    {
     "name": "stderr",
     "output_type": "stream",
     "text": [
      "<ipython-input-30-8fdfc85dce57>:2: SettingWithCopyWarning: \n",
      "A value is trying to be set on a copy of a slice from a DataFrame.\n",
      "Try using .loc[row_indexer,col_indexer] = value instead\n",
      "\n",
      "See the caveats in the documentation: https://pandas.pydata.org/pandas-docs/stable/user_guide/indexing.html#returning-a-view-versus-a-copy\n",
      "  excelFile2[\"Nº DA PLANILHA\"] = (pd.to_numeric(excelFile2[\"Nº DA PLANILHA\"], errors='coerce').fillna(0).astype(np.int64))#,downcast='integer'))\n"
     ]
    }
   ],
   "source": [
    "import numpy as np\n",
    "excelFile2[\"Nº DA PLANILHA\"] = (pd.to_numeric(excelFile2[\"Nº DA PLANILHA\"], errors='coerce').fillna(0).astype(np.int64))#,downcast='integer'))\n",
    "#excelFile2[\"Nº DA PLANILHA\"] = excelFile2[\"Nº DA PLANILHA\"].astype('int64',errors='ignore')\n"
   ]
  },
  {
   "cell_type": "code",
   "execution_count": 31,
   "metadata": {},
   "outputs": [
    {
     "data": {
      "text/plain": [
       "ENTIDADE                   object\n",
       "PUBLICAÇÃO                 object\n",
       "Nº de páginas WORD         object\n",
       "Nº de páginas estimado    float64\n",
       "COMPLEXIDADE               object\n",
       "FORNECEDOR                 object\n",
       "Nº DA PLANILHA              int64\n",
       "STATUS DE PGTO             object\n",
       "Nº de páginas finais       object\n",
       "dtype: object"
      ]
     },
     "execution_count": 31,
     "metadata": {},
     "output_type": "execute_result"
    }
   ],
   "source": [
    "excelFile2.dtypes"
   ]
  },
  {
   "cell_type": "code",
   "execution_count": 32,
   "metadata": {},
   "outputs": [
    {
     "data": {
      "text/plain": [
       "Nº DA PLANILHA           float64\n",
       "Qtd_carac                  int64\n",
       "Qtd_tabela                 int64\n",
       "Qtd_image                  int64\n",
       "Qtd_estilos                int64\n",
       "Data              datetime64[ns]\n",
       "dtype: object"
      ]
     },
     "execution_count": 32,
     "metadata": {},
     "output_type": "execute_result"
    }
   ],
   "source": [
    "df.dtypes"
   ]
  },
  {
   "cell_type": "code",
   "execution_count": null,
   "metadata": {},
   "outputs": [],
   "source": []
  },
  {
   "cell_type": "code",
   "execution_count": 33,
   "metadata": {
    "scrolled": false
   },
   "outputs": [
    {
     "data": {
      "text/html": [
       "<div>\n",
       "<style scoped>\n",
       "    .dataframe tbody tr th:only-of-type {\n",
       "        vertical-align: middle;\n",
       "    }\n",
       "\n",
       "    .dataframe tbody tr th {\n",
       "        vertical-align: top;\n",
       "    }\n",
       "\n",
       "    .dataframe thead th {\n",
       "        text-align: right;\n",
       "    }\n",
       "</style>\n",
       "<table border=\"1\" class=\"dataframe\">\n",
       "  <thead>\n",
       "    <tr style=\"text-align: right;\">\n",
       "      <th></th>\n",
       "      <th>ENTIDADE</th>\n",
       "      <th>PUBLICAÇÃO</th>\n",
       "      <th>Nº de páginas WORD</th>\n",
       "      <th>Nº de páginas estimado</th>\n",
       "      <th>COMPLEXIDADE</th>\n",
       "      <th>FORNECEDOR</th>\n",
       "      <th>Nº DA PLANILHA</th>\n",
       "      <th>STATUS DE PGTO</th>\n",
       "      <th>Nº de páginas finais</th>\n",
       "    </tr>\n",
       "  </thead>\n",
       "  <tbody>\n",
       "    <tr>\n",
       "      <th>0</th>\n",
       "      <td>CNI</td>\n",
       "      <td>Reuso CE</td>\n",
       "      <td>87</td>\n",
       "      <td>140.0</td>\n",
       "      <td>Alta</td>\n",
       "      <td>Editorar</td>\n",
       "      <td>224323</td>\n",
       "      <td>Pago</td>\n",
       "      <td>140</td>\n",
       "    </tr>\n",
       "    <tr>\n",
       "      <th>1</th>\n",
       "      <td>CNI</td>\n",
       "      <td>Reuso PE</td>\n",
       "      <td>82</td>\n",
       "      <td>122.0</td>\n",
       "      <td>Alta</td>\n",
       "      <td>Editorar</td>\n",
       "      <td>224325</td>\n",
       "      <td>Pago</td>\n",
       "      <td>122</td>\n",
       "    </tr>\n",
       "    <tr>\n",
       "      <th>2</th>\n",
       "      <td>CNI</td>\n",
       "      <td>Processo De Internalização Dos Atos Internacio...</td>\n",
       "      <td>41</td>\n",
       "      <td>70.0</td>\n",
       "      <td>Média</td>\n",
       "      <td>Editorar</td>\n",
       "      <td>225392</td>\n",
       "      <td>Pago</td>\n",
       "      <td>52</td>\n",
       "    </tr>\n",
       "    <tr>\n",
       "      <th>3</th>\n",
       "      <td>CNI</td>\n",
       "      <td>Manual de orientações da ouvidoria do Sesi e d...</td>\n",
       "      <td>30</td>\n",
       "      <td>45.0</td>\n",
       "      <td>Baixa</td>\n",
       "      <td>Editorar</td>\n",
       "      <td>225507</td>\n",
       "      <td>Pago</td>\n",
       "      <td>32</td>\n",
       "    </tr>\n",
       "    <tr>\n",
       "      <th>4</th>\n",
       "      <td>CNI</td>\n",
       "      <td>Guia de Propriedade Intelectual para o Jornalista</td>\n",
       "      <td>36</td>\n",
       "      <td>48.0</td>\n",
       "      <td>Baixa</td>\n",
       "      <td>Editorar</td>\n",
       "      <td>225531</td>\n",
       "      <td>Pago</td>\n",
       "      <td>48</td>\n",
       "    </tr>\n",
       "    <tr>\n",
       "      <th>...</th>\n",
       "      <td>...</td>\n",
       "      <td>...</td>\n",
       "      <td>...</td>\n",
       "      <td>...</td>\n",
       "      <td>...</td>\n",
       "      <td>...</td>\n",
       "      <td>...</td>\n",
       "      <td>...</td>\n",
       "      <td>...</td>\n",
       "    </tr>\n",
       "    <tr>\n",
       "      <th>130</th>\n",
       "      <td>SENAI</td>\n",
       "      <td>Guia de Operacionalização da MSEP</td>\n",
       "      <td>56</td>\n",
       "      <td>104.0</td>\n",
       "      <td>Alta</td>\n",
       "      <td>Icomunicação</td>\n",
       "      <td>235514</td>\n",
       "      <td>Pago</td>\n",
       "      <td>72</td>\n",
       "    </tr>\n",
       "    <tr>\n",
       "      <th>131</th>\n",
       "      <td>SENAI</td>\n",
       "      <td>MSEP / 1º Guia da Prática Pedagógica</td>\n",
       "      <td>38</td>\n",
       "      <td>48.0</td>\n",
       "      <td>Baixa</td>\n",
       "      <td>Icomunicação</td>\n",
       "      <td>235700</td>\n",
       "      <td>Pago</td>\n",
       "      <td>44</td>\n",
       "    </tr>\n",
       "    <tr>\n",
       "      <th>132</th>\n",
       "      <td>SENAI</td>\n",
       "      <td>MSEP / 2º Guia da Prática Pedagógica</td>\n",
       "      <td>33</td>\n",
       "      <td>44.0</td>\n",
       "      <td>Baixa</td>\n",
       "      <td>Icomunicação</td>\n",
       "      <td>235701</td>\n",
       "      <td>Pago</td>\n",
       "      <td>40</td>\n",
       "    </tr>\n",
       "    <tr>\n",
       "      <th>133</th>\n",
       "      <td>SENAI</td>\n",
       "      <td>Guia de Operalização PSAI Sustentável</td>\n",
       "      <td>33</td>\n",
       "      <td>72.0</td>\n",
       "      <td>Baixa</td>\n",
       "      <td>Icomunicação</td>\n",
       "      <td>235710</td>\n",
       "      <td>Pago</td>\n",
       "      <td>48</td>\n",
       "    </tr>\n",
       "    <tr>\n",
       "      <th>134</th>\n",
       "      <td>SENAI</td>\n",
       "      <td>Introdução ao método do emprego apoiado</td>\n",
       "      <td>12</td>\n",
       "      <td>24.0</td>\n",
       "      <td>Baixa</td>\n",
       "      <td>Icomunicação</td>\n",
       "      <td>235813</td>\n",
       "      <td>Pago</td>\n",
       "      <td>24</td>\n",
       "    </tr>\n",
       "  </tbody>\n",
       "</table>\n",
       "<p>128 rows × 9 columns</p>\n",
       "</div>"
      ],
      "text/plain": [
       "    ENTIDADE                                         PUBLICAÇÃO  \\\n",
       "0        CNI                                           Reuso CE   \n",
       "1        CNI                                           Reuso PE   \n",
       "2        CNI  Processo De Internalização Dos Atos Internacio...   \n",
       "3        CNI  Manual de orientações da ouvidoria do Sesi e d...   \n",
       "4        CNI  Guia de Propriedade Intelectual para o Jornalista   \n",
       "..       ...                                                ...   \n",
       "130    SENAI                  Guia de Operacionalização da MSEP   \n",
       "131    SENAI               MSEP / 1º Guia da Prática Pedagógica   \n",
       "132    SENAI               MSEP / 2º Guia da Prática Pedagógica   \n",
       "133    SENAI              Guia de Operalização PSAI Sustentável   \n",
       "134    SENAI            Introdução ao método do emprego apoiado   \n",
       "\n",
       "    Nº de páginas WORD  Nº de páginas estimado COMPLEXIDADE    FORNECEDOR  \\\n",
       "0                   87                   140.0         Alta      Editorar   \n",
       "1                   82                   122.0         Alta      Editorar   \n",
       "2                   41                    70.0        Média      Editorar   \n",
       "3                   30                    45.0        Baixa      Editorar   \n",
       "4                   36                    48.0        Baixa      Editorar   \n",
       "..                 ...                     ...          ...           ...   \n",
       "130                 56                   104.0         Alta  Icomunicação   \n",
       "131                 38                    48.0        Baixa  Icomunicação   \n",
       "132                 33                    44.0        Baixa  Icomunicação   \n",
       "133                 33                    72.0        Baixa  Icomunicação   \n",
       "134                 12                    24.0        Baixa  Icomunicação   \n",
       "\n",
       "     Nº DA PLANILHA STATUS DE PGTO Nº de páginas finais  \n",
       "0            224323           Pago                  140  \n",
       "1            224325           Pago                  122  \n",
       "2            225392           Pago                   52  \n",
       "3            225507           Pago                   32  \n",
       "4            225531           Pago                   48  \n",
       "..              ...            ...                  ...  \n",
       "130          235514           Pago                   72  \n",
       "131          235700           Pago                   44  \n",
       "132          235701           Pago                   40  \n",
       "133          235710           Pago                   48  \n",
       "134          235813           Pago                   24  \n",
       "\n",
       "[128 rows x 9 columns]"
      ]
     },
     "execution_count": 33,
     "metadata": {},
     "output_type": "execute_result"
    }
   ],
   "source": [
    "excelFile2"
   ]
  },
  {
   "cell_type": "code",
   "execution_count": null,
   "metadata": {},
   "outputs": [],
   "source": []
  },
  {
   "cell_type": "code",
   "execution_count": 34,
   "metadata": {},
   "outputs": [
    {
     "data": {
      "text/html": [
       "<div>\n",
       "<style scoped>\n",
       "    .dataframe tbody tr th:only-of-type {\n",
       "        vertical-align: middle;\n",
       "    }\n",
       "\n",
       "    .dataframe tbody tr th {\n",
       "        vertical-align: top;\n",
       "    }\n",
       "\n",
       "    .dataframe thead th {\n",
       "        text-align: right;\n",
       "    }\n",
       "</style>\n",
       "<table border=\"1\" class=\"dataframe\">\n",
       "  <thead>\n",
       "    <tr style=\"text-align: right;\">\n",
       "      <th></th>\n",
       "      <th>Nº DA PLANILHA</th>\n",
       "      <th>Qtd_carac</th>\n",
       "      <th>Qtd_tabela</th>\n",
       "      <th>Qtd_image</th>\n",
       "      <th>Qtd_estilos</th>\n",
       "      <th>Data</th>\n",
       "    </tr>\n",
       "  </thead>\n",
       "  <tbody>\n",
       "    <tr>\n",
       "      <th>0</th>\n",
       "      <td>228354.0</td>\n",
       "      <td>129122</td>\n",
       "      <td>14</td>\n",
       "      <td>10</td>\n",
       "      <td>26</td>\n",
       "      <td>2019-02-27</td>\n",
       "    </tr>\n",
       "    <tr>\n",
       "      <th>1</th>\n",
       "      <td>235502.0</td>\n",
       "      <td>31123</td>\n",
       "      <td>21</td>\n",
       "      <td>17</td>\n",
       "      <td>23</td>\n",
       "      <td>2020-05-27</td>\n",
       "    </tr>\n",
       "    <tr>\n",
       "      <th>2</th>\n",
       "      <td>232098.0</td>\n",
       "      <td>413596</td>\n",
       "      <td>26</td>\n",
       "      <td>20</td>\n",
       "      <td>19</td>\n",
       "      <td>2019-09-16</td>\n",
       "    </tr>\n",
       "    <tr>\n",
       "      <th>3</th>\n",
       "      <td>225392.0</td>\n",
       "      <td>41144</td>\n",
       "      <td>28</td>\n",
       "      <td>24</td>\n",
       "      <td>23</td>\n",
       "      <td>2018-11-07</td>\n",
       "    </tr>\n",
       "    <tr>\n",
       "      <th>4</th>\n",
       "      <td>228307.0</td>\n",
       "      <td>43155</td>\n",
       "      <td>40</td>\n",
       "      <td>73</td>\n",
       "      <td>25</td>\n",
       "      <td>2019-02-26</td>\n",
       "    </tr>\n",
       "    <tr>\n",
       "      <th>...</th>\n",
       "      <td>...</td>\n",
       "      <td>...</td>\n",
       "      <td>...</td>\n",
       "      <td>...</td>\n",
       "      <td>...</td>\n",
       "      <td>...</td>\n",
       "    </tr>\n",
       "    <tr>\n",
       "      <th>105</th>\n",
       "      <td>235320.0</td>\n",
       "      <td>103663</td>\n",
       "      <td>455</td>\n",
       "      <td>444</td>\n",
       "      <td>20</td>\n",
       "      <td>2020-05-21</td>\n",
       "    </tr>\n",
       "    <tr>\n",
       "      <th>106</th>\n",
       "      <td>235811.0</td>\n",
       "      <td>29372</td>\n",
       "      <td>457</td>\n",
       "      <td>446</td>\n",
       "      <td>18</td>\n",
       "      <td>2020-08-03</td>\n",
       "    </tr>\n",
       "    <tr>\n",
       "      <th>107</th>\n",
       "      <td>233887.0</td>\n",
       "      <td>47904</td>\n",
       "      <td>462</td>\n",
       "      <td>451</td>\n",
       "      <td>14</td>\n",
       "      <td>2020-02-05</td>\n",
       "    </tr>\n",
       "    <tr>\n",
       "      <th>108</th>\n",
       "      <td>235495.0</td>\n",
       "      <td>31612</td>\n",
       "      <td>472</td>\n",
       "      <td>464</td>\n",
       "      <td>25</td>\n",
       "      <td>2020-05-25</td>\n",
       "    </tr>\n",
       "    <tr>\n",
       "      <th>109</th>\n",
       "      <td>233906.0</td>\n",
       "      <td>118624</td>\n",
       "      <td>475</td>\n",
       "      <td>533</td>\n",
       "      <td>19</td>\n",
       "      <td>2020-03-09</td>\n",
       "    </tr>\n",
       "  </tbody>\n",
       "</table>\n",
       "<p>110 rows × 6 columns</p>\n",
       "</div>"
      ],
      "text/plain": [
       "     Nº DA PLANILHA  Qtd_carac  Qtd_tabela  Qtd_image  Qtd_estilos       Data\n",
       "0          228354.0     129122          14         10           26 2019-02-27\n",
       "1          235502.0      31123          21         17           23 2020-05-27\n",
       "2          232098.0     413596          26         20           19 2019-09-16\n",
       "3          225392.0      41144          28         24           23 2018-11-07\n",
       "4          228307.0      43155          40         73           25 2019-02-26\n",
       "..              ...        ...         ...        ...          ...        ...\n",
       "105        235320.0     103663         455        444           20 2020-05-21\n",
       "106        235811.0      29372         457        446           18 2020-08-03\n",
       "107        233887.0      47904         462        451           14 2020-02-05\n",
       "108        235495.0      31612         472        464           25 2020-05-25\n",
       "109        233906.0     118624         475        533           19 2020-03-09\n",
       "\n",
       "[110 rows x 6 columns]"
      ]
     },
     "execution_count": 34,
     "metadata": {},
     "output_type": "execute_result"
    }
   ],
   "source": [
    "df"
   ]
  },
  {
   "cell_type": "code",
   "execution_count": 62,
   "metadata": {},
   "outputs": [],
   "source": [
    "# unir arquivo do NGE com o método de leitura dos arquivos Word\n",
    "#\n",
    "# Atenção >>>>>>>> alguns arquivos não passaram pelo método de leitura dos arquivos word e irão gerar valores NAN\n",
    "#\n",
    "df_final = pd.merge(excelFile2, df, on=['Nº DA PLANILHA'], how='left')"
   ]
  },
  {
   "cell_type": "code",
   "execution_count": 63,
   "metadata": {},
   "outputs": [],
   "source": [
    "# colocando ordem das colunas adequada\n",
    "excelFile2.columns\n",
    "#colunas_final = ['Nº DA PLANILHA','ENTIDADE',  'FORNECEDOR','COMPLEXIDADE', 'STATUS DE PGTO',  'Nº de páginas WORD','Nº de páginas estimado', 'Qtd_carac','Qtd_tabela', 'Qtd_image','Nº de páginas finais' ]\n",
    "colunas_final = ['Nº DA PLANILHA','ENTIDADE',  'FORNECEDOR','COMPLEXIDADE', 'STATUS DE PGTO',  'Nº de páginas WORD','Nº de páginas estimado', 'Qtd_carac','Qtd_tabela', 'Qtd_image',\"Qtd_estilos\",'Nº de páginas finais' ]\n",
    "df_final = df_final[colunas_final]\n"
   ]
  },
  {
   "cell_type": "code",
   "execution_count": 64,
   "metadata": {},
   "outputs": [
    {
     "data": {
      "text/plain": [
       "Nº DA PLANILHA             0\n",
       "ENTIDADE                   0\n",
       "FORNECEDOR                 0\n",
       "COMPLEXIDADE               0\n",
       "STATUS DE PGTO             0\n",
       "Nº de páginas WORD         0\n",
       "Nº de páginas estimado     0\n",
       "Qtd_carac                 21\n",
       "Qtd_tabela                21\n",
       "Qtd_image                 21\n",
       "Qtd_estilos               21\n",
       "Nº de páginas finais       0\n",
       "dtype: int64"
      ]
     },
     "execution_count": 64,
     "metadata": {},
     "output_type": "execute_result"
    }
   ],
   "source": [
    "# -----> verificar valores NAN \n",
    "df_final.isnull().sum()\n",
    "# OS REGISTROS COM NAN NESSE CASO FORAM OS ARQUIVOS WORD QUE NÃO FOI ENCONTRADO."
   ]
  },
  {
   "cell_type": "code",
   "execution_count": 65,
   "metadata": {},
   "outputs": [],
   "source": [
    "# retirar registro nulos\n",
    "df_final=df_final.dropna()\n",
    "# APAGOU AS LINHAS COM NAN"
   ]
  },
  {
   "cell_type": "code",
   "execution_count": 66,
   "metadata": {},
   "outputs": [
    {
     "data": {
      "text/plain": [
       "Nº DA PLANILHA            0\n",
       "ENTIDADE                  0\n",
       "FORNECEDOR                0\n",
       "COMPLEXIDADE              0\n",
       "STATUS DE PGTO            0\n",
       "Nº de páginas WORD        0\n",
       "Nº de páginas estimado    0\n",
       "Qtd_carac                 0\n",
       "Qtd_tabela                0\n",
       "Qtd_image                 0\n",
       "Qtd_estilos               0\n",
       "Nº de páginas finais      0\n",
       "dtype: int64"
      ]
     },
     "execution_count": 66,
     "metadata": {},
     "output_type": "execute_result"
    }
   ],
   "source": [
    "# -----> verificar valores NAN \n",
    "df_final.isnull().sum()"
   ]
  },
  {
   "cell_type": "code",
   "execution_count": 67,
   "metadata": {
    "scrolled": false
   },
   "outputs": [
    {
     "data": {
      "text/html": [
       "<div>\n",
       "<style scoped>\n",
       "    .dataframe tbody tr th:only-of-type {\n",
       "        vertical-align: middle;\n",
       "    }\n",
       "\n",
       "    .dataframe tbody tr th {\n",
       "        vertical-align: top;\n",
       "    }\n",
       "\n",
       "    .dataframe thead th {\n",
       "        text-align: right;\n",
       "    }\n",
       "</style>\n",
       "<table border=\"1\" class=\"dataframe\">\n",
       "  <thead>\n",
       "    <tr style=\"text-align: right;\">\n",
       "      <th></th>\n",
       "      <th>Nº DA PLANILHA</th>\n",
       "      <th>ENTIDADE</th>\n",
       "      <th>FORNECEDOR</th>\n",
       "      <th>COMPLEXIDADE</th>\n",
       "      <th>STATUS DE PGTO</th>\n",
       "      <th>Nº de páginas WORD</th>\n",
       "      <th>Nº de páginas estimado</th>\n",
       "      <th>Qtd_carac</th>\n",
       "      <th>Qtd_tabela</th>\n",
       "      <th>Qtd_image</th>\n",
       "      <th>Qtd_estilos</th>\n",
       "      <th>Nº de páginas finais</th>\n",
       "    </tr>\n",
       "  </thead>\n",
       "  <tbody>\n",
       "    <tr>\n",
       "      <th>0</th>\n",
       "      <td>224323</td>\n",
       "      <td>CNI</td>\n",
       "      <td>Editorar</td>\n",
       "      <td>Alta</td>\n",
       "      <td>Pago</td>\n",
       "      <td>87</td>\n",
       "      <td>140.0</td>\n",
       "      <td>116142.0</td>\n",
       "      <td>470.0</td>\n",
       "      <td>685.0</td>\n",
       "      <td>60.0</td>\n",
       "      <td>140</td>\n",
       "    </tr>\n",
       "    <tr>\n",
       "      <th>1</th>\n",
       "      <td>224325</td>\n",
       "      <td>CNI</td>\n",
       "      <td>Editorar</td>\n",
       "      <td>Alta</td>\n",
       "      <td>Pago</td>\n",
       "      <td>82</td>\n",
       "      <td>122.0</td>\n",
       "      <td>108307.0</td>\n",
       "      <td>76.0</td>\n",
       "      <td>94.0</td>\n",
       "      <td>69.0</td>\n",
       "      <td>122</td>\n",
       "    </tr>\n",
       "    <tr>\n",
       "      <th>2</th>\n",
       "      <td>225392</td>\n",
       "      <td>CNI</td>\n",
       "      <td>Editorar</td>\n",
       "      <td>Média</td>\n",
       "      <td>Pago</td>\n",
       "      <td>41</td>\n",
       "      <td>70.0</td>\n",
       "      <td>41144.0</td>\n",
       "      <td>28.0</td>\n",
       "      <td>24.0</td>\n",
       "      <td>23.0</td>\n",
       "      <td>52</td>\n",
       "    </tr>\n",
       "    <tr>\n",
       "      <th>3</th>\n",
       "      <td>225392</td>\n",
       "      <td>CNI</td>\n",
       "      <td>Editorar</td>\n",
       "      <td>Média</td>\n",
       "      <td>Pago</td>\n",
       "      <td>41</td>\n",
       "      <td>70.0</td>\n",
       "      <td>62913.0</td>\n",
       "      <td>397.0</td>\n",
       "      <td>639.0</td>\n",
       "      <td>21.0</td>\n",
       "      <td>52</td>\n",
       "    </tr>\n",
       "    <tr>\n",
       "      <th>5</th>\n",
       "      <td>225531</td>\n",
       "      <td>CNI</td>\n",
       "      <td>Editorar</td>\n",
       "      <td>Baixa</td>\n",
       "      <td>Pago</td>\n",
       "      <td>36</td>\n",
       "      <td>48.0</td>\n",
       "      <td>37548.0</td>\n",
       "      <td>233.0</td>\n",
       "      <td>397.0</td>\n",
       "      <td>17.0</td>\n",
       "      <td>48</td>\n",
       "    </tr>\n",
       "    <tr>\n",
       "      <th>...</th>\n",
       "      <td>...</td>\n",
       "      <td>...</td>\n",
       "      <td>...</td>\n",
       "      <td>...</td>\n",
       "      <td>...</td>\n",
       "      <td>...</td>\n",
       "      <td>...</td>\n",
       "      <td>...</td>\n",
       "      <td>...</td>\n",
       "      <td>...</td>\n",
       "      <td>...</td>\n",
       "      <td>...</td>\n",
       "    </tr>\n",
       "    <tr>\n",
       "      <th>126</th>\n",
       "      <td>235514</td>\n",
       "      <td>SENAI</td>\n",
       "      <td>Icomunicação</td>\n",
       "      <td>Alta</td>\n",
       "      <td>Pago</td>\n",
       "      <td>56</td>\n",
       "      <td>104.0</td>\n",
       "      <td>51127.0</td>\n",
       "      <td>356.0</td>\n",
       "      <td>365.0</td>\n",
       "      <td>18.0</td>\n",
       "      <td>72</td>\n",
       "    </tr>\n",
       "    <tr>\n",
       "      <th>127</th>\n",
       "      <td>235700</td>\n",
       "      <td>SENAI</td>\n",
       "      <td>Icomunicação</td>\n",
       "      <td>Baixa</td>\n",
       "      <td>Pago</td>\n",
       "      <td>38</td>\n",
       "      <td>48.0</td>\n",
       "      <td>40157.0</td>\n",
       "      <td>339.0</td>\n",
       "      <td>325.0</td>\n",
       "      <td>16.0</td>\n",
       "      <td>44</td>\n",
       "    </tr>\n",
       "    <tr>\n",
       "      <th>128</th>\n",
       "      <td>235701</td>\n",
       "      <td>SENAI</td>\n",
       "      <td>Icomunicação</td>\n",
       "      <td>Baixa</td>\n",
       "      <td>Pago</td>\n",
       "      <td>33</td>\n",
       "      <td>44.0</td>\n",
       "      <td>42499.0</td>\n",
       "      <td>293.0</td>\n",
       "      <td>303.0</td>\n",
       "      <td>15.0</td>\n",
       "      <td>40</td>\n",
       "    </tr>\n",
       "    <tr>\n",
       "      <th>129</th>\n",
       "      <td>235710</td>\n",
       "      <td>SENAI</td>\n",
       "      <td>Icomunicação</td>\n",
       "      <td>Baixa</td>\n",
       "      <td>Pago</td>\n",
       "      <td>33</td>\n",
       "      <td>72.0</td>\n",
       "      <td>28573.0</td>\n",
       "      <td>413.0</td>\n",
       "      <td>391.0</td>\n",
       "      <td>15.0</td>\n",
       "      <td>48</td>\n",
       "    </tr>\n",
       "    <tr>\n",
       "      <th>130</th>\n",
       "      <td>235813</td>\n",
       "      <td>SENAI</td>\n",
       "      <td>Icomunicação</td>\n",
       "      <td>Baixa</td>\n",
       "      <td>Pago</td>\n",
       "      <td>12</td>\n",
       "      <td>24.0</td>\n",
       "      <td>940.0</td>\n",
       "      <td>432.0</td>\n",
       "      <td>415.0</td>\n",
       "      <td>4.0</td>\n",
       "      <td>24</td>\n",
       "    </tr>\n",
       "  </tbody>\n",
       "</table>\n",
       "<p>110 rows × 12 columns</p>\n",
       "</div>"
      ],
      "text/plain": [
       "     Nº DA PLANILHA ENTIDADE    FORNECEDOR COMPLEXIDADE STATUS DE PGTO  \\\n",
       "0            224323      CNI      Editorar         Alta           Pago   \n",
       "1            224325      CNI      Editorar         Alta           Pago   \n",
       "2            225392      CNI      Editorar        Média           Pago   \n",
       "3            225392      CNI      Editorar        Média           Pago   \n",
       "5            225531      CNI      Editorar        Baixa           Pago   \n",
       "..              ...      ...           ...          ...            ...   \n",
       "126          235514    SENAI  Icomunicação         Alta           Pago   \n",
       "127          235700    SENAI  Icomunicação        Baixa           Pago   \n",
       "128          235701    SENAI  Icomunicação        Baixa           Pago   \n",
       "129          235710    SENAI  Icomunicação        Baixa           Pago   \n",
       "130          235813    SENAI  Icomunicação        Baixa           Pago   \n",
       "\n",
       "    Nº de páginas WORD  Nº de páginas estimado  Qtd_carac  Qtd_tabela  \\\n",
       "0                   87                   140.0   116142.0       470.0   \n",
       "1                   82                   122.0   108307.0        76.0   \n",
       "2                   41                    70.0    41144.0        28.0   \n",
       "3                   41                    70.0    62913.0       397.0   \n",
       "5                   36                    48.0    37548.0       233.0   \n",
       "..                 ...                     ...        ...         ...   \n",
       "126                 56                   104.0    51127.0       356.0   \n",
       "127                 38                    48.0    40157.0       339.0   \n",
       "128                 33                    44.0    42499.0       293.0   \n",
       "129                 33                    72.0    28573.0       413.0   \n",
       "130                 12                    24.0      940.0       432.0   \n",
       "\n",
       "     Qtd_image  Qtd_estilos Nº de páginas finais  \n",
       "0        685.0         60.0                  140  \n",
       "1         94.0         69.0                  122  \n",
       "2         24.0         23.0                   52  \n",
       "3        639.0         21.0                   52  \n",
       "5        397.0         17.0                   48  \n",
       "..         ...          ...                  ...  \n",
       "126      365.0         18.0                   72  \n",
       "127      325.0         16.0                   44  \n",
       "128      303.0         15.0                   40  \n",
       "129      391.0         15.0                   48  \n",
       "130      415.0          4.0                   24  \n",
       "\n",
       "[110 rows x 12 columns]"
      ]
     },
     "execution_count": 67,
     "metadata": {},
     "output_type": "execute_result"
    }
   ],
   "source": [
    "df_final"
   ]
  },
  {
   "cell_type": "code",
   "execution_count": 68,
   "metadata": {},
   "outputs": [],
   "source": [
    "#print(df_final[\"qtd_pag_word\"],(df_final[\"qtd_carc\"]/1430))"
   ]
  },
  {
   "cell_type": "code",
   "execution_count": 69,
   "metadata": {},
   "outputs": [],
   "source": [
    "# reindexar o index devido ter deletado algumas linhas\n",
    "df_final.reset_index(drop=True, inplace=True)"
   ]
  },
  {
   "cell_type": "code",
   "execution_count": 70,
   "metadata": {},
   "outputs": [],
   "source": [
    "#colunas_final = ['Nº DA PLANILHA','ENTIDADE', 'PUBLICAÇÃO', 'FORNECEDOR','COMPLEXIDADE', 'STATUS DE PGTO', 'Data', 'Nº de páginas WORD', 'Nº de páginas estimado', 'Qtd_carac','Qtd_tabela', 'Qtd_image','Nº de páginas finais' ]\n",
    "#df_final_num = df_final[colunas_final]\n"
   ]
  },
  {
   "cell_type": "code",
   "execution_count": 71,
   "metadata": {
    "scrolled": true
   },
   "outputs": [
    {
     "data": {
      "text/plain": [
       "Nº DA PLANILHA              int64\n",
       "ENTIDADE                   object\n",
       "FORNECEDOR                 object\n",
       "COMPLEXIDADE               object\n",
       "STATUS DE PGTO             object\n",
       "Nº de páginas WORD         object\n",
       "Nº de páginas estimado    float64\n",
       "Qtd_carac                 float64\n",
       "Qtd_tabela                float64\n",
       "Qtd_image                 float64\n",
       "Qtd_estilos               float64\n",
       "Nº de páginas finais       object\n",
       "dtype: object"
      ]
     },
     "execution_count": 71,
     "metadata": {},
     "output_type": "execute_result"
    }
   ],
   "source": [
    "df_final.dtypes"
   ]
  },
  {
   "cell_type": "code",
   "execution_count": 72,
   "metadata": {
    "scrolled": false
   },
   "outputs": [
    {
     "data": {
      "text/html": [
       "<div>\n",
       "<style scoped>\n",
       "    .dataframe tbody tr th:only-of-type {\n",
       "        vertical-align: middle;\n",
       "    }\n",
       "\n",
       "    .dataframe tbody tr th {\n",
       "        vertical-align: top;\n",
       "    }\n",
       "\n",
       "    .dataframe thead th {\n",
       "        text-align: right;\n",
       "    }\n",
       "</style>\n",
       "<table border=\"1\" class=\"dataframe\">\n",
       "  <thead>\n",
       "    <tr style=\"text-align: right;\">\n",
       "      <th></th>\n",
       "      <th>Nº DA PLANILHA</th>\n",
       "      <th>ENTIDADE</th>\n",
       "      <th>FORNECEDOR</th>\n",
       "      <th>COMPLEXIDADE</th>\n",
       "      <th>STATUS DE PGTO</th>\n",
       "      <th>Nº de páginas WORD</th>\n",
       "      <th>Nº de páginas estimado</th>\n",
       "      <th>Qtd_carac</th>\n",
       "      <th>Qtd_tabela</th>\n",
       "      <th>Qtd_image</th>\n",
       "      <th>Qtd_estilos</th>\n",
       "      <th>Nº de páginas finais</th>\n",
       "    </tr>\n",
       "  </thead>\n",
       "  <tbody>\n",
       "    <tr>\n",
       "      <th>0</th>\n",
       "      <td>224323</td>\n",
       "      <td>CNI</td>\n",
       "      <td>Editorar</td>\n",
       "      <td>Alta</td>\n",
       "      <td>Pago</td>\n",
       "      <td>87</td>\n",
       "      <td>140.0</td>\n",
       "      <td>116142.0</td>\n",
       "      <td>470.0</td>\n",
       "      <td>685.0</td>\n",
       "      <td>60.0</td>\n",
       "      <td>140</td>\n",
       "    </tr>\n",
       "    <tr>\n",
       "      <th>1</th>\n",
       "      <td>224325</td>\n",
       "      <td>CNI</td>\n",
       "      <td>Editorar</td>\n",
       "      <td>Alta</td>\n",
       "      <td>Pago</td>\n",
       "      <td>82</td>\n",
       "      <td>122.0</td>\n",
       "      <td>108307.0</td>\n",
       "      <td>76.0</td>\n",
       "      <td>94.0</td>\n",
       "      <td>69.0</td>\n",
       "      <td>122</td>\n",
       "    </tr>\n",
       "    <tr>\n",
       "      <th>2</th>\n",
       "      <td>225392</td>\n",
       "      <td>CNI</td>\n",
       "      <td>Editorar</td>\n",
       "      <td>Média</td>\n",
       "      <td>Pago</td>\n",
       "      <td>41</td>\n",
       "      <td>70.0</td>\n",
       "      <td>41144.0</td>\n",
       "      <td>28.0</td>\n",
       "      <td>24.0</td>\n",
       "      <td>23.0</td>\n",
       "      <td>52</td>\n",
       "    </tr>\n",
       "    <tr>\n",
       "      <th>3</th>\n",
       "      <td>225392</td>\n",
       "      <td>CNI</td>\n",
       "      <td>Editorar</td>\n",
       "      <td>Média</td>\n",
       "      <td>Pago</td>\n",
       "      <td>41</td>\n",
       "      <td>70.0</td>\n",
       "      <td>62913.0</td>\n",
       "      <td>397.0</td>\n",
       "      <td>639.0</td>\n",
       "      <td>21.0</td>\n",
       "      <td>52</td>\n",
       "    </tr>\n",
       "    <tr>\n",
       "      <th>4</th>\n",
       "      <td>225531</td>\n",
       "      <td>CNI</td>\n",
       "      <td>Editorar</td>\n",
       "      <td>Baixa</td>\n",
       "      <td>Pago</td>\n",
       "      <td>36</td>\n",
       "      <td>48.0</td>\n",
       "      <td>37548.0</td>\n",
       "      <td>233.0</td>\n",
       "      <td>397.0</td>\n",
       "      <td>17.0</td>\n",
       "      <td>48</td>\n",
       "    </tr>\n",
       "  </tbody>\n",
       "</table>\n",
       "</div>"
      ],
      "text/plain": [
       "   Nº DA PLANILHA ENTIDADE FORNECEDOR COMPLEXIDADE STATUS DE PGTO  \\\n",
       "0          224323      CNI   Editorar         Alta           Pago   \n",
       "1          224325      CNI   Editorar         Alta           Pago   \n",
       "2          225392      CNI   Editorar        Média           Pago   \n",
       "3          225392      CNI   Editorar        Média           Pago   \n",
       "4          225531      CNI   Editorar        Baixa           Pago   \n",
       "\n",
       "  Nº de páginas WORD  Nº de páginas estimado  Qtd_carac  Qtd_tabela  \\\n",
       "0                 87                   140.0   116142.0       470.0   \n",
       "1                 82                   122.0   108307.0        76.0   \n",
       "2                 41                    70.0    41144.0        28.0   \n",
       "3                 41                    70.0    62913.0       397.0   \n",
       "4                 36                    48.0    37548.0       233.0   \n",
       "\n",
       "   Qtd_image  Qtd_estilos Nº de páginas finais  \n",
       "0      685.0         60.0                  140  \n",
       "1       94.0         69.0                  122  \n",
       "2       24.0         23.0                   52  \n",
       "3      639.0         21.0                   52  \n",
       "4      397.0         17.0                   48  "
      ]
     },
     "execution_count": 72,
     "metadata": {},
     "output_type": "execute_result"
    }
   ],
   "source": [
    "df_final.head()"
   ]
  },
  {
   "cell_type": "code",
   "execution_count": 73,
   "metadata": {},
   "outputs": [],
   "source": [
    "# alterar campos typo string para categóricos \n",
    "df_final['ENTIDADE'] = df_final['ENTIDADE'].astype('category')\n",
    "df_final['COMPLEXIDADE'] = df_final['COMPLEXIDADE'].astype('category')\n",
    "df_final['FORNECEDOR'] = df_final['FORNECEDOR'].astype('category')\n",
    "df_final['STATUS DE PGTO'] = df_final['STATUS DE PGTO'].astype('category')"
   ]
  },
  {
   "cell_type": "code",
   "execution_count": 74,
   "metadata": {},
   "outputs": [],
   "source": [
    "# SOBRE O AVISO: A value is trying to be set on a copy of a slice from a dataframe\n",
    "# https://paulovasconcellos.com.br/o-que-%C3%A9-a-value-is-trying-to-be-set-on-a-copy-of-a-slice-from-a-dataframe-e85f744d8be1\n"
   ]
  },
  {
   "cell_type": "code",
   "execution_count": 75,
   "metadata": {},
   "outputs": [],
   "source": [
    "# alterar campos typo categóricos para numérico\n",
    "# aplicando .cat.codes em cada uma dessas colunas\n",
    "df_final['ENTIDADE'] = df_final['ENTIDADE'].cat.codes\n",
    "df_final['COMPLEXIDADE'] = df_final['COMPLEXIDADE'].cat.codes\n",
    "df_final['FORNECEDOR'] = df_final['FORNECEDOR'].cat.codes\n",
    "df_final['STATUS DE PGTO'] = df_final['STATUS DE PGTO'].cat.codes"
   ]
  },
  {
   "cell_type": "code",
   "execution_count": 76,
   "metadata": {},
   "outputs": [],
   "source": [
    "df_final['Nº de páginas WORD'] = df_final['Nº de páginas WORD'].astype('int')"
   ]
  },
  {
   "cell_type": "code",
   "execution_count": 77,
   "metadata": {},
   "outputs": [],
   "source": [
    "# Verificar se tem alguma inconsistencia na planilha Excel - Quantidade de páginas por exemplo\n",
    "df_final.sort_values('Nº de páginas WORD')\n",
    "\n",
    "# eliminar linhas com menos de 10 páginas\n",
    "filtro  = df_final['Nº de páginas WORD'] > 10\n",
    "df_final = df_final[filtro]\n"
   ]
  },
  {
   "cell_type": "code",
   "execution_count": 78,
   "metadata": {},
   "outputs": [
    {
     "data": {
      "text/plain": [
       "Nº DA PLANILHA              int64\n",
       "ENTIDADE                     int8\n",
       "FORNECEDOR                   int8\n",
       "COMPLEXIDADE                 int8\n",
       "STATUS DE PGTO               int8\n",
       "Nº de páginas WORD          int64\n",
       "Nº de páginas estimado    float64\n",
       "Qtd_carac                 float64\n",
       "Qtd_tabela                float64\n",
       "Qtd_image                 float64\n",
       "Qtd_estilos               float64\n",
       "Nº de páginas finais       object\n",
       "dtype: object"
      ]
     },
     "execution_count": 78,
     "metadata": {},
     "output_type": "execute_result"
    }
   ],
   "source": [
    "df_final.dtypes"
   ]
  },
  {
   "cell_type": "code",
   "execution_count": 79,
   "metadata": {},
   "outputs": [
    {
     "data": {
      "text/html": [
       "<div>\n",
       "<style scoped>\n",
       "    .dataframe tbody tr th:only-of-type {\n",
       "        vertical-align: middle;\n",
       "    }\n",
       "\n",
       "    .dataframe tbody tr th {\n",
       "        vertical-align: top;\n",
       "    }\n",
       "\n",
       "    .dataframe thead th {\n",
       "        text-align: right;\n",
       "    }\n",
       "</style>\n",
       "<table border=\"1\" class=\"dataframe\">\n",
       "  <thead>\n",
       "    <tr style=\"text-align: right;\">\n",
       "      <th></th>\n",
       "      <th>Nº DA PLANILHA</th>\n",
       "      <th>ENTIDADE</th>\n",
       "      <th>FORNECEDOR</th>\n",
       "      <th>COMPLEXIDADE</th>\n",
       "      <th>STATUS DE PGTO</th>\n",
       "      <th>Nº de páginas WORD</th>\n",
       "      <th>Nº de páginas estimado</th>\n",
       "      <th>Qtd_carac</th>\n",
       "      <th>Qtd_tabela</th>\n",
       "      <th>Qtd_image</th>\n",
       "      <th>Qtd_estilos</th>\n",
       "      <th>Nº de páginas finais</th>\n",
       "    </tr>\n",
       "  </thead>\n",
       "  <tbody>\n",
       "    <tr>\n",
       "      <th>0</th>\n",
       "      <td>224323</td>\n",
       "      <td>0</td>\n",
       "      <td>0</td>\n",
       "      <td>1</td>\n",
       "      <td>0</td>\n",
       "      <td>87</td>\n",
       "      <td>140.0</td>\n",
       "      <td>116142.0</td>\n",
       "      <td>470.0</td>\n",
       "      <td>685.0</td>\n",
       "      <td>60.0</td>\n",
       "      <td>140</td>\n",
       "    </tr>\n",
       "    <tr>\n",
       "      <th>1</th>\n",
       "      <td>224325</td>\n",
       "      <td>0</td>\n",
       "      <td>0</td>\n",
       "      <td>1</td>\n",
       "      <td>0</td>\n",
       "      <td>82</td>\n",
       "      <td>122.0</td>\n",
       "      <td>108307.0</td>\n",
       "      <td>76.0</td>\n",
       "      <td>94.0</td>\n",
       "      <td>69.0</td>\n",
       "      <td>122</td>\n",
       "    </tr>\n",
       "    <tr>\n",
       "      <th>2</th>\n",
       "      <td>225392</td>\n",
       "      <td>0</td>\n",
       "      <td>0</td>\n",
       "      <td>3</td>\n",
       "      <td>0</td>\n",
       "      <td>41</td>\n",
       "      <td>70.0</td>\n",
       "      <td>41144.0</td>\n",
       "      <td>28.0</td>\n",
       "      <td>24.0</td>\n",
       "      <td>23.0</td>\n",
       "      <td>52</td>\n",
       "    </tr>\n",
       "    <tr>\n",
       "      <th>3</th>\n",
       "      <td>225392</td>\n",
       "      <td>0</td>\n",
       "      <td>0</td>\n",
       "      <td>3</td>\n",
       "      <td>0</td>\n",
       "      <td>41</td>\n",
       "      <td>70.0</td>\n",
       "      <td>62913.0</td>\n",
       "      <td>397.0</td>\n",
       "      <td>639.0</td>\n",
       "      <td>21.0</td>\n",
       "      <td>52</td>\n",
       "    </tr>\n",
       "    <tr>\n",
       "      <th>4</th>\n",
       "      <td>225531</td>\n",
       "      <td>0</td>\n",
       "      <td>0</td>\n",
       "      <td>2</td>\n",
       "      <td>0</td>\n",
       "      <td>36</td>\n",
       "      <td>48.0</td>\n",
       "      <td>37548.0</td>\n",
       "      <td>233.0</td>\n",
       "      <td>397.0</td>\n",
       "      <td>17.0</td>\n",
       "      <td>48</td>\n",
       "    </tr>\n",
       "  </tbody>\n",
       "</table>\n",
       "</div>"
      ],
      "text/plain": [
       "   Nº DA PLANILHA  ENTIDADE  FORNECEDOR  COMPLEXIDADE  STATUS DE PGTO  \\\n",
       "0          224323         0           0             1               0   \n",
       "1          224325         0           0             1               0   \n",
       "2          225392         0           0             3               0   \n",
       "3          225392         0           0             3               0   \n",
       "4          225531         0           0             2               0   \n",
       "\n",
       "   Nº de páginas WORD  Nº de páginas estimado  Qtd_carac  Qtd_tabela  \\\n",
       "0                  87                   140.0   116142.0       470.0   \n",
       "1                  82                   122.0   108307.0        76.0   \n",
       "2                  41                    70.0    41144.0        28.0   \n",
       "3                  41                    70.0    62913.0       397.0   \n",
       "4                  36                    48.0    37548.0       233.0   \n",
       "\n",
       "   Qtd_image  Qtd_estilos Nº de páginas finais  \n",
       "0      685.0         60.0                  140  \n",
       "1       94.0         69.0                  122  \n",
       "2       24.0         23.0                   52  \n",
       "3      639.0         21.0                   52  \n",
       "4      397.0         17.0                   48  "
      ]
     },
     "execution_count": 79,
     "metadata": {},
     "output_type": "execute_result"
    }
   ],
   "source": [
    "df_final.head()"
   ]
  },
  {
   "cell_type": "code",
   "execution_count": 80,
   "metadata": {},
   "outputs": [
    {
     "data": {
      "text/plain": [
       "Index(['Nº DA PLANILHA', 'ENTIDADE', 'FORNECEDOR', 'COMPLEXIDADE',\n",
       "       'STATUS DE PGTO', 'Nº de páginas WORD', 'Nº de páginas estimado',\n",
       "       'Qtd_carac', 'Qtd_tabela', 'Qtd_image', 'Qtd_estilos',\n",
       "       'Nº de páginas finais'],\n",
       "      dtype='object')"
      ]
     },
     "execution_count": 80,
     "metadata": {},
     "output_type": "execute_result"
    }
   ],
   "source": [
    "df_final.columns"
   ]
  },
  {
   "cell_type": "code",
   "execution_count": 81,
   "metadata": {},
   "outputs": [],
   "source": [
    "# trocar type float por int\n",
    "#df_final['Nº DA PLANILHA'] = df_final['Nº DA PLANILHA'].astype('int')\n",
    "#df_final['Nº DA PLANILHA'] = df_final['Nº DA PLANILHA'].astype('int')"
   ]
  },
  {
   "cell_type": "code",
   "execution_count": 82,
   "metadata": {},
   "outputs": [],
   "source": [
    "# inserir zeros no lugar do valor NAN\n",
    "#df_final['Qtd_carac']= df_final['Qtd_carac'].fillna(0)\n",
    "#df_final['Qtd_tabela'] = df_final['Qtd_tabela'].fillna(0)\n",
    "#df_final['Qtd_image'] = df_final['Qtd_image'].fillna(0)\n"
   ]
  },
  {
   "cell_type": "code",
   "execution_count": 83,
   "metadata": {},
   "outputs": [
    {
     "name": "stderr",
     "output_type": "stream",
     "text": [
      "<ipython-input-83-0c697c469c6d>:3: SettingWithCopyWarning: \n",
      "A value is trying to be set on a copy of a slice from a DataFrame.\n",
      "Try using .loc[row_indexer,col_indexer] = value instead\n",
      "\n",
      "See the caveats in the documentation: https://pandas.pydata.org/pandas-docs/stable/user_guide/indexing.html#returning-a-view-versus-a-copy\n",
      "  df_final['Qtd_carac'] = df_final['Qtd_carac'].astype('int')\n",
      "<ipython-input-83-0c697c469c6d>:4: SettingWithCopyWarning: \n",
      "A value is trying to be set on a copy of a slice from a DataFrame.\n",
      "Try using .loc[row_indexer,col_indexer] = value instead\n",
      "\n",
      "See the caveats in the documentation: https://pandas.pydata.org/pandas-docs/stable/user_guide/indexing.html#returning-a-view-versus-a-copy\n",
      "  df_final['Qtd_tabela'] = df_final['Qtd_tabela'].astype('int')\n",
      "<ipython-input-83-0c697c469c6d>:5: SettingWithCopyWarning: \n",
      "A value is trying to be set on a copy of a slice from a DataFrame.\n",
      "Try using .loc[row_indexer,col_indexer] = value instead\n",
      "\n",
      "See the caveats in the documentation: https://pandas.pydata.org/pandas-docs/stable/user_guide/indexing.html#returning-a-view-versus-a-copy\n",
      "  df_final['Qtd_image'] = df_final['Qtd_image'].astype('int')\n",
      "<ipython-input-83-0c697c469c6d>:7: SettingWithCopyWarning: \n",
      "A value is trying to be set on a copy of a slice from a DataFrame.\n",
      "Try using .loc[row_indexer,col_indexer] = value instead\n",
      "\n",
      "See the caveats in the documentation: https://pandas.pydata.org/pandas-docs/stable/user_guide/indexing.html#returning-a-view-versus-a-copy\n",
      "  df_final['Nº de páginas finais'] = df_final['Nº de páginas finais'].astype('int')\n"
     ]
    }
   ],
   "source": [
    "# trocar type float por int\n",
    "#df_final['Nº de páginas estimado'] = df_final['Nº de páginas estimado'].astype('int')\n",
    "df_final['Qtd_carac'] = df_final['Qtd_carac'].astype('int')\n",
    "df_final['Qtd_tabela'] = df_final['Qtd_tabela'].astype('int')\n",
    "df_final['Qtd_image'] = df_final['Qtd_image'].astype('int')\n",
    "\n",
    "df_final['Nº de páginas finais'] = df_final['Nº de páginas finais'].astype('int')"
   ]
  },
  {
   "cell_type": "code",
   "execution_count": 84,
   "metadata": {},
   "outputs": [
    {
     "data": {
      "text/plain": [
       "Index(['Nº DA PLANILHA', 'ENTIDADE', 'FORNECEDOR', 'COMPLEXIDADE',\n",
       "       'STATUS DE PGTO', 'Nº de páginas WORD', 'Nº de páginas estimado',\n",
       "       'Qtd_carac', 'Qtd_tabela', 'Qtd_image', 'Qtd_estilos',\n",
       "       'Nº de páginas finais'],\n",
       "      dtype='object')"
      ]
     },
     "execution_count": 84,
     "metadata": {},
     "output_type": "execute_result"
    }
   ],
   "source": [
    "df_final.columns"
   ]
  },
  {
   "cell_type": "code",
   "execution_count": 85,
   "metadata": {},
   "outputs": [
    {
     "data": {
      "text/plain": [
       "Nº DA PLANILHA              int64\n",
       "ENTIDADE                     int8\n",
       "FORNECEDOR                   int8\n",
       "COMPLEXIDADE                 int8\n",
       "STATUS DE PGTO               int8\n",
       "Nº de páginas WORD          int64\n",
       "Nº de páginas estimado    float64\n",
       "Qtd_carac                   int64\n",
       "Qtd_tabela                  int64\n",
       "Qtd_image                   int64\n",
       "Qtd_estilos               float64\n",
       "Nº de páginas finais        int64\n",
       "dtype: object"
      ]
     },
     "execution_count": 85,
     "metadata": {},
     "output_type": "execute_result"
    }
   ],
   "source": [
    "df_final.dtypes"
   ]
  },
  {
   "cell_type": "code",
   "execution_count": 86,
   "metadata": {},
   "outputs": [
    {
     "name": "stderr",
     "output_type": "stream",
     "text": [
      "/Users/wpessoa/miniconda3/envs/py3/lib/python3.8/site-packages/pandas/core/frame.py:4293: SettingWithCopyWarning: \n",
      "A value is trying to be set on a copy of a slice from a DataFrame\n",
      "\n",
      "See the caveats in the documentation: https://pandas.pydata.org/pandas-docs/stable/user_guide/indexing.html#returning-a-view-versus-a-copy\n",
      "  return super().rename(\n"
     ]
    }
   ],
   "source": [
    "#renomear colunas\n",
    "#df_final.rename(columns={'Nº DA PLANILHA': 'id','ENTIDADE':\"entidade\",'FORNECEDOR':\"fornecedor\", 'COMPLEXIDADE':\"complexidade\",\n",
    "#                         'STATUS DE PGTO':\"stat_pagto\",'Nº de páginas WORD':\"qtd_pag_word\", \n",
    "#                         'Nº de páginas estimado':\"qtd_pag_estimado\", 'Qtd_carac':\"qtd_carc\",\n",
    "#       'Qtd_tabela':\"qtd_tabela\", 'Qtd_image': \"qtd_image\", 'Nº de páginas finais':\"pag_final\"} , inplace = True)\n",
    "\n",
    "df_final.rename(columns={'Nº DA PLANILHA': 'id','ENTIDADE':\"entidade\",'FORNECEDOR':\"fornecedor\", 'COMPLEXIDADE':\"complexidade\",\n",
    "                         'STATUS DE PGTO':\"stat_pagto\",'Nº de páginas WORD':\"qtd_pag_word\", \n",
    "                         'Nº de páginas estimado':\"qtd_pag_estimado\", 'Qtd_carac':\"qtd_carc\",\n",
    "       'Qtd_tabela':\"qtd_tabela\", 'Qtd_image': \"qtd_image\",\"Qtd_estilos\":\"qtd_estilos\", 'Nº de páginas finais':\"pag_final\"} , inplace = True)\n",
    "\n"
   ]
  },
  {
   "cell_type": "code",
   "execution_count": 87,
   "metadata": {
    "scrolled": true
   },
   "outputs": [],
   "source": [
    "# gerar arquivo csv para arquivo tratado\n",
    "\n",
    "df_final.to_csv(\"nge_dados_input.csv\",index=False )\n",
    "\n",
    "#data = pd.read_csv(\"nge_dados_input.csv\")\n",
    "#df_final.to_csv(index=False)\n",
    "#df_final.to_csv(\"nge_dados_input.csv\", data = imprimir_ano)\n"
   ]
  },
  {
   "cell_type": "code",
   "execution_count": null,
   "metadata": {},
   "outputs": [],
   "source": []
  },
  {
   "cell_type": "code",
   "execution_count": null,
   "metadata": {},
   "outputs": [],
   "source": []
  }
 ],
 "metadata": {
  "kernelspec": {
   "display_name": "Python 3",
   "language": "python",
   "name": "python3"
  },
  "language_info": {
   "codemirror_mode": {
    "name": "ipython",
    "version": 3
   },
   "file_extension": ".py",
   "mimetype": "text/x-python",
   "name": "python",
   "nbconvert_exporter": "python",
   "pygments_lexer": "ipython3",
   "version": "3.8.5"
  }
 },
 "nbformat": 4,
 "nbformat_minor": 4
}
