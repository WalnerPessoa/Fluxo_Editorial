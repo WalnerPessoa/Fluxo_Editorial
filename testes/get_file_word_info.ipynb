{
 "cells": [
  {
   "cell_type": "code",
   "execution_count": 1,
   "metadata": {},
   "outputs": [],
   "source": [
    "# Importar bibliotecas- verificar quais devem sair\n",
    "from os import listdir\n",
    "from os.path import isfile, join\n",
    "import docx2txt\n",
    "import docx\n",
    "import os\n",
    "import glob\n",
    "\n",
    "from os import listdir\n",
    "from os.path import isfile, join\n",
    "\n",
    "#argumentos \n",
    "#fileDir = r\"/Users/wpessoa/repositorios/Fluxo_Editorial/words/\"\n",
    "#fileExt = r\".docx\"\n",
    "\n",
    "def get_file_word_info(fileDir, fileExt):\n",
    "    while True:\n",
    "        try:\n",
    "            onlyfiles = [_ for _ in os.listdir(fileDir) if _.endswith(fileExt)]\n",
    "            indice = 0\n",
    "            image_array=[]\n",
    "            table_chunks = []\n",
    "\n",
    "            # abrir conecção com o arquivo Word \n",
    "            doc = docx.Document(files_array[indice])\n",
    "\n",
    "            # data criação\n",
    "            dt_doc = doc.core_properties.created\n",
    "            # ler em cada parágrafo dentro do arquivo Word\n",
    "            paragra= [p.text for p in doc.paragraphs]\n",
    "\n",
    "            # extai a quantidade de caracteres\n",
    "            caracteres = docx2txt.process(files_array[indice])\n",
    "\n",
    "            # gerar um array com tamanho de todas as imagens\n",
    "            for image in doc.inline_shapes:\n",
    "                image_array.append([image.width, image.height])\n",
    "                # print (image.width, image.height)\n",
    "\n",
    "            # gerar um array com todas as tabelas\n",
    "            for table in doc.tables:\n",
    "                table_chunks.append(table)\n",
    "            return(dt_doc,len(caracteres),len(image_array),len(table_chunks))\n",
    "            break\n",
    "        except ValueError:\n",
    "            print(\"Oops!  erro no método verificar diret'ório e extensão do arquivos no argumento desse método\")\n",
    "\n",
    "            \n",
    "            \n",
    "            \n",
    "\n",
    "    "
   ]
  },
  {
   "cell_type": "code",
   "execution_count": 40,
   "metadata": {},
   "outputs": [],
   "source": [
    "#### retomando teste para descobrir como achar numero de página do Word ###############\n",
    "#### LER PDF -> https://www.datacamp.com/community/tutorials/reading-and-editing-pdfs-and-word-documents-from-python"
   ]
  },
  {
   "cell_type": "code",
   "execution_count": 17,
   "metadata": {},
   "outputs": [],
   "source": [
    "fileExt = r\".docx\"\n",
    "fileDir = r\"/Users/wpessoa/repositorios/NGE/words_2019/\"\n",
    "file=\"ID224323-Reuso_CE-normalizado_revisado_final.docx\"\n",
    "table_chunks = []\n"
   ]
  },
  {
   "cell_type": "code",
   "execution_count": 39,
   "metadata": {},
   "outputs": [
    {
     "ename": "AttributeError",
     "evalue": "'_io.TextIOWrapper' object has no attribute 'encode'",
     "output_type": "error",
     "traceback": [
      "\u001b[0;31m---------------------------------------------------------------------------\u001b[0m",
      "\u001b[0;31mAttributeError\u001b[0m                            Traceback (most recent call last)",
      "\u001b[0;32m<ipython-input-39-c06495e1cebc>\u001b[0m in \u001b[0;36m<module>\u001b[0;34m\u001b[0m\n\u001b[1;32m      3\u001b[0m \u001b[0mDummyFile\u001b[0m \u001b[0;34m=\u001b[0m \u001b[0mfileDir\u001b[0m\u001b[0;34m+\u001b[0m\u001b[0mfile\u001b[0m\u001b[0;34m\u001b[0m\u001b[0;34m\u001b[0m\u001b[0m\n\u001b[1;32m      4\u001b[0m \u001b[0;32mwith\u001b[0m \u001b[0mopen\u001b[0m\u001b[0;34m(\u001b[0m\u001b[0mDummyFile\u001b[0m\u001b[0;34m)\u001b[0m \u001b[0;32mas\u001b[0m \u001b[0mf\u001b[0m\u001b[0;34m:\u001b[0m\u001b[0;34m\u001b[0m\u001b[0;34m\u001b[0m\u001b[0m\n\u001b[0;32m----> 5\u001b[0;31m     \u001b[0mf\u001b[0m\u001b[0;34m=\u001b[0m\u001b[0mf\u001b[0m\u001b[0;34m.\u001b[0m\u001b[0mencode\u001b[0m\u001b[0;34m(\u001b[0m\u001b[0;34m'utf-8'\u001b[0m\u001b[0;34m)\u001b[0m\u001b[0;34m.\u001b[0m\u001b[0mstrip\u001b[0m\u001b[0;34m(\u001b[0m\u001b[0;34m)\u001b[0m\u001b[0;34m\u001b[0m\u001b[0;34m\u001b[0m\u001b[0m\n\u001b[0m\u001b[1;32m      6\u001b[0m     \u001b[0msource_stream\u001b[0m \u001b[0;34m=\u001b[0m \u001b[0mio\u001b[0m\u001b[0;34m(\u001b[0m\u001b[0mf\u001b[0m\u001b[0;34m.\u001b[0m\u001b[0mread\u001b[0m\u001b[0;34m(\u001b[0m\u001b[0;34m)\u001b[0m\u001b[0;34m)\u001b[0m\u001b[0;34m\u001b[0m\u001b[0;34m\u001b[0m\u001b[0m\n\u001b[1;32m      7\u001b[0m \u001b[0mdocument\u001b[0m \u001b[0;34m=\u001b[0m \u001b[0mdoc\u001b[0m\u001b[0;34m(\u001b[0m\u001b[0msource_stream\u001b[0m\u001b[0;34m)\u001b[0m\u001b[0;34m\u001b[0m\u001b[0;34m\u001b[0m\u001b[0m\n",
      "\u001b[0;31mAttributeError\u001b[0m: '_io.TextIOWrapper' object has no attribute 'encode'"
     ]
    }
   ],
   "source": [
    "# a.encode('utf-8').strip()\n",
    "# f = io.StringIO(\"some initial text data\")\n",
    "\n",
    "import io\n",
    "DummyFile = fileDir+file\n",
    "with open(DummyFile) as f:\n",
    "    source_stream = io(f.read())\n",
    "document = doc(source_stream)\n",
    "source_stream.close()"
   ]
  },
  {
   "cell_type": "code",
   "execution_count": 18,
   "metadata": {},
   "outputs": [
    {
     "name": "stdout",
     "output_type": "stream",
     "text": [
      "<docx.document.Document object at 0x7fa1d2b5c480>\n"
     ]
    }
   ],
   "source": [
    "# abrir conecção com o arquivo Word \n",
    "doc = docx.Document(fileDir+'/'+file)\n",
    "print(doc)"
   ]
  },
  {
   "cell_type": "code",
   "execution_count": 19,
   "metadata": {},
   "outputs": [],
   "source": [
    "# data criação\n",
    "dt_doc = doc.core_properties.created\n",
    "# extai a quantidade de caracteres\n",
    "caracteres = docx2txt.process(fileDir+'/'+file)"
   ]
  },
  {
   "cell_type": "code",
   "execution_count": 20,
   "metadata": {},
   "outputs": [],
   "source": [
    "# gerar um array com tamanho de todas as imagens\n",
    "for image in doc.inline_shapes:\n",
    "    image_array.append([image.width, image.height])\n",
    "# print (image.width, image.height)\n",
    "\n",
    "# gerar um array com todas as tabelas\n",
    "for table in doc.tables:\n",
    "       table_chunks.append(table)"
   ]
  },
  {
   "cell_type": "code",
   "execution_count": 21,
   "metadata": {},
   "outputs": [
    {
     "name": "stdout",
     "output_type": "stream",
     "text": [
      "124996 37 50 2018-09-20\n"
     ]
    }
   ],
   "source": [
    "print(len(caracteres), len(table_chunks), len(image_array),dt_doc.date())\n"
   ]
  },
  {
   "cell_type": "code",
   "execution_count": null,
   "metadata": {},
   "outputs": [],
   "source": []
  }
 ],
 "metadata": {
  "kernelspec": {
   "display_name": "Python 3",
   "language": "python",
   "name": "python3"
  },
  "language_info": {
   "codemirror_mode": {
    "name": "ipython",
    "version": 3
   },
   "file_extension": ".py",
   "mimetype": "text/x-python",
   "name": "python",
   "nbconvert_exporter": "python",
   "pygments_lexer": "ipython3",
   "version": "3.8.5"
  }
 },
 "nbformat": 4,
 "nbformat_minor": 4
}
