{
 "cells": [
  {
   "cell_type": "code",
   "execution_count": 174,
   "metadata": {},
   "outputs": [],
   "source": [
    "import pandas as pd\n",
    "import numpy as np\n",
    "from sklearn.model_selection import RepeatedKFold\n",
    "from sklearn.model_selection import train_test_split\n",
    "\n",
    "#Importando o modelo machine learnig\n",
    "from sklearn.linear_model import LinearRegression\n",
    "from sklearn.ensemble import RandomForestClassifier"
   ]
  },
  {
   "cell_type": "code",
   "execution_count": 175,
   "metadata": {},
   "outputs": [],
   "source": [
    "# importar csv\n",
    "data = pd.read_csv(\"nge_dados_input.csv\")\n"
   ]
  },
  {
   "cell_type": "code",
   "execution_count": 176,
   "metadata": {},
   "outputs": [
    {
     "data": {
      "text/plain": [
       "id              int64\n",
       "entidade        int64\n",
       "fornecedor      int64\n",
       "complexidade    int64\n",
       "stat_pagto      int64\n",
       "qtd_pag_word    int64\n",
       "qtd_carc        int64\n",
       "qtd_tabela      int64\n",
       "qtd_image       int64\n",
       "pag_final       int64\n",
       "dtype: object"
      ]
     },
     "execution_count": 176,
     "metadata": {},
     "output_type": "execute_result"
    }
   ],
   "source": [
    "data.dtypes"
   ]
  },
  {
   "cell_type": "code",
   "execution_count": 177,
   "metadata": {},
   "outputs": [
    {
     "data": {
      "text/plain": [
       "Index(['id', 'entidade', 'fornecedor', 'complexidade', 'stat_pagto',\n",
       "       'qtd_pag_word', 'qtd_carc', 'qtd_tabela', 'qtd_image', 'pag_final'],\n",
       "      dtype='object')"
      ]
     },
     "execution_count": 177,
     "metadata": {},
     "output_type": "execute_result"
    }
   ],
   "source": [
    "data.columns"
   ]
  },
  {
   "cell_type": "code",
   "execution_count": 178,
   "metadata": {},
   "outputs": [],
   "source": [
    "# prepara dados de entrada X e dados de saida Y\n",
    "colunas_X= ['entidade', 'fornecedor', 'complexidade', 'stat_pagto',\n",
    "       'qtd_pag_word', 'qtd_carc', 'qtd_tabela',\n",
    "       'qtd_image']\n",
    "colunas_y=['pag_final']\n",
    "#colunas_y=['id',  'pag_final']\n",
    "\n",
    "X = data[colunas_X]\n",
    "y = data[colunas_y]"
   ]
  },
  {
   "cell_type": "code",
   "execution_count": 179,
   "metadata": {},
   "outputs": [
    {
     "data": {
      "text/html": [
       "<div>\n",
       "<style scoped>\n",
       "    .dataframe tbody tr th:only-of-type {\n",
       "        vertical-align: middle;\n",
       "    }\n",
       "\n",
       "    .dataframe tbody tr th {\n",
       "        vertical-align: top;\n",
       "    }\n",
       "\n",
       "    .dataframe thead th {\n",
       "        text-align: right;\n",
       "    }\n",
       "</style>\n",
       "<table border=\"1\" class=\"dataframe\">\n",
       "  <thead>\n",
       "    <tr style=\"text-align: right;\">\n",
       "      <th></th>\n",
       "      <th>entidade</th>\n",
       "      <th>fornecedor</th>\n",
       "      <th>complexidade</th>\n",
       "      <th>stat_pagto</th>\n",
       "      <th>qtd_pag_word</th>\n",
       "      <th>qtd_carc</th>\n",
       "      <th>qtd_tabela</th>\n",
       "      <th>qtd_image</th>\n",
       "    </tr>\n",
       "  </thead>\n",
       "  <tbody>\n",
       "    <tr>\n",
       "      <th>88</th>\n",
       "      <td>0</td>\n",
       "      <td>0</td>\n",
       "      <td>2</td>\n",
       "      <td>0</td>\n",
       "      <td>24</td>\n",
       "      <td>32209</td>\n",
       "      <td>21</td>\n",
       "      <td>17</td>\n",
       "    </tr>\n",
       "    <tr>\n",
       "      <th>89</th>\n",
       "      <td>0</td>\n",
       "      <td>0</td>\n",
       "      <td>2</td>\n",
       "      <td>0</td>\n",
       "      <td>24</td>\n",
       "      <td>32209</td>\n",
       "      <td>7</td>\n",
       "      <td>8</td>\n",
       "    </tr>\n",
       "    <tr>\n",
       "      <th>90</th>\n",
       "      <td>0</td>\n",
       "      <td>0</td>\n",
       "      <td>1</td>\n",
       "      <td>0</td>\n",
       "      <td>59</td>\n",
       "      <td>125372</td>\n",
       "      <td>363</td>\n",
       "      <td>323</td>\n",
       "    </tr>\n",
       "    <tr>\n",
       "      <th>91</th>\n",
       "      <td>0</td>\n",
       "      <td>0</td>\n",
       "      <td>1</td>\n",
       "      <td>0</td>\n",
       "      <td>48</td>\n",
       "      <td>83759</td>\n",
       "      <td>115</td>\n",
       "      <td>205</td>\n",
       "    </tr>\n",
       "    <tr>\n",
       "      <th>92</th>\n",
       "      <td>2</td>\n",
       "      <td>1</td>\n",
       "      <td>1</td>\n",
       "      <td>0</td>\n",
       "      <td>100</td>\n",
       "      <td>75298</td>\n",
       "      <td>132</td>\n",
       "      <td>224</td>\n",
       "    </tr>\n",
       "  </tbody>\n",
       "</table>\n",
       "</div>"
      ],
      "text/plain": [
       "    entidade  fornecedor  complexidade  stat_pagto  qtd_pag_word  qtd_carc  \\\n",
       "88         0           0             2           0            24     32209   \n",
       "89         0           0             2           0            24     32209   \n",
       "90         0           0             1           0            59    125372   \n",
       "91         0           0             1           0            48     83759   \n",
       "92         2           1             1           0           100     75298   \n",
       "\n",
       "    qtd_tabela  qtd_image  \n",
       "88          21         17  \n",
       "89           7          8  \n",
       "90         363        323  \n",
       "91         115        205  \n",
       "92         132        224  "
      ]
     },
     "execution_count": 179,
     "metadata": {},
     "output_type": "execute_result"
    }
   ],
   "source": [
    "X.tail()"
   ]
  },
  {
   "cell_type": "code",
   "execution_count": 234,
   "metadata": {},
   "outputs": [
    {
     "data": {
      "text/html": [
       "<div>\n",
       "<style scoped>\n",
       "    .dataframe tbody tr th:only-of-type {\n",
       "        vertical-align: middle;\n",
       "    }\n",
       "\n",
       "    .dataframe tbody tr th {\n",
       "        vertical-align: top;\n",
       "    }\n",
       "\n",
       "    .dataframe thead th {\n",
       "        text-align: right;\n",
       "    }\n",
       "</style>\n",
       "<table border=\"1\" class=\"dataframe\">\n",
       "  <thead>\n",
       "    <tr style=\"text-align: right;\">\n",
       "      <th></th>\n",
       "      <th>id</th>\n",
       "      <th>entidade</th>\n",
       "      <th>fornecedor</th>\n",
       "      <th>complexidade</th>\n",
       "      <th>stat_pagto</th>\n",
       "      <th>qtd_pag_word</th>\n",
       "      <th>qtd_carc</th>\n",
       "      <th>qtd_tabela</th>\n",
       "      <th>qtd_image</th>\n",
       "      <th>pag_final</th>\n",
       "    </tr>\n",
       "  </thead>\n",
       "  <tbody>\n",
       "    <tr>\n",
       "      <th>0</th>\n",
       "      <td>224323</td>\n",
       "      <td>0</td>\n",
       "      <td>0</td>\n",
       "      <td>1</td>\n",
       "      <td>0</td>\n",
       "      <td>87</td>\n",
       "      <td>124996</td>\n",
       "      <td>470</td>\n",
       "      <td>685</td>\n",
       "      <td>140</td>\n",
       "    </tr>\n",
       "    <tr>\n",
       "      <th>1</th>\n",
       "      <td>224325</td>\n",
       "      <td>0</td>\n",
       "      <td>0</td>\n",
       "      <td>1</td>\n",
       "      <td>0</td>\n",
       "      <td>82</td>\n",
       "      <td>116747</td>\n",
       "      <td>76</td>\n",
       "      <td>94</td>\n",
       "      <td>122</td>\n",
       "    </tr>\n",
       "    <tr>\n",
       "      <th>2</th>\n",
       "      <td>225392</td>\n",
       "      <td>0</td>\n",
       "      <td>0</td>\n",
       "      <td>3</td>\n",
       "      <td>0</td>\n",
       "      <td>41</td>\n",
       "      <td>42460</td>\n",
       "      <td>28</td>\n",
       "      <td>24</td>\n",
       "      <td>52</td>\n",
       "    </tr>\n",
       "    <tr>\n",
       "      <th>3</th>\n",
       "      <td>225392</td>\n",
       "      <td>0</td>\n",
       "      <td>0</td>\n",
       "      <td>3</td>\n",
       "      <td>0</td>\n",
       "      <td>41</td>\n",
       "      <td>64070</td>\n",
       "      <td>397</td>\n",
       "      <td>639</td>\n",
       "      <td>52</td>\n",
       "    </tr>\n",
       "    <tr>\n",
       "      <th>4</th>\n",
       "      <td>225531</td>\n",
       "      <td>0</td>\n",
       "      <td>0</td>\n",
       "      <td>2</td>\n",
       "      <td>0</td>\n",
       "      <td>36</td>\n",
       "      <td>39371</td>\n",
       "      <td>233</td>\n",
       "      <td>397</td>\n",
       "      <td>48</td>\n",
       "    </tr>\n",
       "    <tr>\n",
       "      <th>...</th>\n",
       "      <td>...</td>\n",
       "      <td>...</td>\n",
       "      <td>...</td>\n",
       "      <td>...</td>\n",
       "      <td>...</td>\n",
       "      <td>...</td>\n",
       "      <td>...</td>\n",
       "      <td>...</td>\n",
       "      <td>...</td>\n",
       "      <td>...</td>\n",
       "    </tr>\n",
       "    <tr>\n",
       "      <th>88</th>\n",
       "      <td>235502</td>\n",
       "      <td>0</td>\n",
       "      <td>0</td>\n",
       "      <td>2</td>\n",
       "      <td>0</td>\n",
       "      <td>24</td>\n",
       "      <td>32209</td>\n",
       "      <td>21</td>\n",
       "      <td>17</td>\n",
       "      <td>36</td>\n",
       "    </tr>\n",
       "    <tr>\n",
       "      <th>89</th>\n",
       "      <td>235502</td>\n",
       "      <td>0</td>\n",
       "      <td>0</td>\n",
       "      <td>2</td>\n",
       "      <td>0</td>\n",
       "      <td>24</td>\n",
       "      <td>32209</td>\n",
       "      <td>7</td>\n",
       "      <td>8</td>\n",
       "      <td>36</td>\n",
       "    </tr>\n",
       "    <tr>\n",
       "      <th>90</th>\n",
       "      <td>235519</td>\n",
       "      <td>0</td>\n",
       "      <td>0</td>\n",
       "      <td>1</td>\n",
       "      <td>0</td>\n",
       "      <td>59</td>\n",
       "      <td>125372</td>\n",
       "      <td>363</td>\n",
       "      <td>323</td>\n",
       "      <td>78</td>\n",
       "    </tr>\n",
       "    <tr>\n",
       "      <th>91</th>\n",
       "      <td>235512</td>\n",
       "      <td>0</td>\n",
       "      <td>0</td>\n",
       "      <td>1</td>\n",
       "      <td>0</td>\n",
       "      <td>48</td>\n",
       "      <td>83759</td>\n",
       "      <td>115</td>\n",
       "      <td>205</td>\n",
       "      <td>66</td>\n",
       "    </tr>\n",
       "    <tr>\n",
       "      <th>92</th>\n",
       "      <td>233900</td>\n",
       "      <td>2</td>\n",
       "      <td>1</td>\n",
       "      <td>1</td>\n",
       "      <td>0</td>\n",
       "      <td>100</td>\n",
       "      <td>75298</td>\n",
       "      <td>132</td>\n",
       "      <td>224</td>\n",
       "      <td>82</td>\n",
       "    </tr>\n",
       "  </tbody>\n",
       "</table>\n",
       "<p>93 rows × 10 columns</p>\n",
       "</div>"
      ],
      "text/plain": [
       "        id  entidade  fornecedor  complexidade  stat_pagto  qtd_pag_word  \\\n",
       "0   224323         0           0             1           0            87   \n",
       "1   224325         0           0             1           0            82   \n",
       "2   225392         0           0             3           0            41   \n",
       "3   225392         0           0             3           0            41   \n",
       "4   225531         0           0             2           0            36   \n",
       "..     ...       ...         ...           ...         ...           ...   \n",
       "88  235502         0           0             2           0            24   \n",
       "89  235502         0           0             2           0            24   \n",
       "90  235519         0           0             1           0            59   \n",
       "91  235512         0           0             1           0            48   \n",
       "92  233900         2           1             1           0           100   \n",
       "\n",
       "    qtd_carc  qtd_tabela  qtd_image  pag_final  \n",
       "0     124996         470        685        140  \n",
       "1     116747          76         94        122  \n",
       "2      42460          28         24         52  \n",
       "3      64070         397        639         52  \n",
       "4      39371         233        397         48  \n",
       "..       ...         ...        ...        ...  \n",
       "88     32209          21         17         36  \n",
       "89     32209           7          8         36  \n",
       "90    125372         363        323         78  \n",
       "91     83759         115        205         66  \n",
       "92     75298         132        224         82  \n",
       "\n",
       "[93 rows x 10 columns]"
      ]
     },
     "execution_count": 234,
     "metadata": {},
     "output_type": "execute_result"
    }
   ],
   "source": [
    "data"
   ]
  },
  {
   "cell_type": "code",
   "execution_count": 180,
   "metadata": {},
   "outputs": [
    {
     "data": {
      "text/html": [
       "<div>\n",
       "<style scoped>\n",
       "    .dataframe tbody tr th:only-of-type {\n",
       "        vertical-align: middle;\n",
       "    }\n",
       "\n",
       "    .dataframe tbody tr th {\n",
       "        vertical-align: top;\n",
       "    }\n",
       "\n",
       "    .dataframe thead th {\n",
       "        text-align: right;\n",
       "    }\n",
       "</style>\n",
       "<table border=\"1\" class=\"dataframe\">\n",
       "  <thead>\n",
       "    <tr style=\"text-align: right;\">\n",
       "      <th></th>\n",
       "      <th>pag_final</th>\n",
       "    </tr>\n",
       "  </thead>\n",
       "  <tbody>\n",
       "    <tr>\n",
       "      <th>0</th>\n",
       "      <td>140</td>\n",
       "    </tr>\n",
       "    <tr>\n",
       "      <th>1</th>\n",
       "      <td>122</td>\n",
       "    </tr>\n",
       "    <tr>\n",
       "      <th>2</th>\n",
       "      <td>52</td>\n",
       "    </tr>\n",
       "    <tr>\n",
       "      <th>3</th>\n",
       "      <td>52</td>\n",
       "    </tr>\n",
       "    <tr>\n",
       "      <th>4</th>\n",
       "      <td>48</td>\n",
       "    </tr>\n",
       "  </tbody>\n",
       "</table>\n",
       "</div>"
      ],
      "text/plain": [
       "   pag_final\n",
       "0        140\n",
       "1        122\n",
       "2         52\n",
       "3         52\n",
       "4         48"
      ]
     },
     "execution_count": 180,
     "metadata": {},
     "output_type": "execute_result"
    }
   ],
   "source": [
    "y.head()"
   ]
  },
  {
   "cell_type": "code",
   "execution_count": 181,
   "metadata": {},
   "outputs": [],
   "source": [
    "#########################################################\n",
    "# INÍCIO DA PARTE DE MACHINE LEARNIG  \\\n",
    "# RANDOM FOREST\n",
    "########################################################"
   ]
  },
  {
   "cell_type": "code",
   "execution_count": 182,
   "metadata": {},
   "outputs": [],
   "source": [
    "# instalar biblioteca scikit-learn\n",
    "#! pip install -U scikit-learn"
   ]
  },
  {
   "cell_type": "code",
   "execution_count": 202,
   "metadata": {},
   "outputs": [],
   "source": [
    "# método train_test_split, Scikit-Learn \n",
    "X_train, X_test, y_train, y_test = train_test_split(X, y, test_size=0.10, random_state=42)"
   ]
  },
  {
   "cell_type": "code",
   "execution_count": 203,
   "metadata": {},
   "outputs": [
    {
     "data": {
      "text/plain": [
       "((83, 8), (10, 8), (83, 1), (10, 1))"
      ]
     },
     "execution_count": 203,
     "metadata": {},
     "output_type": "execute_result"
    }
   ],
   "source": [
    "X_train.shape, X_test.shape, y_train.shape, y_test.shape"
   ]
  },
  {
   "cell_type": "code",
   "execution_count": 204,
   "metadata": {},
   "outputs": [
    {
     "data": {
      "text/html": [
       "<div>\n",
       "<style scoped>\n",
       "    .dataframe tbody tr th:only-of-type {\n",
       "        vertical-align: middle;\n",
       "    }\n",
       "\n",
       "    .dataframe tbody tr th {\n",
       "        vertical-align: top;\n",
       "    }\n",
       "\n",
       "    .dataframe thead th {\n",
       "        text-align: right;\n",
       "    }\n",
       "</style>\n",
       "<table border=\"1\" class=\"dataframe\">\n",
       "  <thead>\n",
       "    <tr style=\"text-align: right;\">\n",
       "      <th></th>\n",
       "      <th>pag_final</th>\n",
       "    </tr>\n",
       "  </thead>\n",
       "  <tbody>\n",
       "    <tr>\n",
       "      <th>40</th>\n",
       "      <td>340</td>\n",
       "    </tr>\n",
       "    <tr>\n",
       "      <th>22</th>\n",
       "      <td>98</td>\n",
       "    </tr>\n",
       "    <tr>\n",
       "      <th>55</th>\n",
       "      <td>34</td>\n",
       "    </tr>\n",
       "    <tr>\n",
       "      <th>72</th>\n",
       "      <td>38</td>\n",
       "    </tr>\n",
       "    <tr>\n",
       "      <th>0</th>\n",
       "      <td>140</td>\n",
       "    </tr>\n",
       "  </tbody>\n",
       "</table>\n",
       "</div>"
      ],
      "text/plain": [
       "    pag_final\n",
       "40        340\n",
       "22         98\n",
       "55         34\n",
       "72         38\n",
       "0         140"
      ]
     },
     "execution_count": 204,
     "metadata": {},
     "output_type": "execute_result"
    }
   ],
   "source": [
    "y_test.head()"
   ]
  },
  {
   "cell_type": "code",
   "execution_count": null,
   "metadata": {},
   "outputs": [],
   "source": []
  },
  {
   "cell_type": "code",
   "execution_count": 205,
   "metadata": {},
   "outputs": [
    {
     "name": "stderr",
     "output_type": "stream",
     "text": [
      "<ipython-input-205-957cc5138365>:2: DataConversionWarning: A column-vector y was passed when a 1d array was expected. Please change the shape of y to (n_samples,), for example using ravel().\n",
      "  modelo.fit(X_train, y_train)\n"
     ]
    },
    {
     "data": {
      "text/plain": [
       "RandomForestClassifier(n_jobs=-1, random_state=0)"
      ]
     },
     "execution_count": 205,
     "metadata": {},
     "output_type": "execute_result"
    }
   ],
   "source": [
    "modelo = RandomForestClassifier(n_estimators=100, n_jobs=-1, random_state=0)\n",
    "modelo.fit(X_train, y_train)"
   ]
  },
  {
   "cell_type": "code",
   "execution_count": 206,
   "metadata": {},
   "outputs": [],
   "source": [
    "p = modelo.predict(X_test)"
   ]
  },
  {
   "cell_type": "code",
   "execution_count": 207,
   "metadata": {},
   "outputs": [
    {
     "data": {
      "text/plain": [
       "array([122, 110,  40,  28, 126,  68,  48,  20,  46, 100])"
      ]
     },
     "execution_count": 207,
     "metadata": {},
     "output_type": "execute_result"
    }
   ],
   "source": [
    "p"
   ]
  },
  {
   "cell_type": "code",
   "execution_count": 208,
   "metadata": {},
   "outputs": [
    {
     "name": "stdout",
     "output_type": "stream",
     "text": [
      "(10,) (10, 1)\n"
     ]
    }
   ],
   "source": [
    "print(p.shape,y_test.shape)"
   ]
  },
  {
   "cell_type": "code",
   "execution_count": 209,
   "metadata": {},
   "outputs": [
    {
     "data": {
      "text/html": [
       "<div>\n",
       "<style scoped>\n",
       "    .dataframe tbody tr th:only-of-type {\n",
       "        vertical-align: middle;\n",
       "    }\n",
       "\n",
       "    .dataframe tbody tr th {\n",
       "        vertical-align: top;\n",
       "    }\n",
       "\n",
       "    .dataframe thead th {\n",
       "        text-align: right;\n",
       "    }\n",
       "</style>\n",
       "<table border=\"1\" class=\"dataframe\">\n",
       "  <thead>\n",
       "    <tr style=\"text-align: right;\">\n",
       "      <th></th>\n",
       "      <th>pag_final</th>\n",
       "    </tr>\n",
       "  </thead>\n",
       "  <tbody>\n",
       "    <tr>\n",
       "      <th>40</th>\n",
       "      <td>340</td>\n",
       "    </tr>\n",
       "    <tr>\n",
       "      <th>22</th>\n",
       "      <td>98</td>\n",
       "    </tr>\n",
       "    <tr>\n",
       "      <th>55</th>\n",
       "      <td>34</td>\n",
       "    </tr>\n",
       "    <tr>\n",
       "      <th>72</th>\n",
       "      <td>38</td>\n",
       "    </tr>\n",
       "    <tr>\n",
       "      <th>0</th>\n",
       "      <td>140</td>\n",
       "    </tr>\n",
       "    <tr>\n",
       "      <th>26</th>\n",
       "      <td>72</td>\n",
       "    </tr>\n",
       "    <tr>\n",
       "      <th>39</th>\n",
       "      <td>42</td>\n",
       "    </tr>\n",
       "    <tr>\n",
       "      <th>67</th>\n",
       "      <td>22</td>\n",
       "    </tr>\n",
       "    <tr>\n",
       "      <th>10</th>\n",
       "      <td>40</td>\n",
       "    </tr>\n",
       "    <tr>\n",
       "      <th>44</th>\n",
       "      <td>98</td>\n",
       "    </tr>\n",
       "  </tbody>\n",
       "</table>\n",
       "</div>"
      ],
      "text/plain": [
       "    pag_final\n",
       "40        340\n",
       "22         98\n",
       "55         34\n",
       "72         38\n",
       "0         140\n",
       "26         72\n",
       "39         42\n",
       "67         22\n",
       "10         40\n",
       "44         98"
      ]
     },
     "execution_count": 209,
     "metadata": {},
     "output_type": "execute_result"
    }
   ],
   "source": [
    "y_test"
   ]
  },
  {
   "cell_type": "code",
   "execution_count": 210,
   "metadata": {},
   "outputs": [],
   "source": [
    "# https://github.com/WalnerPessoa/Medical-Cost-Personal/blob/master/Aula%205%20-%20Regress%C3%A3o%20linear%20para%20prever%20as%20despesas%20m%C3%A9dicas%20de%20um%20paciente%20.ipynb\n",
    "\n",
    "\n",
    "# Criando uma lista com os nomes dos atributos\n",
    "#feature_cols = ['age','sex','bmi','children','smoker']\n",
    "\n",
    "# Usando a lista para escolher um subconjunto do dataframe original\n",
    "#X = data[feature_cols]\n",
    "\n",
    "# Selecionando a Série no dataframe\n",
    "#y = data.charges\n",
    "\n",
    "# Dividindo entre conjunto de treinamento e teste\n",
    "#X_train, X_test, y_train, y_test = train_test_split(X, y, random_state=1)\n",
    "\n",
    "# Ajsutando o modelo (Aprendendo os coeficientes)\n",
    "#linreg.fit(X_train, y_train)\n",
    "\n",
    "# Fazendo predições no conjunto de teste\n",
    "#y_pred = linreg.predict(X_test)\n",
    "\n",
    "# Calculando RMSE para nossas predições\n",
    "#print(np.sqrt(metrics.mean_squared_error(y_test, y_pred)))"
   ]
  },
  {
   "cell_type": "code",
   "execution_count": 211,
   "metadata": {},
   "outputs": [],
   "source": [
    "#########################################################\n",
    "# INÍCIO DA PARTE DE MACHINE LEARNIG  \\\n",
    "# LINEAR REGRESSION\n",
    "########################################################"
   ]
  },
  {
   "cell_type": "code",
   "execution_count": 212,
   "metadata": {},
   "outputs": [],
   "source": [
    "# prepara dados de entrada X e dados de saida Y\n",
    "colunas_X= [ 'entidade', 'fornecedor', 'complexidade', 'stat_pagto',\n",
    "       'qtd_pag_word',  'qtd_carc', 'qtd_tabela',\n",
    "       'qtd_image']\n",
    "colunas_y=['pag_final']\n",
    "X = data[colunas_X]\n",
    "y = data[colunas_y]"
   ]
  },
  {
   "cell_type": "code",
   "execution_count": 213,
   "metadata": {},
   "outputs": [],
   "source": [
    "# método train_test_split, Scikit-Learn \n",
    "X_train, X_test, y_train, y_test = train_test_split(X, y,  test_size=0.10,random_state=1)"
   ]
  },
  {
   "cell_type": "code",
   "execution_count": 214,
   "metadata": {},
   "outputs": [
    {
     "name": "stdout",
     "output_type": "stream",
     "text": [
      "[33.92361313]\n",
      "[[-3.82023801e+00 -2.08621493e+01 -1.09833828e+01  1.65845115e-12\n",
      "   7.11322794e-01  2.36430856e-04  2.78209498e-02 -2.25224125e-02]]\n"
     ]
    }
   ],
   "source": [
    "##### machine learnig\n",
    "\n",
    "#Instanciando o estimador\n",
    "linreg = LinearRegression()\n",
    "\n",
    "#Ajustando o modelo ao conjunto de treino\n",
    "linreg.fit(X_train, y_train)\n",
    "\n",
    "#Interpretando os coeficientes do modelo\n",
    "#Visualizando a interseção e os coeficientes \n",
    "print(linreg.intercept_)\n",
    "print(linreg.coef_)\n"
   ]
  },
  {
   "cell_type": "code",
   "execution_count": 215,
   "metadata": {},
   "outputs": [
    {
     "data": {
      "text/plain": [
       "['entidade',\n",
       " 'fornecedor',\n",
       " 'complexidade',\n",
       " 'stat_pagto',\n",
       " 'qtd_pag_word',\n",
       " 'qtd_carc',\n",
       " 'qtd_tabela',\n",
       " 'qtd_image']"
      ]
     },
     "execution_count": 215,
     "metadata": {},
     "output_type": "execute_result"
    }
   ],
   "source": [
    "colunas_X"
   ]
  },
  {
   "cell_type": "code",
   "execution_count": 216,
   "metadata": {},
   "outputs": [
    {
     "data": {
      "text/plain": [
       "Index(['entidade', 'fornecedor', 'complexidade', 'stat_pagto', 'qtd_pag_word',\n",
       "       'qtd_carc', 'qtd_tabela', 'qtd_image'],\n",
       "      dtype='object')"
      ]
     },
     "execution_count": 216,
     "metadata": {},
     "output_type": "execute_result"
    }
   ],
   "source": [
    "X_train.columns"
   ]
  },
  {
   "cell_type": "code",
   "execution_count": 217,
   "metadata": {},
   "outputs": [
    {
     "data": {
      "text/plain": [
       "[('entidade',\n",
       "  array([-3.82023801e+00, -2.08621493e+01, -1.09833828e+01,  1.65845115e-12,\n",
       "          7.11322794e-01,  2.36430856e-04,  2.78209498e-02, -2.25224125e-02]))]"
      ]
     },
     "execution_count": 217,
     "metadata": {},
     "output_type": "execute_result"
    }
   ],
   "source": [
    "#Atributos e seus coeficientes\n",
    "list(zip(colunas_X, linreg.coef_))"
   ]
  },
  {
   "cell_type": "code",
   "execution_count": 218,
   "metadata": {},
   "outputs": [],
   "source": [
    "#Fazendo predições no conjunto de teste\n",
    "y_pred = linreg.predict(X_test)"
   ]
  },
  {
   "cell_type": "code",
   "execution_count": 219,
   "metadata": {},
   "outputs": [
    {
     "data": {
      "text/plain": [
       "array([[ 36.45729881],\n",
       "       [ 67.36877289],\n",
       "       [117.74715014],\n",
       "       [ 53.7512613 ],\n",
       "       [ 36.84515494],\n",
       "       [ 86.45799465],\n",
       "       [ 74.99338876],\n",
       "       [153.10768881],\n",
       "       [ 69.78911106],\n",
       "       [ 45.94946962]])"
      ]
     },
     "execution_count": 219,
     "metadata": {},
     "output_type": "execute_result"
    }
   ],
   "source": [
    "y_pred"
   ]
  },
  {
   "cell_type": "code",
   "execution_count": 220,
   "metadata": {
    "scrolled": true
   },
   "outputs": [
    {
     "data": {
      "text/html": [
       "<div>\n",
       "<style scoped>\n",
       "    .dataframe tbody tr th:only-of-type {\n",
       "        vertical-align: middle;\n",
       "    }\n",
       "\n",
       "    .dataframe tbody tr th {\n",
       "        vertical-align: top;\n",
       "    }\n",
       "\n",
       "    .dataframe thead th {\n",
       "        text-align: right;\n",
       "    }\n",
       "</style>\n",
       "<table border=\"1\" class=\"dataframe\">\n",
       "  <thead>\n",
       "    <tr style=\"text-align: right;\">\n",
       "      <th></th>\n",
       "      <th>pag_final</th>\n",
       "    </tr>\n",
       "  </thead>\n",
       "  <tbody>\n",
       "    <tr>\n",
       "      <th>59</th>\n",
       "      <td>52</td>\n",
       "    </tr>\n",
       "    <tr>\n",
       "      <th>74</th>\n",
       "      <td>68</td>\n",
       "    </tr>\n",
       "    <tr>\n",
       "      <th>44</th>\n",
       "      <td>98</td>\n",
       "    </tr>\n",
       "    <tr>\n",
       "      <th>56</th>\n",
       "      <td>48</td>\n",
       "    </tr>\n",
       "    <tr>\n",
       "      <th>88</th>\n",
       "      <td>36</td>\n",
       "    </tr>\n",
       "    <tr>\n",
       "      <th>77</th>\n",
       "      <td>86</td>\n",
       "    </tr>\n",
       "    <tr>\n",
       "      <th>62</th>\n",
       "      <td>68</td>\n",
       "    </tr>\n",
       "    <tr>\n",
       "      <th>53</th>\n",
       "      <td>126</td>\n",
       "    </tr>\n",
       "    <tr>\n",
       "      <th>54</th>\n",
       "      <td>68</td>\n",
       "    </tr>\n",
       "    <tr>\n",
       "      <th>39</th>\n",
       "      <td>42</td>\n",
       "    </tr>\n",
       "  </tbody>\n",
       "</table>\n",
       "</div>"
      ],
      "text/plain": [
       "    pag_final\n",
       "59         52\n",
       "74         68\n",
       "44         98\n",
       "56         48\n",
       "88         36\n",
       "77         86\n",
       "62         68\n",
       "53        126\n",
       "54         68\n",
       "39         42"
      ]
     },
     "execution_count": 220,
     "metadata": {},
     "output_type": "execute_result"
    }
   ],
   "source": [
    "y_test"
   ]
  },
  {
   "cell_type": "code",
   "execution_count": 232,
   "metadata": {},
   "outputs": [
    {
     "name": "stdout",
     "output_type": "stream",
     "text": [
      "dados verdadeiros:  [100, 50, 30, 30]\n",
      "dados inferidos: [90, 50, 50, 30]\n",
      "erro médio absoluto:  7.5\n",
      "erro médio absoluto:  7.5\n",
      "MSE:  125.0\n",
      "MSE:  125.0\n",
      "RMSE:  11.180339887498949\n",
      "RMSE:  11.180339887498949\n"
     ]
    }
   ],
   "source": [
    "# codigos consultados de \n",
    "# https://github.com/WalnerPessoa/Medical-Cost-Personal/blob/master/Aula%205%20-%20Regress%C3%A3o%20linear%20para%20prever%20as%20despesas%20m%C3%A9dicas%20de%20um%20paciente%20.ipynb\n",
    "\n",
    "\n",
    "# calculando a media de um exemplo\n",
    "# Definindo os valores de resposta verdadeiros e preditos\n",
    "true = [100,50,30,30]\n",
    "pred = [90,50,50,30]\n",
    "print(\"dados verdadeiros: \",true)\n",
    "print(\"dados inferidos:\", pred)\n",
    "# Calculando erro médio absoluto na mão\n",
    "print('erro médio absoluto: ',(10+0+20+0)/4)\n",
    "# Calculando erro médio absoluto utilizando scikit-learn\n",
    "from sklearn import metrics\n",
    "print('erro médio absoluto: ',metrics.mean_absolute_error(true,pred)) \n",
    "\n",
    "#Calculando MSE na mão\n",
    "print('MSE: ',(10**2+0+20**2+0)/4)\n",
    "# Calculando MSE utilizando scikit-learn\n",
    "print('MSE: ',metrics.mean_squared_error(true,pred))\n",
    "\n",
    "# Calculando RMSE na mão\n",
    "print('RMSE: ',np.sqrt((10**2+0+20**2+0)/4))\n",
    "# Calculando RMSE utilizando scikit-learn\n",
    "print('RMSE: ',np.sqrt(metrics.mean_squared_error(true,pred)))"
   ]
  },
  {
   "cell_type": "markdown",
   "metadata": {},
   "source": [
    "Comparando essas métricas:\n",
    "\n",
    "- MAE é a mais fácil de entender.\n",
    "- MSE é mais popular que MAE, porque MSE \"pune\" erros grandes.\n",
    "- RMSE é ainda mais popular que MSE, porque RMSE é interpretável na mesma unidade de y."
   ]
  },
  {
   "cell_type": "code",
   "execution_count": 230,
   "metadata": {},
   "outputs": [
    {
     "name": "stdout",
     "output_type": "stream",
     "text": [
      "RMSE:  12.11799697428631\n"
     ]
    }
   ],
   "source": [
    "#Nós precisamos de uma métrica de avaliação para comparar nossas predições com os valores verdadeiros!\n",
    "\n",
    "# Calculando RMSE utilizando scikit-learn\n",
    "print('RMSE: ',np.sqrt(metrics.mean_squared_error(y_test,y_pred)))"
   ]
  },
  {
   "cell_type": "code",
   "execution_count": 229,
   "metadata": {},
   "outputs": [],
   "source": [
    "#Como interpretar esse valor?\n",
    "# numero menor de RMSE é melhor\n"
   ]
  },
  {
   "cell_type": "code",
   "execution_count": null,
   "metadata": {},
   "outputs": [],
   "source": []
  },
  {
   "cell_type": "code",
   "execution_count": null,
   "metadata": {},
   "outputs": [],
   "source": []
  }
 ],
 "metadata": {
  "kernelspec": {
   "display_name": "Python 3",
   "language": "python",
   "name": "python3"
  },
  "language_info": {
   "codemirror_mode": {
    "name": "ipython",
    "version": 3
   },
   "file_extension": ".py",
   "mimetype": "text/x-python",
   "name": "python",
   "nbconvert_exporter": "python",
   "pygments_lexer": "ipython3",
   "version": "3.8.5"
  }
 },
 "nbformat": 4,
 "nbformat_minor": 4
}
