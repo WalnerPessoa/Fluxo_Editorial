{
 "cells": [
  {
   "cell_type": "code",
   "execution_count": 1522,
   "metadata": {},
   "outputs": [],
   "source": [
    "import pandas as pd\n",
    "import numpy as np\n",
    "from sklearn.model_selection import RepeatedKFold\n",
    "from sklearn.model_selection import train_test_split\n",
    "\n",
    "#Importando o modelo machine learnig\n",
    "from sklearn.linear_model import LinearRegression\n",
    "from sklearn.ensemble import RandomForestClassifier\n",
    "from sklearn import metrics\n",
    "import pickle\n",
    "\n"
   ]
  },
  {
   "cell_type": "code",
   "execution_count": 1523,
   "metadata": {},
   "outputs": [],
   "source": [
    "# importar csv\n",
    "data = pd.read_csv(\"nge_dados_input.csv\")\n",
    "#data_semNF = pd.read_csv(\"nge_dados_input_semNF.csv\") # jobs sem nota está emoutro método"
   ]
  },
  {
   "cell_type": "code",
   "execution_count": 1524,
   "metadata": {
    "scrolled": true
   },
   "outputs": [
    {
     "data": {
      "text/plain": [
       "id                    int64\n",
       "entidade              int64\n",
       "fornecedor            int64\n",
       "complexidade          int64\n",
       "stat_pagto            int64\n",
       "qtd_pag_word          int64\n",
       "qtd_pag_estimado    float64\n",
       "qtd_pg_word           int64\n",
       "qtd_carc              int64\n",
       "qtd_tabela            int64\n",
       "qtd_image             int64\n",
       "qtd_estilos         float64\n",
       "pag_final             int64\n",
       "tamanho_livro         int64\n",
       "dtype: object"
      ]
     },
     "execution_count": 1524,
     "metadata": {},
     "output_type": "execute_result"
    }
   ],
   "source": [
    "data.dtypes"
   ]
  },
  {
   "cell_type": "code",
   "execution_count": 1525,
   "metadata": {
    "scrolled": false
   },
   "outputs": [
    {
     "data": {
      "text/html": [
       "<div>\n",
       "<style scoped>\n",
       "    .dataframe tbody tr th:only-of-type {\n",
       "        vertical-align: middle;\n",
       "    }\n",
       "\n",
       "    .dataframe tbody tr th {\n",
       "        vertical-align: top;\n",
       "    }\n",
       "\n",
       "    .dataframe thead th {\n",
       "        text-align: right;\n",
       "    }\n",
       "</style>\n",
       "<table border=\"1\" class=\"dataframe\">\n",
       "  <thead>\n",
       "    <tr style=\"text-align: right;\">\n",
       "      <th></th>\n",
       "      <th>id</th>\n",
       "      <th>entidade</th>\n",
       "      <th>fornecedor</th>\n",
       "      <th>complexidade</th>\n",
       "      <th>stat_pagto</th>\n",
       "      <th>qtd_pag_word</th>\n",
       "      <th>qtd_pag_estimado</th>\n",
       "      <th>qtd_pg_word</th>\n",
       "      <th>qtd_carc</th>\n",
       "      <th>qtd_tabela</th>\n",
       "      <th>qtd_image</th>\n",
       "      <th>qtd_estilos</th>\n",
       "      <th>pag_final</th>\n",
       "      <th>tamanho_livro</th>\n",
       "    </tr>\n",
       "  </thead>\n",
       "  <tbody>\n",
       "    <tr>\n",
       "      <th>0</th>\n",
       "      <td>224323</td>\n",
       "      <td>0</td>\n",
       "      <td>0</td>\n",
       "      <td>1</td>\n",
       "      <td>0</td>\n",
       "      <td>87</td>\n",
       "      <td>140.0</td>\n",
       "      <td>87</td>\n",
       "      <td>116142</td>\n",
       "      <td>505</td>\n",
       "      <td>742</td>\n",
       "      <td>60.0</td>\n",
       "      <td>140</td>\n",
       "      <td>2</td>\n",
       "    </tr>\n",
       "    <tr>\n",
       "      <th>1</th>\n",
       "      <td>224325</td>\n",
       "      <td>0</td>\n",
       "      <td>0</td>\n",
       "      <td>1</td>\n",
       "      <td>0</td>\n",
       "      <td>82</td>\n",
       "      <td>122.0</td>\n",
       "      <td>82</td>\n",
       "      <td>108307</td>\n",
       "      <td>76</td>\n",
       "      <td>94</td>\n",
       "      <td>69.0</td>\n",
       "      <td>122</td>\n",
       "      <td>2</td>\n",
       "    </tr>\n",
       "    <tr>\n",
       "      <th>2</th>\n",
       "      <td>225392</td>\n",
       "      <td>0</td>\n",
       "      <td>0</td>\n",
       "      <td>3</td>\n",
       "      <td>0</td>\n",
       "      <td>41</td>\n",
       "      <td>70.0</td>\n",
       "      <td>30</td>\n",
       "      <td>41144</td>\n",
       "      <td>28</td>\n",
       "      <td>24</td>\n",
       "      <td>23.0</td>\n",
       "      <td>52</td>\n",
       "      <td>1</td>\n",
       "    </tr>\n",
       "    <tr>\n",
       "      <th>3</th>\n",
       "      <td>225392</td>\n",
       "      <td>0</td>\n",
       "      <td>0</td>\n",
       "      <td>3</td>\n",
       "      <td>0</td>\n",
       "      <td>41</td>\n",
       "      <td>70.0</td>\n",
       "      <td>42</td>\n",
       "      <td>62913</td>\n",
       "      <td>432</td>\n",
       "      <td>696</td>\n",
       "      <td>21.0</td>\n",
       "      <td>52</td>\n",
       "      <td>1</td>\n",
       "    </tr>\n",
       "    <tr>\n",
       "      <th>4</th>\n",
       "      <td>225531</td>\n",
       "      <td>0</td>\n",
       "      <td>0</td>\n",
       "      <td>2</td>\n",
       "      <td>0</td>\n",
       "      <td>36</td>\n",
       "      <td>48.0</td>\n",
       "      <td>36</td>\n",
       "      <td>37548</td>\n",
       "      <td>270</td>\n",
       "      <td>456</td>\n",
       "      <td>17.0</td>\n",
       "      <td>48</td>\n",
       "      <td>0</td>\n",
       "    </tr>\n",
       "    <tr>\n",
       "      <th>5</th>\n",
       "      <td>228711</td>\n",
       "      <td>2</td>\n",
       "      <td>0</td>\n",
       "      <td>1</td>\n",
       "      <td>0</td>\n",
       "      <td>77</td>\n",
       "      <td>108.0</td>\n",
       "      <td>77</td>\n",
       "      <td>101967</td>\n",
       "      <td>317</td>\n",
       "      <td>517</td>\n",
       "      <td>17.0</td>\n",
       "      <td>88</td>\n",
       "      <td>1</td>\n",
       "    </tr>\n",
       "    <tr>\n",
       "      <th>6</th>\n",
       "      <td>226842</td>\n",
       "      <td>0</td>\n",
       "      <td>0</td>\n",
       "      <td>1</td>\n",
       "      <td>0</td>\n",
       "      <td>46</td>\n",
       "      <td>66.0</td>\n",
       "      <td>46</td>\n",
       "      <td>96474</td>\n",
       "      <td>99</td>\n",
       "      <td>114</td>\n",
       "      <td>37.0</td>\n",
       "      <td>66</td>\n",
       "      <td>1</td>\n",
       "    </tr>\n",
       "    <tr>\n",
       "      <th>7</th>\n",
       "      <td>227130</td>\n",
       "      <td>0</td>\n",
       "      <td>0</td>\n",
       "      <td>1</td>\n",
       "      <td>0</td>\n",
       "      <td>66</td>\n",
       "      <td>102.0</td>\n",
       "      <td>66</td>\n",
       "      <td>112888</td>\n",
       "      <td>604</td>\n",
       "      <td>872</td>\n",
       "      <td>23.0</td>\n",
       "      <td>82</td>\n",
       "      <td>1</td>\n",
       "    </tr>\n",
       "    <tr>\n",
       "      <th>8</th>\n",
       "      <td>228307</td>\n",
       "      <td>0</td>\n",
       "      <td>0</td>\n",
       "      <td>1</td>\n",
       "      <td>0</td>\n",
       "      <td>62</td>\n",
       "      <td>95.0</td>\n",
       "      <td>62</td>\n",
       "      <td>43155</td>\n",
       "      <td>40</td>\n",
       "      <td>73</td>\n",
       "      <td>25.0</td>\n",
       "      <td>70</td>\n",
       "      <td>1</td>\n",
       "    </tr>\n",
       "    <tr>\n",
       "      <th>9</th>\n",
       "      <td>228354</td>\n",
       "      <td>0</td>\n",
       "      <td>0</td>\n",
       "      <td>1</td>\n",
       "      <td>0</td>\n",
       "      <td>76</td>\n",
       "      <td>110.0</td>\n",
       "      <td>76</td>\n",
       "      <td>129122</td>\n",
       "      <td>14</td>\n",
       "      <td>10</td>\n",
       "      <td>26.0</td>\n",
       "      <td>96</td>\n",
       "      <td>1</td>\n",
       "    </tr>\n",
       "    <tr>\n",
       "      <th>10</th>\n",
       "      <td>228437</td>\n",
       "      <td>0</td>\n",
       "      <td>0</td>\n",
       "      <td>2</td>\n",
       "      <td>0</td>\n",
       "      <td>18</td>\n",
       "      <td>18.0</td>\n",
       "      <td>80</td>\n",
       "      <td>145034</td>\n",
       "      <td>175</td>\n",
       "      <td>370</td>\n",
       "      <td>35.0</td>\n",
       "      <td>18</td>\n",
       "      <td>0</td>\n",
       "    </tr>\n",
       "    <tr>\n",
       "      <th>11</th>\n",
       "      <td>228603</td>\n",
       "      <td>0</td>\n",
       "      <td>0</td>\n",
       "      <td>2</td>\n",
       "      <td>0</td>\n",
       "      <td>33</td>\n",
       "      <td>48.0</td>\n",
       "      <td>13</td>\n",
       "      <td>45943</td>\n",
       "      <td>114</td>\n",
       "      <td>132</td>\n",
       "      <td>22.0</td>\n",
       "      <td>40</td>\n",
       "      <td>0</td>\n",
       "    </tr>\n",
       "  </tbody>\n",
       "</table>\n",
       "</div>"
      ],
      "text/plain": [
       "        id  entidade  fornecedor  complexidade  stat_pagto  qtd_pag_word  \\\n",
       "0   224323         0           0             1           0            87   \n",
       "1   224325         0           0             1           0            82   \n",
       "2   225392         0           0             3           0            41   \n",
       "3   225392         0           0             3           0            41   \n",
       "4   225531         0           0             2           0            36   \n",
       "5   228711         2           0             1           0            77   \n",
       "6   226842         0           0             1           0            46   \n",
       "7   227130         0           0             1           0            66   \n",
       "8   228307         0           0             1           0            62   \n",
       "9   228354         0           0             1           0            76   \n",
       "10  228437         0           0             2           0            18   \n",
       "11  228603         0           0             2           0            33   \n",
       "\n",
       "    qtd_pag_estimado  qtd_pg_word  qtd_carc  qtd_tabela  qtd_image  \\\n",
       "0              140.0           87    116142         505        742   \n",
       "1              122.0           82    108307          76         94   \n",
       "2               70.0           30     41144          28         24   \n",
       "3               70.0           42     62913         432        696   \n",
       "4               48.0           36     37548         270        456   \n",
       "5              108.0           77    101967         317        517   \n",
       "6               66.0           46     96474          99        114   \n",
       "7              102.0           66    112888         604        872   \n",
       "8               95.0           62     43155          40         73   \n",
       "9              110.0           76    129122          14         10   \n",
       "10              18.0           80    145034         175        370   \n",
       "11              48.0           13     45943         114        132   \n",
       "\n",
       "    qtd_estilos  pag_final  tamanho_livro  \n",
       "0          60.0        140              2  \n",
       "1          69.0        122              2  \n",
       "2          23.0         52              1  \n",
       "3          21.0         52              1  \n",
       "4          17.0         48              0  \n",
       "5          17.0         88              1  \n",
       "6          37.0         66              1  \n",
       "7          23.0         82              1  \n",
       "8          25.0         70              1  \n",
       "9          26.0         96              1  \n",
       "10         35.0         18              0  \n",
       "11         22.0         40              0  "
      ]
     },
     "execution_count": 1525,
     "metadata": {},
     "output_type": "execute_result"
    }
   ],
   "source": [
    "data.head(12)"
   ]
  },
  {
   "cell_type": "code",
   "execution_count": 1526,
   "metadata": {
    "scrolled": true
   },
   "outputs": [
    {
     "data": {
      "text/plain": [
       "array([ 87,  82,  30,  42,  36,  77,  46,  66,  62,  76,  80,  13,  34,\n",
       "        52,  18,  78,  50,  47,  54,  88,  91,  38, 214,  22,  26,  92,\n",
       "        14,  40,  81,  63, 216,  24,  33, 195,  29,  60,  70,  72, 107,\n",
       "        85,  68,  41, 112,  45,  19,  51,  31,  56,  28,  21,  12,  17,\n",
       "       131,  67, 207,  43,  86,  90,  49,  39,  59,  48,  57,  73,  23,\n",
       "        37])"
      ]
     },
     "execution_count": 1526,
     "metadata": {},
     "output_type": "execute_result"
    }
   ],
   "source": [
    "data['qtd_pg_word'].unique()"
   ]
  },
  {
   "cell_type": "code",
   "execution_count": 1527,
   "metadata": {
    "scrolled": true
   },
   "outputs": [
    {
     "data": {
      "text/plain": [
       "array([ 87,  82,  41,  36,  77,  46,  66,  62,  76,  18,  33,  34,  57,\n",
       "        22,  78,  50,  38,  54,  88,  91,  80, 214,  26,  83,  40,  81,\n",
       "        63, 216,  51,  27, 195,  29,  58,  70,  92,  72, 107,  85,  67,\n",
       "        24, 112,  45,  19,  31,  56,  28,  12, 158, 207,  43,  17,  86,\n",
       "        90,  49, 168, 162,  59,  48, 100,  39,  42,  32,  73,  23])"
      ]
     },
     "execution_count": 1527,
     "metadata": {},
     "output_type": "execute_result"
    }
   ],
   "source": [
    "data['qtd_pag_word'].unique()"
   ]
  },
  {
   "cell_type": "code",
   "execution_count": 1528,
   "metadata": {},
   "outputs": [
    {
     "data": {
      "text/html": [
       "<div>\n",
       "<style scoped>\n",
       "    .dataframe tbody tr th:only-of-type {\n",
       "        vertical-align: middle;\n",
       "    }\n",
       "\n",
       "    .dataframe tbody tr th {\n",
       "        vertical-align: top;\n",
       "    }\n",
       "\n",
       "    .dataframe thead th {\n",
       "        text-align: right;\n",
       "    }\n",
       "</style>\n",
       "<table border=\"1\" class=\"dataframe\">\n",
       "  <thead>\n",
       "    <tr style=\"text-align: right;\">\n",
       "      <th></th>\n",
       "      <th>id</th>\n",
       "      <th>qtd_pag_word</th>\n",
       "      <th>qtd_pg_word</th>\n",
       "      <th>pag_final</th>\n",
       "    </tr>\n",
       "  </thead>\n",
       "  <tbody>\n",
       "    <tr>\n",
       "      <th>2</th>\n",
       "      <td>225392</td>\n",
       "      <td>41</td>\n",
       "      <td>30</td>\n",
       "      <td>52</td>\n",
       "    </tr>\n",
       "    <tr>\n",
       "      <th>3</th>\n",
       "      <td>225392</td>\n",
       "      <td>41</td>\n",
       "      <td>42</td>\n",
       "      <td>52</td>\n",
       "    </tr>\n",
       "    <tr>\n",
       "      <th>10</th>\n",
       "      <td>228437</td>\n",
       "      <td>18</td>\n",
       "      <td>80</td>\n",
       "      <td>18</td>\n",
       "    </tr>\n",
       "    <tr>\n",
       "      <th>11</th>\n",
       "      <td>228603</td>\n",
       "      <td>33</td>\n",
       "      <td>13</td>\n",
       "      <td>40</td>\n",
       "    </tr>\n",
       "    <tr>\n",
       "      <th>13</th>\n",
       "      <td>228837</td>\n",
       "      <td>57</td>\n",
       "      <td>52</td>\n",
       "      <td>68</td>\n",
       "    </tr>\n",
       "    <tr>\n",
       "      <th>14</th>\n",
       "      <td>229294</td>\n",
       "      <td>22</td>\n",
       "      <td>18</td>\n",
       "      <td>34</td>\n",
       "    </tr>\n",
       "    <tr>\n",
       "      <th>18</th>\n",
       "      <td>229536</td>\n",
       "      <td>38</td>\n",
       "      <td>47</td>\n",
       "      <td>84</td>\n",
       "    </tr>\n",
       "    <tr>\n",
       "      <th>28</th>\n",
       "      <td>231210</td>\n",
       "      <td>83</td>\n",
       "      <td>92</td>\n",
       "      <td>112</td>\n",
       "    </tr>\n",
       "    <tr>\n",
       "      <th>29</th>\n",
       "      <td>230571</td>\n",
       "      <td>80</td>\n",
       "      <td>14</td>\n",
       "      <td>110</td>\n",
       "    </tr>\n",
       "    <tr>\n",
       "      <th>35</th>\n",
       "      <td>231890</td>\n",
       "      <td>51</td>\n",
       "      <td>52</td>\n",
       "      <td>76</td>\n",
       "    </tr>\n",
       "    <tr>\n",
       "      <th>36</th>\n",
       "      <td>235502</td>\n",
       "      <td>27</td>\n",
       "      <td>24</td>\n",
       "      <td>38</td>\n",
       "    </tr>\n",
       "    <tr>\n",
       "      <th>37</th>\n",
       "      <td>235502</td>\n",
       "      <td>27</td>\n",
       "      <td>24</td>\n",
       "      <td>38</td>\n",
       "    </tr>\n",
       "    <tr>\n",
       "      <th>43</th>\n",
       "      <td>231772</td>\n",
       "      <td>58</td>\n",
       "      <td>60</td>\n",
       "      <td>66</td>\n",
       "    </tr>\n",
       "    <tr>\n",
       "      <th>51</th>\n",
       "      <td>232943</td>\n",
       "      <td>67</td>\n",
       "      <td>68</td>\n",
       "      <td>92</td>\n",
       "    </tr>\n",
       "    <tr>\n",
       "      <th>52</th>\n",
       "      <td>231274</td>\n",
       "      <td>78</td>\n",
       "      <td>76</td>\n",
       "      <td>100</td>\n",
       "    </tr>\n",
       "    <tr>\n",
       "      <th>66</th>\n",
       "      <td>233890</td>\n",
       "      <td>22</td>\n",
       "      <td>21</td>\n",
       "      <td>30</td>\n",
       "    </tr>\n",
       "    <tr>\n",
       "      <th>68</th>\n",
       "      <td>233892</td>\n",
       "      <td>19</td>\n",
       "      <td>17</td>\n",
       "      <td>24</td>\n",
       "    </tr>\n",
       "    <tr>\n",
       "      <th>69</th>\n",
       "      <td>233884</td>\n",
       "      <td>158</td>\n",
       "      <td>131</td>\n",
       "      <td>176</td>\n",
       "    </tr>\n",
       "    <tr>\n",
       "      <th>70</th>\n",
       "      <td>233896</td>\n",
       "      <td>72</td>\n",
       "      <td>68</td>\n",
       "      <td>84</td>\n",
       "    </tr>\n",
       "    <tr>\n",
       "      <th>71</th>\n",
       "      <td>233893</td>\n",
       "      <td>66</td>\n",
       "      <td>77</td>\n",
       "      <td>98</td>\n",
       "    </tr>\n",
       "    <tr>\n",
       "      <th>74</th>\n",
       "      <td>233904</td>\n",
       "      <td>38</td>\n",
       "      <td>50</td>\n",
       "      <td>68</td>\n",
       "    </tr>\n",
       "    <tr>\n",
       "      <th>84</th>\n",
       "      <td>0</td>\n",
       "      <td>168</td>\n",
       "      <td>70</td>\n",
       "      <td>168</td>\n",
       "    </tr>\n",
       "    <tr>\n",
       "      <th>85</th>\n",
       "      <td>0</td>\n",
       "      <td>162</td>\n",
       "      <td>70</td>\n",
       "      <td>162</td>\n",
       "    </tr>\n",
       "    <tr>\n",
       "      <th>87</th>\n",
       "      <td>235469</td>\n",
       "      <td>40</td>\n",
       "      <td>24</td>\n",
       "      <td>48</td>\n",
       "    </tr>\n",
       "    <tr>\n",
       "      <th>88</th>\n",
       "      <td>235495</td>\n",
       "      <td>77</td>\n",
       "      <td>39</td>\n",
       "      <td>100</td>\n",
       "    </tr>\n",
       "    <tr>\n",
       "      <th>93</th>\n",
       "      <td>233900</td>\n",
       "      <td>100</td>\n",
       "      <td>57</td>\n",
       "      <td>82</td>\n",
       "    </tr>\n",
       "    <tr>\n",
       "      <th>94</th>\n",
       "      <td>235520</td>\n",
       "      <td>28</td>\n",
       "      <td>29</td>\n",
       "      <td>38</td>\n",
       "    </tr>\n",
       "    <tr>\n",
       "      <th>98</th>\n",
       "      <td>235651</td>\n",
       "      <td>32</td>\n",
       "      <td>33</td>\n",
       "      <td>44</td>\n",
       "    </tr>\n",
       "    <tr>\n",
       "      <th>105</th>\n",
       "      <td>235513</td>\n",
       "      <td>49</td>\n",
       "      <td>52</td>\n",
       "      <td>52</td>\n",
       "    </tr>\n",
       "    <tr>\n",
       "      <th>106</th>\n",
       "      <td>235514</td>\n",
       "      <td>56</td>\n",
       "      <td>41</td>\n",
       "      <td>72</td>\n",
       "    </tr>\n",
       "    <tr>\n",
       "      <th>107</th>\n",
       "      <td>235700</td>\n",
       "      <td>38</td>\n",
       "      <td>37</td>\n",
       "      <td>44</td>\n",
       "    </tr>\n",
       "  </tbody>\n",
       "</table>\n",
       "</div>"
      ],
      "text/plain": [
       "         id  qtd_pag_word  qtd_pg_word  pag_final\n",
       "2    225392            41           30         52\n",
       "3    225392            41           42         52\n",
       "10   228437            18           80         18\n",
       "11   228603            33           13         40\n",
       "13   228837            57           52         68\n",
       "14   229294            22           18         34\n",
       "18   229536            38           47         84\n",
       "28   231210            83           92        112\n",
       "29   230571            80           14        110\n",
       "35   231890            51           52         76\n",
       "36   235502            27           24         38\n",
       "37   235502            27           24         38\n",
       "43   231772            58           60         66\n",
       "51   232943            67           68         92\n",
       "52   231274            78           76        100\n",
       "66   233890            22           21         30\n",
       "68   233892            19           17         24\n",
       "69   233884           158          131        176\n",
       "70   233896            72           68         84\n",
       "71   233893            66           77         98\n",
       "74   233904            38           50         68\n",
       "84        0           168           70        168\n",
       "85        0           162           70        162\n",
       "87   235469            40           24         48\n",
       "88   235495            77           39        100\n",
       "93   233900           100           57         82\n",
       "94   235520            28           29         38\n",
       "98   235651            32           33         44\n",
       "105  235513            49           52         52\n",
       "106  235514            56           41         72\n",
       "107  235700            38           37         44"
      ]
     },
     "execution_count": 1528,
     "metadata": {},
     "output_type": "execute_result"
    }
   ],
   "source": [
    "data[data['qtd_pag_word']!=data['qtd_pg_word']][['id','qtd_pag_word','qtd_pg_word','pag_final']]"
   ]
  },
  {
   "cell_type": "code",
   "execution_count": 1529,
   "metadata": {
    "scrolled": true
   },
   "outputs": [
    {
     "data": {
      "text/html": [
       "<div>\n",
       "<style scoped>\n",
       "    .dataframe tbody tr th:only-of-type {\n",
       "        vertical-align: middle;\n",
       "    }\n",
       "\n",
       "    .dataframe tbody tr th {\n",
       "        vertical-align: top;\n",
       "    }\n",
       "\n",
       "    .dataframe thead th {\n",
       "        text-align: right;\n",
       "    }\n",
       "</style>\n",
       "<table border=\"1\" class=\"dataframe\">\n",
       "  <thead>\n",
       "    <tr style=\"text-align: right;\">\n",
       "      <th></th>\n",
       "      <th>id</th>\n",
       "      <th>qtd_pag_word</th>\n",
       "      <th>qtd_pg_word</th>\n",
       "      <th>pag_final</th>\n",
       "    </tr>\n",
       "  </thead>\n",
       "  <tbody>\n",
       "    <tr>\n",
       "      <th>10</th>\n",
       "      <td>228437</td>\n",
       "      <td>18</td>\n",
       "      <td>80</td>\n",
       "      <td>18</td>\n",
       "    </tr>\n",
       "    <tr>\n",
       "      <th>71</th>\n",
       "      <td>233893</td>\n",
       "      <td>66</td>\n",
       "      <td>77</td>\n",
       "      <td>98</td>\n",
       "    </tr>\n",
       "    <tr>\n",
       "      <th>74</th>\n",
       "      <td>233904</td>\n",
       "      <td>38</td>\n",
       "      <td>50</td>\n",
       "      <td>68</td>\n",
       "    </tr>\n",
       "  </tbody>\n",
       "</table>\n",
       "</div>"
      ],
      "text/plain": [
       "        id  qtd_pag_word  qtd_pg_word  pag_final\n",
       "10  228437            18           80         18\n",
       "71  233893            66           77         98\n",
       "74  233904            38           50         68"
      ]
     },
     "execution_count": 1529,
     "metadata": {},
     "output_type": "execute_result"
    }
   ],
   "source": [
    "data[(data['qtd_pg_word']-data['qtd_pag_word'])>10][['id','qtd_pag_word','qtd_pg_word','pag_final']]"
   ]
  },
  {
   "cell_type": "code",
   "execution_count": 1530,
   "metadata": {},
   "outputs": [
    {
     "data": {
      "text/html": [
       "<div>\n",
       "<style scoped>\n",
       "    .dataframe tbody tr th:only-of-type {\n",
       "        vertical-align: middle;\n",
       "    }\n",
       "\n",
       "    .dataframe tbody tr th {\n",
       "        vertical-align: top;\n",
       "    }\n",
       "\n",
       "    .dataframe thead th {\n",
       "        text-align: right;\n",
       "    }\n",
       "</style>\n",
       "<table border=\"1\" class=\"dataframe\">\n",
       "  <thead>\n",
       "    <tr style=\"text-align: right;\">\n",
       "      <th></th>\n",
       "      <th>id</th>\n",
       "      <th>qtd_pag_word</th>\n",
       "      <th>qtd_pg_word</th>\n",
       "      <th>pag_final</th>\n",
       "    </tr>\n",
       "  </thead>\n",
       "  <tbody>\n",
       "    <tr>\n",
       "      <th>10</th>\n",
       "      <td>228437</td>\n",
       "      <td>18</td>\n",
       "      <td>80</td>\n",
       "      <td>18</td>\n",
       "    </tr>\n",
       "    <tr>\n",
       "      <th>84</th>\n",
       "      <td>0</td>\n",
       "      <td>168</td>\n",
       "      <td>70</td>\n",
       "      <td>168</td>\n",
       "    </tr>\n",
       "    <tr>\n",
       "      <th>85</th>\n",
       "      <td>0</td>\n",
       "      <td>162</td>\n",
       "      <td>70</td>\n",
       "      <td>162</td>\n",
       "    </tr>\n",
       "  </tbody>\n",
       "</table>\n",
       "</div>"
      ],
      "text/plain": [
       "        id  qtd_pag_word  qtd_pg_word  pag_final\n",
       "10  228437            18           80         18\n",
       "84       0           168           70        168\n",
       "85       0           162           70        162"
      ]
     },
     "execution_count": 1530,
     "metadata": {},
     "output_type": "execute_result"
    }
   ],
   "source": [
    "data[data['qtd_pag_word']==data['pag_final']][['id','qtd_pag_word','qtd_pg_word','pag_final']]\n"
   ]
  },
  {
   "cell_type": "code",
   "execution_count": 1531,
   "metadata": {},
   "outputs": [
    {
     "data": {
      "text/html": [
       "<div>\n",
       "<style scoped>\n",
       "    .dataframe tbody tr th:only-of-type {\n",
       "        vertical-align: middle;\n",
       "    }\n",
       "\n",
       "    .dataframe tbody tr th {\n",
       "        vertical-align: top;\n",
       "    }\n",
       "\n",
       "    .dataframe thead th {\n",
       "        text-align: right;\n",
       "    }\n",
       "</style>\n",
       "<table border=\"1\" class=\"dataframe\">\n",
       "  <thead>\n",
       "    <tr style=\"text-align: right;\">\n",
       "      <th></th>\n",
       "      <th>id</th>\n",
       "      <th>qtd_pag_word</th>\n",
       "      <th>qtd_pg_word</th>\n",
       "      <th>pag_final</th>\n",
       "    </tr>\n",
       "  </thead>\n",
       "  <tbody>\n",
       "    <tr>\n",
       "      <th>10</th>\n",
       "      <td>228437</td>\n",
       "      <td>18</td>\n",
       "      <td>80</td>\n",
       "      <td>18</td>\n",
       "    </tr>\n",
       "  </tbody>\n",
       "</table>\n",
       "</div>"
      ],
      "text/plain": [
       "        id  qtd_pag_word  qtd_pg_word  pag_final\n",
       "10  228437            18           80         18"
      ]
     },
     "execution_count": 1531,
     "metadata": {},
     "output_type": "execute_result"
    }
   ],
   "source": [
    "# Deletar linha quando a quantidade de pagina do word for igual a quantidade de pagina final\n",
    "\n",
    "# critério da diferença entre qtd pagina digitado e qtd pagina raspado do word\n",
    "criterio01= ((data['qtd_pg_word']-data['qtd_pag_word'])>10)\n",
    "\n",
    "# critério de qtd pagina digitado e qtd pagina da nota fiscal serem iguais\n",
    "criterio02=(data['qtd_pag_word']==data['pag_final'])\n",
    "data[(criterio02 & criterio01)][['id','qtd_pag_word','qtd_pg_word','pag_final']]\n"
   ]
  },
  {
   "cell_type": "code",
   "execution_count": 1532,
   "metadata": {},
   "outputs": [],
   "source": [
    "# Deletar linha quando a quantidade de pagina do word for igual a quantidade de pagina final\n",
    "# caso que o \n",
    "data = data[~(criterio02 & criterio01)]"
   ]
  },
  {
   "cell_type": "code",
   "execution_count": 1533,
   "metadata": {
    "scrolled": true
   },
   "outputs": [
    {
     "name": "stdout",
     "output_type": "stream",
     "text": [
      "7\n",
      "57\n",
      "45\n"
     ]
    }
   ],
   "source": [
    "# tentanto estatificar o dataframe\n",
    "print(len(data[data[\"pag_final\"]>149]))\n",
    "print(len(data[(data[\"pag_final\"]>59) & (data[\"pag_final\"]<150)]))\n",
    "print(len(data[data[\"pag_final\"]<60]))"
   ]
  },
  {
   "cell_type": "code",
   "execution_count": 1534,
   "metadata": {},
   "outputs": [
    {
     "name": "stdout",
     "output_type": "stream",
     "text": [
      "10\n",
      "80\n",
      "19\n"
     ]
    }
   ],
   "source": [
    "print(len(data[data[\"tamanho_livro\"]==2]))\n",
    "print(len(data[data[\"tamanho_livro\"]==1]))\n",
    "print(len(data[data[\"tamanho_livro\"]==0]))"
   ]
  },
  {
   "cell_type": "code",
   "execution_count": 1535,
   "metadata": {
    "scrolled": false
   },
   "outputs": [],
   "source": [
    "#data[\"pag_final\"].to_numpy()"
   ]
  },
  {
   "cell_type": "code",
   "execution_count": 1536,
   "metadata": {},
   "outputs": [],
   "source": [
    "# Lambda function with if, elif & else i.e.\n",
    "# If the given value is less than 10 then Multiplies it by 2\n",
    "# else if it's between 10 to 20 the multiplies it by 3\n",
    "# else returns the unmodified same value\n",
    "#converter = lambda x : x*2 if x < 10 else (x*3 if x < 20 else x)"
   ]
  },
  {
   "cell_type": "code",
   "execution_count": 1537,
   "metadata": {},
   "outputs": [],
   "source": [
    "#list(map(lambda banco: banco>149, data['qtd_pag_word']))\n"
   ]
  },
  {
   "cell_type": "code",
   "execution_count": 1538,
   "metadata": {},
   "outputs": [],
   "source": [
    "#list(filter(lambda banco: banco>149, data['qtd_pag_word']))"
   ]
  },
  {
   "cell_type": "code",
   "execution_count": 1539,
   "metadata": {},
   "outputs": [],
   "source": [
    "\n",
    "#lambda_function = lambda x: x*2 if x<3 else x\n",
    "#lambda_function(2)"
   ]
  },
  {
   "cell_type": "markdown",
   "metadata": {},
   "source": [
    "# fazer um critério de seleção de dados:\n",
    "### se o dado colhido na tabela (qtd_pag_word) tiver diferente da raspagem do word (qtd_pg_word) mais de 5 pontos deve retirar do arquivo de entrada. \n",
    "###  - incluir a coluna raspagem do word (qtd_pg_word)  para treinamento"
   ]
  },
  {
   "cell_type": "code",
   "execution_count": 1540,
   "metadata": {},
   "outputs": [
    {
     "data": {
      "text/plain": [
       "109"
      ]
     },
     "execution_count": 1540,
     "metadata": {},
     "output_type": "execute_result"
    }
   ],
   "source": [
    "data['id'].count()"
   ]
  },
  {
   "cell_type": "code",
   "execution_count": 1541,
   "metadata": {},
   "outputs": [],
   "source": [
    "#\n",
    "# normalizar a quantidade de caracteres\n",
    "#\n",
    "\n",
    "# X[\"qtd_carc_normal\"]=(X.qtd_carc-X.qtd_carc.min())/(X.qtd_carc.max()-X.qtd_carc.min())"
   ]
  },
  {
   "cell_type": "code",
   "execution_count": 1542,
   "metadata": {
    "scrolled": true
   },
   "outputs": [
    {
     "data": {
      "text/html": [
       "<div>\n",
       "<style scoped>\n",
       "    .dataframe tbody tr th:only-of-type {\n",
       "        vertical-align: middle;\n",
       "    }\n",
       "\n",
       "    .dataframe tbody tr th {\n",
       "        vertical-align: top;\n",
       "    }\n",
       "\n",
       "    .dataframe thead th {\n",
       "        text-align: right;\n",
       "    }\n",
       "</style>\n",
       "<table border=\"1\" class=\"dataframe\">\n",
       "  <thead>\n",
       "    <tr style=\"text-align: right;\">\n",
       "      <th></th>\n",
       "      <th>id</th>\n",
       "      <th>entidade</th>\n",
       "      <th>fornecedor</th>\n",
       "      <th>complexidade</th>\n",
       "      <th>stat_pagto</th>\n",
       "      <th>qtd_pag_word</th>\n",
       "      <th>qtd_pag_estimado</th>\n",
       "      <th>qtd_pg_word</th>\n",
       "      <th>qtd_carc</th>\n",
       "      <th>qtd_tabela</th>\n",
       "      <th>qtd_image</th>\n",
       "      <th>qtd_estilos</th>\n",
       "      <th>pag_final</th>\n",
       "      <th>tamanho_livro</th>\n",
       "    </tr>\n",
       "  </thead>\n",
       "  <tbody>\n",
       "    <tr>\n",
       "      <th>count</th>\n",
       "      <td>109.000000</td>\n",
       "      <td>109.000000</td>\n",
       "      <td>109.000000</td>\n",
       "      <td>109.000000</td>\n",
       "      <td>109.0</td>\n",
       "      <td>109.000000</td>\n",
       "      <td>109.000000</td>\n",
       "      <td>109.000000</td>\n",
       "      <td>109.000000</td>\n",
       "      <td>109.000000</td>\n",
       "      <td>109.000000</td>\n",
       "      <td>109.000000</td>\n",
       "      <td>109.000000</td>\n",
       "      <td>109.000000</td>\n",
       "    </tr>\n",
       "    <tr>\n",
       "      <th>mean</th>\n",
       "      <td>224034.449541</td>\n",
       "      <td>0.284404</td>\n",
       "      <td>0.055046</td>\n",
       "      <td>1.431193</td>\n",
       "      <td>0.0</td>\n",
       "      <td>59.000000</td>\n",
       "      <td>93.137615</td>\n",
       "      <td>55.330275</td>\n",
       "      <td>83753.422018</td>\n",
       "      <td>277.339450</td>\n",
       "      <td>372.394495</td>\n",
       "      <td>26.678899</td>\n",
       "      <td>77.761468</td>\n",
       "      <td>0.917431</td>\n",
       "    </tr>\n",
       "    <tr>\n",
       "      <th>std</th>\n",
       "      <td>44017.653230</td>\n",
       "      <td>0.609975</td>\n",
       "      <td>0.229123</td>\n",
       "      <td>0.629035</td>\n",
       "      <td>0.0</td>\n",
       "      <td>41.499888</td>\n",
       "      <td>61.286436</td>\n",
       "      <td>38.682242</td>\n",
       "      <td>84278.605996</td>\n",
       "      <td>168.195445</td>\n",
       "      <td>232.066203</td>\n",
       "      <td>13.166231</td>\n",
       "      <td>53.807424</td>\n",
       "      <td>0.511505</td>\n",
       "    </tr>\n",
       "    <tr>\n",
       "      <th>min</th>\n",
       "      <td>0.000000</td>\n",
       "      <td>0.000000</td>\n",
       "      <td>0.000000</td>\n",
       "      <td>0.000000</td>\n",
       "      <td>0.0</td>\n",
       "      <td>12.000000</td>\n",
       "      <td>35.000000</td>\n",
       "      <td>12.000000</td>\n",
       "      <td>12032.000000</td>\n",
       "      <td>2.000000</td>\n",
       "      <td>2.000000</td>\n",
       "      <td>3.000000</td>\n",
       "      <td>22.000000</td>\n",
       "      <td>0.000000</td>\n",
       "    </tr>\n",
       "    <tr>\n",
       "      <th>25%</th>\n",
       "      <td>230630.000000</td>\n",
       "      <td>0.000000</td>\n",
       "      <td>0.000000</td>\n",
       "      <td>1.000000</td>\n",
       "      <td>0.0</td>\n",
       "      <td>33.000000</td>\n",
       "      <td>48.000000</td>\n",
       "      <td>29.000000</td>\n",
       "      <td>31211.000000</td>\n",
       "      <td>132.000000</td>\n",
       "      <td>174.000000</td>\n",
       "      <td>18.000000</td>\n",
       "      <td>46.000000</td>\n",
       "      <td>1.000000</td>\n",
       "    </tr>\n",
       "    <tr>\n",
       "      <th>50%</th>\n",
       "      <td>233263.000000</td>\n",
       "      <td>0.000000</td>\n",
       "      <td>0.000000</td>\n",
       "      <td>1.000000</td>\n",
       "      <td>0.0</td>\n",
       "      <td>46.000000</td>\n",
       "      <td>80.000000</td>\n",
       "      <td>46.000000</td>\n",
       "      <td>66193.000000</td>\n",
       "      <td>293.000000</td>\n",
       "      <td>373.000000</td>\n",
       "      <td>23.000000</td>\n",
       "      <td>68.000000</td>\n",
       "      <td>1.000000</td>\n",
       "    </tr>\n",
       "    <tr>\n",
       "      <th>75%</th>\n",
       "      <td>235142.000000</td>\n",
       "      <td>0.000000</td>\n",
       "      <td>0.000000</td>\n",
       "      <td>2.000000</td>\n",
       "      <td>0.0</td>\n",
       "      <td>76.000000</td>\n",
       "      <td>110.000000</td>\n",
       "      <td>70.000000</td>\n",
       "      <td>101971.000000</td>\n",
       "      <td>422.000000</td>\n",
       "      <td>484.000000</td>\n",
       "      <td>29.000000</td>\n",
       "      <td>92.000000</td>\n",
       "      <td>1.000000</td>\n",
       "    </tr>\n",
       "    <tr>\n",
       "      <th>max</th>\n",
       "      <td>235831.000000</td>\n",
       "      <td>2.000000</td>\n",
       "      <td>1.000000</td>\n",
       "      <td>3.000000</td>\n",
       "      <td>0.0</td>\n",
       "      <td>216.000000</td>\n",
       "      <td>420.000000</td>\n",
       "      <td>216.000000</td>\n",
       "      <td>571640.000000</td>\n",
       "      <td>604.000000</td>\n",
       "      <td>872.000000</td>\n",
       "      <td>71.000000</td>\n",
       "      <td>340.000000</td>\n",
       "      <td>2.000000</td>\n",
       "    </tr>\n",
       "  </tbody>\n",
       "</table>\n",
       "</div>"
      ],
      "text/plain": [
       "                  id    entidade  fornecedor  complexidade  stat_pagto  \\\n",
       "count     109.000000  109.000000  109.000000    109.000000       109.0   \n",
       "mean   224034.449541    0.284404    0.055046      1.431193         0.0   \n",
       "std     44017.653230    0.609975    0.229123      0.629035         0.0   \n",
       "min         0.000000    0.000000    0.000000      0.000000         0.0   \n",
       "25%    230630.000000    0.000000    0.000000      1.000000         0.0   \n",
       "50%    233263.000000    0.000000    0.000000      1.000000         0.0   \n",
       "75%    235142.000000    0.000000    0.000000      2.000000         0.0   \n",
       "max    235831.000000    2.000000    1.000000      3.000000         0.0   \n",
       "\n",
       "       qtd_pag_word  qtd_pag_estimado  qtd_pg_word       qtd_carc  qtd_tabela  \\\n",
       "count    109.000000        109.000000   109.000000     109.000000  109.000000   \n",
       "mean      59.000000         93.137615    55.330275   83753.422018  277.339450   \n",
       "std       41.499888         61.286436    38.682242   84278.605996  168.195445   \n",
       "min       12.000000         35.000000    12.000000   12032.000000    2.000000   \n",
       "25%       33.000000         48.000000    29.000000   31211.000000  132.000000   \n",
       "50%       46.000000         80.000000    46.000000   66193.000000  293.000000   \n",
       "75%       76.000000        110.000000    70.000000  101971.000000  422.000000   \n",
       "max      216.000000        420.000000   216.000000  571640.000000  604.000000   \n",
       "\n",
       "        qtd_image  qtd_estilos   pag_final  tamanho_livro  \n",
       "count  109.000000   109.000000  109.000000     109.000000  \n",
       "mean   372.394495    26.678899   77.761468       0.917431  \n",
       "std    232.066203    13.166231   53.807424       0.511505  \n",
       "min      2.000000     3.000000   22.000000       0.000000  \n",
       "25%    174.000000    18.000000   46.000000       1.000000  \n",
       "50%    373.000000    23.000000   68.000000       1.000000  \n",
       "75%    484.000000    29.000000   92.000000       1.000000  \n",
       "max    872.000000    71.000000  340.000000       2.000000  "
      ]
     },
     "execution_count": 1542,
     "metadata": {},
     "output_type": "execute_result"
    }
   ],
   "source": [
    "data.describe()"
   ]
  },
  {
   "cell_type": "markdown",
   "metadata": {},
   "source": [
    "# Normalizar?"
   ]
  },
  {
   "cell_type": "code",
   "execution_count": 1543,
   "metadata": {},
   "outputs": [],
   "source": [
    "# padronização/escalonamento dos dados.\n",
    "#\n",
    "# Escalas Diferentes Podem Ser um Problema? Normalizar?\n",
    "# https://www.linkedin.com/pulse/pr%C3%A9-processamento-de-dados-intui%C3%A7%C3%A3o-e-pr%C3%A1tica-em-lucas-thiago-zane/\n",
    "# https://medium.com/tentando-ser-um-unic%C3%B3rnio/porqu%C3%AA-e-quando-%C3%A9-necess%C3%A1rio-normalizar-os-dados-92e5cce445aa\n",
    "#\n",
    "#"
   ]
  },
  {
   "cell_type": "code",
   "execution_count": 1544,
   "metadata": {},
   "outputs": [],
   "source": [
    "# O objetivo da normalização é alterar os valores das colunas numéricas no conjunto de dados para uma escala comum,\n",
    "# sem distorcer as diferenças nos intervalos de valores.\n",
    "# Esse método é necessário apenas quando os parâmetros tiverem intervalos muito diferentes."
   ]
  },
  {
   "cell_type": "code",
   "execution_count": 1545,
   "metadata": {},
   "outputs": [],
   "source": [
    "# a normalização não é necessária para a Regressão Logística.\n",
    "# a normalização poderá fazer sentido no tratamento de outliers.\n",
    "# Deixar variáveis com escalas similares é algo importante em algoritmos que trabalham com distâncias euclidianas,\n",
    "# como é o caso das regressões lineares multivariadas.\n",
    "# random florest não envolvem o uso de distâncias euclidianas."
   ]
  },
  {
   "attachments": {
    "image.png": {
     "image/png": "[encoded data removed]"
    }
   },
   "cell_type": "markdown",
   "metadata": {},
   "source": [
    "![image.png](attachment:image.png)"
   ]
  },
  {
   "cell_type": "code",
   "execution_count": 1546,
   "metadata": {},
   "outputs": [],
   "source": [
    "# O que essa fórmula está dizendo é que pra cada observação em ambas as variáveis,\n",
    "# eu respondo a seguinte pergunta:quantos desvios padrões esse valor está longe da média? "
   ]
  },
  {
   "cell_type": "code",
   "execution_count": 1547,
   "metadata": {},
   "outputs": [],
   "source": [
    "# “E se eu quiser modelar um classificador usando Regressão Logística, eu precisaria normalizar meus dados?”\n",
    "# Tecnicamente falando, a normalização não é necessária para a Regressão Logística, \n",
    "# pois ela trata com probabilidades relacionadas as classes envolvidas, \n",
    "# se preocupa em desenhar um “fronteira” de decisão em torno de um limiar (o famoso threshold).\n",
    "# Deixar variáveis com escalas similares é algo importante em algoritmos que trabalham com distâncias euclidianas, \n",
    "# como é o caso das regressões lineares multivariadas. "
   ]
  },
  {
   "cell_type": "code",
   "execution_count": 1548,
   "metadata": {},
   "outputs": [],
   "source": [
    "# Os algoritmos de otimização:\n",
    "#Adaptive Gradient (AdaGrad)\n",
    "#Stochastic Gradient Descent (SGD)\n",
    "#Gradiente Descendente com Momentum (momentum)\n",
    "#Adaptative Delta Learning (adadelta)\n",
    "#Nesterov Accelerated Gradient (nag)\n",
    "#Otimizador RMSprop (rmsprop)\n"
   ]
  },
  {
   "cell_type": "markdown",
   "metadata": {},
   "source": [
    "### normalização (StandardScaler)\n",
    "\n",
    "from sklearn.preprocessing import StandardScaler\n",
    "\n",
    "- sc_X = StandardScaler()\n",
    "- X_train = sc_X.fit_transform(X_train)\n",
    "- X_test = sc_X.transform(X_test)\n",
    "\n",
    "- sc_y = StandardScaler()\n",
    "- y_train = sc_y.fit_transform(y_train)"
   ]
  },
  {
   "cell_type": "markdown",
   "metadata": {},
   "source": [
    "#### Uma maneira fácil de usar o Pandas : (aqui eu quero usar a normalização média)\n",
    "\n",
    "- normalized_df=(df-df.mean())/df.std()\n",
    "#### para usar a normalização min-max:\n",
    "\n",
    "- normalized_df=(df-df.min())/(df.max()-df.min())"
   ]
  },
  {
   "cell_type": "markdown",
   "metadata": {},
   "source": [
    "#### Você pode usar o pacote sklearn e seus utilitários de pré-processamento associados para normalizar os dados.\n",
    "\n",
    "- import pandas as pd\n",
    "- from sklearn import preprocessing\n",
    "\n",
    "- x = df.values #returns a numpy array\n",
    "- min_max_scaler = preprocessing.MinMaxScaler()\n",
    "- x_scaled = min_max_scaler.fit_transform(x)\n",
    "- df = pd.DataFrame(x_scaled)"
   ]
  },
  {
   "cell_type": "code",
   "execution_count": 1549,
   "metadata": {},
   "outputs": [],
   "source": [
    "#\n",
    "# normalizar a quantidade de caracteres\n",
    "#\n",
    "data.loc[:,'qtd_carc_normal'] = pd.Series((data.qtd_carc-data.qtd_carc.min())/(data.qtd_carc.max()-data.qtd_carc.min()))"
   ]
  },
  {
   "cell_type": "code",
   "execution_count": 1550,
   "metadata": {},
   "outputs": [],
   "source": [
    "#########################################################\n",
    "# INÍCIO DA PARTE DE MACHINE LEARNIG  \\\n",
    "# RANDOM FOREST\n",
    "########################################################"
   ]
  },
  {
   "cell_type": "code",
   "execution_count": 1551,
   "metadata": {},
   "outputs": [],
   "source": [
    "# instalar biblioteca scikit-learn\n",
    "#! pip install -U scikit-learn"
   ]
  },
  {
   "cell_type": "code",
   "execution_count": 1552,
   "metadata": {},
   "outputs": [
    {
     "data": {
      "text/plain": [
       "Index(['id', 'entidade', 'fornecedor', 'complexidade', 'stat_pagto',\n",
       "       'qtd_pag_word', 'qtd_pag_estimado', 'qtd_pg_word', 'qtd_carc',\n",
       "       'qtd_tabela', 'qtd_image', 'qtd_estilos', 'pag_final', 'tamanho_livro',\n",
       "       'qtd_carc_normal'],\n",
       "      dtype='object')"
      ]
     },
     "execution_count": 1552,
     "metadata": {},
     "output_type": "execute_result"
    }
   ],
   "source": [
    "data.columns"
   ]
  },
  {
   "cell_type": "code",
   "execution_count": 1553,
   "metadata": {},
   "outputs": [],
   "source": [
    "#colunas_X= ['qtd_pag_word', 'qtd_carc','qtd_tabela','qtd_image',\"qtd_estilos\"]\n",
    "#colunas_X= ['qtd_pag_word', 'qtd_tabela','qtd_image',\"qtd_estilos\", 'qtd_carc_normal']\n",
    "#colunas_X= ['qtd_pag_word', 'qtd_tabela','qtd_image','qtd_carc_normal']\n",
    "#colunas_X= ['qtd_pag_word', 'qtd_carc','qtd_tabela','qtd_image']\n",
    "#colunas_X= ['qtd_pag_word', 'qtd_tabela','qtd_image', 'qtd_carc_normal']\n",
    "\n",
    "\n",
    "colunas_X= ['complexidade','entidade','qtd_pag_word', 'qtd_pg_word','qtd_tabela','qtd_image', 'qtd_carc','tamanho_livro']\n",
    "\n",
    "#colunas_X= ['qtd_pag_word', 'qtd_pg_word','qtd_tabela','qtd_image','qtd_carc','tamanho_livro']\n",
    "\n",
    "\n",
    "colunas_y=['pag_final']\n",
    "X = data[colunas_X]\n",
    "y = data[colunas_y]"
   ]
  },
  {
   "cell_type": "code",
   "execution_count": 1554,
   "metadata": {},
   "outputs": [
    {
     "data": {
      "text/plain": [
       "Index(['complexidade', 'entidade', 'qtd_pag_word', 'qtd_pg_word', 'qtd_tabela',\n",
       "       'qtd_image', 'qtd_carc', 'tamanho_livro'],\n",
       "      dtype='object')"
      ]
     },
     "execution_count": 1554,
     "metadata": {},
     "output_type": "execute_result"
    }
   ],
   "source": [
    "X.columns"
   ]
  },
  {
   "cell_type": "code",
   "execution_count": 1555,
   "metadata": {},
   "outputs": [],
   "source": [
    "# método train_test_split, Scikit-Learn \n",
    "X_train_f, X_test_f, y_train_f, y_test_f = train_test_split(X, y, test_size=0.10, random_state=1,stratify=X['tamanho_livro'])"
   ]
  },
  {
   "cell_type": "code",
   "execution_count": 1556,
   "metadata": {},
   "outputs": [
    {
     "data": {
      "text/plain": [
       "((98, 8), (11, 8), (98, 1), (11, 1))"
      ]
     },
     "execution_count": 1556,
     "metadata": {},
     "output_type": "execute_result"
    }
   ],
   "source": [
    "X_train_f.shape, X_test_f.shape, y_train_f.shape, y_test_f.shape"
   ]
  },
  {
   "cell_type": "code",
   "execution_count": 1557,
   "metadata": {},
   "outputs": [
    {
     "data": {
      "text/html": [
       "<div>\n",
       "<style scoped>\n",
       "    .dataframe tbody tr th:only-of-type {\n",
       "        vertical-align: middle;\n",
       "    }\n",
       "\n",
       "    .dataframe tbody tr th {\n",
       "        vertical-align: top;\n",
       "    }\n",
       "\n",
       "    .dataframe thead th {\n",
       "        text-align: right;\n",
       "    }\n",
       "</style>\n",
       "<table border=\"1\" class=\"dataframe\">\n",
       "  <thead>\n",
       "    <tr style=\"text-align: right;\">\n",
       "      <th></th>\n",
       "      <th>pag_final</th>\n",
       "    </tr>\n",
       "  </thead>\n",
       "  <tbody>\n",
       "    <tr>\n",
       "      <th>20</th>\n",
       "      <td>110</td>\n",
       "    </tr>\n",
       "    <tr>\n",
       "      <th>43</th>\n",
       "      <td>66</td>\n",
       "    </tr>\n",
       "    <tr>\n",
       "      <th>39</th>\n",
       "      <td>48</td>\n",
       "    </tr>\n",
       "    <tr>\n",
       "      <th>27</th>\n",
       "      <td>72</td>\n",
       "    </tr>\n",
       "    <tr>\n",
       "      <th>69</th>\n",
       "      <td>176</td>\n",
       "    </tr>\n",
       "  </tbody>\n",
       "</table>\n",
       "</div>"
      ],
      "text/plain": [
       "    pag_final\n",
       "20        110\n",
       "43         66\n",
       "39         48\n",
       "27         72\n",
       "69        176"
      ]
     },
     "execution_count": 1557,
     "metadata": {},
     "output_type": "execute_result"
    }
   ],
   "source": [
    "y_test_f.head()"
   ]
  },
  {
   "cell_type": "code",
   "execution_count": 1558,
   "metadata": {},
   "outputs": [
    {
     "data": {
      "text/html": [
       "<div>\n",
       "<style scoped>\n",
       "    .dataframe tbody tr th:only-of-type {\n",
       "        vertical-align: middle;\n",
       "    }\n",
       "\n",
       "    .dataframe tbody tr th {\n",
       "        vertical-align: top;\n",
       "    }\n",
       "\n",
       "    .dataframe thead th {\n",
       "        text-align: right;\n",
       "    }\n",
       "</style>\n",
       "<table border=\"1\" class=\"dataframe\">\n",
       "  <thead>\n",
       "    <tr style=\"text-align: right;\">\n",
       "      <th></th>\n",
       "      <th>complexidade</th>\n",
       "      <th>entidade</th>\n",
       "      <th>qtd_pag_word</th>\n",
       "      <th>qtd_pg_word</th>\n",
       "      <th>qtd_tabela</th>\n",
       "      <th>qtd_image</th>\n",
       "      <th>qtd_carc</th>\n",
       "      <th>tamanho_livro</th>\n",
       "    </tr>\n",
       "  </thead>\n",
       "  <tbody>\n",
       "    <tr>\n",
       "      <th>83</th>\n",
       "      <td>1</td>\n",
       "      <td>0</td>\n",
       "      <td>49</td>\n",
       "      <td>49</td>\n",
       "      <td>469</td>\n",
       "      <td>451</td>\n",
       "      <td>103663</td>\n",
       "      <td>1</td>\n",
       "    </tr>\n",
       "    <tr>\n",
       "      <th>8</th>\n",
       "      <td>1</td>\n",
       "      <td>0</td>\n",
       "      <td>62</td>\n",
       "      <td>62</td>\n",
       "      <td>40</td>\n",
       "      <td>73</td>\n",
       "      <td>43155</td>\n",
       "      <td>1</td>\n",
       "    </tr>\n",
       "    <tr>\n",
       "      <th>16</th>\n",
       "      <td>1</td>\n",
       "      <td>0</td>\n",
       "      <td>78</td>\n",
       "      <td>78</td>\n",
       "      <td>365</td>\n",
       "      <td>562</td>\n",
       "      <td>120783</td>\n",
       "      <td>1</td>\n",
       "    </tr>\n",
       "    <tr>\n",
       "      <th>0</th>\n",
       "      <td>1</td>\n",
       "      <td>0</td>\n",
       "      <td>87</td>\n",
       "      <td>87</td>\n",
       "      <td>505</td>\n",
       "      <td>742</td>\n",
       "      <td>116142</td>\n",
       "      <td>2</td>\n",
       "    </tr>\n",
       "    <tr>\n",
       "      <th>52</th>\n",
       "      <td>1</td>\n",
       "      <td>2</td>\n",
       "      <td>78</td>\n",
       "      <td>76</td>\n",
       "      <td>403</td>\n",
       "      <td>638</td>\n",
       "      <td>83989</td>\n",
       "      <td>1</td>\n",
       "    </tr>\n",
       "    <tr>\n",
       "      <th>...</th>\n",
       "      <td>...</td>\n",
       "      <td>...</td>\n",
       "      <td>...</td>\n",
       "      <td>...</td>\n",
       "      <td>...</td>\n",
       "      <td>...</td>\n",
       "      <td>...</td>\n",
       "      <td>...</td>\n",
       "    </tr>\n",
       "    <tr>\n",
       "      <th>99</th>\n",
       "      <td>1</td>\n",
       "      <td>0</td>\n",
       "      <td>40</td>\n",
       "      <td>40</td>\n",
       "      <td>178</td>\n",
       "      <td>266</td>\n",
       "      <td>45137</td>\n",
       "      <td>1</td>\n",
       "    </tr>\n",
       "    <tr>\n",
       "      <th>72</th>\n",
       "      <td>2</td>\n",
       "      <td>0</td>\n",
       "      <td>19</td>\n",
       "      <td>19</td>\n",
       "      <td>456</td>\n",
       "      <td>436</td>\n",
       "      <td>16370</td>\n",
       "      <td>1</td>\n",
       "    </tr>\n",
       "    <tr>\n",
       "      <th>100</th>\n",
       "      <td>1</td>\n",
       "      <td>0</td>\n",
       "      <td>73</td>\n",
       "      <td>73</td>\n",
       "      <td>181</td>\n",
       "      <td>271</td>\n",
       "      <td>162582</td>\n",
       "      <td>1</td>\n",
       "    </tr>\n",
       "    <tr>\n",
       "      <th>34</th>\n",
       "      <td>1</td>\n",
       "      <td>0</td>\n",
       "      <td>63</td>\n",
       "      <td>63</td>\n",
       "      <td>149</td>\n",
       "      <td>172</td>\n",
       "      <td>74781</td>\n",
       "      <td>1</td>\n",
       "    </tr>\n",
       "    <tr>\n",
       "      <th>104</th>\n",
       "      <td>2</td>\n",
       "      <td>0</td>\n",
       "      <td>28</td>\n",
       "      <td>28</td>\n",
       "      <td>369</td>\n",
       "      <td>346</td>\n",
       "      <td>25136</td>\n",
       "      <td>0</td>\n",
       "    </tr>\n",
       "  </tbody>\n",
       "</table>\n",
       "<p>98 rows × 8 columns</p>\n",
       "</div>"
      ],
      "text/plain": [
       "     complexidade  entidade  qtd_pag_word  qtd_pg_word  qtd_tabela  qtd_image  \\\n",
       "83              1         0            49           49         469        451   \n",
       "8               1         0            62           62          40         73   \n",
       "16              1         0            78           78         365        562   \n",
       "0               1         0            87           87         505        742   \n",
       "52              1         2            78           76         403        638   \n",
       "..            ...       ...           ...          ...         ...        ...   \n",
       "99              1         0            40           40         178        266   \n",
       "72              2         0            19           19         456        436   \n",
       "100             1         0            73           73         181        271   \n",
       "34              1         0            63           63         149        172   \n",
       "104             2         0            28           28         369        346   \n",
       "\n",
       "     qtd_carc  tamanho_livro  \n",
       "83     103663              1  \n",
       "8       43155              1  \n",
       "16     120783              1  \n",
       "0      116142              2  \n",
       "52      83989              1  \n",
       "..        ...            ...  \n",
       "99      45137              1  \n",
       "72      16370              1  \n",
       "100    162582              1  \n",
       "34      74781              1  \n",
       "104     25136              0  \n",
       "\n",
       "[98 rows x 8 columns]"
      ]
     },
     "execution_count": 1558,
     "metadata": {},
     "output_type": "execute_result"
    }
   ],
   "source": [
    "X_train_f"
   ]
  },
  {
   "cell_type": "code",
   "execution_count": 1559,
   "metadata": {},
   "outputs": [
    {
     "data": {
      "text/plain": [
       "complexidade     int64\n",
       "entidade         int64\n",
       "qtd_pag_word     int64\n",
       "qtd_pg_word      int64\n",
       "qtd_tabela       int64\n",
       "qtd_image        int64\n",
       "qtd_carc         int64\n",
       "tamanho_livro    int64\n",
       "dtype: object"
      ]
     },
     "execution_count": 1559,
     "metadata": {},
     "output_type": "execute_result"
    }
   ],
   "source": [
    "X_train_f.dtypes"
   ]
  },
  {
   "cell_type": "code",
   "execution_count": 1560,
   "metadata": {},
   "outputs": [
    {
     "data": {
      "text/html": [
       "<div>\n",
       "<style scoped>\n",
       "    .dataframe tbody tr th:only-of-type {\n",
       "        vertical-align: middle;\n",
       "    }\n",
       "\n",
       "    .dataframe tbody tr th {\n",
       "        vertical-align: top;\n",
       "    }\n",
       "\n",
       "    .dataframe thead th {\n",
       "        text-align: right;\n",
       "    }\n",
       "</style>\n",
       "<table border=\"1\" class=\"dataframe\">\n",
       "  <thead>\n",
       "    <tr style=\"text-align: right;\">\n",
       "      <th></th>\n",
       "      <th>pag_final</th>\n",
       "    </tr>\n",
       "  </thead>\n",
       "  <tbody>\n",
       "    <tr>\n",
       "      <th>83</th>\n",
       "      <td>84</td>\n",
       "    </tr>\n",
       "    <tr>\n",
       "      <th>8</th>\n",
       "      <td>70</td>\n",
       "    </tr>\n",
       "    <tr>\n",
       "      <th>16</th>\n",
       "      <td>86</td>\n",
       "    </tr>\n",
       "    <tr>\n",
       "      <th>0</th>\n",
       "      <td>140</td>\n",
       "    </tr>\n",
       "    <tr>\n",
       "      <th>52</th>\n",
       "      <td>100</td>\n",
       "    </tr>\n",
       "    <tr>\n",
       "      <th>...</th>\n",
       "      <td>...</td>\n",
       "    </tr>\n",
       "    <tr>\n",
       "      <th>99</th>\n",
       "      <td>62</td>\n",
       "    </tr>\n",
       "    <tr>\n",
       "      <th>72</th>\n",
       "      <td>38</td>\n",
       "    </tr>\n",
       "    <tr>\n",
       "      <th>100</th>\n",
       "      <td>110</td>\n",
       "    </tr>\n",
       "    <tr>\n",
       "      <th>34</th>\n",
       "      <td>74</td>\n",
       "    </tr>\n",
       "    <tr>\n",
       "      <th>104</th>\n",
       "      <td>42</td>\n",
       "    </tr>\n",
       "  </tbody>\n",
       "</table>\n",
       "<p>98 rows × 1 columns</p>\n",
       "</div>"
      ],
      "text/plain": [
       "     pag_final\n",
       "83          84\n",
       "8           70\n",
       "16          86\n",
       "0          140\n",
       "52         100\n",
       "..         ...\n",
       "99          62\n",
       "72          38\n",
       "100        110\n",
       "34          74\n",
       "104         42\n",
       "\n",
       "[98 rows x 1 columns]"
      ]
     },
     "execution_count": 1560,
     "metadata": {},
     "output_type": "execute_result"
    }
   ],
   "source": [
    "y_train_f"
   ]
  },
  {
   "cell_type": "code",
   "execution_count": 1561,
   "metadata": {},
   "outputs": [
    {
     "name": "stdout",
     "output_type": "stream",
     "text": [
      "(98, 8) (98, 1)\n"
     ]
    }
   ],
   "source": [
    "print(X_train_f.shape,y_train_f.shape)"
   ]
  },
  {
   "cell_type": "code",
   "execution_count": 1562,
   "metadata": {},
   "outputs": [
    {
     "name": "stdout",
     "output_type": "stream",
     "text": [
      "(98, 8) (98,)\n"
     ]
    }
   ],
   "source": [
    "print(X_train_f.shape,y_train_f.values.ravel().shape)"
   ]
  },
  {
   "cell_type": "code",
   "execution_count": 1563,
   "metadata": {},
   "outputs": [],
   "source": [
    "modelo = RandomForestClassifier(n_estimators=100, n_jobs=-1, random_state=0)\n",
    "#modelo = RandomForestClassifier(n_estimators=100, n_jobs=-1, random_state=0)\n",
    "\n",
    "#modelo.fit(X_train_f, y_train_f)\n",
    "modelo = modelo.fit(X_train_f, y_train_f.values.ravel())\n",
    "\n",
    "# https://stackoverflow.com/questions/34165731/a-column-vector-y-was-passed-when-a-1d-array-was-expected\n",
    "#.values will give the values in an array. (shape: (n,1)\n",
    "#.ravel will convert that array shape to   (n, )"
   ]
  },
  {
   "cell_type": "code",
   "execution_count": 1564,
   "metadata": {},
   "outputs": [],
   "source": [
    "p = modelo.predict(X_test_f)"
   ]
  },
  {
   "cell_type": "code",
   "execution_count": 1565,
   "metadata": {},
   "outputs": [
    {
     "data": {
      "text/plain": [
       "array([84, 84, 40, 62, 84, 86, 46, 48, 68, 84, 76])"
      ]
     },
     "execution_count": 1565,
     "metadata": {},
     "output_type": "execute_result"
    }
   ],
   "source": [
    "p"
   ]
  },
  {
   "cell_type": "code",
   "execution_count": 1566,
   "metadata": {},
   "outputs": [
    {
     "name": "stdout",
     "output_type": "stream",
     "text": [
      "(11,) (11, 1)\n"
     ]
    }
   ],
   "source": [
    "print(p.shape,y_test_f.shape)"
   ]
  },
  {
   "cell_type": "code",
   "execution_count": 1567,
   "metadata": {},
   "outputs": [
    {
     "data": {
      "text/html": [
       "<div>\n",
       "<style scoped>\n",
       "    .dataframe tbody tr th:only-of-type {\n",
       "        vertical-align: middle;\n",
       "    }\n",
       "\n",
       "    .dataframe tbody tr th {\n",
       "        vertical-align: top;\n",
       "    }\n",
       "\n",
       "    .dataframe thead th {\n",
       "        text-align: right;\n",
       "    }\n",
       "</style>\n",
       "<table border=\"1\" class=\"dataframe\">\n",
       "  <thead>\n",
       "    <tr style=\"text-align: right;\">\n",
       "      <th></th>\n",
       "      <th>pag_final</th>\n",
       "    </tr>\n",
       "  </thead>\n",
       "  <tbody>\n",
       "    <tr>\n",
       "      <th>20</th>\n",
       "      <td>110</td>\n",
       "    </tr>\n",
       "    <tr>\n",
       "      <th>43</th>\n",
       "      <td>66</td>\n",
       "    </tr>\n",
       "    <tr>\n",
       "      <th>39</th>\n",
       "      <td>48</td>\n",
       "    </tr>\n",
       "    <tr>\n",
       "      <th>27</th>\n",
       "      <td>72</td>\n",
       "    </tr>\n",
       "    <tr>\n",
       "      <th>69</th>\n",
       "      <td>176</td>\n",
       "    </tr>\n",
       "    <tr>\n",
       "      <th>71</th>\n",
       "      <td>98</td>\n",
       "    </tr>\n",
       "    <tr>\n",
       "      <th>38</th>\n",
       "      <td>46</td>\n",
       "    </tr>\n",
       "    <tr>\n",
       "      <th>58</th>\n",
       "      <td>48</td>\n",
       "    </tr>\n",
       "    <tr>\n",
       "      <th>93</th>\n",
       "      <td>82</td>\n",
       "    </tr>\n",
       "    <tr>\n",
       "      <th>17</th>\n",
       "      <td>70</td>\n",
       "    </tr>\n",
       "    <tr>\n",
       "      <th>19</th>\n",
       "      <td>66</td>\n",
       "    </tr>\n",
       "  </tbody>\n",
       "</table>\n",
       "</div>"
      ],
      "text/plain": [
       "    pag_final\n",
       "20        110\n",
       "43         66\n",
       "39         48\n",
       "27         72\n",
       "69        176\n",
       "71         98\n",
       "38         46\n",
       "58         48\n",
       "93         82\n",
       "17         70\n",
       "19         66"
      ]
     },
     "execution_count": 1567,
     "metadata": {},
     "output_type": "execute_result"
    }
   ],
   "source": [
    "y_test_f"
   ]
  },
  {
   "cell_type": "code",
   "execution_count": 1568,
   "metadata": {},
   "outputs": [
    {
     "name": "stdout",
     "output_type": "stream",
     "text": [
      "RMSE:  30.546536777364945\n"
     ]
    }
   ],
   "source": [
    "# Calculando RMSE utilizando scikit-learn\n",
    "print('RMSE: ',np.sqrt(metrics.mean_squared_error(y_test_f,p)))\n",
    "# RMSE:  78.92781512242689\n",
    "# RMSE:  78.58244078673046\n",
    "# RMSE:  19.371957239079567\n",
    "# RMSE:  53.665631459994955\n",
    "# RMSE:  26.642413213111567 sem a feature quantidade de estilo\n",
    "# RMSE:  28.926238482168273   ['qtd_pag_word', 'qtd_carc','qtd_tabela','qtd_image']\n",
    "# RMSE:  9.302980949429841 depois de configurar split por estratificação\n",
    "# RMSE:  14.142135623730951"
   ]
  },
  {
   "cell_type": "code",
   "execution_count": 1569,
   "metadata": {},
   "outputs": [],
   "source": [
    "# Save Model Using Pickle\n",
    "# save the model to disk\n",
    "\n",
    "filename = 'finalized_model-forest3a.sav'\n",
    "pickle.dump(modelo, open(filename, 'wb'))\n",
    " "
   ]
  },
  {
   "cell_type": "code",
   "execution_count": null,
   "metadata": {},
   "outputs": [],
   "source": []
  },
  {
   "cell_type": "code",
   "execution_count": null,
   "metadata": {},
   "outputs": [],
   "source": []
  },
  {
   "cell_type": "code",
   "execution_count": 1570,
   "metadata": {},
   "outputs": [],
   "source": [
    "##############################################################################################################"
   ]
  },
  {
   "cell_type": "code",
   "execution_count": 1571,
   "metadata": {},
   "outputs": [],
   "source": [
    "#########################################################\n",
    "# FIM RANDOM FOREST\n",
    "########################################################"
   ]
  },
  {
   "cell_type": "code",
   "execution_count": null,
   "metadata": {},
   "outputs": [],
   "source": []
  },
  {
   "cell_type": "code",
   "execution_count": 1572,
   "metadata": {},
   "outputs": [],
   "source": [
    "# https://github.com/WalnerPessoa/Medical-Cost-Personal/blob/master/Aula%205%20-%20Regress%C3%A3o%20linear%20para%20prever%20as%20despesas%20m%C3%A9dicas%20de%20um%20paciente%20.ipynb\n",
    "\n",
    "\n",
    "# Criando uma lista com os nomes dos atributos\n",
    "#feature_cols = ['age','sex','bmi','children','smoker']\n",
    "\n",
    "# Usando a lista para escolher um subconjunto do dataframe original\n",
    "#X = data[feature_cols]\n",
    "\n",
    "# Selecionando a Série no dataframe\n",
    "#y = data.charges\n",
    "\n",
    "# Dividindo entre conjunto de treinamento e teste\n",
    "#X_train, X_test, y_train, y_test = train_test_split(X, y, random_state=1)\n",
    "\n",
    "# Ajsutando o modelo (Aprendendo os coeficientes)\n",
    "#linreg.fit(X_train, y_train)\n",
    "\n",
    "# Fazendo predições no conjunto de teste\n",
    "#y_pred = linreg.predict(X_test)\n",
    "\n",
    "# Calculando RMSE para nossas predições\n",
    "#print(np.sqrt(metrics.mean_squared_error(y_test, y_pred)))"
   ]
  },
  {
   "cell_type": "code",
   "execution_count": 1573,
   "metadata": {},
   "outputs": [],
   "source": [
    "##############################################################################################################"
   ]
  },
  {
   "cell_type": "code",
   "execution_count": 1574,
   "metadata": {},
   "outputs": [],
   "source": [
    "#########################################################\n",
    "# INÍCIO DA PARTE DE MACHINE LEARNIG  \\\n",
    "# LINEAR REGRESSION\n",
    "########################################################"
   ]
  },
  {
   "cell_type": "code",
   "execution_count": 1635,
   "metadata": {},
   "outputs": [],
   "source": [
    "# prepara dados de entrada X e dados de saida Y\n",
    "#colunas_X= ['entidade', 'fornecedor', 'complexidade', 'stat_pagto','qtd_pag_word', 'qtd_carc', 'qtd_tabela','qtd_image']\n",
    "# colunas_X= ['complexidade', 'qtd_pag_word', 'qtd_carc','qtd_tabela','qtd_image']\n",
    "#colunas_X= ['complexidade', 'qtd_pag_word', \"qtd_carc_normal\",'qtd_tabela','qtd_image']\n",
    "#colunas_X= ['complexidade', 'qtd_pag_word', 'qtd_pag_estimado','qtd_carc','qtd_tabela','qtd_image']\n",
    "#colunas_X= ['qtd_pag_word', 'qtd_carc','qtd_tabela','qtd_image',\"qtd_estilos\"]\n",
    "#colunas_X= ['qtd_pag_word', 'qtd_tabela','qtd_image',\"qtd_estilos\", 'qtd_carc_normal']\n",
    "#colunas_X= ['qtd_pag_word', 'qtd_tabela','qtd_image', 'qtd_carc_normal']\n",
    "\n",
    "\n",
    "#colunas_X= ['id','qtd_pag_word', 'qtd_pag_estimado', 'qtd_carc','qtd_tabela','qtd_image']\n",
    "colunas_X= ['id','complexidade', 'qtd_pag_estimado', 'qtd_pag_word', 'qtd_pg_word','qtd_carc','qtd_tabela','qtd_image',\"qtd_estilos\",'qtd_carc_normal','tamanho_livro']\n",
    "\n",
    "\n",
    "colunas_y=['pag_final']\n",
    "X = data[colunas_X]\n",
    "y = data[colunas_y]"
   ]
  },
  {
   "cell_type": "code",
   "execution_count": 1636,
   "metadata": {},
   "outputs": [],
   "source": [
    "# método train_test_split, Scikit-Learn \n",
    "X_train, X_test, y_train, y_test = train_test_split(X, y,  test_size=0.10,random_state=1,stratify=X['tamanho_livro']) # feito com 0,10 e agora com 0,20"
   ]
  },
  {
   "cell_type": "code",
   "execution_count": 1637,
   "metadata": {},
   "outputs": [],
   "source": [
    "####\n",
    "####   selecionar a FEATURES para MODELO\n",
    "####\n",
    "# mantendo algumas features para compara resultados no final no arquivo X_train_ref\n",
    "X_test_ref = X_test.copy()\n",
    "X_train_ref= X_train.copy()\n",
    "\n",
    "# X_test = X_test_ref[['qtd_pag_word', 'qtd_carc','qtd_tabela','qtd_image']]\n",
    "\n",
    "#X_test = X_test_ref[[ 'qtd_pag_word', 'qtd_tabela','qtd_image','qtd_carc_normal']]\n",
    "#X_test = X_test_ref[['qtd_pag_word', 'qtd_tabela','qtd_image',\"qtd_estilos\", 'qtd_carc_normal']]\n",
    "\n",
    "#X_test = X_test_ref[[ 'qtd_pag_word','qtd_pg_word','qtd_tabela','qtd_image',\"qtd_estilos\", 'qtd_carc_normal','tamanho_livro']]\n",
    "X_test = X_test_ref[['qtd_pag_word','qtd_pg_word', 'qtd_tabela','qtd_image', 'qtd_carc_normal','tamanho_livro']]\n",
    "\n",
    "\n",
    "#X_train = X_train_ref[['qtd_pag_word', 'qtd_carc','qtd_tabela','qtd_image']]\n",
    "\n",
    "#X_train = X_train_ref[['qtd_pag_word', 'qtd_tabela','qtd_image','qtd_carc_normal']]\n",
    "#X_train = X_train_ref[['qtd_pag_word', 'qtd_tabela','qtd_image',\"qtd_estilos\", 'qtd_carc_normal']]\n",
    "\n",
    "#X_train = X_train_ref[['qtd_pag_word','qtd_pg_word', 'qtd_tabela','qtd_image',\"qtd_estilos\", 'qtd_carc_normal','tamanho_livro']]\n",
    "\n",
    "X_train = X_train_ref[['qtd_pag_word','qtd_pg_word', 'qtd_tabela','qtd_image', 'qtd_carc_normal','tamanho_livro']]\n"
   ]
  },
  {
   "cell_type": "code",
   "execution_count": 1638,
   "metadata": {},
   "outputs": [
    {
     "data": {
      "text/plain": [
       "Index(['id', 'complexidade', 'qtd_pag_estimado', 'qtd_pag_word', 'qtd_pg_word',\n",
       "       'qtd_carc', 'qtd_tabela', 'qtd_image', 'qtd_estilos', 'qtd_carc_normal',\n",
       "       'tamanho_livro'],\n",
       "      dtype='object')"
      ]
     },
     "execution_count": 1638,
     "metadata": {},
     "output_type": "execute_result"
    }
   ],
   "source": [
    "X_test_ref.columns"
   ]
  },
  {
   "cell_type": "code",
   "execution_count": 1639,
   "metadata": {},
   "outputs": [
    {
     "data": {
      "text/html": [
       "<div>\n",
       "<style scoped>\n",
       "    .dataframe tbody tr th:only-of-type {\n",
       "        vertical-align: middle;\n",
       "    }\n",
       "\n",
       "    .dataframe tbody tr th {\n",
       "        vertical-align: top;\n",
       "    }\n",
       "\n",
       "    .dataframe thead th {\n",
       "        text-align: right;\n",
       "    }\n",
       "</style>\n",
       "<table border=\"1\" class=\"dataframe\">\n",
       "  <thead>\n",
       "    <tr style=\"text-align: right;\">\n",
       "      <th></th>\n",
       "      <th>qtd_pag_word</th>\n",
       "      <th>qtd_pg_word</th>\n",
       "      <th>qtd_tabela</th>\n",
       "      <th>qtd_image</th>\n",
       "      <th>qtd_carc_normal</th>\n",
       "      <th>tamanho_livro</th>\n",
       "    </tr>\n",
       "  </thead>\n",
       "  <tbody>\n",
       "    <tr>\n",
       "      <th>83</th>\n",
       "      <td>49</td>\n",
       "      <td>49</td>\n",
       "      <td>469</td>\n",
       "      <td>451</td>\n",
       "      <td>0.163741</td>\n",
       "      <td>1</td>\n",
       "    </tr>\n",
       "    <tr>\n",
       "      <th>8</th>\n",
       "      <td>62</td>\n",
       "      <td>62</td>\n",
       "      <td>40</td>\n",
       "      <td>73</td>\n",
       "      <td>0.055616</td>\n",
       "      <td>1</td>\n",
       "    </tr>\n",
       "    <tr>\n",
       "      <th>16</th>\n",
       "      <td>78</td>\n",
       "      <td>78</td>\n",
       "      <td>365</td>\n",
       "      <td>562</td>\n",
       "      <td>0.194334</td>\n",
       "      <td>1</td>\n",
       "    </tr>\n",
       "    <tr>\n",
       "      <th>0</th>\n",
       "      <td>87</td>\n",
       "      <td>87</td>\n",
       "      <td>505</td>\n",
       "      <td>742</td>\n",
       "      <td>0.186041</td>\n",
       "      <td>2</td>\n",
       "    </tr>\n",
       "    <tr>\n",
       "      <th>52</th>\n",
       "      <td>78</td>\n",
       "      <td>76</td>\n",
       "      <td>403</td>\n",
       "      <td>638</td>\n",
       "      <td>0.128585</td>\n",
       "      <td>1</td>\n",
       "    </tr>\n",
       "    <tr>\n",
       "      <th>...</th>\n",
       "      <td>...</td>\n",
       "      <td>...</td>\n",
       "      <td>...</td>\n",
       "      <td>...</td>\n",
       "      <td>...</td>\n",
       "      <td>...</td>\n",
       "    </tr>\n",
       "    <tr>\n",
       "      <th>99</th>\n",
       "      <td>40</td>\n",
       "      <td>40</td>\n",
       "      <td>178</td>\n",
       "      <td>266</td>\n",
       "      <td>0.059157</td>\n",
       "      <td>1</td>\n",
       "    </tr>\n",
       "    <tr>\n",
       "      <th>72</th>\n",
       "      <td>19</td>\n",
       "      <td>19</td>\n",
       "      <td>456</td>\n",
       "      <td>436</td>\n",
       "      <td>0.007752</td>\n",
       "      <td>1</td>\n",
       "    </tr>\n",
       "    <tr>\n",
       "      <th>100</th>\n",
       "      <td>73</td>\n",
       "      <td>73</td>\n",
       "      <td>181</td>\n",
       "      <td>271</td>\n",
       "      <td>0.269028</td>\n",
       "      <td>1</td>\n",
       "    </tr>\n",
       "    <tr>\n",
       "      <th>34</th>\n",
       "      <td>63</td>\n",
       "      <td>63</td>\n",
       "      <td>149</td>\n",
       "      <td>172</td>\n",
       "      <td>0.112130</td>\n",
       "      <td>1</td>\n",
       "    </tr>\n",
       "    <tr>\n",
       "      <th>104</th>\n",
       "      <td>28</td>\n",
       "      <td>28</td>\n",
       "      <td>369</td>\n",
       "      <td>346</td>\n",
       "      <td>0.023416</td>\n",
       "      <td>0</td>\n",
       "    </tr>\n",
       "  </tbody>\n",
       "</table>\n",
       "<p>98 rows × 6 columns</p>\n",
       "</div>"
      ],
      "text/plain": [
       "     qtd_pag_word  qtd_pg_word  qtd_tabela  qtd_image  qtd_carc_normal  \\\n",
       "83             49           49         469        451         0.163741   \n",
       "8              62           62          40         73         0.055616   \n",
       "16             78           78         365        562         0.194334   \n",
       "0              87           87         505        742         0.186041   \n",
       "52             78           76         403        638         0.128585   \n",
       "..            ...          ...         ...        ...              ...   \n",
       "99             40           40         178        266         0.059157   \n",
       "72             19           19         456        436         0.007752   \n",
       "100            73           73         181        271         0.269028   \n",
       "34             63           63         149        172         0.112130   \n",
       "104            28           28         369        346         0.023416   \n",
       "\n",
       "     tamanho_livro  \n",
       "83               1  \n",
       "8                1  \n",
       "16               1  \n",
       "0                2  \n",
       "52               1  \n",
       "..             ...  \n",
       "99               1  \n",
       "72               1  \n",
       "100              1  \n",
       "34               1  \n",
       "104              0  \n",
       "\n",
       "[98 rows x 6 columns]"
      ]
     },
     "execution_count": 1639,
     "metadata": {},
     "output_type": "execute_result"
    }
   ],
   "source": [
    "X_train"
   ]
  },
  {
   "cell_type": "code",
   "execution_count": 1640,
   "metadata": {},
   "outputs": [
    {
     "data": {
      "text/html": [
       "<div>\n",
       "<style scoped>\n",
       "    .dataframe tbody tr th:only-of-type {\n",
       "        vertical-align: middle;\n",
       "    }\n",
       "\n",
       "    .dataframe tbody tr th {\n",
       "        vertical-align: top;\n",
       "    }\n",
       "\n",
       "    .dataframe thead th {\n",
       "        text-align: right;\n",
       "    }\n",
       "</style>\n",
       "<table border=\"1\" class=\"dataframe\">\n",
       "  <thead>\n",
       "    <tr style=\"text-align: right;\">\n",
       "      <th></th>\n",
       "      <th>pag_final</th>\n",
       "    </tr>\n",
       "  </thead>\n",
       "  <tbody>\n",
       "    <tr>\n",
       "      <th>83</th>\n",
       "      <td>84</td>\n",
       "    </tr>\n",
       "    <tr>\n",
       "      <th>8</th>\n",
       "      <td>70</td>\n",
       "    </tr>\n",
       "    <tr>\n",
       "      <th>16</th>\n",
       "      <td>86</td>\n",
       "    </tr>\n",
       "    <tr>\n",
       "      <th>0</th>\n",
       "      <td>140</td>\n",
       "    </tr>\n",
       "    <tr>\n",
       "      <th>52</th>\n",
       "      <td>100</td>\n",
       "    </tr>\n",
       "    <tr>\n",
       "      <th>...</th>\n",
       "      <td>...</td>\n",
       "    </tr>\n",
       "    <tr>\n",
       "      <th>99</th>\n",
       "      <td>62</td>\n",
       "    </tr>\n",
       "    <tr>\n",
       "      <th>72</th>\n",
       "      <td>38</td>\n",
       "    </tr>\n",
       "    <tr>\n",
       "      <th>100</th>\n",
       "      <td>110</td>\n",
       "    </tr>\n",
       "    <tr>\n",
       "      <th>34</th>\n",
       "      <td>74</td>\n",
       "    </tr>\n",
       "    <tr>\n",
       "      <th>104</th>\n",
       "      <td>42</td>\n",
       "    </tr>\n",
       "  </tbody>\n",
       "</table>\n",
       "<p>98 rows × 1 columns</p>\n",
       "</div>"
      ],
      "text/plain": [
       "     pag_final\n",
       "83          84\n",
       "8           70\n",
       "16          86\n",
       "0          140\n",
       "52         100\n",
       "..         ...\n",
       "99          62\n",
       "72          38\n",
       "100        110\n",
       "34          74\n",
       "104         42\n",
       "\n",
       "[98 rows x 1 columns]"
      ]
     },
     "execution_count": 1640,
     "metadata": {},
     "output_type": "execute_result"
    }
   ],
   "source": [
    "y_train"
   ]
  },
  {
   "cell_type": "code",
   "execution_count": 1641,
   "metadata": {},
   "outputs": [
    {
     "name": "stdout",
     "output_type": "stream",
     "text": [
      "[16.80660475]\n",
      "coeficientes encontrados:  [[ 8.61608378e-01 -2.38160725e-01 -3.64352601e-04 -7.05741075e-03\n",
      "   1.72307707e+02  4.64667356e+00]]\n"
     ]
    }
   ],
   "source": [
    "##### machine learnig\n",
    "\n",
    "#Instanciando o estimador\n",
    "linreg = LinearRegression()\n",
    "\n",
    "#Ajustando o modelo ao conjunto de treino\n",
    "linreg.fit(X_train, y_train)\n",
    "\n",
    "#Interpretando os coeficientes do modelo\n",
    "#Visualizando a interseção e os coeficientes \n",
    "print(linreg.intercept_)\n",
    "print('coeficientes encontrados: ',linreg.coef_) # para visualizar os coeficientes encontrados\n",
    "\n"
   ]
  },
  {
   "cell_type": "code",
   "execution_count": 1642,
   "metadata": {},
   "outputs": [],
   "source": [
    "# para visualizar os coeficientes encontrados\n",
    "# para visualizar o R²\n",
    "# linreg.score()"
   ]
  },
  {
   "cell_type": "code",
   "execution_count": 1643,
   "metadata": {},
   "outputs": [
    {
     "data": {
      "text/plain": [
       "['id',\n",
       " 'complexidade',\n",
       " 'qtd_pag_estimado',\n",
       " 'qtd_pag_word',\n",
       " 'qtd_pg_word',\n",
       " 'qtd_carc',\n",
       " 'qtd_tabela',\n",
       " 'qtd_image',\n",
       " 'qtd_estilos',\n",
       " 'qtd_carc_normal',\n",
       " 'tamanho_livro']"
      ]
     },
     "execution_count": 1643,
     "metadata": {},
     "output_type": "execute_result"
    }
   ],
   "source": [
    "colunas_X"
   ]
  },
  {
   "cell_type": "code",
   "execution_count": 1644,
   "metadata": {},
   "outputs": [
    {
     "data": {
      "text/plain": [
       "Index(['qtd_pag_word', 'qtd_pg_word', 'qtd_tabela', 'qtd_image',\n",
       "       'qtd_carc_normal', 'tamanho_livro'],\n",
       "      dtype='object')"
      ]
     },
     "execution_count": 1644,
     "metadata": {},
     "output_type": "execute_result"
    }
   ],
   "source": [
    "X_train.columns"
   ]
  },
  {
   "cell_type": "code",
   "execution_count": 1645,
   "metadata": {},
   "outputs": [
    {
     "data": {
      "text/plain": [
       "[('id',\n",
       "  array([ 8.61608378e-01, -2.38160725e-01, -3.64352601e-04, -7.05741075e-03,\n",
       "          1.72307707e+02,  4.64667356e+00]))]"
      ]
     },
     "execution_count": 1645,
     "metadata": {},
     "output_type": "execute_result"
    }
   ],
   "source": [
    "#Atributos e seus coeficientes\n",
    "list(zip(colunas_X, linreg.coef_))"
   ]
  },
  {
   "cell_type": "code",
   "execution_count": 1646,
   "metadata": {},
   "outputs": [],
   "source": [
    "#Fazendo predições no conjunto de teste\n",
    "y_pred = linreg.predict(X_test)"
   ]
  },
  {
   "cell_type": "code",
   "execution_count": 1647,
   "metadata": {},
   "outputs": [
    {
     "data": {
      "text/plain": [
       "array([[103.38737327],\n",
       "       [ 88.84794875],\n",
       "       [ 50.77442464],\n",
       "       [ 50.41182608],\n",
       "       [189.29397505],\n",
       "       [ 98.98124319],\n",
       "       [ 35.9142444 ],\n",
       "       [ 42.80059443],\n",
       "       [111.10953604],\n",
       "       [ 72.6606153 ],\n",
       "       [ 72.69123879]])"
      ]
     },
     "execution_count": 1647,
     "metadata": {},
     "output_type": "execute_result"
    }
   ],
   "source": [
    "y_pred"
   ]
  },
  {
   "cell_type": "code",
   "execution_count": 1648,
   "metadata": {
    "scrolled": true
   },
   "outputs": [
    {
     "data": {
      "text/html": [
       "<div>\n",
       "<style scoped>\n",
       "    .dataframe tbody tr th:only-of-type {\n",
       "        vertical-align: middle;\n",
       "    }\n",
       "\n",
       "    .dataframe tbody tr th {\n",
       "        vertical-align: top;\n",
       "    }\n",
       "\n",
       "    .dataframe thead th {\n",
       "        text-align: right;\n",
       "    }\n",
       "</style>\n",
       "<table border=\"1\" class=\"dataframe\">\n",
       "  <thead>\n",
       "    <tr style=\"text-align: right;\">\n",
       "      <th></th>\n",
       "      <th>pag_final</th>\n",
       "    </tr>\n",
       "  </thead>\n",
       "  <tbody>\n",
       "    <tr>\n",
       "      <th>20</th>\n",
       "      <td>110</td>\n",
       "    </tr>\n",
       "    <tr>\n",
       "      <th>43</th>\n",
       "      <td>66</td>\n",
       "    </tr>\n",
       "    <tr>\n",
       "      <th>39</th>\n",
       "      <td>48</td>\n",
       "    </tr>\n",
       "    <tr>\n",
       "      <th>27</th>\n",
       "      <td>72</td>\n",
       "    </tr>\n",
       "    <tr>\n",
       "      <th>69</th>\n",
       "      <td>176</td>\n",
       "    </tr>\n",
       "    <tr>\n",
       "      <th>71</th>\n",
       "      <td>98</td>\n",
       "    </tr>\n",
       "    <tr>\n",
       "      <th>38</th>\n",
       "      <td>46</td>\n",
       "    </tr>\n",
       "    <tr>\n",
       "      <th>58</th>\n",
       "      <td>48</td>\n",
       "    </tr>\n",
       "    <tr>\n",
       "      <th>93</th>\n",
       "      <td>82</td>\n",
       "    </tr>\n",
       "    <tr>\n",
       "      <th>17</th>\n",
       "      <td>70</td>\n",
       "    </tr>\n",
       "    <tr>\n",
       "      <th>19</th>\n",
       "      <td>66</td>\n",
       "    </tr>\n",
       "  </tbody>\n",
       "</table>\n",
       "</div>"
      ],
      "text/plain": [
       "    pag_final\n",
       "20        110\n",
       "43         66\n",
       "39         48\n",
       "27         72\n",
       "69        176\n",
       "71         98\n",
       "38         46\n",
       "58         48\n",
       "93         82\n",
       "17         70\n",
       "19         66"
      ]
     },
     "execution_count": 1648,
     "metadata": {},
     "output_type": "execute_result"
    }
   ],
   "source": [
    "y_test"
   ]
  },
  {
   "cell_type": "markdown",
   "metadata": {},
   "source": [
    "Comparando essas métricas:\n",
    "\n",
    "- MAE é a mais fácil de entender.\n",
    "- MSE é mais popular que MAE, porque MSE \"pune\" erros grandes.\n",
    "- RMSE é ainda mais popular que MSE, porque RMSE é interpretável na mesma unidade de y."
   ]
  },
  {
   "cell_type": "code",
   "execution_count": 1649,
   "metadata": {},
   "outputs": [],
   "source": [
    "#RMSE:  12.11799697428631 # primeiro test com columas\n",
    "#colunas_X= ['entidade', 'fornecedor', 'complexidade', 'stat_pagto','qtd_pag_word', 'qtd_carc', 'qtd_tabela','qtd_image']\n",
    "\n",
    "#colunas_X= ['complexidade', 'qtd_pag_word', 'qtd_carc','qtd_tabela','qtd_image']\n",
    "\n",
    "#RMSE:  11.831745496309976\n",
    "# colunas_X= ['complexidade', 'qtd_pag_word', 'qtd_pag_estimado','qtd_carc','qtd_tabela','qtd_image']\n",
    "# RMSE:  8.41739234335301"
   ]
  },
  {
   "cell_type": "code",
   "execution_count": 1650,
   "metadata": {},
   "outputs": [
    {
     "name": "stdout",
     "output_type": "stream",
     "text": [
      "RMSE:  14.28657288654144\n"
     ]
    }
   ],
   "source": [
    "#Nós precisamos de uma métrica de avaliação para comparar nossas predições com os valores verdadeiros!\n",
    "\n",
    "# Calculando RMSE utilizando scikit-learn\n",
    "RMSE_1 = np.sqrt(metrics.mean_squared_error(y_test,y_pred))\n",
    "print('RMSE: ',RMSE_1)\n",
    "\n",
    "# incluido feature Quantidade de estilo, mas o resultado piorou. RMSE foi de 11.83 para 12.43\n",
    "# RMSE:  12.051420343980208\n",
    "# RMSE:  9.782602553564418 => melhorou quando retirou feature complexidade\n",
    "# RMSE:  9.16223875809479 => melhorou quando retirou feature quantidade de estilos\n",
    "# RMSE:  4.5881270718708045 => melhorou MUITO depois de verificar os arquivo word que estavam errados\n",
    "# RMSE:  4.303364983662433 => melhorou quando alterei arquivos do WORD\n",
    "\n",
    "# Campos em análise [['complexidade', 'qtd_pag_word', 'qtd_carc','qtd_tabela','qtd_image',\"qtd_estilos\",'qtd_carc_normal']]\n",
    "#RMSE:  12.051420343982636\n",
    "# RMSE:  16.219875583371206\n",
    "#RMSE:  14.883956821122942"
   ]
  },
  {
   "cell_type": "code",
   "execution_count": 1651,
   "metadata": {},
   "outputs": [
    {
     "data": {
      "text/plain": [
       "Index(['id', 'complexidade', 'qtd_pag_estimado', 'qtd_pag_word', 'qtd_pg_word',\n",
       "       'qtd_carc', 'qtd_tabela', 'qtd_image', 'qtd_estilos', 'qtd_carc_normal',\n",
       "       'tamanho_livro'],\n",
       "      dtype='object')"
      ]
     },
     "execution_count": 1651,
     "metadata": {},
     "output_type": "execute_result"
    }
   ],
   "source": [
    "X_test_ref.columns"
   ]
  },
  {
   "cell_type": "code",
   "execution_count": 1652,
   "metadata": {},
   "outputs": [
    {
     "data": {
      "text/plain": [
       "Index(['qtd_pag_word', 'qtd_pg_word', 'qtd_tabela', 'qtd_image',\n",
       "       'qtd_carc_normal', 'tamanho_livro'],\n",
       "      dtype='object')"
      ]
     },
     "execution_count": 1652,
     "metadata": {},
     "output_type": "execute_result"
    }
   ],
   "source": [
    "X_test.columns"
   ]
  },
  {
   "cell_type": "code",
   "execution_count": 1653,
   "metadata": {},
   "outputs": [
    {
     "name": "stdout",
     "output_type": "stream",
     "text": [
      "RMSE:  23.074976607887287\n",
      "Percentual entre os dois métodos:  0.6151512886358418\n"
     ]
    }
   ],
   "source": [
    "#\n",
    "#\n",
    "# comparar erros de calculo do campo Num Página estimado com o QTD_PAG_INFERIDO\n",
    "#\n",
    "RMSE_2 = np.sqrt(metrics.mean_squared_error(y_test,X_test_ref['qtd_pag_estimado']))\n",
    "print('RMSE: ',RMSE_2)\n",
    "print ('Percentual entre os dois métodos: ', (RMSE_2-RMSE_1)/RMSE_1)"
   ]
  },
  {
   "cell_type": "markdown",
   "metadata": {},
   "source": [
    "### Avaliação dos Resultados\n",
    "- RMSE:  4.5881270718708045, ou seja, erro médio de 4 páginas  - com dados do modelo de Machine Learning (ML)\n",
    "- RMSE:  13.010485281984192, ou seja, erro médio de 15 páginas - com dados estimados da Editorar\n",
    "- diferença de 83% , ou seja, os dados estimados da Editorar está 83% acima dos dados do Modelo de ML"
   ]
  },
  {
   "cell_type": "code",
   "execution_count": 1654,
   "metadata": {},
   "outputs": [],
   "source": [
    "#Como interpretar esse valor?\n",
    "# numero menor de RMSE é melhor\n",
    "# RMSE:  11.831745496309976\n",
    "# RMSE:  12.43000991830557\n",
    "# RMSE:  14.428565435305106\n"
   ]
  },
  {
   "cell_type": "code",
   "execution_count": 1655,
   "metadata": {},
   "outputs": [],
   "source": [
    "# Save Model Using Pickle\n",
    "# save the model to disk\n",
    "\n",
    "filename = 'finalized_model-linreg2.sav'\n",
    "pickle.dump(linreg, open(filename, 'wb'))\n",
    " \n"
   ]
  },
  {
   "cell_type": "code",
   "execution_count": 1596,
   "metadata": {},
   "outputs": [],
   "source": [
    "#########################################################\n",
    "# FIM  LINEAR REGRESSION\n",
    "########################################################"
   ]
  },
  {
   "cell_type": "code",
   "execution_count": null,
   "metadata": {},
   "outputs": [],
   "source": []
  },
  {
   "cell_type": "code",
   "execution_count": 1597,
   "metadata": {},
   "outputs": [],
   "source": [
    "################################################################################################################\n",
    "#########################################################\n",
    "# LOGISTIC REGRESSION\n",
    "########################################################"
   ]
  },
  {
   "cell_type": "code",
   "execution_count": 1598,
   "metadata": {},
   "outputs": [],
   "source": [
    "#colunas_X= ['qtd_pag_word', 'qtd_carc','qtd_tabela','qtd_image',\"qtd_estilos\"]\n",
    "#colunas_X= ['qtd_pag_word', 'qtd_tabela','qtd_image',\"qtd_estilos\", 'qtd_carc_normal']\n",
    "#colunas_X= ['qtd_pag_word', 'qtd_tabela','qtd_image', 'qtd_carc_normal']\n",
    "#colunas_X= ['qtd_pag_word', 'qtd_carc','qtd_tabela','qtd_image']\n",
    "\n",
    "#colunas_X= ['qtd_pag_word', 'qtd_tabela','qtd_image',\"qtd_estilos\", 'qtd_carc_normal']\n",
    "colunas_X= ['qtd_pag_word','qtd_pg_word', 'qtd_tabela','qtd_image',\"qtd_estilos\", 'qtd_carc_normal','tamanho_livro']\n",
    "\n",
    "#colunas_X= ['qtd_pag_word', 'qtd_tabela','qtd_image', 'qtd_carc_normal']\n",
    "\n",
    "\n",
    "#colunas_X= ['complexidade','entidade','qtd_pag_word', 'qtd_tabela','qtd_image', 'qtd_carc_normal']\n",
    "\n",
    "colunas_y=['pag_final']\n",
    "X = data[colunas_X]\n",
    "y = data[colunas_y]"
   ]
  },
  {
   "cell_type": "code",
   "execution_count": 1599,
   "metadata": {},
   "outputs": [],
   "source": [
    "X_train, X_test, y_train, y_test = train_test_split(X, y,  test_size=0.10,random_state=1,stratify=X['tamanho_livro'])"
   ]
  },
  {
   "cell_type": "code",
   "execution_count": 1600,
   "metadata": {},
   "outputs": [
    {
     "name": "stdout",
     "output_type": "stream",
     "text": [
      "[ 68  84  66  98 340  84  34  98 110  76  76]\n",
      "[[2.08115433e-16 1.24341930e-05 4.65090698e-06 6.62486993e-05\n",
      "  7.37322414e-08 3.28680035e-17 5.68951601e-04 4.48936363e-02\n",
      "  4.27314724e-06 1.14025251e-10 1.72640039e-04 1.44971449e-02\n",
      "  9.32145986e-02 9.51059761e-06 8.72231605e-03 3.44852025e-02\n",
      "  1.78761008e-01 1.57088955e-05 1.96100165e-04 4.23240925e-02\n",
      "  4.75210109e-02 1.02277209e-09 4.05066945e-02 3.70495597e-04\n",
      "  6.01078389e-02 3.07896268e-02 3.45505293e-02 1.74418245e-02\n",
      "  1.01446924e-01 1.38540676e-01 2.36808901e-03 7.81339675e-04\n",
      "  7.27028416e-03 1.00306125e-02 2.58240620e-02 3.81490726e-07\n",
      "  8.54797350e-04 6.36459249e-02 2.45414589e-07 4.55012805e-08\n",
      "  6.19487946e-10 7.33511641e-15 5.13435052e-09]\n",
      " [4.38478874e-10 4.75833094e-06 1.85254833e-06 5.52248570e-05\n",
      "  2.43581677e-08 2.38609922e-05 1.61232872e-03 1.77031075e-03\n",
      "  5.78461007e-06 1.86218811e-02 2.91905171e-04 4.84017794e-04\n",
      "  1.83923940e-02 1.87864929e-02 4.91148804e-03 8.65801157e-02\n",
      "  2.11471224e-02 1.34634486e-01 6.11641492e-02 6.36894252e-03\n",
      "  5.77225650e-03 4.46275256e-03 3.48768869e-02 2.13001700e-01\n",
      "  1.04974526e-01 2.86335496e-02 2.33925181e-02 4.67731470e-02\n",
      "  7.26987127e-03 6.24731180e-03 8.88391759e-03 1.62488860e-02\n",
      "  5.16482242e-02 1.41351657e-02 1.26885256e-02 1.42137986e-02\n",
      "  9.69130522e-03 7.69976400e-03 1.35988192e-04 1.39010462e-04\n",
      "  3.65629140e-04 4.09425336e-03 9.79387300e-03]\n",
      " [1.89898833e-06 1.17771785e-03 7.76289177e-05 5.10944295e-03\n",
      "  1.97532531e-05 2.10243706e-05 5.47052742e-02 3.14388995e-02\n",
      "  6.10736376e-04 1.88629032e-02 3.16201377e-02 2.29715387e-02\n",
      "  3.11700619e-02 3.88693139e-02 1.09173491e-02 1.26252809e-01\n",
      "  8.78584162e-02 4.15542343e-02 4.87784475e-02 2.55037711e-02\n",
      "  1.28713577e-02 7.47447561e-03 2.53034437e-02 7.72687651e-02\n",
      "  5.69538048e-02 1.23711341e-02 1.17155088e-02 2.09529685e-02\n",
      "  1.30715243e-02 5.57666757e-02 6.22853894e-03 1.11726783e-02\n",
      "  3.81716134e-02 6.14869407e-03 1.15203002e-02 1.05555559e-02\n",
      "  4.56417330e-03 3.89054449e-02 2.69725631e-05 2.00895329e-05\n",
      "  4.86523452e-06 1.01351156e-03 3.96544962e-04]\n",
      " [6.13828673e-12 1.29307096e-03 1.06325103e-01 3.33328134e-04\n",
      "  2.10010543e-02 3.95806498e-18 1.04182070e-05 2.56088221e-02\n",
      "  1.55106925e-03 8.84968344e-15 8.48403074e-06 1.50836041e-02\n",
      "  4.18070666e-02 3.43712184e-08 1.87188703e-02 2.55315602e-04\n",
      "  1.07505197e-02 2.75087224e-08 1.25011288e-06 2.83326727e-02\n",
      "  1.57270278e-01 3.19188046e-12 1.81373075e-02 8.61712451e-07\n",
      "  3.90235786e-03 4.74733923e-02 7.64237176e-02 7.88564033e-03\n",
      "  2.61031009e-01 2.37889929e-02 1.14760556e-02 5.56911866e-04\n",
      "  4.11486823e-04 3.77195345e-02 5.84827768e-02 1.56906781e-09\n",
      "  5.44649891e-03 1.71396154e-02 1.55548580e-03 2.14731645e-04\n",
      "  2.61404723e-06 7.22562098e-18 1.95724171e-08]\n",
      " [6.51075404e-22 9.96160552e-17 1.50579803e-17 7.33869539e-14\n",
      "  2.78999105e-22 4.37384708e-18 2.81211495e-12 3.73562044e-10\n",
      "  2.98114479e-14 2.17394027e-04 2.23713935e-15 4.56448623e-12\n",
      "  1.51702237e-06 5.45747847e-06 8.31449365e-08 6.07795318e-06\n",
      "  3.17806695e-08 1.37112007e-03 9.79799044e-04 2.96790470e-08\n",
      "  7.46567503e-08 3.52590444e-05 6.16774906e-05 5.24929896e-03\n",
      "  5.29436717e-04 6.53379134e-06 8.25061552e-06 7.06978551e-04\n",
      "  6.38417969e-10 3.16517765e-08 1.57462503e-04 1.13151829e-03\n",
      "  2.47722998e-03 5.45353850e-08 1.20390313e-06 3.01157736e-10\n",
      "  1.40984895e-03 8.08631036e-09 8.20670121e-11 1.06471639e-10\n",
      "  1.74462509e-13 6.73754341e-02 9.18268186e-01]\n",
      " [4.90614960e-09 1.72157573e-06 3.69869078e-10 1.54095005e-04\n",
      "  4.80082065e-11 9.78444784e-15 1.37003752e-03 3.64040651e-04\n",
      "  1.16964079e-05 1.83954636e-01 1.17274169e-04 3.34700718e-04\n",
      "  2.14901802e-03 6.38025844e-02 3.32822813e-04 5.24793035e-02\n",
      "  2.15297009e-02 2.28128725e-02 4.58933453e-02 1.69509341e-03\n",
      "  4.67618720e-04 4.19919960e-02 7.89768291e-03 4.06401411e-01\n",
      "  5.36670544e-02 2.68893262e-04 5.57451361e-04 1.44664278e-02\n",
      "  1.06118468e-05 7.42157214e-04 3.72638221e-03 3.50596440e-02\n",
      "  2.71894790e-03 6.63322154e-06 2.84012637e-04 5.94805013e-07\n",
      "  5.89786374e-03 1.63875661e-03 2.78914846e-13 8.23640841e-14\n",
      "  5.85498236e-17 2.68892079e-02 3.03703680e-04]\n",
      " [1.07849065e-10 3.53649999e-02 4.92316772e-02 4.97562240e-03\n",
      "  5.12052917e-01 4.77100116e-28 8.27390198e-06 6.46509135e-02\n",
      "  4.46585388e-02 1.10405612e-18 1.52140949e-05 1.63718599e-01\n",
      "  6.96571652e-03 4.99760506e-10 2.63736404e-03 1.43020851e-05\n",
      "  7.28969208e-03 1.10259895e-11 1.01064697e-08 1.54030508e-02\n",
      "  4.47304519e-02 4.41221879e-15 1.27116230e-03 3.48098155e-09\n",
      "  1.72403681e-04 5.39995410e-04 1.86657773e-03 3.03350910e-04\n",
      "  8.76036058e-03 2.24808585e-02 1.06697577e-03 4.33267975e-05\n",
      "  5.74826393e-06 9.18552396e-05 2.52184642e-03 1.17152346e-14\n",
      "  3.29238719e-04 8.82894848e-03 2.98832495e-09 9.12776272e-11\n",
      "  3.02598396e-16 2.56134028e-23 5.40774623e-13]\n",
      " [3.74221944e-12 6.32285449e-03 3.23208837e-02 1.69666495e-03\n",
      "  1.93514195e-02 7.18031467e-16 7.77932776e-04 1.38960493e-01\n",
      "  6.44445927e-04 4.99268690e-14 2.00745291e-03 1.38511823e-01\n",
      "  2.22535601e-02 1.05850099e-07 6.46473611e-03 8.67492840e-04\n",
      "  3.82193988e-02 3.53572877e-08 1.21014116e-06 2.76888481e-02\n",
      "  4.44420926e-02 3.70788305e-12 2.86548092e-03 6.24983579e-07\n",
      "  1.09672796e-03 6.22100102e-03 7.13104719e-03 5.92414442e-04\n",
      "  3.21831511e-01 1.16687921e-01 2.76321848e-04 2.26107083e-05\n",
      "  1.86734810e-04 9.10602314e-03 1.02100782e-02 6.66303787e-08\n",
      "  5.65775298e-05 4.31386304e-02 3.86909368e-05 5.93905285e-06\n",
      "  1.48070676e-07 1.06279881e-18 2.34911324e-11]\n",
      " [2.61195237e-14 6.07564546e-08 4.14256488e-07 2.54391721e-07\n",
      "  1.73031370e-09 2.82916860e-13 5.01632512e-07 9.30549039e-04\n",
      "  3.58434160e-07 7.47280971e-08 1.77372772e-08 4.21843438e-05\n",
      "  1.11711935e-02 1.26184050e-05 1.51975115e-03 8.32192552e-04\n",
      "  1.95148325e-04 2.55490562e-04 2.95754246e-03 8.93797425e-04\n",
      "  2.60246069e-03 4.94460211e-07 1.59834205e-02 5.63209656e-04\n",
      "  1.56655471e-02 1.13056281e-02 1.06846039e-02 2.59572131e-02\n",
      "  6.20928312e-04 2.12127221e-02 1.75382965e-02 8.00033041e-03\n",
      "  7.92539139e-01 1.41094946e-03 8.00697185e-03 5.08138876e-07\n",
      "  2.78275742e-02 4.74084605e-04 9.93995947e-03 8.21080818e-03\n",
      "  5.62772316e-06 4.48906159e-08 2.63732655e-03]\n",
      " [4.38113445e-12 3.35293527e-03 6.61598244e-03 1.85697676e-03\n",
      "  4.83083087e-03 1.94434947e-25 1.67901332e-05 8.78756294e-02\n",
      "  9.16515988e-03 1.08807348e-15 9.16060544e-06 9.00311050e-02\n",
      "  7.25482700e-02 3.31230620e-08 1.94772457e-02 4.21856027e-04\n",
      "  4.37088611e-02 4.14266821e-09 1.10035833e-06 7.25224278e-02\n",
      "  2.47943212e-01 1.09361209e-12 3.21868450e-02 8.03500963e-07\n",
      "  8.10631469e-03 1.49304906e-02 4.29247507e-02 1.34302645e-02\n",
      "  4.46406223e-02 6.79852833e-02 2.58122819e-02 1.87084659e-03\n",
      "  3.12369564e-04 1.97419101e-03 3.56367622e-02 1.54428214e-12\n",
      "  1.25235089e-02 3.72870018e-02 7.79935112e-08 3.92346173e-09\n",
      "  9.34384323e-14 1.76617212e-19 7.41938021e-10]\n",
      " [4.64383152e-13 2.00164343e-03 7.60183819e-03 9.64042238e-04\n",
      "  4.37550844e-03 2.36109767e-27 4.70249216e-06 6.94624600e-02\n",
      "  7.05013351e-03 4.58698753e-17 2.26721511e-06 6.51200442e-02\n",
      "  7.31936698e-02 6.94269379e-09 1.88504127e-02 2.14983881e-04\n",
      "  3.26996927e-02 8.96268290e-10 3.66125535e-07 6.71981133e-02\n",
      "  3.03918631e-01 9.78618316e-14 3.34453485e-02 2.64041214e-07\n",
      "  6.84417412e-03 1.70458201e-02 5.33525594e-02 1.37244867e-02\n",
      "  4.91436745e-02 5.35565700e-02 3.06154525e-02 1.56557836e-03\n",
      "  1.99181814e-04 2.04471189e-03 4.08739419e-02 1.72831946e-13\n",
      "  1.48664319e-02 3.00632173e-02 6.73134036e-08 2.71723354e-09\n",
      "  3.62386693e-14 5.02639816e-21 2.90980839e-10]]\n",
      "0.29591836734693877\n"
     ]
    },
    {
     "name": "stderr",
     "output_type": "stream",
     "text": [
      "/Users/wpessoa/miniconda3/envs/py3/lib/python3.8/site-packages/sklearn/utils/validation.py:72: DataConversionWarning: A column-vector y was passed when a 1d array was expected. Please change the shape of y to (n_samples, ), for example using ravel().\n",
      "  return f(**kwargs)\n",
      "/Users/wpessoa/miniconda3/envs/py3/lib/python3.8/site-packages/sklearn/linear_model/_logistic.py:762: ConvergenceWarning: lbfgs failed to converge (status=1):\n",
      "STOP: TOTAL NO. of ITERATIONS REACHED LIMIT.\n",
      "\n",
      "Increase the number of iterations (max_iter) or scale the data as shown in:\n",
      "    https://scikit-learn.org/stable/modules/preprocessing.html\n",
      "Please also refer to the documentation for alternative solver options:\n",
      "    https://scikit-learn.org/stable/modules/linear_model.html#logistic-regression\n",
      "  n_iter_i = _check_optimize_result(\n"
     ]
    }
   ],
   "source": [
    "from sklearn.datasets import load_iris\n",
    "from sklearn.linear_model import LogisticRegression\n",
    "##### machine learnig\n",
    "#X, y = load_iris(return_X_y=True)\n",
    "\n",
    "clf = LogisticRegression(random_state=0).fit(X_train, y_train)\n",
    "\n",
    "# modelo = LogisticRegression()\n",
    "# modelo.fit(X_treino, y_treino)\n",
    "# p = modelo.predict(X_valid)\n",
    "\n",
    "\n",
    "\n",
    "print(clf.predict(X_test.fillna(-1)))\n",
    "print(clf.predict_proba(X_test.fillna(-1)))\n",
    "print(clf.score(X_train, y_train))\n"
   ]
  },
  {
   "cell_type": "code",
   "execution_count": 1601,
   "metadata": {},
   "outputs": [
    {
     "name": "stdout",
     "output_type": "stream",
     "text": [
      "[ 68  84  66  98 340  84  34  98 110  76  76]\n",
      "            20  43  39  27   69  71  38  58  93  17  19\n",
      "pag_final  110  66  48  72  176  98  46  48  82  70  66\n"
     ]
    },
    {
     "name": "stderr",
     "output_type": "stream",
     "text": [
      "/Users/wpessoa/miniconda3/envs/py3/lib/python3.8/site-packages/sklearn/utils/validation.py:72: DataConversionWarning: A column-vector y was passed when a 1d array was expected. Please change the shape of y to (n_samples, ), for example using ravel().\n",
      "  return f(**kwargs)\n",
      "/Users/wpessoa/miniconda3/envs/py3/lib/python3.8/site-packages/sklearn/linear_model/_logistic.py:762: ConvergenceWarning: lbfgs failed to converge (status=1):\n",
      "STOP: TOTAL NO. of ITERATIONS REACHED LIMIT.\n",
      "\n",
      "Increase the number of iterations (max_iter) or scale the data as shown in:\n",
      "    https://scikit-learn.org/stable/modules/preprocessing.html\n",
      "Please also refer to the documentation for alternative solver options:\n",
      "    https://scikit-learn.org/stable/modules/linear_model.html#logistic-regression\n",
      "  n_iter_i = _check_optimize_result(\n"
     ]
    }
   ],
   "source": [
    "modelo = LogisticRegression()\n",
    "modelo.fit(X_train, y_train)\n",
    "\n",
    "y_pred = modelo.predict(X_test.fillna(-1))\n",
    "print(y_pred)\n",
    "print(y_test.T)"
   ]
  },
  {
   "cell_type": "code",
   "execution_count": 1602,
   "metadata": {},
   "outputs": [
    {
     "name": "stdout",
     "output_type": "stream",
     "text": [
      "RMSE:  55.38624706221179\n"
     ]
    }
   ],
   "source": [
    "# Calculando RMSE utilizando scikit-learn\n",
    "print('RMSE: ',np.sqrt(metrics.mean_squared_error(y_test,y_pred)))\n",
    "# RMSE:  26.17424132789543 => Features ['qtd_pag_word', 'qtd_tabela','qtd_image',\"qtd_estilos\", 'qtd_carc_normal']\n",
    "\n",
    "# quantidade de estilo é muito relevante nesse modelo, sem essa feature RMSE:  106.26211160915429\n",
    "# RMSE:  92.03951720469163 Para essa features ['qtd_pag_word', 'qtd_carc','qtd_tabela','qtd_image']\n",
    "# RMSE:  19.521549863955705\n"
   ]
  },
  {
   "cell_type": "code",
   "execution_count": 1603,
   "metadata": {},
   "outputs": [],
   "source": [
    "# Save Model Using Pickle\n",
    "# save the model to disk\n",
    "\n",
    "filename = 'finalized_model-log.sav'\n",
    "pickle.dump(modelo, open(filename, 'wb'))\n",
    " "
   ]
  },
  {
   "cell_type": "markdown",
   "metadata": {},
   "source": [
    "# Modelos treinados salvo em:\n",
    "- finalized_model-forest3a.sav\n",
    "- finalized_model-linreg.sav\n",
    "- finalized_model-log.sav"
   ]
  },
  {
   "cell_type": "code",
   "execution_count": 1604,
   "metadata": {},
   "outputs": [],
   "source": [
    "#########################################################\n",
    "# FIM  LOGISTIC REGRESSION\n",
    "########################################################"
   ]
  },
  {
   "cell_type": "code",
   "execution_count": 1083,
   "metadata": {},
   "outputs": [],
   "source": [
    "#\n",
    "# \n",
    "################################################################################################################"
   ]
  },
  {
   "cell_type": "code",
   "execution_count": 1084,
   "metadata": {},
   "outputs": [
    {
     "name": "stdout",
     "output_type": "stream",
     "text": [
      "dados verdadeiros:  [100, 50, 30, 30]\n",
      "dados inferidos: [90, 50, 50, 30]\n",
      "erro médio absoluto:  7.5\n",
      "erro médio absoluto:  7.5\n",
      "MSE:  125.0\n",
      "MSE:  125.0\n",
      "RMSE:  11.180339887498949\n",
      "RMSE:  11.180339887498949\n"
     ]
    }
   ],
   "source": [
    "# codigos consultados de \n",
    "# https://github.com/WalnerPessoa/Medical-Cost-Personal/blob/master/Aula%205%20-%20Regress%C3%A3o%20linear%20para%20prever%20as%20despesas%20m%C3%A9dicas%20de%20um%20paciente%20.ipynb\n",
    "\n",
    "\n",
    "# calculando a media de um exemplo\n",
    "# Definindo os valores de resposta verdadeiros e preditos\n",
    "true = [100,50,30,30]\n",
    "pred = [90,50,50,30]\n",
    "print(\"dados verdadeiros: \",true)\n",
    "print(\"dados inferidos:\", pred)\n",
    "# Calculando erro médio absoluto na mão\n",
    "print('erro médio absoluto: ',(10+0+20+0)/4)\n",
    "# Calculando erro médio absoluto utilizando scikit-learn\n",
    "from sklearn import metrics\n",
    "print('erro médio absoluto: ',metrics.mean_absolute_error(true,pred)) \n",
    "\n",
    "#Calculando MSE na mão\n",
    "print('MSE: ',(10**2+0+20**2+0)/4)\n",
    "# Calculando MSE utilizando scikit-learn\n",
    "print('MSE: ',metrics.mean_squared_error(true,pred))\n",
    "\n",
    "# Calculando RMSE na mão\n",
    "print('RMSE: ',np.sqrt((10**2+0+20**2+0)/4))\n",
    "# Calculando RMSE utilizando scikit-learn\n",
    "print('RMSE: ',np.sqrt(metrics.mean_squared_error(true,pred)))"
   ]
  },
  {
   "cell_type": "code",
   "execution_count": null,
   "metadata": {},
   "outputs": [],
   "source": []
  }
 ],
 "metadata": {
  "kernelspec": {
   "display_name": "Python 3",
   "language": "python",
   "name": "python3"
  },
  "language_info": {
   "codemirror_mode": {
    "name": "ipython",
    "version": 3
   },
   "file_extension": ".py",
   "mimetype": "text/x-python",
   "name": "python",
   "nbconvert_exporter": "python",
   "pygments_lexer": "ipython3",
   "version": "3.8.5"
  }
 },
 "nbformat": 4,
 "nbformat_minor": 4
}
