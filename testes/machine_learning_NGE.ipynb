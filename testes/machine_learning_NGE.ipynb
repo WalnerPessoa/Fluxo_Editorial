{
 "cells": [
  {
   "cell_type": "code",
   "execution_count": 267,
   "metadata": {},
   "outputs": [],
   "source": [
    "import pandas as pd\n",
    "import numpy as np\n",
    "from sklearn.model_selection import RepeatedKFold\n",
    "from sklearn.model_selection import train_test_split\n",
    "\n",
    "#Importando o modelo machine learnig\n",
    "from sklearn.linear_model import LinearRegression\n",
    "from sklearn.ensemble import RandomForestClassifier\n",
    "from sklearn import metrics\n"
   ]
  },
  {
   "cell_type": "code",
   "execution_count": 480,
   "metadata": {},
   "outputs": [],
   "source": [
    "# importar csv\n",
    "data = pd.read_csv(\"nge_dados_input.csv\")\n",
    "data_semNF = pd.read_csv(\"nge_dados_input_semNF.csv\")"
   ]
  },
  {
   "cell_type": "code",
   "execution_count": 269,
   "metadata": {
    "scrolled": true
   },
   "outputs": [
    {
     "data": {
      "text/html": [
       "<div>\n",
       "<style scoped>\n",
       "    .dataframe tbody tr th:only-of-type {\n",
       "        vertical-align: middle;\n",
       "    }\n",
       "\n",
       "    .dataframe tbody tr th {\n",
       "        vertical-align: top;\n",
       "    }\n",
       "\n",
       "    .dataframe thead th {\n",
       "        text-align: right;\n",
       "    }\n",
       "</style>\n",
       "<table border=\"1\" class=\"dataframe\">\n",
       "  <thead>\n",
       "    <tr style=\"text-align: right;\">\n",
       "      <th></th>\n",
       "      <th>id</th>\n",
       "      <th>entidade</th>\n",
       "      <th>fornecedor</th>\n",
       "      <th>complexidade</th>\n",
       "      <th>stat_pagto</th>\n",
       "      <th>qtd_pag_word</th>\n",
       "      <th>qtd_pag_estimado</th>\n",
       "      <th>qtd_carc</th>\n",
       "      <th>qtd_tabela</th>\n",
       "      <th>qtd_image</th>\n",
       "      <th>qtd_estilos</th>\n",
       "      <th>pag_final</th>\n",
       "    </tr>\n",
       "  </thead>\n",
       "  <tbody>\n",
       "    <tr>\n",
       "      <th>0</th>\n",
       "      <td>224323</td>\n",
       "      <td>0</td>\n",
       "      <td>0</td>\n",
       "      <td>1</td>\n",
       "      <td>0</td>\n",
       "      <td>87</td>\n",
       "      <td>140.0</td>\n",
       "      <td>116142</td>\n",
       "      <td>470</td>\n",
       "      <td>685</td>\n",
       "      <td>60.0</td>\n",
       "      <td>140</td>\n",
       "    </tr>\n",
       "    <tr>\n",
       "      <th>1</th>\n",
       "      <td>224325</td>\n",
       "      <td>0</td>\n",
       "      <td>0</td>\n",
       "      <td>1</td>\n",
       "      <td>0</td>\n",
       "      <td>82</td>\n",
       "      <td>122.0</td>\n",
       "      <td>108307</td>\n",
       "      <td>76</td>\n",
       "      <td>94</td>\n",
       "      <td>69.0</td>\n",
       "      <td>122</td>\n",
       "    </tr>\n",
       "    <tr>\n",
       "      <th>2</th>\n",
       "      <td>225392</td>\n",
       "      <td>0</td>\n",
       "      <td>0</td>\n",
       "      <td>3</td>\n",
       "      <td>0</td>\n",
       "      <td>41</td>\n",
       "      <td>70.0</td>\n",
       "      <td>41144</td>\n",
       "      <td>28</td>\n",
       "      <td>24</td>\n",
       "      <td>23.0</td>\n",
       "      <td>52</td>\n",
       "    </tr>\n",
       "    <tr>\n",
       "      <th>3</th>\n",
       "      <td>225392</td>\n",
       "      <td>0</td>\n",
       "      <td>0</td>\n",
       "      <td>3</td>\n",
       "      <td>0</td>\n",
       "      <td>41</td>\n",
       "      <td>70.0</td>\n",
       "      <td>62913</td>\n",
       "      <td>397</td>\n",
       "      <td>639</td>\n",
       "      <td>21.0</td>\n",
       "      <td>52</td>\n",
       "    </tr>\n",
       "    <tr>\n",
       "      <th>4</th>\n",
       "      <td>225531</td>\n",
       "      <td>0</td>\n",
       "      <td>0</td>\n",
       "      <td>2</td>\n",
       "      <td>0</td>\n",
       "      <td>36</td>\n",
       "      <td>48.0</td>\n",
       "      <td>37548</td>\n",
       "      <td>233</td>\n",
       "      <td>397</td>\n",
       "      <td>17.0</td>\n",
       "      <td>48</td>\n",
       "    </tr>\n",
       "  </tbody>\n",
       "</table>\n",
       "</div>"
      ],
      "text/plain": [
       "       id  entidade  fornecedor  complexidade  stat_pagto  qtd_pag_word  \\\n",
       "0  224323         0           0             1           0            87   \n",
       "1  224325         0           0             1           0            82   \n",
       "2  225392         0           0             3           0            41   \n",
       "3  225392         0           0             3           0            41   \n",
       "4  225531         0           0             2           0            36   \n",
       "\n",
       "   qtd_pag_estimado  qtd_carc  qtd_tabela  qtd_image  qtd_estilos  pag_final  \n",
       "0             140.0    116142         470        685         60.0        140  \n",
       "1             122.0    108307          76         94         69.0        122  \n",
       "2              70.0     41144          28         24         23.0         52  \n",
       "3              70.0     62913         397        639         21.0         52  \n",
       "4              48.0     37548         233        397         17.0         48  "
      ]
     },
     "execution_count": 269,
     "metadata": {},
     "output_type": "execute_result"
    }
   ],
   "source": [
    "data.head()"
   ]
  },
  {
   "cell_type": "code",
   "execution_count": null,
   "metadata": {},
   "outputs": [],
   "source": []
  },
  {
   "cell_type": "code",
   "execution_count": 338,
   "metadata": {},
   "outputs": [],
   "source": [
    "#\n",
    "# normalizar a quantidade de caracteres\n",
    "#\n",
    "data.loc[:,'qtd_carc_normal'] = pd.Series((data.qtd_carc-data.qtd_carc.min())/(data.qtd_carc.max()-data.qtd_carc.min()))"
   ]
  },
  {
   "cell_type": "code",
   "execution_count": 271,
   "metadata": {},
   "outputs": [],
   "source": [
    "#\n",
    "# normalizar a quantidade de caracteres\n",
    "#\n",
    "\n",
    "# X[\"qtd_carc_normal\"]=(X.qtd_carc-X.qtd_carc.min())/(X.qtd_carc.max()-X.qtd_carc.min())"
   ]
  },
  {
   "cell_type": "code",
   "execution_count": 339,
   "metadata": {
    "scrolled": true
   },
   "outputs": [
    {
     "data": {
      "text/plain": [
       "id                    int64\n",
       "entidade              int64\n",
       "fornecedor            int64\n",
       "complexidade          int64\n",
       "stat_pagto            int64\n",
       "qtd_pag_word          int64\n",
       "qtd_pag_estimado    float64\n",
       "qtd_carc              int64\n",
       "qtd_tabela            int64\n",
       "qtd_image             int64\n",
       "qtd_estilos         float64\n",
       "pag_final             int64\n",
       "qtd_carc_normal     float64\n",
       "dtype: object"
      ]
     },
     "execution_count": 339,
     "metadata": {},
     "output_type": "execute_result"
    }
   ],
   "source": [
    "data.dtypes\n",
    "# baixa complexidade ==> 48 páginas \n",
    "# media complexidade ==> 49/64 páginas\n",
    "# alta complexidade  ==> 65 acima"
   ]
  },
  {
   "cell_type": "code",
   "execution_count": 340,
   "metadata": {},
   "outputs": [
    {
     "data": {
      "text/html": [
       "<div>\n",
       "<style scoped>\n",
       "    .dataframe tbody tr th:only-of-type {\n",
       "        vertical-align: middle;\n",
       "    }\n",
       "\n",
       "    .dataframe tbody tr th {\n",
       "        vertical-align: top;\n",
       "    }\n",
       "\n",
       "    .dataframe thead th {\n",
       "        text-align: right;\n",
       "    }\n",
       "</style>\n",
       "<table border=\"1\" class=\"dataframe\">\n",
       "  <thead>\n",
       "    <tr style=\"text-align: right;\">\n",
       "      <th></th>\n",
       "      <th>id</th>\n",
       "      <th>entidade</th>\n",
       "      <th>fornecedor</th>\n",
       "      <th>complexidade</th>\n",
       "      <th>stat_pagto</th>\n",
       "      <th>qtd_pag_word</th>\n",
       "      <th>qtd_pag_estimado</th>\n",
       "      <th>qtd_carc</th>\n",
       "      <th>qtd_tabela</th>\n",
       "      <th>qtd_image</th>\n",
       "      <th>qtd_estilos</th>\n",
       "      <th>pag_final</th>\n",
       "      <th>qtd_carc_normal</th>\n",
       "    </tr>\n",
       "  </thead>\n",
       "  <tbody>\n",
       "    <tr>\n",
       "      <th>count</th>\n",
       "      <td>108.000000</td>\n",
       "      <td>108.000000</td>\n",
       "      <td>108.000000</td>\n",
       "      <td>108.000000</td>\n",
       "      <td>108.0</td>\n",
       "      <td>108.000000</td>\n",
       "      <td>108.000000</td>\n",
       "      <td>108.000000</td>\n",
       "      <td>108.000000</td>\n",
       "      <td>108.000000</td>\n",
       "      <td>108.000000</td>\n",
       "      <td>108.000000</td>\n",
       "      <td>108.000000</td>\n",
       "    </tr>\n",
       "    <tr>\n",
       "      <th>mean</th>\n",
       "      <td>230475.212963</td>\n",
       "      <td>0.268519</td>\n",
       "      <td>0.064815</td>\n",
       "      <td>1.444444</td>\n",
       "      <td>0.0</td>\n",
       "      <td>60.916667</td>\n",
       "      <td>93.759259</td>\n",
       "      <td>77540.694444</td>\n",
       "      <td>257.916667</td>\n",
       "      <td>340.768519</td>\n",
       "      <td>25.314815</td>\n",
       "      <td>78.518519</td>\n",
       "      <td>0.135330</td>\n",
       "    </tr>\n",
       "    <tr>\n",
       "      <th>std</th>\n",
       "      <td>22559.684178</td>\n",
       "      <td>0.573666</td>\n",
       "      <td>0.247347</td>\n",
       "      <td>0.631470</td>\n",
       "      <td>0.0</td>\n",
       "      <td>61.165644</td>\n",
       "      <td>68.238021</td>\n",
       "      <td>86924.309341</td>\n",
       "      <td>153.689098</td>\n",
       "      <td>203.278714</td>\n",
       "      <td>14.175567</td>\n",
       "      <td>61.064924</td>\n",
       "      <td>0.152117</td>\n",
       "    </tr>\n",
       "    <tr>\n",
       "      <th>min</th>\n",
       "      <td>3.000000</td>\n",
       "      <td>0.000000</td>\n",
       "      <td>0.000000</td>\n",
       "      <td>0.000000</td>\n",
       "      <td>0.0</td>\n",
       "      <td>12.000000</td>\n",
       "      <td>18.000000</td>\n",
       "      <td>209.000000</td>\n",
       "      <td>2.000000</td>\n",
       "      <td>2.000000</td>\n",
       "      <td>1.000000</td>\n",
       "      <td>18.000000</td>\n",
       "      <td>0.000000</td>\n",
       "    </tr>\n",
       "    <tr>\n",
       "      <th>25%</th>\n",
       "      <td>231018.250000</td>\n",
       "      <td>0.000000</td>\n",
       "      <td>0.000000</td>\n",
       "      <td>1.000000</td>\n",
       "      <td>0.0</td>\n",
       "      <td>31.750000</td>\n",
       "      <td>48.000000</td>\n",
       "      <td>29249.000000</td>\n",
       "      <td>127.500000</td>\n",
       "      <td>169.250000</td>\n",
       "      <td>17.750000</td>\n",
       "      <td>44.000000</td>\n",
       "      <td>0.050820</td>\n",
       "    </tr>\n",
       "    <tr>\n",
       "      <th>50%</th>\n",
       "      <td>233439.500000</td>\n",
       "      <td>0.000000</td>\n",
       "      <td>0.000000</td>\n",
       "      <td>1.000000</td>\n",
       "      <td>0.0</td>\n",
       "      <td>46.000000</td>\n",
       "      <td>75.000000</td>\n",
       "      <td>54855.000000</td>\n",
       "      <td>279.000000</td>\n",
       "      <td>337.500000</td>\n",
       "      <td>23.000000</td>\n",
       "      <td>68.000000</td>\n",
       "      <td>0.095630</td>\n",
       "    </tr>\n",
       "    <tr>\n",
       "      <th>75%</th>\n",
       "      <td>235307.000000</td>\n",
       "      <td>0.000000</td>\n",
       "      <td>0.000000</td>\n",
       "      <td>2.000000</td>\n",
       "      <td>0.0</td>\n",
       "      <td>73.750000</td>\n",
       "      <td>110.000000</td>\n",
       "      <td>98649.000000</td>\n",
       "      <td>387.500000</td>\n",
       "      <td>447.250000</td>\n",
       "      <td>28.250000</td>\n",
       "      <td>89.000000</td>\n",
       "      <td>0.172269</td>\n",
       "    </tr>\n",
       "    <tr>\n",
       "      <th>max</th>\n",
       "      <td>235831.000000</td>\n",
       "      <td>2.000000</td>\n",
       "      <td>1.000000</td>\n",
       "      <td>3.000000</td>\n",
       "      <td>0.0</td>\n",
       "      <td>543.000000</td>\n",
       "      <td>420.000000</td>\n",
       "      <td>571640.000000</td>\n",
       "      <td>526.000000</td>\n",
       "      <td>792.000000</td>\n",
       "      <td>71.000000</td>\n",
       "      <td>386.000000</td>\n",
       "      <td>1.000000</td>\n",
       "    </tr>\n",
       "  </tbody>\n",
       "</table>\n",
       "</div>"
      ],
      "text/plain": [
       "                  id    entidade  fornecedor  complexidade  stat_pagto  \\\n",
       "count     108.000000  108.000000  108.000000    108.000000       108.0   \n",
       "mean   230475.212963    0.268519    0.064815      1.444444         0.0   \n",
       "std     22559.684178    0.573666    0.247347      0.631470         0.0   \n",
       "min         3.000000    0.000000    0.000000      0.000000         0.0   \n",
       "25%    231018.250000    0.000000    0.000000      1.000000         0.0   \n",
       "50%    233439.500000    0.000000    0.000000      1.000000         0.0   \n",
       "75%    235307.000000    0.000000    0.000000      2.000000         0.0   \n",
       "max    235831.000000    2.000000    1.000000      3.000000         0.0   \n",
       "\n",
       "       qtd_pag_word  qtd_pag_estimado       qtd_carc  qtd_tabela   qtd_image  \\\n",
       "count    108.000000        108.000000     108.000000  108.000000  108.000000   \n",
       "mean      60.916667         93.759259   77540.694444  257.916667  340.768519   \n",
       "std       61.165644         68.238021   86924.309341  153.689098  203.278714   \n",
       "min       12.000000         18.000000     209.000000    2.000000    2.000000   \n",
       "25%       31.750000         48.000000   29249.000000  127.500000  169.250000   \n",
       "50%       46.000000         75.000000   54855.000000  279.000000  337.500000   \n",
       "75%       73.750000        110.000000   98649.000000  387.500000  447.250000   \n",
       "max      543.000000        420.000000  571640.000000  526.000000  792.000000   \n",
       "\n",
       "       qtd_estilos   pag_final  qtd_carc_normal  \n",
       "count   108.000000  108.000000       108.000000  \n",
       "mean     25.314815   78.518519         0.135330  \n",
       "std      14.175567   61.064924         0.152117  \n",
       "min       1.000000   18.000000         0.000000  \n",
       "25%      17.750000   44.000000         0.050820  \n",
       "50%      23.000000   68.000000         0.095630  \n",
       "75%      28.250000   89.000000         0.172269  \n",
       "max      71.000000  386.000000         1.000000  "
      ]
     },
     "execution_count": 340,
     "metadata": {},
     "output_type": "execute_result"
    }
   ],
   "source": [
    "data.describe()"
   ]
  },
  {
   "cell_type": "code",
   "execution_count": 343,
   "metadata": {},
   "outputs": [
    {
     "data": {
      "text/plain": [
       "Index(['id', 'entidade', 'fornecedor', 'complexidade', 'stat_pagto',\n",
       "       'qtd_pag_word', 'qtd_pag_estimado', 'qtd_carc', 'qtd_tabela',\n",
       "       'qtd_image', 'qtd_estilos', 'pag_final', 'qtd_carc_normal'],\n",
       "      dtype='object')"
      ]
     },
     "execution_count": 343,
     "metadata": {},
     "output_type": "execute_result"
    }
   ],
   "source": [
    "data.columns"
   ]
  },
  {
   "cell_type": "code",
   "execution_count": 344,
   "metadata": {},
   "outputs": [],
   "source": [
    "# prepara dados de entrada X e dados de saida Y\n",
    "#colunas_X= ['entidade', 'fornecedor', 'complexidade', 'stat_pagto','qtd_pag_word', 'qtd_carc', 'qtd_tabela','qtd_image']\n",
    "\n",
    "#colunas_X= ['complexidade', 'qtd_pag_word', 'qtd_carc','qtd_tabela','qtd_image']\n",
    "colunas_X= ['complexidade', 'qtd_pag_word', 'qtd_carc','qtd_tabela','qtd_image',\"qtd_estilos\",'qtd_carc_normal']\n",
    "#colunas_X= ['complexidade', 'qtd_pag_word', 'qtd_pag_estimado','qtd_carc','qtd_tabela','qtd_image']\n",
    "\n",
    "colunas_y=['pag_final']\n",
    "#colunas_y=['id',  'pag_final']\n",
    "\n",
    "X = data[colunas_X]\n",
    "y = data[colunas_y]"
   ]
  },
  {
   "cell_type": "code",
   "execution_count": 345,
   "metadata": {},
   "outputs": [
    {
     "data": {
      "text/html": [
       "<div>\n",
       "<style scoped>\n",
       "    .dataframe tbody tr th:only-of-type {\n",
       "        vertical-align: middle;\n",
       "    }\n",
       "\n",
       "    .dataframe tbody tr th {\n",
       "        vertical-align: top;\n",
       "    }\n",
       "\n",
       "    .dataframe thead th {\n",
       "        text-align: right;\n",
       "    }\n",
       "</style>\n",
       "<table border=\"1\" class=\"dataframe\">\n",
       "  <thead>\n",
       "    <tr style=\"text-align: right;\">\n",
       "      <th></th>\n",
       "      <th>complexidade</th>\n",
       "      <th>qtd_pag_word</th>\n",
       "      <th>qtd_carc</th>\n",
       "      <th>qtd_tabela</th>\n",
       "      <th>qtd_image</th>\n",
       "      <th>qtd_estilos</th>\n",
       "      <th>qtd_carc_normal</th>\n",
       "    </tr>\n",
       "  </thead>\n",
       "  <tbody>\n",
       "    <tr>\n",
       "      <th>103</th>\n",
       "      <td>1</td>\n",
       "      <td>56</td>\n",
       "      <td>51127</td>\n",
       "      <td>356</td>\n",
       "      <td>365</td>\n",
       "      <td>18.0</td>\n",
       "      <td>0.089106</td>\n",
       "    </tr>\n",
       "    <tr>\n",
       "      <th>104</th>\n",
       "      <td>2</td>\n",
       "      <td>38</td>\n",
       "      <td>40157</td>\n",
       "      <td>339</td>\n",
       "      <td>325</td>\n",
       "      <td>16.0</td>\n",
       "      <td>0.069909</td>\n",
       "    </tr>\n",
       "    <tr>\n",
       "      <th>105</th>\n",
       "      <td>2</td>\n",
       "      <td>33</td>\n",
       "      <td>42499</td>\n",
       "      <td>293</td>\n",
       "      <td>303</td>\n",
       "      <td>15.0</td>\n",
       "      <td>0.074007</td>\n",
       "    </tr>\n",
       "    <tr>\n",
       "      <th>106</th>\n",
       "      <td>2</td>\n",
       "      <td>33</td>\n",
       "      <td>28573</td>\n",
       "      <td>413</td>\n",
       "      <td>391</td>\n",
       "      <td>15.0</td>\n",
       "      <td>0.049637</td>\n",
       "    </tr>\n",
       "    <tr>\n",
       "      <th>107</th>\n",
       "      <td>2</td>\n",
       "      <td>12</td>\n",
       "      <td>940</td>\n",
       "      <td>432</td>\n",
       "      <td>415</td>\n",
       "      <td>4.0</td>\n",
       "      <td>0.001279</td>\n",
       "    </tr>\n",
       "  </tbody>\n",
       "</table>\n",
       "</div>"
      ],
      "text/plain": [
       "     complexidade  qtd_pag_word  qtd_carc  qtd_tabela  qtd_image  qtd_estilos  \\\n",
       "103             1            56     51127         356        365         18.0   \n",
       "104             2            38     40157         339        325         16.0   \n",
       "105             2            33     42499         293        303         15.0   \n",
       "106             2            33     28573         413        391         15.0   \n",
       "107             2            12       940         432        415          4.0   \n",
       "\n",
       "     qtd_carc_normal  \n",
       "103         0.089106  \n",
       "104         0.069909  \n",
       "105         0.074007  \n",
       "106         0.049637  \n",
       "107         0.001279  "
      ]
     },
     "execution_count": 345,
     "metadata": {},
     "output_type": "execute_result"
    }
   ],
   "source": [
    "X.tail()"
   ]
  },
  {
   "cell_type": "code",
   "execution_count": 277,
   "metadata": {
    "scrolled": true
   },
   "outputs": [
    {
     "data": {
      "text/html": [
       "<div>\n",
       "<style scoped>\n",
       "    .dataframe tbody tr th:only-of-type {\n",
       "        vertical-align: middle;\n",
       "    }\n",
       "\n",
       "    .dataframe tbody tr th {\n",
       "        vertical-align: top;\n",
       "    }\n",
       "\n",
       "    .dataframe thead th {\n",
       "        text-align: right;\n",
       "    }\n",
       "</style>\n",
       "<table border=\"1\" class=\"dataframe\">\n",
       "  <thead>\n",
       "    <tr style=\"text-align: right;\">\n",
       "      <th></th>\n",
       "      <th>id</th>\n",
       "      <th>entidade</th>\n",
       "      <th>fornecedor</th>\n",
       "      <th>complexidade</th>\n",
       "      <th>stat_pagto</th>\n",
       "      <th>qtd_pag_word</th>\n",
       "      <th>qtd_pag_estimado</th>\n",
       "      <th>qtd_carc</th>\n",
       "      <th>qtd_tabela</th>\n",
       "      <th>qtd_image</th>\n",
       "      <th>qtd_estilos</th>\n",
       "      <th>pag_final</th>\n",
       "    </tr>\n",
       "  </thead>\n",
       "  <tbody>\n",
       "    <tr>\n",
       "      <th>0</th>\n",
       "      <td>224323</td>\n",
       "      <td>0</td>\n",
       "      <td>0</td>\n",
       "      <td>1</td>\n",
       "      <td>0</td>\n",
       "      <td>87</td>\n",
       "      <td>140.0</td>\n",
       "      <td>116142</td>\n",
       "      <td>470</td>\n",
       "      <td>685</td>\n",
       "      <td>60.0</td>\n",
       "      <td>140</td>\n",
       "    </tr>\n",
       "    <tr>\n",
       "      <th>1</th>\n",
       "      <td>224325</td>\n",
       "      <td>0</td>\n",
       "      <td>0</td>\n",
       "      <td>1</td>\n",
       "      <td>0</td>\n",
       "      <td>82</td>\n",
       "      <td>122.0</td>\n",
       "      <td>108307</td>\n",
       "      <td>76</td>\n",
       "      <td>94</td>\n",
       "      <td>69.0</td>\n",
       "      <td>122</td>\n",
       "    </tr>\n",
       "    <tr>\n",
       "      <th>2</th>\n",
       "      <td>225392</td>\n",
       "      <td>0</td>\n",
       "      <td>0</td>\n",
       "      <td>3</td>\n",
       "      <td>0</td>\n",
       "      <td>41</td>\n",
       "      <td>70.0</td>\n",
       "      <td>41144</td>\n",
       "      <td>28</td>\n",
       "      <td>24</td>\n",
       "      <td>23.0</td>\n",
       "      <td>52</td>\n",
       "    </tr>\n",
       "    <tr>\n",
       "      <th>3</th>\n",
       "      <td>225392</td>\n",
       "      <td>0</td>\n",
       "      <td>0</td>\n",
       "      <td>3</td>\n",
       "      <td>0</td>\n",
       "      <td>41</td>\n",
       "      <td>70.0</td>\n",
       "      <td>62913</td>\n",
       "      <td>397</td>\n",
       "      <td>639</td>\n",
       "      <td>21.0</td>\n",
       "      <td>52</td>\n",
       "    </tr>\n",
       "    <tr>\n",
       "      <th>4</th>\n",
       "      <td>225531</td>\n",
       "      <td>0</td>\n",
       "      <td>0</td>\n",
       "      <td>2</td>\n",
       "      <td>0</td>\n",
       "      <td>36</td>\n",
       "      <td>48.0</td>\n",
       "      <td>37548</td>\n",
       "      <td>233</td>\n",
       "      <td>397</td>\n",
       "      <td>17.0</td>\n",
       "      <td>48</td>\n",
       "    </tr>\n",
       "    <tr>\n",
       "      <th>...</th>\n",
       "      <td>...</td>\n",
       "      <td>...</td>\n",
       "      <td>...</td>\n",
       "      <td>...</td>\n",
       "      <td>...</td>\n",
       "      <td>...</td>\n",
       "      <td>...</td>\n",
       "      <td>...</td>\n",
       "      <td>...</td>\n",
       "      <td>...</td>\n",
       "      <td>...</td>\n",
       "      <td>...</td>\n",
       "    </tr>\n",
       "    <tr>\n",
       "      <th>103</th>\n",
       "      <td>235514</td>\n",
       "      <td>1</td>\n",
       "      <td>1</td>\n",
       "      <td>1</td>\n",
       "      <td>0</td>\n",
       "      <td>56</td>\n",
       "      <td>104.0</td>\n",
       "      <td>51127</td>\n",
       "      <td>356</td>\n",
       "      <td>365</td>\n",
       "      <td>18.0</td>\n",
       "      <td>72</td>\n",
       "    </tr>\n",
       "    <tr>\n",
       "      <th>104</th>\n",
       "      <td>235700</td>\n",
       "      <td>1</td>\n",
       "      <td>1</td>\n",
       "      <td>2</td>\n",
       "      <td>0</td>\n",
       "      <td>38</td>\n",
       "      <td>48.0</td>\n",
       "      <td>40157</td>\n",
       "      <td>339</td>\n",
       "      <td>325</td>\n",
       "      <td>16.0</td>\n",
       "      <td>44</td>\n",
       "    </tr>\n",
       "    <tr>\n",
       "      <th>105</th>\n",
       "      <td>235701</td>\n",
       "      <td>1</td>\n",
       "      <td>1</td>\n",
       "      <td>2</td>\n",
       "      <td>0</td>\n",
       "      <td>33</td>\n",
       "      <td>44.0</td>\n",
       "      <td>42499</td>\n",
       "      <td>293</td>\n",
       "      <td>303</td>\n",
       "      <td>15.0</td>\n",
       "      <td>40</td>\n",
       "    </tr>\n",
       "    <tr>\n",
       "      <th>106</th>\n",
       "      <td>235710</td>\n",
       "      <td>1</td>\n",
       "      <td>1</td>\n",
       "      <td>2</td>\n",
       "      <td>0</td>\n",
       "      <td>33</td>\n",
       "      <td>72.0</td>\n",
       "      <td>28573</td>\n",
       "      <td>413</td>\n",
       "      <td>391</td>\n",
       "      <td>15.0</td>\n",
       "      <td>48</td>\n",
       "    </tr>\n",
       "    <tr>\n",
       "      <th>107</th>\n",
       "      <td>235813</td>\n",
       "      <td>1</td>\n",
       "      <td>1</td>\n",
       "      <td>2</td>\n",
       "      <td>0</td>\n",
       "      <td>12</td>\n",
       "      <td>24.0</td>\n",
       "      <td>940</td>\n",
       "      <td>432</td>\n",
       "      <td>415</td>\n",
       "      <td>4.0</td>\n",
       "      <td>24</td>\n",
       "    </tr>\n",
       "  </tbody>\n",
       "</table>\n",
       "<p>108 rows × 12 columns</p>\n",
       "</div>"
      ],
      "text/plain": [
       "         id  entidade  fornecedor  complexidade  stat_pagto  qtd_pag_word  \\\n",
       "0    224323         0           0             1           0            87   \n",
       "1    224325         0           0             1           0            82   \n",
       "2    225392         0           0             3           0            41   \n",
       "3    225392         0           0             3           0            41   \n",
       "4    225531         0           0             2           0            36   \n",
       "..      ...       ...         ...           ...         ...           ...   \n",
       "103  235514         1           1             1           0            56   \n",
       "104  235700         1           1             2           0            38   \n",
       "105  235701         1           1             2           0            33   \n",
       "106  235710         1           1             2           0            33   \n",
       "107  235813         1           1             2           0            12   \n",
       "\n",
       "     qtd_pag_estimado  qtd_carc  qtd_tabela  qtd_image  qtd_estilos  pag_final  \n",
       "0               140.0    116142         470        685         60.0        140  \n",
       "1               122.0    108307          76         94         69.0        122  \n",
       "2                70.0     41144          28         24         23.0         52  \n",
       "3                70.0     62913         397        639         21.0         52  \n",
       "4                48.0     37548         233        397         17.0         48  \n",
       "..                ...       ...         ...        ...          ...        ...  \n",
       "103             104.0     51127         356        365         18.0         72  \n",
       "104              48.0     40157         339        325         16.0         44  \n",
       "105              44.0     42499         293        303         15.0         40  \n",
       "106              72.0     28573         413        391         15.0         48  \n",
       "107              24.0       940         432        415          4.0         24  \n",
       "\n",
       "[108 rows x 12 columns]"
      ]
     },
     "execution_count": 277,
     "metadata": {},
     "output_type": "execute_result"
    }
   ],
   "source": [
    "data"
   ]
  },
  {
   "cell_type": "code",
   "execution_count": 278,
   "metadata": {},
   "outputs": [
    {
     "data": {
      "text/html": [
       "<div>\n",
       "<style scoped>\n",
       "    .dataframe tbody tr th:only-of-type {\n",
       "        vertical-align: middle;\n",
       "    }\n",
       "\n",
       "    .dataframe tbody tr th {\n",
       "        vertical-align: top;\n",
       "    }\n",
       "\n",
       "    .dataframe thead th {\n",
       "        text-align: right;\n",
       "    }\n",
       "</style>\n",
       "<table border=\"1\" class=\"dataframe\">\n",
       "  <thead>\n",
       "    <tr style=\"text-align: right;\">\n",
       "      <th></th>\n",
       "      <th>id</th>\n",
       "      <th>entidade</th>\n",
       "      <th>fornecedor</th>\n",
       "      <th>complexidade</th>\n",
       "      <th>stat_pagto</th>\n",
       "      <th>qtd_pag_word</th>\n",
       "      <th>qtd_pag_estimado</th>\n",
       "      <th>qtd_carc</th>\n",
       "      <th>qtd_tabela</th>\n",
       "      <th>qtd_image</th>\n",
       "      <th>qtd_estilos</th>\n",
       "      <th>pag_final</th>\n",
       "    </tr>\n",
       "  </thead>\n",
       "  <tbody>\n",
       "    <tr>\n",
       "      <th>count</th>\n",
       "      <td>108.000000</td>\n",
       "      <td>108.000000</td>\n",
       "      <td>108.000000</td>\n",
       "      <td>108.000000</td>\n",
       "      <td>108.0</td>\n",
       "      <td>108.000000</td>\n",
       "      <td>108.000000</td>\n",
       "      <td>108.000000</td>\n",
       "      <td>108.000000</td>\n",
       "      <td>108.000000</td>\n",
       "      <td>108.000000</td>\n",
       "      <td>108.000000</td>\n",
       "    </tr>\n",
       "    <tr>\n",
       "      <th>mean</th>\n",
       "      <td>230475.212963</td>\n",
       "      <td>0.268519</td>\n",
       "      <td>0.064815</td>\n",
       "      <td>1.444444</td>\n",
       "      <td>0.0</td>\n",
       "      <td>60.916667</td>\n",
       "      <td>93.759259</td>\n",
       "      <td>77540.694444</td>\n",
       "      <td>257.916667</td>\n",
       "      <td>340.768519</td>\n",
       "      <td>25.314815</td>\n",
       "      <td>78.518519</td>\n",
       "    </tr>\n",
       "    <tr>\n",
       "      <th>std</th>\n",
       "      <td>22559.684178</td>\n",
       "      <td>0.573666</td>\n",
       "      <td>0.247347</td>\n",
       "      <td>0.631470</td>\n",
       "      <td>0.0</td>\n",
       "      <td>61.165644</td>\n",
       "      <td>68.238021</td>\n",
       "      <td>86924.309341</td>\n",
       "      <td>153.689098</td>\n",
       "      <td>203.278714</td>\n",
       "      <td>14.175567</td>\n",
       "      <td>61.064924</td>\n",
       "    </tr>\n",
       "    <tr>\n",
       "      <th>min</th>\n",
       "      <td>3.000000</td>\n",
       "      <td>0.000000</td>\n",
       "      <td>0.000000</td>\n",
       "      <td>0.000000</td>\n",
       "      <td>0.0</td>\n",
       "      <td>12.000000</td>\n",
       "      <td>18.000000</td>\n",
       "      <td>209.000000</td>\n",
       "      <td>2.000000</td>\n",
       "      <td>2.000000</td>\n",
       "      <td>1.000000</td>\n",
       "      <td>18.000000</td>\n",
       "    </tr>\n",
       "    <tr>\n",
       "      <th>25%</th>\n",
       "      <td>231018.250000</td>\n",
       "      <td>0.000000</td>\n",
       "      <td>0.000000</td>\n",
       "      <td>1.000000</td>\n",
       "      <td>0.0</td>\n",
       "      <td>31.750000</td>\n",
       "      <td>48.000000</td>\n",
       "      <td>29249.000000</td>\n",
       "      <td>127.500000</td>\n",
       "      <td>169.250000</td>\n",
       "      <td>17.750000</td>\n",
       "      <td>44.000000</td>\n",
       "    </tr>\n",
       "    <tr>\n",
       "      <th>50%</th>\n",
       "      <td>233439.500000</td>\n",
       "      <td>0.000000</td>\n",
       "      <td>0.000000</td>\n",
       "      <td>1.000000</td>\n",
       "      <td>0.0</td>\n",
       "      <td>46.000000</td>\n",
       "      <td>75.000000</td>\n",
       "      <td>54855.000000</td>\n",
       "      <td>279.000000</td>\n",
       "      <td>337.500000</td>\n",
       "      <td>23.000000</td>\n",
       "      <td>68.000000</td>\n",
       "    </tr>\n",
       "    <tr>\n",
       "      <th>75%</th>\n",
       "      <td>235307.000000</td>\n",
       "      <td>0.000000</td>\n",
       "      <td>0.000000</td>\n",
       "      <td>2.000000</td>\n",
       "      <td>0.0</td>\n",
       "      <td>73.750000</td>\n",
       "      <td>110.000000</td>\n",
       "      <td>98649.000000</td>\n",
       "      <td>387.500000</td>\n",
       "      <td>447.250000</td>\n",
       "      <td>28.250000</td>\n",
       "      <td>89.000000</td>\n",
       "    </tr>\n",
       "    <tr>\n",
       "      <th>max</th>\n",
       "      <td>235831.000000</td>\n",
       "      <td>2.000000</td>\n",
       "      <td>1.000000</td>\n",
       "      <td>3.000000</td>\n",
       "      <td>0.0</td>\n",
       "      <td>543.000000</td>\n",
       "      <td>420.000000</td>\n",
       "      <td>571640.000000</td>\n",
       "      <td>526.000000</td>\n",
       "      <td>792.000000</td>\n",
       "      <td>71.000000</td>\n",
       "      <td>386.000000</td>\n",
       "    </tr>\n",
       "  </tbody>\n",
       "</table>\n",
       "</div>"
      ],
      "text/plain": [
       "                  id    entidade  fornecedor  complexidade  stat_pagto  \\\n",
       "count     108.000000  108.000000  108.000000    108.000000       108.0   \n",
       "mean   230475.212963    0.268519    0.064815      1.444444         0.0   \n",
       "std     22559.684178    0.573666    0.247347      0.631470         0.0   \n",
       "min         3.000000    0.000000    0.000000      0.000000         0.0   \n",
       "25%    231018.250000    0.000000    0.000000      1.000000         0.0   \n",
       "50%    233439.500000    0.000000    0.000000      1.000000         0.0   \n",
       "75%    235307.000000    0.000000    0.000000      2.000000         0.0   \n",
       "max    235831.000000    2.000000    1.000000      3.000000         0.0   \n",
       "\n",
       "       qtd_pag_word  qtd_pag_estimado       qtd_carc  qtd_tabela   qtd_image  \\\n",
       "count    108.000000        108.000000     108.000000  108.000000  108.000000   \n",
       "mean      60.916667         93.759259   77540.694444  257.916667  340.768519   \n",
       "std       61.165644         68.238021   86924.309341  153.689098  203.278714   \n",
       "min       12.000000         18.000000     209.000000    2.000000    2.000000   \n",
       "25%       31.750000         48.000000   29249.000000  127.500000  169.250000   \n",
       "50%       46.000000         75.000000   54855.000000  279.000000  337.500000   \n",
       "75%       73.750000        110.000000   98649.000000  387.500000  447.250000   \n",
       "max      543.000000        420.000000  571640.000000  526.000000  792.000000   \n",
       "\n",
       "       qtd_estilos   pag_final  \n",
       "count   108.000000  108.000000  \n",
       "mean     25.314815   78.518519  \n",
       "std      14.175567   61.064924  \n",
       "min       1.000000   18.000000  \n",
       "25%      17.750000   44.000000  \n",
       "50%      23.000000   68.000000  \n",
       "75%      28.250000   89.000000  \n",
       "max      71.000000  386.000000  "
      ]
     },
     "execution_count": 278,
     "metadata": {},
     "output_type": "execute_result"
    }
   ],
   "source": [
    "data.describe()"
   ]
  },
  {
   "cell_type": "code",
   "execution_count": 279,
   "metadata": {},
   "outputs": [
    {
     "data": {
      "text/html": [
       "<div>\n",
       "<style scoped>\n",
       "    .dataframe tbody tr th:only-of-type {\n",
       "        vertical-align: middle;\n",
       "    }\n",
       "\n",
       "    .dataframe tbody tr th {\n",
       "        vertical-align: top;\n",
       "    }\n",
       "\n",
       "    .dataframe thead th {\n",
       "        text-align: right;\n",
       "    }\n",
       "</style>\n",
       "<table border=\"1\" class=\"dataframe\">\n",
       "  <thead>\n",
       "    <tr style=\"text-align: right;\">\n",
       "      <th></th>\n",
       "      <th>pag_final</th>\n",
       "    </tr>\n",
       "  </thead>\n",
       "  <tbody>\n",
       "    <tr>\n",
       "      <th>0</th>\n",
       "      <td>140</td>\n",
       "    </tr>\n",
       "    <tr>\n",
       "      <th>1</th>\n",
       "      <td>122</td>\n",
       "    </tr>\n",
       "    <tr>\n",
       "      <th>2</th>\n",
       "      <td>52</td>\n",
       "    </tr>\n",
       "    <tr>\n",
       "      <th>3</th>\n",
       "      <td>52</td>\n",
       "    </tr>\n",
       "    <tr>\n",
       "      <th>4</th>\n",
       "      <td>48</td>\n",
       "    </tr>\n",
       "  </tbody>\n",
       "</table>\n",
       "</div>"
      ],
      "text/plain": [
       "   pag_final\n",
       "0        140\n",
       "1        122\n",
       "2         52\n",
       "3         52\n",
       "4         48"
      ]
     },
     "execution_count": 279,
     "metadata": {},
     "output_type": "execute_result"
    }
   ],
   "source": [
    "y.head()"
   ]
  },
  {
   "cell_type": "markdown",
   "metadata": {},
   "source": [
    "# Normalizar?"
   ]
  },
  {
   "cell_type": "code",
   "execution_count": 280,
   "metadata": {},
   "outputs": [],
   "source": [
    "# padronização/escalonamento dos dados.\n",
    "#\n",
    "# Escalas Diferentes Podem Ser um Problema? Normalizar?\n",
    "# https://www.linkedin.com/pulse/pr%C3%A9-processamento-de-dados-intui%C3%A7%C3%A3o-e-pr%C3%A1tica-em-lucas-thiago-zane/\n",
    "# https://medium.com/tentando-ser-um-unic%C3%B3rnio/porqu%C3%AA-e-quando-%C3%A9-necess%C3%A1rio-normalizar-os-dados-92e5cce445aa\n",
    "#\n",
    "#"
   ]
  },
  {
   "cell_type": "code",
   "execution_count": 281,
   "metadata": {},
   "outputs": [],
   "source": [
    "# O objetivo da normalização é alterar os valores das colunas numéricas no conjunto de dados para uma escala comum,\n",
    "# sem distorcer as diferenças nos intervalos de valores.\n",
    "# Esse método é necessário apenas quando os parâmetros tiverem intervalos muito diferentes."
   ]
  },
  {
   "cell_type": "code",
   "execution_count": 282,
   "metadata": {},
   "outputs": [],
   "source": [
    "# a normalização não é necessária para a Regressão Logística.\n",
    "# a normalização poderá fazer sentido no tratamento de outliers.\n",
    "# Deixar variáveis com escalas similares é algo importante em algoritmos que trabalham com distâncias euclidianas,\n",
    "# como é o caso das regressões lineares multivariadas.\n",
    "# random florest não envolvem o uso de distâncias euclidianas."
   ]
  },
  {
   "attachments": {
    "image.png": {
     "image/png": "[encoded data removed]"
    }
   },
   "cell_type": "markdown",
   "metadata": {},
   "source": [
    "![image.png](attachment:image.png)"
   ]
  },
  {
   "cell_type": "code",
   "execution_count": 283,
   "metadata": {},
   "outputs": [],
   "source": [
    "# O que essa fórmula está dizendo é que pra cada observação em ambas as variáveis,\n",
    "# eu respondo a seguinte pergunta:quantos desvios padrões esse valor está longe da média? "
   ]
  },
  {
   "cell_type": "code",
   "execution_count": 284,
   "metadata": {},
   "outputs": [],
   "source": [
    "# “E se eu quiser modelar um classificador usando Regressão Logística, eu precisaria normalizar meus dados?”\n",
    "# Tecnicamente falando, a normalização não é necessária para a Regressão Logística, \n",
    "# pois ela trata com probabilidades relacionadas as classes envolvidas, \n",
    "# se preocupa em desenhar um “fronteira” de decisão em torno de um limiar (o famoso threshold).\n",
    "# Deixar variáveis com escalas similares é algo importante em algoritmos que trabalham com distâncias euclidianas, \n",
    "# como é o caso das regressões lineares multivariadas. "
   ]
  },
  {
   "cell_type": "code",
   "execution_count": 285,
   "metadata": {},
   "outputs": [],
   "source": [
    "# Os algoritmos de otimização:\n",
    "#Adaptive Gradient (AdaGrad)\n",
    "#Stochastic Gradient Descent (SGD)\n",
    "#Gradiente Descendente com Momentum (momentum)\n",
    "#Adaptative Delta Learning (adadelta)\n",
    "#Nesterov Accelerated Gradient (nag)\n",
    "#Otimizador RMSprop (rmsprop)\n"
   ]
  },
  {
   "cell_type": "markdown",
   "metadata": {},
   "source": [
    "### normalização (StandardScaler)\n",
    "\n",
    "from sklearn.preprocessing import StandardScaler\n",
    "\n",
    "- sc_X = StandardScaler()\n",
    "- X_train = sc_X.fit_transform(X_train)\n",
    "- X_test = sc_X.transform(X_test)\n",
    "\n",
    "- sc_y = StandardScaler()\n",
    "- y_train = sc_y.fit_transform(y_train)"
   ]
  },
  {
   "cell_type": "markdown",
   "metadata": {},
   "source": [
    "#### Uma maneira fácil de usar o Pandas : (aqui eu quero usar a normalização média)\n",
    "\n",
    "- normalized_df=(df-df.mean())/df.std()\n",
    "#### para usar a normalização min-max:\n",
    "\n",
    "- normalized_df=(df-df.min())/(df.max()-df.min())"
   ]
  },
  {
   "cell_type": "markdown",
   "metadata": {},
   "source": [
    "#### Você pode usar o pacote sklearn e seus utilitários de pré-processamento associados para normalizar os dados.\n",
    "\n",
    "- import pandas as pd\n",
    "- from sklearn import preprocessing\n",
    "\n",
    "- x = df.values #returns a numpy array\n",
    "- min_max_scaler = preprocessing.MinMaxScaler()\n",
    "- x_scaled = min_max_scaler.fit_transform(x)\n",
    "- df = pd.DataFrame(x_scaled)"
   ]
  },
  {
   "cell_type": "code",
   "execution_count": 286,
   "metadata": {},
   "outputs": [],
   "source": [
    "#########################################################\n",
    "# INÍCIO DA PARTE DE MACHINE LEARNIG  \\\n",
    "# RANDOM FOREST\n",
    "########################################################"
   ]
  },
  {
   "cell_type": "code",
   "execution_count": 287,
   "metadata": {},
   "outputs": [],
   "source": [
    "# instalar biblioteca scikit-learn\n",
    "#! pip install -U scikit-learn"
   ]
  },
  {
   "cell_type": "code",
   "execution_count": 470,
   "metadata": {},
   "outputs": [],
   "source": [
    "#colunas_X= ['qtd_pag_word', 'qtd_carc','qtd_tabela','qtd_image',\"qtd_estilos\"]\n",
    "#colunas_X= ['qtd_pag_word', 'qtd_tabela','qtd_image',\"qtd_estilos\", 'qtd_carc_normal']\n",
    "colunas_X= ['qtd_pag_word', 'qtd_tabela','qtd_image','qtd_carc_normal']\n",
    "\n",
    "\n",
    "colunas_y=['pag_final']\n",
    "X = data[colunas_X]\n",
    "y = data[colunas_y]"
   ]
  },
  {
   "cell_type": "code",
   "execution_count": 471,
   "metadata": {},
   "outputs": [],
   "source": [
    "# método train_test_split, Scikit-Learn \n",
    "X_train, X_test, y_train, y_test = train_test_split(X, y, test_size=0.10, random_state=42)"
   ]
  },
  {
   "cell_type": "code",
   "execution_count": 472,
   "metadata": {},
   "outputs": [
    {
     "data": {
      "text/plain": [
       "((97, 4), (11, 4), (97, 1), (11, 1))"
      ]
     },
     "execution_count": 472,
     "metadata": {},
     "output_type": "execute_result"
    }
   ],
   "source": [
    "X_train.shape, X_test.shape, y_train.shape, y_test.shape"
   ]
  },
  {
   "cell_type": "code",
   "execution_count": 473,
   "metadata": {},
   "outputs": [
    {
     "data": {
      "text/html": [
       "<div>\n",
       "<style scoped>\n",
       "    .dataframe tbody tr th:only-of-type {\n",
       "        vertical-align: middle;\n",
       "    }\n",
       "\n",
       "    .dataframe tbody tr th {\n",
       "        vertical-align: top;\n",
       "    }\n",
       "\n",
       "    .dataframe thead th {\n",
       "        text-align: right;\n",
       "    }\n",
       "</style>\n",
       "<table border=\"1\" class=\"dataframe\">\n",
       "  <thead>\n",
       "    <tr style=\"text-align: right;\">\n",
       "      <th></th>\n",
       "      <th>pag_final</th>\n",
       "    </tr>\n",
       "  </thead>\n",
       "  <tbody>\n",
       "    <tr>\n",
       "      <th>77</th>\n",
       "      <td>108</td>\n",
       "    </tr>\n",
       "    <tr>\n",
       "      <th>10</th>\n",
       "      <td>40</td>\n",
       "    </tr>\n",
       "    <tr>\n",
       "      <th>4</th>\n",
       "      <td>48</td>\n",
       "    </tr>\n",
       "    <tr>\n",
       "      <th>83</th>\n",
       "      <td>54</td>\n",
       "    </tr>\n",
       "    <tr>\n",
       "      <th>62</th>\n",
       "      <td>46</td>\n",
       "    </tr>\n",
       "  </tbody>\n",
       "</table>\n",
       "</div>"
      ],
      "text/plain": [
       "    pag_final\n",
       "77        108\n",
       "10         40\n",
       "4          48\n",
       "83         54\n",
       "62         46"
      ]
     },
     "execution_count": 473,
     "metadata": {},
     "output_type": "execute_result"
    }
   ],
   "source": [
    "y_test.head()"
   ]
  },
  {
   "cell_type": "code",
   "execution_count": null,
   "metadata": {},
   "outputs": [],
   "source": []
  },
  {
   "cell_type": "code",
   "execution_count": 474,
   "metadata": {},
   "outputs": [
    {
     "name": "stderr",
     "output_type": "stream",
     "text": [
      "<ipython-input-474-957cc5138365>:2: DataConversionWarning: A column-vector y was passed when a 1d array was expected. Please change the shape of y to (n_samples,), for example using ravel().\n",
      "  modelo.fit(X_train, y_train)\n"
     ]
    },
    {
     "data": {
      "text/plain": [
       "RandomForestClassifier(n_jobs=-1, random_state=0)"
      ]
     },
     "execution_count": 474,
     "metadata": {},
     "output_type": "execute_result"
    }
   ],
   "source": [
    "modelo = RandomForestClassifier(n_estimators=100, n_jobs=-1, random_state=0)\n",
    "modelo.fit(X_train, y_train)"
   ]
  },
  {
   "cell_type": "code",
   "execution_count": 475,
   "metadata": {},
   "outputs": [],
   "source": [
    "p = modelo.predict(X_test)"
   ]
  },
  {
   "cell_type": "code",
   "execution_count": 476,
   "metadata": {},
   "outputs": [
    {
     "data": {
      "text/plain": [
       "array([140,  40,  48,  52,  38, 110, 140,  68,  40,  48, 110])"
      ]
     },
     "execution_count": 476,
     "metadata": {},
     "output_type": "execute_result"
    }
   ],
   "source": [
    "p"
   ]
  },
  {
   "cell_type": "code",
   "execution_count": 477,
   "metadata": {},
   "outputs": [
    {
     "name": "stdout",
     "output_type": "stream",
     "text": [
      "(11,) (11, 1)\n"
     ]
    }
   ],
   "source": [
    "print(p.shape,y_test.shape)"
   ]
  },
  {
   "cell_type": "code",
   "execution_count": 478,
   "metadata": {},
   "outputs": [
    {
     "data": {
      "text/html": [
       "<div>\n",
       "<style scoped>\n",
       "    .dataframe tbody tr th:only-of-type {\n",
       "        vertical-align: middle;\n",
       "    }\n",
       "\n",
       "    .dataframe tbody tr th {\n",
       "        vertical-align: top;\n",
       "    }\n",
       "\n",
       "    .dataframe thead th {\n",
       "        text-align: right;\n",
       "    }\n",
       "</style>\n",
       "<table border=\"1\" class=\"dataframe\">\n",
       "  <thead>\n",
       "    <tr style=\"text-align: right;\">\n",
       "      <th></th>\n",
       "      <th>pag_final</th>\n",
       "    </tr>\n",
       "  </thead>\n",
       "  <tbody>\n",
       "    <tr>\n",
       "      <th>77</th>\n",
       "      <td>108</td>\n",
       "    </tr>\n",
       "    <tr>\n",
       "      <th>10</th>\n",
       "      <td>40</td>\n",
       "    </tr>\n",
       "    <tr>\n",
       "      <th>4</th>\n",
       "      <td>48</td>\n",
       "    </tr>\n",
       "    <tr>\n",
       "      <th>83</th>\n",
       "      <td>54</td>\n",
       "    </tr>\n",
       "    <tr>\n",
       "      <th>62</th>\n",
       "      <td>46</td>\n",
       "    </tr>\n",
       "    <tr>\n",
       "      <th>67</th>\n",
       "      <td>176</td>\n",
       "    </tr>\n",
       "    <tr>\n",
       "      <th>30</th>\n",
       "      <td>100</td>\n",
       "    </tr>\n",
       "    <tr>\n",
       "      <th>45</th>\n",
       "      <td>76</td>\n",
       "    </tr>\n",
       "    <tr>\n",
       "      <th>95</th>\n",
       "      <td>44</td>\n",
       "    </tr>\n",
       "    <tr>\n",
       "      <th>11</th>\n",
       "      <td>46</td>\n",
       "    </tr>\n",
       "    <tr>\n",
       "      <th>81</th>\n",
       "      <td>84</td>\n",
       "    </tr>\n",
       "  </tbody>\n",
       "</table>\n",
       "</div>"
      ],
      "text/plain": [
       "    pag_final\n",
       "77        108\n",
       "10         40\n",
       "4          48\n",
       "83         54\n",
       "62         46\n",
       "67        176\n",
       "30        100\n",
       "45         76\n",
       "95         44\n",
       "11         46\n",
       "81         84"
      ]
     },
     "execution_count": 478,
     "metadata": {},
     "output_type": "execute_result"
    }
   ],
   "source": [
    "y_test"
   ]
  },
  {
   "cell_type": "code",
   "execution_count": 479,
   "metadata": {},
   "outputs": [
    {
     "name": "stdout",
     "output_type": "stream",
     "text": [
      "RMSE:  26.642413213111567\n"
     ]
    }
   ],
   "source": [
    "# Calculando RMSE utilizando scikit-learn\n",
    "print('RMSE: ',np.sqrt(metrics.mean_squared_error(y_test,p)))\n",
    "# RMSE:  78.92781512242689\n",
    "# RMSE:  78.58244078673046\n",
    "# RMSE:  19.371957239079567\n",
    "# RMSE:  53.665631459994955\n",
    "# RMSE:  26.642413213111567 sem a feature quantidade de estilo\n"
   ]
  },
  {
   "cell_type": "code",
   "execution_count": null,
   "metadata": {},
   "outputs": [],
   "source": [
    "##############################################################################################################"
   ]
  },
  {
   "cell_type": "code",
   "execution_count": null,
   "metadata": {},
   "outputs": [],
   "source": [
    "#########################################################\n",
    "# FIM RANDOM FOREST\n",
    "########################################################"
   ]
  },
  {
   "cell_type": "code",
   "execution_count": null,
   "metadata": {},
   "outputs": [],
   "source": []
  },
  {
   "cell_type": "code",
   "execution_count": null,
   "metadata": {},
   "outputs": [],
   "source": [
    "# https://github.com/WalnerPessoa/Medical-Cost-Personal/blob/master/Aula%205%20-%20Regress%C3%A3o%20linear%20para%20prever%20as%20despesas%20m%C3%A9dicas%20de%20um%20paciente%20.ipynb\n",
    "\n",
    "\n",
    "# Criando uma lista com os nomes dos atributos\n",
    "#feature_cols = ['age','sex','bmi','children','smoker']\n",
    "\n",
    "# Usando a lista para escolher um subconjunto do dataframe original\n",
    "#X = data[feature_cols]\n",
    "\n",
    "# Selecionando a Série no dataframe\n",
    "#y = data.charges\n",
    "\n",
    "# Dividindo entre conjunto de treinamento e teste\n",
    "#X_train, X_test, y_train, y_test = train_test_split(X, y, random_state=1)\n",
    "\n",
    "# Ajsutando o modelo (Aprendendo os coeficientes)\n",
    "#linreg.fit(X_train, y_train)\n",
    "\n",
    "# Fazendo predições no conjunto de teste\n",
    "#y_pred = linreg.predict(X_test)\n",
    "\n",
    "# Calculando RMSE para nossas predições\n",
    "#print(np.sqrt(metrics.mean_squared_error(y_test, y_pred)))"
   ]
  },
  {
   "cell_type": "code",
   "execution_count": null,
   "metadata": {},
   "outputs": [],
   "source": [
    "##############################################################################################################"
   ]
  },
  {
   "cell_type": "code",
   "execution_count": null,
   "metadata": {},
   "outputs": [],
   "source": [
    "#########################################################\n",
    "# INÍCIO DA PARTE DE MACHINE LEARNIG  \\\n",
    "# LINEAR REGRESSION\n",
    "########################################################"
   ]
  },
  {
   "cell_type": "code",
   "execution_count": 481,
   "metadata": {},
   "outputs": [
    {
     "ename": "KeyError",
     "evalue": "\"['qtd_carc_normal'] not in index\"",
     "output_type": "error",
     "traceback": [
      "\u001b[0;31m---------------------------------------------------------------------------\u001b[0m",
      "\u001b[0;31mKeyError\u001b[0m                                  Traceback (most recent call last)",
      "\u001b[0;32m<ipython-input-481-9c9efbd7ed70>\u001b[0m in \u001b[0;36m<module>\u001b[0;34m\u001b[0m\n\u001b[1;32m      9\u001b[0m \u001b[0;34m\u001b[0m\u001b[0m\n\u001b[1;32m     10\u001b[0m \u001b[0mcolunas_y\u001b[0m\u001b[0;34m=\u001b[0m\u001b[0;34m[\u001b[0m\u001b[0;34m'pag_final'\u001b[0m\u001b[0;34m]\u001b[0m\u001b[0;34m\u001b[0m\u001b[0;34m\u001b[0m\u001b[0m\n\u001b[0;32m---> 11\u001b[0;31m \u001b[0mX\u001b[0m \u001b[0;34m=\u001b[0m \u001b[0mdata\u001b[0m\u001b[0;34m[\u001b[0m\u001b[0mcolunas_X\u001b[0m\u001b[0;34m]\u001b[0m\u001b[0;34m\u001b[0m\u001b[0;34m\u001b[0m\u001b[0m\n\u001b[0m\u001b[1;32m     12\u001b[0m \u001b[0my\u001b[0m \u001b[0;34m=\u001b[0m \u001b[0mdata\u001b[0m\u001b[0;34m[\u001b[0m\u001b[0mcolunas_y\u001b[0m\u001b[0;34m]\u001b[0m\u001b[0;34m\u001b[0m\u001b[0;34m\u001b[0m\u001b[0m\n",
      "\u001b[0;32m~/miniconda3/envs/py3/lib/python3.8/site-packages/pandas/core/frame.py\u001b[0m in \u001b[0;36m__getitem__\u001b[0;34m(self, key)\u001b[0m\n\u001b[1;32m   2906\u001b[0m             \u001b[0;32mif\u001b[0m \u001b[0mis_iterator\u001b[0m\u001b[0;34m(\u001b[0m\u001b[0mkey\u001b[0m\u001b[0;34m)\u001b[0m\u001b[0;34m:\u001b[0m\u001b[0;34m\u001b[0m\u001b[0;34m\u001b[0m\u001b[0m\n\u001b[1;32m   2907\u001b[0m                 \u001b[0mkey\u001b[0m \u001b[0;34m=\u001b[0m \u001b[0mlist\u001b[0m\u001b[0;34m(\u001b[0m\u001b[0mkey\u001b[0m\u001b[0;34m)\u001b[0m\u001b[0;34m\u001b[0m\u001b[0;34m\u001b[0m\u001b[0m\n\u001b[0;32m-> 2908\u001b[0;31m             \u001b[0mindexer\u001b[0m \u001b[0;34m=\u001b[0m \u001b[0mself\u001b[0m\u001b[0;34m.\u001b[0m\u001b[0mloc\u001b[0m\u001b[0;34m.\u001b[0m\u001b[0m_get_listlike_indexer\u001b[0m\u001b[0;34m(\u001b[0m\u001b[0mkey\u001b[0m\u001b[0;34m,\u001b[0m \u001b[0maxis\u001b[0m\u001b[0;34m=\u001b[0m\u001b[0;36m1\u001b[0m\u001b[0;34m,\u001b[0m \u001b[0mraise_missing\u001b[0m\u001b[0;34m=\u001b[0m\u001b[0;32mTrue\u001b[0m\u001b[0;34m)\u001b[0m\u001b[0;34m[\u001b[0m\u001b[0;36m1\u001b[0m\u001b[0;34m]\u001b[0m\u001b[0;34m\u001b[0m\u001b[0;34m\u001b[0m\u001b[0m\n\u001b[0m\u001b[1;32m   2909\u001b[0m \u001b[0;34m\u001b[0m\u001b[0m\n\u001b[1;32m   2910\u001b[0m         \u001b[0;31m# take() does not accept boolean indexers\u001b[0m\u001b[0;34m\u001b[0m\u001b[0;34m\u001b[0m\u001b[0;34m\u001b[0m\u001b[0m\n",
      "\u001b[0;32m~/miniconda3/envs/py3/lib/python3.8/site-packages/pandas/core/indexing.py\u001b[0m in \u001b[0;36m_get_listlike_indexer\u001b[0;34m(self, key, axis, raise_missing)\u001b[0m\n\u001b[1;32m   1252\u001b[0m             \u001b[0mkeyarr\u001b[0m\u001b[0;34m,\u001b[0m \u001b[0mindexer\u001b[0m\u001b[0;34m,\u001b[0m \u001b[0mnew_indexer\u001b[0m \u001b[0;34m=\u001b[0m \u001b[0max\u001b[0m\u001b[0;34m.\u001b[0m\u001b[0m_reindex_non_unique\u001b[0m\u001b[0;34m(\u001b[0m\u001b[0mkeyarr\u001b[0m\u001b[0;34m)\u001b[0m\u001b[0;34m\u001b[0m\u001b[0;34m\u001b[0m\u001b[0m\n\u001b[1;32m   1253\u001b[0m \u001b[0;34m\u001b[0m\u001b[0m\n\u001b[0;32m-> 1254\u001b[0;31m         \u001b[0mself\u001b[0m\u001b[0;34m.\u001b[0m\u001b[0m_validate_read_indexer\u001b[0m\u001b[0;34m(\u001b[0m\u001b[0mkeyarr\u001b[0m\u001b[0;34m,\u001b[0m \u001b[0mindexer\u001b[0m\u001b[0;34m,\u001b[0m \u001b[0maxis\u001b[0m\u001b[0;34m,\u001b[0m \u001b[0mraise_missing\u001b[0m\u001b[0;34m=\u001b[0m\u001b[0mraise_missing\u001b[0m\u001b[0;34m)\u001b[0m\u001b[0;34m\u001b[0m\u001b[0;34m\u001b[0m\u001b[0m\n\u001b[0m\u001b[1;32m   1255\u001b[0m         \u001b[0;32mreturn\u001b[0m \u001b[0mkeyarr\u001b[0m\u001b[0;34m,\u001b[0m \u001b[0mindexer\u001b[0m\u001b[0;34m\u001b[0m\u001b[0;34m\u001b[0m\u001b[0m\n\u001b[1;32m   1256\u001b[0m \u001b[0;34m\u001b[0m\u001b[0m\n",
      "\u001b[0;32m~/miniconda3/envs/py3/lib/python3.8/site-packages/pandas/core/indexing.py\u001b[0m in \u001b[0;36m_validate_read_indexer\u001b[0;34m(self, key, indexer, axis, raise_missing)\u001b[0m\n\u001b[1;32m   1302\u001b[0m             \u001b[0;32mif\u001b[0m \u001b[0mraise_missing\u001b[0m\u001b[0;34m:\u001b[0m\u001b[0;34m\u001b[0m\u001b[0;34m\u001b[0m\u001b[0m\n\u001b[1;32m   1303\u001b[0m                 \u001b[0mnot_found\u001b[0m \u001b[0;34m=\u001b[0m \u001b[0mlist\u001b[0m\u001b[0;34m(\u001b[0m\u001b[0mset\u001b[0m\u001b[0;34m(\u001b[0m\u001b[0mkey\u001b[0m\u001b[0;34m)\u001b[0m \u001b[0;34m-\u001b[0m \u001b[0mset\u001b[0m\u001b[0;34m(\u001b[0m\u001b[0max\u001b[0m\u001b[0;34m)\u001b[0m\u001b[0;34m)\u001b[0m\u001b[0;34m\u001b[0m\u001b[0;34m\u001b[0m\u001b[0m\n\u001b[0;32m-> 1304\u001b[0;31m                 \u001b[0;32mraise\u001b[0m \u001b[0mKeyError\u001b[0m\u001b[0;34m(\u001b[0m\u001b[0;34mf\"{not_found} not in index\"\u001b[0m\u001b[0;34m)\u001b[0m\u001b[0;34m\u001b[0m\u001b[0;34m\u001b[0m\u001b[0m\n\u001b[0m\u001b[1;32m   1305\u001b[0m \u001b[0;34m\u001b[0m\u001b[0m\n\u001b[1;32m   1306\u001b[0m             \u001b[0;31m# we skip the warning on Categorical\u001b[0m\u001b[0;34m\u001b[0m\u001b[0;34m\u001b[0m\u001b[0;34m\u001b[0m\u001b[0m\n",
      "\u001b[0;31mKeyError\u001b[0m: \"['qtd_carc_normal'] not in index\""
     ]
    }
   ],
   "source": [
    "# prepara dados de entrada X e dados de saida Y\n",
    "#colunas_X= ['entidade', 'fornecedor', 'complexidade', 'stat_pagto','qtd_pag_word', 'qtd_carc', 'qtd_tabela','qtd_image']\n",
    "# colunas_X= ['complexidade', 'qtd_pag_word', 'qtd_carc','qtd_tabela','qtd_image']\n",
    "#colunas_X= ['complexidade', 'qtd_pag_word', \"qtd_carc_normal\",'qtd_tabela','qtd_image']\n",
    "#colunas_X= ['complexidade', 'qtd_pag_word', 'qtd_pag_estimado','qtd_carc','qtd_tabela','qtd_image']\n",
    "#colunas_X= ['qtd_pag_word', 'qtd_carc','qtd_tabela','qtd_image',\"qtd_estilos\"]\n",
    "#colunas_X= ['qtd_pag_word', 'qtd_tabela','qtd_image',\"qtd_estilos\", 'qtd_carc_normal']\n",
    "colunas_X= ['qtd_pag_word', 'qtd_tabela','qtd_image', 'qtd_carc_normal']\n",
    "\n",
    "colunas_y=['pag_final']\n",
    "X = data[colunas_X]\n",
    "y = data[colunas_y]"
   ]
  },
  {
   "cell_type": "code",
   "execution_count": null,
   "metadata": {},
   "outputs": [],
   "source": [
    "# método train_test_split, Scikit-Learn \n",
    "X_train, X_test, y_train, y_test = train_test_split(X, y,  test_size=0.10,random_state=1)"
   ]
  },
  {
   "cell_type": "code",
   "execution_count": 482,
   "metadata": {},
   "outputs": [
    {
     "data": {
      "text/html": [
       "<div>\n",
       "<style scoped>\n",
       "    .dataframe tbody tr th:only-of-type {\n",
       "        vertical-align: middle;\n",
       "    }\n",
       "\n",
       "    .dataframe tbody tr th {\n",
       "        vertical-align: top;\n",
       "    }\n",
       "\n",
       "    .dataframe thead th {\n",
       "        text-align: right;\n",
       "    }\n",
       "</style>\n",
       "<table border=\"1\" class=\"dataframe\">\n",
       "  <thead>\n",
       "    <tr style=\"text-align: right;\">\n",
       "      <th></th>\n",
       "      <th>qtd_pag_word</th>\n",
       "      <th>qtd_tabela</th>\n",
       "      <th>qtd_image</th>\n",
       "      <th>qtd_carc_normal</th>\n",
       "    </tr>\n",
       "  </thead>\n",
       "  <tbody>\n",
       "    <tr>\n",
       "      <th>79</th>\n",
       "      <td>17</td>\n",
       "      <td>440</td>\n",
       "      <td>422</td>\n",
       "      <td>0.054253</td>\n",
       "    </tr>\n",
       "    <tr>\n",
       "      <th>0</th>\n",
       "      <td>87</td>\n",
       "      <td>470</td>\n",
       "      <td>685</td>\n",
       "      <td>0.202882</td>\n",
       "    </tr>\n",
       "    <tr>\n",
       "      <th>80</th>\n",
       "      <td>86</td>\n",
       "      <td>87</td>\n",
       "      <td>171</td>\n",
       "      <td>0.178083</td>\n",
       "    </tr>\n",
       "    <tr>\n",
       "      <th>18</th>\n",
       "      <td>54</td>\n",
       "      <td>395</td>\n",
       "      <td>637</td>\n",
       "      <td>0.149287</td>\n",
       "    </tr>\n",
       "    <tr>\n",
       "      <th>69</th>\n",
       "      <td>66</td>\n",
       "      <td>4</td>\n",
       "      <td>5</td>\n",
       "      <td>0.000000</td>\n",
       "    </tr>\n",
       "    <tr>\n",
       "      <th>...</th>\n",
       "      <td>...</td>\n",
       "      <td>...</td>\n",
       "      <td>...</td>\n",
       "      <td>...</td>\n",
       "    </tr>\n",
       "    <tr>\n",
       "      <th>71</th>\n",
       "      <td>67</td>\n",
       "      <td>109</td>\n",
       "      <td>185</td>\n",
       "      <td>0.212103</td>\n",
       "    </tr>\n",
       "    <tr>\n",
       "      <th>14</th>\n",
       "      <td>18</td>\n",
       "      <td>152</td>\n",
       "      <td>253</td>\n",
       "      <td>0.028675</td>\n",
       "    </tr>\n",
       "    <tr>\n",
       "      <th>92</th>\n",
       "      <td>29</td>\n",
       "      <td>4</td>\n",
       "      <td>4</td>\n",
       "      <td>0.041513</td>\n",
       "    </tr>\n",
       "    <tr>\n",
       "      <th>51</th>\n",
       "      <td>41</td>\n",
       "      <td>526</td>\n",
       "      <td>792</td>\n",
       "      <td>0.074305</td>\n",
       "    </tr>\n",
       "    <tr>\n",
       "      <th>102</th>\n",
       "      <td>49</td>\n",
       "      <td>150</td>\n",
       "      <td>265</td>\n",
       "      <td>0.098575</td>\n",
       "    </tr>\n",
       "  </tbody>\n",
       "</table>\n",
       "<p>97 rows × 4 columns</p>\n",
       "</div>"
      ],
      "text/plain": [
       "     qtd_pag_word  qtd_tabela  qtd_image  qtd_carc_normal\n",
       "79             17         440        422         0.054253\n",
       "0              87         470        685         0.202882\n",
       "80             86          87        171         0.178083\n",
       "18             54         395        637         0.149287\n",
       "69             66           4          5         0.000000\n",
       "..            ...         ...        ...              ...\n",
       "71             67         109        185         0.212103\n",
       "14             18         152        253         0.028675\n",
       "92             29           4          4         0.041513\n",
       "51             41         526        792         0.074305\n",
       "102            49         150        265         0.098575\n",
       "\n",
       "[97 rows x 4 columns]"
      ]
     },
     "execution_count": 482,
     "metadata": {},
     "output_type": "execute_result"
    }
   ],
   "source": [
    "X_train"
   ]
  },
  {
   "cell_type": "code",
   "execution_count": 483,
   "metadata": {},
   "outputs": [
    {
     "name": "stdout",
     "output_type": "stream",
     "text": [
      "[17.40267532]\n",
      "[[ 7.25529599e-01  2.09592935e-02 -2.47488001e-02  1.51045108e+02]]\n"
     ]
    }
   ],
   "source": [
    "##### machine learnig\n",
    "\n",
    "#Instanciando o estimador\n",
    "linreg = LinearRegression()\n",
    "\n",
    "#Ajustando o modelo ao conjunto de treino\n",
    "linreg.fit(X_train, y_train)\n",
    "\n",
    "#Interpretando os coeficientes do modelo\n",
    "#Visualizando a interseção e os coeficientes \n",
    "print(linreg.intercept_)\n",
    "print(linreg.coef_)\n"
   ]
  },
  {
   "cell_type": "code",
   "execution_count": 484,
   "metadata": {},
   "outputs": [
    {
     "data": {
      "text/plain": [
       "['qtd_pag_word', 'qtd_tabela', 'qtd_image', 'qtd_carc_normal']"
      ]
     },
     "execution_count": 484,
     "metadata": {},
     "output_type": "execute_result"
    }
   ],
   "source": [
    "colunas_X"
   ]
  },
  {
   "cell_type": "code",
   "execution_count": 485,
   "metadata": {},
   "outputs": [
    {
     "data": {
      "text/plain": [
       "Index(['qtd_pag_word', 'qtd_tabela', 'qtd_image', 'qtd_carc_normal'], dtype='object')"
      ]
     },
     "execution_count": 485,
     "metadata": {},
     "output_type": "execute_result"
    }
   ],
   "source": [
    "X_train.columns"
   ]
  },
  {
   "cell_type": "code",
   "execution_count": 486,
   "metadata": {},
   "outputs": [
    {
     "data": {
      "text/plain": [
       "[('qtd_pag_word',\n",
       "  array([ 7.25529599e-01,  2.09592935e-02, -2.47488001e-02,  1.51045108e+02]))]"
      ]
     },
     "execution_count": 486,
     "metadata": {},
     "output_type": "execute_result"
    }
   ],
   "source": [
    "#Atributos e seus coeficientes\n",
    "list(zip(colunas_X, linreg.coef_))"
   ]
  },
  {
   "cell_type": "code",
   "execution_count": 487,
   "metadata": {},
   "outputs": [],
   "source": [
    "#Fazendo predições no conjunto de teste\n",
    "y_pred = linreg.predict(X_test)"
   ]
  },
  {
   "cell_type": "code",
   "execution_count": 488,
   "metadata": {},
   "outputs": [
    {
     "data": {
      "text/plain": [
       "array([[102.05891617],\n",
       "       [ 38.61710933],\n",
       "       [ 48.44971889],\n",
       "       [ 66.31778469],\n",
       "       [ 48.84610396],\n",
       "       [185.66924273],\n",
       "       [ 96.80440284],\n",
       "       [ 65.01297806],\n",
       "       [ 48.40284148],\n",
       "       [ 56.23046453],\n",
       "       [118.9487554 ]])"
      ]
     },
     "execution_count": 488,
     "metadata": {},
     "output_type": "execute_result"
    }
   ],
   "source": [
    "y_pred"
   ]
  },
  {
   "cell_type": "code",
   "execution_count": 489,
   "metadata": {
    "scrolled": true
   },
   "outputs": [
    {
     "data": {
      "text/html": [
       "<div>\n",
       "<style scoped>\n",
       "    .dataframe tbody tr th:only-of-type {\n",
       "        vertical-align: middle;\n",
       "    }\n",
       "\n",
       "    .dataframe tbody tr th {\n",
       "        vertical-align: top;\n",
       "    }\n",
       "\n",
       "    .dataframe thead th {\n",
       "        text-align: right;\n",
       "    }\n",
       "</style>\n",
       "<table border=\"1\" class=\"dataframe\">\n",
       "  <thead>\n",
       "    <tr style=\"text-align: right;\">\n",
       "      <th></th>\n",
       "      <th>pag_final</th>\n",
       "    </tr>\n",
       "  </thead>\n",
       "  <tbody>\n",
       "    <tr>\n",
       "      <th>77</th>\n",
       "      <td>108</td>\n",
       "    </tr>\n",
       "    <tr>\n",
       "      <th>10</th>\n",
       "      <td>40</td>\n",
       "    </tr>\n",
       "    <tr>\n",
       "      <th>4</th>\n",
       "      <td>48</td>\n",
       "    </tr>\n",
       "    <tr>\n",
       "      <th>83</th>\n",
       "      <td>54</td>\n",
       "    </tr>\n",
       "    <tr>\n",
       "      <th>62</th>\n",
       "      <td>46</td>\n",
       "    </tr>\n",
       "    <tr>\n",
       "      <th>67</th>\n",
       "      <td>176</td>\n",
       "    </tr>\n",
       "    <tr>\n",
       "      <th>30</th>\n",
       "      <td>100</td>\n",
       "    </tr>\n",
       "    <tr>\n",
       "      <th>45</th>\n",
       "      <td>76</td>\n",
       "    </tr>\n",
       "    <tr>\n",
       "      <th>95</th>\n",
       "      <td>44</td>\n",
       "    </tr>\n",
       "    <tr>\n",
       "      <th>11</th>\n",
       "      <td>46</td>\n",
       "    </tr>\n",
       "    <tr>\n",
       "      <th>81</th>\n",
       "      <td>84</td>\n",
       "    </tr>\n",
       "  </tbody>\n",
       "</table>\n",
       "</div>"
      ],
      "text/plain": [
       "    pag_final\n",
       "77        108\n",
       "10         40\n",
       "4          48\n",
       "83         54\n",
       "62         46\n",
       "67        176\n",
       "30        100\n",
       "45         76\n",
       "95         44\n",
       "11         46\n",
       "81         84"
      ]
     },
     "execution_count": 489,
     "metadata": {},
     "output_type": "execute_result"
    }
   ],
   "source": [
    "y_test"
   ]
  },
  {
   "cell_type": "markdown",
   "metadata": {},
   "source": [
    "Comparando essas métricas:\n",
    "\n",
    "- MAE é a mais fácil de entender.\n",
    "- MSE é mais popular que MAE, porque MSE \"pune\" erros grandes.\n",
    "- RMSE é ainda mais popular que MSE, porque RMSE é interpretável na mesma unidade de y."
   ]
  },
  {
   "cell_type": "code",
   "execution_count": 438,
   "metadata": {},
   "outputs": [],
   "source": [
    "#RMSE:  12.11799697428631 # primeiro test com columas\n",
    "#colunas_X= ['entidade', 'fornecedor', 'complexidade', 'stat_pagto','qtd_pag_word', 'qtd_carc', 'qtd_tabela','qtd_image']\n",
    "\n",
    "#colunas_X= ['complexidade', 'qtd_pag_word', 'qtd_carc','qtd_tabela','qtd_image']\n",
    "\n",
    "#RMSE:  11.831745496309976\n",
    "# colunas_X= ['complexidade', 'qtd_pag_word', 'qtd_pag_estimado','qtd_carc','qtd_tabela','qtd_image']\n",
    "# RMSE:  8.41739234335301"
   ]
  },
  {
   "cell_type": "code",
   "execution_count": 439,
   "metadata": {},
   "outputs": [
    {
     "name": "stdout",
     "output_type": "stream",
     "text": [
      "RMSE:  9.16223875809479\n"
     ]
    }
   ],
   "source": [
    "#Nós precisamos de uma métrica de avaliação para comparar nossas predições com os valores verdadeiros!\n",
    "\n",
    "# Calculando RMSE utilizando scikit-learn\n",
    "print('RMSE: ',np.sqrt(metrics.mean_squared_error(y_test,y_pred)))\n",
    "\n",
    "# incluido feature Quantidade de estilo, mas o resultado piorou. RMSE foi de 11.83 para 12.43\n",
    "# RMSE:  12.051420343980208\n",
    "# RMSE:  9.782602553564418 => melhorou quando retirou feature complexidade\n",
    "# RMSE:  9.16223875809479 => melhorou quando retirou feature quantidade de estilos\n"
   ]
  },
  {
   "cell_type": "code",
   "execution_count": 63,
   "metadata": {},
   "outputs": [],
   "source": [
    "#Como interpretar esse valor?\n",
    "# numero menor de RMSE é melhor\n",
    "# RMSE:  11.831745496309976\n",
    "# RMSE:  12.43000991830557\n",
    "# RMSE:  14.428565435305106\n"
   ]
  },
  {
   "cell_type": "code",
   "execution_count": null,
   "metadata": {},
   "outputs": [],
   "source": [
    "######## //////////// TESTE COM ARQUIVOS SEM NF"
   ]
  },
  {
   "cell_type": "code",
   "execution_count": 498,
   "metadata": {},
   "outputs": [],
   "source": [
    "#\n",
    "# normalizar a quantidade de caracteres\n",
    "#\n",
    "data_semNF.loc[:,'qtd_carc_normal'] = pd.Series((data.qtd_carc-data.qtd_carc.min())/(data.qtd_carc.max()-data.qtd_carc.min()))"
   ]
  },
  {
   "cell_type": "code",
   "execution_count": 499,
   "metadata": {},
   "outputs": [],
   "source": [
    "colunas_X= ['qtd_pag_word', 'qtd_tabela','qtd_image', 'qtd_carc_normal']\n",
    "X_semNF= data_semNF[colunas_X]"
   ]
  },
  {
   "cell_type": "code",
   "execution_count": 515,
   "metadata": {},
   "outputs": [],
   "source": [
    "#Fazendo predições no conjunto de teste\n",
    "y_pred_semNF = linreg.predict(X_semNF)"
   ]
  },
  {
   "cell_type": "code",
   "execution_count": 516,
   "metadata": {},
   "outputs": [
    {
     "name": "stdout",
     "output_type": "stream",
     "text": [
      "[[ 73.52927794]\n",
      " [ 67.88133584]\n",
      " [ 79.46194002]\n",
      " [ 52.85423647]\n",
      " [ 45.89467906]\n",
      " [ 62.15721016]\n",
      " [ 59.3014501 ]\n",
      " [131.79008785]\n",
      " [106.20717059]\n",
      " [ 83.57541821]\n",
      " [ 54.50319481]\n",
      " [ 65.76592769]\n",
      " [ 75.06901732]\n",
      " [329.74498511]\n",
      " [294.3067359 ]\n",
      " [ 72.2019305 ]\n",
      " [ 59.96958331]]\n"
     ]
    }
   ],
   "source": [
    "print(y_pred_semNF)"
   ]
  },
  {
   "cell_type": "code",
   "execution_count": 504,
   "metadata": {
    "scrolled": true
   },
   "outputs": [
    {
     "name": "stdout",
     "output_type": "stream",
     "text": [
      "0      48\n",
      "1      48\n",
      "2      98\n",
      "3      48\n",
      "4      46\n",
      "5      46\n",
      "6      46\n",
      "7     198\n",
      "8     110\n",
      "9      68\n",
      "10     75\n",
      "11     70\n",
      "12    114\n",
      "13    460\n",
      "14    420\n",
      "15     48\n",
      "16     48\n",
      "Name: qtd_pag_estimado, dtype: int64\n"
     ]
    }
   ],
   "source": [
    "print(data_semNF[\"qtd_pag_estimado\"])"
   ]
  },
  {
   "cell_type": "code",
   "execution_count": 540,
   "metadata": {},
   "outputs": [],
   "source": [
    "#y_pred_semNF = pd.Series(y_pred_semNF,name=[\"qtd_pag_inferido\"])\n",
    "\n",
    "resultado_comparativo =  pd.concat([pd.Series(y_pred_semNF.T[0]), data_semNF[\"qtd_pag_estimado\"]], axis=1)\n"
   ]
  },
  {
   "cell_type": "code",
   "execution_count": 541,
   "metadata": {},
   "outputs": [
    {
     "data": {
      "text/html": [
       "<div>\n",
       "<style scoped>\n",
       "    .dataframe tbody tr th:only-of-type {\n",
       "        vertical-align: middle;\n",
       "    }\n",
       "\n",
       "    .dataframe tbody tr th {\n",
       "        vertical-align: top;\n",
       "    }\n",
       "\n",
       "    .dataframe thead th {\n",
       "        text-align: right;\n",
       "    }\n",
       "</style>\n",
       "<table border=\"1\" class=\"dataframe\">\n",
       "  <thead>\n",
       "    <tr style=\"text-align: right;\">\n",
       "      <th></th>\n",
       "      <th>0</th>\n",
       "      <th>qtd_pag_estimado</th>\n",
       "    </tr>\n",
       "  </thead>\n",
       "  <tbody>\n",
       "    <tr>\n",
       "      <th>0</th>\n",
       "      <td>73.529278</td>\n",
       "      <td>48</td>\n",
       "    </tr>\n",
       "    <tr>\n",
       "      <th>1</th>\n",
       "      <td>67.881336</td>\n",
       "      <td>48</td>\n",
       "    </tr>\n",
       "    <tr>\n",
       "      <th>2</th>\n",
       "      <td>79.461940</td>\n",
       "      <td>98</td>\n",
       "    </tr>\n",
       "    <tr>\n",
       "      <th>3</th>\n",
       "      <td>52.854236</td>\n",
       "      <td>48</td>\n",
       "    </tr>\n",
       "    <tr>\n",
       "      <th>4</th>\n",
       "      <td>45.894679</td>\n",
       "      <td>46</td>\n",
       "    </tr>\n",
       "    <tr>\n",
       "      <th>5</th>\n",
       "      <td>62.157210</td>\n",
       "      <td>46</td>\n",
       "    </tr>\n",
       "    <tr>\n",
       "      <th>6</th>\n",
       "      <td>59.301450</td>\n",
       "      <td>46</td>\n",
       "    </tr>\n",
       "    <tr>\n",
       "      <th>7</th>\n",
       "      <td>131.790088</td>\n",
       "      <td>198</td>\n",
       "    </tr>\n",
       "    <tr>\n",
       "      <th>8</th>\n",
       "      <td>106.207171</td>\n",
       "      <td>110</td>\n",
       "    </tr>\n",
       "    <tr>\n",
       "      <th>9</th>\n",
       "      <td>83.575418</td>\n",
       "      <td>68</td>\n",
       "    </tr>\n",
       "    <tr>\n",
       "      <th>10</th>\n",
       "      <td>54.503195</td>\n",
       "      <td>75</td>\n",
       "    </tr>\n",
       "    <tr>\n",
       "      <th>11</th>\n",
       "      <td>65.765928</td>\n",
       "      <td>70</td>\n",
       "    </tr>\n",
       "    <tr>\n",
       "      <th>12</th>\n",
       "      <td>75.069017</td>\n",
       "      <td>114</td>\n",
       "    </tr>\n",
       "    <tr>\n",
       "      <th>13</th>\n",
       "      <td>329.744985</td>\n",
       "      <td>460</td>\n",
       "    </tr>\n",
       "    <tr>\n",
       "      <th>14</th>\n",
       "      <td>294.306736</td>\n",
       "      <td>420</td>\n",
       "    </tr>\n",
       "    <tr>\n",
       "      <th>15</th>\n",
       "      <td>72.201931</td>\n",
       "      <td>48</td>\n",
       "    </tr>\n",
       "    <tr>\n",
       "      <th>16</th>\n",
       "      <td>59.969583</td>\n",
       "      <td>48</td>\n",
       "    </tr>\n",
       "  </tbody>\n",
       "</table>\n",
       "</div>"
      ],
      "text/plain": [
       "             0  qtd_pag_estimado\n",
       "0    73.529278                48\n",
       "1    67.881336                48\n",
       "2    79.461940                98\n",
       "3    52.854236                48\n",
       "4    45.894679                46\n",
       "5    62.157210                46\n",
       "6    59.301450                46\n",
       "7   131.790088               198\n",
       "8   106.207171               110\n",
       "9    83.575418                68\n",
       "10   54.503195                75\n",
       "11   65.765928                70\n",
       "12   75.069017               114\n",
       "13  329.744985               460\n",
       "14  294.306736               420\n",
       "15   72.201931                48\n",
       "16   59.969583                48"
      ]
     },
     "execution_count": 541,
     "metadata": {},
     "output_type": "execute_result"
    }
   ],
   "source": [
    "resultado_comparativo"
   ]
  },
  {
   "cell_type": "code",
   "execution_count": null,
   "metadata": {},
   "outputs": [],
   "source": [
    "#########################################################\n",
    "# FIM  LINEAR REGRESSION\n",
    "########################################################"
   ]
  },
  {
   "cell_type": "code",
   "execution_count": null,
   "metadata": {},
   "outputs": [],
   "source": []
  },
  {
   "cell_type": "code",
   "execution_count": null,
   "metadata": {},
   "outputs": [],
   "source": []
  },
  {
   "cell_type": "code",
   "execution_count": null,
   "metadata": {},
   "outputs": [],
   "source": [
    "################################################################################################################\n",
    "#########################################################\n",
    "# LOGISTIC REGRESSION\n",
    "########################################################"
   ]
  },
  {
   "cell_type": "code",
   "execution_count": 411,
   "metadata": {},
   "outputs": [],
   "source": [
    "#colunas_X= ['complexidade', 'qtd_pag_word', 'qtd_carc','qtd_tabela','qtd_image',\"qtd_estilos\"]\n",
    "#colunas_X= ['qtd_pag_word', 'qtd_carc','qtd_tabela','qtd_image',\"qtd_estilos\"]\n",
    "colunas_X= ['qtd_pag_word', 'qtd_tabela','qtd_image',\"qtd_estilos\", 'qtd_carc_normal']\n",
    "#colunas_X= ['qtd_pag_word', 'qtd_tabela','qtd_image', 'qtd_carc_normal']\n",
    "\n",
    "\n",
    "colunas_y=['pag_final']\n",
    "X = data[colunas_X]\n",
    "y = data[colunas_y]"
   ]
  },
  {
   "cell_type": "code",
   "execution_count": 412,
   "metadata": {},
   "outputs": [],
   "source": [
    "X_train, X_test, y_train, y_test = train_test_split(X, y,  test_size=0.10,random_state=1)"
   ]
  },
  {
   "cell_type": "code",
   "execution_count": 413,
   "metadata": {},
   "outputs": [
    {
     "name": "stdout",
     "output_type": "stream",
     "text": [
      "[ 46  96  36  98  48  42  44  48  52  46 100]\n",
      "[[3.42803343e-16 2.12908425e-03 6.01756560e-04 1.95175171e-07\n",
      "  2.06784408e-02 1.98830401e-03 6.82398140e-17 2.17098374e-01\n",
      "  6.68106988e-04 3.13945001e-07 1.48775582e-02 4.21974103e-01\n",
      "  2.60600975e-01 5.05021834e-06 2.43289752e-02 1.16838361e-04\n",
      "  7.94006893e-03 3.53583836e-03 1.48513180e-04 1.33600087e-03\n",
      "  2.77174576e-03 2.00828613e-05 1.88171412e-14 2.27113212e-03\n",
      "  3.45713820e-04 4.31813652e-08 5.96389595e-04 1.67500590e-06\n",
      "  6.40768164e-08 1.22478215e-02 8.59994890e-05 6.59629339e-04\n",
      "  4.71111769e-05 1.25422506e-09 5.90308221e-06 1.10426107e-04\n",
      "  8.65577037e-11 3.21623896e-05 2.67516430e-03 1.40315172e-05\n",
      "  1.53998553e-20 8.63924222e-05 1.34278569e-08 1.62201693e-10]\n",
      " [4.45935649e-10 4.65145244e-13 9.59031862e-16 3.47513477e-07\n",
      "  2.65430301e-07 3.62858139e-09 2.43899537e-13 1.82234921e-07\n",
      "  2.67836163e-04 1.68256046e-07 2.86054551e-08 5.40168816e-11\n",
      "  9.26327972e-08 1.57449611e-02 1.83016022e-06 6.89097095e-04\n",
      "  2.28162708e-03 6.81343913e-03 4.43243288e-02 7.59491352e-03\n",
      "  3.89144114e-04 9.89904202e-03 7.80103258e-04 1.67496996e-02\n",
      "  7.51848023e-02 6.91822126e-02 5.30881139e-04 2.00846519e-01\n",
      "  9.51479508e-02 6.86979952e-04 2.90729904e-02 3.27471938e-03\n",
      "  1.00346962e-01 2.08823856e-02 2.95167724e-02 8.03256041e-07\n",
      "  3.02610572e-08 6.84172105e-02 2.15680414e-04 3.68489680e-04\n",
      "  2.14945611e-04 2.37388864e-07 1.43632236e-01 5.69400807e-02]\n",
      " [1.88761100e-04 1.30675071e-05 1.59205053e-06 2.50663623e-04\n",
      "  4.34427159e-04 7.33196530e-05 2.87515242e-01 9.51159337e-03\n",
      "  8.33597199e-04 8.31233712e-05 2.30104649e-02 1.53802323e-03\n",
      "  4.12129835e-03 1.36677383e-02 1.04355508e-02 3.94500719e-03\n",
      "  2.38419907e-02 6.81273382e-03 2.29680096e-02 1.38975876e-02\n",
      "  6.31208499e-03 2.97644579e-04 6.18738990e-02 3.83360182e-02\n",
      "  2.43209734e-02 1.95305522e-02 2.67849336e-02 4.71830859e-03\n",
      "  2.94974493e-02 1.59132622e-02 2.83772053e-03 1.49203396e-03\n",
      "  4.39014008e-02 3.27731295e-02 1.45570430e-02 2.23804819e-03\n",
      "  1.97478144e-01 2.47496363e-03 1.08859848e-02 2.12175108e-03\n",
      "  2.29344754e-02 7.33960843e-03 6.90464374e-03 1.33213562e-03]\n",
      " [3.37444762e-04 1.70797359e-08 1.42960523e-10 9.68877968e-04\n",
      "  3.06304296e-04 8.93992438e-05 1.22790270e-09 1.65936812e-03\n",
      "  3.99492031e-03 4.97404248e-04 4.11832500e-07 1.74759063e-04\n",
      "  2.63635878e-03 8.35077931e-02 8.22197139e-05 1.14910728e-02\n",
      "  2.91644125e-02 1.73213584e-02 6.15185475e-02 3.38726809e-02\n",
      "  1.67125265e-02 4.33256157e-03 1.99202963e-02 2.06944026e-02\n",
      "  5.62599067e-02 1.21609435e-01 1.33475104e-03 2.73091539e-02\n",
      "  1.75543138e-01 2.63955620e-02 1.63297247e-02 4.01738198e-03\n",
      "  8.09240814e-02 6.87402485e-02 6.53874730e-02 2.01426913e-07\n",
      "  1.48797975e-05 1.41978669e-02 1.82277188e-02 3.22967977e-05\n",
      "  3.03942851e-03 7.59011274e-08 9.32176474e-03 2.03177109e-03]\n",
      " [1.70741365e-16 1.51944674e-02 6.85597516e-03 6.45988389e-07\n",
      "  8.94650417e-02 5.56064307e-03 4.16263830e-17 1.59161026e-01\n",
      "  8.87620860e-03 1.50430082e-06 1.26771700e-01 8.27164369e-02\n",
      "  1.62531125e-01 3.20458914e-05 1.28984264e-01 8.47412349e-04\n",
      "  3.46202797e-02 4.11524697e-02 1.32047030e-03 9.76210370e-03\n",
      "  1.24102198e-02 1.21731248e-03 4.23218650e-14 1.94246665e-02\n",
      "  3.76903030e-03 3.40857427e-07 5.25813965e-03 5.61319069e-05\n",
      "  4.27672605e-07 4.16170114e-02 2.17853164e-03 1.72354087e-02\n",
      "  4.01763786e-04 6.88098714e-09 5.03075449e-05 8.07810485e-03\n",
      "  7.95047557e-11 1.20465805e-03 7.92517267e-03 1.08176855e-03\n",
      "  6.03893913e-20 4.23662581e-03 5.36584218e-07 1.43157894e-08]\n",
      " [1.17906801e-01 2.25600567e-07 2.04474831e-09 1.20508449e-01\n",
      "  8.74772756e-03 4.97531655e-02 5.17087293e-17 4.74155678e-03\n",
      "  3.64410499e-02 2.05530398e-01 2.77766251e-11 1.94864232e-02\n",
      "  6.27556922e-02 5.58041300e-02 1.72885339e-06 2.15836499e-02\n",
      "  8.30561996e-03 1.02007347e-02 9.85966497e-03 1.38786703e-02\n",
      "  3.70979203e-02 3.39091784e-02 3.27859800e-04 7.36666386e-04\n",
      "  6.12406139e-03 2.98733991e-02 1.29342977e-05 7.11130108e-03\n",
      "  3.19972489e-02 2.11935050e-02 1.42544065e-02 5.01178980e-03\n",
      "  4.44002060e-03 5.49496178e-03 2.24320910e-02 3.30726637e-11\n",
      "  1.04964929e-09 8.34032484e-03 2.56181985e-02 1.52853614e-07\n",
      "  1.92339846e-05 1.09141319e-12 3.35193021e-04 1.63861968e-04]\n",
      " [5.15028758e-21 2.33617868e-04 2.97396890e-05 1.00613202e-08\n",
      "  1.95217862e-02 1.66405813e-04 1.34432921e-20 3.89043018e-02\n",
      "  6.89375487e-03 2.09823659e-08 2.19777927e-01 1.53509897e-03\n",
      "  2.34045045e-02 2.41972187e-05 1.64169707e-01 5.81725994e-04\n",
      "  7.99423246e-02 1.28179234e-01 3.52632896e-03 2.26910815e-02\n",
      "  1.16243304e-02 1.73534245e-03 4.69018259e-16 9.59737791e-02\n",
      "  1.53359666e-02 1.70859874e-07 1.30950152e-02 1.25132447e-04\n",
      "  2.43660870e-07 6.31963315e-02 5.37734204e-03 4.01025958e-02\n",
      "  1.18757971e-03 1.42673568e-09 5.60194287e-05 1.95670936e-02\n",
      "  1.28360609e-12 3.59037936e-03 6.08968271e-03 3.13614296e-03\n",
      "  4.60764763e-23 1.02244274e-02 6.48409672e-07 7.05374526e-09]\n",
      " [1.60251339e-05 3.14350205e-09 3.98366590e-12 1.51611247e-03\n",
      "  2.81046144e-03 2.37010225e-03 4.95856828e-18 5.45407282e-02\n",
      "  5.81884689e-03 1.06014850e-03 3.04965906e-10 8.84433109e-02\n",
      "  3.75833291e-01 3.14285763e-02 9.16155373e-06 9.60137215e-03\n",
      "  5.17743712e-02 1.41817336e-02 1.82356407e-02 3.06422575e-02\n",
      "  5.88232219e-02 6.52233933e-04 9.19281422e-06 4.37949412e-03\n",
      "  1.39685049e-02 6.79918075e-03 4.73782124e-05 8.54702877e-04\n",
      "  1.16984660e-02 1.12334261e-01 3.16951541e-03 1.11859434e-03\n",
      "  1.09146561e-02 9.48619901e-04 1.31295593e-02 9.04370906e-12\n",
      "  1.14240154e-09 1.18543816e-03 7.16662620e-02 1.81201184e-08\n",
      "  7.69313977e-09 9.21008795e-13 1.78904638e-05 6.56744150e-07]\n",
      " [2.06463537e-06 4.81838330e-11 2.10507582e-14 6.00571360e-04\n",
      "  5.69870583e-04 2.02880078e-04 4.89669094e-20 3.53015339e-03\n",
      "  1.03321303e-02 4.37878087e-04 2.81582419e-11 6.07666202e-04\n",
      "  2.13824105e-02 1.13265028e-01 2.17706067e-06 1.62880905e-02\n",
      "  6.48736967e-02 3.83783049e-02 7.40267863e-02 7.12804010e-02\n",
      "  5.94190829e-02 6.21403921e-03 2.70667995e-05 1.12285279e-02\n",
      "  6.54179386e-02 4.68942731e-02 5.85857437e-05 1.17360827e-02\n",
      "  7.72291937e-02 9.91845971e-02 2.12457232e-02 4.26655618e-03\n",
      "  5.27680225e-02 4.94014817e-03 5.97330560e-02 6.41664536e-12\n",
      "  1.14335255e-10 1.18965543e-02 5.16467941e-02 6.68234955e-08\n",
      "  4.68915322e-08 3.75836991e-13 2.96432135e-04 1.71018326e-05]\n",
      " [8.68964209e-07 2.88811383e-06 7.02085480e-08 2.40414729e-04\n",
      "  4.21431882e-03 3.90480627e-03 1.29607733e-13 9.36618884e-02\n",
      "  9.53963292e-04 1.92612359e-04 4.89557561e-07 5.18095565e-01\n",
      "  3.21897514e-01 8.41546966e-04 1.45914049e-04 1.06597527e-03\n",
      "  8.32531615e-03 1.89632252e-03 1.04901576e-03 2.91596349e-03\n",
      "  7.93258670e-03 4.49528892e-05 2.45208312e-07 9.80535030e-04\n",
      "  9.49379191e-04 9.76058975e-05 7.71606201e-05 3.17599907e-05\n",
      "  1.52887532e-04 1.74577091e-02 2.13985356e-04 2.23865540e-04\n",
      "  5.82973038e-04 1.94652667e-05 4.41392678e-04 5.98082361e-09\n",
      "  4.13029790e-08 7.64202315e-05 1.13101911e-02 1.47939463e-07\n",
      "  1.69632125e-10 2.16676899e-09 1.18259525e-06 5.03002665e-08]\n",
      " [9.79600320e-07 1.85612143e-05 6.85340351e-07 1.80302614e-03\n",
      "  2.34400413e-02 1.11646823e-02 1.02853886e-13 3.48193700e-02\n",
      "  4.43071244e-02 2.33379988e-03 5.33145782e-06 1.98462648e-02\n",
      "  9.38702798e-02 2.12883980e-02 1.06372002e-03 2.36750201e-02\n",
      "  7.33968581e-02 7.53967010e-02 3.66457601e-02 6.31960017e-02\n",
      "  7.25001145e-02 2.63022506e-02 3.39163146e-06 2.59065075e-02\n",
      "  4.31798282e-02 4.66323683e-03 1.88298010e-03 1.01992014e-02\n",
      "  5.69778270e-03 1.00670446e-01 3.42101761e-02 3.00104930e-02\n",
      "  2.09948261e-02 6.24488870e-04 1.72067295e-02 2.17966721e-06\n",
      "  5.47897210e-08 2.33596076e-02 5.55117548e-02 9.38771349e-05\n",
      "  1.03923806e-08 4.10874786e-07 6.08684116e-04 9.83619309e-05]]\n",
      "0.25773195876288657\n"
     ]
    },
    {
     "name": "stderr",
     "output_type": "stream",
     "text": [
      "/Users/wpessoa/miniconda3/envs/py3/lib/python3.8/site-packages/sklearn/utils/validation.py:72: DataConversionWarning: A column-vector y was passed when a 1d array was expected. Please change the shape of y to (n_samples, ), for example using ravel().\n",
      "  return f(**kwargs)\n",
      "/Users/wpessoa/miniconda3/envs/py3/lib/python3.8/site-packages/sklearn/linear_model/_logistic.py:762: ConvergenceWarning: lbfgs failed to converge (status=1):\n",
      "STOP: TOTAL NO. of ITERATIONS REACHED LIMIT.\n",
      "\n",
      "Increase the number of iterations (max_iter) or scale the data as shown in:\n",
      "    https://scikit-learn.org/stable/modules/preprocessing.html\n",
      "Please also refer to the documentation for alternative solver options:\n",
      "    https://scikit-learn.org/stable/modules/linear_model.html#logistic-regression\n",
      "  n_iter_i = _check_optimize_result(\n"
     ]
    }
   ],
   "source": [
    "from sklearn.datasets import load_iris\n",
    "from sklearn.linear_model import LogisticRegression\n",
    "##### machine learnig\n",
    "#X, y = load_iris(return_X_y=True)\n",
    "clf = LogisticRegression(random_state=0).fit(X_train, y_train)\n",
    "print(clf.predict(X_test.fillna(-1)))\n",
    "print(clf.predict_proba(X_test.fillna(-1)))\n",
    "print(clf.score(X_train, y_train))\n"
   ]
  },
  {
   "cell_type": "code",
   "execution_count": 414,
   "metadata": {},
   "outputs": [
    {
     "name": "stdout",
     "output_type": "stream",
     "text": [
      "[ 46  96  36  98  48  42  44  48  52  46 100]\n",
      "     pag_final\n",
      "100         30\n",
      "90          82\n",
      "92          40\n",
      "89          66\n",
      "101         42\n",
      "55          34\n",
      "88          78\n",
      "54          68\n",
      "48          92\n",
      "66          24\n",
      "58          52\n"
     ]
    },
    {
     "name": "stderr",
     "output_type": "stream",
     "text": [
      "/Users/wpessoa/miniconda3/envs/py3/lib/python3.8/site-packages/sklearn/utils/validation.py:72: DataConversionWarning: A column-vector y was passed when a 1d array was expected. Please change the shape of y to (n_samples, ), for example using ravel().\n",
      "  return f(**kwargs)\n",
      "/Users/wpessoa/miniconda3/envs/py3/lib/python3.8/site-packages/sklearn/linear_model/_logistic.py:762: ConvergenceWarning: lbfgs failed to converge (status=1):\n",
      "STOP: TOTAL NO. of ITERATIONS REACHED LIMIT.\n",
      "\n",
      "Increase the number of iterations (max_iter) or scale the data as shown in:\n",
      "    https://scikit-learn.org/stable/modules/preprocessing.html\n",
      "Please also refer to the documentation for alternative solver options:\n",
      "    https://scikit-learn.org/stable/modules/linear_model.html#logistic-regression\n",
      "  n_iter_i = _check_optimize_result(\n"
     ]
    }
   ],
   "source": [
    "modelo = LogisticRegression()\n",
    "modelo.fit(X_train, y_train)\n",
    "\n",
    "y_pred = modelo.predict(X_test.fillna(-1))\n",
    "print(y_pred)\n",
    "print(y_test)"
   ]
  },
  {
   "cell_type": "code",
   "execution_count": 415,
   "metadata": {},
   "outputs": [
    {
     "name": "stdout",
     "output_type": "stream",
     "text": [
      "RMSE:  26.17424132789543\n"
     ]
    }
   ],
   "source": [
    "# Calculando RMSE utilizando scikit-learn\n",
    "print('RMSE: ',np.sqrt(metrics.mean_squared_error(y_test,y_pred)))\n",
    "# RMSE:  26.17424132789543\n",
    "# quantidade de estilo é muito relevante nesse modelo, sem essa feature RMSE:  106.26211160915429\n"
   ]
  },
  {
   "cell_type": "code",
   "execution_count": null,
   "metadata": {},
   "outputs": [],
   "source": [
    "#########################################################\n",
    "# FIM  LOGISTIC REGRESSION\n",
    "########################################################"
   ]
  },
  {
   "cell_type": "code",
   "execution_count": null,
   "metadata": {},
   "outputs": [],
   "source": [
    "#\n",
    "# \n",
    "################################################################################################################"
   ]
  },
  {
   "cell_type": "code",
   "execution_count": 205,
   "metadata": {},
   "outputs": [
    {
     "name": "stdout",
     "output_type": "stream",
     "text": [
      "dados verdadeiros:  [100, 50, 30, 30]\n",
      "dados inferidos: [90, 50, 50, 30]\n",
      "erro médio absoluto:  7.5\n",
      "erro médio absoluto:  7.5\n",
      "MSE:  125.0\n",
      "MSE:  125.0\n",
      "RMSE:  11.180339887498949\n",
      "RMSE:  11.180339887498949\n"
     ]
    }
   ],
   "source": [
    "# codigos consultados de \n",
    "# https://github.com/WalnerPessoa/Medical-Cost-Personal/blob/master/Aula%205%20-%20Regress%C3%A3o%20linear%20para%20prever%20as%20despesas%20m%C3%A9dicas%20de%20um%20paciente%20.ipynb\n",
    "\n",
    "\n",
    "# calculando a media de um exemplo\n",
    "# Definindo os valores de resposta verdadeiros e preditos\n",
    "true = [100,50,30,30]\n",
    "pred = [90,50,50,30]\n",
    "print(\"dados verdadeiros: \",true)\n",
    "print(\"dados inferidos:\", pred)\n",
    "# Calculando erro médio absoluto na mão\n",
    "print('erro médio absoluto: ',(10+0+20+0)/4)\n",
    "# Calculando erro médio absoluto utilizando scikit-learn\n",
    "from sklearn import metrics\n",
    "print('erro médio absoluto: ',metrics.mean_absolute_error(true,pred)) \n",
    "\n",
    "#Calculando MSE na mão\n",
    "print('MSE: ',(10**2+0+20**2+0)/4)\n",
    "# Calculando MSE utilizando scikit-learn\n",
    "print('MSE: ',metrics.mean_squared_error(true,pred))\n",
    "\n",
    "# Calculando RMSE na mão\n",
    "print('RMSE: ',np.sqrt((10**2+0+20**2+0)/4))\n",
    "# Calculando RMSE utilizando scikit-learn\n",
    "print('RMSE: ',np.sqrt(metrics.mean_squared_error(true,pred)))"
   ]
  }
 ],
 "metadata": {
  "kernelspec": {
   "display_name": "Python 3",
   "language": "python",
   "name": "python3"
  },
  "language_info": {
   "codemirror_mode": {
    "name": "ipython",
    "version": 3
   },
   "file_extension": ".py",
   "mimetype": "text/x-python",
   "name": "python",
   "nbconvert_exporter": "python",
   "pygments_lexer": "ipython3",
   "version": "3.8.5"
  }
 },
 "nbformat": 4,
 "nbformat_minor": 4
}
