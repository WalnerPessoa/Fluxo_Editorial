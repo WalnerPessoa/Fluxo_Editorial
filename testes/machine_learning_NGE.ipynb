{
 "cells": [
  {
   "cell_type": "code",
   "execution_count": 174,
   "metadata": {},
   "outputs": [],
   "source": [
    "import pandas as pd\n",
    "import numpy as np\n",
    "from sklearn.model_selection import RepeatedKFold\n",
    "from sklearn.model_selection import train_test_split\n",
    "\n",
    "#Importando o modelo machine learnig\n",
    "from sklearn.linear_model import LinearRegression\n",
    "from sklearn.ensemble import RandomForestClassifier\n",
    "from sklearn import metrics\n"
   ]
  },
  {
   "cell_type": "code",
   "execution_count": 175,
   "metadata": {},
   "outputs": [],
   "source": [
    "# importar csv\n",
    "data = pd.read_csv(\"nge_dados_input.csv\")\n"
   ]
  },
  {
   "cell_type": "code",
   "execution_count": 176,
   "metadata": {
    "scrolled": true
   },
   "outputs": [
    {
     "data": {
      "text/html": [
       "<div>\n",
       "<style scoped>\n",
       "    .dataframe tbody tr th:only-of-type {\n",
       "        vertical-align: middle;\n",
       "    }\n",
       "\n",
       "    .dataframe tbody tr th {\n",
       "        vertical-align: top;\n",
       "    }\n",
       "\n",
       "    .dataframe thead th {\n",
       "        text-align: right;\n",
       "    }\n",
       "</style>\n",
       "<table border=\"1\" class=\"dataframe\">\n",
       "  <thead>\n",
       "    <tr style=\"text-align: right;\">\n",
       "      <th></th>\n",
       "      <th>id</th>\n",
       "      <th>entidade</th>\n",
       "      <th>fornecedor</th>\n",
       "      <th>complexidade</th>\n",
       "      <th>stat_pagto</th>\n",
       "      <th>qtd_pag_word</th>\n",
       "      <th>qtd_pag_estimado</th>\n",
       "      <th>qtd_carc</th>\n",
       "      <th>qtd_tabela</th>\n",
       "      <th>qtd_image</th>\n",
       "      <th>qtd_estilos</th>\n",
       "      <th>pag_final</th>\n",
       "    </tr>\n",
       "  </thead>\n",
       "  <tbody>\n",
       "    <tr>\n",
       "      <th>0</th>\n",
       "      <td>224323</td>\n",
       "      <td>0</td>\n",
       "      <td>0</td>\n",
       "      <td>1</td>\n",
       "      <td>0</td>\n",
       "      <td>87</td>\n",
       "      <td>140.0</td>\n",
       "      <td>116142</td>\n",
       "      <td>470</td>\n",
       "      <td>685</td>\n",
       "      <td>60.0</td>\n",
       "      <td>140</td>\n",
       "    </tr>\n",
       "    <tr>\n",
       "      <th>1</th>\n",
       "      <td>224325</td>\n",
       "      <td>0</td>\n",
       "      <td>0</td>\n",
       "      <td>1</td>\n",
       "      <td>0</td>\n",
       "      <td>82</td>\n",
       "      <td>122.0</td>\n",
       "      <td>108307</td>\n",
       "      <td>76</td>\n",
       "      <td>94</td>\n",
       "      <td>69.0</td>\n",
       "      <td>122</td>\n",
       "    </tr>\n",
       "    <tr>\n",
       "      <th>2</th>\n",
       "      <td>225392</td>\n",
       "      <td>0</td>\n",
       "      <td>0</td>\n",
       "      <td>3</td>\n",
       "      <td>0</td>\n",
       "      <td>41</td>\n",
       "      <td>70.0</td>\n",
       "      <td>41144</td>\n",
       "      <td>28</td>\n",
       "      <td>24</td>\n",
       "      <td>23.0</td>\n",
       "      <td>52</td>\n",
       "    </tr>\n",
       "    <tr>\n",
       "      <th>3</th>\n",
       "      <td>225392</td>\n",
       "      <td>0</td>\n",
       "      <td>0</td>\n",
       "      <td>3</td>\n",
       "      <td>0</td>\n",
       "      <td>41</td>\n",
       "      <td>70.0</td>\n",
       "      <td>62913</td>\n",
       "      <td>397</td>\n",
       "      <td>639</td>\n",
       "      <td>21.0</td>\n",
       "      <td>52</td>\n",
       "    </tr>\n",
       "    <tr>\n",
       "      <th>4</th>\n",
       "      <td>225531</td>\n",
       "      <td>0</td>\n",
       "      <td>0</td>\n",
       "      <td>2</td>\n",
       "      <td>0</td>\n",
       "      <td>36</td>\n",
       "      <td>48.0</td>\n",
       "      <td>37548</td>\n",
       "      <td>233</td>\n",
       "      <td>397</td>\n",
       "      <td>17.0</td>\n",
       "      <td>48</td>\n",
       "    </tr>\n",
       "  </tbody>\n",
       "</table>\n",
       "</div>"
      ],
      "text/plain": [
       "       id  entidade  fornecedor  complexidade  stat_pagto  qtd_pag_word  \\\n",
       "0  224323         0           0             1           0            87   \n",
       "1  224325         0           0             1           0            82   \n",
       "2  225392         0           0             3           0            41   \n",
       "3  225392         0           0             3           0            41   \n",
       "4  225531         0           0             2           0            36   \n",
       "\n",
       "   qtd_pag_estimado  qtd_carc  qtd_tabela  qtd_image  qtd_estilos  pag_final  \n",
       "0             140.0    116142         470        685         60.0        140  \n",
       "1             122.0    108307          76         94         69.0        122  \n",
       "2              70.0     41144          28         24         23.0         52  \n",
       "3              70.0     62913         397        639         21.0         52  \n",
       "4              48.0     37548         233        397         17.0         48  "
      ]
     },
     "execution_count": 176,
     "metadata": {},
     "output_type": "execute_result"
    }
   ],
   "source": [
    "data.head()"
   ]
  },
  {
   "cell_type": "code",
   "execution_count": null,
   "metadata": {},
   "outputs": [],
   "source": []
  },
  {
   "cell_type": "code",
   "execution_count": 177,
   "metadata": {},
   "outputs": [],
   "source": [
    "#\n",
    "# normalizar a quantidade de caracteres\n",
    "#\n",
    "#data.loc[:,'qtd_carc_normal'] = pd.Series((data.qtd_carc-data.qtd_carc.min())/(data.qtd_carc.max()-data.qtd_carc.min()))"
   ]
  },
  {
   "cell_type": "code",
   "execution_count": 178,
   "metadata": {},
   "outputs": [],
   "source": [
    "#\n",
    "# normalizar a quantidade de caracteres\n",
    "#\n",
    "\n",
    "# X[\"qtd_carc_normal\"]=(X.qtd_carc-X.qtd_carc.min())/(X.qtd_carc.max()-X.qtd_carc.min())"
   ]
  },
  {
   "cell_type": "code",
   "execution_count": 179,
   "metadata": {},
   "outputs": [
    {
     "data": {
      "text/plain": [
       "id                    int64\n",
       "entidade              int64\n",
       "fornecedor            int64\n",
       "complexidade          int64\n",
       "stat_pagto            int64\n",
       "qtd_pag_word          int64\n",
       "qtd_pag_estimado    float64\n",
       "qtd_carc              int64\n",
       "qtd_tabela            int64\n",
       "qtd_image             int64\n",
       "qtd_estilos         float64\n",
       "pag_final             int64\n",
       "qtd_carc_normal     float64\n",
       "dtype: object"
      ]
     },
     "execution_count": 179,
     "metadata": {},
     "output_type": "execute_result"
    }
   ],
   "source": [
    "data.dtypes\n",
    "# baixa complexidade ==> 48 páginas \n",
    "# media complexidade ==> 49/64 páginas\n",
    "# alta complexidade  ==> 65 acima"
   ]
  },
  {
   "cell_type": "code",
   "execution_count": 180,
   "metadata": {},
   "outputs": [
    {
     "data": {
      "text/plain": [
       "Index(['id', 'entidade', 'fornecedor', 'complexidade', 'stat_pagto',\n",
       "       'qtd_pag_word', 'qtd_pag_estimado', 'qtd_carc', 'qtd_tabela',\n",
       "       'qtd_image', 'qtd_estilos', 'pag_final', 'qtd_carc_normal'],\n",
       "      dtype='object')"
      ]
     },
     "execution_count": 180,
     "metadata": {},
     "output_type": "execute_result"
    }
   ],
   "source": [
    "data.columns"
   ]
  },
  {
   "cell_type": "code",
   "execution_count": 181,
   "metadata": {},
   "outputs": [],
   "source": [
    "# prepara dados de entrada X e dados de saida Y\n",
    "#colunas_X= ['entidade', 'fornecedor', 'complexidade', 'stat_pagto','qtd_pag_word', 'qtd_carc', 'qtd_tabela','qtd_image']\n",
    "\n",
    "#colunas_X= ['complexidade', 'qtd_pag_word', 'qtd_carc','qtd_tabela','qtd_image']\n",
    "colunas_X= ['complexidade', 'qtd_pag_word', 'qtd_carc','qtd_tabela','qtd_image',\"qtd_estilos\"]\n",
    "\n",
    "#colunas_X= ['complexidade', 'qtd_pag_word', 'qtd_pag_estimado','qtd_carc','qtd_tabela','qtd_image']\n",
    "\n",
    "colunas_y=['pag_final']\n",
    "#colunas_y=['id',  'pag_final']\n",
    "\n",
    "X = data[colunas_X]\n",
    "y = data[colunas_y]"
   ]
  },
  {
   "cell_type": "code",
   "execution_count": 182,
   "metadata": {},
   "outputs": [
    {
     "data": {
      "text/html": [
       "<div>\n",
       "<style scoped>\n",
       "    .dataframe tbody tr th:only-of-type {\n",
       "        vertical-align: middle;\n",
       "    }\n",
       "\n",
       "    .dataframe tbody tr th {\n",
       "        vertical-align: top;\n",
       "    }\n",
       "\n",
       "    .dataframe thead th {\n",
       "        text-align: right;\n",
       "    }\n",
       "</style>\n",
       "<table border=\"1\" class=\"dataframe\">\n",
       "  <thead>\n",
       "    <tr style=\"text-align: right;\">\n",
       "      <th></th>\n",
       "      <th>complexidade</th>\n",
       "      <th>qtd_pag_word</th>\n",
       "      <th>qtd_carc</th>\n",
       "      <th>qtd_tabela</th>\n",
       "      <th>qtd_image</th>\n",
       "      <th>qtd_estilos</th>\n",
       "    </tr>\n",
       "  </thead>\n",
       "  <tbody>\n",
       "    <tr>\n",
       "      <th>88</th>\n",
       "      <td>2</td>\n",
       "      <td>24</td>\n",
       "      <td>31123</td>\n",
       "      <td>21</td>\n",
       "      <td>17</td>\n",
       "      <td>23.0</td>\n",
       "    </tr>\n",
       "    <tr>\n",
       "      <th>89</th>\n",
       "      <td>2</td>\n",
       "      <td>24</td>\n",
       "      <td>31123</td>\n",
       "      <td>7</td>\n",
       "      <td>8</td>\n",
       "      <td>23.0</td>\n",
       "    </tr>\n",
       "    <tr>\n",
       "      <th>90</th>\n",
       "      <td>1</td>\n",
       "      <td>59</td>\n",
       "      <td>122719</td>\n",
       "      <td>363</td>\n",
       "      <td>323</td>\n",
       "      <td>23.0</td>\n",
       "    </tr>\n",
       "    <tr>\n",
       "      <th>91</th>\n",
       "      <td>1</td>\n",
       "      <td>48</td>\n",
       "      <td>81475</td>\n",
       "      <td>115</td>\n",
       "      <td>205</td>\n",
       "      <td>23.0</td>\n",
       "    </tr>\n",
       "    <tr>\n",
       "      <th>92</th>\n",
       "      <td>1</td>\n",
       "      <td>100</td>\n",
       "      <td>74242</td>\n",
       "      <td>132</td>\n",
       "      <td>224</td>\n",
       "      <td>16.0</td>\n",
       "    </tr>\n",
       "  </tbody>\n",
       "</table>\n",
       "</div>"
      ],
      "text/plain": [
       "    complexidade  qtd_pag_word  qtd_carc  qtd_tabela  qtd_image  qtd_estilos\n",
       "88             2            24     31123          21         17         23.0\n",
       "89             2            24     31123           7          8         23.0\n",
       "90             1            59    122719         363        323         23.0\n",
       "91             1            48     81475         115        205         23.0\n",
       "92             1           100     74242         132        224         16.0"
      ]
     },
     "execution_count": 182,
     "metadata": {},
     "output_type": "execute_result"
    }
   ],
   "source": [
    "X.tail()"
   ]
  },
  {
   "cell_type": "code",
   "execution_count": 183,
   "metadata": {
    "scrolled": true
   },
   "outputs": [
    {
     "data": {
      "text/html": [
       "<div>\n",
       "<style scoped>\n",
       "    .dataframe tbody tr th:only-of-type {\n",
       "        vertical-align: middle;\n",
       "    }\n",
       "\n",
       "    .dataframe tbody tr th {\n",
       "        vertical-align: top;\n",
       "    }\n",
       "\n",
       "    .dataframe thead th {\n",
       "        text-align: right;\n",
       "    }\n",
       "</style>\n",
       "<table border=\"1\" class=\"dataframe\">\n",
       "  <thead>\n",
       "    <tr style=\"text-align: right;\">\n",
       "      <th></th>\n",
       "      <th>id</th>\n",
       "      <th>entidade</th>\n",
       "      <th>fornecedor</th>\n",
       "      <th>complexidade</th>\n",
       "      <th>stat_pagto</th>\n",
       "      <th>qtd_pag_word</th>\n",
       "      <th>qtd_pag_estimado</th>\n",
       "      <th>qtd_carc</th>\n",
       "      <th>qtd_tabela</th>\n",
       "      <th>qtd_image</th>\n",
       "      <th>qtd_estilos</th>\n",
       "      <th>pag_final</th>\n",
       "      <th>qtd_carc_normal</th>\n",
       "    </tr>\n",
       "  </thead>\n",
       "  <tbody>\n",
       "    <tr>\n",
       "      <th>0</th>\n",
       "      <td>224323</td>\n",
       "      <td>0</td>\n",
       "      <td>0</td>\n",
       "      <td>1</td>\n",
       "      <td>0</td>\n",
       "      <td>87</td>\n",
       "      <td>140.0</td>\n",
       "      <td>116142</td>\n",
       "      <td>470</td>\n",
       "      <td>685</td>\n",
       "      <td>60.0</td>\n",
       "      <td>140</td>\n",
       "      <td>0.202882</td>\n",
       "    </tr>\n",
       "    <tr>\n",
       "      <th>1</th>\n",
       "      <td>224325</td>\n",
       "      <td>0</td>\n",
       "      <td>0</td>\n",
       "      <td>1</td>\n",
       "      <td>0</td>\n",
       "      <td>82</td>\n",
       "      <td>122.0</td>\n",
       "      <td>108307</td>\n",
       "      <td>76</td>\n",
       "      <td>94</td>\n",
       "      <td>69.0</td>\n",
       "      <td>122</td>\n",
       "      <td>0.189171</td>\n",
       "    </tr>\n",
       "    <tr>\n",
       "      <th>2</th>\n",
       "      <td>225392</td>\n",
       "      <td>0</td>\n",
       "      <td>0</td>\n",
       "      <td>3</td>\n",
       "      <td>0</td>\n",
       "      <td>41</td>\n",
       "      <td>70.0</td>\n",
       "      <td>41144</td>\n",
       "      <td>28</td>\n",
       "      <td>24</td>\n",
       "      <td>23.0</td>\n",
       "      <td>52</td>\n",
       "      <td>0.071636</td>\n",
       "    </tr>\n",
       "    <tr>\n",
       "      <th>3</th>\n",
       "      <td>225392</td>\n",
       "      <td>0</td>\n",
       "      <td>0</td>\n",
       "      <td>3</td>\n",
       "      <td>0</td>\n",
       "      <td>41</td>\n",
       "      <td>70.0</td>\n",
       "      <td>62913</td>\n",
       "      <td>397</td>\n",
       "      <td>639</td>\n",
       "      <td>21.0</td>\n",
       "      <td>52</td>\n",
       "      <td>0.109732</td>\n",
       "    </tr>\n",
       "    <tr>\n",
       "      <th>4</th>\n",
       "      <td>225531</td>\n",
       "      <td>0</td>\n",
       "      <td>0</td>\n",
       "      <td>2</td>\n",
       "      <td>0</td>\n",
       "      <td>36</td>\n",
       "      <td>48.0</td>\n",
       "      <td>37548</td>\n",
       "      <td>233</td>\n",
       "      <td>397</td>\n",
       "      <td>17.0</td>\n",
       "      <td>48</td>\n",
       "      <td>0.065343</td>\n",
       "    </tr>\n",
       "    <tr>\n",
       "      <th>...</th>\n",
       "      <td>...</td>\n",
       "      <td>...</td>\n",
       "      <td>...</td>\n",
       "      <td>...</td>\n",
       "      <td>...</td>\n",
       "      <td>...</td>\n",
       "      <td>...</td>\n",
       "      <td>...</td>\n",
       "      <td>...</td>\n",
       "      <td>...</td>\n",
       "      <td>...</td>\n",
       "      <td>...</td>\n",
       "      <td>...</td>\n",
       "    </tr>\n",
       "    <tr>\n",
       "      <th>88</th>\n",
       "      <td>235502</td>\n",
       "      <td>0</td>\n",
       "      <td>0</td>\n",
       "      <td>2</td>\n",
       "      <td>0</td>\n",
       "      <td>24</td>\n",
       "      <td>48.0</td>\n",
       "      <td>31123</td>\n",
       "      <td>21</td>\n",
       "      <td>17</td>\n",
       "      <td>23.0</td>\n",
       "      <td>36</td>\n",
       "      <td>0.054099</td>\n",
       "    </tr>\n",
       "    <tr>\n",
       "      <th>89</th>\n",
       "      <td>235502</td>\n",
       "      <td>0</td>\n",
       "      <td>0</td>\n",
       "      <td>2</td>\n",
       "      <td>0</td>\n",
       "      <td>24</td>\n",
       "      <td>48.0</td>\n",
       "      <td>31123</td>\n",
       "      <td>7</td>\n",
       "      <td>8</td>\n",
       "      <td>23.0</td>\n",
       "      <td>36</td>\n",
       "      <td>0.054099</td>\n",
       "    </tr>\n",
       "    <tr>\n",
       "      <th>90</th>\n",
       "      <td>235519</td>\n",
       "      <td>0</td>\n",
       "      <td>0</td>\n",
       "      <td>1</td>\n",
       "      <td>0</td>\n",
       "      <td>59</td>\n",
       "      <td>90.0</td>\n",
       "      <td>122719</td>\n",
       "      <td>363</td>\n",
       "      <td>323</td>\n",
       "      <td>23.0</td>\n",
       "      <td>78</td>\n",
       "      <td>0.214392</td>\n",
       "    </tr>\n",
       "    <tr>\n",
       "      <th>91</th>\n",
       "      <td>235512</td>\n",
       "      <td>0</td>\n",
       "      <td>0</td>\n",
       "      <td>1</td>\n",
       "      <td>0</td>\n",
       "      <td>48</td>\n",
       "      <td>75.0</td>\n",
       "      <td>81475</td>\n",
       "      <td>115</td>\n",
       "      <td>205</td>\n",
       "      <td>23.0</td>\n",
       "      <td>66</td>\n",
       "      <td>0.142215</td>\n",
       "    </tr>\n",
       "    <tr>\n",
       "      <th>92</th>\n",
       "      <td>233900</td>\n",
       "      <td>2</td>\n",
       "      <td>1</td>\n",
       "      <td>1</td>\n",
       "      <td>0</td>\n",
       "      <td>100</td>\n",
       "      <td>120.0</td>\n",
       "      <td>74242</td>\n",
       "      <td>132</td>\n",
       "      <td>224</td>\n",
       "      <td>16.0</td>\n",
       "      <td>82</td>\n",
       "      <td>0.129557</td>\n",
       "    </tr>\n",
       "  </tbody>\n",
       "</table>\n",
       "<p>93 rows × 13 columns</p>\n",
       "</div>"
      ],
      "text/plain": [
       "        id  entidade  fornecedor  complexidade  stat_pagto  qtd_pag_word  \\\n",
       "0   224323         0           0             1           0            87   \n",
       "1   224325         0           0             1           0            82   \n",
       "2   225392         0           0             3           0            41   \n",
       "3   225392         0           0             3           0            41   \n",
       "4   225531         0           0             2           0            36   \n",
       "..     ...       ...         ...           ...         ...           ...   \n",
       "88  235502         0           0             2           0            24   \n",
       "89  235502         0           0             2           0            24   \n",
       "90  235519         0           0             1           0            59   \n",
       "91  235512         0           0             1           0            48   \n",
       "92  233900         2           1             1           0           100   \n",
       "\n",
       "    qtd_pag_estimado  qtd_carc  qtd_tabela  qtd_image  qtd_estilos  pag_final  \\\n",
       "0              140.0    116142         470        685         60.0        140   \n",
       "1              122.0    108307          76         94         69.0        122   \n",
       "2               70.0     41144          28         24         23.0         52   \n",
       "3               70.0     62913         397        639         21.0         52   \n",
       "4               48.0     37548         233        397         17.0         48   \n",
       "..               ...       ...         ...        ...          ...        ...   \n",
       "88              48.0     31123          21         17         23.0         36   \n",
       "89              48.0     31123           7          8         23.0         36   \n",
       "90              90.0    122719         363        323         23.0         78   \n",
       "91              75.0     81475         115        205         23.0         66   \n",
       "92             120.0     74242         132        224         16.0         82   \n",
       "\n",
       "    qtd_carc_normal  \n",
       "0          0.202882  \n",
       "1          0.189171  \n",
       "2          0.071636  \n",
       "3          0.109732  \n",
       "4          0.065343  \n",
       "..              ...  \n",
       "88         0.054099  \n",
       "89         0.054099  \n",
       "90         0.214392  \n",
       "91         0.142215  \n",
       "92         0.129557  \n",
       "\n",
       "[93 rows x 13 columns]"
      ]
     },
     "execution_count": 183,
     "metadata": {},
     "output_type": "execute_result"
    }
   ],
   "source": [
    "data"
   ]
  },
  {
   "cell_type": "code",
   "execution_count": 184,
   "metadata": {},
   "outputs": [
    {
     "data": {
      "text/html": [
       "<div>\n",
       "<style scoped>\n",
       "    .dataframe tbody tr th:only-of-type {\n",
       "        vertical-align: middle;\n",
       "    }\n",
       "\n",
       "    .dataframe tbody tr th {\n",
       "        vertical-align: top;\n",
       "    }\n",
       "\n",
       "    .dataframe thead th {\n",
       "        text-align: right;\n",
       "    }\n",
       "</style>\n",
       "<table border=\"1\" class=\"dataframe\">\n",
       "  <thead>\n",
       "    <tr style=\"text-align: right;\">\n",
       "      <th></th>\n",
       "      <th>id</th>\n",
       "      <th>entidade</th>\n",
       "      <th>fornecedor</th>\n",
       "      <th>complexidade</th>\n",
       "      <th>stat_pagto</th>\n",
       "      <th>qtd_pag_word</th>\n",
       "      <th>qtd_pag_estimado</th>\n",
       "      <th>qtd_carc</th>\n",
       "      <th>qtd_tabela</th>\n",
       "      <th>qtd_image</th>\n",
       "      <th>qtd_estilos</th>\n",
       "      <th>pag_final</th>\n",
       "      <th>qtd_carc_normal</th>\n",
       "    </tr>\n",
       "  </thead>\n",
       "  <tbody>\n",
       "    <tr>\n",
       "      <th>count</th>\n",
       "      <td>93.000000</td>\n",
       "      <td>93.000000</td>\n",
       "      <td>93.000000</td>\n",
       "      <td>93.000000</td>\n",
       "      <td>93.0</td>\n",
       "      <td>93.000000</td>\n",
       "      <td>93.000000</td>\n",
       "      <td>93.000000</td>\n",
       "      <td>93.000000</td>\n",
       "      <td>93.000000</td>\n",
       "      <td>93.00000</td>\n",
       "      <td>93.000000</td>\n",
       "      <td>93.000000</td>\n",
       "    </tr>\n",
       "    <tr>\n",
       "      <th>mean</th>\n",
       "      <td>229600.838710</td>\n",
       "      <td>0.258065</td>\n",
       "      <td>0.010753</td>\n",
       "      <td>1.365591</td>\n",
       "      <td>0.0</td>\n",
       "      <td>64.290323</td>\n",
       "      <td>97.903226</td>\n",
       "      <td>83783.344086</td>\n",
       "      <td>236.956989</td>\n",
       "      <td>324.053763</td>\n",
       "      <td>26.16129</td>\n",
       "      <td>82.569892</td>\n",
       "      <td>0.146254</td>\n",
       "    </tr>\n",
       "    <tr>\n",
       "      <th>std</th>\n",
       "      <td>24216.403563</td>\n",
       "      <td>0.587982</td>\n",
       "      <td>0.103695</td>\n",
       "      <td>0.604061</td>\n",
       "      <td>0.0</td>\n",
       "      <td>65.248119</td>\n",
       "      <td>72.444291</td>\n",
       "      <td>91171.351973</td>\n",
       "      <td>143.635250</td>\n",
       "      <td>212.378884</td>\n",
       "      <td>14.90644</td>\n",
       "      <td>64.709283</td>\n",
       "      <td>0.159549</td>\n",
       "    </tr>\n",
       "    <tr>\n",
       "      <th>min</th>\n",
       "      <td>3.000000</td>\n",
       "      <td>0.000000</td>\n",
       "      <td>0.000000</td>\n",
       "      <td>0.000000</td>\n",
       "      <td>0.0</td>\n",
       "      <td>1.000000</td>\n",
       "      <td>1.000000</td>\n",
       "      <td>209.000000</td>\n",
       "      <td>0.000000</td>\n",
       "      <td>1.000000</td>\n",
       "      <td>1.00000</td>\n",
       "      <td>1.000000</td>\n",
       "      <td>0.000000</td>\n",
       "    </tr>\n",
       "    <tr>\n",
       "      <th>25%</th>\n",
       "      <td>230571.000000</td>\n",
       "      <td>0.000000</td>\n",
       "      <td>0.000000</td>\n",
       "      <td>1.000000</td>\n",
       "      <td>0.0</td>\n",
       "      <td>33.000000</td>\n",
       "      <td>48.000000</td>\n",
       "      <td>31123.000000</td>\n",
       "      <td>115.000000</td>\n",
       "      <td>162.000000</td>\n",
       "      <td>19.00000</td>\n",
       "      <td>46.000000</td>\n",
       "      <td>0.054099</td>\n",
       "    </tr>\n",
       "    <tr>\n",
       "      <th>50%</th>\n",
       "      <td>232872.000000</td>\n",
       "      <td>0.000000</td>\n",
       "      <td>0.000000</td>\n",
       "      <td>1.000000</td>\n",
       "      <td>0.0</td>\n",
       "      <td>50.000000</td>\n",
       "      <td>80.000000</td>\n",
       "      <td>69135.000000</td>\n",
       "      <td>239.000000</td>\n",
       "      <td>280.000000</td>\n",
       "      <td>23.00000</td>\n",
       "      <td>70.000000</td>\n",
       "      <td>0.120620</td>\n",
       "    </tr>\n",
       "    <tr>\n",
       "      <th>75%</th>\n",
       "      <td>233895.000000</td>\n",
       "      <td>0.000000</td>\n",
       "      <td>0.000000</td>\n",
       "      <td>2.000000</td>\n",
       "      <td>0.0</td>\n",
       "      <td>78.000000</td>\n",
       "      <td>120.000000</td>\n",
       "      <td>103663.000000</td>\n",
       "      <td>357.000000</td>\n",
       "      <td>458.000000</td>\n",
       "      <td>31.00000</td>\n",
       "      <td>96.000000</td>\n",
       "      <td>0.181044</td>\n",
       "    </tr>\n",
       "    <tr>\n",
       "      <th>max</th>\n",
       "      <td>235519.000000</td>\n",
       "      <td>2.000000</td>\n",
       "      <td>1.000000</td>\n",
       "      <td>3.000000</td>\n",
       "      <td>0.0</td>\n",
       "      <td>543.000000</td>\n",
       "      <td>420.000000</td>\n",
       "      <td>571640.000000</td>\n",
       "      <td>526.000000</td>\n",
       "      <td>792.000000</td>\n",
       "      <td>71.00000</td>\n",
       "      <td>386.000000</td>\n",
       "      <td>1.000000</td>\n",
       "    </tr>\n",
       "  </tbody>\n",
       "</table>\n",
       "</div>"
      ],
      "text/plain": [
       "                  id   entidade  fornecedor  complexidade  stat_pagto  \\\n",
       "count      93.000000  93.000000   93.000000     93.000000        93.0   \n",
       "mean   229600.838710   0.258065    0.010753      1.365591         0.0   \n",
       "std     24216.403563   0.587982    0.103695      0.604061         0.0   \n",
       "min         3.000000   0.000000    0.000000      0.000000         0.0   \n",
       "25%    230571.000000   0.000000    0.000000      1.000000         0.0   \n",
       "50%    232872.000000   0.000000    0.000000      1.000000         0.0   \n",
       "75%    233895.000000   0.000000    0.000000      2.000000         0.0   \n",
       "max    235519.000000   2.000000    1.000000      3.000000         0.0   \n",
       "\n",
       "       qtd_pag_word  qtd_pag_estimado       qtd_carc  qtd_tabela   qtd_image  \\\n",
       "count     93.000000         93.000000      93.000000   93.000000   93.000000   \n",
       "mean      64.290323         97.903226   83783.344086  236.956989  324.053763   \n",
       "std       65.248119         72.444291   91171.351973  143.635250  212.378884   \n",
       "min        1.000000          1.000000     209.000000    0.000000    1.000000   \n",
       "25%       33.000000         48.000000   31123.000000  115.000000  162.000000   \n",
       "50%       50.000000         80.000000   69135.000000  239.000000  280.000000   \n",
       "75%       78.000000        120.000000  103663.000000  357.000000  458.000000   \n",
       "max      543.000000        420.000000  571640.000000  526.000000  792.000000   \n",
       "\n",
       "       qtd_estilos   pag_final  qtd_carc_normal  \n",
       "count     93.00000   93.000000        93.000000  \n",
       "mean      26.16129   82.569892         0.146254  \n",
       "std       14.90644   64.709283         0.159549  \n",
       "min        1.00000    1.000000         0.000000  \n",
       "25%       19.00000   46.000000         0.054099  \n",
       "50%       23.00000   70.000000         0.120620  \n",
       "75%       31.00000   96.000000         0.181044  \n",
       "max       71.00000  386.000000         1.000000  "
      ]
     },
     "execution_count": 184,
     "metadata": {},
     "output_type": "execute_result"
    }
   ],
   "source": [
    "data.describe()"
   ]
  },
  {
   "cell_type": "code",
   "execution_count": 185,
   "metadata": {},
   "outputs": [
    {
     "data": {
      "text/html": [
       "<div>\n",
       "<style scoped>\n",
       "    .dataframe tbody tr th:only-of-type {\n",
       "        vertical-align: middle;\n",
       "    }\n",
       "\n",
       "    .dataframe tbody tr th {\n",
       "        vertical-align: top;\n",
       "    }\n",
       "\n",
       "    .dataframe thead th {\n",
       "        text-align: right;\n",
       "    }\n",
       "</style>\n",
       "<table border=\"1\" class=\"dataframe\">\n",
       "  <thead>\n",
       "    <tr style=\"text-align: right;\">\n",
       "      <th></th>\n",
       "      <th>pag_final</th>\n",
       "    </tr>\n",
       "  </thead>\n",
       "  <tbody>\n",
       "    <tr>\n",
       "      <th>0</th>\n",
       "      <td>140</td>\n",
       "    </tr>\n",
       "    <tr>\n",
       "      <th>1</th>\n",
       "      <td>122</td>\n",
       "    </tr>\n",
       "    <tr>\n",
       "      <th>2</th>\n",
       "      <td>52</td>\n",
       "    </tr>\n",
       "    <tr>\n",
       "      <th>3</th>\n",
       "      <td>52</td>\n",
       "    </tr>\n",
       "    <tr>\n",
       "      <th>4</th>\n",
       "      <td>48</td>\n",
       "    </tr>\n",
       "  </tbody>\n",
       "</table>\n",
       "</div>"
      ],
      "text/plain": [
       "   pag_final\n",
       "0        140\n",
       "1        122\n",
       "2         52\n",
       "3         52\n",
       "4         48"
      ]
     },
     "execution_count": 185,
     "metadata": {},
     "output_type": "execute_result"
    }
   ],
   "source": [
    "y.head()"
   ]
  },
  {
   "cell_type": "markdown",
   "metadata": {},
   "source": [
    "# Normalizar?"
   ]
  },
  {
   "cell_type": "code",
   "execution_count": null,
   "metadata": {},
   "outputs": [],
   "source": [
    "# padronização/escalonamento dos dados.\n",
    "#\n",
    "# Escalas Diferentes Podem Ser um Problema? Normalizar?\n",
    "# https://www.linkedin.com/pulse/pr%C3%A9-processamento-de-dados-intui%C3%A7%C3%A3o-e-pr%C3%A1tica-em-lucas-thiago-zane/\n",
    "# https://medium.com/tentando-ser-um-unic%C3%B3rnio/porqu%C3%AA-e-quando-%C3%A9-necess%C3%A1rio-normalizar-os-dados-92e5cce445aa\n",
    "#\n",
    "#"
   ]
  },
  {
   "cell_type": "code",
   "execution_count": null,
   "metadata": {},
   "outputs": [],
   "source": [
    "# O objetivo da normalização é alterar os valores das colunas numéricas no conjunto de dados para uma escala comum,\n",
    "# sem distorcer as diferenças nos intervalos de valores.\n",
    "# Esse método é necessário apenas quando os parâmetros tiverem intervalos muito diferentes."
   ]
  },
  {
   "cell_type": "code",
   "execution_count": null,
   "metadata": {},
   "outputs": [],
   "source": [
    "# a normalização não é necessária para a Regressão Logística.\n",
    "# a normalização poderá fazer sentido no tratamento de outliers.\n",
    "# Deixar variáveis com escalas similares é algo importante em algoritmos que trabalham com distâncias euclidianas,\n",
    "# como é o caso das regressões lineares multivariadas.\n",
    "# random florest não envolvem o uso de distâncias euclidianas."
   ]
  },
  {
   "attachments": {
    "image.png": {
     "image/png": "[encoded data removed]"
    }
   },
   "cell_type": "markdown",
   "metadata": {},
   "source": [
    "![image.png](attachment:image.png)"
   ]
  },
  {
   "cell_type": "code",
   "execution_count": 84,
   "metadata": {},
   "outputs": [],
   "source": [
    "# O que essa fórmula está dizendo é que pra cada observação em ambas as variáveis,\n",
    "# eu respondo a seguinte pergunta:quantos desvios padrões esse valor está longe da média? "
   ]
  },
  {
   "cell_type": "code",
   "execution_count": null,
   "metadata": {},
   "outputs": [],
   "source": [
    "# “E se eu quiser modelar um classificador usando Regressão Logística, eu precisaria normalizar meus dados?”\n",
    "# Tecnicamente falando, a normalização não é necessária para a Regressão Logística, \n",
    "# pois ela trata com probabilidades relacionadas as classes envolvidas, \n",
    "# se preocupa em desenhar um “fronteira” de decisão em torno de um limiar (o famoso threshold).\n",
    "# Deixar variáveis com escalas similares é algo importante em algoritmos que trabalham com distâncias euclidianas, \n",
    "# como é o caso das regressões lineares multivariadas. "
   ]
  },
  {
   "cell_type": "code",
   "execution_count": null,
   "metadata": {},
   "outputs": [],
   "source": [
    "# Os algoritmos de otimização:\n",
    "#Adaptive Gradient (AdaGrad)\n",
    "#Stochastic Gradient Descent (SGD)\n",
    "#Gradiente Descendente com Momentum (momentum)\n",
    "#Adaptative Delta Learning (adadelta)\n",
    "#Nesterov Accelerated Gradient (nag)\n",
    "#Otimizador RMSprop (rmsprop)\n"
   ]
  },
  {
   "cell_type": "markdown",
   "metadata": {},
   "source": [
    "### normalização (StandardScaler)\n",
    "\n",
    "from sklearn.preprocessing import StandardScaler\n",
    "\n",
    "- sc_X = StandardScaler()\n",
    "- X_train = sc_X.fit_transform(X_train)\n",
    "- X_test = sc_X.transform(X_test)\n",
    "\n",
    "- sc_y = StandardScaler()\n",
    "- y_train = sc_y.fit_transform(y_train)"
   ]
  },
  {
   "cell_type": "markdown",
   "metadata": {},
   "source": [
    "#### Uma maneira fácil de usar o Pandas : (aqui eu quero usar a normalização média)\n",
    "\n",
    "- normalized_df=(df-df.mean())/df.std()\n",
    "#### para usar a normalização min-max:\n",
    "\n",
    "- normalized_df=(df-df.min())/(df.max()-df.min())"
   ]
  },
  {
   "cell_type": "markdown",
   "metadata": {},
   "source": [
    "#### Você pode usar o pacote sklearn e seus utilitários de pré-processamento associados para normalizar os dados.\n",
    "\n",
    "- import pandas as pd\n",
    "- from sklearn import preprocessing\n",
    "\n",
    "- x = df.values #returns a numpy array\n",
    "- min_max_scaler = preprocessing.MinMaxScaler()\n",
    "- x_scaled = min_max_scaler.fit_transform(x)\n",
    "- df = pd.DataFrame(x_scaled)"
   ]
  },
  {
   "cell_type": "code",
   "execution_count": 70,
   "metadata": {},
   "outputs": [],
   "source": [
    "#########################################################\n",
    "# INÍCIO DA PARTE DE MACHINE LEARNIG  \\\n",
    "# RANDOM FOREST\n",
    "########################################################"
   ]
  },
  {
   "cell_type": "code",
   "execution_count": 71,
   "metadata": {},
   "outputs": [],
   "source": [
    "# instalar biblioteca scikit-learn\n",
    "#! pip install -U scikit-learn"
   ]
  },
  {
   "cell_type": "code",
   "execution_count": 186,
   "metadata": {},
   "outputs": [],
   "source": [
    "# método train_test_split, Scikit-Learn \n",
    "X_train, X_test, y_train, y_test = train_test_split(X, y, test_size=0.10, random_state=42)"
   ]
  },
  {
   "cell_type": "code",
   "execution_count": 187,
   "metadata": {},
   "outputs": [
    {
     "data": {
      "text/plain": [
       "((83, 6), (10, 6), (83, 1), (10, 1))"
      ]
     },
     "execution_count": 187,
     "metadata": {},
     "output_type": "execute_result"
    }
   ],
   "source": [
    "X_train.shape, X_test.shape, y_train.shape, y_test.shape"
   ]
  },
  {
   "cell_type": "code",
   "execution_count": 188,
   "metadata": {},
   "outputs": [
    {
     "data": {
      "text/html": [
       "<div>\n",
       "<style scoped>\n",
       "    .dataframe tbody tr th:only-of-type {\n",
       "        vertical-align: middle;\n",
       "    }\n",
       "\n",
       "    .dataframe tbody tr th {\n",
       "        vertical-align: top;\n",
       "    }\n",
       "\n",
       "    .dataframe thead th {\n",
       "        text-align: right;\n",
       "    }\n",
       "</style>\n",
       "<table border=\"1\" class=\"dataframe\">\n",
       "  <thead>\n",
       "    <tr style=\"text-align: right;\">\n",
       "      <th></th>\n",
       "      <th>pag_final</th>\n",
       "    </tr>\n",
       "  </thead>\n",
       "  <tbody>\n",
       "    <tr>\n",
       "      <th>40</th>\n",
       "      <td>340</td>\n",
       "    </tr>\n",
       "    <tr>\n",
       "      <th>22</th>\n",
       "      <td>98</td>\n",
       "    </tr>\n",
       "    <tr>\n",
       "      <th>55</th>\n",
       "      <td>34</td>\n",
       "    </tr>\n",
       "    <tr>\n",
       "      <th>72</th>\n",
       "      <td>38</td>\n",
       "    </tr>\n",
       "    <tr>\n",
       "      <th>0</th>\n",
       "      <td>140</td>\n",
       "    </tr>\n",
       "  </tbody>\n",
       "</table>\n",
       "</div>"
      ],
      "text/plain": [
       "    pag_final\n",
       "40        340\n",
       "22         98\n",
       "55         34\n",
       "72         38\n",
       "0         140"
      ]
     },
     "execution_count": 188,
     "metadata": {},
     "output_type": "execute_result"
    }
   ],
   "source": [
    "y_test.head()"
   ]
  },
  {
   "cell_type": "code",
   "execution_count": null,
   "metadata": {},
   "outputs": [],
   "source": []
  },
  {
   "cell_type": "code",
   "execution_count": 189,
   "metadata": {},
   "outputs": [
    {
     "name": "stderr",
     "output_type": "stream",
     "text": [
      "<ipython-input-189-957cc5138365>:2: DataConversionWarning: A column-vector y was passed when a 1d array was expected. Please change the shape of y to (n_samples,), for example using ravel().\n",
      "  modelo.fit(X_train, y_train)\n"
     ]
    },
    {
     "data": {
      "text/plain": [
       "RandomForestClassifier(n_jobs=-1, random_state=0)"
      ]
     },
     "execution_count": 189,
     "metadata": {},
     "output_type": "execute_result"
    }
   ],
   "source": [
    "modelo = RandomForestClassifier(n_estimators=100, n_jobs=-1, random_state=0)\n",
    "modelo.fit(X_train, y_train)"
   ]
  },
  {
   "cell_type": "code",
   "execution_count": 190,
   "metadata": {},
   "outputs": [],
   "source": [
    "p = modelo.predict(X_test)"
   ]
  },
  {
   "cell_type": "code",
   "execution_count": 191,
   "metadata": {},
   "outputs": [
    {
     "data": {
      "text/plain": [
       "array([ 96, 110,  28,  34, 100,  48,  48,  20,  48, 104])"
      ]
     },
     "execution_count": 191,
     "metadata": {},
     "output_type": "execute_result"
    }
   ],
   "source": [
    "p"
   ]
  },
  {
   "cell_type": "code",
   "execution_count": 192,
   "metadata": {},
   "outputs": [
    {
     "name": "stdout",
     "output_type": "stream",
     "text": [
      "(10,) (10, 1)\n"
     ]
    }
   ],
   "source": [
    "print(p.shape,y_test.shape)"
   ]
  },
  {
   "cell_type": "code",
   "execution_count": 193,
   "metadata": {},
   "outputs": [
    {
     "data": {
      "text/html": [
       "<div>\n",
       "<style scoped>\n",
       "    .dataframe tbody tr th:only-of-type {\n",
       "        vertical-align: middle;\n",
       "    }\n",
       "\n",
       "    .dataframe tbody tr th {\n",
       "        vertical-align: top;\n",
       "    }\n",
       "\n",
       "    .dataframe thead th {\n",
       "        text-align: right;\n",
       "    }\n",
       "</style>\n",
       "<table border=\"1\" class=\"dataframe\">\n",
       "  <thead>\n",
       "    <tr style=\"text-align: right;\">\n",
       "      <th></th>\n",
       "      <th>pag_final</th>\n",
       "    </tr>\n",
       "  </thead>\n",
       "  <tbody>\n",
       "    <tr>\n",
       "      <th>40</th>\n",
       "      <td>340</td>\n",
       "    </tr>\n",
       "    <tr>\n",
       "      <th>22</th>\n",
       "      <td>98</td>\n",
       "    </tr>\n",
       "    <tr>\n",
       "      <th>55</th>\n",
       "      <td>34</td>\n",
       "    </tr>\n",
       "    <tr>\n",
       "      <th>72</th>\n",
       "      <td>38</td>\n",
       "    </tr>\n",
       "    <tr>\n",
       "      <th>0</th>\n",
       "      <td>140</td>\n",
       "    </tr>\n",
       "    <tr>\n",
       "      <th>26</th>\n",
       "      <td>72</td>\n",
       "    </tr>\n",
       "    <tr>\n",
       "      <th>39</th>\n",
       "      <td>42</td>\n",
       "    </tr>\n",
       "    <tr>\n",
       "      <th>67</th>\n",
       "      <td>22</td>\n",
       "    </tr>\n",
       "    <tr>\n",
       "      <th>10</th>\n",
       "      <td>40</td>\n",
       "    </tr>\n",
       "    <tr>\n",
       "      <th>44</th>\n",
       "      <td>98</td>\n",
       "    </tr>\n",
       "  </tbody>\n",
       "</table>\n",
       "</div>"
      ],
      "text/plain": [
       "    pag_final\n",
       "40        340\n",
       "22         98\n",
       "55         34\n",
       "72         38\n",
       "0         140\n",
       "26         72\n",
       "39         42\n",
       "67         22\n",
       "10         40\n",
       "44         98"
      ]
     },
     "execution_count": 193,
     "metadata": {},
     "output_type": "execute_result"
    }
   ],
   "source": [
    "y_test"
   ]
  },
  {
   "cell_type": "code",
   "execution_count": 194,
   "metadata": {},
   "outputs": [
    {
     "name": "stdout",
     "output_type": "stream",
     "text": [
      "RMSE:  78.77055287351993\n"
     ]
    }
   ],
   "source": [
    "# Calculando RMSE utilizando scikit-learn\n",
    "print('RMSE: ',np.sqrt(metrics.mean_squared_error(y_test,p)))\n",
    "# RMSE:  78.92781512242689\n",
    "# RMSE:  78.58244078673046"
   ]
  },
  {
   "cell_type": "code",
   "execution_count": null,
   "metadata": {},
   "outputs": [],
   "source": [
    "##############################################################################################################"
   ]
  },
  {
   "cell_type": "code",
   "execution_count": null,
   "metadata": {},
   "outputs": [],
   "source": [
    "#########################################################\n",
    "# FIM RANDOM FOREST\n",
    "########################################################"
   ]
  },
  {
   "cell_type": "code",
   "execution_count": null,
   "metadata": {},
   "outputs": [],
   "source": []
  },
  {
   "cell_type": "code",
   "execution_count": null,
   "metadata": {},
   "outputs": [],
   "source": [
    "# https://github.com/WalnerPessoa/Medical-Cost-Personal/blob/master/Aula%205%20-%20Regress%C3%A3o%20linear%20para%20prever%20as%20despesas%20m%C3%A9dicas%20de%20um%20paciente%20.ipynb\n",
    "\n",
    "\n",
    "# Criando uma lista com os nomes dos atributos\n",
    "#feature_cols = ['age','sex','bmi','children','smoker']\n",
    "\n",
    "# Usando a lista para escolher um subconjunto do dataframe original\n",
    "#X = data[feature_cols]\n",
    "\n",
    "# Selecionando a Série no dataframe\n",
    "#y = data.charges\n",
    "\n",
    "# Dividindo entre conjunto de treinamento e teste\n",
    "#X_train, X_test, y_train, y_test = train_test_split(X, y, random_state=1)\n",
    "\n",
    "# Ajsutando o modelo (Aprendendo os coeficientes)\n",
    "#linreg.fit(X_train, y_train)\n",
    "\n",
    "# Fazendo predições no conjunto de teste\n",
    "#y_pred = linreg.predict(X_test)\n",
    "\n",
    "# Calculando RMSE para nossas predições\n",
    "#print(np.sqrt(metrics.mean_squared_error(y_test, y_pred)))"
   ]
  },
  {
   "cell_type": "code",
   "execution_count": null,
   "metadata": {},
   "outputs": [],
   "source": [
    "##############################################################################################################"
   ]
  },
  {
   "cell_type": "code",
   "execution_count": null,
   "metadata": {},
   "outputs": [],
   "source": [
    "#########################################################\n",
    "# INÍCIO DA PARTE DE MACHINE LEARNIG  \\\n",
    "# LINEAR REGRESSION\n",
    "########################################################"
   ]
  },
  {
   "cell_type": "code",
   "execution_count": 195,
   "metadata": {},
   "outputs": [],
   "source": [
    "# prepara dados de entrada X e dados de saida Y\n",
    "#colunas_X= ['entidade', 'fornecedor', 'complexidade', 'stat_pagto','qtd_pag_word', 'qtd_carc', 'qtd_tabela','qtd_image']\n",
    "\n",
    "# colunas_X= ['complexidade', 'qtd_pag_word', 'qtd_carc','qtd_tabela','qtd_image']\n",
    "\n",
    "#colunas_X= ['complexidade', 'qtd_pag_word', \"qtd_carc_normal\",'qtd_tabela','qtd_image']\n",
    "colunas_X= ['complexidade', 'qtd_pag_word', 'qtd_carc','qtd_tabela','qtd_image',\"qtd_estilos\"]\n",
    "\n",
    "\n",
    "\n",
    "#colunas_X= ['complexidade', 'qtd_pag_word', 'qtd_pag_estimado','qtd_carc','qtd_tabela','qtd_image']\n",
    "colunas_y=['pag_final']\n",
    "X = data[colunas_X]\n",
    "y = data[colunas_y]"
   ]
  },
  {
   "cell_type": "code",
   "execution_count": 196,
   "metadata": {},
   "outputs": [],
   "source": [
    "# método train_test_split, Scikit-Learn \n",
    "X_train, X_test, y_train, y_test = train_test_split(X, y,  test_size=0.10,random_state=1)"
   ]
  },
  {
   "cell_type": "code",
   "execution_count": 197,
   "metadata": {},
   "outputs": [
    {
     "data": {
      "text/html": [
       "<div>\n",
       "<style scoped>\n",
       "    .dataframe tbody tr th:only-of-type {\n",
       "        vertical-align: middle;\n",
       "    }\n",
       "\n",
       "    .dataframe tbody tr th {\n",
       "        vertical-align: top;\n",
       "    }\n",
       "\n",
       "    .dataframe thead th {\n",
       "        text-align: right;\n",
       "    }\n",
       "</style>\n",
       "<table border=\"1\" class=\"dataframe\">\n",
       "  <thead>\n",
       "    <tr style=\"text-align: right;\">\n",
       "      <th></th>\n",
       "      <th>complexidade</th>\n",
       "      <th>qtd_pag_word</th>\n",
       "      <th>qtd_carc</th>\n",
       "      <th>qtd_tabela</th>\n",
       "      <th>qtd_image</th>\n",
       "      <th>qtd_estilos</th>\n",
       "    </tr>\n",
       "  </thead>\n",
       "  <tbody>\n",
       "    <tr>\n",
       "      <th>40</th>\n",
       "      <td>1</td>\n",
       "      <td>195</td>\n",
       "      <td>413596</td>\n",
       "      <td>26</td>\n",
       "      <td>20</td>\n",
       "      <td>19.0</td>\n",
       "    </tr>\n",
       "    <tr>\n",
       "      <th>31</th>\n",
       "      <td>1</td>\n",
       "      <td>63</td>\n",
       "      <td>97543</td>\n",
       "      <td>524</td>\n",
       "      <td>789</td>\n",
       "      <td>28.0</td>\n",
       "    </tr>\n",
       "    <tr>\n",
       "      <th>90</th>\n",
       "      <td>1</td>\n",
       "      <td>59</td>\n",
       "      <td>122719</td>\n",
       "      <td>363</td>\n",
       "      <td>323</td>\n",
       "      <td>23.0</td>\n",
       "    </tr>\n",
       "    <tr>\n",
       "      <th>27</th>\n",
       "      <td>1</td>\n",
       "      <td>83</td>\n",
       "      <td>186373</td>\n",
       "      <td>150</td>\n",
       "      <td>251</td>\n",
       "      <td>38.0</td>\n",
       "    </tr>\n",
       "    <tr>\n",
       "      <th>38</th>\n",
       "      <td>2</td>\n",
       "      <td>34</td>\n",
       "      <td>56358</td>\n",
       "      <td>104</td>\n",
       "      <td>119</td>\n",
       "      <td>25.0</td>\n",
       "    </tr>\n",
       "    <tr>\n",
       "      <th>...</th>\n",
       "      <td>...</td>\n",
       "      <td>...</td>\n",
       "      <td>...</td>\n",
       "      <td>...</td>\n",
       "      <td>...</td>\n",
       "      <td>...</td>\n",
       "    </tr>\n",
       "    <tr>\n",
       "      <th>75</th>\n",
       "      <td>1</td>\n",
       "      <td>207</td>\n",
       "      <td>571640</td>\n",
       "      <td>303</td>\n",
       "      <td>264</td>\n",
       "      <td>24.0</td>\n",
       "    </tr>\n",
       "    <tr>\n",
       "      <th>9</th>\n",
       "      <td>2</td>\n",
       "      <td>18</td>\n",
       "      <td>145038</td>\n",
       "      <td>169</td>\n",
       "      <td>341</td>\n",
       "      <td>35.0</td>\n",
       "    </tr>\n",
       "    <tr>\n",
       "      <th>72</th>\n",
       "      <td>2</td>\n",
       "      <td>19</td>\n",
       "      <td>16370</td>\n",
       "      <td>357</td>\n",
       "      <td>317</td>\n",
       "      <td>23.0</td>\n",
       "    </tr>\n",
       "    <tr>\n",
       "      <th>12</th>\n",
       "      <td>1</td>\n",
       "      <td>57</td>\n",
       "      <td>1176</td>\n",
       "      <td>209</td>\n",
       "      <td>392</td>\n",
       "      <td>2.0</td>\n",
       "    </tr>\n",
       "    <tr>\n",
       "      <th>37</th>\n",
       "      <td>2</td>\n",
       "      <td>26</td>\n",
       "      <td>22578</td>\n",
       "      <td>389</td>\n",
       "      <td>629</td>\n",
       "      <td>25.0</td>\n",
       "    </tr>\n",
       "  </tbody>\n",
       "</table>\n",
       "<p>83 rows × 6 columns</p>\n",
       "</div>"
      ],
      "text/plain": [
       "    complexidade  qtd_pag_word  qtd_carc  qtd_tabela  qtd_image  qtd_estilos\n",
       "40             1           195    413596          26         20         19.0\n",
       "31             1            63     97543         524        789         28.0\n",
       "90             1            59    122719         363        323         23.0\n",
       "27             1            83    186373         150        251         38.0\n",
       "38             2            34     56358         104        119         25.0\n",
       "..           ...           ...       ...         ...        ...          ...\n",
       "75             1           207    571640         303        264         24.0\n",
       "9              2            18    145038         169        341         35.0\n",
       "72             2            19     16370         357        317         23.0\n",
       "12             1            57      1176         209        392          2.0\n",
       "37             2            26     22578         389        629         25.0\n",
       "\n",
       "[83 rows x 6 columns]"
      ]
     },
     "execution_count": 197,
     "metadata": {},
     "output_type": "execute_result"
    }
   ],
   "source": [
    "X_train"
   ]
  },
  {
   "cell_type": "code",
   "execution_count": 198,
   "metadata": {},
   "outputs": [
    {
     "name": "stdout",
     "output_type": "stream",
     "text": [
      "[39.91188536]\n",
      "[[-1.12598804e+01  6.95461224e-01  2.54639254e-04  1.17609369e-02\n",
      "  -9.42819675e-03 -2.80477466e-01]]\n"
     ]
    }
   ],
   "source": [
    "##### machine learnig\n",
    "\n",
    "#Instanciando o estimador\n",
    "linreg = LinearRegression()\n",
    "\n",
    "#Ajustando o modelo ao conjunto de treino\n",
    "linreg.fit(X_train, y_train)\n",
    "\n",
    "#Interpretando os coeficientes do modelo\n",
    "#Visualizando a interseção e os coeficientes \n",
    "print(linreg.intercept_)\n",
    "print(linreg.coef_)\n"
   ]
  },
  {
   "cell_type": "code",
   "execution_count": 199,
   "metadata": {},
   "outputs": [
    {
     "data": {
      "text/plain": [
       "['complexidade',\n",
       " 'qtd_pag_word',\n",
       " 'qtd_carc',\n",
       " 'qtd_tabela',\n",
       " 'qtd_image',\n",
       " 'qtd_estilos']"
      ]
     },
     "execution_count": 199,
     "metadata": {},
     "output_type": "execute_result"
    }
   ],
   "source": [
    "colunas_X"
   ]
  },
  {
   "cell_type": "code",
   "execution_count": 200,
   "metadata": {},
   "outputs": [
    {
     "data": {
      "text/plain": [
       "Index(['complexidade', 'qtd_pag_word', 'qtd_carc', 'qtd_tabela', 'qtd_image',\n",
       "       'qtd_estilos'],\n",
       "      dtype='object')"
      ]
     },
     "execution_count": 200,
     "metadata": {},
     "output_type": "execute_result"
    }
   ],
   "source": [
    "X_train.columns"
   ]
  },
  {
   "cell_type": "code",
   "execution_count": 201,
   "metadata": {},
   "outputs": [
    {
     "data": {
      "text/plain": [
       "[('complexidade',\n",
       "  array([-1.12598804e+01,  6.95461224e-01,  2.54639254e-04,  1.17609369e-02,\n",
       "         -9.42819675e-03, -2.80477466e-01]))]"
      ]
     },
     "execution_count": 201,
     "metadata": {},
     "output_type": "execute_result"
    }
   ],
   "source": [
    "#Atributos e seus coeficientes\n",
    "list(zip(colunas_X, linreg.coef_))"
   ]
  },
  {
   "cell_type": "code",
   "execution_count": 202,
   "metadata": {},
   "outputs": [],
   "source": [
    "#Fazendo predições no conjunto de teste\n",
    "y_pred = linreg.predict(X_test)"
   ]
  },
  {
   "cell_type": "code",
   "execution_count": 203,
   "metadata": {},
   "outputs": [
    {
     "data": {
      "text/plain": [
       "array([[ 37.49664056],\n",
       "       [ 61.86796013],\n",
       "       [115.28497295],\n",
       "       [ 47.50320228],\n",
       "       [ 35.64405006],\n",
       "       [ 85.33434495],\n",
       "       [ 78.59263703],\n",
       "       [155.23900812],\n",
       "       [ 65.72600636],\n",
       "       [ 47.0220136 ]])"
      ]
     },
     "execution_count": 203,
     "metadata": {},
     "output_type": "execute_result"
    }
   ],
   "source": [
    "y_pred"
   ]
  },
  {
   "cell_type": "code",
   "execution_count": 204,
   "metadata": {
    "scrolled": true
   },
   "outputs": [
    {
     "data": {
      "text/html": [
       "<div>\n",
       "<style scoped>\n",
       "    .dataframe tbody tr th:only-of-type {\n",
       "        vertical-align: middle;\n",
       "    }\n",
       "\n",
       "    .dataframe tbody tr th {\n",
       "        vertical-align: top;\n",
       "    }\n",
       "\n",
       "    .dataframe thead th {\n",
       "        text-align: right;\n",
       "    }\n",
       "</style>\n",
       "<table border=\"1\" class=\"dataframe\">\n",
       "  <thead>\n",
       "    <tr style=\"text-align: right;\">\n",
       "      <th></th>\n",
       "      <th>pag_final</th>\n",
       "    </tr>\n",
       "  </thead>\n",
       "  <tbody>\n",
       "    <tr>\n",
       "      <th>59</th>\n",
       "      <td>52</td>\n",
       "    </tr>\n",
       "    <tr>\n",
       "      <th>74</th>\n",
       "      <td>68</td>\n",
       "    </tr>\n",
       "    <tr>\n",
       "      <th>44</th>\n",
       "      <td>98</td>\n",
       "    </tr>\n",
       "    <tr>\n",
       "      <th>56</th>\n",
       "      <td>48</td>\n",
       "    </tr>\n",
       "    <tr>\n",
       "      <th>88</th>\n",
       "      <td>36</td>\n",
       "    </tr>\n",
       "    <tr>\n",
       "      <th>77</th>\n",
       "      <td>86</td>\n",
       "    </tr>\n",
       "    <tr>\n",
       "      <th>62</th>\n",
       "      <td>68</td>\n",
       "    </tr>\n",
       "    <tr>\n",
       "      <th>53</th>\n",
       "      <td>126</td>\n",
       "    </tr>\n",
       "    <tr>\n",
       "      <th>54</th>\n",
       "      <td>68</td>\n",
       "    </tr>\n",
       "    <tr>\n",
       "      <th>39</th>\n",
       "      <td>42</td>\n",
       "    </tr>\n",
       "  </tbody>\n",
       "</table>\n",
       "</div>"
      ],
      "text/plain": [
       "    pag_final\n",
       "59         52\n",
       "74         68\n",
       "44         98\n",
       "56         48\n",
       "88         36\n",
       "77         86\n",
       "62         68\n",
       "53        126\n",
       "54         68\n",
       "39         42"
      ]
     },
     "execution_count": 204,
     "metadata": {},
     "output_type": "execute_result"
    }
   ],
   "source": [
    "y_test"
   ]
  },
  {
   "cell_type": "markdown",
   "metadata": {},
   "source": [
    "Comparando essas métricas:\n",
    "\n",
    "- MAE é a mais fácil de entender.\n",
    "- MSE é mais popular que MAE, porque MSE \"pune\" erros grandes.\n",
    "- RMSE é ainda mais popular que MSE, porque RMSE é interpretável na mesma unidade de y."
   ]
  },
  {
   "cell_type": "code",
   "execution_count": 206,
   "metadata": {},
   "outputs": [],
   "source": [
    "#RMSE:  12.11799697428631 # primeiro test com columas\n",
    "#colunas_X= ['entidade', 'fornecedor', 'complexidade', 'stat_pagto','qtd_pag_word', 'qtd_carc', 'qtd_tabela','qtd_image']\n",
    "\n",
    "#colunas_X= ['complexidade', 'qtd_pag_word', 'qtd_carc','qtd_tabela','qtd_image']\n",
    "\n",
    "#RMSE:  11.831745496309976\n",
    "# colunas_X= ['complexidade', 'qtd_pag_word', 'qtd_pag_estimado','qtd_carc','qtd_tabela','qtd_image']\n",
    "# RMSE:  8.41739234335301"
   ]
  },
  {
   "cell_type": "code",
   "execution_count": 208,
   "metadata": {},
   "outputs": [
    {
     "name": "stdout",
     "output_type": "stream",
     "text": [
      "RMSE:  12.43000991830557\n"
     ]
    }
   ],
   "source": [
    "#Nós precisamos de uma métrica de avaliação para comparar nossas predições com os valores verdadeiros!\n",
    "\n",
    "# Calculando RMSE utilizando scikit-learn\n",
    "print('RMSE: ',np.sqrt(metrics.mean_squared_error(y_test,y_pred)))\n",
    "\n",
    "# incluido feature Quantidade de estilo, mas o resultado piorou. RMSE foi de 11.83 para 12.43"
   ]
  },
  {
   "cell_type": "code",
   "execution_count": 63,
   "metadata": {},
   "outputs": [],
   "source": [
    "#Como interpretar esse valor?\n",
    "# numero menor de RMSE é melhor\n",
    "# RMSE:  11.831745496309976\n"
   ]
  },
  {
   "cell_type": "code",
   "execution_count": null,
   "metadata": {},
   "outputs": [],
   "source": [
    "#########################################################\n",
    "# FIM  LINEAR REGRESSION\n",
    "########################################################"
   ]
  },
  {
   "cell_type": "code",
   "execution_count": null,
   "metadata": {},
   "outputs": [],
   "source": []
  },
  {
   "cell_type": "code",
   "execution_count": null,
   "metadata": {},
   "outputs": [],
   "source": []
  },
  {
   "cell_type": "code",
   "execution_count": null,
   "metadata": {},
   "outputs": [],
   "source": [
    "################################################################################################################\n",
    "#########################################################\n",
    "# LOGISTIC REGRESSION\n",
    "########################################################"
   ]
  },
  {
   "cell_type": "code",
   "execution_count": 222,
   "metadata": {},
   "outputs": [],
   "source": [
    "colunas_X= ['complexidade', 'qtd_pag_word', 'qtd_carc','qtd_tabela','qtd_image',\"qtd_estilos\"]\n",
    "colunas_y=['pag_final']\n",
    "X = data[colunas_X]\n",
    "y = data[colunas_y]"
   ]
  },
  {
   "cell_type": "code",
   "execution_count": 223,
   "metadata": {},
   "outputs": [],
   "source": [
    "X_train, X_test, y_train, y_test = train_test_split(X, y,  test_size=0.20,random_state=1)"
   ]
  },
  {
   "cell_type": "code",
   "execution_count": 224,
   "metadata": {},
   "outputs": [
    {
     "name": "stderr",
     "output_type": "stream",
     "text": [
      "/Users/wpessoa/miniconda3/envs/py3/lib/python3.8/site-packages/sklearn/utils/validation.py:72: DataConversionWarning: A column-vector y was passed when a 1d array was expected. Please change the shape of y to (n_samples, ), for example using ravel().\n",
      "  return f(**kwargs)\n",
      "/Users/wpessoa/miniconda3/envs/py3/lib/python3.8/site-packages/sklearn/linear_model/_logistic.py:762: ConvergenceWarning: lbfgs failed to converge (status=1):\n",
      "STOP: TOTAL NO. of ITERATIONS REACHED LIMIT.\n",
      "\n",
      "Increase the number of iterations (max_iter) or scale the data as shown in:\n",
      "    https://scikit-learn.org/stable/modules/preprocessing.html\n",
      "Please also refer to the documentation for alternative solver options:\n",
      "    https://scikit-learn.org/stable/modules/linear_model.html#logistic-regression\n",
      "  n_iter_i = _check_optimize_result(\n"
     ]
    },
    {
     "name": "stdout",
     "output_type": "stream",
     "text": [
      "[ 66  66  66  48 296  66  66  66  66 100 296 100  66 296  66  48  48 296\n",
      "  66]\n",
      "[[1.88090136e-002 2.89395341e-002 5.33806788e-004 1.01876705e-002\n",
      "  9.66596211e-006 1.85286421e-003 1.89515942e-002 9.06644268e-003\n",
      "  8.51803253e-003 2.55204354e-002 5.36653035e-003 3.44688338e-002\n",
      "  2.23766340e-002 2.07501949e-002 2.16246865e-002 5.12802537e-002\n",
      "  2.15354645e-002 3.65222447e-002 2.23754313e-002 3.00736212e-002\n",
      "  3.65263909e-002 2.48647199e-002 4.10547958e-002 3.69048748e-002\n",
      "  3.51793994e-002 3.26839361e-002 3.10633683e-002 2.58676982e-002\n",
      "  4.17056312e-002 3.19516795e-002 2.90140616e-002 3.20516267e-002\n",
      "  3.23860296e-002 6.52189991e-181 2.48562512e-002 2.90603432e-002\n",
      "  3.05923261e-002 3.19860339e-002 2.96542157e-002 3.38336630e-002\n",
      "  2.42633849e-071]\n",
      " [1.82287382e-002 3.13424444e-002 1.69600917e-004 7.25164470e-003\n",
      "  1.11336329e-006 8.59445717e-004 1.53103584e-002 5.72852984e-003\n",
      "  6.45447508e-003 2.24630230e-002 3.21679344e-003 2.93433958e-002\n",
      "  1.34892179e-002 1.74220282e-002 2.01910655e-002 5.58620985e-002\n",
      "  1.80180246e-002 3.86897438e-002 2.03186805e-002 2.67024723e-002\n",
      "  3.25681234e-002 2.60573790e-002 4.76149875e-002 3.89409285e-002\n",
      "  3.88558365e-002 3.36991319e-002 3.09672553e-002 2.58479182e-002\n",
      "  3.60302880e-002 3.12053038e-002 2.92968939e-002 3.30847284e-002\n",
      "  3.43024465e-002 3.73566240e-228 2.65736773e-002 2.76347702e-002\n",
      "  3.53091053e-002 4.00153109e-002 3.89745276e-002 4.19584934e-002\n",
      "  1.17859527e-089]\n",
      " [9.16160125e-003 2.50195640e-002 2.47623980e-006 2.32078696e-003\n",
      "  2.20748775e-010 4.43508843e-005 9.86534098e-003 1.85811698e-003\n",
      "  1.47472804e-003 1.95518217e-002 5.31727206e-004 4.17957830e-002\n",
      "  1.71093426e-002 1.24095800e-002 1.29668567e-002 9.96430223e-002\n",
      "  1.35302460e-002 4.45472122e-002 1.44520348e-002 2.98244422e-002\n",
      "  4.82944471e-002 1.75361311e-002 5.57783429e-002 4.53426776e-002\n",
      "  4.00339258e-002 3.42738346e-002 3.09003259e-002 1.97942922e-002\n",
      "  6.67539420e-002 3.32526084e-002 2.56189705e-002 3.28107232e-002\n",
      "  3.32016991e-002 0.00000000e+000 1.73020437e-002 2.66614186e-002\n",
      "  2.76155562e-002 3.01617351e-002 2.40369863e-002 3.45213054e-002\n",
      "  9.44254594e-163]\n",
      " [1.73206676e-002 2.23760163e-002 3.20330415e-003 1.64837030e-002\n",
      "  2.97029135e-004 6.01707332e-003 2.51045802e-002 1.90673817e-002\n",
      "  1.18780612e-002 2.92408813e-002 1.17491706e-002 4.57320047e-002\n",
      "  5.99281933e-002 2.66247482e-002 2.17436687e-002 4.23206792e-002\n",
      "  2.77120690e-002 3.07598210e-002 2.45961176e-002 3.60258799e-002\n",
      "  4.50878718e-002 2.01952856e-002 2.78812878e-002 3.08997669e-002\n",
      "  2.69293224e-002 2.85552764e-002 2.91203392e-002 2.36759112e-002\n",
      "  5.57984098e-002 3.13074162e-002 2.55672521e-002 2.81242573e-002\n",
      "  2.66773706e-002 9.57159376e-105 1.92723009e-002 2.98468654e-002\n",
      "  2.02744172e-002 1.83622808e-002 1.45456878e-002 1.96976308e-002\n",
      "  8.42398149e-042]\n",
      " [2.50417288e-002 3.13922739e-002 3.11032014e-003 1.55168706e-002\n",
      "  3.78851964e-004 6.34772015e-003 2.08814944e-002 1.32151645e-002\n",
      "  1.57896931e-002 2.47205748e-002 1.09178319e-002 2.56017362e-002\n",
      "  1.58315907e-002 2.20405611e-002 2.50571750e-002 3.67272647e-002\n",
      "  2.22544033e-002 3.26194317e-002 2.44189718e-002 2.57564383e-002\n",
      "  2.71056108e-002 2.92435755e-002 3.73035394e-002 3.26786274e-002\n",
      "  3.37305991e-002 3.08296180e-002 2.93636910e-002 2.80762668e-002\n",
      "  2.72576188e-002 2.89250675e-002 2.93704158e-002 3.07279829e-002\n",
      "  3.16155658e-002 5.44530614e-098 2.99039610e-002 2.74482950e-002\n",
      "  3.43219605e-002 3.75870980e-002 3.90681443e-002 3.78222652e-002\n",
      "  2.51710955e-039]\n",
      " [1.96799068e-002 3.26836216e-002 2.16714364e-004 7.55908210e-003\n",
      "  1.96769623e-006 1.03027471e-003 1.49167672e-002 5.73070500e-003\n",
      "  7.25664736e-003 2.14722919e-002 3.51381687e-003 2.56703726e-002\n",
      "  1.07377825e-002 1.70109741e-002 2.07436706e-002 5.14754644e-002\n",
      "  1.74690441e-002 3.80006051e-002 2.04060884e-002 2.47730893e-002\n",
      "  2.91137802e-002 2.77252012e-002 4.78948472e-002 3.80533317e-002\n",
      "  3.93930012e-002 3.33806930e-002 3.06064762e-002 2.65986391e-002\n",
      "  3.06337657e-002 3.01782933e-002 2.94792171e-002 3.30409919e-002\n",
      "  3.45678650e-002 7.09705477e-215 2.85456443e-002 2.68365231e-002\n",
      "  3.80016117e-002 4.45541430e-002 4.51626782e-002 4.58844101e-002\n",
      "  1.55876832e-084]\n",
      " [1.55426104e-002 2.62371912e-002 2.29610477e-004 8.32817938e-003\n",
      "  1.59033856e-006 9.95295799e-004 1.86374497e-002 7.57957858e-003\n",
      "  6.08634606e-003 2.69416922e-002 3.71834513e-003 4.14586663e-002\n",
      "  2.83759093e-002 1.97986419e-002 1.97941179e-002 6.01114139e-002\n",
      "  2.12005648e-002 3.73941042e-002 2.08037043e-002 3.24396610e-002\n",
      "  4.19600284e-002 2.18401090e-002 4.26686273e-002 3.85668454e-002\n",
      "  3.41944172e-002 3.26743038e-002 3.10220764e-002 2.38859072e-002\n",
      "  5.32055860e-002 3.28163307e-002 2.84236347e-002 3.17790242e-002\n",
      "  3.14731277e-002 2.22441423e-221 2.16599341e-002 2.93343577e-002\n",
      "  2.77043919e-002 2.72139951e-002 2.41281131e-002 2.97745170e-002\n",
      "  5.83656456e-087]\n",
      " [4.61308197e-003 2.40345475e-002 3.78969121e-009 3.29080985e-004\n",
      "  8.49103538e-016 4.94729473e-007 3.31589162e-003 1.76357727e-004\n",
      "  2.04916343e-004 1.04879606e-002 2.79111806e-005 2.64457860e-002\n",
      "  3.22066453e-003 4.82978980e-003 6.82021168e-003 1.61281690e-001\n",
      "  5.42721600e-003 4.96196854e-002 7.20787744e-003 1.84190252e-002\n",
      "  3.56121227e-002 1.35655416e-002 8.76388774e-002 5.11039075e-002\n",
      "  4.76808100e-002 3.26020521e-002 2.58352410e-002 1.40236230e-002\n",
      "  5.13271613e-002 2.72850946e-002 2.11677739e-002 3.04270606e-002\n",
      "  3.34137194e-002 0.00000000e+000 1.40399340e-002 1.87981123e-002\n",
      "  3.29272840e-002 4.44977053e-002 3.84932891e-002 5.30984977e-002\n",
      "  1.17502225e-267]\n",
      " [1.47755289e-002 2.49716193e-002 2.51228303e-004 8.50046174e-003\n",
      "  1.90054267e-006 1.06806856e-003 1.87109733e-002 8.40226278e-003\n",
      "  5.96202668e-003 2.64930462e-002 3.98948771e-003 4.49670065e-002\n",
      "  3.66573608e-002 2.09043363e-002 1.91487417e-002 6.01756552e-002\n",
      "  2.21237286e-002 3.70016453e-002 2.12282477e-002 3.45459642e-002\n",
      "  4.67531664e-002 2.05920190e-002 3.85918482e-002 3.74786701e-002\n",
      "  3.30298858e-002 3.21703982e-002 3.11537721e-002 2.34598690e-002\n",
      "  5.97049490e-002 3.33826457e-002 2.71896027e-002 3.13154195e-002\n",
      "  3.06143909e-002 1.31715435e-217 2.00100335e-002 2.98944378e-002\n",
      "  2.46723800e-002 2.40802479e-002 1.96269678e-002 2.64000060e-002\n",
      "  1.78766500e-085]\n",
      " [1.48961835e-002 2.23386248e-002 8.24250029e-004 1.16631097e-002\n",
      "  1.90287094e-005 2.35367946e-003 2.21460929e-002 1.30075750e-002\n",
      "  7.79764709e-003 2.85394219e-002 6.63514412e-003 4.96822972e-002\n",
      "  5.71911636e-002 2.40282565e-002 1.97926643e-002 5.20760039e-002\n",
      "  2.53850136e-002 3.34185077e-002 2.26086882e-002 3.70618539e-002\n",
      "  4.97523490e-002 1.90729983e-002 3.15974880e-002 3.38397026e-002\n",
      "  2.87666291e-002 2.99089007e-002 2.99751053e-002 2.26991804e-002\n",
      "  6.47241565e-002 3.27019064e-002 2.57941034e-002 2.91070628e-002\n",
      "  2.77937267e-002 3.06944137e-166 1.81640376e-002 3.01293645e-002\n",
      "  2.06113630e-002 1.87346382e-002 1.45292006e-002 2.06328806e-002\n",
      "  1.40167762e-065]\n",
      " [5.48125722e-004 1.11865142e-002 3.12222810e-016 6.34852161e-007\n",
      "  2.46096999e-028 4.67794934e-012 2.96498652e-005 5.94071312e-008\n",
      "  1.06372534e-006 2.76926449e-004 5.91608304e-009 3.22836758e-004\n",
      "  3.06550421e-007 6.46336998e-005 4.49143788e-004 5.84290775e-002\n",
      "  6.97641921e-005 1.43760485e-002 2.87738283e-004 4.49086111e-004\n",
      "  8.05824179e-004 4.27954733e-003 9.94692140e-002 1.45547603e-002\n",
      "  2.61467036e-002 6.89783278e-003 3.42266644e-003 2.07792603e-003\n",
      "  6.75879549e-004 2.64799235e-003 3.76222769e-003 6.43277977e-003\n",
      "  1.05608497e-002 0.00000000e+000 5.95681806e-003 1.28264464e-003\n",
      "  4.12348244e-002 1.64311459e-001 3.44826198e-001 1.74162237e-001\n",
      "  0.00000000e+000]\n",
      " [8.25252166e-003 1.72482652e-002 3.89187053e-005 4.99073783e-003\n",
      "  4.00339876e-008 2.67930680e-004 1.59782633e-002 5.81134606e-003\n",
      "  2.49306242e-003 2.55503540e-002 1.75895020e-003 6.62078855e-002\n",
      "  7.67812226e-002 1.83320264e-002 1.35292457e-002 7.65470419e-002\n",
      "  2.02682048e-002 3.47829878e-002 1.68118984e-002 3.98373410e-002\n",
      "  6.64766992e-002 1.29930361e-002 3.27359631e-002 3.57215502e-002\n",
      "  2.70106172e-002 2.84776048e-002 2.82987234e-002 1.73705881e-002\n",
      "  1.05237183e-001 3.28026931e-002 2.19996155e-002 2.71301755e-002\n",
      "  2.51927753e-002 4.18182974e-302 1.20137493e-002 2.82130753e-002\n",
      "  1.53914652e-002 1.31770435e-002 8.65239143e-003 1.56168066e-002\n",
      "  4.40803631e-118]\n",
      " [1.18629334e-002 2.91785313e-002 5.41073278e-006 2.80820781e-003\n",
      "  1.16199075e-009 7.69087010e-005 1.01981267e-002 1.93414247e-003\n",
      "  2.14734056e-003 1.94392621e-002 7.01607372e-004 3.11511725e-002\n",
      "  9.33383265e-003 1.19198019e-002 1.49036361e-002 8.41013619e-002\n",
      "  1.28900599e-002 4.34235833e-002 1.49204737e-002 2.50257840e-002\n",
      "  3.50630615e-002 2.14685714e-002 6.23327303e-002 4.48992996e-002\n",
      "  4.24074220e-002 3.46324090e-002 3.01746506e-002 2.16555381e-002\n",
      "  4.40007115e-002 3.11246663e-002 2.78650948e-002 3.32983682e-002\n",
      "  3.50035240e-002 0.00000000e+000 2.21178303e-002 2.54469867e-002\n",
      "  3.57701664e-002 4.12878138e-002 3.97245086e-002 4.57044685e-002\n",
      "  2.94658525e-148]\n",
      " [8.02732338e-003 3.15216974e-002 3.55067781e-008 5.24132372e-004\n",
      "  1.14530754e-013 2.45779520e-006 3.18541720e-003 2.23158125e-004\n",
      "  5.21335294e-004 8.56761939e-003 6.51723972e-005 1.21079726e-002\n",
      "  8.93617871e-004 4.49819956e-003 8.57527794e-003 9.16341175e-002\n",
      "  4.75402255e-003 4.25883259e-002 7.74962597e-003 1.18283685e-002\n",
      "  1.72036616e-002 2.00632475e-002 8.68419158e-002 4.29996842e-002\n",
      "  4.96678704e-002 3.03291197e-002 2.31530629e-002 1.66111062e-002\n",
      "  1.83989629e-002 2.19450898e-002 2.22192367e-002 2.91244228e-002\n",
      "  3.44195065e-002 0.00000000e+000 2.22358078e-002 1.59430173e-002\n",
      "  4.97168670e-002 8.08720636e-002 9.42380352e-002 8.67494450e-002\n",
      "  2.67608345e-224]\n",
      " [2.08807870e-002 3.15614893e-002 5.56446057e-004 9.97646340e-003\n",
      "  1.18322371e-005 1.94250239e-003 1.76255510e-002 8.08976034e-003\n",
      "  9.34598190e-003 2.37443692e-002 5.30454747e-003 2.80734379e-002\n",
      "  1.44875588e-002 1.92839249e-002 2.22760337e-002 4.76043577e-002\n",
      "  1.98078808e-002 3.63696575e-002 2.20210210e-002 2.65188486e-002\n",
      "  3.03857502e-002 2.75086265e-002 4.37894302e-002 3.66561041e-002\n",
      "  3.69330346e-002 3.27702333e-002 3.05297247e-002 2.68977328e-002\n",
      "  3.24671107e-002 3.04938934e-002 2.96762913e-002 3.23468543e-002\n",
      "  3.34356093e-002 1.44194170e-175 2.81150761e-002 2.77673171e-002\n",
      "  3.53330446e-002 3.92832923e-002 3.95454360e-002 4.05829876e-002\n",
      "  2.55041371e-069]\n",
      " [1.75376601e-002 2.01442918e-002 9.57494225e-003 2.13591427e-002\n",
      "  2.64853171e-003 1.23883811e-002 2.79067789e-002 2.67130965e-002\n",
      "  1.52695310e-002 2.97672251e-002 1.82183226e-002 4.53567719e-002\n",
      "  7.57291320e-002 2.86544780e-002 2.19986081e-002 3.49522801e-002\n",
      "  2.96952574e-002 2.70436974e-002 2.51082204e-002 3.57005063e-002\n",
      "  4.34318119e-002 1.88506235e-002 2.30086858e-002 2.72002118e-002\n",
      "  2.33100632e-002 2.58814506e-002 2.70422699e-002 2.24874393e-002\n",
      "  5.34302116e-002 2.93069670e-002 2.38432355e-002 2.54770802e-002\n",
      "  2.38912338e-002 5.51846055e-055 1.77884785e-002 2.86762677e-002\n",
      "  1.75074321e-002 1.50983009e-002 1.18220494e-002 1.61793319e-002\n",
      "  1.47703192e-022]\n",
      " [1.91441987e-002 1.95041322e-002 2.58359527e-002 2.62789937e-002\n",
      "  2.12411530e-002 2.41620784e-002 2.88249846e-002 3.26383049e-002\n",
      "  2.04299213e-002 2.85207158e-002 2.64074856e-002 3.80981759e-002\n",
      "  6.53639447e-002 2.86384731e-002 2.26747546e-002 2.77102339e-002\n",
      "  2.94329397e-002 2.39747463e-002 2.51306915e-002 3.18797757e-002\n",
      "  3.60685533e-002 1.91679122e-002 2.04268562e-002 2.40952955e-002\n",
      "  2.12320734e-002 2.36718913e-002 2.49331444e-002 2.21582859e-002\n",
      "  4.20711366e-002 2.64934152e-002 2.27398501e-002 2.35219963e-002\n",
      "  2.21081382e-002 5.99566413e-007 1.82447658e-002 2.65667081e-002\n",
      "  1.72261739e-002 1.49195593e-002 1.23035079e-002 1.56342131e-002\n",
      "  5.24267275e-004]\n",
      " [2.40088879e-002 3.23609716e-002 1.52730135e-003 1.27814964e-002\n",
      "  9.44081405e-005 3.92077226e-003 1.89321673e-002 1.03490589e-002\n",
      "  1.30638489e-002 2.36557672e-002 8.03283635e-003 2.47948530e-002\n",
      "  1.31863545e-002 2.03370218e-002 2.40669424e-002 3.99027434e-002\n",
      "  2.06198966e-002 3.41239280e-002 2.32765059e-002 2.50027998e-002\n",
      "  2.67956406e-002 2.95035508e-002 4.06988571e-002 3.42014854e-002\n",
      "  3.56445010e-002 3.16595924e-002 2.97390954e-002 2.79959237e-002\n",
      "  2.69944780e-002 2.91303905e-002 2.96954139e-002 3.15489739e-002\n",
      "  3.27192511e-002 8.27791955e-129 3.03639787e-002 2.71656824e-002\n",
      "  3.64724104e-002 4.10791210e-002 4.31299187e-002 4.14231734e-002\n",
      "  2.98946527e-051]\n",
      " [1.79003748e-002 3.08897577e-002 1.61071509e-004 7.15876107e-003\n",
      "  1.00123574e-006 8.29786416e-004 1.52557251e-002 5.69546206e-003\n",
      "  6.31697124e-003 2.24424645e-002 3.15816452e-003 2.96504650e-002\n",
      "  1.38798596e-002 1.74284567e-002 2.00498313e-002 5.62528154e-002\n",
      "  1.81475217e-002 3.88696716e-002 2.03119308e-002 2.69610564e-002\n",
      "  3.33054118e-002 2.58666197e-002 4.74598372e-002 3.90454195e-002\n",
      "  3.88275731e-002 3.37068069e-002 3.13056130e-002 2.59398190e-002\n",
      "  3.70083954e-002 3.13804118e-002 2.92137861e-002 3.33349154e-002\n",
      "  3.42132735e-002 1.50072234e-230 2.62699647e-002 2.76963086e-002\n",
      "  3.51231822e-002 3.96177782e-002 3.78257036e-002 4.14980317e-002\n",
      "  1.49283803e-090]]\n",
      "0.12162162162162163\n"
     ]
    }
   ],
   "source": [
    "from sklearn.datasets import load_iris\n",
    "from sklearn.linear_model import LogisticRegression\n",
    "##### machine learnig\n",
    "#X, y = load_iris(return_X_y=True)\n",
    "clf = LogisticRegression(random_state=0).fit(X_train, y_train)\n",
    "print(clf.predict(X_test.fillna(-1)))\n",
    "print(clf.predict_proba(X_test.fillna(-1)))\n",
    "print(clf.score(X_train, y_train))\n"
   ]
  },
  {
   "cell_type": "code",
   "execution_count": 225,
   "metadata": {},
   "outputs": [
    {
     "name": "stdout",
     "output_type": "stream",
     "text": [
      "[ 66  66  66  48 296  66  66  66  66 100 296 100  66 296  66  48  48 296\n",
      "  66]\n",
      "    pag_final\n",
      "59         52\n",
      "74         68\n",
      "44         98\n",
      "56         48\n",
      "88         36\n",
      "77         86\n",
      "62         68\n",
      "53        126\n",
      "54         68\n",
      "39         42\n",
      "40        340\n",
      "31         76\n",
      "90         78\n",
      "27        112\n",
      "38         48\n",
      "55         34\n",
      "10         40\n",
      "2          52\n",
      "92         82\n",
      "RMSE:  95.44466569969384\n"
     ]
    },
    {
     "name": "stderr",
     "output_type": "stream",
     "text": [
      "/Users/wpessoa/miniconda3/envs/py3/lib/python3.8/site-packages/sklearn/utils/validation.py:72: DataConversionWarning: A column-vector y was passed when a 1d array was expected. Please change the shape of y to (n_samples, ), for example using ravel().\n",
      "  return f(**kwargs)\n",
      "/Users/wpessoa/miniconda3/envs/py3/lib/python3.8/site-packages/sklearn/linear_model/_logistic.py:762: ConvergenceWarning: lbfgs failed to converge (status=1):\n",
      "STOP: TOTAL NO. of ITERATIONS REACHED LIMIT.\n",
      "\n",
      "Increase the number of iterations (max_iter) or scale the data as shown in:\n",
      "    https://scikit-learn.org/stable/modules/preprocessing.html\n",
      "Please also refer to the documentation for alternative solver options:\n",
      "    https://scikit-learn.org/stable/modules/linear_model.html#logistic-regression\n",
      "  n_iter_i = _check_optimize_result(\n"
     ]
    }
   ],
   "source": [
    "modelo = LogisticRegression()\n",
    "modelo.fit(X_train, y_train)\n",
    "\n",
    "y_pred = modelo.predict(X_test.fillna(-1))\n",
    "print(y_pred)\n",
    "print(y_test)\n",
    "\n",
    "# Calculando RMSE utilizando scikit-learn\n",
    "print('RMSE: ',np.sqrt(metrics.mean_squared_error(y_test,y_pred)))"
   ]
  },
  {
   "cell_type": "code",
   "execution_count": null,
   "metadata": {},
   "outputs": [],
   "source": [
    "#########################################################\n",
    "# FIM  LOGISTIC REGRESSION\n",
    "########################################################"
   ]
  },
  {
   "cell_type": "code",
   "execution_count": null,
   "metadata": {},
   "outputs": [],
   "source": [
    "#\n",
    "# \n",
    "################################################################################################################"
   ]
  },
  {
   "cell_type": "code",
   "execution_count": 205,
   "metadata": {},
   "outputs": [
    {
     "name": "stdout",
     "output_type": "stream",
     "text": [
      "dados verdadeiros:  [100, 50, 30, 30]\n",
      "dados inferidos: [90, 50, 50, 30]\n",
      "erro médio absoluto:  7.5\n",
      "erro médio absoluto:  7.5\n",
      "MSE:  125.0\n",
      "MSE:  125.0\n",
      "RMSE:  11.180339887498949\n",
      "RMSE:  11.180339887498949\n"
     ]
    }
   ],
   "source": [
    "# codigos consultados de \n",
    "# https://github.com/WalnerPessoa/Medical-Cost-Personal/blob/master/Aula%205%20-%20Regress%C3%A3o%20linear%20para%20prever%20as%20despesas%20m%C3%A9dicas%20de%20um%20paciente%20.ipynb\n",
    "\n",
    "\n",
    "# calculando a media de um exemplo\n",
    "# Definindo os valores de resposta verdadeiros e preditos\n",
    "true = [100,50,30,30]\n",
    "pred = [90,50,50,30]\n",
    "print(\"dados verdadeiros: \",true)\n",
    "print(\"dados inferidos:\", pred)\n",
    "# Calculando erro médio absoluto na mão\n",
    "print('erro médio absoluto: ',(10+0+20+0)/4)\n",
    "# Calculando erro médio absoluto utilizando scikit-learn\n",
    "from sklearn import metrics\n",
    "print('erro médio absoluto: ',metrics.mean_absolute_error(true,pred)) \n",
    "\n",
    "#Calculando MSE na mão\n",
    "print('MSE: ',(10**2+0+20**2+0)/4)\n",
    "# Calculando MSE utilizando scikit-learn\n",
    "print('MSE: ',metrics.mean_squared_error(true,pred))\n",
    "\n",
    "# Calculando RMSE na mão\n",
    "print('RMSE: ',np.sqrt((10**2+0+20**2+0)/4))\n",
    "# Calculando RMSE utilizando scikit-learn\n",
    "print('RMSE: ',np.sqrt(metrics.mean_squared_error(true,pred)))"
   ]
  }
 ],
 "metadata": {
  "kernelspec": {
   "display_name": "Python 3",
   "language": "python",
   "name": "python3"
  },
  "language_info": {
   "codemirror_mode": {
    "name": "ipython",
    "version": 3
   },
   "file_extension": ".py",
   "mimetype": "text/x-python",
   "name": "python",
   "nbconvert_exporter": "python",
   "pygments_lexer": "ipython3",
   "version": "3.8.5"
  }
 },
 "nbformat": 4,
 "nbformat_minor": 4
}
