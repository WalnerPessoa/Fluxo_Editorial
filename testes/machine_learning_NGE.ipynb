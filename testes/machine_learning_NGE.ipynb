{
 "cells": [
  {
   "cell_type": "code",
   "execution_count": 3,
   "metadata": {},
   "outputs": [],
   "source": [
    "import pandas as pd\n",
    "import numpy as np\n",
    "from sklearn.model_selection import RepeatedKFold\n",
    "from sklearn.model_selection import train_test_split\n",
    "\n",
    "#Importando o modelo machine learnig\n",
    "from sklearn.linear_model import LinearRegression\n",
    "from sklearn.ensemble import RandomForestClassifier\n",
    "from sklearn import metrics\n"
   ]
  },
  {
   "cell_type": "code",
   "execution_count": 4,
   "metadata": {},
   "outputs": [],
   "source": [
    "# importar csv\n",
    "data = pd.read_csv(\"nge_dados_input.csv\")\n",
    "data_semNF = pd.read_csv(\"nge_dados_input_semNF.csv\")"
   ]
  },
  {
   "cell_type": "code",
   "execution_count": 5,
   "metadata": {
    "scrolled": true
   },
   "outputs": [
    {
     "data": {
      "text/html": [
       "<div>\n",
       "<style scoped>\n",
       "    .dataframe tbody tr th:only-of-type {\n",
       "        vertical-align: middle;\n",
       "    }\n",
       "\n",
       "    .dataframe tbody tr th {\n",
       "        vertical-align: top;\n",
       "    }\n",
       "\n",
       "    .dataframe thead th {\n",
       "        text-align: right;\n",
       "    }\n",
       "</style>\n",
       "<table border=\"1\" class=\"dataframe\">\n",
       "  <thead>\n",
       "    <tr style=\"text-align: right;\">\n",
       "      <th></th>\n",
       "      <th>id</th>\n",
       "      <th>entidade</th>\n",
       "      <th>fornecedor</th>\n",
       "      <th>complexidade</th>\n",
       "      <th>stat_pagto</th>\n",
       "      <th>qtd_pag_word</th>\n",
       "      <th>qtd_pag_estimado</th>\n",
       "      <th>qtd_carc</th>\n",
       "      <th>qtd_tabela</th>\n",
       "      <th>qtd_image</th>\n",
       "      <th>qtd_estilos</th>\n",
       "      <th>pag_final</th>\n",
       "    </tr>\n",
       "  </thead>\n",
       "  <tbody>\n",
       "    <tr>\n",
       "      <th>0</th>\n",
       "      <td>224323</td>\n",
       "      <td>0</td>\n",
       "      <td>0</td>\n",
       "      <td>1</td>\n",
       "      <td>0</td>\n",
       "      <td>87</td>\n",
       "      <td>140.0</td>\n",
       "      <td>116142</td>\n",
       "      <td>470</td>\n",
       "      <td>685</td>\n",
       "      <td>60.0</td>\n",
       "      <td>140</td>\n",
       "    </tr>\n",
       "    <tr>\n",
       "      <th>1</th>\n",
       "      <td>224325</td>\n",
       "      <td>0</td>\n",
       "      <td>0</td>\n",
       "      <td>1</td>\n",
       "      <td>0</td>\n",
       "      <td>82</td>\n",
       "      <td>122.0</td>\n",
       "      <td>108307</td>\n",
       "      <td>76</td>\n",
       "      <td>94</td>\n",
       "      <td>69.0</td>\n",
       "      <td>122</td>\n",
       "    </tr>\n",
       "    <tr>\n",
       "      <th>2</th>\n",
       "      <td>225392</td>\n",
       "      <td>0</td>\n",
       "      <td>0</td>\n",
       "      <td>3</td>\n",
       "      <td>0</td>\n",
       "      <td>41</td>\n",
       "      <td>70.0</td>\n",
       "      <td>41144</td>\n",
       "      <td>28</td>\n",
       "      <td>24</td>\n",
       "      <td>23.0</td>\n",
       "      <td>52</td>\n",
       "    </tr>\n",
       "    <tr>\n",
       "      <th>3</th>\n",
       "      <td>225392</td>\n",
       "      <td>0</td>\n",
       "      <td>0</td>\n",
       "      <td>3</td>\n",
       "      <td>0</td>\n",
       "      <td>41</td>\n",
       "      <td>70.0</td>\n",
       "      <td>62913</td>\n",
       "      <td>397</td>\n",
       "      <td>639</td>\n",
       "      <td>21.0</td>\n",
       "      <td>52</td>\n",
       "    </tr>\n",
       "    <tr>\n",
       "      <th>4</th>\n",
       "      <td>225531</td>\n",
       "      <td>0</td>\n",
       "      <td>0</td>\n",
       "      <td>2</td>\n",
       "      <td>0</td>\n",
       "      <td>36</td>\n",
       "      <td>48.0</td>\n",
       "      <td>37548</td>\n",
       "      <td>233</td>\n",
       "      <td>397</td>\n",
       "      <td>17.0</td>\n",
       "      <td>48</td>\n",
       "    </tr>\n",
       "  </tbody>\n",
       "</table>\n",
       "</div>"
      ],
      "text/plain": [
       "       id  entidade  fornecedor  complexidade  stat_pagto  qtd_pag_word  \\\n",
       "0  224323         0           0             1           0            87   \n",
       "1  224325         0           0             1           0            82   \n",
       "2  225392         0           0             3           0            41   \n",
       "3  225392         0           0             3           0            41   \n",
       "4  225531         0           0             2           0            36   \n",
       "\n",
       "   qtd_pag_estimado  qtd_carc  qtd_tabela  qtd_image  qtd_estilos  pag_final  \n",
       "0             140.0    116142         470        685         60.0        140  \n",
       "1             122.0    108307          76         94         69.0        122  \n",
       "2              70.0     41144          28         24         23.0         52  \n",
       "3              70.0     62913         397        639         21.0         52  \n",
       "4              48.0     37548         233        397         17.0         48  "
      ]
     },
     "execution_count": 5,
     "metadata": {},
     "output_type": "execute_result"
    }
   ],
   "source": [
    "data.head()"
   ]
  },
  {
   "cell_type": "code",
   "execution_count": 64,
   "metadata": {},
   "outputs": [
    {
     "data": {
      "text/plain": [
       "id                  108\n",
       "entidade            108\n",
       "fornecedor          108\n",
       "complexidade        108\n",
       "stat_pagto          108\n",
       "qtd_pag_word        108\n",
       "qtd_pag_estimado    108\n",
       "qtd_carc            108\n",
       "qtd_tabela          108\n",
       "qtd_image           108\n",
       "qtd_estilos         108\n",
       "pag_final           108\n",
       "qtd_carc_normal     108\n",
       "dtype: int64"
      ]
     },
     "execution_count": 64,
     "metadata": {},
     "output_type": "execute_result"
    }
   ],
   "source": [
    "data.count()"
   ]
  },
  {
   "cell_type": "code",
   "execution_count": 6,
   "metadata": {},
   "outputs": [],
   "source": [
    "#\n",
    "# normalizar a quantidade de caracteres\n",
    "#\n",
    "data.loc[:,'qtd_carc_normal'] = pd.Series((data.qtd_carc-data.qtd_carc.min())/(data.qtd_carc.max()-data.qtd_carc.min()))"
   ]
  },
  {
   "cell_type": "code",
   "execution_count": 7,
   "metadata": {},
   "outputs": [],
   "source": [
    "#\n",
    "# normalizar a quantidade de caracteres\n",
    "#\n",
    "\n",
    "# X[\"qtd_carc_normal\"]=(X.qtd_carc-X.qtd_carc.min())/(X.qtd_carc.max()-X.qtd_carc.min())"
   ]
  },
  {
   "cell_type": "code",
   "execution_count": 8,
   "metadata": {
    "scrolled": true
   },
   "outputs": [
    {
     "data": {
      "text/plain": [
       "id                    int64\n",
       "entidade              int64\n",
       "fornecedor            int64\n",
       "complexidade          int64\n",
       "stat_pagto            int64\n",
       "qtd_pag_word          int64\n",
       "qtd_pag_estimado    float64\n",
       "qtd_carc              int64\n",
       "qtd_tabela            int64\n",
       "qtd_image             int64\n",
       "qtd_estilos         float64\n",
       "pag_final             int64\n",
       "qtd_carc_normal     float64\n",
       "dtype: object"
      ]
     },
     "execution_count": 8,
     "metadata": {},
     "output_type": "execute_result"
    }
   ],
   "source": [
    "data.dtypes\n",
    "# baixa complexidade ==> 48 páginas \n",
    "# media complexidade ==> 49/64 páginas\n",
    "# alta complexidade  ==> 65 acima"
   ]
  },
  {
   "cell_type": "code",
   "execution_count": 9,
   "metadata": {},
   "outputs": [
    {
     "data": {
      "text/html": [
       "<div>\n",
       "<style scoped>\n",
       "    .dataframe tbody tr th:only-of-type {\n",
       "        vertical-align: middle;\n",
       "    }\n",
       "\n",
       "    .dataframe tbody tr th {\n",
       "        vertical-align: top;\n",
       "    }\n",
       "\n",
       "    .dataframe thead th {\n",
       "        text-align: right;\n",
       "    }\n",
       "</style>\n",
       "<table border=\"1\" class=\"dataframe\">\n",
       "  <thead>\n",
       "    <tr style=\"text-align: right;\">\n",
       "      <th></th>\n",
       "      <th>id</th>\n",
       "      <th>entidade</th>\n",
       "      <th>fornecedor</th>\n",
       "      <th>complexidade</th>\n",
       "      <th>stat_pagto</th>\n",
       "      <th>qtd_pag_word</th>\n",
       "      <th>qtd_pag_estimado</th>\n",
       "      <th>qtd_carc</th>\n",
       "      <th>qtd_tabela</th>\n",
       "      <th>qtd_image</th>\n",
       "      <th>qtd_estilos</th>\n",
       "      <th>pag_final</th>\n",
       "      <th>qtd_carc_normal</th>\n",
       "    </tr>\n",
       "  </thead>\n",
       "  <tbody>\n",
       "    <tr>\n",
       "      <th>count</th>\n",
       "      <td>108.000000</td>\n",
       "      <td>108.000000</td>\n",
       "      <td>108.000000</td>\n",
       "      <td>108.000000</td>\n",
       "      <td>108.0</td>\n",
       "      <td>108.000000</td>\n",
       "      <td>108.000000</td>\n",
       "      <td>108.000000</td>\n",
       "      <td>108.000000</td>\n",
       "      <td>108.000000</td>\n",
       "      <td>108.000000</td>\n",
       "      <td>108.000000</td>\n",
       "      <td>108.000000</td>\n",
       "    </tr>\n",
       "    <tr>\n",
       "      <th>mean</th>\n",
       "      <td>230475.212963</td>\n",
       "      <td>0.268519</td>\n",
       "      <td>0.064815</td>\n",
       "      <td>1.444444</td>\n",
       "      <td>0.0</td>\n",
       "      <td>60.916667</td>\n",
       "      <td>93.759259</td>\n",
       "      <td>77540.694444</td>\n",
       "      <td>257.916667</td>\n",
       "      <td>340.768519</td>\n",
       "      <td>25.314815</td>\n",
       "      <td>78.518519</td>\n",
       "      <td>0.135330</td>\n",
       "    </tr>\n",
       "    <tr>\n",
       "      <th>std</th>\n",
       "      <td>22559.684178</td>\n",
       "      <td>0.573666</td>\n",
       "      <td>0.247347</td>\n",
       "      <td>0.631470</td>\n",
       "      <td>0.0</td>\n",
       "      <td>61.165644</td>\n",
       "      <td>68.238021</td>\n",
       "      <td>86924.309341</td>\n",
       "      <td>153.689098</td>\n",
       "      <td>203.278714</td>\n",
       "      <td>14.175567</td>\n",
       "      <td>61.064924</td>\n",
       "      <td>0.152117</td>\n",
       "    </tr>\n",
       "    <tr>\n",
       "      <th>min</th>\n",
       "      <td>3.000000</td>\n",
       "      <td>0.000000</td>\n",
       "      <td>0.000000</td>\n",
       "      <td>0.000000</td>\n",
       "      <td>0.0</td>\n",
       "      <td>12.000000</td>\n",
       "      <td>18.000000</td>\n",
       "      <td>209.000000</td>\n",
       "      <td>2.000000</td>\n",
       "      <td>2.000000</td>\n",
       "      <td>1.000000</td>\n",
       "      <td>18.000000</td>\n",
       "      <td>0.000000</td>\n",
       "    </tr>\n",
       "    <tr>\n",
       "      <th>25%</th>\n",
       "      <td>231018.250000</td>\n",
       "      <td>0.000000</td>\n",
       "      <td>0.000000</td>\n",
       "      <td>1.000000</td>\n",
       "      <td>0.0</td>\n",
       "      <td>31.750000</td>\n",
       "      <td>48.000000</td>\n",
       "      <td>29249.000000</td>\n",
       "      <td>127.500000</td>\n",
       "      <td>169.250000</td>\n",
       "      <td>17.750000</td>\n",
       "      <td>44.000000</td>\n",
       "      <td>0.050820</td>\n",
       "    </tr>\n",
       "    <tr>\n",
       "      <th>50%</th>\n",
       "      <td>233439.500000</td>\n",
       "      <td>0.000000</td>\n",
       "      <td>0.000000</td>\n",
       "      <td>1.000000</td>\n",
       "      <td>0.0</td>\n",
       "      <td>46.000000</td>\n",
       "      <td>75.000000</td>\n",
       "      <td>54855.000000</td>\n",
       "      <td>279.000000</td>\n",
       "      <td>337.500000</td>\n",
       "      <td>23.000000</td>\n",
       "      <td>68.000000</td>\n",
       "      <td>0.095630</td>\n",
       "    </tr>\n",
       "    <tr>\n",
       "      <th>75%</th>\n",
       "      <td>235307.000000</td>\n",
       "      <td>0.000000</td>\n",
       "      <td>0.000000</td>\n",
       "      <td>2.000000</td>\n",
       "      <td>0.0</td>\n",
       "      <td>73.750000</td>\n",
       "      <td>110.000000</td>\n",
       "      <td>98649.000000</td>\n",
       "      <td>387.500000</td>\n",
       "      <td>447.250000</td>\n",
       "      <td>28.250000</td>\n",
       "      <td>89.000000</td>\n",
       "      <td>0.172269</td>\n",
       "    </tr>\n",
       "    <tr>\n",
       "      <th>max</th>\n",
       "      <td>235831.000000</td>\n",
       "      <td>2.000000</td>\n",
       "      <td>1.000000</td>\n",
       "      <td>3.000000</td>\n",
       "      <td>0.0</td>\n",
       "      <td>543.000000</td>\n",
       "      <td>420.000000</td>\n",
       "      <td>571640.000000</td>\n",
       "      <td>526.000000</td>\n",
       "      <td>792.000000</td>\n",
       "      <td>71.000000</td>\n",
       "      <td>386.000000</td>\n",
       "      <td>1.000000</td>\n",
       "    </tr>\n",
       "  </tbody>\n",
       "</table>\n",
       "</div>"
      ],
      "text/plain": [
       "                  id    entidade  fornecedor  complexidade  stat_pagto  \\\n",
       "count     108.000000  108.000000  108.000000    108.000000       108.0   \n",
       "mean   230475.212963    0.268519    0.064815      1.444444         0.0   \n",
       "std     22559.684178    0.573666    0.247347      0.631470         0.0   \n",
       "min         3.000000    0.000000    0.000000      0.000000         0.0   \n",
       "25%    231018.250000    0.000000    0.000000      1.000000         0.0   \n",
       "50%    233439.500000    0.000000    0.000000      1.000000         0.0   \n",
       "75%    235307.000000    0.000000    0.000000      2.000000         0.0   \n",
       "max    235831.000000    2.000000    1.000000      3.000000         0.0   \n",
       "\n",
       "       qtd_pag_word  qtd_pag_estimado       qtd_carc  qtd_tabela   qtd_image  \\\n",
       "count    108.000000        108.000000     108.000000  108.000000  108.000000   \n",
       "mean      60.916667         93.759259   77540.694444  257.916667  340.768519   \n",
       "std       61.165644         68.238021   86924.309341  153.689098  203.278714   \n",
       "min       12.000000         18.000000     209.000000    2.000000    2.000000   \n",
       "25%       31.750000         48.000000   29249.000000  127.500000  169.250000   \n",
       "50%       46.000000         75.000000   54855.000000  279.000000  337.500000   \n",
       "75%       73.750000        110.000000   98649.000000  387.500000  447.250000   \n",
       "max      543.000000        420.000000  571640.000000  526.000000  792.000000   \n",
       "\n",
       "       qtd_estilos   pag_final  qtd_carc_normal  \n",
       "count   108.000000  108.000000       108.000000  \n",
       "mean     25.314815   78.518519         0.135330  \n",
       "std      14.175567   61.064924         0.152117  \n",
       "min       1.000000   18.000000         0.000000  \n",
       "25%      17.750000   44.000000         0.050820  \n",
       "50%      23.000000   68.000000         0.095630  \n",
       "75%      28.250000   89.000000         0.172269  \n",
       "max      71.000000  386.000000         1.000000  "
      ]
     },
     "execution_count": 9,
     "metadata": {},
     "output_type": "execute_result"
    }
   ],
   "source": [
    "data.describe()"
   ]
  },
  {
   "cell_type": "code",
   "execution_count": 10,
   "metadata": {},
   "outputs": [
    {
     "data": {
      "text/plain": [
       "Index(['id', 'entidade', 'fornecedor', 'complexidade', 'stat_pagto',\n",
       "       'qtd_pag_word', 'qtd_pag_estimado', 'qtd_carc', 'qtd_tabela',\n",
       "       'qtd_image', 'qtd_estilos', 'pag_final', 'qtd_carc_normal'],\n",
       "      dtype='object')"
      ]
     },
     "execution_count": 10,
     "metadata": {},
     "output_type": "execute_result"
    }
   ],
   "source": [
    "data.columns"
   ]
  },
  {
   "cell_type": "code",
   "execution_count": 69,
   "metadata": {},
   "outputs": [],
   "source": [
    "# prepara dados de entrada X e dados de saida Y\n",
    "#colunas_X= ['entidade', 'fornecedor', 'complexidade', 'stat_pagto','qtd_pag_word', 'qtd_carc', 'qtd_tabela','qtd_image']\n",
    "\n",
    "#colunas_X= ['complexidade', 'qtd_pag_word', 'qtd_carc','qtd_tabela','qtd_image']\n",
    "#colunas_X= ['complexidade', 'qtd_pag_word', 'qtd_pag_estimado','qtd_carc','qtd_tabela','qtd_image']\n",
    "\n",
    "#colunas_X= ['complexidade', 'qtd_pag_word', 'qtd_carc','qtd_tabela','qtd_image',\"qtd_estilos\",'qtd_carc_normal']\n",
    "colunas_X= ['qtd_pag_word', 'qtd_carc','qtd_tabela','qtd_image']\n",
    "\n",
    "\n",
    "colunas_y=['pag_final']\n",
    "#colunas_y=['id',  'pag_final']\n",
    "\n",
    "X = data[colunas_X]\n",
    "y = data[colunas_y]"
   ]
  },
  {
   "cell_type": "code",
   "execution_count": 66,
   "metadata": {},
   "outputs": [
    {
     "data": {
      "text/html": [
       "<div>\n",
       "<style scoped>\n",
       "    .dataframe tbody tr th:only-of-type {\n",
       "        vertical-align: middle;\n",
       "    }\n",
       "\n",
       "    .dataframe tbody tr th {\n",
       "        vertical-align: top;\n",
       "    }\n",
       "\n",
       "    .dataframe thead th {\n",
       "        text-align: right;\n",
       "    }\n",
       "</style>\n",
       "<table border=\"1\" class=\"dataframe\">\n",
       "  <thead>\n",
       "    <tr style=\"text-align: right;\">\n",
       "      <th></th>\n",
       "      <th>complexidade</th>\n",
       "      <th>qtd_pag_word</th>\n",
       "      <th>qtd_carc</th>\n",
       "      <th>qtd_tabela</th>\n",
       "      <th>qtd_image</th>\n",
       "    </tr>\n",
       "  </thead>\n",
       "  <tbody>\n",
       "    <tr>\n",
       "      <th>103</th>\n",
       "      <td>1</td>\n",
       "      <td>56</td>\n",
       "      <td>51127</td>\n",
       "      <td>356</td>\n",
       "      <td>365</td>\n",
       "    </tr>\n",
       "    <tr>\n",
       "      <th>104</th>\n",
       "      <td>2</td>\n",
       "      <td>38</td>\n",
       "      <td>40157</td>\n",
       "      <td>339</td>\n",
       "      <td>325</td>\n",
       "    </tr>\n",
       "    <tr>\n",
       "      <th>105</th>\n",
       "      <td>2</td>\n",
       "      <td>33</td>\n",
       "      <td>42499</td>\n",
       "      <td>293</td>\n",
       "      <td>303</td>\n",
       "    </tr>\n",
       "    <tr>\n",
       "      <th>106</th>\n",
       "      <td>2</td>\n",
       "      <td>33</td>\n",
       "      <td>28573</td>\n",
       "      <td>413</td>\n",
       "      <td>391</td>\n",
       "    </tr>\n",
       "    <tr>\n",
       "      <th>107</th>\n",
       "      <td>2</td>\n",
       "      <td>12</td>\n",
       "      <td>940</td>\n",
       "      <td>432</td>\n",
       "      <td>415</td>\n",
       "    </tr>\n",
       "  </tbody>\n",
       "</table>\n",
       "</div>"
      ],
      "text/plain": [
       "     complexidade  qtd_pag_word  qtd_carc  qtd_tabela  qtd_image\n",
       "103             1            56     51127         356        365\n",
       "104             2            38     40157         339        325\n",
       "105             2            33     42499         293        303\n",
       "106             2            33     28573         413        391\n",
       "107             2            12       940         432        415"
      ]
     },
     "execution_count": 66,
     "metadata": {},
     "output_type": "execute_result"
    }
   ],
   "source": [
    "X.tail()"
   ]
  },
  {
   "cell_type": "code",
   "execution_count": 68,
   "metadata": {},
   "outputs": [
    {
     "data": {
      "text/html": [
       "<div>\n",
       "<style scoped>\n",
       "    .dataframe tbody tr th:only-of-type {\n",
       "        vertical-align: middle;\n",
       "    }\n",
       "\n",
       "    .dataframe tbody tr th {\n",
       "        vertical-align: top;\n",
       "    }\n",
       "\n",
       "    .dataframe thead th {\n",
       "        text-align: right;\n",
       "    }\n",
       "</style>\n",
       "<table border=\"1\" class=\"dataframe\">\n",
       "  <thead>\n",
       "    <tr style=\"text-align: right;\">\n",
       "      <th></th>\n",
       "      <th>pag_final</th>\n",
       "    </tr>\n",
       "  </thead>\n",
       "  <tbody>\n",
       "    <tr>\n",
       "      <th>0</th>\n",
       "      <td>140</td>\n",
       "    </tr>\n",
       "    <tr>\n",
       "      <th>1</th>\n",
       "      <td>122</td>\n",
       "    </tr>\n",
       "    <tr>\n",
       "      <th>2</th>\n",
       "      <td>52</td>\n",
       "    </tr>\n",
       "    <tr>\n",
       "      <th>3</th>\n",
       "      <td>52</td>\n",
       "    </tr>\n",
       "    <tr>\n",
       "      <th>4</th>\n",
       "      <td>48</td>\n",
       "    </tr>\n",
       "  </tbody>\n",
       "</table>\n",
       "</div>"
      ],
      "text/plain": [
       "   pag_final\n",
       "0        140\n",
       "1        122\n",
       "2         52\n",
       "3         52\n",
       "4         48"
      ]
     },
     "execution_count": 68,
     "metadata": {},
     "output_type": "execute_result"
    }
   ],
   "source": [
    "y.head()"
   ]
  },
  {
   "cell_type": "markdown",
   "metadata": {},
   "source": [
    "# Normalizar?"
   ]
  },
  {
   "cell_type": "code",
   "execution_count": 16,
   "metadata": {},
   "outputs": [],
   "source": [
    "# padronização/escalonamento dos dados.\n",
    "#\n",
    "# Escalas Diferentes Podem Ser um Problema? Normalizar?\n",
    "# https://www.linkedin.com/pulse/pr%C3%A9-processamento-de-dados-intui%C3%A7%C3%A3o-e-pr%C3%A1tica-em-lucas-thiago-zane/\n",
    "# https://medium.com/tentando-ser-um-unic%C3%B3rnio/porqu%C3%AA-e-quando-%C3%A9-necess%C3%A1rio-normalizar-os-dados-92e5cce445aa\n",
    "#\n",
    "#"
   ]
  },
  {
   "cell_type": "code",
   "execution_count": 17,
   "metadata": {},
   "outputs": [],
   "source": [
    "# O objetivo da normalização é alterar os valores das colunas numéricas no conjunto de dados para uma escala comum,\n",
    "# sem distorcer as diferenças nos intervalos de valores.\n",
    "# Esse método é necessário apenas quando os parâmetros tiverem intervalos muito diferentes."
   ]
  },
  {
   "cell_type": "code",
   "execution_count": 18,
   "metadata": {},
   "outputs": [],
   "source": [
    "# a normalização não é necessária para a Regressão Logística.\n",
    "# a normalização poderá fazer sentido no tratamento de outliers.\n",
    "# Deixar variáveis com escalas similares é algo importante em algoritmos que trabalham com distâncias euclidianas,\n",
    "# como é o caso das regressões lineares multivariadas.\n",
    "# random florest não envolvem o uso de distâncias euclidianas."
   ]
  },
  {
   "attachments": {
    "image.png": {
     "image/png": "[encoded data removed]"
    }
   },
   "cell_type": "markdown",
   "metadata": {},
   "source": [
    "![image.png](attachment:image.png)"
   ]
  },
  {
   "cell_type": "code",
   "execution_count": 19,
   "metadata": {},
   "outputs": [],
   "source": [
    "# O que essa fórmula está dizendo é que pra cada observação em ambas as variáveis,\n",
    "# eu respondo a seguinte pergunta:quantos desvios padrões esse valor está longe da média? "
   ]
  },
  {
   "cell_type": "code",
   "execution_count": 20,
   "metadata": {},
   "outputs": [],
   "source": [
    "# “E se eu quiser modelar um classificador usando Regressão Logística, eu precisaria normalizar meus dados?”\n",
    "# Tecnicamente falando, a normalização não é necessária para a Regressão Logística, \n",
    "# pois ela trata com probabilidades relacionadas as classes envolvidas, \n",
    "# se preocupa em desenhar um “fronteira” de decisão em torno de um limiar (o famoso threshold).\n",
    "# Deixar variáveis com escalas similares é algo importante em algoritmos que trabalham com distâncias euclidianas, \n",
    "# como é o caso das regressões lineares multivariadas. "
   ]
  },
  {
   "cell_type": "code",
   "execution_count": 21,
   "metadata": {},
   "outputs": [],
   "source": [
    "# Os algoritmos de otimização:\n",
    "#Adaptive Gradient (AdaGrad)\n",
    "#Stochastic Gradient Descent (SGD)\n",
    "#Gradiente Descendente com Momentum (momentum)\n",
    "#Adaptative Delta Learning (adadelta)\n",
    "#Nesterov Accelerated Gradient (nag)\n",
    "#Otimizador RMSprop (rmsprop)\n"
   ]
  },
  {
   "cell_type": "markdown",
   "metadata": {},
   "source": [
    "### normalização (StandardScaler)\n",
    "\n",
    "from sklearn.preprocessing import StandardScaler\n",
    "\n",
    "- sc_X = StandardScaler()\n",
    "- X_train = sc_X.fit_transform(X_train)\n",
    "- X_test = sc_X.transform(X_test)\n",
    "\n",
    "- sc_y = StandardScaler()\n",
    "- y_train = sc_y.fit_transform(y_train)"
   ]
  },
  {
   "cell_type": "markdown",
   "metadata": {},
   "source": [
    "#### Uma maneira fácil de usar o Pandas : (aqui eu quero usar a normalização média)\n",
    "\n",
    "- normalized_df=(df-df.mean())/df.std()\n",
    "#### para usar a normalização min-max:\n",
    "\n",
    "- normalized_df=(df-df.min())/(df.max()-df.min())"
   ]
  },
  {
   "cell_type": "markdown",
   "metadata": {},
   "source": [
    "#### Você pode usar o pacote sklearn e seus utilitários de pré-processamento associados para normalizar os dados.\n",
    "\n",
    "- import pandas as pd\n",
    "- from sklearn import preprocessing\n",
    "\n",
    "- x = df.values #returns a numpy array\n",
    "- min_max_scaler = preprocessing.MinMaxScaler()\n",
    "- x_scaled = min_max_scaler.fit_transform(x)\n",
    "- df = pd.DataFrame(x_scaled)"
   ]
  },
  {
   "cell_type": "code",
   "execution_count": 22,
   "metadata": {},
   "outputs": [],
   "source": [
    "#########################################################\n",
    "# INÍCIO DA PARTE DE MACHINE LEARNIG  \\\n",
    "# RANDOM FOREST\n",
    "########################################################"
   ]
  },
  {
   "cell_type": "code",
   "execution_count": 23,
   "metadata": {},
   "outputs": [],
   "source": [
    "# instalar biblioteca scikit-learn\n",
    "#! pip install -U scikit-learn"
   ]
  },
  {
   "cell_type": "code",
   "execution_count": 70,
   "metadata": {},
   "outputs": [],
   "source": [
    "#colunas_X= ['qtd_pag_word', 'qtd_carc','qtd_tabela','qtd_image',\"qtd_estilos\"]\n",
    "#colunas_X= ['qtd_pag_word', 'qtd_tabela','qtd_image',\"qtd_estilos\", 'qtd_carc_normal']\n",
    "#colunas_X= ['qtd_pag_word', 'qtd_tabela','qtd_image','qtd_carc_normal']\n",
    "colunas_X= ['qtd_pag_word', 'qtd_carc','qtd_tabela','qtd_image']\n",
    "\n",
    "\n",
    "colunas_y=['pag_final']\n",
    "X = data[colunas_X]\n",
    "y = data[colunas_y]"
   ]
  },
  {
   "cell_type": "code",
   "execution_count": 71,
   "metadata": {},
   "outputs": [],
   "source": [
    "# método train_test_split, Scikit-Learn \n",
    "X_train, X_test, y_train, y_test = train_test_split(X, y, test_size=0.10, random_state=42)"
   ]
  },
  {
   "cell_type": "code",
   "execution_count": 72,
   "metadata": {},
   "outputs": [
    {
     "data": {
      "text/plain": [
       "((97, 4), (11, 4), (97, 1), (11, 1))"
      ]
     },
     "execution_count": 72,
     "metadata": {},
     "output_type": "execute_result"
    }
   ],
   "source": [
    "X_train.shape, X_test.shape, y_train.shape, y_test.shape"
   ]
  },
  {
   "cell_type": "code",
   "execution_count": 73,
   "metadata": {},
   "outputs": [
    {
     "data": {
      "text/html": [
       "<div>\n",
       "<style scoped>\n",
       "    .dataframe tbody tr th:only-of-type {\n",
       "        vertical-align: middle;\n",
       "    }\n",
       "\n",
       "    .dataframe tbody tr th {\n",
       "        vertical-align: top;\n",
       "    }\n",
       "\n",
       "    .dataframe thead th {\n",
       "        text-align: right;\n",
       "    }\n",
       "</style>\n",
       "<table border=\"1\" class=\"dataframe\">\n",
       "  <thead>\n",
       "    <tr style=\"text-align: right;\">\n",
       "      <th></th>\n",
       "      <th>pag_final</th>\n",
       "    </tr>\n",
       "  </thead>\n",
       "  <tbody>\n",
       "    <tr>\n",
       "      <th>77</th>\n",
       "      <td>108</td>\n",
       "    </tr>\n",
       "    <tr>\n",
       "      <th>10</th>\n",
       "      <td>40</td>\n",
       "    </tr>\n",
       "    <tr>\n",
       "      <th>4</th>\n",
       "      <td>48</td>\n",
       "    </tr>\n",
       "    <tr>\n",
       "      <th>83</th>\n",
       "      <td>54</td>\n",
       "    </tr>\n",
       "    <tr>\n",
       "      <th>62</th>\n",
       "      <td>46</td>\n",
       "    </tr>\n",
       "  </tbody>\n",
       "</table>\n",
       "</div>"
      ],
      "text/plain": [
       "    pag_final\n",
       "77        108\n",
       "10         40\n",
       "4          48\n",
       "83         54\n",
       "62         46"
      ]
     },
     "execution_count": 73,
     "metadata": {},
     "output_type": "execute_result"
    }
   ],
   "source": [
    "y_test.head()"
   ]
  },
  {
   "cell_type": "code",
   "execution_count": null,
   "metadata": {},
   "outputs": [],
   "source": []
  },
  {
   "cell_type": "code",
   "execution_count": 74,
   "metadata": {},
   "outputs": [
    {
     "name": "stderr",
     "output_type": "stream",
     "text": [
      "<ipython-input-74-957cc5138365>:2: DataConversionWarning: A column-vector y was passed when a 1d array was expected. Please change the shape of y to (n_samples,), for example using ravel().\n",
      "  modelo.fit(X_train, y_train)\n"
     ]
    },
    {
     "data": {
      "text/plain": [
       "RandomForestClassifier(n_jobs=-1, random_state=0)"
      ]
     },
     "execution_count": 74,
     "metadata": {},
     "output_type": "execute_result"
    }
   ],
   "source": [
    "modelo = RandomForestClassifier(n_estimators=100, n_jobs=-1, random_state=0)\n",
    "modelo.fit(X_train, y_train)"
   ]
  },
  {
   "cell_type": "code",
   "execution_count": 75,
   "metadata": {},
   "outputs": [],
   "source": [
    "p = modelo.predict(X_test)"
   ]
  },
  {
   "cell_type": "code",
   "execution_count": 76,
   "metadata": {},
   "outputs": [
    {
     "data": {
      "text/plain": [
       "array([ 86,  48,  48,  52,  38, 110, 140, 120,  40,  48, 110])"
      ]
     },
     "execution_count": 76,
     "metadata": {},
     "output_type": "execute_result"
    }
   ],
   "source": [
    "p"
   ]
  },
  {
   "cell_type": "code",
   "execution_count": 77,
   "metadata": {},
   "outputs": [
    {
     "name": "stdout",
     "output_type": "stream",
     "text": [
      "(11,) (11, 1)\n"
     ]
    }
   ],
   "source": [
    "print(p.shape,y_test.shape)"
   ]
  },
  {
   "cell_type": "code",
   "execution_count": 78,
   "metadata": {},
   "outputs": [
    {
     "data": {
      "text/html": [
       "<div>\n",
       "<style scoped>\n",
       "    .dataframe tbody tr th:only-of-type {\n",
       "        vertical-align: middle;\n",
       "    }\n",
       "\n",
       "    .dataframe tbody tr th {\n",
       "        vertical-align: top;\n",
       "    }\n",
       "\n",
       "    .dataframe thead th {\n",
       "        text-align: right;\n",
       "    }\n",
       "</style>\n",
       "<table border=\"1\" class=\"dataframe\">\n",
       "  <thead>\n",
       "    <tr style=\"text-align: right;\">\n",
       "      <th></th>\n",
       "      <th>pag_final</th>\n",
       "    </tr>\n",
       "  </thead>\n",
       "  <tbody>\n",
       "    <tr>\n",
       "      <th>77</th>\n",
       "      <td>108</td>\n",
       "    </tr>\n",
       "    <tr>\n",
       "      <th>10</th>\n",
       "      <td>40</td>\n",
       "    </tr>\n",
       "    <tr>\n",
       "      <th>4</th>\n",
       "      <td>48</td>\n",
       "    </tr>\n",
       "    <tr>\n",
       "      <th>83</th>\n",
       "      <td>54</td>\n",
       "    </tr>\n",
       "    <tr>\n",
       "      <th>62</th>\n",
       "      <td>46</td>\n",
       "    </tr>\n",
       "    <tr>\n",
       "      <th>67</th>\n",
       "      <td>176</td>\n",
       "    </tr>\n",
       "    <tr>\n",
       "      <th>30</th>\n",
       "      <td>100</td>\n",
       "    </tr>\n",
       "    <tr>\n",
       "      <th>45</th>\n",
       "      <td>76</td>\n",
       "    </tr>\n",
       "    <tr>\n",
       "      <th>95</th>\n",
       "      <td>44</td>\n",
       "    </tr>\n",
       "    <tr>\n",
       "      <th>11</th>\n",
       "      <td>46</td>\n",
       "    </tr>\n",
       "    <tr>\n",
       "      <th>81</th>\n",
       "      <td>84</td>\n",
       "    </tr>\n",
       "  </tbody>\n",
       "</table>\n",
       "</div>"
      ],
      "text/plain": [
       "    pag_final\n",
       "77        108\n",
       "10         40\n",
       "4          48\n",
       "83         54\n",
       "62         46\n",
       "67        176\n",
       "30        100\n",
       "45         76\n",
       "95         44\n",
       "11         46\n",
       "81         84"
      ]
     },
     "execution_count": 78,
     "metadata": {},
     "output_type": "execute_result"
    }
   ],
   "source": [
    "y_test"
   ]
  },
  {
   "cell_type": "code",
   "execution_count": 79,
   "metadata": {},
   "outputs": [
    {
     "name": "stdout",
     "output_type": "stream",
     "text": [
      "RMSE:  28.926238482168273\n"
     ]
    }
   ],
   "source": [
    "# Calculando RMSE utilizando scikit-learn\n",
    "print('RMSE: ',np.sqrt(metrics.mean_squared_error(y_test,p)))\n",
    "# RMSE:  78.92781512242689\n",
    "# RMSE:  78.58244078673046\n",
    "# RMSE:  19.371957239079567\n",
    "# RMSE:  53.665631459994955\n",
    "# RMSE:  26.642413213111567 sem a feature quantidade de estilo\n",
    "# RMSE:  28.926238482168273   ['qtd_pag_word', 'qtd_carc','qtd_tabela','qtd_image']\n"
   ]
  },
  {
   "cell_type": "code",
   "execution_count": 34,
   "metadata": {},
   "outputs": [],
   "source": [
    "##############################################################################################################"
   ]
  },
  {
   "cell_type": "code",
   "execution_count": 35,
   "metadata": {},
   "outputs": [],
   "source": [
    "#########################################################\n",
    "# FIM RANDOM FOREST\n",
    "########################################################"
   ]
  },
  {
   "cell_type": "code",
   "execution_count": null,
   "metadata": {},
   "outputs": [],
   "source": []
  },
  {
   "cell_type": "code",
   "execution_count": 36,
   "metadata": {},
   "outputs": [],
   "source": [
    "# https://github.com/WalnerPessoa/Medical-Cost-Personal/blob/master/Aula%205%20-%20Regress%C3%A3o%20linear%20para%20prever%20as%20despesas%20m%C3%A9dicas%20de%20um%20paciente%20.ipynb\n",
    "\n",
    "\n",
    "# Criando uma lista com os nomes dos atributos\n",
    "#feature_cols = ['age','sex','bmi','children','smoker']\n",
    "\n",
    "# Usando a lista para escolher um subconjunto do dataframe original\n",
    "#X = data[feature_cols]\n",
    "\n",
    "# Selecionando a Série no dataframe\n",
    "#y = data.charges\n",
    "\n",
    "# Dividindo entre conjunto de treinamento e teste\n",
    "#X_train, X_test, y_train, y_test = train_test_split(X, y, random_state=1)\n",
    "\n",
    "# Ajsutando o modelo (Aprendendo os coeficientes)\n",
    "#linreg.fit(X_train, y_train)\n",
    "\n",
    "# Fazendo predições no conjunto de teste\n",
    "#y_pred = linreg.predict(X_test)\n",
    "\n",
    "# Calculando RMSE para nossas predições\n",
    "#print(np.sqrt(metrics.mean_squared_error(y_test, y_pred)))"
   ]
  },
  {
   "cell_type": "code",
   "execution_count": 37,
   "metadata": {},
   "outputs": [],
   "source": [
    "##############################################################################################################"
   ]
  },
  {
   "cell_type": "code",
   "execution_count": 38,
   "metadata": {},
   "outputs": [],
   "source": [
    "#########################################################\n",
    "# INÍCIO DA PARTE DE MACHINE LEARNIG  \\\n",
    "# LINEAR REGRESSION\n",
    "########################################################"
   ]
  },
  {
   "cell_type": "code",
   "execution_count": 80,
   "metadata": {},
   "outputs": [],
   "source": [
    "# prepara dados de entrada X e dados de saida Y\n",
    "#colunas_X= ['entidade', 'fornecedor', 'complexidade', 'stat_pagto','qtd_pag_word', 'qtd_carc', 'qtd_tabela','qtd_image']\n",
    "# colunas_X= ['complexidade', 'qtd_pag_word', 'qtd_carc','qtd_tabela','qtd_image']\n",
    "#colunas_X= ['complexidade', 'qtd_pag_word', \"qtd_carc_normal\",'qtd_tabela','qtd_image']\n",
    "#colunas_X= ['complexidade', 'qtd_pag_word', 'qtd_pag_estimado','qtd_carc','qtd_tabela','qtd_image']\n",
    "#colunas_X= ['qtd_pag_word', 'qtd_carc','qtd_tabela','qtd_image',\"qtd_estilos\"]\n",
    "#colunas_X= ['qtd_pag_word', 'qtd_tabela','qtd_image',\"qtd_estilos\", 'qtd_carc_normal']\n",
    "#colunas_X= ['qtd_pag_word', 'qtd_tabela','qtd_image', 'qtd_carc_normal']\n",
    "colunas_X= ['qtd_pag_word', 'qtd_carc','qtd_tabela','qtd_image']\n",
    "\n",
    "colunas_y=['pag_final']\n",
    "X = data[colunas_X]\n",
    "y = data[colunas_y]"
   ]
  },
  {
   "cell_type": "code",
   "execution_count": 82,
   "metadata": {},
   "outputs": [],
   "source": [
    "# método train_test_split, Scikit-Learn \n",
    "X_train, X_test, y_train, y_test = train_test_split(X, y,  test_size=0.10,random_state=1)"
   ]
  },
  {
   "cell_type": "code",
   "execution_count": 83,
   "metadata": {},
   "outputs": [
    {
     "data": {
      "text/html": [
       "<div>\n",
       "<style scoped>\n",
       "    .dataframe tbody tr th:only-of-type {\n",
       "        vertical-align: middle;\n",
       "    }\n",
       "\n",
       "    .dataframe tbody tr th {\n",
       "        vertical-align: top;\n",
       "    }\n",
       "\n",
       "    .dataframe thead th {\n",
       "        text-align: right;\n",
       "    }\n",
       "</style>\n",
       "<table border=\"1\" class=\"dataframe\">\n",
       "  <thead>\n",
       "    <tr style=\"text-align: right;\">\n",
       "      <th></th>\n",
       "      <th>qtd_pag_word</th>\n",
       "      <th>qtd_carc</th>\n",
       "      <th>qtd_tabela</th>\n",
       "      <th>qtd_image</th>\n",
       "    </tr>\n",
       "  </thead>\n",
       "  <tbody>\n",
       "    <tr>\n",
       "      <th>2</th>\n",
       "      <td>41</td>\n",
       "      <td>41144</td>\n",
       "      <td>28</td>\n",
       "      <td>24</td>\n",
       "    </tr>\n",
       "    <tr>\n",
       "      <th>87</th>\n",
       "      <td>24</td>\n",
       "      <td>31123</td>\n",
       "      <td>11</td>\n",
       "      <td>12</td>\n",
       "    </tr>\n",
       "    <tr>\n",
       "      <th>102</th>\n",
       "      <td>49</td>\n",
       "      <td>56538</td>\n",
       "      <td>150</td>\n",
       "      <td>265</td>\n",
       "    </tr>\n",
       "    <tr>\n",
       "      <th>56</th>\n",
       "      <td>36</td>\n",
       "      <td>33348</td>\n",
       "      <td>207</td>\n",
       "      <td>387</td>\n",
       "    </tr>\n",
       "    <tr>\n",
       "      <th>95</th>\n",
       "      <td>32</td>\n",
       "      <td>29683</td>\n",
       "      <td>2</td>\n",
       "      <td>2</td>\n",
       "    </tr>\n",
       "    <tr>\n",
       "      <th>...</th>\n",
       "      <td>...</td>\n",
       "      <td>...</td>\n",
       "      <td>...</td>\n",
       "      <td>...</td>\n",
       "    </tr>\n",
       "    <tr>\n",
       "      <th>75</th>\n",
       "      <td>67</td>\n",
       "      <td>69135</td>\n",
       "      <td>76</td>\n",
       "      <td>147</td>\n",
       "    </tr>\n",
       "    <tr>\n",
       "      <th>9</th>\n",
       "      <td>18</td>\n",
       "      <td>145038</td>\n",
       "      <td>169</td>\n",
       "      <td>341</td>\n",
       "    </tr>\n",
       "    <tr>\n",
       "      <th>72</th>\n",
       "      <td>38</td>\n",
       "      <td>73461</td>\n",
       "      <td>140</td>\n",
       "      <td>224</td>\n",
       "    </tr>\n",
       "    <tr>\n",
       "      <th>12</th>\n",
       "      <td>57</td>\n",
       "      <td>1176</td>\n",
       "      <td>209</td>\n",
       "      <td>392</td>\n",
       "    </tr>\n",
       "    <tr>\n",
       "      <th>37</th>\n",
       "      <td>26</td>\n",
       "      <td>22578</td>\n",
       "      <td>389</td>\n",
       "      <td>629</td>\n",
       "    </tr>\n",
       "  </tbody>\n",
       "</table>\n",
       "<p>97 rows × 4 columns</p>\n",
       "</div>"
      ],
      "text/plain": [
       "     qtd_pag_word  qtd_carc  qtd_tabela  qtd_image\n",
       "2              41     41144          28         24\n",
       "87             24     31123          11         12\n",
       "102            49     56538         150        265\n",
       "56             36     33348         207        387\n",
       "95             32     29683           2          2\n",
       "..            ...       ...         ...        ...\n",
       "75             67     69135          76        147\n",
       "9              18    145038         169        341\n",
       "72             38     73461         140        224\n",
       "12             57      1176         209        392\n",
       "37             26     22578         389        629\n",
       "\n",
       "[97 rows x 4 columns]"
      ]
     },
     "execution_count": 83,
     "metadata": {},
     "output_type": "execute_result"
    }
   ],
   "source": [
    "X_train"
   ]
  },
  {
   "cell_type": "code",
   "execution_count": 84,
   "metadata": {},
   "outputs": [
    {
     "name": "stdout",
     "output_type": "stream",
     "text": [
      "[17.64803011]\n",
      "[[ 7.26208221e-01  2.58527218e-04  1.34929689e-02 -1.87755595e-02]]\n"
     ]
    }
   ],
   "source": [
    "##### machine learnig\n",
    "\n",
    "#Instanciando o estimador\n",
    "linreg = LinearRegression()\n",
    "\n",
    "#Ajustando o modelo ao conjunto de treino\n",
    "linreg.fit(X_train, y_train)\n",
    "\n",
    "#Interpretando os coeficientes do modelo\n",
    "#Visualizando a interseção e os coeficientes \n",
    "print(linreg.intercept_)\n",
    "print(linreg.coef_)\n"
   ]
  },
  {
   "cell_type": "code",
   "execution_count": 85,
   "metadata": {},
   "outputs": [
    {
     "data": {
      "text/plain": [
       "['qtd_pag_word', 'qtd_carc', 'qtd_tabela', 'qtd_image']"
      ]
     },
     "execution_count": 85,
     "metadata": {},
     "output_type": "execute_result"
    }
   ],
   "source": [
    "colunas_X"
   ]
  },
  {
   "cell_type": "code",
   "execution_count": 86,
   "metadata": {},
   "outputs": [
    {
     "data": {
      "text/plain": [
       "Index(['qtd_pag_word', 'qtd_carc', 'qtd_tabela', 'qtd_image'], dtype='object')"
      ]
     },
     "execution_count": 86,
     "metadata": {},
     "output_type": "execute_result"
    }
   ],
   "source": [
    "X_train.columns"
   ]
  },
  {
   "cell_type": "code",
   "execution_count": 87,
   "metadata": {},
   "outputs": [
    {
     "data": {
      "text/plain": [
       "[('qtd_pag_word',\n",
       "  array([ 7.26208221e-01,  2.58527218e-04,  1.34929689e-02, -1.87755595e-02]))]"
      ]
     },
     "execution_count": 87,
     "metadata": {},
     "output_type": "execute_result"
    }
   ],
   "source": [
    "#Atributos e seus coeficientes\n",
    "list(zip(colunas_X, linreg.coef_))"
   ]
  },
  {
   "cell_type": "code",
   "execution_count": 88,
   "metadata": {},
   "outputs": [],
   "source": [
    "#Fazendo predições no conjunto de teste\n",
    "y_pred = linreg.predict(X_test)"
   ]
  },
  {
   "cell_type": "code",
   "execution_count": 89,
   "metadata": {},
   "outputs": [
    {
     "data": {
      "text/plain": [
       "array([[ 35.94669235],\n",
       "       [106.5160717 ],\n",
       "       [ 44.873753  ],\n",
       "       [ 71.09854189],\n",
       "       [ 42.92934788],\n",
       "       [ 31.69320459],\n",
       "       [ 90.0979985 ],\n",
       "       [ 64.00316719],\n",
       "       [ 89.89084032],\n",
       "       [ 32.00152368],\n",
       "       [ 52.51876985]])"
      ]
     },
     "execution_count": 89,
     "metadata": {},
     "output_type": "execute_result"
    }
   ],
   "source": [
    "y_pred"
   ]
  },
  {
   "cell_type": "code",
   "execution_count": 90,
   "metadata": {
    "scrolled": true
   },
   "outputs": [
    {
     "data": {
      "text/html": [
       "<div>\n",
       "<style scoped>\n",
       "    .dataframe tbody tr th:only-of-type {\n",
       "        vertical-align: middle;\n",
       "    }\n",
       "\n",
       "    .dataframe tbody tr th {\n",
       "        vertical-align: top;\n",
       "    }\n",
       "\n",
       "    .dataframe thead th {\n",
       "        text-align: right;\n",
       "    }\n",
       "</style>\n",
       "<table border=\"1\" class=\"dataframe\">\n",
       "  <thead>\n",
       "    <tr style=\"text-align: right;\">\n",
       "      <th></th>\n",
       "      <th>pag_final</th>\n",
       "    </tr>\n",
       "  </thead>\n",
       "  <tbody>\n",
       "    <tr>\n",
       "      <th>100</th>\n",
       "      <td>30</td>\n",
       "    </tr>\n",
       "    <tr>\n",
       "      <th>90</th>\n",
       "      <td>82</td>\n",
       "    </tr>\n",
       "    <tr>\n",
       "      <th>92</th>\n",
       "      <td>40</td>\n",
       "    </tr>\n",
       "    <tr>\n",
       "      <th>89</th>\n",
       "      <td>66</td>\n",
       "    </tr>\n",
       "    <tr>\n",
       "      <th>101</th>\n",
       "      <td>42</td>\n",
       "    </tr>\n",
       "    <tr>\n",
       "      <th>55</th>\n",
       "      <td>34</td>\n",
       "    </tr>\n",
       "    <tr>\n",
       "      <th>88</th>\n",
       "      <td>78</td>\n",
       "    </tr>\n",
       "    <tr>\n",
       "      <th>54</th>\n",
       "      <td>68</td>\n",
       "    </tr>\n",
       "    <tr>\n",
       "      <th>48</th>\n",
       "      <td>92</td>\n",
       "    </tr>\n",
       "    <tr>\n",
       "      <th>66</th>\n",
       "      <td>24</td>\n",
       "    </tr>\n",
       "    <tr>\n",
       "      <th>58</th>\n",
       "      <td>52</td>\n",
       "    </tr>\n",
       "  </tbody>\n",
       "</table>\n",
       "</div>"
      ],
      "text/plain": [
       "     pag_final\n",
       "100         30\n",
       "90          82\n",
       "92          40\n",
       "89          66\n",
       "101         42\n",
       "55          34\n",
       "88          78\n",
       "54          68\n",
       "48          92\n",
       "66          24\n",
       "58          52"
      ]
     },
     "execution_count": 90,
     "metadata": {},
     "output_type": "execute_result"
    }
   ],
   "source": [
    "y_test"
   ]
  },
  {
   "cell_type": "markdown",
   "metadata": {},
   "source": [
    "Comparando essas métricas:\n",
    "\n",
    "- MAE é a mais fácil de entender.\n",
    "- MSE é mais popular que MAE, porque MSE \"pune\" erros grandes.\n",
    "- RMSE é ainda mais popular que MSE, porque RMSE é interpretável na mesma unidade de y."
   ]
  },
  {
   "cell_type": "code",
   "execution_count": 91,
   "metadata": {},
   "outputs": [],
   "source": [
    "#RMSE:  12.11799697428631 # primeiro test com columas\n",
    "#colunas_X= ['entidade', 'fornecedor', 'complexidade', 'stat_pagto','qtd_pag_word', 'qtd_carc', 'qtd_tabela','qtd_image']\n",
    "\n",
    "#colunas_X= ['complexidade', 'qtd_pag_word', 'qtd_carc','qtd_tabela','qtd_image']\n",
    "\n",
    "#RMSE:  11.831745496309976\n",
    "# colunas_X= ['complexidade', 'qtd_pag_word', 'qtd_pag_estimado','qtd_carc','qtd_tabela','qtd_image']\n",
    "# RMSE:  8.41739234335301"
   ]
  },
  {
   "cell_type": "code",
   "execution_count": 93,
   "metadata": {},
   "outputs": [
    {
     "name": "stdout",
     "output_type": "stream",
     "text": [
      "RMSE:  9.16223875809478\n"
     ]
    }
   ],
   "source": [
    "#Nós precisamos de uma métrica de avaliação para comparar nossas predições com os valores verdadeiros!\n",
    "\n",
    "# Calculando RMSE utilizando scikit-learn\n",
    "print('RMSE: ',np.sqrt(metrics.mean_squared_error(y_test,y_pred)))\n",
    "\n",
    "# incluido feature Quantidade de estilo, mas o resultado piorou. RMSE foi de 11.83 para 12.43\n",
    "# RMSE:  12.051420343980208\n",
    "# RMSE:  9.782602553564418 => melhorou quando retirou feature complexidade\n",
    "# RMSE:  9.16223875809479 => melhorou quando retirou feature quantidade de estilos\n"
   ]
  },
  {
   "cell_type": "code",
   "execution_count": 51,
   "metadata": {},
   "outputs": [],
   "source": [
    "#Como interpretar esse valor?\n",
    "# numero menor de RMSE é melhor\n",
    "# RMSE:  11.831745496309976\n",
    "# RMSE:  12.43000991830557\n",
    "# RMSE:  14.428565435305106\n"
   ]
  },
  {
   "cell_type": "code",
   "execution_count": 94,
   "metadata": {},
   "outputs": [],
   "source": [
    "# Save Model Using Pickle\n",
    "import pickle\n",
    "# save the model to disk\n",
    "\n",
    "filename = 'finalized_model.sav'\n",
    "pickle.dump(linreg, open(filename, 'wb'))\n",
    " \n"
   ]
  },
  {
   "cell_type": "code",
   "execution_count": null,
   "metadata": {},
   "outputs": [],
   "source": [
    "######## //////////// TESTE COM ARQUIVOS SEM NF"
   ]
  },
  {
   "cell_type": "code",
   "execution_count": null,
   "metadata": {},
   "outputs": [],
   "source": [
    "######## //////////// TESTE COM ARQUIVOS SEM NF"
   ]
  },
  {
   "cell_type": "code",
   "execution_count": null,
   "metadata": {},
   "outputs": [],
   "source": [
    "######## //////////// TESTE COM ARQUIVOS SEM NF"
   ]
  },
  {
   "cell_type": "code",
   "execution_count": null,
   "metadata": {},
   "outputs": [],
   "source": [
    "# some time later...\n",
    " \n",
    "# load the model from disk\n",
    "filename = 'finalized_model.sav'\n",
    "loaded_model = pickle.load(open(filename, 'rb'))\n",
    "result = loaded_model.score(X_test, Y_test)\n",
    "print(result)"
   ]
  },
  {
   "cell_type": "code",
   "execution_count": 117,
   "metadata": {},
   "outputs": [],
   "source": [
    "data_semNF = pd.read_csv(\"nge_dados_input_semNF.csv\")\n",
    "data_semNF = data_semNF[['id', 'entidade', 'fornecedor', 'complexidade', 'stat_pagto',\n",
    "       'qtd_pag_word',  'qtd_carc', 'qtd_tabela','qtd_image', 'qtd_estilos','qtd_pag_estimado']]"
   ]
  },
  {
   "cell_type": "code",
   "execution_count": 118,
   "metadata": {},
   "outputs": [
    {
     "data": {
      "text/html": [
       "<div>\n",
       "<style scoped>\n",
       "    .dataframe tbody tr th:only-of-type {\n",
       "        vertical-align: middle;\n",
       "    }\n",
       "\n",
       "    .dataframe tbody tr th {\n",
       "        vertical-align: top;\n",
       "    }\n",
       "\n",
       "    .dataframe thead th {\n",
       "        text-align: right;\n",
       "    }\n",
       "</style>\n",
       "<table border=\"1\" class=\"dataframe\">\n",
       "  <thead>\n",
       "    <tr style=\"text-align: right;\">\n",
       "      <th></th>\n",
       "      <th>id</th>\n",
       "      <th>entidade</th>\n",
       "      <th>fornecedor</th>\n",
       "      <th>complexidade</th>\n",
       "      <th>stat_pagto</th>\n",
       "      <th>qtd_pag_word</th>\n",
       "      <th>qtd_carc</th>\n",
       "      <th>qtd_tabela</th>\n",
       "      <th>qtd_image</th>\n",
       "      <th>qtd_estilos</th>\n",
       "      <th>qtd_pag_estimado</th>\n",
       "    </tr>\n",
       "  </thead>\n",
       "  <tbody>\n",
       "    <tr>\n",
       "      <th>0</th>\n",
       "      <td>235832</td>\n",
       "      <td>0</td>\n",
       "      <td>0</td>\n",
       "      <td>1</td>\n",
       "      <td>0</td>\n",
       "      <td>34</td>\n",
       "      <td>70983</td>\n",
       "      <td>288</td>\n",
       "      <td>211</td>\n",
       "      <td>16.0</td>\n",
       "      <td>48</td>\n",
       "    </tr>\n",
       "    <tr>\n",
       "      <th>1</th>\n",
       "      <td>235876</td>\n",
       "      <td>0</td>\n",
       "      <td>0</td>\n",
       "      <td>1</td>\n",
       "      <td>0</td>\n",
       "      <td>30</td>\n",
       "      <td>23238</td>\n",
       "      <td>133</td>\n",
       "      <td>107</td>\n",
       "      <td>29.0</td>\n",
       "      <td>48</td>\n",
       "    </tr>\n",
       "    <tr>\n",
       "      <th>2</th>\n",
       "      <td>235878</td>\n",
       "      <td>0</td>\n",
       "      <td>0</td>\n",
       "      <td>0</td>\n",
       "      <td>0</td>\n",
       "      <td>68</td>\n",
       "      <td>87223</td>\n",
       "      <td>275</td>\n",
       "      <td>156</td>\n",
       "      <td>127.0</td>\n",
       "      <td>98</td>\n",
       "    </tr>\n",
       "    <tr>\n",
       "      <th>3</th>\n",
       "      <td>235880</td>\n",
       "      <td>0</td>\n",
       "      <td>0</td>\n",
       "      <td>1</td>\n",
       "      <td>0</td>\n",
       "      <td>26</td>\n",
       "      <td>17783</td>\n",
       "      <td>3</td>\n",
       "      <td>2</td>\n",
       "      <td>23.0</td>\n",
       "      <td>48</td>\n",
       "    </tr>\n",
       "    <tr>\n",
       "      <th>4</th>\n",
       "      <td>235881</td>\n",
       "      <td>0</td>\n",
       "      <td>0</td>\n",
       "      <td>1</td>\n",
       "      <td>0</td>\n",
       "      <td>23</td>\n",
       "      <td>14560</td>\n",
       "      <td>260</td>\n",
       "      <td>142</td>\n",
       "      <td>28.0</td>\n",
       "      <td>46</td>\n",
       "    </tr>\n",
       "  </tbody>\n",
       "</table>\n",
       "</div>"
      ],
      "text/plain": [
       "       id  entidade  fornecedor  complexidade  stat_pagto  qtd_pag_word  \\\n",
       "0  235832         0           0             1           0            34   \n",
       "1  235876         0           0             1           0            30   \n",
       "2  235878         0           0             0           0            68   \n",
       "3  235880         0           0             1           0            26   \n",
       "4  235881         0           0             1           0            23   \n",
       "\n",
       "   qtd_carc  qtd_tabela  qtd_image  qtd_estilos  qtd_pag_estimado  \n",
       "0     70983         288        211         16.0                48  \n",
       "1     23238         133        107         29.0                48  \n",
       "2     87223         275        156        127.0                98  \n",
       "3     17783           3          2         23.0                48  \n",
       "4     14560         260        142         28.0                46  "
      ]
     },
     "execution_count": 118,
     "metadata": {},
     "output_type": "execute_result"
    }
   ],
   "source": [
    "data_semNF.head()"
   ]
  },
  {
   "cell_type": "code",
   "execution_count": 119,
   "metadata": {},
   "outputs": [
    {
     "data": {
      "text/plain": [
       "Index(['id', 'entidade', 'fornecedor', 'complexidade', 'stat_pagto',\n",
       "       'qtd_pag_word', 'qtd_carc', 'qtd_tabela', 'qtd_image', 'qtd_estilos',\n",
       "       'qtd_pag_estimado'],\n",
       "      dtype='object')"
      ]
     },
     "execution_count": 119,
     "metadata": {},
     "output_type": "execute_result"
    }
   ],
   "source": [
    "data_semNF.columns"
   ]
  },
  {
   "cell_type": "code",
   "execution_count": 120,
   "metadata": {},
   "outputs": [],
   "source": [
    "#\n",
    "# normalizar a quantidade de caracteres\n",
    "#\n",
    "# data_semNF.loc[:,'qtd_carc_normal'] = pd.Series((data.qtd_carc-data.qtd_carc.min())/(data.qtd_carc.max()-data.qtd_carc.min()))"
   ]
  },
  {
   "cell_type": "code",
   "execution_count": 121,
   "metadata": {},
   "outputs": [],
   "source": [
    "#colunas_X= ['qtd_pag_word', 'qtd_tabela','qtd_image']\n",
    "colunas_X= ['qtd_pag_word', 'qtd_carc','qtd_tabela','qtd_image']\n",
    "\n",
    "X_semNF= data_semNF[colunas_X]"
   ]
  },
  {
   "cell_type": "code",
   "execution_count": 122,
   "metadata": {},
   "outputs": [],
   "source": [
    "#Fazendo predições no conjunto de teste\n",
    "y_pred_semNF = linreg.predict(X_semNF)"
   ]
  },
  {
   "cell_type": "code",
   "execution_count": 123,
   "metadata": {},
   "outputs": [
    {
     "name": "stdout",
     "output_type": "stream",
     "text": [
      "[[ 60.61447913]\n",
      " [ 45.22751222]\n",
      " [ 90.36128783]\n",
      " [ 41.12976115]\n",
      " [ 38.95701794]\n",
      " [ 38.10393936]\n",
      " [ 36.21606215]\n",
      " [184.3159129 ]\n",
      " [ 97.29016309]\n",
      " [ 64.7001456 ]\n",
      " [ 72.16448812]\n",
      " [ 69.07228522]\n",
      " [117.67358607]\n",
      " [496.38130347]\n",
      " [441.12890291]\n",
      " [ 45.35802587]\n",
      " [ 43.54279698]]\n"
     ]
    }
   ],
   "source": [
    "print(y_pred_semNF)"
   ]
  },
  {
   "cell_type": "code",
   "execution_count": 124,
   "metadata": {
    "scrolled": true
   },
   "outputs": [
    {
     "name": "stdout",
     "output_type": "stream",
     "text": [
      "0      48\n",
      "1      48\n",
      "2      98\n",
      "3      48\n",
      "4      46\n",
      "5      46\n",
      "6      46\n",
      "7     198\n",
      "8     110\n",
      "9      68\n",
      "10     75\n",
      "11     70\n",
      "12    114\n",
      "13    460\n",
      "14    420\n",
      "15     48\n",
      "16     48\n",
      "Name: qtd_pag_estimado, dtype: int64\n"
     ]
    }
   ],
   "source": [
    "print(data_semNF[\"qtd_pag_estimado\"])"
   ]
  },
  {
   "cell_type": "code",
   "execution_count": 133,
   "metadata": {},
   "outputs": [],
   "source": [
    "#y_pred_semNF = pd.Series(y_pred_semNF,name=[\"qtd_pag_inferido\"])\n",
    "\n",
    "resultado_comparativo =  pd.concat([data_semNF[\"qtd_pag_word\"], data_semNF[\"qtd_pag_estimado\"], pd.Series(y_pred_semNF.T[0])], axis=1)\n",
    "data_semNF_final =  pd.concat([data_semNF, pd.Series(y_pred_semNF.T[0])], axis=1)\n"
   ]
  },
  {
   "cell_type": "code",
   "execution_count": 139,
   "metadata": {},
   "outputs": [],
   "source": [
    "data_semNF_final.rename(columns={0: 'QTD_PAG_INVERIDO'}, inplace = True)\n"
   ]
  },
  {
   "cell_type": "code",
   "execution_count": 141,
   "metadata": {},
   "outputs": [
    {
     "data": {
      "text/html": [
       "<div>\n",
       "<style scoped>\n",
       "    .dataframe tbody tr th:only-of-type {\n",
       "        vertical-align: middle;\n",
       "    }\n",
       "\n",
       "    .dataframe tbody tr th {\n",
       "        vertical-align: top;\n",
       "    }\n",
       "\n",
       "    .dataframe thead th {\n",
       "        text-align: right;\n",
       "    }\n",
       "</style>\n",
       "<table border=\"1\" class=\"dataframe\">\n",
       "  <thead>\n",
       "    <tr style=\"text-align: right;\">\n",
       "      <th></th>\n",
       "      <th>id</th>\n",
       "      <th>entidade</th>\n",
       "      <th>fornecedor</th>\n",
       "      <th>complexidade</th>\n",
       "      <th>stat_pagto</th>\n",
       "      <th>qtd_pag_word</th>\n",
       "      <th>qtd_carc</th>\n",
       "      <th>qtd_tabela</th>\n",
       "      <th>qtd_image</th>\n",
       "      <th>qtd_estilos</th>\n",
       "      <th>qtd_pag_estimado</th>\n",
       "      <th>QTD_PAG_INVERIDO</th>\n",
       "    </tr>\n",
       "  </thead>\n",
       "  <tbody>\n",
       "    <tr>\n",
       "      <th>0</th>\n",
       "      <td>235832</td>\n",
       "      <td>0</td>\n",
       "      <td>0</td>\n",
       "      <td>1</td>\n",
       "      <td>0</td>\n",
       "      <td>34</td>\n",
       "      <td>70983</td>\n",
       "      <td>288</td>\n",
       "      <td>211</td>\n",
       "      <td>16.0</td>\n",
       "      <td>48</td>\n",
       "      <td>60.614479</td>\n",
       "    </tr>\n",
       "    <tr>\n",
       "      <th>1</th>\n",
       "      <td>235876</td>\n",
       "      <td>0</td>\n",
       "      <td>0</td>\n",
       "      <td>1</td>\n",
       "      <td>0</td>\n",
       "      <td>30</td>\n",
       "      <td>23238</td>\n",
       "      <td>133</td>\n",
       "      <td>107</td>\n",
       "      <td>29.0</td>\n",
       "      <td>48</td>\n",
       "      <td>45.227512</td>\n",
       "    </tr>\n",
       "    <tr>\n",
       "      <th>2</th>\n",
       "      <td>235878</td>\n",
       "      <td>0</td>\n",
       "      <td>0</td>\n",
       "      <td>0</td>\n",
       "      <td>0</td>\n",
       "      <td>68</td>\n",
       "      <td>87223</td>\n",
       "      <td>275</td>\n",
       "      <td>156</td>\n",
       "      <td>127.0</td>\n",
       "      <td>98</td>\n",
       "      <td>90.361288</td>\n",
       "    </tr>\n",
       "    <tr>\n",
       "      <th>3</th>\n",
       "      <td>235880</td>\n",
       "      <td>0</td>\n",
       "      <td>0</td>\n",
       "      <td>1</td>\n",
       "      <td>0</td>\n",
       "      <td>26</td>\n",
       "      <td>17783</td>\n",
       "      <td>3</td>\n",
       "      <td>2</td>\n",
       "      <td>23.0</td>\n",
       "      <td>48</td>\n",
       "      <td>41.129761</td>\n",
       "    </tr>\n",
       "    <tr>\n",
       "      <th>4</th>\n",
       "      <td>235881</td>\n",
       "      <td>0</td>\n",
       "      <td>0</td>\n",
       "      <td>1</td>\n",
       "      <td>0</td>\n",
       "      <td>23</td>\n",
       "      <td>14560</td>\n",
       "      <td>260</td>\n",
       "      <td>142</td>\n",
       "      <td>28.0</td>\n",
       "      <td>46</td>\n",
       "      <td>38.957018</td>\n",
       "    </tr>\n",
       "  </tbody>\n",
       "</table>\n",
       "</div>"
      ],
      "text/plain": [
       "       id  entidade  fornecedor  complexidade  stat_pagto  qtd_pag_word  \\\n",
       "0  235832         0           0             1           0            34   \n",
       "1  235876         0           0             1           0            30   \n",
       "2  235878         0           0             0           0            68   \n",
       "3  235880         0           0             1           0            26   \n",
       "4  235881         0           0             1           0            23   \n",
       "\n",
       "   qtd_carc  qtd_tabela  qtd_image  qtd_estilos  qtd_pag_estimado  \\\n",
       "0     70983         288        211         16.0                48   \n",
       "1     23238         133        107         29.0                48   \n",
       "2     87223         275        156        127.0                98   \n",
       "3     17783           3          2         23.0                48   \n",
       "4     14560         260        142         28.0                46   \n",
       "\n",
       "   QTD_PAG_INVERIDO  \n",
       "0         60.614479  \n",
       "1         45.227512  \n",
       "2         90.361288  \n",
       "3         41.129761  \n",
       "4         38.957018  "
      ]
     },
     "execution_count": 141,
     "metadata": {},
     "output_type": "execute_result"
    }
   ],
   "source": [
    "data_semNF_final.head()"
   ]
  },
  {
   "cell_type": "code",
   "execution_count": 129,
   "metadata": {},
   "outputs": [
    {
     "data": {
      "text/html": [
       "<div>\n",
       "<style scoped>\n",
       "    .dataframe tbody tr th:only-of-type {\n",
       "        vertical-align: middle;\n",
       "    }\n",
       "\n",
       "    .dataframe tbody tr th {\n",
       "        vertical-align: top;\n",
       "    }\n",
       "\n",
       "    .dataframe thead th {\n",
       "        text-align: right;\n",
       "    }\n",
       "</style>\n",
       "<table border=\"1\" class=\"dataframe\">\n",
       "  <thead>\n",
       "    <tr style=\"text-align: right;\">\n",
       "      <th></th>\n",
       "      <th>qtd_pag_word</th>\n",
       "      <th>qtd_pag_estimado</th>\n",
       "      <th>0</th>\n",
       "    </tr>\n",
       "  </thead>\n",
       "  <tbody>\n",
       "    <tr>\n",
       "      <th>0</th>\n",
       "      <td>34</td>\n",
       "      <td>48</td>\n",
       "      <td>60.614479</td>\n",
       "    </tr>\n",
       "    <tr>\n",
       "      <th>1</th>\n",
       "      <td>30</td>\n",
       "      <td>48</td>\n",
       "      <td>45.227512</td>\n",
       "    </tr>\n",
       "    <tr>\n",
       "      <th>2</th>\n",
       "      <td>68</td>\n",
       "      <td>98</td>\n",
       "      <td>90.361288</td>\n",
       "    </tr>\n",
       "    <tr>\n",
       "      <th>3</th>\n",
       "      <td>26</td>\n",
       "      <td>48</td>\n",
       "      <td>41.129761</td>\n",
       "    </tr>\n",
       "    <tr>\n",
       "      <th>4</th>\n",
       "      <td>23</td>\n",
       "      <td>46</td>\n",
       "      <td>38.957018</td>\n",
       "    </tr>\n",
       "    <tr>\n",
       "      <th>5</th>\n",
       "      <td>22</td>\n",
       "      <td>46</td>\n",
       "      <td>38.103939</td>\n",
       "    </tr>\n",
       "    <tr>\n",
       "      <th>6</th>\n",
       "      <td>20</td>\n",
       "      <td>46</td>\n",
       "      <td>36.216062</td>\n",
       "    </tr>\n",
       "    <tr>\n",
       "      <th>7</th>\n",
       "      <td>142</td>\n",
       "      <td>198</td>\n",
       "      <td>184.315913</td>\n",
       "    </tr>\n",
       "    <tr>\n",
       "      <th>8</th>\n",
       "      <td>75</td>\n",
       "      <td>110</td>\n",
       "      <td>97.290163</td>\n",
       "    </tr>\n",
       "    <tr>\n",
       "      <th>9</th>\n",
       "      <td>38</td>\n",
       "      <td>68</td>\n",
       "      <td>64.700146</td>\n",
       "    </tr>\n",
       "    <tr>\n",
       "      <th>10</th>\n",
       "      <td>48</td>\n",
       "      <td>75</td>\n",
       "      <td>72.164488</td>\n",
       "    </tr>\n",
       "    <tr>\n",
       "      <th>11</th>\n",
       "      <td>45</td>\n",
       "      <td>70</td>\n",
       "      <td>69.072285</td>\n",
       "    </tr>\n",
       "    <tr>\n",
       "      <th>12</th>\n",
       "      <td>81</td>\n",
       "      <td>114</td>\n",
       "      <td>117.673586</td>\n",
       "    </tr>\n",
       "    <tr>\n",
       "      <th>13</th>\n",
       "      <td>424</td>\n",
       "      <td>460</td>\n",
       "      <td>496.381303</td>\n",
       "    </tr>\n",
       "    <tr>\n",
       "      <th>14</th>\n",
       "      <td>373</td>\n",
       "      <td>420</td>\n",
       "      <td>441.128903</td>\n",
       "    </tr>\n",
       "    <tr>\n",
       "      <th>15</th>\n",
       "      <td>29</td>\n",
       "      <td>48</td>\n",
       "      <td>45.358026</td>\n",
       "    </tr>\n",
       "    <tr>\n",
       "      <th>16</th>\n",
       "      <td>24</td>\n",
       "      <td>48</td>\n",
       "      <td>43.542797</td>\n",
       "    </tr>\n",
       "  </tbody>\n",
       "</table>\n",
       "</div>"
      ],
      "text/plain": [
       "    qtd_pag_word  qtd_pag_estimado           0\n",
       "0             34                48   60.614479\n",
       "1             30                48   45.227512\n",
       "2             68                98   90.361288\n",
       "3             26                48   41.129761\n",
       "4             23                46   38.957018\n",
       "5             22                46   38.103939\n",
       "6             20                46   36.216062\n",
       "7            142               198  184.315913\n",
       "8             75               110   97.290163\n",
       "9             38                68   64.700146\n",
       "10            48                75   72.164488\n",
       "11            45                70   69.072285\n",
       "12            81               114  117.673586\n",
       "13           424               460  496.381303\n",
       "14           373               420  441.128903\n",
       "15            29                48   45.358026\n",
       "16            24                48   43.542797"
      ]
     },
     "execution_count": 129,
     "metadata": {},
     "output_type": "execute_result"
    }
   ],
   "source": [
    "resultado_comparativo"
   ]
  },
  {
   "cell_type": "code",
   "execution_count": 146,
   "metadata": {},
   "outputs": [],
   "source": [
    "data_semNF_final.to_excel(\"resultado_inferência_NGE.xlsx\",sheet_name='Inferencia por IA') "
   ]
  },
  {
   "cell_type": "code",
   "execution_count": 147,
   "metadata": {},
   "outputs": [
    {
     "name": "stdout",
     "output_type": "stream",
     "text": [
      "NGE_fluxo1.ipynb               make_table.ipynb\r\n",
      "Pre-processamento.MD           make_table_Job_SemNF.ipynb\r\n",
      "Preparar_enviroment.MD         nge_dados_input.csv\r\n",
      "\u001b[34m__pycache__\u001b[m\u001b[m                    nge_dados_input_semNF.csv\r\n",
      "finalized_model.sav            nolaks.ipynb\r\n",
      "gerar_nova_tabela.ipynb        nolaks.py\r\n",
      "get_file_word - cópia.py       resultado_inferência_NGE.xlsx\r\n",
      "get_file_word.py               sheet.json\r\n",
      "get_file_word_info.ipynb       teste.ipynb\r\n",
      "ler_metadados_word.ipynb       teste_02.ipynb\r\n",
      "ler_qtd_pag_word.ipynb         teste_03.ipynb\r\n",
      "machine_learning_NGE.ipynb     teste_api_smartsheet.ipynb\r\n"
     ]
    }
   ],
   "source": [
    "!ls"
   ]
  },
  {
   "cell_type": "code",
   "execution_count": null,
   "metadata": {},
   "outputs": [],
   "source": []
  },
  {
   "cell_type": "code",
   "execution_count": null,
   "metadata": {},
   "outputs": [],
   "source": []
  },
  {
   "cell_type": "code",
   "execution_count": null,
   "metadata": {},
   "outputs": [],
   "source": [
    "#########################################################\n",
    "# FIM  LINEAR REGRESSION\n",
    "########################################################"
   ]
  },
  {
   "cell_type": "code",
   "execution_count": null,
   "metadata": {},
   "outputs": [],
   "source": []
  },
  {
   "cell_type": "code",
   "execution_count": null,
   "metadata": {},
   "outputs": [],
   "source": []
  },
  {
   "cell_type": "code",
   "execution_count": null,
   "metadata": {},
   "outputs": [],
   "source": [
    "################################################################################################################\n",
    "#########################################################\n",
    "# LOGISTIC REGRESSION\n",
    "########################################################"
   ]
  },
  {
   "cell_type": "code",
   "execution_count": 101,
   "metadata": {},
   "outputs": [],
   "source": [
    "#colunas_X= ['complexidade', 'qtd_pag_word', 'qtd_carc','qtd_tabela','qtd_image',\"qtd_estilos\"]\n",
    "#colunas_X= ['qtd_pag_word', 'qtd_carc','qtd_tabela','qtd_image',\"qtd_estilos\"]\n",
    "#colunas_X= ['qtd_pag_word', 'qtd_tabela','qtd_image',\"qtd_estilos\", 'qtd_carc_normal']\n",
    "#colunas_X= ['qtd_pag_word', 'qtd_tabela','qtd_image', 'qtd_carc_normal']\n",
    "colunas_X= ['qtd_pag_word', 'qtd_carc','qtd_tabela','qtd_image']\n",
    "\n",
    "\n",
    "\n",
    "colunas_y=['pag_final']\n",
    "X = data[colunas_X]\n",
    "y = data[colunas_y]"
   ]
  },
  {
   "cell_type": "code",
   "execution_count": 102,
   "metadata": {},
   "outputs": [],
   "source": [
    "X_train, X_test, y_train, y_test = train_test_split(X, y,  test_size=0.10,random_state=1)"
   ]
  },
  {
   "cell_type": "code",
   "execution_count": 103,
   "metadata": {},
   "outputs": [
    {
     "name": "stderr",
     "output_type": "stream",
     "text": [
      "/Users/wpessoa/miniconda3/envs/py3/lib/python3.8/site-packages/sklearn/utils/validation.py:72: DataConversionWarning: A column-vector y was passed when a 1d array was expected. Please change the shape of y to (n_samples, ), for example using ravel().\n",
      "  return f(**kwargs)\n"
     ]
    },
    {
     "name": "stdout",
     "output_type": "stream",
     "text": [
      "[ 48  66 340  66  48  48  66  48  66  48  76]\n",
      "[[1.84212785e-002 4.70941423e-003 2.71069490e-030 1.53249244e-002\n",
      "  2.76986248e-002 2.39589031e-002 1.68695539e-002 3.07428590e-002\n",
      "  2.64301908e-002 2.10818861e-002 2.69784434e-002 3.43440221e-002\n",
      "  8.67495712e-002 2.51572431e-002 2.59629887e-002 1.89328563e-002\n",
      "  2.69174933e-002 3.36961070e-002 2.25918493e-002 2.58592177e-002\n",
      "  2.69554581e-002 4.43865931e-002 1.76981342e-002 2.30642037e-002\n",
      "  2.42393995e-002 2.04901071e-002 1.81280013e-002 2.22756679e-002\n",
      "  2.43644764e-002 3.81543365e-002 2.39315836e-002 2.23702644e-002\n",
      "  2.13659732e-002 1.72348124e-002 2.07628020e-002 1.20892122e-034\n",
      "  1.71100352e-002 2.18423854e-002 2.33182259e-002 1.79931547e-002\n",
      "  1.53291422e-002 1.42029877e-002 1.23548287e-002 4.31507565e-018]\n",
      " [2.34224625e-002 4.53869893e-006 9.57134812e-142 2.41643693e-003\n",
      "  1.54013575e-002 8.58421120e-003 1.29100616e-002 2.29830964e-002\n",
      "  1.19113928e-002 1.21323338e-002 1.93706104e-002 2.57789741e-002\n",
      "  3.05262142e-002 2.73670351e-002 1.90004714e-002 1.02204889e-002\n",
      "  4.23733504e-002 3.32861678e-002 3.15989900e-002 2.35118073e-002\n",
      "  2.18602780e-002 3.90839446e-002 1.89265598e-002 3.95257656e-002\n",
      "  3.63341333e-002 3.11883701e-002 1.12870086e-002 2.33798003e-002\n",
      "  3.36354316e-002 3.42254577e-002 2.61736773e-002 2.22847084e-002\n",
      "  3.47994023e-002 2.70619660e-002 2.66450742e-002 2.84083056e-163\n",
      "  1.94077694e-002 3.17021359e-002 2.16350200e-002 2.88153214e-002\n",
      "  3.21395662e-002 3.34282522e-002 3.36603560e-002 4.62326735e-081]\n",
      " [2.63889685e-002 1.53658980e-003 2.75750963e-047 1.18349447e-002\n",
      "  2.04243650e-002 1.69380363e-002 2.16492834e-002 2.31217587e-002\n",
      "  1.86636327e-002 1.99230995e-002 2.24332565e-002 2.33710664e-002\n",
      "  1.95490231e-002 2.57670695e-002 2.24803533e-002 1.92329727e-002\n",
      "  2.99759238e-002 2.58493734e-002 2.80069429e-002 2.42446629e-002\n",
      "  2.33137008e-002 2.53363672e-002 2.46407845e-002 3.04992413e-002\n",
      "  2.90297126e-002 2.85674387e-002 2.02132704e-002 2.50964397e-002\n",
      "  2.80415095e-002 2.52213036e-002 2.57118398e-002 2.47285554e-002\n",
      "  2.94597253e-002 2.83773771e-002 2.68599146e-002 3.20945499e-054\n",
      "  2.51253688e-002 2.83020952e-002 2.41153298e-002 2.88031682e-002\n",
      "  3.11563204e-002 3.24373599e-002 3.35718545e-002 9.99133933e-028]\n",
      " [2.47472494e-002 1.86659023e-006 2.29934392e-155 1.87351102e-003\n",
      "  1.34264812e-002 7.09708834e-003 1.26976455e-002 2.06830394e-002\n",
      "  1.00493590e-002 1.10310944e-002 1.76432234e-002 2.28068379e-002\n",
      "  2.07731848e-002 2.67511162e-002 1.74702652e-002 9.34341742e-003\n",
      "  4.37633358e-002 3.07744913e-002 3.26890489e-002 2.22653258e-002\n",
      "  2.02189395e-002 3.38576588e-002 1.94607977e-002 4.23682058e-002\n",
      "  3.76287673e-002 3.32060842e-002 1.06330453e-002 2.30745358e-002\n",
      "  3.41375228e-002 3.04596627e-002 2.58456886e-002 2.19711071e-002\n",
      "  3.70930132e-002 2.98040063e-002 2.76005716e-002 5.51065762e-179\n",
      "  2.02715332e-002 3.32828853e-002 2.09022732e-002 3.15643349e-002\n",
      "  3.75515411e-002 4.07055047e-002 4.24747391e-002 8.75356085e-089]\n",
      " [1.89364567e-002 1.45710362e-003 1.87976883e-049 1.12885818e-002\n",
      "  2.59439655e-002 2.06949389e-002 1.59469978e-002 3.03824423e-002\n",
      "  2.38150468e-002 1.93880623e-002 2.62339124e-002 3.41961463e-002\n",
      "  8.24300392e-002 2.58223777e-002 2.52424445e-002 1.71090176e-002\n",
      "  2.94648026e-002 3.49323631e-002 2.39194201e-002 2.59127656e-002\n",
      "  2.66171473e-002 4.59793086e-002 1.76598270e-002 2.53141564e-002\n",
      "  2.60959429e-002 2.18113110e-002 1.66980992e-002 2.25339203e-002\n",
      "  2.58502082e-002 3.92822786e-002 2.45120119e-002 2.25138803e-002\n",
      "  2.30502259e-002 1.82112953e-002 2.15640233e-002 9.25094874e-057\n",
      "  1.71947337e-002 2.32120171e-002 2.32503155e-002 1.91472007e-002\n",
      "  1.67637306e-002 1.57735359e-002 1.38479455e-002 6.50457825e-029]\n",
      " [1.96702404e-002 3.61869631e-003 1.73664022e-034 1.45876122e-002\n",
      "  2.63803417e-002 2.30422864e-002 1.74241421e-002 2.93842795e-002\n",
      "  2.55539791e-002 2.11489494e-002 2.60310145e-002 3.29747367e-002\n",
      "  7.35211733e-002 2.59601913e-002 2.52383836e-002 1.90183299e-002\n",
      "  2.76849782e-002 3.29098650e-002 2.37475179e-002 2.60009613e-002\n",
      "  2.69450557e-002 4.34604476e-002 1.86715214e-002 2.38577759e-002\n",
      "  2.52339912e-002 2.19021593e-002 1.83473918e-002 2.30735367e-002\n",
      "  2.56458708e-002 3.70136027e-002 2.46646274e-002 2.27314491e-002\n",
      "  2.27677810e-002 1.86422245e-002 2.18808003e-002 1.76658590e-039\n",
      "  1.80794378e-002 2.30572895e-002 2.38065652e-002 1.91935465e-002\n",
      "  1.71300671e-002 1.57634507e-002 1.42337292e-002 1.85766333e-020]\n",
      " [2.01456730e-002 1.56387262e-008 8.62433924e-233 4.88436593e-004\n",
      "  1.10252122e-002 4.07377791e-003 7.56781726e-003 2.15210011e-002\n",
      "  7.00904892e-003 7.01555815e-003 1.59761845e-002 2.60019111e-002\n",
      "  3.85607345e-002 2.67123432e-002 1.53869041e-002 5.24452077e-003\n",
      "  5.63024020e-002 3.91348617e-002 3.34342823e-002 2.11900171e-002\n",
      "  1.88953805e-002 5.09230238e-002 1.40828979e-002 4.97618433e-002\n",
      "  4.26441515e-002 3.22628056e-002 6.15716966e-003 2.03078756e-002\n",
      "  3.67612369e-002 4.10262744e-002 2.48692550e-002 1.92929975e-002\n",
      "  3.86335321e-002 2.52544775e-002 2.51561849e-002 2.21136557e-268\n",
      "  1.46895098e-002 3.37124613e-002 1.82269555e-002 2.82637121e-002\n",
      "  3.24783267e-002 3.55241134e-002 3.42851132e-002 1.61478331e-132]\n",
      " [2.08976175e-002 7.71538620e-006 7.73512349e-134 2.78320242e-003\n",
      "  1.76285081e-002 1.01180027e-002 1.19910227e-002 2.59498257e-002\n",
      "  1.39865626e-002 1.27504144e-002 2.10517387e-002 3.04080788e-002\n",
      "  5.52138851e-002 2.76808127e-002 2.03695504e-002 1.04343335e-002\n",
      "  4.11359418e-002 3.72887955e-002 2.95577443e-002 2.45177449e-002\n",
      "  2.36078526e-002 4.96340062e-002 1.69901758e-002 3.57027850e-002\n",
      "  3.42926579e-002 2.79291483e-002 1.10835143e-002 2.27154008e-002\n",
      "  3.23576163e-002 4.06796694e-002 2.59594595e-002 2.17950995e-002\n",
      "  3.11300624e-002 2.27404795e-002 2.46028956e-002 3.66561117e-154\n",
      "  1.70371624e-002 2.92219016e-002 2.18063558e-002 2.42936471e-002\n",
      "  2.48109980e-002 2.46337116e-002 2.32039032e-002 1.37434435e-076]\n",
      " [2.07882773e-002 6.24945410e-008 1.41575966e-210 7.28108050e-004\n",
      "  1.20013154e-002 5.00651299e-003 8.50750969e-003 2.18736551e-002\n",
      "  8.19626830e-003 8.11476969e-003 1.66338909e-002 2.64908656e-002\n",
      "  3.98766153e-002 2.73795540e-002 1.60956987e-002 6.18499819e-003\n",
      "  5.24129693e-002 3.81711212e-002 3.30587940e-002 2.19635162e-002\n",
      "  1.99599736e-002 5.10186368e-002 1.49853618e-002 4.58506039e-002\n",
      "  4.09347932e-002 3.19429532e-002 7.08543366e-003 2.11736969e-002\n",
      "  3.65617591e-002 4.05923157e-002 2.54263750e-002 1.98352045e-002\n",
      "  3.75328573e-002 2.52265684e-002 2.54810907e-002 9.78060498e-243\n",
      "  1.54440225e-002 3.31685033e-002 1.91715969e-002 2.76499770e-002\n",
      "  3.16179521e-002 3.32452047e-002 3.26106175e-002 5.91470678e-120]\n",
      " [2.01739194e-002 6.54060535e-003 7.31500299e-025 1.71110978e-002\n",
      "  2.69603976e-002 2.43031467e-002 1.86699506e-002 2.92177906e-002\n",
      "  2.62677183e-002 2.21658783e-002 2.64308877e-002 3.20302059e-002\n",
      "  6.47417467e-002 2.56191858e-002 2.57058482e-002 2.03572232e-002\n",
      "  2.68121614e-002 3.16424802e-002 2.35806972e-002 2.59525300e-002\n",
      "  2.68205379e-002 3.97041017e-002 1.94876157e-002 2.36863391e-002\n",
      "  2.48105318e-002 2.19315460e-002 1.96708832e-002 2.32801156e-002\n",
      "  2.51008939e-002 3.49508145e-002 2.45831128e-002 2.31516305e-002\n",
      "  2.26284096e-002 1.91610195e-002 2.20837699e-002 2.29233950e-028\n",
      "  1.89529457e-002 2.29707534e-002 2.40360574e-002 1.97006344e-002\n",
      "  1.76146683e-002 1.64537642e-002 1.49363842e-002 5.01422512e-015]\n",
      " [2.26414924e-002 3.07897451e-005 2.04236106e-111 4.09840440e-003\n",
      "  1.85101104e-002 1.16349715e-002 1.42580656e-002 2.54623938e-002\n",
      "  1.51462379e-002 1.44815782e-002 2.16931071e-002 2.85586112e-002\n",
      "  4.12679360e-002 2.74373599e-002 2.11940182e-002 1.24054611e-002\n",
      "  3.84763973e-002 3.41596289e-002 2.95896673e-002 2.47075854e-002\n",
      "  2.37252049e-002 4.13916047e-002 1.90787429e-002 3.50344470e-002\n",
      "  3.33515743e-002 2.85864288e-002 1.31798738e-002 2.36103031e-002\n",
      "  3.15075146e-002 3.59805612e-002 2.62185073e-002 2.29015165e-002\n",
      "  3.12106100e-002 2.46497167e-002 2.55980929e-002 2.84473460e-128\n",
      "  1.92592325e-002 2.94754295e-002 2.26638080e-002 2.60092185e-002\n",
      "  2.70127777e-002 2.73823918e-002 2.64186267e-002 6.21878207e-064]]\n",
      "0.09278350515463918\n"
     ]
    },
    {
     "name": "stderr",
     "output_type": "stream",
     "text": [
      "/Users/wpessoa/miniconda3/envs/py3/lib/python3.8/site-packages/sklearn/linear_model/_logistic.py:762: ConvergenceWarning: lbfgs failed to converge (status=1):\n",
      "STOP: TOTAL NO. of ITERATIONS REACHED LIMIT.\n",
      "\n",
      "Increase the number of iterations (max_iter) or scale the data as shown in:\n",
      "    https://scikit-learn.org/stable/modules/preprocessing.html\n",
      "Please also refer to the documentation for alternative solver options:\n",
      "    https://scikit-learn.org/stable/modules/linear_model.html#logistic-regression\n",
      "  n_iter_i = _check_optimize_result(\n"
     ]
    }
   ],
   "source": [
    "from sklearn.datasets import load_iris\n",
    "from sklearn.linear_model import LogisticRegression\n",
    "##### machine learnig\n",
    "#X, y = load_iris(return_X_y=True)\n",
    "clf = LogisticRegression(random_state=0).fit(X_train, y_train)\n",
    "print(clf.predict(X_test.fillna(-1)))\n",
    "print(clf.predict_proba(X_test.fillna(-1)))\n",
    "print(clf.score(X_train, y_train))\n"
   ]
  },
  {
   "cell_type": "code",
   "execution_count": 104,
   "metadata": {},
   "outputs": [
    {
     "name": "stdout",
     "output_type": "stream",
     "text": [
      "[ 48  66 340  66  48  48  66  48  66  48  76]\n",
      "     pag_final\n",
      "100         30\n",
      "90          82\n",
      "92          40\n",
      "89          66\n",
      "101         42\n",
      "55          34\n",
      "88          78\n",
      "54          68\n",
      "48          92\n",
      "66          24\n",
      "58          52\n"
     ]
    },
    {
     "name": "stderr",
     "output_type": "stream",
     "text": [
      "/Users/wpessoa/miniconda3/envs/py3/lib/python3.8/site-packages/sklearn/utils/validation.py:72: DataConversionWarning: A column-vector y was passed when a 1d array was expected. Please change the shape of y to (n_samples, ), for example using ravel().\n",
      "  return f(**kwargs)\n",
      "/Users/wpessoa/miniconda3/envs/py3/lib/python3.8/site-packages/sklearn/linear_model/_logistic.py:762: ConvergenceWarning: lbfgs failed to converge (status=1):\n",
      "STOP: TOTAL NO. of ITERATIONS REACHED LIMIT.\n",
      "\n",
      "Increase the number of iterations (max_iter) or scale the data as shown in:\n",
      "    https://scikit-learn.org/stable/modules/preprocessing.html\n",
      "Please also refer to the documentation for alternative solver options:\n",
      "    https://scikit-learn.org/stable/modules/linear_model.html#logistic-regression\n",
      "  n_iter_i = _check_optimize_result(\n"
     ]
    }
   ],
   "source": [
    "modelo = LogisticRegression()\n",
    "modelo.fit(X_train, y_train)\n",
    "\n",
    "y_pred = modelo.predict(X_test.fillna(-1))\n",
    "print(y_pred)\n",
    "print(y_test)"
   ]
  },
  {
   "cell_type": "code",
   "execution_count": 105,
   "metadata": {},
   "outputs": [
    {
     "name": "stdout",
     "output_type": "stream",
     "text": [
      "RMSE:  92.03951720469163\n"
     ]
    }
   ],
   "source": [
    "# Calculando RMSE utilizando scikit-learn\n",
    "print('RMSE: ',np.sqrt(metrics.mean_squared_error(y_test,y_pred)))\n",
    "# RMSE:  26.17424132789543\n",
    "# quantidade de estilo é muito relevante nesse modelo, sem essa feature RMSE:  106.26211160915429\n",
    "# RMSE:  92.03951720469163 Para essa features ['qtd_pag_word', 'qtd_carc','qtd_tabela','qtd_image']\n",
    "\n"
   ]
  },
  {
   "cell_type": "code",
   "execution_count": null,
   "metadata": {},
   "outputs": [],
   "source": [
    "#########################################################\n",
    "# FIM  LOGISTIC REGRESSION\n",
    "########################################################"
   ]
  },
  {
   "cell_type": "code",
   "execution_count": null,
   "metadata": {},
   "outputs": [],
   "source": [
    "#\n",
    "# \n",
    "################################################################################################################"
   ]
  },
  {
   "cell_type": "code",
   "execution_count": 205,
   "metadata": {},
   "outputs": [
    {
     "name": "stdout",
     "output_type": "stream",
     "text": [
      "dados verdadeiros:  [100, 50, 30, 30]\n",
      "dados inferidos: [90, 50, 50, 30]\n",
      "erro médio absoluto:  7.5\n",
      "erro médio absoluto:  7.5\n",
      "MSE:  125.0\n",
      "MSE:  125.0\n",
      "RMSE:  11.180339887498949\n",
      "RMSE:  11.180339887498949\n"
     ]
    }
   ],
   "source": [
    "# codigos consultados de \n",
    "# https://github.com/WalnerPessoa/Medical-Cost-Personal/blob/master/Aula%205%20-%20Regress%C3%A3o%20linear%20para%20prever%20as%20despesas%20m%C3%A9dicas%20de%20um%20paciente%20.ipynb\n",
    "\n",
    "\n",
    "# calculando a media de um exemplo\n",
    "# Definindo os valores de resposta verdadeiros e preditos\n",
    "true = [100,50,30,30]\n",
    "pred = [90,50,50,30]\n",
    "print(\"dados verdadeiros: \",true)\n",
    "print(\"dados inferidos:\", pred)\n",
    "# Calculando erro médio absoluto na mão\n",
    "print('erro médio absoluto: ',(10+0+20+0)/4)\n",
    "# Calculando erro médio absoluto utilizando scikit-learn\n",
    "from sklearn import metrics\n",
    "print('erro médio absoluto: ',metrics.mean_absolute_error(true,pred)) \n",
    "\n",
    "#Calculando MSE na mão\n",
    "print('MSE: ',(10**2+0+20**2+0)/4)\n",
    "# Calculando MSE utilizando scikit-learn\n",
    "print('MSE: ',metrics.mean_squared_error(true,pred))\n",
    "\n",
    "# Calculando RMSE na mão\n",
    "print('RMSE: ',np.sqrt((10**2+0+20**2+0)/4))\n",
    "# Calculando RMSE utilizando scikit-learn\n",
    "print('RMSE: ',np.sqrt(metrics.mean_squared_error(true,pred)))"
   ]
  }
 ],
 "metadata": {
  "kernelspec": {
   "display_name": "Python 3",
   "language": "python",
   "name": "python3"
  },
  "language_info": {
   "codemirror_mode": {
    "name": "ipython",
    "version": 3
   },
   "file_extension": ".py",
   "mimetype": "text/x-python",
   "name": "python",
   "nbconvert_exporter": "python",
   "pygments_lexer": "ipython3",
   "version": "3.8.5"
  }
 },
 "nbformat": 4,
 "nbformat_minor": 4
}
