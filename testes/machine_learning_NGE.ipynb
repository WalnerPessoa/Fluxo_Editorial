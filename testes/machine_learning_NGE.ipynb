{
 "cells": [
  {
   "cell_type": "code",
   "execution_count": 324,
   "metadata": {},
   "outputs": [],
   "source": [
    "import pandas as pd\n",
    "import numpy as np\n",
    "from sklearn.model_selection import RepeatedKFold\n",
    "from sklearn.model_selection import train_test_split\n",
    "\n",
    "#Importando o modelo machine learnig\n",
    "from sklearn.linear_model import LinearRegression\n",
    "from sklearn.ensemble import RandomForestClassifier\n",
    "from sklearn import metrics\n",
    "import pickle\n",
    "\n"
   ]
  },
  {
   "cell_type": "code",
   "execution_count": 431,
   "metadata": {},
   "outputs": [],
   "source": [
    "# importar csv\n",
    "data = pd.read_csv(\"nge_dados_input.csv\")\n",
    "#data_semNF = pd.read_csv(\"nge_dados_input_semNF.csv\") # jobs sem nota está emoutro método"
   ]
  },
  {
   "cell_type": "code",
   "execution_count": 432,
   "metadata": {
    "scrolled": true
   },
   "outputs": [
    {
     "data": {
      "text/plain": [
       "id                    int64\n",
       "entidade              int64\n",
       "fornecedor            int64\n",
       "complexidade          int64\n",
       "stat_pagto            int64\n",
       "qtd_pag_word          int64\n",
       "qtd_pag_estimado    float64\n",
       "qtd_pg_word           int64\n",
       "qtd_carc              int64\n",
       "qtd_tabela            int64\n",
       "qtd_image             int64\n",
       "qtd_estilos         float64\n",
       "pag_final             int64\n",
       "dtype: object"
      ]
     },
     "execution_count": 432,
     "metadata": {},
     "output_type": "execute_result"
    }
   ],
   "source": [
    "data.dtypes"
   ]
  },
  {
   "cell_type": "code",
   "execution_count": 433,
   "metadata": {
    "scrolled": false
   },
   "outputs": [
    {
     "data": {
      "text/html": [
       "<div>\n",
       "<style scoped>\n",
       "    .dataframe tbody tr th:only-of-type {\n",
       "        vertical-align: middle;\n",
       "    }\n",
       "\n",
       "    .dataframe tbody tr th {\n",
       "        vertical-align: top;\n",
       "    }\n",
       "\n",
       "    .dataframe thead th {\n",
       "        text-align: right;\n",
       "    }\n",
       "</style>\n",
       "<table border=\"1\" class=\"dataframe\">\n",
       "  <thead>\n",
       "    <tr style=\"text-align: right;\">\n",
       "      <th></th>\n",
       "      <th>id</th>\n",
       "      <th>entidade</th>\n",
       "      <th>fornecedor</th>\n",
       "      <th>complexidade</th>\n",
       "      <th>stat_pagto</th>\n",
       "      <th>qtd_pag_word</th>\n",
       "      <th>qtd_pag_estimado</th>\n",
       "      <th>qtd_pg_word</th>\n",
       "      <th>qtd_carc</th>\n",
       "      <th>qtd_tabela</th>\n",
       "      <th>qtd_image</th>\n",
       "      <th>qtd_estilos</th>\n",
       "      <th>pag_final</th>\n",
       "    </tr>\n",
       "  </thead>\n",
       "  <tbody>\n",
       "    <tr>\n",
       "      <th>0</th>\n",
       "      <td>224323</td>\n",
       "      <td>0</td>\n",
       "      <td>0</td>\n",
       "      <td>1</td>\n",
       "      <td>0</td>\n",
       "      <td>87</td>\n",
       "      <td>140.0</td>\n",
       "      <td>87</td>\n",
       "      <td>116142</td>\n",
       "      <td>474</td>\n",
       "      <td>712</td>\n",
       "      <td>60.0</td>\n",
       "      <td>140</td>\n",
       "    </tr>\n",
       "    <tr>\n",
       "      <th>1</th>\n",
       "      <td>224325</td>\n",
       "      <td>0</td>\n",
       "      <td>0</td>\n",
       "      <td>1</td>\n",
       "      <td>0</td>\n",
       "      <td>82</td>\n",
       "      <td>122.0</td>\n",
       "      <td>82</td>\n",
       "      <td>108307</td>\n",
       "      <td>76</td>\n",
       "      <td>94</td>\n",
       "      <td>69.0</td>\n",
       "      <td>122</td>\n",
       "    </tr>\n",
       "    <tr>\n",
       "      <th>2</th>\n",
       "      <td>225392</td>\n",
       "      <td>0</td>\n",
       "      <td>0</td>\n",
       "      <td>3</td>\n",
       "      <td>0</td>\n",
       "      <td>41</td>\n",
       "      <td>70.0</td>\n",
       "      <td>30</td>\n",
       "      <td>41144</td>\n",
       "      <td>28</td>\n",
       "      <td>24</td>\n",
       "      <td>23.0</td>\n",
       "      <td>52</td>\n",
       "    </tr>\n",
       "    <tr>\n",
       "      <th>3</th>\n",
       "      <td>225392</td>\n",
       "      <td>0</td>\n",
       "      <td>0</td>\n",
       "      <td>3</td>\n",
       "      <td>0</td>\n",
       "      <td>41</td>\n",
       "      <td>70.0</td>\n",
       "      <td>42</td>\n",
       "      <td>62913</td>\n",
       "      <td>401</td>\n",
       "      <td>666</td>\n",
       "      <td>21.0</td>\n",
       "      <td>52</td>\n",
       "    </tr>\n",
       "    <tr>\n",
       "      <th>4</th>\n",
       "      <td>225531</td>\n",
       "      <td>0</td>\n",
       "      <td>0</td>\n",
       "      <td>2</td>\n",
       "      <td>0</td>\n",
       "      <td>36</td>\n",
       "      <td>48.0</td>\n",
       "      <td>36</td>\n",
       "      <td>37548</td>\n",
       "      <td>239</td>\n",
       "      <td>426</td>\n",
       "      <td>17.0</td>\n",
       "      <td>48</td>\n",
       "    </tr>\n",
       "    <tr>\n",
       "      <th>5</th>\n",
       "      <td>228711</td>\n",
       "      <td>2</td>\n",
       "      <td>0</td>\n",
       "      <td>1</td>\n",
       "      <td>0</td>\n",
       "      <td>77</td>\n",
       "      <td>108.0</td>\n",
       "      <td>77</td>\n",
       "      <td>101967</td>\n",
       "      <td>286</td>\n",
       "      <td>487</td>\n",
       "      <td>17.0</td>\n",
       "      <td>88</td>\n",
       "    </tr>\n",
       "    <tr>\n",
       "      <th>6</th>\n",
       "      <td>226842</td>\n",
       "      <td>0</td>\n",
       "      <td>0</td>\n",
       "      <td>1</td>\n",
       "      <td>0</td>\n",
       "      <td>46</td>\n",
       "      <td>66.0</td>\n",
       "      <td>46</td>\n",
       "      <td>96474</td>\n",
       "      <td>99</td>\n",
       "      <td>114</td>\n",
       "      <td>37.0</td>\n",
       "      <td>66</td>\n",
       "    </tr>\n",
       "    <tr>\n",
       "      <th>7</th>\n",
       "      <td>228307</td>\n",
       "      <td>0</td>\n",
       "      <td>0</td>\n",
       "      <td>1</td>\n",
       "      <td>0</td>\n",
       "      <td>62</td>\n",
       "      <td>95.0</td>\n",
       "      <td>62</td>\n",
       "      <td>43155</td>\n",
       "      <td>40</td>\n",
       "      <td>73</td>\n",
       "      <td>25.0</td>\n",
       "      <td>70</td>\n",
       "    </tr>\n",
       "    <tr>\n",
       "      <th>8</th>\n",
       "      <td>228354</td>\n",
       "      <td>0</td>\n",
       "      <td>0</td>\n",
       "      <td>1</td>\n",
       "      <td>0</td>\n",
       "      <td>76</td>\n",
       "      <td>110.0</td>\n",
       "      <td>76</td>\n",
       "      <td>129122</td>\n",
       "      <td>14</td>\n",
       "      <td>10</td>\n",
       "      <td>26.0</td>\n",
       "      <td>96</td>\n",
       "    </tr>\n",
       "    <tr>\n",
       "      <th>9</th>\n",
       "      <td>228437</td>\n",
       "      <td>0</td>\n",
       "      <td>0</td>\n",
       "      <td>2</td>\n",
       "      <td>0</td>\n",
       "      <td>18</td>\n",
       "      <td>18.0</td>\n",
       "      <td>80</td>\n",
       "      <td>145038</td>\n",
       "      <td>175</td>\n",
       "      <td>370</td>\n",
       "      <td>35.0</td>\n",
       "      <td>18</td>\n",
       "    </tr>\n",
       "    <tr>\n",
       "      <th>10</th>\n",
       "      <td>228603</td>\n",
       "      <td>0</td>\n",
       "      <td>0</td>\n",
       "      <td>2</td>\n",
       "      <td>0</td>\n",
       "      <td>33</td>\n",
       "      <td>48.0</td>\n",
       "      <td>13</td>\n",
       "      <td>45943</td>\n",
       "      <td>114</td>\n",
       "      <td>132</td>\n",
       "      <td>22.0</td>\n",
       "      <td>40</td>\n",
       "    </tr>\n",
       "    <tr>\n",
       "      <th>11</th>\n",
       "      <td>228863</td>\n",
       "      <td>0</td>\n",
       "      <td>0</td>\n",
       "      <td>2</td>\n",
       "      <td>0</td>\n",
       "      <td>34</td>\n",
       "      <td>48.0</td>\n",
       "      <td>34</td>\n",
       "      <td>56363</td>\n",
       "      <td>118</td>\n",
       "      <td>135</td>\n",
       "      <td>71.0</td>\n",
       "      <td>46</td>\n",
       "    </tr>\n",
       "  </tbody>\n",
       "</table>\n",
       "</div>"
      ],
      "text/plain": [
       "        id  entidade  fornecedor  complexidade  stat_pagto  qtd_pag_word  \\\n",
       "0   224323         0           0             1           0            87   \n",
       "1   224325         0           0             1           0            82   \n",
       "2   225392         0           0             3           0            41   \n",
       "3   225392         0           0             3           0            41   \n",
       "4   225531         0           0             2           0            36   \n",
       "5   228711         2           0             1           0            77   \n",
       "6   226842         0           0             1           0            46   \n",
       "7   228307         0           0             1           0            62   \n",
       "8   228354         0           0             1           0            76   \n",
       "9   228437         0           0             2           0            18   \n",
       "10  228603         0           0             2           0            33   \n",
       "11  228863         0           0             2           0            34   \n",
       "\n",
       "    qtd_pag_estimado  qtd_pg_word  qtd_carc  qtd_tabela  qtd_image  \\\n",
       "0              140.0           87    116142         474        712   \n",
       "1              122.0           82    108307          76         94   \n",
       "2               70.0           30     41144          28         24   \n",
       "3               70.0           42     62913         401        666   \n",
       "4               48.0           36     37548         239        426   \n",
       "5              108.0           77    101967         286        487   \n",
       "6               66.0           46     96474          99        114   \n",
       "7               95.0           62     43155          40         73   \n",
       "8              110.0           76    129122          14         10   \n",
       "9               18.0           80    145038         175        370   \n",
       "10              48.0           13     45943         114        132   \n",
       "11              48.0           34     56363         118        135   \n",
       "\n",
       "    qtd_estilos  pag_final  \n",
       "0          60.0        140  \n",
       "1          69.0        122  \n",
       "2          23.0         52  \n",
       "3          21.0         52  \n",
       "4          17.0         48  \n",
       "5          17.0         88  \n",
       "6          37.0         66  \n",
       "7          25.0         70  \n",
       "8          26.0         96  \n",
       "9          35.0         18  \n",
       "10         22.0         40  \n",
       "11         71.0         46  "
      ]
     },
     "execution_count": 433,
     "metadata": {},
     "output_type": "execute_result"
    }
   ],
   "source": [
    "data.head(12)"
   ]
  },
  {
   "cell_type": "code",
   "execution_count": 434,
   "metadata": {
    "scrolled": true
   },
   "outputs": [
    {
     "data": {
      "text/plain": [
       "array([ 87,  82,  30,  42,  36,  77,  46,  62,  76,  80,  13,  34,  52,\n",
       "        18,  78,  50,  47,  54,  88,  91,  38, 214,  22,  26,  92,  14,\n",
       "        40,  81,  63, 216,  24,  33, 195,  29,  60, 107,  85,  68,  41,\n",
       "       112,  45,  19,  51,  31,  56,  72,  28,  21,  12,  17, 131,  67,\n",
       "       207,  43,  86,  90,  49,  39,  59,  48,  57,  73,  23,  37])"
      ]
     },
     "execution_count": 434,
     "metadata": {},
     "output_type": "execute_result"
    }
   ],
   "source": [
    "data['qtd_pg_word'].unique()"
   ]
  },
  {
   "cell_type": "code",
   "execution_count": 435,
   "metadata": {
    "scrolled": true
   },
   "outputs": [
    {
     "data": {
      "text/plain": [
       "array([ 87,  82,  41,  36,  77,  46,  62,  76,  18,  33,  34,  57,  22,\n",
       "        78,  50,  38,  54,  88,  91,  80, 214,  26,  83,  40,  81,  63,\n",
       "       216,  51,  27, 195,  29,  58,  92, 107,  85,  67,  24, 112,  45,\n",
       "        19,  31,  56,  72,  28,  12, 158,  66, 207,  43,  17,  86,  90,\n",
       "        49,  59,  48, 100,  39,  42,  32,  73,  23])"
      ]
     },
     "execution_count": 435,
     "metadata": {},
     "output_type": "execute_result"
    }
   ],
   "source": [
    "data['qtd_pag_word'].unique()"
   ]
  },
  {
   "cell_type": "code",
   "execution_count": 436,
   "metadata": {},
   "outputs": [
    {
     "data": {
      "text/html": [
       "<div>\n",
       "<style scoped>\n",
       "    .dataframe tbody tr th:only-of-type {\n",
       "        vertical-align: middle;\n",
       "    }\n",
       "\n",
       "    .dataframe tbody tr th {\n",
       "        vertical-align: top;\n",
       "    }\n",
       "\n",
       "    .dataframe thead th {\n",
       "        text-align: right;\n",
       "    }\n",
       "</style>\n",
       "<table border=\"1\" class=\"dataframe\">\n",
       "  <thead>\n",
       "    <tr style=\"text-align: right;\">\n",
       "      <th></th>\n",
       "      <th>id</th>\n",
       "      <th>qtd_pag_word</th>\n",
       "      <th>qtd_pg_word</th>\n",
       "      <th>pag_final</th>\n",
       "    </tr>\n",
       "  </thead>\n",
       "  <tbody>\n",
       "    <tr>\n",
       "      <th>2</th>\n",
       "      <td>225392</td>\n",
       "      <td>41</td>\n",
       "      <td>30</td>\n",
       "      <td>52</td>\n",
       "    </tr>\n",
       "    <tr>\n",
       "      <th>3</th>\n",
       "      <td>225392</td>\n",
       "      <td>41</td>\n",
       "      <td>42</td>\n",
       "      <td>52</td>\n",
       "    </tr>\n",
       "    <tr>\n",
       "      <th>9</th>\n",
       "      <td>228437</td>\n",
       "      <td>18</td>\n",
       "      <td>80</td>\n",
       "      <td>18</td>\n",
       "    </tr>\n",
       "    <tr>\n",
       "      <th>10</th>\n",
       "      <td>228603</td>\n",
       "      <td>33</td>\n",
       "      <td>13</td>\n",
       "      <td>40</td>\n",
       "    </tr>\n",
       "    <tr>\n",
       "      <th>12</th>\n",
       "      <td>228837</td>\n",
       "      <td>57</td>\n",
       "      <td>52</td>\n",
       "      <td>68</td>\n",
       "    </tr>\n",
       "    <tr>\n",
       "      <th>13</th>\n",
       "      <td>229294</td>\n",
       "      <td>22</td>\n",
       "      <td>18</td>\n",
       "      <td>34</td>\n",
       "    </tr>\n",
       "    <tr>\n",
       "      <th>17</th>\n",
       "      <td>229536</td>\n",
       "      <td>38</td>\n",
       "      <td>47</td>\n",
       "      <td>84</td>\n",
       "    </tr>\n",
       "    <tr>\n",
       "      <th>27</th>\n",
       "      <td>231210</td>\n",
       "      <td>83</td>\n",
       "      <td>92</td>\n",
       "      <td>112</td>\n",
       "    </tr>\n",
       "    <tr>\n",
       "      <th>28</th>\n",
       "      <td>230571</td>\n",
       "      <td>80</td>\n",
       "      <td>14</td>\n",
       "      <td>110</td>\n",
       "    </tr>\n",
       "    <tr>\n",
       "      <th>34</th>\n",
       "      <td>231890</td>\n",
       "      <td>51</td>\n",
       "      <td>52</td>\n",
       "      <td>76</td>\n",
       "    </tr>\n",
       "    <tr>\n",
       "      <th>35</th>\n",
       "      <td>235502</td>\n",
       "      <td>27</td>\n",
       "      <td>24</td>\n",
       "      <td>38</td>\n",
       "    </tr>\n",
       "    <tr>\n",
       "      <th>36</th>\n",
       "      <td>235502</td>\n",
       "      <td>27</td>\n",
       "      <td>24</td>\n",
       "      <td>38</td>\n",
       "    </tr>\n",
       "    <tr>\n",
       "      <th>42</th>\n",
       "      <td>231772</td>\n",
       "      <td>58</td>\n",
       "      <td>60</td>\n",
       "      <td>66</td>\n",
       "    </tr>\n",
       "    <tr>\n",
       "      <th>47</th>\n",
       "      <td>232943</td>\n",
       "      <td>67</td>\n",
       "      <td>68</td>\n",
       "      <td>92</td>\n",
       "    </tr>\n",
       "    <tr>\n",
       "      <th>48</th>\n",
       "      <td>231274</td>\n",
       "      <td>78</td>\n",
       "      <td>76</td>\n",
       "      <td>100</td>\n",
       "    </tr>\n",
       "    <tr>\n",
       "      <th>62</th>\n",
       "      <td>233890</td>\n",
       "      <td>22</td>\n",
       "      <td>21</td>\n",
       "      <td>30</td>\n",
       "    </tr>\n",
       "    <tr>\n",
       "      <th>64</th>\n",
       "      <td>233892</td>\n",
       "      <td>19</td>\n",
       "      <td>17</td>\n",
       "      <td>24</td>\n",
       "    </tr>\n",
       "    <tr>\n",
       "      <th>65</th>\n",
       "      <td>233884</td>\n",
       "      <td>158</td>\n",
       "      <td>131</td>\n",
       "      <td>176</td>\n",
       "    </tr>\n",
       "    <tr>\n",
       "      <th>66</th>\n",
       "      <td>233896</td>\n",
       "      <td>72</td>\n",
       "      <td>68</td>\n",
       "      <td>84</td>\n",
       "    </tr>\n",
       "    <tr>\n",
       "      <th>67</th>\n",
       "      <td>233893</td>\n",
       "      <td>66</td>\n",
       "      <td>77</td>\n",
       "      <td>98</td>\n",
       "    </tr>\n",
       "    <tr>\n",
       "      <th>70</th>\n",
       "      <td>233904</td>\n",
       "      <td>38</td>\n",
       "      <td>50</td>\n",
       "      <td>68</td>\n",
       "    </tr>\n",
       "    <tr>\n",
       "      <th>81</th>\n",
       "      <td>235469</td>\n",
       "      <td>40</td>\n",
       "      <td>24</td>\n",
       "      <td>48</td>\n",
       "    </tr>\n",
       "    <tr>\n",
       "      <th>82</th>\n",
       "      <td>235495</td>\n",
       "      <td>77</td>\n",
       "      <td>39</td>\n",
       "      <td>100</td>\n",
       "    </tr>\n",
       "    <tr>\n",
       "      <th>87</th>\n",
       "      <td>233900</td>\n",
       "      <td>100</td>\n",
       "      <td>57</td>\n",
       "      <td>82</td>\n",
       "    </tr>\n",
       "    <tr>\n",
       "      <th>88</th>\n",
       "      <td>235520</td>\n",
       "      <td>28</td>\n",
       "      <td>29</td>\n",
       "      <td>38</td>\n",
       "    </tr>\n",
       "    <tr>\n",
       "      <th>92</th>\n",
       "      <td>235651</td>\n",
       "      <td>32</td>\n",
       "      <td>33</td>\n",
       "      <td>44</td>\n",
       "    </tr>\n",
       "    <tr>\n",
       "      <th>99</th>\n",
       "      <td>235513</td>\n",
       "      <td>49</td>\n",
       "      <td>52</td>\n",
       "      <td>52</td>\n",
       "    </tr>\n",
       "    <tr>\n",
       "      <th>100</th>\n",
       "      <td>235514</td>\n",
       "      <td>56</td>\n",
       "      <td>41</td>\n",
       "      <td>72</td>\n",
       "    </tr>\n",
       "    <tr>\n",
       "      <th>101</th>\n",
       "      <td>235700</td>\n",
       "      <td>38</td>\n",
       "      <td>37</td>\n",
       "      <td>44</td>\n",
       "    </tr>\n",
       "  </tbody>\n",
       "</table>\n",
       "</div>"
      ],
      "text/plain": [
       "         id  qtd_pag_word  qtd_pg_word  pag_final\n",
       "2    225392            41           30         52\n",
       "3    225392            41           42         52\n",
       "9    228437            18           80         18\n",
       "10   228603            33           13         40\n",
       "12   228837            57           52         68\n",
       "13   229294            22           18         34\n",
       "17   229536            38           47         84\n",
       "27   231210            83           92        112\n",
       "28   230571            80           14        110\n",
       "34   231890            51           52         76\n",
       "35   235502            27           24         38\n",
       "36   235502            27           24         38\n",
       "42   231772            58           60         66\n",
       "47   232943            67           68         92\n",
       "48   231274            78           76        100\n",
       "62   233890            22           21         30\n",
       "64   233892            19           17         24\n",
       "65   233884           158          131        176\n",
       "66   233896            72           68         84\n",
       "67   233893            66           77         98\n",
       "70   233904            38           50         68\n",
       "81   235469            40           24         48\n",
       "82   235495            77           39        100\n",
       "87   233900           100           57         82\n",
       "88   235520            28           29         38\n",
       "92   235651            32           33         44\n",
       "99   235513            49           52         52\n",
       "100  235514            56           41         72\n",
       "101  235700            38           37         44"
      ]
     },
     "execution_count": 436,
     "metadata": {},
     "output_type": "execute_result"
    }
   ],
   "source": [
    "data[data['qtd_pag_word']!=data['qtd_pg_word']][['id','qtd_pag_word','qtd_pg_word','pag_final']]"
   ]
  },
  {
   "cell_type": "code",
   "execution_count": 437,
   "metadata": {
    "scrolled": true
   },
   "outputs": [
    {
     "data": {
      "text/html": [
       "<div>\n",
       "<style scoped>\n",
       "    .dataframe tbody tr th:only-of-type {\n",
       "        vertical-align: middle;\n",
       "    }\n",
       "\n",
       "    .dataframe tbody tr th {\n",
       "        vertical-align: top;\n",
       "    }\n",
       "\n",
       "    .dataframe thead th {\n",
       "        text-align: right;\n",
       "    }\n",
       "</style>\n",
       "<table border=\"1\" class=\"dataframe\">\n",
       "  <thead>\n",
       "    <tr style=\"text-align: right;\">\n",
       "      <th></th>\n",
       "      <th>id</th>\n",
       "      <th>qtd_pag_word</th>\n",
       "      <th>qtd_pg_word</th>\n",
       "      <th>pag_final</th>\n",
       "    </tr>\n",
       "  </thead>\n",
       "  <tbody>\n",
       "    <tr>\n",
       "      <th>9</th>\n",
       "      <td>228437</td>\n",
       "      <td>18</td>\n",
       "      <td>80</td>\n",
       "      <td>18</td>\n",
       "    </tr>\n",
       "    <tr>\n",
       "      <th>67</th>\n",
       "      <td>233893</td>\n",
       "      <td>66</td>\n",
       "      <td>77</td>\n",
       "      <td>98</td>\n",
       "    </tr>\n",
       "    <tr>\n",
       "      <th>70</th>\n",
       "      <td>233904</td>\n",
       "      <td>38</td>\n",
       "      <td>50</td>\n",
       "      <td>68</td>\n",
       "    </tr>\n",
       "  </tbody>\n",
       "</table>\n",
       "</div>"
      ],
      "text/plain": [
       "        id  qtd_pag_word  qtd_pg_word  pag_final\n",
       "9   228437            18           80         18\n",
       "67  233893            66           77         98\n",
       "70  233904            38           50         68"
      ]
     },
     "execution_count": 437,
     "metadata": {},
     "output_type": "execute_result"
    }
   ],
   "source": [
    "data[(data['qtd_pg_word']-data['qtd_pag_word'])>10][['id','qtd_pag_word','qtd_pg_word','pag_final']]"
   ]
  },
  {
   "cell_type": "code",
   "execution_count": 438,
   "metadata": {},
   "outputs": [
    {
     "data": {
      "text/html": [
       "<div>\n",
       "<style scoped>\n",
       "    .dataframe tbody tr th:only-of-type {\n",
       "        vertical-align: middle;\n",
       "    }\n",
       "\n",
       "    .dataframe tbody tr th {\n",
       "        vertical-align: top;\n",
       "    }\n",
       "\n",
       "    .dataframe thead th {\n",
       "        text-align: right;\n",
       "    }\n",
       "</style>\n",
       "<table border=\"1\" class=\"dataframe\">\n",
       "  <thead>\n",
       "    <tr style=\"text-align: right;\">\n",
       "      <th></th>\n",
       "      <th>id</th>\n",
       "      <th>qtd_pag_word</th>\n",
       "      <th>qtd_pg_word</th>\n",
       "      <th>pag_final</th>\n",
       "    </tr>\n",
       "  </thead>\n",
       "  <tbody>\n",
       "    <tr>\n",
       "      <th>9</th>\n",
       "      <td>228437</td>\n",
       "      <td>18</td>\n",
       "      <td>80</td>\n",
       "      <td>18</td>\n",
       "    </tr>\n",
       "  </tbody>\n",
       "</table>\n",
       "</div>"
      ],
      "text/plain": [
       "       id  qtd_pag_word  qtd_pg_word  pag_final\n",
       "9  228437            18           80         18"
      ]
     },
     "execution_count": 438,
     "metadata": {},
     "output_type": "execute_result"
    }
   ],
   "source": [
    "data[data['qtd_pag_word']==data['pag_final']][['id','qtd_pag_word','qtd_pg_word','pag_final']]\n"
   ]
  },
  {
   "cell_type": "code",
   "execution_count": 439,
   "metadata": {},
   "outputs": [
    {
     "data": {
      "text/html": [
       "<div>\n",
       "<style scoped>\n",
       "    .dataframe tbody tr th:only-of-type {\n",
       "        vertical-align: middle;\n",
       "    }\n",
       "\n",
       "    .dataframe tbody tr th {\n",
       "        vertical-align: top;\n",
       "    }\n",
       "\n",
       "    .dataframe thead th {\n",
       "        text-align: right;\n",
       "    }\n",
       "</style>\n",
       "<table border=\"1\" class=\"dataframe\">\n",
       "  <thead>\n",
       "    <tr style=\"text-align: right;\">\n",
       "      <th></th>\n",
       "      <th>id</th>\n",
       "      <th>qtd_pag_word</th>\n",
       "      <th>qtd_pg_word</th>\n",
       "      <th>pag_final</th>\n",
       "    </tr>\n",
       "  </thead>\n",
       "  <tbody>\n",
       "    <tr>\n",
       "      <th>9</th>\n",
       "      <td>228437</td>\n",
       "      <td>18</td>\n",
       "      <td>80</td>\n",
       "      <td>18</td>\n",
       "    </tr>\n",
       "  </tbody>\n",
       "</table>\n",
       "</div>"
      ],
      "text/plain": [
       "       id  qtd_pag_word  qtd_pg_word  pag_final\n",
       "9  228437            18           80         18"
      ]
     },
     "execution_count": 439,
     "metadata": {},
     "output_type": "execute_result"
    }
   ],
   "source": [
    "# Deletar linha quando a quantidade de pagina do word for igual a quantidade de pagina final\n",
    "\n",
    "# critério da diferença entre qtd pagina digitado e qtd pagina raspado do word\n",
    "criterio01= ((data['qtd_pg_word']-data['qtd_pag_word'])>10)\n",
    "\n",
    "# critério de qtd pagina digitado e qtd pagina da nota fiscal serem iguais\n",
    "criterio02=(data['qtd_pag_word']==data['pag_final'])\n",
    "data[(criterio02 & criterio01)][['id','qtd_pag_word','qtd_pg_word','pag_final']]\n"
   ]
  },
  {
   "cell_type": "code",
   "execution_count": 440,
   "metadata": {},
   "outputs": [],
   "source": [
    "# Deletar linha quando a quantidade de pagina do word for igual a quantidade de pagina final\n",
    "# caso que o \n",
    "data = data[~(criterio02 & criterio01)]"
   ]
  },
  {
   "cell_type": "code",
   "execution_count": 763,
   "metadata": {},
   "outputs": [
    {
     "data": {
      "text/html": [
       "<div>\n",
       "<style scoped>\n",
       "    .dataframe tbody tr th:only-of-type {\n",
       "        vertical-align: middle;\n",
       "    }\n",
       "\n",
       "    .dataframe tbody tr th {\n",
       "        vertical-align: top;\n",
       "    }\n",
       "\n",
       "    .dataframe thead th {\n",
       "        text-align: right;\n",
       "    }\n",
       "</style>\n",
       "<table border=\"1\" class=\"dataframe\">\n",
       "  <thead>\n",
       "    <tr style=\"text-align: right;\">\n",
       "      <th></th>\n",
       "      <th>id</th>\n",
       "      <th>entidade</th>\n",
       "      <th>fornecedor</th>\n",
       "      <th>complexidade</th>\n",
       "      <th>stat_pagto</th>\n",
       "      <th>qtd_pag_word</th>\n",
       "      <th>qtd_pag_estimado</th>\n",
       "      <th>qtd_pg_word</th>\n",
       "      <th>qtd_carc</th>\n",
       "      <th>qtd_tabela</th>\n",
       "      <th>qtd_image</th>\n",
       "      <th>qtd_estilos</th>\n",
       "      <th>pag_final</th>\n",
       "      <th>qtd_carc_normal</th>\n",
       "    </tr>\n",
       "  </thead>\n",
       "  <tbody>\n",
       "    <tr>\n",
       "      <th>23</th>\n",
       "      <td>231201</td>\n",
       "      <td>0</td>\n",
       "      <td>0</td>\n",
       "      <td>0</td>\n",
       "      <td>0</td>\n",
       "      <td>214</td>\n",
       "      <td>420.0</td>\n",
       "      <td>214</td>\n",
       "      <td>425343</td>\n",
       "      <td>319</td>\n",
       "      <td>524</td>\n",
       "      <td>19.0</td>\n",
       "      <td>340</td>\n",
       "      <td>0.738572</td>\n",
       "    </tr>\n",
       "    <tr>\n",
       "      <th>32</th>\n",
       "      <td>3</td>\n",
       "      <td>2</td>\n",
       "      <td>0</td>\n",
       "      <td>1</td>\n",
       "      <td>0</td>\n",
       "      <td>216</td>\n",
       "      <td>300.0</td>\n",
       "      <td>216</td>\n",
       "      <td>346608</td>\n",
       "      <td>157</td>\n",
       "      <td>339</td>\n",
       "      <td>54.0</td>\n",
       "      <td>212</td>\n",
       "      <td>0.597876</td>\n",
       "    </tr>\n",
       "    <tr>\n",
       "      <th>40</th>\n",
       "      <td>232098</td>\n",
       "      <td>0</td>\n",
       "      <td>0</td>\n",
       "      <td>1</td>\n",
       "      <td>0</td>\n",
       "      <td>195</td>\n",
       "      <td>360.0</td>\n",
       "      <td>195</td>\n",
       "      <td>413596</td>\n",
       "      <td>26</td>\n",
       "      <td>20</td>\n",
       "      <td>19.0</td>\n",
       "      <td>340</td>\n",
       "      <td>0.717581</td>\n",
       "    </tr>\n",
       "    <tr>\n",
       "      <th>65</th>\n",
       "      <td>233884</td>\n",
       "      <td>0</td>\n",
       "      <td>0</td>\n",
       "      <td>1</td>\n",
       "      <td>0</td>\n",
       "      <td>158</td>\n",
       "      <td>220.0</td>\n",
       "      <td>131</td>\n",
       "      <td>208458</td>\n",
       "      <td>288</td>\n",
       "      <td>300</td>\n",
       "      <td>7.0</td>\n",
       "      <td>176</td>\n",
       "      <td>0.351006</td>\n",
       "    </tr>\n",
       "    <tr>\n",
       "      <th>71</th>\n",
       "      <td>233908</td>\n",
       "      <td>0</td>\n",
       "      <td>0</td>\n",
       "      <td>1</td>\n",
       "      <td>0</td>\n",
       "      <td>207</td>\n",
       "      <td>310.0</td>\n",
       "      <td>207</td>\n",
       "      <td>571640</td>\n",
       "      <td>399</td>\n",
       "      <td>381</td>\n",
       "      <td>24.0</td>\n",
       "      <td>296</td>\n",
       "      <td>1.000000</td>\n",
       "    </tr>\n",
       "  </tbody>\n",
       "</table>\n",
       "</div>"
      ],
      "text/plain": [
       "        id  entidade  fornecedor  complexidade  stat_pagto  qtd_pag_word  \\\n",
       "23  231201         0           0             0           0           214   \n",
       "32       3         2           0             1           0           216   \n",
       "40  232098         0           0             1           0           195   \n",
       "65  233884         0           0             1           0           158   \n",
       "71  233908         0           0             1           0           207   \n",
       "\n",
       "    qtd_pag_estimado  qtd_pg_word  qtd_carc  qtd_tabela  qtd_image  \\\n",
       "23             420.0          214    425343         319        524   \n",
       "32             300.0          216    346608         157        339   \n",
       "40             360.0          195    413596          26         20   \n",
       "65             220.0          131    208458         288        300   \n",
       "71             310.0          207    571640         399        381   \n",
       "\n",
       "    qtd_estilos  pag_final  qtd_carc_normal  \n",
       "23         19.0        340         0.738572  \n",
       "32         54.0        212         0.597876  \n",
       "40         19.0        340         0.717581  \n",
       "65          7.0        176         0.351006  \n",
       "71         24.0        296         1.000000  "
      ]
     },
     "execution_count": 763,
     "metadata": {},
     "output_type": "execute_result"
    }
   ],
   "source": [
    "data[data[\"pag_final\"]>150]"
   ]
  },
  {
   "cell_type": "markdown",
   "metadata": {},
   "source": [
    "# fazer um critério de seleção de dados:\n",
    "### se o dado colhido na tabela (qtd_pag_word) tiver diferente da raspagem do word (qtd_pg_word) mais de 5 pontos deve retirar do arquivo de entrada. \n",
    "###  - incluir a coluna raspagem do word (qtd_pg_word)  para treinamento"
   ]
  },
  {
   "cell_type": "code",
   "execution_count": 441,
   "metadata": {},
   "outputs": [
    {
     "data": {
      "text/plain": [
       "103"
      ]
     },
     "execution_count": 441,
     "metadata": {},
     "output_type": "execute_result"
    }
   ],
   "source": [
    "data['id'].count()"
   ]
  },
  {
   "cell_type": "code",
   "execution_count": 442,
   "metadata": {},
   "outputs": [],
   "source": [
    "#\n",
    "# normalizar a quantidade de caracteres\n",
    "#\n",
    "\n",
    "# X[\"qtd_carc_normal\"]=(X.qtd_carc-X.qtd_carc.min())/(X.qtd_carc.max()-X.qtd_carc.min())"
   ]
  },
  {
   "cell_type": "code",
   "execution_count": 443,
   "metadata": {
    "scrolled": true
   },
   "outputs": [
    {
     "data": {
      "text/html": [
       "<div>\n",
       "<style scoped>\n",
       "    .dataframe tbody tr th:only-of-type {\n",
       "        vertical-align: middle;\n",
       "    }\n",
       "\n",
       "    .dataframe tbody tr th {\n",
       "        vertical-align: top;\n",
       "    }\n",
       "\n",
       "    .dataframe thead th {\n",
       "        text-align: right;\n",
       "    }\n",
       "</style>\n",
       "<table border=\"1\" class=\"dataframe\">\n",
       "  <thead>\n",
       "    <tr style=\"text-align: right;\">\n",
       "      <th></th>\n",
       "      <th>id</th>\n",
       "      <th>entidade</th>\n",
       "      <th>fornecedor</th>\n",
       "      <th>complexidade</th>\n",
       "      <th>stat_pagto</th>\n",
       "      <th>qtd_pag_word</th>\n",
       "      <th>qtd_pag_estimado</th>\n",
       "      <th>qtd_pg_word</th>\n",
       "      <th>qtd_carc</th>\n",
       "      <th>qtd_tabela</th>\n",
       "      <th>qtd_image</th>\n",
       "      <th>qtd_estilos</th>\n",
       "      <th>pag_final</th>\n",
       "    </tr>\n",
       "  </thead>\n",
       "  <tbody>\n",
       "    <tr>\n",
       "      <th>count</th>\n",
       "      <td>103.000000</td>\n",
       "      <td>103.000000</td>\n",
       "      <td>103.000000</td>\n",
       "      <td>103.000000</td>\n",
       "      <td>103.0</td>\n",
       "      <td>103.000000</td>\n",
       "      <td>103.000000</td>\n",
       "      <td>103.000000</td>\n",
       "      <td>103.000000</td>\n",
       "      <td>103.000000</td>\n",
       "      <td>103.000000</td>\n",
       "      <td>103.000000</td>\n",
       "      <td>103.000000</td>\n",
       "    </tr>\n",
       "    <tr>\n",
       "      <th>mean</th>\n",
       "      <td>230365.398058</td>\n",
       "      <td>0.252427</td>\n",
       "      <td>0.058252</td>\n",
       "      <td>1.446602</td>\n",
       "      <td>0.0</td>\n",
       "      <td>56.932039</td>\n",
       "      <td>91.932039</td>\n",
       "      <td>54.893204</td>\n",
       "      <td>83663.796117</td>\n",
       "      <td>265.213592</td>\n",
       "      <td>352.466019</td>\n",
       "      <td>26.825243</td>\n",
       "      <td>76.271845</td>\n",
       "    </tr>\n",
       "    <tr>\n",
       "      <th>std</th>\n",
       "      <td>23094.100900</td>\n",
       "      <td>0.572549</td>\n",
       "      <td>0.235365</td>\n",
       "      <td>0.637522</td>\n",
       "      <td>0.0</td>\n",
       "      <td>39.832065</td>\n",
       "      <td>62.057415</td>\n",
       "      <td>39.587558</td>\n",
       "      <td>86456.364381</td>\n",
       "      <td>159.830342</td>\n",
       "      <td>217.833981</td>\n",
       "      <td>13.101734</td>\n",
       "      <td>53.830561</td>\n",
       "    </tr>\n",
       "    <tr>\n",
       "      <th>min</th>\n",
       "      <td>3.000000</td>\n",
       "      <td>0.000000</td>\n",
       "      <td>0.000000</td>\n",
       "      <td>0.000000</td>\n",
       "      <td>0.0</td>\n",
       "      <td>12.000000</td>\n",
       "      <td>35.000000</td>\n",
       "      <td>12.000000</td>\n",
       "      <td>12032.000000</td>\n",
       "      <td>2.000000</td>\n",
       "      <td>2.000000</td>\n",
       "      <td>3.000000</td>\n",
       "      <td>22.000000</td>\n",
       "    </tr>\n",
       "    <tr>\n",
       "      <th>25%</th>\n",
       "      <td>230981.500000</td>\n",
       "      <td>0.000000</td>\n",
       "      <td>0.000000</td>\n",
       "      <td>1.000000</td>\n",
       "      <td>0.0</td>\n",
       "      <td>32.500000</td>\n",
       "      <td>48.000000</td>\n",
       "      <td>29.000000</td>\n",
       "      <td>31167.000000</td>\n",
       "      <td>120.500000</td>\n",
       "      <td>171.000000</td>\n",
       "      <td>19.000000</td>\n",
       "      <td>45.000000</td>\n",
       "    </tr>\n",
       "    <tr>\n",
       "      <th>50%</th>\n",
       "      <td>233474.000000</td>\n",
       "      <td>0.000000</td>\n",
       "      <td>0.000000</td>\n",
       "      <td>1.000000</td>\n",
       "      <td>0.0</td>\n",
       "      <td>46.000000</td>\n",
       "      <td>75.000000</td>\n",
       "      <td>45.000000</td>\n",
       "      <td>62913.000000</td>\n",
       "      <td>286.000000</td>\n",
       "      <td>339.000000</td>\n",
       "      <td>23.000000</td>\n",
       "      <td>68.000000</td>\n",
       "    </tr>\n",
       "    <tr>\n",
       "      <th>75%</th>\n",
       "      <td>235309.000000</td>\n",
       "      <td>0.000000</td>\n",
       "      <td>0.000000</td>\n",
       "      <td>2.000000</td>\n",
       "      <td>0.0</td>\n",
       "      <td>74.500000</td>\n",
       "      <td>110.000000</td>\n",
       "      <td>70.000000</td>\n",
       "      <td>102817.000000</td>\n",
       "      <td>396.000000</td>\n",
       "      <td>461.500000</td>\n",
       "      <td>29.500000</td>\n",
       "      <td>88.000000</td>\n",
       "    </tr>\n",
       "    <tr>\n",
       "      <th>max</th>\n",
       "      <td>235831.000000</td>\n",
       "      <td>2.000000</td>\n",
       "      <td>1.000000</td>\n",
       "      <td>3.000000</td>\n",
       "      <td>0.0</td>\n",
       "      <td>216.000000</td>\n",
       "      <td>420.000000</td>\n",
       "      <td>216.000000</td>\n",
       "      <td>571640.000000</td>\n",
       "      <td>550.000000</td>\n",
       "      <td>823.000000</td>\n",
       "      <td>71.000000</td>\n",
       "      <td>340.000000</td>\n",
       "    </tr>\n",
       "  </tbody>\n",
       "</table>\n",
       "</div>"
      ],
      "text/plain": [
       "                  id    entidade  fornecedor  complexidade  stat_pagto  \\\n",
       "count     103.000000  103.000000  103.000000    103.000000       103.0   \n",
       "mean   230365.398058    0.252427    0.058252      1.446602         0.0   \n",
       "std     23094.100900    0.572549    0.235365      0.637522         0.0   \n",
       "min         3.000000    0.000000    0.000000      0.000000         0.0   \n",
       "25%    230981.500000    0.000000    0.000000      1.000000         0.0   \n",
       "50%    233474.000000    0.000000    0.000000      1.000000         0.0   \n",
       "75%    235309.000000    0.000000    0.000000      2.000000         0.0   \n",
       "max    235831.000000    2.000000    1.000000      3.000000         0.0   \n",
       "\n",
       "       qtd_pag_word  qtd_pag_estimado  qtd_pg_word       qtd_carc  qtd_tabela  \\\n",
       "count    103.000000        103.000000   103.000000     103.000000  103.000000   \n",
       "mean      56.932039         91.932039    54.893204   83663.796117  265.213592   \n",
       "std       39.832065         62.057415    39.587558   86456.364381  159.830342   \n",
       "min       12.000000         35.000000    12.000000   12032.000000    2.000000   \n",
       "25%       32.500000         48.000000    29.000000   31167.000000  120.500000   \n",
       "50%       46.000000         75.000000    45.000000   62913.000000  286.000000   \n",
       "75%       74.500000        110.000000    70.000000  102817.000000  396.000000   \n",
       "max      216.000000        420.000000   216.000000  571640.000000  550.000000   \n",
       "\n",
       "        qtd_image  qtd_estilos   pag_final  \n",
       "count  103.000000   103.000000  103.000000  \n",
       "mean   352.466019    26.825243   76.271845  \n",
       "std    217.833981    13.101734   53.830561  \n",
       "min      2.000000     3.000000   22.000000  \n",
       "25%    171.000000    19.000000   45.000000  \n",
       "50%    339.000000    23.000000   68.000000  \n",
       "75%    461.500000    29.500000   88.000000  \n",
       "max    823.000000    71.000000  340.000000  "
      ]
     },
     "execution_count": 443,
     "metadata": {},
     "output_type": "execute_result"
    }
   ],
   "source": [
    "data.describe()"
   ]
  },
  {
   "cell_type": "markdown",
   "metadata": {},
   "source": [
    "# Normalizar?"
   ]
  },
  {
   "cell_type": "code",
   "execution_count": 444,
   "metadata": {},
   "outputs": [],
   "source": [
    "# padronização/escalonamento dos dados.\n",
    "#\n",
    "# Escalas Diferentes Podem Ser um Problema? Normalizar?\n",
    "# https://www.linkedin.com/pulse/pr%C3%A9-processamento-de-dados-intui%C3%A7%C3%A3o-e-pr%C3%A1tica-em-lucas-thiago-zane/\n",
    "# https://medium.com/tentando-ser-um-unic%C3%B3rnio/porqu%C3%AA-e-quando-%C3%A9-necess%C3%A1rio-normalizar-os-dados-92e5cce445aa\n",
    "#\n",
    "#"
   ]
  },
  {
   "cell_type": "code",
   "execution_count": 445,
   "metadata": {},
   "outputs": [],
   "source": [
    "# O objetivo da normalização é alterar os valores das colunas numéricas no conjunto de dados para uma escala comum,\n",
    "# sem distorcer as diferenças nos intervalos de valores.\n",
    "# Esse método é necessário apenas quando os parâmetros tiverem intervalos muito diferentes."
   ]
  },
  {
   "cell_type": "code",
   "execution_count": 446,
   "metadata": {},
   "outputs": [],
   "source": [
    "# a normalização não é necessária para a Regressão Logística.\n",
    "# a normalização poderá fazer sentido no tratamento de outliers.\n",
    "# Deixar variáveis com escalas similares é algo importante em algoritmos que trabalham com distâncias euclidianas,\n",
    "# como é o caso das regressões lineares multivariadas.\n",
    "# random florest não envolvem o uso de distâncias euclidianas."
   ]
  },
  {
   "attachments": {
    "image.png": {
     "image/png": "[encoded data removed]"
    }
   },
   "cell_type": "markdown",
   "metadata": {},
   "source": [
    "![image.png](attachment:image.png)"
   ]
  },
  {
   "cell_type": "code",
   "execution_count": 447,
   "metadata": {},
   "outputs": [],
   "source": [
    "# O que essa fórmula está dizendo é que pra cada observação em ambas as variáveis,\n",
    "# eu respondo a seguinte pergunta:quantos desvios padrões esse valor está longe da média? "
   ]
  },
  {
   "cell_type": "code",
   "execution_count": 448,
   "metadata": {},
   "outputs": [],
   "source": [
    "# “E se eu quiser modelar um classificador usando Regressão Logística, eu precisaria normalizar meus dados?”\n",
    "# Tecnicamente falando, a normalização não é necessária para a Regressão Logística, \n",
    "# pois ela trata com probabilidades relacionadas as classes envolvidas, \n",
    "# se preocupa em desenhar um “fronteira” de decisão em torno de um limiar (o famoso threshold).\n",
    "# Deixar variáveis com escalas similares é algo importante em algoritmos que trabalham com distâncias euclidianas, \n",
    "# como é o caso das regressões lineares multivariadas. "
   ]
  },
  {
   "cell_type": "code",
   "execution_count": 449,
   "metadata": {},
   "outputs": [],
   "source": [
    "# Os algoritmos de otimização:\n",
    "#Adaptive Gradient (AdaGrad)\n",
    "#Stochastic Gradient Descent (SGD)\n",
    "#Gradiente Descendente com Momentum (momentum)\n",
    "#Adaptative Delta Learning (adadelta)\n",
    "#Nesterov Accelerated Gradient (nag)\n",
    "#Otimizador RMSprop (rmsprop)\n"
   ]
  },
  {
   "cell_type": "markdown",
   "metadata": {},
   "source": [
    "### normalização (StandardScaler)\n",
    "\n",
    "from sklearn.preprocessing import StandardScaler\n",
    "\n",
    "- sc_X = StandardScaler()\n",
    "- X_train = sc_X.fit_transform(X_train)\n",
    "- X_test = sc_X.transform(X_test)\n",
    "\n",
    "- sc_y = StandardScaler()\n",
    "- y_train = sc_y.fit_transform(y_train)"
   ]
  },
  {
   "cell_type": "markdown",
   "metadata": {},
   "source": [
    "#### Uma maneira fácil de usar o Pandas : (aqui eu quero usar a normalização média)\n",
    "\n",
    "- normalized_df=(df-df.mean())/df.std()\n",
    "#### para usar a normalização min-max:\n",
    "\n",
    "- normalized_df=(df-df.min())/(df.max()-df.min())"
   ]
  },
  {
   "cell_type": "markdown",
   "metadata": {},
   "source": [
    "#### Você pode usar o pacote sklearn e seus utilitários de pré-processamento associados para normalizar os dados.\n",
    "\n",
    "- import pandas as pd\n",
    "- from sklearn import preprocessing\n",
    "\n",
    "- x = df.values #returns a numpy array\n",
    "- min_max_scaler = preprocessing.MinMaxScaler()\n",
    "- x_scaled = min_max_scaler.fit_transform(x)\n",
    "- df = pd.DataFrame(x_scaled)"
   ]
  },
  {
   "cell_type": "code",
   "execution_count": 450,
   "metadata": {},
   "outputs": [],
   "source": [
    "#\n",
    "# normalizar a quantidade de caracteres\n",
    "#\n",
    "data.loc[:,'qtd_carc_normal'] = pd.Series((data.qtd_carc-data.qtd_carc.min())/(data.qtd_carc.max()-data.qtd_carc.min()))"
   ]
  },
  {
   "cell_type": "code",
   "execution_count": 451,
   "metadata": {},
   "outputs": [],
   "source": [
    "#########################################################\n",
    "# INÍCIO DA PARTE DE MACHINE LEARNIG  \\\n",
    "# RANDOM FOREST\n",
    "########################################################"
   ]
  },
  {
   "cell_type": "code",
   "execution_count": 452,
   "metadata": {},
   "outputs": [],
   "source": [
    "# instalar biblioteca scikit-learn\n",
    "#! pip install -U scikit-learn"
   ]
  },
  {
   "cell_type": "code",
   "execution_count": 453,
   "metadata": {},
   "outputs": [
    {
     "data": {
      "text/plain": [
       "Index(['id', 'entidade', 'fornecedor', 'complexidade', 'stat_pagto',\n",
       "       'qtd_pag_word', 'qtd_pag_estimado', 'qtd_pg_word', 'qtd_carc',\n",
       "       'qtd_tabela', 'qtd_image', 'qtd_estilos', 'pag_final',\n",
       "       'qtd_carc_normal'],\n",
       "      dtype='object')"
      ]
     },
     "execution_count": 453,
     "metadata": {},
     "output_type": "execute_result"
    }
   ],
   "source": [
    "data.columns"
   ]
  },
  {
   "cell_type": "code",
   "execution_count": 768,
   "metadata": {},
   "outputs": [],
   "source": [
    "#colunas_X= ['qtd_pag_word', 'qtd_carc','qtd_tabela','qtd_image',\"qtd_estilos\"]\n",
    "#colunas_X= ['qtd_pag_word', 'qtd_tabela','qtd_image',\"qtd_estilos\", 'qtd_carc_normal']\n",
    "#colunas_X= ['qtd_pag_word', 'qtd_tabela','qtd_image','qtd_carc_normal']\n",
    "#colunas_X= ['qtd_pag_word', 'qtd_carc','qtd_tabela','qtd_image']\n",
    "#colunas_X= ['qtd_pag_word', 'qtd_tabela','qtd_image', 'qtd_carc_normal']\n",
    "\n",
    "\n",
    "#colunas_X= ['complexidade','entidade','qtd_pag_word', 'qtd_pg_word','qtd_tabela','qtd_image', 'qtd_carc']\n",
    "\n",
    "colunas_X= ['qtd_pag_word', 'qtd_pg_word','qtd_tabela','qtd_image','qtd_carc']\n",
    "\n",
    "\n",
    "colunas_y=['pag_final']\n",
    "X = data[colunas_X]\n",
    "y = data[colunas_y]"
   ]
  },
  {
   "cell_type": "code",
   "execution_count": 769,
   "metadata": {},
   "outputs": [
    {
     "data": {
      "text/plain": [
       "Index(['qtd_pag_word', 'qtd_pg_word', 'qtd_tabela', 'qtd_image', 'qtd_carc'], dtype='object')"
      ]
     },
     "execution_count": 769,
     "metadata": {},
     "output_type": "execute_result"
    }
   ],
   "source": [
    "X.columns"
   ]
  },
  {
   "cell_type": "code",
   "execution_count": 770,
   "metadata": {},
   "outputs": [
    {
     "ename": "ValueError",
     "evalue": "The least populated class in y has only 1 member, which is too few. The minimum number of groups for any class cannot be less than 2.",
     "output_type": "error",
     "traceback": [
      "\u001b[0;31m---------------------------------------------------------------------------\u001b[0m",
      "\u001b[0;31mValueError\u001b[0m                                Traceback (most recent call last)",
      "\u001b[0;32m<ipython-input-770-63dbfebea0bb>\u001b[0m in \u001b[0;36m<module>\u001b[0;34m\u001b[0m\n\u001b[1;32m      1\u001b[0m \u001b[0;31m# método train_test_split, Scikit-Learn\u001b[0m\u001b[0;34m\u001b[0m\u001b[0;34m\u001b[0m\u001b[0;34m\u001b[0m\u001b[0m\n\u001b[0;32m----> 2\u001b[0;31m \u001b[0mX_train_f\u001b[0m\u001b[0;34m,\u001b[0m \u001b[0mX_test_f\u001b[0m\u001b[0;34m,\u001b[0m \u001b[0my_train_f\u001b[0m\u001b[0;34m,\u001b[0m \u001b[0my_test_f\u001b[0m \u001b[0;34m=\u001b[0m \u001b[0mtrain_test_split\u001b[0m\u001b[0;34m(\u001b[0m\u001b[0mX\u001b[0m\u001b[0;34m,\u001b[0m \u001b[0my\u001b[0m\u001b[0;34m,\u001b[0m \u001b[0mtest_size\u001b[0m\u001b[0;34m=\u001b[0m\u001b[0;36m0.10\u001b[0m\u001b[0;34m,\u001b[0m \u001b[0mrandom_state\u001b[0m\u001b[0;34m=\u001b[0m\u001b[0;36m6\u001b[0m\u001b[0;34m,\u001b[0m\u001b[0mstratify\u001b[0m\u001b[0;34m=\u001b[0m\u001b[0mX\u001b[0m\u001b[0;34m[\u001b[0m\u001b[0;34m'qtd_pag_word'\u001b[0m\u001b[0;34m]\u001b[0m\u001b[0;34m)\u001b[0m\u001b[0;34m\u001b[0m\u001b[0;34m\u001b[0m\u001b[0m\n\u001b[0m",
      "\u001b[0;32m~/miniconda3/envs/py3/lib/python3.8/site-packages/sklearn/model_selection/_split.py\u001b[0m in \u001b[0;36mtrain_test_split\u001b[0;34m(*arrays, **options)\u001b[0m\n\u001b[1;32m   2150\u001b[0m                      random_state=random_state)\n\u001b[1;32m   2151\u001b[0m \u001b[0;34m\u001b[0m\u001b[0m\n\u001b[0;32m-> 2152\u001b[0;31m         \u001b[0mtrain\u001b[0m\u001b[0;34m,\u001b[0m \u001b[0mtest\u001b[0m \u001b[0;34m=\u001b[0m \u001b[0mnext\u001b[0m\u001b[0;34m(\u001b[0m\u001b[0mcv\u001b[0m\u001b[0;34m.\u001b[0m\u001b[0msplit\u001b[0m\u001b[0;34m(\u001b[0m\u001b[0mX\u001b[0m\u001b[0;34m=\u001b[0m\u001b[0marrays\u001b[0m\u001b[0;34m[\u001b[0m\u001b[0;36m0\u001b[0m\u001b[0;34m]\u001b[0m\u001b[0;34m,\u001b[0m \u001b[0my\u001b[0m\u001b[0;34m=\u001b[0m\u001b[0mstratify\u001b[0m\u001b[0;34m)\u001b[0m\u001b[0;34m)\u001b[0m\u001b[0;34m\u001b[0m\u001b[0;34m\u001b[0m\u001b[0m\n\u001b[0m\u001b[1;32m   2153\u001b[0m \u001b[0;34m\u001b[0m\u001b[0m\n\u001b[1;32m   2154\u001b[0m     return list(chain.from_iterable((_safe_indexing(a, train),\n",
      "\u001b[0;32m~/miniconda3/envs/py3/lib/python3.8/site-packages/sklearn/model_selection/_split.py\u001b[0m in \u001b[0;36msplit\u001b[0;34m(self, X, y, groups)\u001b[0m\n\u001b[1;32m   1339\u001b[0m         \"\"\"\n\u001b[1;32m   1340\u001b[0m         \u001b[0mX\u001b[0m\u001b[0;34m,\u001b[0m \u001b[0my\u001b[0m\u001b[0;34m,\u001b[0m \u001b[0mgroups\u001b[0m \u001b[0;34m=\u001b[0m \u001b[0mindexable\u001b[0m\u001b[0;34m(\u001b[0m\u001b[0mX\u001b[0m\u001b[0;34m,\u001b[0m \u001b[0my\u001b[0m\u001b[0;34m,\u001b[0m \u001b[0mgroups\u001b[0m\u001b[0;34m)\u001b[0m\u001b[0;34m\u001b[0m\u001b[0;34m\u001b[0m\u001b[0m\n\u001b[0;32m-> 1341\u001b[0;31m         \u001b[0;32mfor\u001b[0m \u001b[0mtrain\u001b[0m\u001b[0;34m,\u001b[0m \u001b[0mtest\u001b[0m \u001b[0;32min\u001b[0m \u001b[0mself\u001b[0m\u001b[0;34m.\u001b[0m\u001b[0m_iter_indices\u001b[0m\u001b[0;34m(\u001b[0m\u001b[0mX\u001b[0m\u001b[0;34m,\u001b[0m \u001b[0my\u001b[0m\u001b[0;34m,\u001b[0m \u001b[0mgroups\u001b[0m\u001b[0;34m)\u001b[0m\u001b[0;34m:\u001b[0m\u001b[0;34m\u001b[0m\u001b[0;34m\u001b[0m\u001b[0m\n\u001b[0m\u001b[1;32m   1342\u001b[0m             \u001b[0;32myield\u001b[0m \u001b[0mtrain\u001b[0m\u001b[0;34m,\u001b[0m \u001b[0mtest\u001b[0m\u001b[0;34m\u001b[0m\u001b[0;34m\u001b[0m\u001b[0m\n\u001b[1;32m   1343\u001b[0m \u001b[0;34m\u001b[0m\u001b[0m\n",
      "\u001b[0;32m~/miniconda3/envs/py3/lib/python3.8/site-packages/sklearn/model_selection/_split.py\u001b[0m in \u001b[0;36m_iter_indices\u001b[0;34m(self, X, y, groups)\u001b[0m\n\u001b[1;32m   1666\u001b[0m         \u001b[0mclass_counts\u001b[0m \u001b[0;34m=\u001b[0m \u001b[0mnp\u001b[0m\u001b[0;34m.\u001b[0m\u001b[0mbincount\u001b[0m\u001b[0;34m(\u001b[0m\u001b[0my_indices\u001b[0m\u001b[0;34m)\u001b[0m\u001b[0;34m\u001b[0m\u001b[0;34m\u001b[0m\u001b[0m\n\u001b[1;32m   1667\u001b[0m         \u001b[0;32mif\u001b[0m \u001b[0mnp\u001b[0m\u001b[0;34m.\u001b[0m\u001b[0mmin\u001b[0m\u001b[0;34m(\u001b[0m\u001b[0mclass_counts\u001b[0m\u001b[0;34m)\u001b[0m \u001b[0;34m<\u001b[0m \u001b[0;36m2\u001b[0m\u001b[0;34m:\u001b[0m\u001b[0;34m\u001b[0m\u001b[0;34m\u001b[0m\u001b[0m\n\u001b[0;32m-> 1668\u001b[0;31m             raise ValueError(\"The least populated class in y has only 1\"\n\u001b[0m\u001b[1;32m   1669\u001b[0m                              \u001b[0;34m\" member, which is too few. The minimum\"\u001b[0m\u001b[0;34m\u001b[0m\u001b[0;34m\u001b[0m\u001b[0m\n\u001b[1;32m   1670\u001b[0m                              \u001b[0;34m\" number of groups for any class cannot\"\u001b[0m\u001b[0;34m\u001b[0m\u001b[0;34m\u001b[0m\u001b[0m\n",
      "\u001b[0;31mValueError\u001b[0m: The least populated class in y has only 1 member, which is too few. The minimum number of groups for any class cannot be less than 2."
     ]
    }
   ],
   "source": [
    "# método train_test_split, Scikit-Learn \n",
    "X_train_f, X_test_f, y_train_f, y_test_f = train_test_split(X, y, test_size=0.10, random_state=6,stratify=X['qtd_pag_word'])"
   ]
  },
  {
   "cell_type": "code",
   "execution_count": 713,
   "metadata": {},
   "outputs": [
    {
     "data": {
      "text/plain": [
       "((92, 10), (11, 10), (92, 1), (11, 1))"
      ]
     },
     "execution_count": 713,
     "metadata": {},
     "output_type": "execute_result"
    }
   ],
   "source": [
    "X_train_f.shape, X_test_f.shape, y_train_f.shape, y_test_f.shape"
   ]
  },
  {
   "cell_type": "code",
   "execution_count": 714,
   "metadata": {},
   "outputs": [
    {
     "data": {
      "text/html": [
       "<div>\n",
       "<style scoped>\n",
       "    .dataframe tbody tr th:only-of-type {\n",
       "        vertical-align: middle;\n",
       "    }\n",
       "\n",
       "    .dataframe tbody tr th {\n",
       "        vertical-align: top;\n",
       "    }\n",
       "\n",
       "    .dataframe thead th {\n",
       "        text-align: right;\n",
       "    }\n",
       "</style>\n",
       "<table border=\"1\" class=\"dataframe\">\n",
       "  <thead>\n",
       "    <tr style=\"text-align: right;\">\n",
       "      <th></th>\n",
       "      <th>pag_final</th>\n",
       "    </tr>\n",
       "  </thead>\n",
       "  <tbody>\n",
       "    <tr>\n",
       "      <th>0</th>\n",
       "      <td>140</td>\n",
       "    </tr>\n",
       "    <tr>\n",
       "      <th>96</th>\n",
       "      <td>44</td>\n",
       "    </tr>\n",
       "    <tr>\n",
       "      <th>31</th>\n",
       "      <td>76</td>\n",
       "    </tr>\n",
       "    <tr>\n",
       "      <th>89</th>\n",
       "      <td>40</td>\n",
       "    </tr>\n",
       "    <tr>\n",
       "      <th>71</th>\n",
       "      <td>296</td>\n",
       "    </tr>\n",
       "  </tbody>\n",
       "</table>\n",
       "</div>"
      ],
      "text/plain": [
       "    pag_final\n",
       "0         140\n",
       "96         44\n",
       "31         76\n",
       "89         40\n",
       "71        296"
      ]
     },
     "execution_count": 714,
     "metadata": {},
     "output_type": "execute_result"
    }
   ],
   "source": [
    "y_test_f.head()"
   ]
  },
  {
   "cell_type": "code",
   "execution_count": 715,
   "metadata": {},
   "outputs": [
    {
     "data": {
      "text/html": [
       "<div>\n",
       "<style scoped>\n",
       "    .dataframe tbody tr th:only-of-type {\n",
       "        vertical-align: middle;\n",
       "    }\n",
       "\n",
       "    .dataframe tbody tr th {\n",
       "        vertical-align: top;\n",
       "    }\n",
       "\n",
       "    .dataframe thead th {\n",
       "        text-align: right;\n",
       "    }\n",
       "</style>\n",
       "<table border=\"1\" class=\"dataframe\">\n",
       "  <thead>\n",
       "    <tr style=\"text-align: right;\">\n",
       "      <th></th>\n",
       "      <th>id</th>\n",
       "      <th>complexidade</th>\n",
       "      <th>qtd_pag_estimado</th>\n",
       "      <th>qtd_pag_word</th>\n",
       "      <th>qtd_pg_word</th>\n",
       "      <th>qtd_carc</th>\n",
       "      <th>qtd_tabela</th>\n",
       "      <th>qtd_image</th>\n",
       "      <th>qtd_estilos</th>\n",
       "      <th>qtd_carc_normal</th>\n",
       "    </tr>\n",
       "  </thead>\n",
       "  <tbody>\n",
       "    <tr>\n",
       "      <th>101</th>\n",
       "      <td>235700</td>\n",
       "      <td>2</td>\n",
       "      <td>48.0</td>\n",
       "      <td>38</td>\n",
       "      <td>37</td>\n",
       "      <td>40157</td>\n",
       "      <td>354</td>\n",
       "      <td>334</td>\n",
       "      <td>16.0</td>\n",
       "      <td>0.050258</td>\n",
       "    </tr>\n",
       "    <tr>\n",
       "      <th>24</th>\n",
       "      <td>230874</td>\n",
       "      <td>2</td>\n",
       "      <td>48.0</td>\n",
       "      <td>22</td>\n",
       "      <td>22</td>\n",
       "      <td>19773</td>\n",
       "      <td>380</td>\n",
       "      <td>618</td>\n",
       "      <td>22.0</td>\n",
       "      <td>0.013833</td>\n",
       "    </tr>\n",
       "    <tr>\n",
       "      <th>45</th>\n",
       "      <td>232625</td>\n",
       "      <td>1</td>\n",
       "      <td>150.0</td>\n",
       "      <td>107</td>\n",
       "      <td>107</td>\n",
       "      <td>144490</td>\n",
       "      <td>517</td>\n",
       "      <td>795</td>\n",
       "      <td>31.0</td>\n",
       "      <td>0.236698</td>\n",
       "    </tr>\n",
       "    <tr>\n",
       "      <th>38</th>\n",
       "      <td>231928</td>\n",
       "      <td>2</td>\n",
       "      <td>48.0</td>\n",
       "      <td>34</td>\n",
       "      <td>34</td>\n",
       "      <td>56358</td>\n",
       "      <td>104</td>\n",
       "      <td>119</td>\n",
       "      <td>25.0</td>\n",
       "      <td>0.079209</td>\n",
       "    </tr>\n",
       "    <tr>\n",
       "      <th>48</th>\n",
       "      <td>231274</td>\n",
       "      <td>1</td>\n",
       "      <td>110.0</td>\n",
       "      <td>78</td>\n",
       "      <td>76</td>\n",
       "      <td>83989</td>\n",
       "      <td>372</td>\n",
       "      <td>608</td>\n",
       "      <td>50.0</td>\n",
       "      <td>0.128585</td>\n",
       "    </tr>\n",
       "    <tr>\n",
       "      <th>...</th>\n",
       "      <td>...</td>\n",
       "      <td>...</td>\n",
       "      <td>...</td>\n",
       "      <td>...</td>\n",
       "      <td>...</td>\n",
       "      <td>...</td>\n",
       "      <td>...</td>\n",
       "      <td>...</td>\n",
       "      <td>...</td>\n",
       "      <td>...</td>\n",
       "    </tr>\n",
       "    <tr>\n",
       "      <th>80</th>\n",
       "      <td>235353</td>\n",
       "      <td>3</td>\n",
       "      <td>70.0</td>\n",
       "      <td>46</td>\n",
       "      <td>46</td>\n",
       "      <td>64211</td>\n",
       "      <td>298</td>\n",
       "      <td>307</td>\n",
       "      <td>22.0</td>\n",
       "      <td>0.093242</td>\n",
       "    </tr>\n",
       "    <tr>\n",
       "      <th>85</th>\n",
       "      <td>235519</td>\n",
       "      <td>1</td>\n",
       "      <td>90.0</td>\n",
       "      <td>59</td>\n",
       "      <td>59</td>\n",
       "      <td>122719</td>\n",
       "      <td>462</td>\n",
       "      <td>442</td>\n",
       "      <td>23.0</td>\n",
       "      <td>0.197794</td>\n",
       "    </tr>\n",
       "    <tr>\n",
       "      <th>100</th>\n",
       "      <td>235514</td>\n",
       "      <td>1</td>\n",
       "      <td>104.0</td>\n",
       "      <td>56</td>\n",
       "      <td>41</td>\n",
       "      <td>51127</td>\n",
       "      <td>371</td>\n",
       "      <td>373</td>\n",
       "      <td>18.0</td>\n",
       "      <td>0.069861</td>\n",
       "    </tr>\n",
       "    <tr>\n",
       "      <th>74</th>\n",
       "      <td>235092</td>\n",
       "      <td>1</td>\n",
       "      <td>72.0</td>\n",
       "      <td>43</td>\n",
       "      <td>43</td>\n",
       "      <td>66193</td>\n",
       "      <td>379</td>\n",
       "      <td>381</td>\n",
       "      <td>19.0</td>\n",
       "      <td>0.096784</td>\n",
       "    </tr>\n",
       "    <tr>\n",
       "      <th>11</th>\n",
       "      <td>228863</td>\n",
       "      <td>2</td>\n",
       "      <td>48.0</td>\n",
       "      <td>34</td>\n",
       "      <td>34</td>\n",
       "      <td>56363</td>\n",
       "      <td>118</td>\n",
       "      <td>135</td>\n",
       "      <td>71.0</td>\n",
       "      <td>0.079218</td>\n",
       "    </tr>\n",
       "  </tbody>\n",
       "</table>\n",
       "<p>92 rows × 10 columns</p>\n",
       "</div>"
      ],
      "text/plain": [
       "         id  complexidade  qtd_pag_estimado  qtd_pag_word  qtd_pg_word  \\\n",
       "101  235700             2              48.0            38           37   \n",
       "24   230874             2              48.0            22           22   \n",
       "45   232625             1             150.0           107          107   \n",
       "38   231928             2              48.0            34           34   \n",
       "48   231274             1             110.0            78           76   \n",
       "..      ...           ...               ...           ...          ...   \n",
       "80   235353             3              70.0            46           46   \n",
       "85   235519             1              90.0            59           59   \n",
       "100  235514             1             104.0            56           41   \n",
       "74   235092             1              72.0            43           43   \n",
       "11   228863             2              48.0            34           34   \n",
       "\n",
       "     qtd_carc  qtd_tabela  qtd_image  qtd_estilos  qtd_carc_normal  \n",
       "101     40157         354        334         16.0         0.050258  \n",
       "24      19773         380        618         22.0         0.013833  \n",
       "45     144490         517        795         31.0         0.236698  \n",
       "38      56358         104        119         25.0         0.079209  \n",
       "48      83989         372        608         50.0         0.128585  \n",
       "..        ...         ...        ...          ...              ...  \n",
       "80      64211         298        307         22.0         0.093242  \n",
       "85     122719         462        442         23.0         0.197794  \n",
       "100     51127         371        373         18.0         0.069861  \n",
       "74      66193         379        381         19.0         0.096784  \n",
       "11      56363         118        135         71.0         0.079218  \n",
       "\n",
       "[92 rows x 10 columns]"
      ]
     },
     "execution_count": 715,
     "metadata": {},
     "output_type": "execute_result"
    }
   ],
   "source": [
    "X_train_f"
   ]
  },
  {
   "cell_type": "code",
   "execution_count": 716,
   "metadata": {},
   "outputs": [
    {
     "data": {
      "text/plain": [
       "id                    int64\n",
       "complexidade          int64\n",
       "qtd_pag_estimado    float64\n",
       "qtd_pag_word          int64\n",
       "qtd_pg_word           int64\n",
       "qtd_carc              int64\n",
       "qtd_tabela            int64\n",
       "qtd_image             int64\n",
       "qtd_estilos         float64\n",
       "qtd_carc_normal     float64\n",
       "dtype: object"
      ]
     },
     "execution_count": 716,
     "metadata": {},
     "output_type": "execute_result"
    }
   ],
   "source": [
    "X_train_f.dtypes"
   ]
  },
  {
   "cell_type": "code",
   "execution_count": 717,
   "metadata": {},
   "outputs": [
    {
     "data": {
      "text/html": [
       "<div>\n",
       "<style scoped>\n",
       "    .dataframe tbody tr th:only-of-type {\n",
       "        vertical-align: middle;\n",
       "    }\n",
       "\n",
       "    .dataframe tbody tr th {\n",
       "        vertical-align: top;\n",
       "    }\n",
       "\n",
       "    .dataframe thead th {\n",
       "        text-align: right;\n",
       "    }\n",
       "</style>\n",
       "<table border=\"1\" class=\"dataframe\">\n",
       "  <thead>\n",
       "    <tr style=\"text-align: right;\">\n",
       "      <th></th>\n",
       "      <th>pag_final</th>\n",
       "    </tr>\n",
       "  </thead>\n",
       "  <tbody>\n",
       "    <tr>\n",
       "      <th>101</th>\n",
       "      <td>44</td>\n",
       "    </tr>\n",
       "    <tr>\n",
       "      <th>24</th>\n",
       "      <td>34</td>\n",
       "    </tr>\n",
       "    <tr>\n",
       "      <th>45</th>\n",
       "      <td>104</td>\n",
       "    </tr>\n",
       "    <tr>\n",
       "      <th>38</th>\n",
       "      <td>48</td>\n",
       "    </tr>\n",
       "    <tr>\n",
       "      <th>48</th>\n",
       "      <td>100</td>\n",
       "    </tr>\n",
       "    <tr>\n",
       "      <th>...</th>\n",
       "      <td>...</td>\n",
       "    </tr>\n",
       "    <tr>\n",
       "      <th>80</th>\n",
       "      <td>54</td>\n",
       "    </tr>\n",
       "    <tr>\n",
       "      <th>85</th>\n",
       "      <td>78</td>\n",
       "    </tr>\n",
       "    <tr>\n",
       "      <th>100</th>\n",
       "      <td>72</td>\n",
       "    </tr>\n",
       "    <tr>\n",
       "      <th>74</th>\n",
       "      <td>68</td>\n",
       "    </tr>\n",
       "    <tr>\n",
       "      <th>11</th>\n",
       "      <td>46</td>\n",
       "    </tr>\n",
       "  </tbody>\n",
       "</table>\n",
       "<p>92 rows × 1 columns</p>\n",
       "</div>"
      ],
      "text/plain": [
       "     pag_final\n",
       "101         44\n",
       "24          34\n",
       "45         104\n",
       "38          48\n",
       "48         100\n",
       "..         ...\n",
       "80          54\n",
       "85          78\n",
       "100         72\n",
       "74          68\n",
       "11          46\n",
       "\n",
       "[92 rows x 1 columns]"
      ]
     },
     "execution_count": 717,
     "metadata": {},
     "output_type": "execute_result"
    }
   ],
   "source": [
    "y_train_f"
   ]
  },
  {
   "cell_type": "code",
   "execution_count": 718,
   "metadata": {},
   "outputs": [
    {
     "name": "stdout",
     "output_type": "stream",
     "text": [
      "(92, 10) (92, 1)\n"
     ]
    }
   ],
   "source": [
    "print(X_train_f.shape,y_train_f.shape)"
   ]
  },
  {
   "cell_type": "code",
   "execution_count": 719,
   "metadata": {},
   "outputs": [
    {
     "name": "stdout",
     "output_type": "stream",
     "text": [
      "(92, 10) (92,)\n"
     ]
    }
   ],
   "source": [
    "print(X_train_f.shape,y_train_f.values.ravel().shape)"
   ]
  },
  {
   "cell_type": "code",
   "execution_count": 720,
   "metadata": {},
   "outputs": [],
   "source": [
    "modelo = RandomForestClassifier(n_estimators=100, n_jobs=-1, random_state=0)\n",
    "#modelo = RandomForestClassifier(n_estimators=100, n_jobs=-1, random_state=0)\n",
    "\n",
    "#modelo.fit(X_train_f, y_train_f)\n",
    "modelo = modelo.fit(X_train_f, y_train_f.values.ravel())\n",
    "\n",
    "# https://stackoverflow.com/questions/34165731/a-column-vector-y-was-passed-when-a-1d-array-was-expected\n",
    "#.values will give the values in an array. (shape: (n,1)\n",
    "#.ravel will convert that array shape to   (n, )"
   ]
  },
  {
   "cell_type": "code",
   "execution_count": 721,
   "metadata": {},
   "outputs": [],
   "source": [
    "p = modelo.predict(X_test_f)"
   ]
  },
  {
   "cell_type": "code",
   "execution_count": 722,
   "metadata": {},
   "outputs": [
    {
     "data": {
      "text/plain": [
       "array([110,  48,  66,  44, 340,  48,  38,  98,  98,  34,  86])"
      ]
     },
     "execution_count": 722,
     "metadata": {},
     "output_type": "execute_result"
    }
   ],
   "source": [
    "p"
   ]
  },
  {
   "cell_type": "code",
   "execution_count": 723,
   "metadata": {},
   "outputs": [
    {
     "name": "stdout",
     "output_type": "stream",
     "text": [
      "(11,) (11, 1)\n"
     ]
    }
   ],
   "source": [
    "print(p.shape,y_test_f.shape)"
   ]
  },
  {
   "cell_type": "code",
   "execution_count": 724,
   "metadata": {},
   "outputs": [
    {
     "data": {
      "text/html": [
       "<div>\n",
       "<style scoped>\n",
       "    .dataframe tbody tr th:only-of-type {\n",
       "        vertical-align: middle;\n",
       "    }\n",
       "\n",
       "    .dataframe tbody tr th {\n",
       "        vertical-align: top;\n",
       "    }\n",
       "\n",
       "    .dataframe thead th {\n",
       "        text-align: right;\n",
       "    }\n",
       "</style>\n",
       "<table border=\"1\" class=\"dataframe\">\n",
       "  <thead>\n",
       "    <tr style=\"text-align: right;\">\n",
       "      <th></th>\n",
       "      <th>pag_final</th>\n",
       "    </tr>\n",
       "  </thead>\n",
       "  <tbody>\n",
       "    <tr>\n",
       "      <th>0</th>\n",
       "      <td>140</td>\n",
       "    </tr>\n",
       "    <tr>\n",
       "      <th>96</th>\n",
       "      <td>44</td>\n",
       "    </tr>\n",
       "    <tr>\n",
       "      <th>31</th>\n",
       "      <td>76</td>\n",
       "    </tr>\n",
       "    <tr>\n",
       "      <th>89</th>\n",
       "      <td>40</td>\n",
       "    </tr>\n",
       "    <tr>\n",
       "      <th>71</th>\n",
       "      <td>296</td>\n",
       "    </tr>\n",
       "    <tr>\n",
       "      <th>21</th>\n",
       "      <td>48</td>\n",
       "    </tr>\n",
       "    <tr>\n",
       "      <th>35</th>\n",
       "      <td>38</td>\n",
       "    </tr>\n",
       "    <tr>\n",
       "      <th>30</th>\n",
       "      <td>100</td>\n",
       "    </tr>\n",
       "    <tr>\n",
       "      <th>46</th>\n",
       "      <td>96</td>\n",
       "    </tr>\n",
       "    <tr>\n",
       "      <th>68</th>\n",
       "      <td>38</td>\n",
       "    </tr>\n",
       "    <tr>\n",
       "      <th>47</th>\n",
       "      <td>92</td>\n",
       "    </tr>\n",
       "  </tbody>\n",
       "</table>\n",
       "</div>"
      ],
      "text/plain": [
       "    pag_final\n",
       "0         140\n",
       "96         44\n",
       "31         76\n",
       "89         40\n",
       "71        296\n",
       "21         48\n",
       "35         38\n",
       "30        100\n",
       "46         96\n",
       "68         38\n",
       "47         92"
      ]
     },
     "execution_count": 724,
     "metadata": {},
     "output_type": "execute_result"
    }
   ],
   "source": [
    "y_test_f"
   ]
  },
  {
   "cell_type": "code",
   "execution_count": 725,
   "metadata": {},
   "outputs": [
    {
     "name": "stdout",
     "output_type": "stream",
     "text": [
      "RMSE:  16.591344950688214\n"
     ]
    }
   ],
   "source": [
    "# Calculando RMSE utilizando scikit-learn\n",
    "print('RMSE: ',np.sqrt(metrics.mean_squared_error(y_test_f,p)))\n",
    "# RMSE:  78.92781512242689\n",
    "# RMSE:  78.58244078673046\n",
    "# RMSE:  19.371957239079567\n",
    "# RMSE:  53.665631459994955\n",
    "# RMSE:  26.642413213111567 sem a feature quantidade de estilo\n",
    "# RMSE:  28.926238482168273   ['qtd_pag_word', 'qtd_carc','qtd_tabela','qtd_image']\n"
   ]
  },
  {
   "cell_type": "code",
   "execution_count": 726,
   "metadata": {},
   "outputs": [],
   "source": [
    "# Save Model Using Pickle\n",
    "# save the model to disk\n",
    "\n",
    "filename = 'finalized_model-forest3a.sav'\n",
    "pickle.dump(modelo, open(filename, 'wb'))\n",
    " "
   ]
  },
  {
   "cell_type": "code",
   "execution_count": null,
   "metadata": {},
   "outputs": [],
   "source": []
  },
  {
   "cell_type": "code",
   "execution_count": null,
   "metadata": {},
   "outputs": [],
   "source": []
  },
  {
   "cell_type": "code",
   "execution_count": 727,
   "metadata": {},
   "outputs": [],
   "source": [
    "##############################################################################################################"
   ]
  },
  {
   "cell_type": "code",
   "execution_count": 728,
   "metadata": {},
   "outputs": [],
   "source": [
    "#########################################################\n",
    "# FIM RANDOM FOREST\n",
    "########################################################"
   ]
  },
  {
   "cell_type": "code",
   "execution_count": null,
   "metadata": {},
   "outputs": [],
   "source": []
  },
  {
   "cell_type": "code",
   "execution_count": 729,
   "metadata": {},
   "outputs": [],
   "source": [
    "# https://github.com/WalnerPessoa/Medical-Cost-Personal/blob/master/Aula%205%20-%20Regress%C3%A3o%20linear%20para%20prever%20as%20despesas%20m%C3%A9dicas%20de%20um%20paciente%20.ipynb\n",
    "\n",
    "\n",
    "# Criando uma lista com os nomes dos atributos\n",
    "#feature_cols = ['age','sex','bmi','children','smoker']\n",
    "\n",
    "# Usando a lista para escolher um subconjunto do dataframe original\n",
    "#X = data[feature_cols]\n",
    "\n",
    "# Selecionando a Série no dataframe\n",
    "#y = data.charges\n",
    "\n",
    "# Dividindo entre conjunto de treinamento e teste\n",
    "#X_train, X_test, y_train, y_test = train_test_split(X, y, random_state=1)\n",
    "\n",
    "# Ajsutando o modelo (Aprendendo os coeficientes)\n",
    "#linreg.fit(X_train, y_train)\n",
    "\n",
    "# Fazendo predições no conjunto de teste\n",
    "#y_pred = linreg.predict(X_test)\n",
    "\n",
    "# Calculando RMSE para nossas predições\n",
    "#print(np.sqrt(metrics.mean_squared_error(y_test, y_pred)))"
   ]
  },
  {
   "cell_type": "code",
   "execution_count": 730,
   "metadata": {},
   "outputs": [],
   "source": [
    "##############################################################################################################"
   ]
  },
  {
   "cell_type": "code",
   "execution_count": 731,
   "metadata": {},
   "outputs": [],
   "source": [
    "#########################################################\n",
    "# INÍCIO DA PARTE DE MACHINE LEARNIG  \\\n",
    "# LINEAR REGRESSION\n",
    "########################################################"
   ]
  },
  {
   "cell_type": "code",
   "execution_count": 732,
   "metadata": {},
   "outputs": [],
   "source": [
    "# prepara dados de entrada X e dados de saida Y\n",
    "#colunas_X= ['entidade', 'fornecedor', 'complexidade', 'stat_pagto','qtd_pag_word', 'qtd_carc', 'qtd_tabela','qtd_image']\n",
    "# colunas_X= ['complexidade', 'qtd_pag_word', 'qtd_carc','qtd_tabela','qtd_image']\n",
    "#colunas_X= ['complexidade', 'qtd_pag_word', \"qtd_carc_normal\",'qtd_tabela','qtd_image']\n",
    "#colunas_X= ['complexidade', 'qtd_pag_word', 'qtd_pag_estimado','qtd_carc','qtd_tabela','qtd_image']\n",
    "#colunas_X= ['qtd_pag_word', 'qtd_carc','qtd_tabela','qtd_image',\"qtd_estilos\"]\n",
    "#colunas_X= ['qtd_pag_word', 'qtd_tabela','qtd_image',\"qtd_estilos\", 'qtd_carc_normal']\n",
    "#colunas_X= ['qtd_pag_word', 'qtd_tabela','qtd_image', 'qtd_carc_normal']\n",
    "\n",
    "\n",
    "#colunas_X= ['id','qtd_pag_word', 'qtd_pag_estimado', 'qtd_carc','qtd_tabela','qtd_image']\n",
    "colunas_X= ['id','complexidade', 'qtd_pag_estimado', 'qtd_pag_word', 'qtd_pg_word','qtd_carc','qtd_tabela','qtd_image',\"qtd_estilos\",'qtd_carc_normal']\n",
    "\n",
    "\n",
    "colunas_y=['pag_final']\n",
    "X = data[colunas_X]\n",
    "y = data[colunas_y]"
   ]
  },
  {
   "cell_type": "code",
   "execution_count": 733,
   "metadata": {},
   "outputs": [],
   "source": [
    "# método train_test_split, Scikit-Learn \n",
    "X_train, X_test, y_train, y_test = train_test_split(X, y,  test_size=0.10,random_state=6) # feito com 0,10 e agora com 0,20"
   ]
  },
  {
   "cell_type": "code",
   "execution_count": 734,
   "metadata": {},
   "outputs": [],
   "source": [
    "####\n",
    "####   selecionar a FEATURES para MODELO\n",
    "####\n",
    "# mantendo algumas features para compara resultados no final no arquivo X_train_ref\n",
    "X_test_ref = X_test.copy()\n",
    "X_train_ref= X_train.copy()\n",
    "\n",
    "# X_test = X_test_ref[['qtd_pag_word', 'qtd_carc','qtd_tabela','qtd_image']]\n",
    "\n",
    "#X_test = X_test_ref[[ 'qtd_pag_word', 'qtd_tabela','qtd_image','qtd_carc_normal']]\n",
    "#X_test = X_test_ref[['qtd_pag_word', 'qtd_tabela','qtd_image',\"qtd_estilos\", 'qtd_carc_normal']]\n",
    "\n",
    "X_test = X_test_ref[[ 'qtd_pag_word','qtd_pg_word','qtd_tabela','qtd_image',\"qtd_estilos\", 'qtd_carc_normal']]\n",
    "\n",
    "\n",
    "#X_train = X_train_ref[['qtd_pag_word', 'qtd_carc','qtd_tabela','qtd_image']]\n",
    "\n",
    "#X_train = X_train_ref[['qtd_pag_word', 'qtd_tabela','qtd_image','qtd_carc_normal']]\n",
    "#X_train = X_train_ref[['qtd_pag_word', 'qtd_tabela','qtd_image',\"qtd_estilos\", 'qtd_carc_normal']]\n",
    "\n",
    "X_train = X_train_ref[['qtd_pag_word','qtd_pg_word', 'qtd_tabela','qtd_image',\"qtd_estilos\", 'qtd_carc_normal']]\n",
    "\n"
   ]
  },
  {
   "cell_type": "code",
   "execution_count": 735,
   "metadata": {},
   "outputs": [
    {
     "data": {
      "text/plain": [
       "Index(['id', 'complexidade', 'qtd_pag_estimado', 'qtd_pag_word', 'qtd_pg_word',\n",
       "       'qtd_carc', 'qtd_tabela', 'qtd_image', 'qtd_estilos',\n",
       "       'qtd_carc_normal'],\n",
       "      dtype='object')"
      ]
     },
     "execution_count": 735,
     "metadata": {},
     "output_type": "execute_result"
    }
   ],
   "source": [
    "X_test_ref.columns"
   ]
  },
  {
   "cell_type": "code",
   "execution_count": 736,
   "metadata": {},
   "outputs": [
    {
     "data": {
      "text/html": [
       "<div>\n",
       "<style scoped>\n",
       "    .dataframe tbody tr th:only-of-type {\n",
       "        vertical-align: middle;\n",
       "    }\n",
       "\n",
       "    .dataframe tbody tr th {\n",
       "        vertical-align: top;\n",
       "    }\n",
       "\n",
       "    .dataframe thead th {\n",
       "        text-align: right;\n",
       "    }\n",
       "</style>\n",
       "<table border=\"1\" class=\"dataframe\">\n",
       "  <thead>\n",
       "    <tr style=\"text-align: right;\">\n",
       "      <th></th>\n",
       "      <th>qtd_pag_word</th>\n",
       "      <th>qtd_pg_word</th>\n",
       "      <th>qtd_tabela</th>\n",
       "      <th>qtd_image</th>\n",
       "      <th>qtd_estilos</th>\n",
       "      <th>qtd_carc_normal</th>\n",
       "    </tr>\n",
       "  </thead>\n",
       "  <tbody>\n",
       "    <tr>\n",
       "      <th>101</th>\n",
       "      <td>38</td>\n",
       "      <td>37</td>\n",
       "      <td>354</td>\n",
       "      <td>334</td>\n",
       "      <td>16.0</td>\n",
       "      <td>0.050258</td>\n",
       "    </tr>\n",
       "    <tr>\n",
       "      <th>24</th>\n",
       "      <td>22</td>\n",
       "      <td>22</td>\n",
       "      <td>380</td>\n",
       "      <td>618</td>\n",
       "      <td>22.0</td>\n",
       "      <td>0.013833</td>\n",
       "    </tr>\n",
       "    <tr>\n",
       "      <th>45</th>\n",
       "      <td>107</td>\n",
       "      <td>107</td>\n",
       "      <td>517</td>\n",
       "      <td>795</td>\n",
       "      <td>31.0</td>\n",
       "      <td>0.236698</td>\n",
       "    </tr>\n",
       "    <tr>\n",
       "      <th>38</th>\n",
       "      <td>34</td>\n",
       "      <td>34</td>\n",
       "      <td>104</td>\n",
       "      <td>119</td>\n",
       "      <td>25.0</td>\n",
       "      <td>0.079209</td>\n",
       "    </tr>\n",
       "    <tr>\n",
       "      <th>48</th>\n",
       "      <td>78</td>\n",
       "      <td>76</td>\n",
       "      <td>372</td>\n",
       "      <td>608</td>\n",
       "      <td>50.0</td>\n",
       "      <td>0.128585</td>\n",
       "    </tr>\n",
       "    <tr>\n",
       "      <th>...</th>\n",
       "      <td>...</td>\n",
       "      <td>...</td>\n",
       "      <td>...</td>\n",
       "      <td>...</td>\n",
       "      <td>...</td>\n",
       "      <td>...</td>\n",
       "    </tr>\n",
       "    <tr>\n",
       "      <th>80</th>\n",
       "      <td>46</td>\n",
       "      <td>46</td>\n",
       "      <td>298</td>\n",
       "      <td>307</td>\n",
       "      <td>22.0</td>\n",
       "      <td>0.093242</td>\n",
       "    </tr>\n",
       "    <tr>\n",
       "      <th>85</th>\n",
       "      <td>59</td>\n",
       "      <td>59</td>\n",
       "      <td>462</td>\n",
       "      <td>442</td>\n",
       "      <td>23.0</td>\n",
       "      <td>0.197794</td>\n",
       "    </tr>\n",
       "    <tr>\n",
       "      <th>100</th>\n",
       "      <td>56</td>\n",
       "      <td>41</td>\n",
       "      <td>371</td>\n",
       "      <td>373</td>\n",
       "      <td>18.0</td>\n",
       "      <td>0.069861</td>\n",
       "    </tr>\n",
       "    <tr>\n",
       "      <th>74</th>\n",
       "      <td>43</td>\n",
       "      <td>43</td>\n",
       "      <td>379</td>\n",
       "      <td>381</td>\n",
       "      <td>19.0</td>\n",
       "      <td>0.096784</td>\n",
       "    </tr>\n",
       "    <tr>\n",
       "      <th>11</th>\n",
       "      <td>34</td>\n",
       "      <td>34</td>\n",
       "      <td>118</td>\n",
       "      <td>135</td>\n",
       "      <td>71.0</td>\n",
       "      <td>0.079218</td>\n",
       "    </tr>\n",
       "  </tbody>\n",
       "</table>\n",
       "<p>92 rows × 6 columns</p>\n",
       "</div>"
      ],
      "text/plain": [
       "     qtd_pag_word  qtd_pg_word  qtd_tabela  qtd_image  qtd_estilos  \\\n",
       "101            38           37         354        334         16.0   \n",
       "24             22           22         380        618         22.0   \n",
       "45            107          107         517        795         31.0   \n",
       "38             34           34         104        119         25.0   \n",
       "48             78           76         372        608         50.0   \n",
       "..            ...          ...         ...        ...          ...   \n",
       "80             46           46         298        307         22.0   \n",
       "85             59           59         462        442         23.0   \n",
       "100            56           41         371        373         18.0   \n",
       "74             43           43         379        381         19.0   \n",
       "11             34           34         118        135         71.0   \n",
       "\n",
       "     qtd_carc_normal  \n",
       "101         0.050258  \n",
       "24          0.013833  \n",
       "45          0.236698  \n",
       "38          0.079209  \n",
       "48          0.128585  \n",
       "..               ...  \n",
       "80          0.093242  \n",
       "85          0.197794  \n",
       "100         0.069861  \n",
       "74          0.096784  \n",
       "11          0.079218  \n",
       "\n",
       "[92 rows x 6 columns]"
      ]
     },
     "execution_count": 736,
     "metadata": {},
     "output_type": "execute_result"
    }
   ],
   "source": [
    "X_train"
   ]
  },
  {
   "cell_type": "code",
   "execution_count": 737,
   "metadata": {},
   "outputs": [
    {
     "data": {
      "text/html": [
       "<div>\n",
       "<style scoped>\n",
       "    .dataframe tbody tr th:only-of-type {\n",
       "        vertical-align: middle;\n",
       "    }\n",
       "\n",
       "    .dataframe tbody tr th {\n",
       "        vertical-align: top;\n",
       "    }\n",
       "\n",
       "    .dataframe thead th {\n",
       "        text-align: right;\n",
       "    }\n",
       "</style>\n",
       "<table border=\"1\" class=\"dataframe\">\n",
       "  <thead>\n",
       "    <tr style=\"text-align: right;\">\n",
       "      <th></th>\n",
       "      <th>pag_final</th>\n",
       "    </tr>\n",
       "  </thead>\n",
       "  <tbody>\n",
       "    <tr>\n",
       "      <th>101</th>\n",
       "      <td>44</td>\n",
       "    </tr>\n",
       "    <tr>\n",
       "      <th>24</th>\n",
       "      <td>34</td>\n",
       "    </tr>\n",
       "    <tr>\n",
       "      <th>45</th>\n",
       "      <td>104</td>\n",
       "    </tr>\n",
       "    <tr>\n",
       "      <th>38</th>\n",
       "      <td>48</td>\n",
       "    </tr>\n",
       "    <tr>\n",
       "      <th>48</th>\n",
       "      <td>100</td>\n",
       "    </tr>\n",
       "    <tr>\n",
       "      <th>...</th>\n",
       "      <td>...</td>\n",
       "    </tr>\n",
       "    <tr>\n",
       "      <th>80</th>\n",
       "      <td>54</td>\n",
       "    </tr>\n",
       "    <tr>\n",
       "      <th>85</th>\n",
       "      <td>78</td>\n",
       "    </tr>\n",
       "    <tr>\n",
       "      <th>100</th>\n",
       "      <td>72</td>\n",
       "    </tr>\n",
       "    <tr>\n",
       "      <th>74</th>\n",
       "      <td>68</td>\n",
       "    </tr>\n",
       "    <tr>\n",
       "      <th>11</th>\n",
       "      <td>46</td>\n",
       "    </tr>\n",
       "  </tbody>\n",
       "</table>\n",
       "<p>92 rows × 1 columns</p>\n",
       "</div>"
      ],
      "text/plain": [
       "     pag_final\n",
       "101         44\n",
       "24          34\n",
       "45         104\n",
       "38          48\n",
       "48         100\n",
       "..         ...\n",
       "80          54\n",
       "85          78\n",
       "100         72\n",
       "74          68\n",
       "11          46\n",
       "\n",
       "[92 rows x 1 columns]"
      ]
     },
     "execution_count": 737,
     "metadata": {},
     "output_type": "execute_result"
    }
   ],
   "source": [
    "y_train"
   ]
  },
  {
   "cell_type": "code",
   "execution_count": 738,
   "metadata": {},
   "outputs": [
    {
     "name": "stdout",
     "output_type": "stream",
     "text": [
      "[25.00992207]\n",
      "coeficientes encontrados:  [[ 9.24112075e-01 -5.04863108e-01 -1.07584252e-02 -9.73701568e-04\n",
      "  -9.63315991e-02  2.51674960e+02]]\n"
     ]
    }
   ],
   "source": [
    "##### machine learnig\n",
    "\n",
    "#Instanciando o estimador\n",
    "linreg = LinearRegression()\n",
    "\n",
    "#Ajustando o modelo ao conjunto de treino\n",
    "linreg.fit(X_train, y_train)\n",
    "\n",
    "#Interpretando os coeficientes do modelo\n",
    "#Visualizando a interseção e os coeficientes \n",
    "print(linreg.intercept_)\n",
    "print('coeficientes encontrados: ',linreg.coef_) # para visualizar os coeficientes encontrados\n",
    "\n"
   ]
  },
  {
   "cell_type": "code",
   "execution_count": 739,
   "metadata": {},
   "outputs": [],
   "source": [
    "# para visualizar os coeficientes encontrados\n",
    "# para visualizar o R²\n",
    "# linreg.score()"
   ]
  },
  {
   "cell_type": "code",
   "execution_count": 740,
   "metadata": {},
   "outputs": [
    {
     "data": {
      "text/plain": [
       "['id',\n",
       " 'complexidade',\n",
       " 'qtd_pag_estimado',\n",
       " 'qtd_pag_word',\n",
       " 'qtd_pg_word',\n",
       " 'qtd_carc',\n",
       " 'qtd_tabela',\n",
       " 'qtd_image',\n",
       " 'qtd_estilos',\n",
       " 'qtd_carc_normal']"
      ]
     },
     "execution_count": 740,
     "metadata": {},
     "output_type": "execute_result"
    }
   ],
   "source": [
    "colunas_X"
   ]
  },
  {
   "cell_type": "code",
   "execution_count": 741,
   "metadata": {},
   "outputs": [
    {
     "data": {
      "text/plain": [
       "Index(['qtd_pag_word', 'qtd_pg_word', 'qtd_tabela', 'qtd_image', 'qtd_estilos',\n",
       "       'qtd_carc_normal'],\n",
       "      dtype='object')"
      ]
     },
     "execution_count": 741,
     "metadata": {},
     "output_type": "execute_result"
    }
   ],
   "source": [
    "X_train.columns"
   ]
  },
  {
   "cell_type": "code",
   "execution_count": 742,
   "metadata": {},
   "outputs": [
    {
     "data": {
      "text/plain": [
       "[('id',\n",
       "  array([ 9.24112075e-01, -5.04863108e-01, -1.07584252e-02, -9.73701568e-04,\n",
       "         -9.63315991e-02,  2.51674960e+02]))]"
      ]
     },
     "execution_count": 742,
     "metadata": {},
     "output_type": "execute_result"
    }
   ],
   "source": [
    "#Atributos e seus coeficientes\n",
    "list(zip(colunas_X, linreg.coef_))"
   ]
  },
  {
   "cell_type": "code",
   "execution_count": 743,
   "metadata": {},
   "outputs": [],
   "source": [
    "#Fazendo predições no conjunto de teste\n",
    "y_pred = linreg.predict(X_test)"
   ]
  },
  {
   "cell_type": "code",
   "execution_count": 744,
   "metadata": {},
   "outputs": [
    {
     "data": {
      "text/plain": [
       "array([[ 96.73376415],\n",
       "       [ 39.82050737],\n",
       "       [ 80.70757033],\n",
       "       [ 40.5459711 ],\n",
       "       [356.4938681 ],\n",
       "       [ 44.27741895],\n",
       "       [ 43.97200605],\n",
       "       [ 89.95893966],\n",
       "       [105.79541752],\n",
       "       [ 27.38059768],\n",
       "       [ 89.60576797]])"
      ]
     },
     "execution_count": 744,
     "metadata": {},
     "output_type": "execute_result"
    }
   ],
   "source": [
    "y_pred"
   ]
  },
  {
   "cell_type": "code",
   "execution_count": 745,
   "metadata": {
    "scrolled": true
   },
   "outputs": [
    {
     "data": {
      "text/html": [
       "<div>\n",
       "<style scoped>\n",
       "    .dataframe tbody tr th:only-of-type {\n",
       "        vertical-align: middle;\n",
       "    }\n",
       "\n",
       "    .dataframe tbody tr th {\n",
       "        vertical-align: top;\n",
       "    }\n",
       "\n",
       "    .dataframe thead th {\n",
       "        text-align: right;\n",
       "    }\n",
       "</style>\n",
       "<table border=\"1\" class=\"dataframe\">\n",
       "  <thead>\n",
       "    <tr style=\"text-align: right;\">\n",
       "      <th></th>\n",
       "      <th>pag_final</th>\n",
       "    </tr>\n",
       "  </thead>\n",
       "  <tbody>\n",
       "    <tr>\n",
       "      <th>0</th>\n",
       "      <td>140</td>\n",
       "    </tr>\n",
       "    <tr>\n",
       "      <th>96</th>\n",
       "      <td>44</td>\n",
       "    </tr>\n",
       "    <tr>\n",
       "      <th>31</th>\n",
       "      <td>76</td>\n",
       "    </tr>\n",
       "    <tr>\n",
       "      <th>89</th>\n",
       "      <td>40</td>\n",
       "    </tr>\n",
       "    <tr>\n",
       "      <th>71</th>\n",
       "      <td>296</td>\n",
       "    </tr>\n",
       "    <tr>\n",
       "      <th>21</th>\n",
       "      <td>48</td>\n",
       "    </tr>\n",
       "    <tr>\n",
       "      <th>35</th>\n",
       "      <td>38</td>\n",
       "    </tr>\n",
       "    <tr>\n",
       "      <th>30</th>\n",
       "      <td>100</td>\n",
       "    </tr>\n",
       "    <tr>\n",
       "      <th>46</th>\n",
       "      <td>96</td>\n",
       "    </tr>\n",
       "    <tr>\n",
       "      <th>68</th>\n",
       "      <td>38</td>\n",
       "    </tr>\n",
       "    <tr>\n",
       "      <th>47</th>\n",
       "      <td>92</td>\n",
       "    </tr>\n",
       "  </tbody>\n",
       "</table>\n",
       "</div>"
      ],
      "text/plain": [
       "    pag_final\n",
       "0         140\n",
       "96         44\n",
       "31         76\n",
       "89         40\n",
       "71        296\n",
       "21         48\n",
       "35         38\n",
       "30        100\n",
       "46         96\n",
       "68         38\n",
       "47         92"
      ]
     },
     "execution_count": 745,
     "metadata": {},
     "output_type": "execute_result"
    }
   ],
   "source": [
    "y_test"
   ]
  },
  {
   "cell_type": "markdown",
   "metadata": {},
   "source": [
    "Comparando essas métricas:\n",
    "\n",
    "- MAE é a mais fácil de entender.\n",
    "- MSE é mais popular que MAE, porque MSE \"pune\" erros grandes.\n",
    "- RMSE é ainda mais popular que MSE, porque RMSE é interpretável na mesma unidade de y."
   ]
  },
  {
   "cell_type": "code",
   "execution_count": 746,
   "metadata": {},
   "outputs": [],
   "source": [
    "#RMSE:  12.11799697428631 # primeiro test com columas\n",
    "#colunas_X= ['entidade', 'fornecedor', 'complexidade', 'stat_pagto','qtd_pag_word', 'qtd_carc', 'qtd_tabela','qtd_image']\n",
    "\n",
    "#colunas_X= ['complexidade', 'qtd_pag_word', 'qtd_carc','qtd_tabela','qtd_image']\n",
    "\n",
    "#RMSE:  11.831745496309976\n",
    "# colunas_X= ['complexidade', 'qtd_pag_word', 'qtd_pag_estimado','qtd_carc','qtd_tabela','qtd_image']\n",
    "# RMSE:  8.41739234335301"
   ]
  },
  {
   "cell_type": "code",
   "execution_count": 747,
   "metadata": {},
   "outputs": [
    {
     "name": "stdout",
     "output_type": "stream",
     "text": [
      "RMSE:  23.230470430484413\n"
     ]
    }
   ],
   "source": [
    "#Nós precisamos de uma métrica de avaliação para comparar nossas predições com os valores verdadeiros!\n",
    "\n",
    "# Calculando RMSE utilizando scikit-learn\n",
    "RMSE_1 = np.sqrt(metrics.mean_squared_error(y_test,y_pred))\n",
    "print('RMSE: ',RMSE_1)\n",
    "\n",
    "# incluido feature Quantidade de estilo, mas o resultado piorou. RMSE foi de 11.83 para 12.43\n",
    "# RMSE:  12.051420343980208\n",
    "# RMSE:  9.782602553564418 => melhorou quando retirou feature complexidade\n",
    "# RMSE:  9.16223875809479 => melhorou quando retirou feature quantidade de estilos\n",
    "# RMSE:  4.5881270718708045 => melhorou MUITO depois de verificar os arquivo word que estavam errados\n",
    "# RMSE:  4.303364983662433 => melhorou quando alterei arquivos do WORD\n",
    "\n",
    "# Campos em análise [['complexidade', 'qtd_pag_word', 'qtd_carc','qtd_tabela','qtd_image',\"qtd_estilos\",'qtd_carc_normal']]\n",
    "#RMSE:  12.051420343982636"
   ]
  },
  {
   "cell_type": "code",
   "execution_count": 748,
   "metadata": {},
   "outputs": [
    {
     "data": {
      "text/plain": [
       "Index(['id', 'complexidade', 'qtd_pag_estimado', 'qtd_pag_word', 'qtd_pg_word',\n",
       "       'qtd_carc', 'qtd_tabela', 'qtd_image', 'qtd_estilos',\n",
       "       'qtd_carc_normal'],\n",
       "      dtype='object')"
      ]
     },
     "execution_count": 748,
     "metadata": {},
     "output_type": "execute_result"
    }
   ],
   "source": [
    "X_test_ref.columns"
   ]
  },
  {
   "cell_type": "code",
   "execution_count": 749,
   "metadata": {},
   "outputs": [
    {
     "data": {
      "text/plain": [
       "Index(['qtd_pag_word', 'qtd_pg_word', 'qtd_tabela', 'qtd_image', 'qtd_estilos',\n",
       "       'qtd_carc_normal'],\n",
       "      dtype='object')"
      ]
     },
     "execution_count": 749,
     "metadata": {},
     "output_type": "execute_result"
    }
   ],
   "source": [
    "X_test.columns"
   ]
  },
  {
   "cell_type": "code",
   "execution_count": 750,
   "metadata": {},
   "outputs": [
    {
     "name": "stdout",
     "output_type": "stream",
     "text": [
      "RMSE:  15.087622862345269\n",
      "Percentual entre os dois métodos:  -0.350524436967648\n"
     ]
    }
   ],
   "source": [
    "#\n",
    "#\n",
    "# comparar erros de calculo do campo Num Página estimado com o QTD_PAG_INFERIDO\n",
    "#\n",
    "RMSE_2 = np.sqrt(metrics.mean_squared_error(y_test,X_test_ref['qtd_pag_estimado']))\n",
    "print('RMSE: ',RMSE_2)\n",
    "print ('Percentual entre os dois métodos: ', (RMSE_2-RMSE_1)/RMSE_1)"
   ]
  },
  {
   "cell_type": "markdown",
   "metadata": {},
   "source": [
    "### Avaliação dos Resultados\n",
    "- RMSE:  4.5881270718708045, ou seja, erro médio de 4 páginas  - com dados do modelo de Machine Learning (ML)\n",
    "- RMSE:  13.010485281984192, ou seja, erro médio de 15 páginas - com dados estimados da Editorar\n",
    "- diferença de 83% , ou seja, os dados estimados da Editorar está 83% acima dos dados do Modelo de ML"
   ]
  },
  {
   "cell_type": "code",
   "execution_count": 751,
   "metadata": {},
   "outputs": [],
   "source": [
    "#Como interpretar esse valor?\n",
    "# numero menor de RMSE é melhor\n",
    "# RMSE:  11.831745496309976\n",
    "# RMSE:  12.43000991830557\n",
    "# RMSE:  14.428565435305106\n"
   ]
  },
  {
   "cell_type": "code",
   "execution_count": 752,
   "metadata": {},
   "outputs": [],
   "source": [
    "# Save Model Using Pickle\n",
    "# save the model to disk\n",
    "\n",
    "filename = 'finalized_model-linreg2.sav'\n",
    "pickle.dump(linreg, open(filename, 'wb'))\n",
    " \n"
   ]
  },
  {
   "cell_type": "code",
   "execution_count": 753,
   "metadata": {},
   "outputs": [],
   "source": [
    "#########################################################\n",
    "# FIM  LINEAR REGRESSION\n",
    "########################################################"
   ]
  },
  {
   "cell_type": "code",
   "execution_count": null,
   "metadata": {},
   "outputs": [],
   "source": []
  },
  {
   "cell_type": "code",
   "execution_count": 754,
   "metadata": {},
   "outputs": [],
   "source": [
    "################################################################################################################\n",
    "#########################################################\n",
    "# LOGISTIC REGRESSION\n",
    "########################################################"
   ]
  },
  {
   "cell_type": "code",
   "execution_count": 755,
   "metadata": {},
   "outputs": [],
   "source": [
    "#colunas_X= ['qtd_pag_word', 'qtd_carc','qtd_tabela','qtd_image',\"qtd_estilos\"]\n",
    "#colunas_X= ['qtd_pag_word', 'qtd_tabela','qtd_image',\"qtd_estilos\", 'qtd_carc_normal']\n",
    "#colunas_X= ['qtd_pag_word', 'qtd_tabela','qtd_image', 'qtd_carc_normal']\n",
    "#colunas_X= ['qtd_pag_word', 'qtd_carc','qtd_tabela','qtd_image']\n",
    "\n",
    "#colunas_X= ['qtd_pag_word', 'qtd_tabela','qtd_image',\"qtd_estilos\", 'qtd_carc_normal']\n",
    "colunas_X= ['qtd_pag_word','qtd_pg_word', 'qtd_tabela','qtd_image',\"qtd_estilos\", 'qtd_carc_normal']\n",
    "\n",
    "#colunas_X= ['qtd_pag_word', 'qtd_tabela','qtd_image', 'qtd_carc_normal']\n",
    "\n",
    "\n",
    "#colunas_X= ['complexidade','entidade','qtd_pag_word', 'qtd_tabela','qtd_image', 'qtd_carc_normal']\n",
    "\n",
    "colunas_y=['pag_final']\n",
    "X = data[colunas_X]\n",
    "y = data[colunas_y]"
   ]
  },
  {
   "cell_type": "code",
   "execution_count": 756,
   "metadata": {},
   "outputs": [],
   "source": [
    "X_train, X_test, y_train, y_test = train_test_split(X, y,  test_size=0.10,random_state=6)"
   ]
  },
  {
   "cell_type": "code",
   "execution_count": 757,
   "metadata": {},
   "outputs": [
    {
     "name": "stdout",
     "output_type": "stream",
     "text": [
      "[ 68  30  76  36 176  34  36  48  76  46  98]\n",
      "[[8.18199135e-19 9.81966436e-05 2.31894592e-06 6.96100035e-04\n",
      "  1.07016801e-06 4.98640376e-44 1.84578414e-02 5.80788865e-02\n",
      "  9.72694630e-05 1.13317424e-18 7.27697127e-04 1.86200871e-01\n",
      "  5.22036432e-02 1.04911246e-06 5.05449093e-03 1.24353320e-01\n",
      "  2.69669629e-01 1.36427513e-02 4.14113703e-02 6.15831096e-02\n",
      "  4.26906109e-04 5.40305243e-14 2.17438764e-06 1.66165552e-04\n",
      "  8.67784308e-03 1.24001827e-03 1.82621783e-07 4.84962838e-70\n",
      "  9.34158773e-02 3.69353338e-02 5.14692693e-04 8.51142780e-05\n",
      "  2.16426123e-02 5.13241893e-05 4.45279464e-03 3.60109619e-21\n",
      "  1.09346385e-04 8.03609936e-20 2.55348437e-23 6.63198934e-16]\n",
      " [3.51748487e-03 1.66830626e-02 7.17523216e-07 2.93650764e-01\n",
      "  4.07739661e-03 1.56734012e-33 6.25435546e-02 1.72081484e-02\n",
      "  8.74006459e-02 2.25426745e-03 5.18764011e-02 2.30461742e-01\n",
      "  1.46772531e-03 5.06062548e-02 1.71786052e-03 2.39295668e-02\n",
      "  7.48024504e-02 6.20802695e-04 9.46914960e-03 1.02014180e-02\n",
      "  5.57132987e-03 1.41652935e-02 1.01914768e-11 4.73834183e-03\n",
      "  2.26480310e-03 2.07366856e-06 4.26236940e-04 4.88539446e-55\n",
      "  4.96269251e-03 1.10292565e-02 4.04896760e-04 1.31451826e-02\n",
      "  2.62136628e-04 3.15862911e-10 1.59779191e-04 7.70678979e-18\n",
      "  3.67730427e-04 1.08320446e-05 1.17234328e-32 3.73987891e-10]\n",
      " [4.50570634e-15 2.52028549e-03 7.73177868e-04 1.83006240e-03\n",
      "  3.41736460e-03 3.43805239e-54 4.15531555e-03 4.21618665e-02\n",
      "  2.68069349e-02 3.54675725e-23 7.32404311e-04 5.60563769e-02\n",
      "  1.07993889e-01 2.75965088e-08 1.20250074e-02 4.66339885e-02\n",
      "  1.03609724e-01 1.45536564e-02 5.70500247e-02 1.02320555e-01\n",
      "  2.03278746e-01 4.26975637e-16 2.18550573e-06 3.25088977e-05\n",
      "  9.94300042e-03 4.29329444e-03 7.17017364e-09 3.20818318e-82\n",
      "  5.26271526e-02 4.76186453e-02 4.56982909e-02 2.66045661e-03\n",
      "  5.17841152e-03 7.76010552e-05 1.87743487e-02 6.38323296e-27\n",
      "  2.71746898e-02 1.22615011e-21 3.93009303e-25 6.64087509e-15]\n",
      " [4.06219460e-08 3.54706596e-05 2.11718680e-05 1.88160749e-04\n",
      "  1.55217703e-06 5.51289584e-01 2.40497949e-03 1.77248488e-03\n",
      "  2.58747857e-05 2.91037510e-02 9.32833665e-05 1.13383755e-03\n",
      "  2.53566055e-03 6.09716392e-03 1.97997387e-03 5.81666186e-03\n",
      "  3.37221231e-03 4.99762547e-03 2.82356293e-03 2.09073239e-03\n",
      "  1.45199846e-04 3.64084506e-03 5.73043210e-03 9.99676410e-03\n",
      "  5.27816600e-03 3.45011297e-03 8.54239682e-03 1.64964853e-01\n",
      "  5.50432494e-03 1.98655462e-03 5.15003895e-04 6.02524854e-04\n",
      "  7.70443764e-03 4.36384057e-03 2.26490276e-03 1.44257776e-01\n",
      "  3.16820188e-04 3.24343319e-03 1.09494265e-02 7.58400736e-04]\n",
      " [6.94831136e-37 8.69965375e-27 5.90340449e-26 5.93704122e-22\n",
      "  2.55365555e-31 7.13414984e-28 4.61460449e-15 5.17120031e-15\n",
      "  1.53369810e-20 1.73152672e-03 7.68740784e-31 4.98116088e-20\n",
      "  1.12973934e-10 4.29021905e-09 2.70356472e-10 4.08252033e-09\n",
      "  1.27750485e-12 1.16942533e-07 6.62282390e-10 1.47288927e-11\n",
      "  1.75637217e-09 2.34837793e-06 5.67746113e-12 4.34776453e-04\n",
      "  6.04504007e-06 2.23685423e-08 2.91611321e-07 9.16943987e-42\n",
      "  6.72717214e-09 2.69243854e-12 1.25357448e-07 1.40612666e-06\n",
      "  4.19651925e-10 1.50674491e-12 7.18405330e-09 1.42481296e-17\n",
      "  7.83418395e-07 9.79181163e-01 2.76323439e-24 1.86413686e-02]\n",
      " [5.55750344e-11 4.94133425e-02 3.81193911e-03 1.61655889e-02\n",
      "  2.73704095e-01 4.84050802e-53 4.10151850e-03 2.85491628e-02\n",
      "  2.07289875e-01 2.87564274e-22 2.84002787e-02 1.39796186e-01\n",
      "  2.01854158e-02 2.92804589e-08 2.97648275e-03 8.90814734e-03\n",
      "  4.44800117e-02 1.50211050e-03 1.30108176e-02 3.14451161e-02\n",
      "  8.28199361e-02 2.12572153e-15 7.63764648e-08 4.16887604e-06\n",
      "  9.71532753e-04 2.66749802e-04 2.88350252e-09 4.67472527e-80\n",
      "  7.62527065e-03 1.84339067e-02 7.52766608e-03 8.28186169e-04\n",
      "  6.86245022e-04 3.63506789e-06 2.34444276e-03 5.16764639e-27\n",
      "  4.74806292e-03 3.60488505e-21 6.96582231e-27 1.43445378e-15]\n",
      " [8.68726112e-07 5.71776018e-04 1.17999164e-04 2.70993319e-03\n",
      "  2.39521560e-05 2.66339442e-01 2.07008871e-02 1.61964401e-02\n",
      "  2.15704080e-04 1.25280913e-01 2.73111604e-03 1.79880945e-02\n",
      "  1.02386350e-02 3.35012529e-02 7.15928505e-03 2.47756079e-02\n",
      "  1.99537736e-02 1.36722787e-02 1.36499157e-02 9.86909642e-03\n",
      "  3.47288237e-04 1.54711912e-02 8.91750886e-03 2.33369789e-02\n",
      "  1.32386615e-02 5.93580362e-03 2.82575082e-02 8.30522500e-03\n",
      "  1.81153701e-02 1.50989650e-02 9.78862296e-04 1.43234490e-03\n",
      "  4.08350369e-02 5.38477463e-03 5.70519991e-03 2.15752034e-01\n",
      "  5.09851311e-04 5.22017063e-03 1.12152588e-03 3.38727011e-04]\n",
      " [1.06078222e-18 2.01855321e-04 9.92602488e-06 8.40997393e-04\n",
      "  2.88719226e-06 2.18754324e-42 1.80899358e-02 6.71438069e-02\n",
      "  1.10326180e-04 1.44810273e-19 1.93781121e-03 2.51902953e-01\n",
      "  5.57800526e-02 4.60517305e-07 4.70726783e-03 9.47446052e-02\n",
      "  2.44008152e-01 1.20794212e-02 3.48340911e-02 5.87203150e-02\n",
      "  3.05180918e-04 1.10887027e-14 9.80611908e-06 7.88134738e-05\n",
      "  5.91666018e-03 1.78862189e-03 1.02711264e-07 5.08548820e-67\n",
      "  8.02301184e-02 3.60466829e-02 4.15189928e-04 4.27152123e-05\n",
      "  2.51120898e-02 1.98811136e-04 4.66128464e-03 2.22772388e-20\n",
      "  7.90587798e-05 1.25747916e-20 5.12064013e-21 4.46120220e-16]\n",
      " [1.04569317e-17 3.67468237e-05 1.33629506e-05 1.04241675e-04\n",
      "  1.23289614e-05 1.12275824e-53 1.53825690e-03 1.38133152e-02\n",
      "  1.63671912e-03 2.24807143e-21 4.46523692e-06 5.08770378e-03\n",
      "  1.01519353e-01 8.31453048e-08 1.34748983e-02 7.26909641e-02\n",
      "  6.27315902e-02 3.33531081e-02 6.80592113e-02 7.70579424e-02\n",
      "  2.01066352e-01 5.45541472e-15 2.35610448e-06 2.54560863e-04\n",
      "  3.59315639e-02 8.21554507e-03 3.63226610e-08 4.30343868e-82\n",
      "  8.52483380e-02 3.07989276e-02 8.37341488e-02 7.40795271e-03\n",
      "  6.97643954e-03 6.14452820e-05 2.93965592e-02 1.72655928e-26\n",
      "  5.97714841e-02 1.07904634e-19 1.14651750e-25 1.60707567e-13]\n",
      " [1.37502087e-02 2.72444001e-02 3.18569521e-07 2.51935750e-01\n",
      "  7.94162328e-03 5.66163983e-34 1.37028506e-02 2.92144518e-03\n",
      "  2.17058526e-02 4.03221040e-05 4.52269575e-01 1.93330306e-01\n",
      "  6.01188062e-05 2.74896359e-03 5.98167616e-05 1.04775434e-03\n",
      "  8.64730135e-03 1.21568428e-05 3.78212117e-04 6.09396177e-04\n",
      "  6.68309083e-05 2.98844437e-04 1.75010466e-13 5.04917417e-05\n",
      "  3.02538595e-05 2.73138190e-08 9.90667812e-06 1.91676529e-55\n",
      "  1.74276825e-04 8.23003482e-04 3.44444821e-06 1.19644650e-04\n",
      "  1.17478619e-05 7.69439077e-12 3.06011865e-06 1.00588043e-18\n",
      "  2.07224374e-06 2.39864330e-08 2.32832969e-34 2.96224317e-13]\n",
      " [9.55838866e-16 1.14252520e-04 1.12374406e-04 3.06529745e-04\n",
      "  8.28561544e-06 1.52982436e-32 7.42372000e-03 3.11485810e-02\n",
      "  3.36184316e-04 6.43921476e-16 1.15568422e-04 1.97461077e-02\n",
      "  1.18984006e-01 3.77245319e-06 1.96936391e-02 1.05704102e-01\n",
      "  1.00777906e-01 6.23719697e-02 6.34683129e-02 7.68643890e-02\n",
      "  9.60697517e-03 7.31624224e-12 1.37123351e-03 1.22252758e-03\n",
      "  4.18230604e-02 3.93316405e-02 3.63868310e-06 5.03695574e-50\n",
      "  1.39024118e-01 3.74353452e-02 1.59635173e-02 1.54519201e-03\n",
      "  4.67977584e-02 1.00669857e-02 4.17547203e-02 6.89702721e-16\n",
      "  6.87358700e-03 1.73067558e-15 1.03501013e-13 1.06826405e-10]]\n",
      "0.29347826086956524\n"
     ]
    },
    {
     "name": "stderr",
     "output_type": "stream",
     "text": [
      "/Users/wpessoa/miniconda3/envs/py3/lib/python3.8/site-packages/sklearn/utils/validation.py:72: DataConversionWarning: A column-vector y was passed when a 1d array was expected. Please change the shape of y to (n_samples, ), for example using ravel().\n",
      "  return f(**kwargs)\n",
      "/Users/wpessoa/miniconda3/envs/py3/lib/python3.8/site-packages/sklearn/linear_model/_logistic.py:762: ConvergenceWarning: lbfgs failed to converge (status=1):\n",
      "STOP: TOTAL NO. of ITERATIONS REACHED LIMIT.\n",
      "\n",
      "Increase the number of iterations (max_iter) or scale the data as shown in:\n",
      "    https://scikit-learn.org/stable/modules/preprocessing.html\n",
      "Please also refer to the documentation for alternative solver options:\n",
      "    https://scikit-learn.org/stable/modules/linear_model.html#logistic-regression\n",
      "  n_iter_i = _check_optimize_result(\n"
     ]
    }
   ],
   "source": [
    "from sklearn.datasets import load_iris\n",
    "from sklearn.linear_model import LogisticRegression\n",
    "##### machine learnig\n",
    "#X, y = load_iris(return_X_y=True)\n",
    "\n",
    "clf = LogisticRegression(random_state=0).fit(X_train, y_train)\n",
    "\n",
    "# modelo = LogisticRegression()\n",
    "# modelo.fit(X_treino, y_treino)\n",
    "# p = modelo.predict(X_valid)\n",
    "\n",
    "\n",
    "\n",
    "print(clf.predict(X_test.fillna(-1)))\n",
    "print(clf.predict_proba(X_test.fillna(-1)))\n",
    "print(clf.score(X_train, y_train))\n"
   ]
  },
  {
   "cell_type": "code",
   "execution_count": 758,
   "metadata": {},
   "outputs": [
    {
     "name": "stdout",
     "output_type": "stream",
     "text": [
      "[ 68  30  76  36 176  34  36  48  76  46  98]\n",
      "            0   96  31  89   71  21  35   30  46  68  47\n",
      "pag_final  140  44  76  40  296  48  38  100  96  38  92\n"
     ]
    },
    {
     "name": "stderr",
     "output_type": "stream",
     "text": [
      "/Users/wpessoa/miniconda3/envs/py3/lib/python3.8/site-packages/sklearn/utils/validation.py:72: DataConversionWarning: A column-vector y was passed when a 1d array was expected. Please change the shape of y to (n_samples, ), for example using ravel().\n",
      "  return f(**kwargs)\n",
      "/Users/wpessoa/miniconda3/envs/py3/lib/python3.8/site-packages/sklearn/linear_model/_logistic.py:762: ConvergenceWarning: lbfgs failed to converge (status=1):\n",
      "STOP: TOTAL NO. of ITERATIONS REACHED LIMIT.\n",
      "\n",
      "Increase the number of iterations (max_iter) or scale the data as shown in:\n",
      "    https://scikit-learn.org/stable/modules/preprocessing.html\n",
      "Please also refer to the documentation for alternative solver options:\n",
      "    https://scikit-learn.org/stable/modules/linear_model.html#logistic-regression\n",
      "  n_iter_i = _check_optimize_result(\n"
     ]
    }
   ],
   "source": [
    "modelo = LogisticRegression()\n",
    "modelo.fit(X_train, y_train)\n",
    "\n",
    "y_pred = modelo.predict(X_test.fillna(-1))\n",
    "print(y_pred)\n",
    "print(y_test.T)"
   ]
  },
  {
   "cell_type": "code",
   "execution_count": 759,
   "metadata": {},
   "outputs": [
    {
     "name": "stdout",
     "output_type": "stream",
     "text": [
      "RMSE:  45.92483978296396\n"
     ]
    }
   ],
   "source": [
    "# Calculando RMSE utilizando scikit-learn\n",
    "print('RMSE: ',np.sqrt(metrics.mean_squared_error(y_test,y_pred)))\n",
    "# RMSE:  26.17424132789543 => Features ['qtd_pag_word', 'qtd_tabela','qtd_image',\"qtd_estilos\", 'qtd_carc_normal']\n",
    "\n",
    "# quantidade de estilo é muito relevante nesse modelo, sem essa feature RMSE:  106.26211160915429\n",
    "# RMSE:  92.03951720469163 Para essa features ['qtd_pag_word', 'qtd_carc','qtd_tabela','qtd_image']\n",
    "\n"
   ]
  },
  {
   "cell_type": "code",
   "execution_count": 581,
   "metadata": {},
   "outputs": [],
   "source": [
    "# Save Model Using Pickle\n",
    "# save the model to disk\n",
    "\n",
    "filename = 'finalized_model-log.sav'\n",
    "pickle.dump(modelo, open(filename, 'wb'))\n",
    " "
   ]
  },
  {
   "cell_type": "markdown",
   "metadata": {},
   "source": [
    "# Modelos treinados salvo em:\n",
    "- finalized_model-forest3a.sav\n",
    "- finalized_model-linreg.sav\n",
    "- finalized_model-log.sav"
   ]
  },
  {
   "cell_type": "code",
   "execution_count": 582,
   "metadata": {},
   "outputs": [],
   "source": [
    "#########################################################\n",
    "# FIM  LOGISTIC REGRESSION\n",
    "########################################################"
   ]
  },
  {
   "cell_type": "code",
   "execution_count": 583,
   "metadata": {},
   "outputs": [],
   "source": [
    "#\n",
    "# \n",
    "################################################################################################################"
   ]
  },
  {
   "cell_type": "code",
   "execution_count": 584,
   "metadata": {},
   "outputs": [
    {
     "name": "stdout",
     "output_type": "stream",
     "text": [
      "dados verdadeiros:  [100, 50, 30, 30]\n",
      "dados inferidos: [90, 50, 50, 30]\n",
      "erro médio absoluto:  7.5\n",
      "erro médio absoluto:  7.5\n",
      "MSE:  125.0\n",
      "MSE:  125.0\n",
      "RMSE:  11.180339887498949\n",
      "RMSE:  11.180339887498949\n"
     ]
    }
   ],
   "source": [
    "# codigos consultados de \n",
    "# https://github.com/WalnerPessoa/Medical-Cost-Personal/blob/master/Aula%205%20-%20Regress%C3%A3o%20linear%20para%20prever%20as%20despesas%20m%C3%A9dicas%20de%20um%20paciente%20.ipynb\n",
    "\n",
    "\n",
    "# calculando a media de um exemplo\n",
    "# Definindo os valores de resposta verdadeiros e preditos\n",
    "true = [100,50,30,30]\n",
    "pred = [90,50,50,30]\n",
    "print(\"dados verdadeiros: \",true)\n",
    "print(\"dados inferidos:\", pred)\n",
    "# Calculando erro médio absoluto na mão\n",
    "print('erro médio absoluto: ',(10+0+20+0)/4)\n",
    "# Calculando erro médio absoluto utilizando scikit-learn\n",
    "from sklearn import metrics\n",
    "print('erro médio absoluto: ',metrics.mean_absolute_error(true,pred)) \n",
    "\n",
    "#Calculando MSE na mão\n",
    "print('MSE: ',(10**2+0+20**2+0)/4)\n",
    "# Calculando MSE utilizando scikit-learn\n",
    "print('MSE: ',metrics.mean_squared_error(true,pred))\n",
    "\n",
    "# Calculando RMSE na mão\n",
    "print('RMSE: ',np.sqrt((10**2+0+20**2+0)/4))\n",
    "# Calculando RMSE utilizando scikit-learn\n",
    "print('RMSE: ',np.sqrt(metrics.mean_squared_error(true,pred)))"
   ]
  },
  {
   "cell_type": "code",
   "execution_count": null,
   "metadata": {},
   "outputs": [],
   "source": []
  }
 ],
 "metadata": {
  "kernelspec": {
   "display_name": "Python 3",
   "language": "python",
   "name": "python3"
  },
  "language_info": {
   "codemirror_mode": {
    "name": "ipython",
    "version": 3
   },
   "file_extension": ".py",
   "mimetype": "text/x-python",
   "name": "python",
   "nbconvert_exporter": "python",
   "pygments_lexer": "ipython3",
   "version": "3.8.5"
  }
 },
 "nbformat": 4,
 "nbformat_minor": 4
}
