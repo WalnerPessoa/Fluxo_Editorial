{
 "cells": [
  {
   "cell_type": "code",
   "execution_count": 174,
   "metadata": {},
   "outputs": [],
   "source": [
    "import pandas as pd\n",
    "import numpy as np\n",
    "from sklearn.model_selection import RepeatedKFold\n",
    "from sklearn.model_selection import train_test_split\n",
    "\n",
    "#Importando o modelo machine learnig\n",
    "from sklearn.linear_model import LinearRegression\n",
    "from sklearn.ensemble import RandomForestClassifier\n",
    "from sklearn import metrics\n"
   ]
  },
  {
   "cell_type": "code",
   "execution_count": 175,
   "metadata": {},
   "outputs": [],
   "source": [
    "# importar csv\n",
    "data = pd.read_csv(\"nge_dados_input.csv\")\n"
   ]
  },
  {
   "cell_type": "code",
   "execution_count": 176,
   "metadata": {
    "scrolled": true
   },
   "outputs": [
    {
     "data": {
      "text/html": [
       "<div>\n",
       "<style scoped>\n",
       "    .dataframe tbody tr th:only-of-type {\n",
       "        vertical-align: middle;\n",
       "    }\n",
       "\n",
       "    .dataframe tbody tr th {\n",
       "        vertical-align: top;\n",
       "    }\n",
       "\n",
       "    .dataframe thead th {\n",
       "        text-align: right;\n",
       "    }\n",
       "</style>\n",
       "<table border=\"1\" class=\"dataframe\">\n",
       "  <thead>\n",
       "    <tr style=\"text-align: right;\">\n",
       "      <th></th>\n",
       "      <th>id</th>\n",
       "      <th>entidade</th>\n",
       "      <th>fornecedor</th>\n",
       "      <th>complexidade</th>\n",
       "      <th>stat_pagto</th>\n",
       "      <th>qtd_pag_word</th>\n",
       "      <th>qtd_pag_estimado</th>\n",
       "      <th>qtd_carc</th>\n",
       "      <th>qtd_tabela</th>\n",
       "      <th>qtd_image</th>\n",
       "      <th>qtd_estilos</th>\n",
       "      <th>pag_final</th>\n",
       "    </tr>\n",
       "  </thead>\n",
       "  <tbody>\n",
       "    <tr>\n",
       "      <th>0</th>\n",
       "      <td>224323</td>\n",
       "      <td>0</td>\n",
       "      <td>0</td>\n",
       "      <td>1</td>\n",
       "      <td>0</td>\n",
       "      <td>87</td>\n",
       "      <td>140.0</td>\n",
       "      <td>116142</td>\n",
       "      <td>470</td>\n",
       "      <td>685</td>\n",
       "      <td>60.0</td>\n",
       "      <td>140</td>\n",
       "    </tr>\n",
       "    <tr>\n",
       "      <th>1</th>\n",
       "      <td>224325</td>\n",
       "      <td>0</td>\n",
       "      <td>0</td>\n",
       "      <td>1</td>\n",
       "      <td>0</td>\n",
       "      <td>82</td>\n",
       "      <td>122.0</td>\n",
       "      <td>108307</td>\n",
       "      <td>76</td>\n",
       "      <td>94</td>\n",
       "      <td>69.0</td>\n",
       "      <td>122</td>\n",
       "    </tr>\n",
       "    <tr>\n",
       "      <th>2</th>\n",
       "      <td>225392</td>\n",
       "      <td>0</td>\n",
       "      <td>0</td>\n",
       "      <td>3</td>\n",
       "      <td>0</td>\n",
       "      <td>41</td>\n",
       "      <td>70.0</td>\n",
       "      <td>41144</td>\n",
       "      <td>28</td>\n",
       "      <td>24</td>\n",
       "      <td>23.0</td>\n",
       "      <td>52</td>\n",
       "    </tr>\n",
       "    <tr>\n",
       "      <th>3</th>\n",
       "      <td>225392</td>\n",
       "      <td>0</td>\n",
       "      <td>0</td>\n",
       "      <td>3</td>\n",
       "      <td>0</td>\n",
       "      <td>41</td>\n",
       "      <td>70.0</td>\n",
       "      <td>62913</td>\n",
       "      <td>397</td>\n",
       "      <td>639</td>\n",
       "      <td>21.0</td>\n",
       "      <td>52</td>\n",
       "    </tr>\n",
       "    <tr>\n",
       "      <th>4</th>\n",
       "      <td>225531</td>\n",
       "      <td>0</td>\n",
       "      <td>0</td>\n",
       "      <td>2</td>\n",
       "      <td>0</td>\n",
       "      <td>36</td>\n",
       "      <td>48.0</td>\n",
       "      <td>37548</td>\n",
       "      <td>233</td>\n",
       "      <td>397</td>\n",
       "      <td>17.0</td>\n",
       "      <td>48</td>\n",
       "    </tr>\n",
       "  </tbody>\n",
       "</table>\n",
       "</div>"
      ],
      "text/plain": [
       "       id  entidade  fornecedor  complexidade  stat_pagto  qtd_pag_word  \\\n",
       "0  224323         0           0             1           0            87   \n",
       "1  224325         0           0             1           0            82   \n",
       "2  225392         0           0             3           0            41   \n",
       "3  225392         0           0             3           0            41   \n",
       "4  225531         0           0             2           0            36   \n",
       "\n",
       "   qtd_pag_estimado  qtd_carc  qtd_tabela  qtd_image  qtd_estilos  pag_final  \n",
       "0             140.0    116142         470        685         60.0        140  \n",
       "1             122.0    108307          76         94         69.0        122  \n",
       "2              70.0     41144          28         24         23.0         52  \n",
       "3              70.0     62913         397        639         21.0         52  \n",
       "4              48.0     37548         233        397         17.0         48  "
      ]
     },
     "execution_count": 176,
     "metadata": {},
     "output_type": "execute_result"
    }
   ],
   "source": [
    "data.head()"
   ]
  },
  {
   "cell_type": "code",
   "execution_count": null,
   "metadata": {},
   "outputs": [],
   "source": []
  },
  {
   "cell_type": "code",
   "execution_count": 177,
   "metadata": {},
   "outputs": [],
   "source": [
    "#\n",
    "# normalizar a quantidade de caracteres\n",
    "#\n",
    "#data.loc[:,'qtd_carc_normal'] = pd.Series((data.qtd_carc-data.qtd_carc.min())/(data.qtd_carc.max()-data.qtd_carc.min()))"
   ]
  },
  {
   "cell_type": "code",
   "execution_count": 178,
   "metadata": {},
   "outputs": [],
   "source": [
    "#\n",
    "# normalizar a quantidade de caracteres\n",
    "#\n",
    "\n",
    "# X[\"qtd_carc_normal\"]=(X.qtd_carc-X.qtd_carc.min())/(X.qtd_carc.max()-X.qtd_carc.min())"
   ]
  },
  {
   "cell_type": "code",
   "execution_count": 179,
   "metadata": {},
   "outputs": [
    {
     "data": {
      "text/plain": [
       "id                    int64\n",
       "entidade              int64\n",
       "fornecedor            int64\n",
       "complexidade          int64\n",
       "stat_pagto            int64\n",
       "qtd_pag_word          int64\n",
       "qtd_pag_estimado    float64\n",
       "qtd_carc              int64\n",
       "qtd_tabela            int64\n",
       "qtd_image             int64\n",
       "qtd_estilos         float64\n",
       "pag_final             int64\n",
       "qtd_carc_normal     float64\n",
       "dtype: object"
      ]
     },
     "execution_count": 179,
     "metadata": {},
     "output_type": "execute_result"
    }
   ],
   "source": [
    "data.dtypes\n",
    "# baixa complexidade ==> 48 páginas \n",
    "# media complexidade ==> 49/64 páginas\n",
    "# alta complexidade  ==> 65 acima"
   ]
  },
  {
   "cell_type": "code",
   "execution_count": 180,
   "metadata": {},
   "outputs": [
    {
     "data": {
      "text/plain": [
       "Index(['id', 'entidade', 'fornecedor', 'complexidade', 'stat_pagto',\n",
       "       'qtd_pag_word', 'qtd_pag_estimado', 'qtd_carc', 'qtd_tabela',\n",
       "       'qtd_image', 'qtd_estilos', 'pag_final', 'qtd_carc_normal'],\n",
       "      dtype='object')"
      ]
     },
     "execution_count": 180,
     "metadata": {},
     "output_type": "execute_result"
    }
   ],
   "source": [
    "data.columns"
   ]
  },
  {
   "cell_type": "code",
   "execution_count": 181,
   "metadata": {},
   "outputs": [],
   "source": [
    "# prepara dados de entrada X e dados de saida Y\n",
    "#colunas_X= ['entidade', 'fornecedor', 'complexidade', 'stat_pagto','qtd_pag_word', 'qtd_carc', 'qtd_tabela','qtd_image']\n",
    "\n",
    "#colunas_X= ['complexidade', 'qtd_pag_word', 'qtd_carc','qtd_tabela','qtd_image']\n",
    "colunas_X= ['complexidade', 'qtd_pag_word', 'qtd_carc','qtd_tabela','qtd_image',\"qtd_estilos\"]\n",
    "\n",
    "#colunas_X= ['complexidade', 'qtd_pag_word', 'qtd_pag_estimado','qtd_carc','qtd_tabela','qtd_image']\n",
    "\n",
    "colunas_y=['pag_final']\n",
    "#colunas_y=['id',  'pag_final']\n",
    "\n",
    "X = data[colunas_X]\n",
    "y = data[colunas_y]"
   ]
  },
  {
   "cell_type": "code",
   "execution_count": 182,
   "metadata": {},
   "outputs": [
    {
     "data": {
      "text/html": [
       "<div>\n",
       "<style scoped>\n",
       "    .dataframe tbody tr th:only-of-type {\n",
       "        vertical-align: middle;\n",
       "    }\n",
       "\n",
       "    .dataframe tbody tr th {\n",
       "        vertical-align: top;\n",
       "    }\n",
       "\n",
       "    .dataframe thead th {\n",
       "        text-align: right;\n",
       "    }\n",
       "</style>\n",
       "<table border=\"1\" class=\"dataframe\">\n",
       "  <thead>\n",
       "    <tr style=\"text-align: right;\">\n",
       "      <th></th>\n",
       "      <th>complexidade</th>\n",
       "      <th>qtd_pag_word</th>\n",
       "      <th>qtd_carc</th>\n",
       "      <th>qtd_tabela</th>\n",
       "      <th>qtd_image</th>\n",
       "      <th>qtd_estilos</th>\n",
       "    </tr>\n",
       "  </thead>\n",
       "  <tbody>\n",
       "    <tr>\n",
       "      <th>88</th>\n",
       "      <td>2</td>\n",
       "      <td>24</td>\n",
       "      <td>31123</td>\n",
       "      <td>21</td>\n",
       "      <td>17</td>\n",
       "      <td>23.0</td>\n",
       "    </tr>\n",
       "    <tr>\n",
       "      <th>89</th>\n",
       "      <td>2</td>\n",
       "      <td>24</td>\n",
       "      <td>31123</td>\n",
       "      <td>7</td>\n",
       "      <td>8</td>\n",
       "      <td>23.0</td>\n",
       "    </tr>\n",
       "    <tr>\n",
       "      <th>90</th>\n",
       "      <td>1</td>\n",
       "      <td>59</td>\n",
       "      <td>122719</td>\n",
       "      <td>363</td>\n",
       "      <td>323</td>\n",
       "      <td>23.0</td>\n",
       "    </tr>\n",
       "    <tr>\n",
       "      <th>91</th>\n",
       "      <td>1</td>\n",
       "      <td>48</td>\n",
       "      <td>81475</td>\n",
       "      <td>115</td>\n",
       "      <td>205</td>\n",
       "      <td>23.0</td>\n",
       "    </tr>\n",
       "    <tr>\n",
       "      <th>92</th>\n",
       "      <td>1</td>\n",
       "      <td>100</td>\n",
       "      <td>74242</td>\n",
       "      <td>132</td>\n",
       "      <td>224</td>\n",
       "      <td>16.0</td>\n",
       "    </tr>\n",
       "  </tbody>\n",
       "</table>\n",
       "</div>"
      ],
      "text/plain": [
       "    complexidade  qtd_pag_word  qtd_carc  qtd_tabela  qtd_image  qtd_estilos\n",
       "88             2            24     31123          21         17         23.0\n",
       "89             2            24     31123           7          8         23.0\n",
       "90             1            59    122719         363        323         23.0\n",
       "91             1            48     81475         115        205         23.0\n",
       "92             1           100     74242         132        224         16.0"
      ]
     },
     "execution_count": 182,
     "metadata": {},
     "output_type": "execute_result"
    }
   ],
   "source": [
    "X.tail()"
   ]
  },
  {
   "cell_type": "code",
   "execution_count": 183,
   "metadata": {
    "scrolled": true
   },
   "outputs": [
    {
     "data": {
      "text/html": [
       "<div>\n",
       "<style scoped>\n",
       "    .dataframe tbody tr th:only-of-type {\n",
       "        vertical-align: middle;\n",
       "    }\n",
       "\n",
       "    .dataframe tbody tr th {\n",
       "        vertical-align: top;\n",
       "    }\n",
       "\n",
       "    .dataframe thead th {\n",
       "        text-align: right;\n",
       "    }\n",
       "</style>\n",
       "<table border=\"1\" class=\"dataframe\">\n",
       "  <thead>\n",
       "    <tr style=\"text-align: right;\">\n",
       "      <th></th>\n",
       "      <th>id</th>\n",
       "      <th>entidade</th>\n",
       "      <th>fornecedor</th>\n",
       "      <th>complexidade</th>\n",
       "      <th>stat_pagto</th>\n",
       "      <th>qtd_pag_word</th>\n",
       "      <th>qtd_pag_estimado</th>\n",
       "      <th>qtd_carc</th>\n",
       "      <th>qtd_tabela</th>\n",
       "      <th>qtd_image</th>\n",
       "      <th>qtd_estilos</th>\n",
       "      <th>pag_final</th>\n",
       "      <th>qtd_carc_normal</th>\n",
       "    </tr>\n",
       "  </thead>\n",
       "  <tbody>\n",
       "    <tr>\n",
       "      <th>0</th>\n",
       "      <td>224323</td>\n",
       "      <td>0</td>\n",
       "      <td>0</td>\n",
       "      <td>1</td>\n",
       "      <td>0</td>\n",
       "      <td>87</td>\n",
       "      <td>140.0</td>\n",
       "      <td>116142</td>\n",
       "      <td>470</td>\n",
       "      <td>685</td>\n",
       "      <td>60.0</td>\n",
       "      <td>140</td>\n",
       "      <td>0.202882</td>\n",
       "    </tr>\n",
       "    <tr>\n",
       "      <th>1</th>\n",
       "      <td>224325</td>\n",
       "      <td>0</td>\n",
       "      <td>0</td>\n",
       "      <td>1</td>\n",
       "      <td>0</td>\n",
       "      <td>82</td>\n",
       "      <td>122.0</td>\n",
       "      <td>108307</td>\n",
       "      <td>76</td>\n",
       "      <td>94</td>\n",
       "      <td>69.0</td>\n",
       "      <td>122</td>\n",
       "      <td>0.189171</td>\n",
       "    </tr>\n",
       "    <tr>\n",
       "      <th>2</th>\n",
       "      <td>225392</td>\n",
       "      <td>0</td>\n",
       "      <td>0</td>\n",
       "      <td>3</td>\n",
       "      <td>0</td>\n",
       "      <td>41</td>\n",
       "      <td>70.0</td>\n",
       "      <td>41144</td>\n",
       "      <td>28</td>\n",
       "      <td>24</td>\n",
       "      <td>23.0</td>\n",
       "      <td>52</td>\n",
       "      <td>0.071636</td>\n",
       "    </tr>\n",
       "    <tr>\n",
       "      <th>3</th>\n",
       "      <td>225392</td>\n",
       "      <td>0</td>\n",
       "      <td>0</td>\n",
       "      <td>3</td>\n",
       "      <td>0</td>\n",
       "      <td>41</td>\n",
       "      <td>70.0</td>\n",
       "      <td>62913</td>\n",
       "      <td>397</td>\n",
       "      <td>639</td>\n",
       "      <td>21.0</td>\n",
       "      <td>52</td>\n",
       "      <td>0.109732</td>\n",
       "    </tr>\n",
       "    <tr>\n",
       "      <th>4</th>\n",
       "      <td>225531</td>\n",
       "      <td>0</td>\n",
       "      <td>0</td>\n",
       "      <td>2</td>\n",
       "      <td>0</td>\n",
       "      <td>36</td>\n",
       "      <td>48.0</td>\n",
       "      <td>37548</td>\n",
       "      <td>233</td>\n",
       "      <td>397</td>\n",
       "      <td>17.0</td>\n",
       "      <td>48</td>\n",
       "      <td>0.065343</td>\n",
       "    </tr>\n",
       "    <tr>\n",
       "      <th>...</th>\n",
       "      <td>...</td>\n",
       "      <td>...</td>\n",
       "      <td>...</td>\n",
       "      <td>...</td>\n",
       "      <td>...</td>\n",
       "      <td>...</td>\n",
       "      <td>...</td>\n",
       "      <td>...</td>\n",
       "      <td>...</td>\n",
       "      <td>...</td>\n",
       "      <td>...</td>\n",
       "      <td>...</td>\n",
       "      <td>...</td>\n",
       "    </tr>\n",
       "    <tr>\n",
       "      <th>88</th>\n",
       "      <td>235502</td>\n",
       "      <td>0</td>\n",
       "      <td>0</td>\n",
       "      <td>2</td>\n",
       "      <td>0</td>\n",
       "      <td>24</td>\n",
       "      <td>48.0</td>\n",
       "      <td>31123</td>\n",
       "      <td>21</td>\n",
       "      <td>17</td>\n",
       "      <td>23.0</td>\n",
       "      <td>36</td>\n",
       "      <td>0.054099</td>\n",
       "    </tr>\n",
       "    <tr>\n",
       "      <th>89</th>\n",
       "      <td>235502</td>\n",
       "      <td>0</td>\n",
       "      <td>0</td>\n",
       "      <td>2</td>\n",
       "      <td>0</td>\n",
       "      <td>24</td>\n",
       "      <td>48.0</td>\n",
       "      <td>31123</td>\n",
       "      <td>7</td>\n",
       "      <td>8</td>\n",
       "      <td>23.0</td>\n",
       "      <td>36</td>\n",
       "      <td>0.054099</td>\n",
       "    </tr>\n",
       "    <tr>\n",
       "      <th>90</th>\n",
       "      <td>235519</td>\n",
       "      <td>0</td>\n",
       "      <td>0</td>\n",
       "      <td>1</td>\n",
       "      <td>0</td>\n",
       "      <td>59</td>\n",
       "      <td>90.0</td>\n",
       "      <td>122719</td>\n",
       "      <td>363</td>\n",
       "      <td>323</td>\n",
       "      <td>23.0</td>\n",
       "      <td>78</td>\n",
       "      <td>0.214392</td>\n",
       "    </tr>\n",
       "    <tr>\n",
       "      <th>91</th>\n",
       "      <td>235512</td>\n",
       "      <td>0</td>\n",
       "      <td>0</td>\n",
       "      <td>1</td>\n",
       "      <td>0</td>\n",
       "      <td>48</td>\n",
       "      <td>75.0</td>\n",
       "      <td>81475</td>\n",
       "      <td>115</td>\n",
       "      <td>205</td>\n",
       "      <td>23.0</td>\n",
       "      <td>66</td>\n",
       "      <td>0.142215</td>\n",
       "    </tr>\n",
       "    <tr>\n",
       "      <th>92</th>\n",
       "      <td>233900</td>\n",
       "      <td>2</td>\n",
       "      <td>1</td>\n",
       "      <td>1</td>\n",
       "      <td>0</td>\n",
       "      <td>100</td>\n",
       "      <td>120.0</td>\n",
       "      <td>74242</td>\n",
       "      <td>132</td>\n",
       "      <td>224</td>\n",
       "      <td>16.0</td>\n",
       "      <td>82</td>\n",
       "      <td>0.129557</td>\n",
       "    </tr>\n",
       "  </tbody>\n",
       "</table>\n",
       "<p>93 rows × 13 columns</p>\n",
       "</div>"
      ],
      "text/plain": [
       "        id  entidade  fornecedor  complexidade  stat_pagto  qtd_pag_word  \\\n",
       "0   224323         0           0             1           0            87   \n",
       "1   224325         0           0             1           0            82   \n",
       "2   225392         0           0             3           0            41   \n",
       "3   225392         0           0             3           0            41   \n",
       "4   225531         0           0             2           0            36   \n",
       "..     ...       ...         ...           ...         ...           ...   \n",
       "88  235502         0           0             2           0            24   \n",
       "89  235502         0           0             2           0            24   \n",
       "90  235519         0           0             1           0            59   \n",
       "91  235512         0           0             1           0            48   \n",
       "92  233900         2           1             1           0           100   \n",
       "\n",
       "    qtd_pag_estimado  qtd_carc  qtd_tabela  qtd_image  qtd_estilos  pag_final  \\\n",
       "0              140.0    116142         470        685         60.0        140   \n",
       "1              122.0    108307          76         94         69.0        122   \n",
       "2               70.0     41144          28         24         23.0         52   \n",
       "3               70.0     62913         397        639         21.0         52   \n",
       "4               48.0     37548         233        397         17.0         48   \n",
       "..               ...       ...         ...        ...          ...        ...   \n",
       "88              48.0     31123          21         17         23.0         36   \n",
       "89              48.0     31123           7          8         23.0         36   \n",
       "90              90.0    122719         363        323         23.0         78   \n",
       "91              75.0     81475         115        205         23.0         66   \n",
       "92             120.0     74242         132        224         16.0         82   \n",
       "\n",
       "    qtd_carc_normal  \n",
       "0          0.202882  \n",
       "1          0.189171  \n",
       "2          0.071636  \n",
       "3          0.109732  \n",
       "4          0.065343  \n",
       "..              ...  \n",
       "88         0.054099  \n",
       "89         0.054099  \n",
       "90         0.214392  \n",
       "91         0.142215  \n",
       "92         0.129557  \n",
       "\n",
       "[93 rows x 13 columns]"
      ]
     },
     "execution_count": 183,
     "metadata": {},
     "output_type": "execute_result"
    }
   ],
   "source": [
    "data"
   ]
  },
  {
   "cell_type": "code",
   "execution_count": 184,
   "metadata": {},
   "outputs": [
    {
     "data": {
      "text/html": [
       "<div>\n",
       "<style scoped>\n",
       "    .dataframe tbody tr th:only-of-type {\n",
       "        vertical-align: middle;\n",
       "    }\n",
       "\n",
       "    .dataframe tbody tr th {\n",
       "        vertical-align: top;\n",
       "    }\n",
       "\n",
       "    .dataframe thead th {\n",
       "        text-align: right;\n",
       "    }\n",
       "</style>\n",
       "<table border=\"1\" class=\"dataframe\">\n",
       "  <thead>\n",
       "    <tr style=\"text-align: right;\">\n",
       "      <th></th>\n",
       "      <th>id</th>\n",
       "      <th>entidade</th>\n",
       "      <th>fornecedor</th>\n",
       "      <th>complexidade</th>\n",
       "      <th>stat_pagto</th>\n",
       "      <th>qtd_pag_word</th>\n",
       "      <th>qtd_pag_estimado</th>\n",
       "      <th>qtd_carc</th>\n",
       "      <th>qtd_tabela</th>\n",
       "      <th>qtd_image</th>\n",
       "      <th>qtd_estilos</th>\n",
       "      <th>pag_final</th>\n",
       "      <th>qtd_carc_normal</th>\n",
       "    </tr>\n",
       "  </thead>\n",
       "  <tbody>\n",
       "    <tr>\n",
       "      <th>count</th>\n",
       "      <td>93.000000</td>\n",
       "      <td>93.000000</td>\n",
       "      <td>93.000000</td>\n",
       "      <td>93.000000</td>\n",
       "      <td>93.0</td>\n",
       "      <td>93.000000</td>\n",
       "      <td>93.000000</td>\n",
       "      <td>93.000000</td>\n",
       "      <td>93.000000</td>\n",
       "      <td>93.000000</td>\n",
       "      <td>93.00000</td>\n",
       "      <td>93.000000</td>\n",
       "      <td>93.000000</td>\n",
       "    </tr>\n",
       "    <tr>\n",
       "      <th>mean</th>\n",
       "      <td>229600.838710</td>\n",
       "      <td>0.258065</td>\n",
       "      <td>0.010753</td>\n",
       "      <td>1.365591</td>\n",
       "      <td>0.0</td>\n",
       "      <td>64.290323</td>\n",
       "      <td>97.903226</td>\n",
       "      <td>83783.344086</td>\n",
       "      <td>236.956989</td>\n",
       "      <td>324.053763</td>\n",
       "      <td>26.16129</td>\n",
       "      <td>82.569892</td>\n",
       "      <td>0.146254</td>\n",
       "    </tr>\n",
       "    <tr>\n",
       "      <th>std</th>\n",
       "      <td>24216.403563</td>\n",
       "      <td>0.587982</td>\n",
       "      <td>0.103695</td>\n",
       "      <td>0.604061</td>\n",
       "      <td>0.0</td>\n",
       "      <td>65.248119</td>\n",
       "      <td>72.444291</td>\n",
       "      <td>91171.351973</td>\n",
       "      <td>143.635250</td>\n",
       "      <td>212.378884</td>\n",
       "      <td>14.90644</td>\n",
       "      <td>64.709283</td>\n",
       "      <td>0.159549</td>\n",
       "    </tr>\n",
       "    <tr>\n",
       "      <th>min</th>\n",
       "      <td>3.000000</td>\n",
       "      <td>0.000000</td>\n",
       "      <td>0.000000</td>\n",
       "      <td>0.000000</td>\n",
       "      <td>0.0</td>\n",
       "      <td>1.000000</td>\n",
       "      <td>1.000000</td>\n",
       "      <td>209.000000</td>\n",
       "      <td>0.000000</td>\n",
       "      <td>1.000000</td>\n",
       "      <td>1.00000</td>\n",
       "      <td>1.000000</td>\n",
       "      <td>0.000000</td>\n",
       "    </tr>\n",
       "    <tr>\n",
       "      <th>25%</th>\n",
       "      <td>230571.000000</td>\n",
       "      <td>0.000000</td>\n",
       "      <td>0.000000</td>\n",
       "      <td>1.000000</td>\n",
       "      <td>0.0</td>\n",
       "      <td>33.000000</td>\n",
       "      <td>48.000000</td>\n",
       "      <td>31123.000000</td>\n",
       "      <td>115.000000</td>\n",
       "      <td>162.000000</td>\n",
       "      <td>19.00000</td>\n",
       "      <td>46.000000</td>\n",
       "      <td>0.054099</td>\n",
       "    </tr>\n",
       "    <tr>\n",
       "      <th>50%</th>\n",
       "      <td>232872.000000</td>\n",
       "      <td>0.000000</td>\n",
       "      <td>0.000000</td>\n",
       "      <td>1.000000</td>\n",
       "      <td>0.0</td>\n",
       "      <td>50.000000</td>\n",
       "      <td>80.000000</td>\n",
       "      <td>69135.000000</td>\n",
       "      <td>239.000000</td>\n",
       "      <td>280.000000</td>\n",
       "      <td>23.00000</td>\n",
       "      <td>70.000000</td>\n",
       "      <td>0.120620</td>\n",
       "    </tr>\n",
       "    <tr>\n",
       "      <th>75%</th>\n",
       "      <td>233895.000000</td>\n",
       "      <td>0.000000</td>\n",
       "      <td>0.000000</td>\n",
       "      <td>2.000000</td>\n",
       "      <td>0.0</td>\n",
       "      <td>78.000000</td>\n",
       "      <td>120.000000</td>\n",
       "      <td>103663.000000</td>\n",
       "      <td>357.000000</td>\n",
       "      <td>458.000000</td>\n",
       "      <td>31.00000</td>\n",
       "      <td>96.000000</td>\n",
       "      <td>0.181044</td>\n",
       "    </tr>\n",
       "    <tr>\n",
       "      <th>max</th>\n",
       "      <td>235519.000000</td>\n",
       "      <td>2.000000</td>\n",
       "      <td>1.000000</td>\n",
       "      <td>3.000000</td>\n",
       "      <td>0.0</td>\n",
       "      <td>543.000000</td>\n",
       "      <td>420.000000</td>\n",
       "      <td>571640.000000</td>\n",
       "      <td>526.000000</td>\n",
       "      <td>792.000000</td>\n",
       "      <td>71.00000</td>\n",
       "      <td>386.000000</td>\n",
       "      <td>1.000000</td>\n",
       "    </tr>\n",
       "  </tbody>\n",
       "</table>\n",
       "</div>"
      ],
      "text/plain": [
       "                  id   entidade  fornecedor  complexidade  stat_pagto  \\\n",
       "count      93.000000  93.000000   93.000000     93.000000        93.0   \n",
       "mean   229600.838710   0.258065    0.010753      1.365591         0.0   \n",
       "std     24216.403563   0.587982    0.103695      0.604061         0.0   \n",
       "min         3.000000   0.000000    0.000000      0.000000         0.0   \n",
       "25%    230571.000000   0.000000    0.000000      1.000000         0.0   \n",
       "50%    232872.000000   0.000000    0.000000      1.000000         0.0   \n",
       "75%    233895.000000   0.000000    0.000000      2.000000         0.0   \n",
       "max    235519.000000   2.000000    1.000000      3.000000         0.0   \n",
       "\n",
       "       qtd_pag_word  qtd_pag_estimado       qtd_carc  qtd_tabela   qtd_image  \\\n",
       "count     93.000000         93.000000      93.000000   93.000000   93.000000   \n",
       "mean      64.290323         97.903226   83783.344086  236.956989  324.053763   \n",
       "std       65.248119         72.444291   91171.351973  143.635250  212.378884   \n",
       "min        1.000000          1.000000     209.000000    0.000000    1.000000   \n",
       "25%       33.000000         48.000000   31123.000000  115.000000  162.000000   \n",
       "50%       50.000000         80.000000   69135.000000  239.000000  280.000000   \n",
       "75%       78.000000        120.000000  103663.000000  357.000000  458.000000   \n",
       "max      543.000000        420.000000  571640.000000  526.000000  792.000000   \n",
       "\n",
       "       qtd_estilos   pag_final  qtd_carc_normal  \n",
       "count     93.00000   93.000000        93.000000  \n",
       "mean      26.16129   82.569892         0.146254  \n",
       "std       14.90644   64.709283         0.159549  \n",
       "min        1.00000    1.000000         0.000000  \n",
       "25%       19.00000   46.000000         0.054099  \n",
       "50%       23.00000   70.000000         0.120620  \n",
       "75%       31.00000   96.000000         0.181044  \n",
       "max       71.00000  386.000000         1.000000  "
      ]
     },
     "execution_count": 184,
     "metadata": {},
     "output_type": "execute_result"
    }
   ],
   "source": [
    "data.describe()"
   ]
  },
  {
   "cell_type": "code",
   "execution_count": 185,
   "metadata": {},
   "outputs": [
    {
     "data": {
      "text/html": [
       "<div>\n",
       "<style scoped>\n",
       "    .dataframe tbody tr th:only-of-type {\n",
       "        vertical-align: middle;\n",
       "    }\n",
       "\n",
       "    .dataframe tbody tr th {\n",
       "        vertical-align: top;\n",
       "    }\n",
       "\n",
       "    .dataframe thead th {\n",
       "        text-align: right;\n",
       "    }\n",
       "</style>\n",
       "<table border=\"1\" class=\"dataframe\">\n",
       "  <thead>\n",
       "    <tr style=\"text-align: right;\">\n",
       "      <th></th>\n",
       "      <th>pag_final</th>\n",
       "    </tr>\n",
       "  </thead>\n",
       "  <tbody>\n",
       "    <tr>\n",
       "      <th>0</th>\n",
       "      <td>140</td>\n",
       "    </tr>\n",
       "    <tr>\n",
       "      <th>1</th>\n",
       "      <td>122</td>\n",
       "    </tr>\n",
       "    <tr>\n",
       "      <th>2</th>\n",
       "      <td>52</td>\n",
       "    </tr>\n",
       "    <tr>\n",
       "      <th>3</th>\n",
       "      <td>52</td>\n",
       "    </tr>\n",
       "    <tr>\n",
       "      <th>4</th>\n",
       "      <td>48</td>\n",
       "    </tr>\n",
       "  </tbody>\n",
       "</table>\n",
       "</div>"
      ],
      "text/plain": [
       "   pag_final\n",
       "0        140\n",
       "1        122\n",
       "2         52\n",
       "3         52\n",
       "4         48"
      ]
     },
     "execution_count": 185,
     "metadata": {},
     "output_type": "execute_result"
    }
   ],
   "source": [
    "y.head()"
   ]
  },
  {
   "cell_type": "markdown",
   "metadata": {},
   "source": [
    "# Normalizar?"
   ]
  },
  {
   "cell_type": "code",
   "execution_count": null,
   "metadata": {},
   "outputs": [],
   "source": [
    "# padronização/escalonamento dos dados.\n",
    "#\n",
    "# Escalas Diferentes Podem Ser um Problema? Normalizar?\n",
    "# https://www.linkedin.com/pulse/pr%C3%A9-processamento-de-dados-intui%C3%A7%C3%A3o-e-pr%C3%A1tica-em-lucas-thiago-zane/\n",
    "# https://medium.com/tentando-ser-um-unic%C3%B3rnio/porqu%C3%AA-e-quando-%C3%A9-necess%C3%A1rio-normalizar-os-dados-92e5cce445aa\n",
    "#\n",
    "#"
   ]
  },
  {
   "cell_type": "code",
   "execution_count": null,
   "metadata": {},
   "outputs": [],
   "source": [
    "# O objetivo da normalização é alterar os valores das colunas numéricas no conjunto de dados para uma escala comum,\n",
    "# sem distorcer as diferenças nos intervalos de valores.\n",
    "# Esse método é necessário apenas quando os parâmetros tiverem intervalos muito diferentes."
   ]
  },
  {
   "cell_type": "code",
   "execution_count": null,
   "metadata": {},
   "outputs": [],
   "source": [
    "# a normalização não é necessária para a Regressão Logística.\n",
    "# a normalização poderá fazer sentido no tratamento de outliers.\n",
    "# Deixar variáveis com escalas similares é algo importante em algoritmos que trabalham com distâncias euclidianas,\n",
    "# como é o caso das regressões lineares multivariadas.\n",
    "# random florest não envolvem o uso de distâncias euclidianas."
   ]
  },
  {
   "attachments": {
    "image.png": {
     "image/png": "[encoded data removed]"
    }
   },
   "cell_type": "markdown",
   "metadata": {},
   "source": [
    "![image.png](attachment:image.png)"
   ]
  },
  {
   "cell_type": "code",
   "execution_count": 84,
   "metadata": {},
   "outputs": [],
   "source": [
    "# O que essa fórmula está dizendo é que pra cada observação em ambas as variáveis,\n",
    "# eu respondo a seguinte pergunta:quantos desvios padrões esse valor está longe da média? "
   ]
  },
  {
   "cell_type": "code",
   "execution_count": null,
   "metadata": {},
   "outputs": [],
   "source": [
    "# “E se eu quiser modelar um classificador usando Regressão Logística, eu precisaria normalizar meus dados?”\n",
    "# Tecnicamente falando, a normalização não é necessária para a Regressão Logística, \n",
    "# pois ela trata com probabilidades relacionadas as classes envolvidas, \n",
    "# se preocupa em desenhar um “fronteira” de decisão em torno de um limiar (o famoso threshold).\n",
    "# Deixar variáveis com escalas similares é algo importante em algoritmos que trabalham com distâncias euclidianas, \n",
    "# como é o caso das regressões lineares multivariadas. "
   ]
  },
  {
   "cell_type": "code",
   "execution_count": null,
   "metadata": {},
   "outputs": [],
   "source": [
    "# Os algoritmos de otimização:\n",
    "#Adaptive Gradient (AdaGrad)\n",
    "#Stochastic Gradient Descent (SGD)\n",
    "#Gradiente Descendente com Momentum (momentum)\n",
    "#Adaptative Delta Learning (adadelta)\n",
    "#Nesterov Accelerated Gradient (nag)\n",
    "#Otimizador RMSprop (rmsprop)\n"
   ]
  },
  {
   "cell_type": "markdown",
   "metadata": {},
   "source": [
    "### normalização (StandardScaler)\n",
    "\n",
    "from sklearn.preprocessing import StandardScaler\n",
    "\n",
    "- sc_X = StandardScaler()\n",
    "- X_train = sc_X.fit_transform(X_train)\n",
    "- X_test = sc_X.transform(X_test)\n",
    "\n",
    "- sc_y = StandardScaler()\n",
    "- y_train = sc_y.fit_transform(y_train)"
   ]
  },
  {
   "cell_type": "markdown",
   "metadata": {},
   "source": [
    "#### Uma maneira fácil de usar o Pandas : (aqui eu quero usar a normalização média)\n",
    "\n",
    "- normalized_df=(df-df.mean())/df.std()\n",
    "#### para usar a normalização min-max:\n",
    "\n",
    "- normalized_df=(df-df.min())/(df.max()-df.min())"
   ]
  },
  {
   "cell_type": "markdown",
   "metadata": {},
   "source": [
    "#### Você pode usar o pacote sklearn e seus utilitários de pré-processamento associados para normalizar os dados.\n",
    "\n",
    "- import pandas as pd\n",
    "- from sklearn import preprocessing\n",
    "\n",
    "- x = df.values #returns a numpy array\n",
    "- min_max_scaler = preprocessing.MinMaxScaler()\n",
    "- x_scaled = min_max_scaler.fit_transform(x)\n",
    "- df = pd.DataFrame(x_scaled)"
   ]
  },
  {
   "cell_type": "code",
   "execution_count": 70,
   "metadata": {},
   "outputs": [],
   "source": [
    "#########################################################\n",
    "# INÍCIO DA PARTE DE MACHINE LEARNIG  \\\n",
    "# RANDOM FOREST\n",
    "########################################################"
   ]
  },
  {
   "cell_type": "code",
   "execution_count": 71,
   "metadata": {},
   "outputs": [],
   "source": [
    "# instalar biblioteca scikit-learn\n",
    "#! pip install -U scikit-learn"
   ]
  },
  {
   "cell_type": "code",
   "execution_count": 186,
   "metadata": {},
   "outputs": [],
   "source": [
    "# método train_test_split, Scikit-Learn \n",
    "X_train, X_test, y_train, y_test = train_test_split(X, y, test_size=0.10, random_state=42)"
   ]
  },
  {
   "cell_type": "code",
   "execution_count": 187,
   "metadata": {},
   "outputs": [
    {
     "data": {
      "text/plain": [
       "((83, 6), (10, 6), (83, 1), (10, 1))"
      ]
     },
     "execution_count": 187,
     "metadata": {},
     "output_type": "execute_result"
    }
   ],
   "source": [
    "X_train.shape, X_test.shape, y_train.shape, y_test.shape"
   ]
  },
  {
   "cell_type": "code",
   "execution_count": 188,
   "metadata": {},
   "outputs": [
    {
     "data": {
      "text/html": [
       "<div>\n",
       "<style scoped>\n",
       "    .dataframe tbody tr th:only-of-type {\n",
       "        vertical-align: middle;\n",
       "    }\n",
       "\n",
       "    .dataframe tbody tr th {\n",
       "        vertical-align: top;\n",
       "    }\n",
       "\n",
       "    .dataframe thead th {\n",
       "        text-align: right;\n",
       "    }\n",
       "</style>\n",
       "<table border=\"1\" class=\"dataframe\">\n",
       "  <thead>\n",
       "    <tr style=\"text-align: right;\">\n",
       "      <th></th>\n",
       "      <th>pag_final</th>\n",
       "    </tr>\n",
       "  </thead>\n",
       "  <tbody>\n",
       "    <tr>\n",
       "      <th>40</th>\n",
       "      <td>340</td>\n",
       "    </tr>\n",
       "    <tr>\n",
       "      <th>22</th>\n",
       "      <td>98</td>\n",
       "    </tr>\n",
       "    <tr>\n",
       "      <th>55</th>\n",
       "      <td>34</td>\n",
       "    </tr>\n",
       "    <tr>\n",
       "      <th>72</th>\n",
       "      <td>38</td>\n",
       "    </tr>\n",
       "    <tr>\n",
       "      <th>0</th>\n",
       "      <td>140</td>\n",
       "    </tr>\n",
       "  </tbody>\n",
       "</table>\n",
       "</div>"
      ],
      "text/plain": [
       "    pag_final\n",
       "40        340\n",
       "22         98\n",
       "55         34\n",
       "72         38\n",
       "0         140"
      ]
     },
     "execution_count": 188,
     "metadata": {},
     "output_type": "execute_result"
    }
   ],
   "source": [
    "y_test.head()"
   ]
  },
  {
   "cell_type": "code",
   "execution_count": null,
   "metadata": {},
   "outputs": [],
   "source": []
  },
  {
   "cell_type": "code",
   "execution_count": 189,
   "metadata": {},
   "outputs": [
    {
     "name": "stderr",
     "output_type": "stream",
     "text": [
      "<ipython-input-189-957cc5138365>:2: DataConversionWarning: A column-vector y was passed when a 1d array was expected. Please change the shape of y to (n_samples,), for example using ravel().\n",
      "  modelo.fit(X_train, y_train)\n"
     ]
    },
    {
     "data": {
      "text/plain": [
       "RandomForestClassifier(n_jobs=-1, random_state=0)"
      ]
     },
     "execution_count": 189,
     "metadata": {},
     "output_type": "execute_result"
    }
   ],
   "source": [
    "modelo = RandomForestClassifier(n_estimators=100, n_jobs=-1, random_state=0)\n",
    "modelo.fit(X_train, y_train)"
   ]
  },
  {
   "cell_type": "code",
   "execution_count": 190,
   "metadata": {},
   "outputs": [],
   "source": [
    "p = modelo.predict(X_test)"
   ]
  },
  {
   "cell_type": "code",
   "execution_count": 191,
   "metadata": {},
   "outputs": [
    {
     "data": {
      "text/plain": [
       "array([ 96, 110,  28,  34, 100,  48,  48,  20,  48, 104])"
      ]
     },
     "execution_count": 191,
     "metadata": {},
     "output_type": "execute_result"
    }
   ],
   "source": [
    "p"
   ]
  },
  {
   "cell_type": "code",
   "execution_count": 192,
   "metadata": {},
   "outputs": [
    {
     "name": "stdout",
     "output_type": "stream",
     "text": [
      "(10,) (10, 1)\n"
     ]
    }
   ],
   "source": [
    "print(p.shape,y_test.shape)"
   ]
  },
  {
   "cell_type": "code",
   "execution_count": 193,
   "metadata": {},
   "outputs": [
    {
     "data": {
      "text/html": [
       "<div>\n",
       "<style scoped>\n",
       "    .dataframe tbody tr th:only-of-type {\n",
       "        vertical-align: middle;\n",
       "    }\n",
       "\n",
       "    .dataframe tbody tr th {\n",
       "        vertical-align: top;\n",
       "    }\n",
       "\n",
       "    .dataframe thead th {\n",
       "        text-align: right;\n",
       "    }\n",
       "</style>\n",
       "<table border=\"1\" class=\"dataframe\">\n",
       "  <thead>\n",
       "    <tr style=\"text-align: right;\">\n",
       "      <th></th>\n",
       "      <th>pag_final</th>\n",
       "    </tr>\n",
       "  </thead>\n",
       "  <tbody>\n",
       "    <tr>\n",
       "      <th>40</th>\n",
       "      <td>340</td>\n",
       "    </tr>\n",
       "    <tr>\n",
       "      <th>22</th>\n",
       "      <td>98</td>\n",
       "    </tr>\n",
       "    <tr>\n",
       "      <th>55</th>\n",
       "      <td>34</td>\n",
       "    </tr>\n",
       "    <tr>\n",
       "      <th>72</th>\n",
       "      <td>38</td>\n",
       "    </tr>\n",
       "    <tr>\n",
       "      <th>0</th>\n",
       "      <td>140</td>\n",
       "    </tr>\n",
       "    <tr>\n",
       "      <th>26</th>\n",
       "      <td>72</td>\n",
       "    </tr>\n",
       "    <tr>\n",
       "      <th>39</th>\n",
       "      <td>42</td>\n",
       "    </tr>\n",
       "    <tr>\n",
       "      <th>67</th>\n",
       "      <td>22</td>\n",
       "    </tr>\n",
       "    <tr>\n",
       "      <th>10</th>\n",
       "      <td>40</td>\n",
       "    </tr>\n",
       "    <tr>\n",
       "      <th>44</th>\n",
       "      <td>98</td>\n",
       "    </tr>\n",
       "  </tbody>\n",
       "</table>\n",
       "</div>"
      ],
      "text/plain": [
       "    pag_final\n",
       "40        340\n",
       "22         98\n",
       "55         34\n",
       "72         38\n",
       "0         140\n",
       "26         72\n",
       "39         42\n",
       "67         22\n",
       "10         40\n",
       "44         98"
      ]
     },
     "execution_count": 193,
     "metadata": {},
     "output_type": "execute_result"
    }
   ],
   "source": [
    "y_test"
   ]
  },
  {
   "cell_type": "code",
   "execution_count": 194,
   "metadata": {},
   "outputs": [
    {
     "name": "stdout",
     "output_type": "stream",
     "text": [
      "RMSE:  78.77055287351993\n"
     ]
    }
   ],
   "source": [
    "# Calculando RMSE utilizando scikit-learn\n",
    "print('RMSE: ',np.sqrt(metrics.mean_squared_error(y_test,p)))\n",
    "# RMSE:  78.92781512242689\n",
    "# RMSE:  78.58244078673046"
   ]
  },
  {
   "cell_type": "code",
   "execution_count": null,
   "metadata": {},
   "outputs": [],
   "source": [
    "##############################################################################################################"
   ]
  },
  {
   "cell_type": "code",
   "execution_count": null,
   "metadata": {},
   "outputs": [],
   "source": [
    "#########################################################\n",
    "# FIM RANDOM FOREST\n",
    "########################################################"
   ]
  },
  {
   "cell_type": "code",
   "execution_count": null,
   "metadata": {},
   "outputs": [],
   "source": []
  },
  {
   "cell_type": "code",
   "execution_count": null,
   "metadata": {},
   "outputs": [],
   "source": [
    "# https://github.com/WalnerPessoa/Medical-Cost-Personal/blob/master/Aula%205%20-%20Regress%C3%A3o%20linear%20para%20prever%20as%20despesas%20m%C3%A9dicas%20de%20um%20paciente%20.ipynb\n",
    "\n",
    "\n",
    "# Criando uma lista com os nomes dos atributos\n",
    "#feature_cols = ['age','sex','bmi','children','smoker']\n",
    "\n",
    "# Usando a lista para escolher um subconjunto do dataframe original\n",
    "#X = data[feature_cols]\n",
    "\n",
    "# Selecionando a Série no dataframe\n",
    "#y = data.charges\n",
    "\n",
    "# Dividindo entre conjunto de treinamento e teste\n",
    "#X_train, X_test, y_train, y_test = train_test_split(X, y, random_state=1)\n",
    "\n",
    "# Ajsutando o modelo (Aprendendo os coeficientes)\n",
    "#linreg.fit(X_train, y_train)\n",
    "\n",
    "# Fazendo predições no conjunto de teste\n",
    "#y_pred = linreg.predict(X_test)\n",
    "\n",
    "# Calculando RMSE para nossas predições\n",
    "#print(np.sqrt(metrics.mean_squared_error(y_test, y_pred)))"
   ]
  },
  {
   "cell_type": "code",
   "execution_count": null,
   "metadata": {},
   "outputs": [],
   "source": [
    "##############################################################################################################"
   ]
  },
  {
   "cell_type": "code",
   "execution_count": null,
   "metadata": {},
   "outputs": [],
   "source": [
    "#########################################################\n",
    "# INÍCIO DA PARTE DE MACHINE LEARNIG  \\\n",
    "# LINEAR REGRESSION\n",
    "########################################################"
   ]
  },
  {
   "cell_type": "code",
   "execution_count": 195,
   "metadata": {},
   "outputs": [],
   "source": [
    "# prepara dados de entrada X e dados de saida Y\n",
    "#colunas_X= ['entidade', 'fornecedor', 'complexidade', 'stat_pagto','qtd_pag_word', 'qtd_carc', 'qtd_tabela','qtd_image']\n",
    "\n",
    "# colunas_X= ['complexidade', 'qtd_pag_word', 'qtd_carc','qtd_tabela','qtd_image']\n",
    "\n",
    "#colunas_X= ['complexidade', 'qtd_pag_word', \"qtd_carc_normal\",'qtd_tabela','qtd_image']\n",
    "colunas_X= ['complexidade', 'qtd_pag_word', 'qtd_carc','qtd_tabela','qtd_image',\"qtd_estilos\"]\n",
    "\n",
    "\n",
    "\n",
    "#colunas_X= ['complexidade', 'qtd_pag_word', 'qtd_pag_estimado','qtd_carc','qtd_tabela','qtd_image']\n",
    "colunas_y=['pag_final']\n",
    "X = data[colunas_X]\n",
    "y = data[colunas_y]"
   ]
  },
  {
   "cell_type": "code",
   "execution_count": 196,
   "metadata": {},
   "outputs": [],
   "source": [
    "# método train_test_split, Scikit-Learn \n",
    "X_train, X_test, y_train, y_test = train_test_split(X, y,  test_size=0.10,random_state=1)"
   ]
  },
  {
   "cell_type": "code",
   "execution_count": 197,
   "metadata": {},
   "outputs": [
    {
     "data": {
      "text/html": [
       "<div>\n",
       "<style scoped>\n",
       "    .dataframe tbody tr th:only-of-type {\n",
       "        vertical-align: middle;\n",
       "    }\n",
       "\n",
       "    .dataframe tbody tr th {\n",
       "        vertical-align: top;\n",
       "    }\n",
       "\n",
       "    .dataframe thead th {\n",
       "        text-align: right;\n",
       "    }\n",
       "</style>\n",
       "<table border=\"1\" class=\"dataframe\">\n",
       "  <thead>\n",
       "    <tr style=\"text-align: right;\">\n",
       "      <th></th>\n",
       "      <th>complexidade</th>\n",
       "      <th>qtd_pag_word</th>\n",
       "      <th>qtd_carc</th>\n",
       "      <th>qtd_tabela</th>\n",
       "      <th>qtd_image</th>\n",
       "      <th>qtd_estilos</th>\n",
       "    </tr>\n",
       "  </thead>\n",
       "  <tbody>\n",
       "    <tr>\n",
       "      <th>40</th>\n",
       "      <td>1</td>\n",
       "      <td>195</td>\n",
       "      <td>413596</td>\n",
       "      <td>26</td>\n",
       "      <td>20</td>\n",
       "      <td>19.0</td>\n",
       "    </tr>\n",
       "    <tr>\n",
       "      <th>31</th>\n",
       "      <td>1</td>\n",
       "      <td>63</td>\n",
       "      <td>97543</td>\n",
       "      <td>524</td>\n",
       "      <td>789</td>\n",
       "      <td>28.0</td>\n",
       "    </tr>\n",
       "    <tr>\n",
       "      <th>90</th>\n",
       "      <td>1</td>\n",
       "      <td>59</td>\n",
       "      <td>122719</td>\n",
       "      <td>363</td>\n",
       "      <td>323</td>\n",
       "      <td>23.0</td>\n",
       "    </tr>\n",
       "    <tr>\n",
       "      <th>27</th>\n",
       "      <td>1</td>\n",
       "      <td>83</td>\n",
       "      <td>186373</td>\n",
       "      <td>150</td>\n",
       "      <td>251</td>\n",
       "      <td>38.0</td>\n",
       "    </tr>\n",
       "    <tr>\n",
       "      <th>38</th>\n",
       "      <td>2</td>\n",
       "      <td>34</td>\n",
       "      <td>56358</td>\n",
       "      <td>104</td>\n",
       "      <td>119</td>\n",
       "      <td>25.0</td>\n",
       "    </tr>\n",
       "    <tr>\n",
       "      <th>...</th>\n",
       "      <td>...</td>\n",
       "      <td>...</td>\n",
       "      <td>...</td>\n",
       "      <td>...</td>\n",
       "      <td>...</td>\n",
       "      <td>...</td>\n",
       "    </tr>\n",
       "    <tr>\n",
       "      <th>75</th>\n",
       "      <td>1</td>\n",
       "      <td>207</td>\n",
       "      <td>571640</td>\n",
       "      <td>303</td>\n",
       "      <td>264</td>\n",
       "      <td>24.0</td>\n",
       "    </tr>\n",
       "    <tr>\n",
       "      <th>9</th>\n",
       "      <td>2</td>\n",
       "      <td>18</td>\n",
       "      <td>145038</td>\n",
       "      <td>169</td>\n",
       "      <td>341</td>\n",
       "      <td>35.0</td>\n",
       "    </tr>\n",
       "    <tr>\n",
       "      <th>72</th>\n",
       "      <td>2</td>\n",
       "      <td>19</td>\n",
       "      <td>16370</td>\n",
       "      <td>357</td>\n",
       "      <td>317</td>\n",
       "      <td>23.0</td>\n",
       "    </tr>\n",
       "    <tr>\n",
       "      <th>12</th>\n",
       "      <td>1</td>\n",
       "      <td>57</td>\n",
       "      <td>1176</td>\n",
       "      <td>209</td>\n",
       "      <td>392</td>\n",
       "      <td>2.0</td>\n",
       "    </tr>\n",
       "    <tr>\n",
       "      <th>37</th>\n",
       "      <td>2</td>\n",
       "      <td>26</td>\n",
       "      <td>22578</td>\n",
       "      <td>389</td>\n",
       "      <td>629</td>\n",
       "      <td>25.0</td>\n",
       "    </tr>\n",
       "  </tbody>\n",
       "</table>\n",
       "<p>83 rows × 6 columns</p>\n",
       "</div>"
      ],
      "text/plain": [
       "    complexidade  qtd_pag_word  qtd_carc  qtd_tabela  qtd_image  qtd_estilos\n",
       "40             1           195    413596          26         20         19.0\n",
       "31             1            63     97543         524        789         28.0\n",
       "90             1            59    122719         363        323         23.0\n",
       "27             1            83    186373         150        251         38.0\n",
       "38             2            34     56358         104        119         25.0\n",
       "..           ...           ...       ...         ...        ...          ...\n",
       "75             1           207    571640         303        264         24.0\n",
       "9              2            18    145038         169        341         35.0\n",
       "72             2            19     16370         357        317         23.0\n",
       "12             1            57      1176         209        392          2.0\n",
       "37             2            26     22578         389        629         25.0\n",
       "\n",
       "[83 rows x 6 columns]"
      ]
     },
     "execution_count": 197,
     "metadata": {},
     "output_type": "execute_result"
    }
   ],
   "source": [
    "X_train"
   ]
  },
  {
   "cell_type": "code",
   "execution_count": 198,
   "metadata": {},
   "outputs": [
    {
     "name": "stdout",
     "output_type": "stream",
     "text": [
      "[39.91188536]\n",
      "[[-1.12598804e+01  6.95461224e-01  2.54639254e-04  1.17609369e-02\n",
      "  -9.42819675e-03 -2.80477466e-01]]\n"
     ]
    }
   ],
   "source": [
    "##### machine learnig\n",
    "\n",
    "#Instanciando o estimador\n",
    "linreg = LinearRegression()\n",
    "\n",
    "#Ajustando o modelo ao conjunto de treino\n",
    "linreg.fit(X_train, y_train)\n",
    "\n",
    "#Interpretando os coeficientes do modelo\n",
    "#Visualizando a interseção e os coeficientes \n",
    "print(linreg.intercept_)\n",
    "print(linreg.coef_)\n"
   ]
  },
  {
   "cell_type": "code",
   "execution_count": 199,
   "metadata": {},
   "outputs": [
    {
     "data": {
      "text/plain": [
       "['complexidade',\n",
       " 'qtd_pag_word',\n",
       " 'qtd_carc',\n",
       " 'qtd_tabela',\n",
       " 'qtd_image',\n",
       " 'qtd_estilos']"
      ]
     },
     "execution_count": 199,
     "metadata": {},
     "output_type": "execute_result"
    }
   ],
   "source": [
    "colunas_X"
   ]
  },
  {
   "cell_type": "code",
   "execution_count": 200,
   "metadata": {},
   "outputs": [
    {
     "data": {
      "text/plain": [
       "Index(['complexidade', 'qtd_pag_word', 'qtd_carc', 'qtd_tabela', 'qtd_image',\n",
       "       'qtd_estilos'],\n",
       "      dtype='object')"
      ]
     },
     "execution_count": 200,
     "metadata": {},
     "output_type": "execute_result"
    }
   ],
   "source": [
    "X_train.columns"
   ]
  },
  {
   "cell_type": "code",
   "execution_count": 201,
   "metadata": {},
   "outputs": [
    {
     "data": {
      "text/plain": [
       "[('complexidade',\n",
       "  array([-1.12598804e+01,  6.95461224e-01,  2.54639254e-04,  1.17609369e-02,\n",
       "         -9.42819675e-03, -2.80477466e-01]))]"
      ]
     },
     "execution_count": 201,
     "metadata": {},
     "output_type": "execute_result"
    }
   ],
   "source": [
    "#Atributos e seus coeficientes\n",
    "list(zip(colunas_X, linreg.coef_))"
   ]
  },
  {
   "cell_type": "code",
   "execution_count": 202,
   "metadata": {},
   "outputs": [],
   "source": [
    "#Fazendo predições no conjunto de teste\n",
    "y_pred = linreg.predict(X_test)"
   ]
  },
  {
   "cell_type": "code",
   "execution_count": 203,
   "metadata": {},
   "outputs": [
    {
     "data": {
      "text/plain": [
       "array([[ 37.49664056],\n",
       "       [ 61.86796013],\n",
       "       [115.28497295],\n",
       "       [ 47.50320228],\n",
       "       [ 35.64405006],\n",
       "       [ 85.33434495],\n",
       "       [ 78.59263703],\n",
       "       [155.23900812],\n",
       "       [ 65.72600636],\n",
       "       [ 47.0220136 ]])"
      ]
     },
     "execution_count": 203,
     "metadata": {},
     "output_type": "execute_result"
    }
   ],
   "source": [
    "y_pred"
   ]
  },
  {
   "cell_type": "code",
   "execution_count": 204,
   "metadata": {
    "scrolled": true
   },
   "outputs": [
    {
     "data": {
      "text/html": [
       "<div>\n",
       "<style scoped>\n",
       "    .dataframe tbody tr th:only-of-type {\n",
       "        vertical-align: middle;\n",
       "    }\n",
       "\n",
       "    .dataframe tbody tr th {\n",
       "        vertical-align: top;\n",
       "    }\n",
       "\n",
       "    .dataframe thead th {\n",
       "        text-align: right;\n",
       "    }\n",
       "</style>\n",
       "<table border=\"1\" class=\"dataframe\">\n",
       "  <thead>\n",
       "    <tr style=\"text-align: right;\">\n",
       "      <th></th>\n",
       "      <th>pag_final</th>\n",
       "    </tr>\n",
       "  </thead>\n",
       "  <tbody>\n",
       "    <tr>\n",
       "      <th>59</th>\n",
       "      <td>52</td>\n",
       "    </tr>\n",
       "    <tr>\n",
       "      <th>74</th>\n",
       "      <td>68</td>\n",
       "    </tr>\n",
       "    <tr>\n",
       "      <th>44</th>\n",
       "      <td>98</td>\n",
       "    </tr>\n",
       "    <tr>\n",
       "      <th>56</th>\n",
       "      <td>48</td>\n",
       "    </tr>\n",
       "    <tr>\n",
       "      <th>88</th>\n",
       "      <td>36</td>\n",
       "    </tr>\n",
       "    <tr>\n",
       "      <th>77</th>\n",
       "      <td>86</td>\n",
       "    </tr>\n",
       "    <tr>\n",
       "      <th>62</th>\n",
       "      <td>68</td>\n",
       "    </tr>\n",
       "    <tr>\n",
       "      <th>53</th>\n",
       "      <td>126</td>\n",
       "    </tr>\n",
       "    <tr>\n",
       "      <th>54</th>\n",
       "      <td>68</td>\n",
       "    </tr>\n",
       "    <tr>\n",
       "      <th>39</th>\n",
       "      <td>42</td>\n",
       "    </tr>\n",
       "  </tbody>\n",
       "</table>\n",
       "</div>"
      ],
      "text/plain": [
       "    pag_final\n",
       "59         52\n",
       "74         68\n",
       "44         98\n",
       "56         48\n",
       "88         36\n",
       "77         86\n",
       "62         68\n",
       "53        126\n",
       "54         68\n",
       "39         42"
      ]
     },
     "execution_count": 204,
     "metadata": {},
     "output_type": "execute_result"
    }
   ],
   "source": [
    "y_test"
   ]
  },
  {
   "cell_type": "markdown",
   "metadata": {},
   "source": [
    "Comparando essas métricas:\n",
    "\n",
    "- MAE é a mais fácil de entender.\n",
    "- MSE é mais popular que MAE, porque MSE \"pune\" erros grandes.\n",
    "- RMSE é ainda mais popular que MSE, porque RMSE é interpretável na mesma unidade de y."
   ]
  },
  {
   "cell_type": "code",
   "execution_count": 206,
   "metadata": {},
   "outputs": [],
   "source": [
    "#RMSE:  12.11799697428631 # primeiro test com columas\n",
    "#colunas_X= ['entidade', 'fornecedor', 'complexidade', 'stat_pagto','qtd_pag_word', 'qtd_carc', 'qtd_tabela','qtd_image']\n",
    "\n",
    "#colunas_X= ['complexidade', 'qtd_pag_word', 'qtd_carc','qtd_tabela','qtd_image']\n",
    "\n",
    "#RMSE:  11.831745496309976\n",
    "# colunas_X= ['complexidade', 'qtd_pag_word', 'qtd_pag_estimado','qtd_carc','qtd_tabela','qtd_image']\n",
    "# RMSE:  8.41739234335301"
   ]
  },
  {
   "cell_type": "code",
   "execution_count": 208,
   "metadata": {},
   "outputs": [
    {
     "name": "stdout",
     "output_type": "stream",
     "text": [
      "RMSE:  12.43000991830557\n"
     ]
    }
   ],
   "source": [
    "#Nós precisamos de uma métrica de avaliação para comparar nossas predições com os valores verdadeiros!\n",
    "\n",
    "# Calculando RMSE utilizando scikit-learn\n",
    "print('RMSE: ',np.sqrt(metrics.mean_squared_error(y_test,y_pred)))\n",
    "\n",
    "# incluido feature Quantidade de estilo, mas o resultado piorou. RMSE foi de 11.83 para 12.43"
   ]
  },
  {
   "cell_type": "code",
   "execution_count": 63,
   "metadata": {},
   "outputs": [],
   "source": [
    "#Como interpretar esse valor?\n",
    "# numero menor de RMSE é melhor\n",
    "# RMSE:  11.831745496309976\n"
   ]
  },
  {
   "cell_type": "code",
   "execution_count": null,
   "metadata": {},
   "outputs": [],
   "source": [
    "#########################################################\n",
    "# FIM  LINEAR REGRESSION\n",
    "########################################################"
   ]
  },
  {
   "cell_type": "code",
   "execution_count": null,
   "metadata": {},
   "outputs": [],
   "source": []
  },
  {
   "cell_type": "code",
   "execution_count": null,
   "metadata": {},
   "outputs": [],
   "source": []
  },
  {
   "cell_type": "code",
   "execution_count": null,
   "metadata": {},
   "outputs": [],
   "source": [
    "################################################################################################################\n",
    "#########################################################\n",
    "# LOGISTIC REGRESSION\n",
    "########################################################"
   ]
  },
  {
   "cell_type": "code",
   "execution_count": null,
   "metadata": {},
   "outputs": [],
   "source": [
    "colunas_X= ['complexidade', 'qtd_pag_word', 'qtd_carc','qtd_tabela','qtd_image',\"qtd_estilos\"]\n",
    "colunas_y=['pag_final']\n",
    "X = data[colunas_X]\n",
    "y = data[colunas_y]"
   ]
  },
  {
   "cell_type": "code",
   "execution_count": null,
   "metadata": {},
   "outputs": [],
   "source": [
    "X_train, X_test, y_train, y_test = train_test_split(X, y,  test_size=0.10,random_state=1)"
   ]
  },
  {
   "cell_type": "code",
   "execution_count": 215,
   "metadata": {},
   "outputs": [
    {
     "name": "stdout",
     "output_type": "stream",
     "text": [
      "[ 66  66  66  76 340  66  76  66  76  76]\n",
      "[[1.98209398e-002 2.60652128e-002 4.73090592e-004 7.92244563e-004\n",
      "  1.60750413e-003 4.54326657e-003 1.73518287e-002 1.28103225e-002\n",
      "  1.31474124e-002 2.60506437e-002 5.03038918e-003 2.91650499e-002\n",
      "  2.84555309e-002 2.18612880e-002 1.65731191e-002 4.76748431e-002\n",
      "  1.78066218e-002 3.37630222e-002 2.08714694e-002 2.60401044e-002\n",
      "  4.28992269e-002 2.55272310e-002 2.84340188e-002 3.84643146e-002\n",
      "  3.40775108e-002 3.26158884e-002 3.04973822e-002 2.73258588e-002\n",
      "  2.31063875e-002 3.86694377e-002 2.83504714e-002 2.47119642e-002\n",
      "  2.70336930e-002 2.84999609e-002 2.97954967e-002 3.99328610e-177\n",
      "  2.28199870e-002 2.57318152e-002 2.88640396e-002 3.08556294e-002\n",
      "  3.02353847e-002 3.15803974e-002 2.59579331e-090]\n",
      " [1.95137001e-002 2.75006008e-002 1.50519003e-004 2.95444129e-004\n",
      "  7.33351766e-004 2.73679688e-003 1.41779387e-002 8.71435403e-003\n",
      "  1.12686555e-002 2.38253180e-002 2.88955069e-003 2.50304937e-002\n",
      "  2.01596630e-002 1.97646075e-002 1.46433452e-002 5.20970584e-002\n",
      "  1.46637013e-002 3.55719690e-002 1.90123727e-002 2.31411974e-002\n",
      "  3.65556841e-002 2.57767808e-002 3.08888380e-002 4.39246206e-002\n",
      "  3.57919762e-002 3.55253043e-002 3.13625520e-002 2.68583856e-002\n",
      "  2.26610449e-002 3.46836520e-002 2.74913368e-002 2.42641414e-002\n",
      "  2.70823297e-002 3.20175790e-002 3.11962537e-002 2.37462790e-223\n",
      "  2.37842401e-002 2.42993635e-002 3.25425925e-002 3.73990314e-002\n",
      "  3.84530960e-002 4.15505599e-002 1.28218195e-113]\n",
      " [1.12597685e-002 2.13467665e-002 2.01387238e-006 6.62930856e-006\n",
      "  3.43434786e-005 3.83988903e-004 8.65878440e-003 4.57274838e-003\n",
      "  4.38759912e-003 2.21271326e-002 5.04897305e-004 3.02651769e-002\n",
      "  3.12005584e-002 1.48603322e-002 7.57340406e-003 9.08362121e-002\n",
      "  9.33991760e-003 4.01388813e-002 1.32550677e-002 2.28630426e-002\n",
      "  7.94261162e-002 2.03827347e-002 2.61643302e-002 5.23396380e-002\n",
      "  4.07947313e-002 3.64447301e-002 3.15698421e-002 2.47503423e-002\n",
      "  1.64842516e-002 5.95463244e-002 2.71379547e-002 1.91333175e-002\n",
      "  2.38871190e-002 2.57822125e-002 2.96500917e-002 0.00000000e+000\n",
      "  1.54718425e-002 2.16524571e-002 2.63990411e-002 3.04616573e-002\n",
      "  2.78967149e-002 3.10072857e-002 8.53875833e-207]\n",
      " [1.81179313e-002 2.13997871e-002 2.84455257e-003 3.65755870e-003\n",
      "  5.39180785e-003 9.72767084e-003 2.26921089e-002 2.48192440e-002\n",
      "  1.52510126e-002 2.82582447e-002 1.22352482e-002 3.78500841e-002\n",
      "  5.65361748e-002 2.45162104e-002 1.84535300e-002 3.94304897e-002\n",
      "  2.35216477e-002 2.89650922e-002 2.29459177e-002 3.10478514e-002\n",
      "  6.13050417e-002 2.24496667e-002 2.22949596e-002 2.74183810e-002\n",
      "  2.90881218e-002 2.59129437e-002 2.70363607e-002 2.63974660e-002\n",
      "  2.20252150e-002 4.80241377e-002 2.82521378e-002 2.31123620e-002\n",
      "  2.51171721e-002 2.05773397e-002 2.53349205e-002 1.34766791e-102\n",
      "  1.88188951e-002 2.68442229e-002 2.04208566e-002 1.92261373e-002\n",
      "  1.63808135e-002 1.63006838e-002 1.00558554e-052]\n",
      " [2.46178407e-002 2.83687571e-002 2.87786080e-003 3.88061535e-003\n",
      "  5.74147020e-003 1.00446730e-002 1.96794259e-002 1.48593977e-002\n",
      "  1.91708653e-002 2.46402429e-002 9.78679779e-003 2.35839555e-002\n",
      "  1.90638202e-002 2.30598121e-002 2.10467432e-002 3.44861172e-002\n",
      "  1.98745992e-002 3.03197836e-002 2.29627964e-002 2.37002996e-002\n",
      "  2.56429627e-002 2.71206961e-002 2.99827010e-002 3.43736774e-002\n",
      "  3.03749941e-002 3.11011938e-002 2.88083582e-002 2.66999408e-002\n",
      "  2.55090586e-002 2.65237075e-002 2.65581290e-002 2.60820519e-002\n",
      "  2.71811046e-002 3.10850304e-002 2.91640736e-002 5.75433077e-096\n",
      "  2.71581824e-002 2.51929259e-002 3.14342294e-002 3.43567101e-002\n",
      "  3.61364442e-002 3.77479545e-002 1.73642049e-049]\n",
      " [2.07355852e-002 2.85568232e-002 1.95142393e-004 3.73462730e-004\n",
      "  8.86561909e-004 3.06988586e-003 1.39912905e-002 8.30064494e-003\n",
      "  1.21612962e-002 2.28624151e-002 3.08914059e-003 2.25465696e-002\n",
      "  1.64296496e-002 1.96296138e-002 1.52691035e-002 4.82451859e-002\n",
      "  1.44972205e-002 3.49668186e-002 1.91654241e-002 2.18847556e-002\n",
      "  3.02849253e-002 2.62969474e-002 3.22005113e-002 4.38437374e-002\n",
      "  3.50336173e-002 3.58516623e-002 3.10827825e-002 2.67115025e-002\n",
      "  2.33329454e-002 3.02145070e-002 2.68257797e-002 2.45734269e-002\n",
      "  2.72403843e-002 3.38434648e-002 3.13953663e-002 2.37184855e-210\n",
      "  2.53302300e-002 2.38314529e-002 3.45195713e-002 4.06595792e-002\n",
      "  4.29750935e-002 4.70959226e-002 4.40981967e-107]\n",
      " [1.70245047e-002 2.37387662e-002 1.97787701e-004 3.64324899e-004\n",
      "  8.49808225e-004 3.01974277e-003 1.66611968e-002 1.19687070e-002\n",
      "  1.05813445e-002 2.75141911e-002 3.58946336e-003 3.32793180e-002\n",
      "  3.65091298e-002 2.08100886e-002 1.44863565e-002 5.54835368e-002\n",
      "  1.68089201e-002 3.45316128e-002 1.93493746e-002 2.71513272e-002\n",
      "  5.58940696e-002 2.44139966e-002 2.63937228e-002 4.02265151e-002\n",
      "  3.54509487e-002 3.19369088e-002 3.04961258e-002 2.68761653e-002\n",
      "  2.12187548e-002 4.76860146e-002 2.86267941e-002 2.36811365e-002\n",
      "  2.62125912e-002 2.58901253e-002 2.90050912e-002 9.80327981e-217\n",
      "  2.00740172e-002 2.54984430e-002 2.66160076e-002 2.72516565e-002\n",
      "  2.60604583e-002 2.65709552e-002 3.10503555e-110]\n",
      " [6.62405739e-003 1.88678928e-002 2.97761234e-009 2.25150948e-008\n",
      "  3.49009603e-007 1.89856463e-005 2.95922587e-003 7.51090071e-004\n",
      "  1.29017292e-003 1.41701103e-002 2.42430171e-005 1.80856420e-002\n",
      "  1.14787509e-002 7.75550396e-003 2.96014748e-003 1.49174780e-001\n",
      "  3.27356515e-003 4.42643217e-002 6.73809817e-003 1.33872156e-002\n",
      "  6.49441745e-002 1.61760045e-002 2.65880938e-002 8.01036242e-002\n",
      "  4.54686064e-002 4.22163761e-002 3.01558107e-002 1.92018993e-002\n",
      "  1.08849371e-002 5.03662503e-002 2.11521003e-002 1.37496901e-002\n",
      "  1.90976501e-002 2.87148082e-002 2.89668033e-002 0.00000000e+000\n",
      "  1.17771109e-002 1.44919855e-002 3.02894615e-002 4.33955183e-002\n",
      "  4.49367477e-002 5.54981701e-002 0.00000000e+000]\n",
      " [1.62496160e-002 2.27339411e-002 2.15502560e-004 3.90304547e-004\n",
      "  9.05058623e-004 3.15474342e-003 1.66809009e-002 1.35651267e-002\n",
      "  1.02983154e-002 2.69997102e-002 3.95814377e-003 3.55152161e-002\n",
      "  4.44336677e-002 2.12565829e-002 1.41137331e-002 5.53891415e-002\n",
      "  1.74020534e-002 3.41207794e-002 1.96146247e-002 2.85311163e-002\n",
      "  6.62297671e-002 2.30305497e-002 2.50879288e-002 3.69506259e-002\n",
      "  3.45134131e-002 3.09416663e-002 3.00002851e-002 2.69025248e-002\n",
      "  2.08554696e-002 5.22351293e-002 2.89564166e-002 2.27940508e-002\n",
      "  2.58517603e-002 2.39563083e-002 2.82596524e-002 4.78422810e-213\n",
      "  1.87551044e-002 2.58325778e-002 2.41200174e-002 2.45753490e-002\n",
      "  2.19486780e-002 2.26744471e-002 2.34289457e-108]\n",
      " [1.61582190e-002 2.09863441e-002 7.12577968e-004 1.09091574e-003\n",
      "  2.04194554e-003 5.26770994e-003 1.96974636e-002 1.94294939e-002\n",
      "  1.18343972e-002 2.81813249e-002 6.89428245e-003 3.93631232e-002\n",
      "  5.91884315e-002 2.28089728e-002 1.55860460e-002 4.81061075e-002\n",
      "  2.04935354e-002 3.11684569e-002 2.09474300e-002 3.08606148e-002\n",
      "  7.33628105e-002 2.20200043e-002 2.24301547e-002 3.09183003e-002\n",
      "  3.15147096e-002 2.74639150e-002 2.81280282e-002 2.64466096e-002\n",
      "  2.06904981e-002 5.50385493e-002 2.87827242e-002 2.24299234e-002\n",
      "  2.49606164e-002 2.07417935e-002 2.61008749e-002 8.82796850e-163\n",
      "  1.75540858e-002 2.64177382e-002 2.07267243e-002 1.97797054e-002\n",
      "  1.68095628e-002 1.68652789e-002 5.01461871e-083]]\n",
      "0.10843373493975904\n"
     ]
    },
    {
     "name": "stderr",
     "output_type": "stream",
     "text": [
      "/Users/wpessoa/miniconda3/envs/py3/lib/python3.8/site-packages/sklearn/utils/validation.py:72: DataConversionWarning: A column-vector y was passed when a 1d array was expected. Please change the shape of y to (n_samples, ), for example using ravel().\n",
      "  return f(**kwargs)\n",
      "/Users/wpessoa/miniconda3/envs/py3/lib/python3.8/site-packages/sklearn/linear_model/_logistic.py:762: ConvergenceWarning: lbfgs failed to converge (status=1):\n",
      "STOP: TOTAL NO. of ITERATIONS REACHED LIMIT.\n",
      "\n",
      "Increase the number of iterations (max_iter) or scale the data as shown in:\n",
      "    https://scikit-learn.org/stable/modules/preprocessing.html\n",
      "Please also refer to the documentation for alternative solver options:\n",
      "    https://scikit-learn.org/stable/modules/linear_model.html#logistic-regression\n",
      "  n_iter_i = _check_optimize_result(\n"
     ]
    }
   ],
   "source": [
    "from sklearn.datasets import load_iris\n",
    "from sklearn.linear_model import LogisticRegression\n",
    "##### machine learnig\n",
    "#X, y = load_iris(return_X_y=True)\n",
    "clf = LogisticRegression(random_state=0).fit(X_train, y_train)\n",
    "print(clf.predict(X_test.fillna(-1)))\n",
    "print(clf.predict_proba(X_test.fillna(-1)))\n",
    "print(clf.score(X_train, y_train))\n"
   ]
  },
  {
   "cell_type": "code",
   "execution_count": 218,
   "metadata": {},
   "outputs": [
    {
     "name": "stdout",
     "output_type": "stream",
     "text": [
      "[ 66  66  66  76 340  66  76  66  76  76]\n",
      "    pag_final\n",
      "59         52\n",
      "74         68\n",
      "44         98\n",
      "56         48\n",
      "88         36\n",
      "77         86\n",
      "62         68\n",
      "53        126\n",
      "54         68\n",
      "39         42\n",
      "RMSE:  99.85389326410863\n"
     ]
    },
    {
     "name": "stderr",
     "output_type": "stream",
     "text": [
      "/Users/wpessoa/miniconda3/envs/py3/lib/python3.8/site-packages/sklearn/utils/validation.py:72: DataConversionWarning: A column-vector y was passed when a 1d array was expected. Please change the shape of y to (n_samples, ), for example using ravel().\n",
      "  return f(**kwargs)\n",
      "/Users/wpessoa/miniconda3/envs/py3/lib/python3.8/site-packages/sklearn/linear_model/_logistic.py:762: ConvergenceWarning: lbfgs failed to converge (status=1):\n",
      "STOP: TOTAL NO. of ITERATIONS REACHED LIMIT.\n",
      "\n",
      "Increase the number of iterations (max_iter) or scale the data as shown in:\n",
      "    https://scikit-learn.org/stable/modules/preprocessing.html\n",
      "Please also refer to the documentation for alternative solver options:\n",
      "    https://scikit-learn.org/stable/modules/linear_model.html#logistic-regression\n",
      "  n_iter_i = _check_optimize_result(\n"
     ]
    }
   ],
   "source": [
    "modelo = LogisticRegression()\n",
    "modelo.fit(X_train, y_train)\n",
    "\n",
    "y_pred = modelo.predict(X_test.fillna(-1))\n",
    "print(y_pred)\n",
    "print(y_test)\n",
    "\n",
    "# Calculando RMSE utilizando scikit-learn\n",
    "print('RMSE: ',np.sqrt(metrics.mean_squared_error(y_test,y_pred)))"
   ]
  },
  {
   "cell_type": "code",
   "execution_count": null,
   "metadata": {},
   "outputs": [],
   "source": [
    "#########################################################\n",
    "# FIM  LOGISTIC REGRESSION\n",
    "########################################################"
   ]
  },
  {
   "cell_type": "code",
   "execution_count": null,
   "metadata": {},
   "outputs": [],
   "source": [
    "#\n",
    "# \n",
    "################################################################################################################"
   ]
  },
  {
   "cell_type": "code",
   "execution_count": 205,
   "metadata": {},
   "outputs": [
    {
     "name": "stdout",
     "output_type": "stream",
     "text": [
      "dados verdadeiros:  [100, 50, 30, 30]\n",
      "dados inferidos: [90, 50, 50, 30]\n",
      "erro médio absoluto:  7.5\n",
      "erro médio absoluto:  7.5\n",
      "MSE:  125.0\n",
      "MSE:  125.0\n",
      "RMSE:  11.180339887498949\n",
      "RMSE:  11.180339887498949\n"
     ]
    }
   ],
   "source": [
    "# codigos consultados de \n",
    "# https://github.com/WalnerPessoa/Medical-Cost-Personal/blob/master/Aula%205%20-%20Regress%C3%A3o%20linear%20para%20prever%20as%20despesas%20m%C3%A9dicas%20de%20um%20paciente%20.ipynb\n",
    "\n",
    "\n",
    "# calculando a media de um exemplo\n",
    "# Definindo os valores de resposta verdadeiros e preditos\n",
    "true = [100,50,30,30]\n",
    "pred = [90,50,50,30]\n",
    "print(\"dados verdadeiros: \",true)\n",
    "print(\"dados inferidos:\", pred)\n",
    "# Calculando erro médio absoluto na mão\n",
    "print('erro médio absoluto: ',(10+0+20+0)/4)\n",
    "# Calculando erro médio absoluto utilizando scikit-learn\n",
    "from sklearn import metrics\n",
    "print('erro médio absoluto: ',metrics.mean_absolute_error(true,pred)) \n",
    "\n",
    "#Calculando MSE na mão\n",
    "print('MSE: ',(10**2+0+20**2+0)/4)\n",
    "# Calculando MSE utilizando scikit-learn\n",
    "print('MSE: ',metrics.mean_squared_error(true,pred))\n",
    "\n",
    "# Calculando RMSE na mão\n",
    "print('RMSE: ',np.sqrt((10**2+0+20**2+0)/4))\n",
    "# Calculando RMSE utilizando scikit-learn\n",
    "print('RMSE: ',np.sqrt(metrics.mean_squared_error(true,pred)))"
   ]
  }
 ],
 "metadata": {
  "kernelspec": {
   "display_name": "Python 3",
   "language": "python",
   "name": "python3"
  },
  "language_info": {
   "codemirror_mode": {
    "name": "ipython",
    "version": 3
   },
   "file_extension": ".py",
   "mimetype": "text/x-python",
   "name": "python",
   "nbconvert_exporter": "python",
   "pygments_lexer": "ipython3",
   "version": "3.8.5"
  }
 },
 "nbformat": 4,
 "nbformat_minor": 4
}
