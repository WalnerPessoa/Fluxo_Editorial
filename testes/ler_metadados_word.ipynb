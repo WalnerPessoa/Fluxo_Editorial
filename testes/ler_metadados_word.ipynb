{
 "cells": [
  {
   "cell_type": "code",
   "execution_count": 1,
   "metadata": {},
   "outputs": [],
   "source": [
    "################################### DOXX2TXT\n",
    "################################### DOCX"
   ]
  },
  {
   "cell_type": "code",
   "execution_count": 109,
   "metadata": {},
   "outputs": [
    {
     "ename": "NameError",
     "evalue": "name 'get_file_word_info_info' is not defined",
     "output_type": "error",
     "traceback": [
      "\u001b[0;31m---------------------------------------------------------------------------\u001b[0m",
      "\u001b[0;31mNameError\u001b[0m                                 Traceback (most recent call last)",
      "\u001b[0;32m<ipython-input-109-585905f78c0f>\u001b[0m in \u001b[0;36m<module>\u001b[0;34m\u001b[0m\n\u001b[1;32m      2\u001b[0m \u001b[0mfileDir\u001b[0m \u001b[0;34m=\u001b[0m \u001b[0;34mr\"/Users/wpessoa/repositorios/Fluxo_Editorial/words/\"\u001b[0m\u001b[0;34m\u001b[0m\u001b[0;34m\u001b[0m\u001b[0m\n\u001b[1;32m      3\u001b[0m \u001b[0mfileExt\u001b[0m \u001b[0;34m=\u001b[0m \u001b[0;34mr\".docx\"\u001b[0m\u001b[0;34m\u001b[0m\u001b[0;34m\u001b[0m\u001b[0m\n\u001b[0;32m----> 4\u001b[0;31m \u001b[0mget_file_word_info_info\u001b[0m\u001b[0;34m(\u001b[0m\u001b[0mfileDir\u001b[0m\u001b[0;34m,\u001b[0m\u001b[0mfileExt\u001b[0m\u001b[0;34m)\u001b[0m\u001b[0;34m\u001b[0m\u001b[0;34m\u001b[0m\u001b[0m\n\u001b[0m",
      "\u001b[0;31mNameError\u001b[0m: name 'get_file_word_info_info' is not defined"
     ]
    }
   ],
   "source": [
    "import get_file_word\n",
    "fileDir = r\"/Users/wpessoa/repositorios/Fluxo_Editorial/words/\"\n",
    "fileExt = r\".docx\"\n",
    "get_file_word_info_info(fileDir,fileExt)\n"
   ]
  },
  {
   "cell_type": "code",
   "execution_count": 45,
   "metadata": {},
   "outputs": [],
   "source": [
    "# Importar bibliotecas\n",
    "from os import listdir\n",
    "from os.path import isfile, join\n",
    "import docx2txt\n",
    "import docx\n",
    "import os\n",
    "import glob\n",
    "\n",
    "from os import listdir\n",
    "from os.path import isfile, join"
   ]
  },
  {
   "cell_type": "code",
   "execution_count": 94,
   "metadata": {},
   "outputs": [],
   "source": [
    "import glob\n",
    "targetPattern = r\"/Users/wpessoa/repositorios/Fluxo_Editorial/words/*.docx\"\n",
    "files_array = glob.glob(targetPattern)"
   ]
  },
  {
   "cell_type": "code",
   "execution_count": 107,
   "metadata": {},
   "outputs": [
    {
     "data": {
      "text/plain": [
       "['ID233867-06_12_2019_EFEITOS DA GESTÃO SOBRE A PRODUTIVIDADE - PARA PUBLICAÇÃO_Final_19122019_155125.docx',\n",
       " 'ID233885-1- Metodol Rec Did - rev.docx',\n",
       " 'ID233886-2- Metodol LD - rev.docx',\n",
       " '~$233867-06_12_2019_EFEITOS DA GESTÃO SOBRE A PRODUTIVIDADE - PARA PUBLICAÇÃO_Final_19122019_155125.docx']"
      ]
     },
     "execution_count": 107,
     "metadata": {},
     "output_type": "execute_result"
    }
   ],
   "source": [
    "fileDir = r\"/Users/wpessoa/repositorios/Fluxo_Editorial/words/\"\n",
    "fileExt = r\".docx\"\n",
    "[_ for _ in os.listdir(fileDir) if _.endswith(fileExt)]"
   ]
  },
  {
   "cell_type": "code",
   "execution_count": 105,
   "metadata": {},
   "outputs": [
    {
     "data": {
      "text/plain": [
       "True"
      ]
     },
     "execution_count": 105,
     "metadata": {},
     "output_type": "execute_result"
    }
   ],
   "source": [
    "# definir uma variável para o local onde estão os arquivos Word\n",
    "mypath=\"/Users/wpessoa/repositorios/Fluxo_Editorial/words/\"\n",
    "#mypath='/Users/walnerpessoa/repositories/Fluxo_Editorial/words'\n",
    "\n",
    "# gerar vetor com ons nomes dos arquivos Word\n",
    "onlyfiles = [f for f in listdir(mypath) if isfile(join(mypath, f))]\n",
    "\n",
    "# verificar se existe o diretório\n",
    "os.path.exists('/Users/wpessoa/repositorios/Fluxo_Editorial/words') "
   ]
  },
  {
   "cell_type": "code",
   "execution_count": 106,
   "metadata": {},
   "outputs": [
    {
     "name": "stdout",
     "output_type": "stream",
     "text": [
      "['ID233867-06_12_2019_EFEITOS DA GESTÃO SOBRE A PRODUTIVIDADE - PARA PUBLICAÇÃO_Final_19122019_155125.docx', 'ID233885-1- Metodol Rec Did - rev.docx', 'ID233886-2- Metodol LD - rev.docx', '~$233867-06_12_2019_EFEITOS DA GESTÃO SOBRE A PRODUTIVIDADE - PARA PUBLICAÇÃO_Final_19122019_155125.docx']\n"
     ]
    }
   ],
   "source": [
    "print(onlyfiles)"
   ]
  },
  {
   "cell_type": "code",
   "execution_count": 97,
   "metadata": {},
   "outputs": [
    {
     "name": "stdout",
     "output_type": "stream",
     "text": [
      "Nome do diretório:  /Users/wpessoa/repositorios/Fluxo_Editorial/words/\n",
      "Nome do arquivo:  /Users/wpessoa/repositorios/Fluxo_Editorial/words/ID233867-06_12_2019_EFEITOS DA GESTÃO SOBRE A PRODUTIVIDADE - PARA PUBLICAÇÃO_Final_19122019_155125.docx\n",
      "Data de Criação do Arquivo:  2019-12-06 13:09:00 \n",
      "\n",
      "Quantidade de carcteres: 59270\n",
      "Quantidade de parágrafos:  356\n",
      "Quantidade de imagens no vetor de imagens/gráficos:  11\n",
      "Quantidade de Tabelas:  3\n"
     ]
    }
   ],
   "source": [
    "indice = 0\n",
    "image_array=[]\n",
    "table_chunks = []\n",
    "\n",
    "# abrir conecção com o arquivo Word \n",
    "doc = docx.Document(files_array[indice])\n",
    "\n",
    "# data criação\n",
    "dt_doc = doc.core_properties.created\n",
    "# ler em cada parágrafo dentro do arquivo Word\n",
    "paragra= [p.text for p in doc.paragraphs]\n",
    "\n",
    "# extai a quantidade de caracteres\n",
    "caracteres = docx2txt.process(files_array[indice])\n",
    "\n",
    "# gerar um array com tamanho de todas as imagens\n",
    "for image in doc.inline_shapes:\n",
    "    image_array.append([image.width, image.height])\n",
    "    # print (image.width, image.height)\n",
    "    \n",
    "# gerar um array com todas as tabelas\n",
    "for table in doc.tables:\n",
    "    table_chunks.append(table)\n",
    "\n",
    "#Saída dos dados\n",
    "print('Nome do diretório: ',mypath)\n",
    "print('Nome do arquivo: ',files_array[indice])\n",
    "print(\"Data de Criação do Arquivo: \", dt_doc,\"\\n\")\n",
    "print('Quantidade de carcteres:',len(caracteres))\n",
    "print(\"Quantidade de parágrafos: \", len(paragra))\n",
    "print(\"Quantidade de imagens no vetor de imagens/gráficos: \",len(image_array))\n",
    "print(\"Quantidade de Tabelas: \",len(table_chunks))\n"
   ]
  },
  {
   "cell_type": "markdown",
   "metadata": {},
   "source": [
    "Nome do diretório:  /Users/wpessoa/repositorios/Fluxo_Editorial/words/\n",
    "Nome do arquivo:  ID233867-06_12_2019_EFEITOS DA GESTÃO SOBRE A PRODUTIVIDADE - PARA PUBLICAÇÃO_Final_19122019_155125.docx\n",
    "Quantidade de carcteres: 59270"
   ]
  },
  {
   "cell_type": "markdown",
   "metadata": {},
   "source": [
    "Quantidade de parágrafos:  356\n",
    "Quantidade de imagens no vetor de imagens:  11\n",
    "Quantidade de Tabelas:  3\n",
    "Data de Criação do Arquivo:  2019-12-06 13:09:00"
   ]
  },
  {
   "cell_type": "code",
   "execution_count": 98,
   "metadata": {},
   "outputs": [],
   "source": [
    "#####"
   ]
  },
  {
   "cell_type": "code",
   "execution_count": 99,
   "metadata": {},
   "outputs": [
    {
     "name": "stdout",
     "output_type": "stream",
     "text": [
      "[<docx.text.run.Run object at 0x7f9ecef827c0>, <docx.text.run.Run object at 0x7f9ecef828b0>, <docx.text.run.Run object at 0x7f9ed1f8c100>, <docx.text.run.Run object at 0x7f9ed1f8c580>]\n",
      "EFEITOS DA GESTÃO SOBRE A PRODUTIVIDADE DAS EMPRESAS \n",
      "EFEITOS DA GESTÃO\n",
      "<docx.styles.style._CharacterStyle object at 0x7f9ed1dc1550>\n",
      "2019-12-06 13:09:00\n",
      "<docx.shape.InlineShapes object at 0x7f9ed0551400>\n",
      "12\n",
      "2898000\n",
      "5376328\n"
     ]
    }
   ],
   "source": [
    "#teste com metodos da biblioteca Docx\n",
    "\n",
    "print(doc.paragraphs[0].runs)\n",
    "print(doc.paragraphs[0].text)\n",
    "print(doc.paragraphs[0].runs[0].text)\n",
    "print(doc.paragraphs[0].runs[0].style)\n",
    "#print(doc.paragraphs[1].runs[0].text)\n",
    "#print(doc.paragraphs[1].runs[0].style)\n",
    "print(doc.core_properties.created)\n",
    "print(doc.inline_shapes)\n",
    "print(doc.inline_shapes[0].type)\n",
    "print(doc.inline_shapes[0].height)\n",
    "print(doc.inline_shapes[0].width)\n",
    "\n",
    "#\n"
   ]
  },
  {
   "cell_type": "code",
   "execution_count": null,
   "metadata": {},
   "outputs": [],
   "source": []
  },
  {
   "cell_type": "code",
   "execution_count": null,
   "metadata": {},
   "outputs": [],
   "source": []
  }
 ],
 "metadata": {
  "kernelspec": {
   "display_name": "Python 3",
   "language": "python",
   "name": "python3"
  },
  "language_info": {
   "codemirror_mode": {
    "name": "ipython",
    "version": 3
   },
   "file_extension": ".py",
   "mimetype": "text/x-python",
   "name": "python",
   "nbconvert_exporter": "python",
   "pygments_lexer": "ipython3",
   "version": "3.8.5"
  }
 },
 "nbformat": 4,
 "nbformat_minor": 4
}
