{
 "cells": [
  {
   "cell_type": "code",
   "execution_count": null,
   "metadata": {},
   "outputs": [],
   "source": [
    "################################### DOXX2TXT\n",
    "################################### DOCX"
   ]
  },
  {
   "cell_type": "code",
   "execution_count": 7,
   "metadata": {},
   "outputs": [
    {
     "name": "stdout",
     "output_type": "stream",
     "text": [
      "True\n",
      "(datetime.datetime(2019, 12, 6, 13, 9), 59270, 11, 3)\n",
      "True\n",
      "(datetime.datetime(2020, 2, 5, 14, 54), 99723, 9, 19)\n",
      "True\n",
      "(datetime.datetime(2020, 2, 5, 16, 41), 73923, 23, 18)\n"
     ]
    }
   ],
   "source": [
    "import get_file_word as gf\n",
    "#fileDir = r\"/Users/wpessoa/repositorios/Fluxo_Editorial/words/\"\n",
    "fileDir= r'/Users/walnerpessoa/repositories/Fluxo_Editorial/words'\n",
    "fileExt = r\".docx\"\n",
    "# dt_doc,caracteres,image,table_chunks\n",
    "\n",
    "print(gf.get_info(fileDir,fileExt,0))\n",
    "print(gf.get_info(fileDir,fileExt,1))\n",
    "print(gf.get_info(fileDir,fileExt,2))\n",
    "\n",
    "\n",
    "#gf.get_info(fileDir,fileExt)\n"
   ]
  },
  {
   "cell_type": "code",
   "execution_count": null,
   "metadata": {},
   "outputs": [],
   "source": []
  },
  {
   "cell_type": "code",
   "execution_count": 8,
   "metadata": {},
   "outputs": [],
   "source": [
    "# Importar bibliotecas\n",
    "from os import listdir\n",
    "from os.path import isfile, join\n",
    "import docx2txt\n",
    "import docx\n",
    "import os\n",
    "import glob\n",
    "\n",
    "from os import listdir\n",
    "from os.path import isfile, join"
   ]
  },
  {
   "cell_type": "code",
   "execution_count": 11,
   "metadata": {},
   "outputs": [
    {
     "name": "stdout",
     "output_type": "stream",
     "text": [
      "/Users/walnerpessoa/repositorios/Fluxo_Editorial/words/*.docx\n",
      "[]\n"
     ]
    }
   ],
   "source": [
    "import glob\n",
    "#targetPattern = r\"/Users/wpessoa/repositorios/Fluxo_Editorial/words/*.docx\"\n",
    "targetPattern = r\"/Users/walnerpessoa/repositorios/Fluxo_Editorial/words/*.docx\"\n",
    "\n",
    "#mypath='/Users/walnerpessoa/repositories/Fluxo_Editorial/words'\n",
    "print(targetPattern)\n",
    "files_array = glob.glob(targetPattern)\n",
    "print(files_array)"
   ]
  },
  {
   "cell_type": "code",
   "execution_count": 12,
   "metadata": {},
   "outputs": [
    {
     "data": {
      "text/plain": [
       "['ID233867-06_12_2019_EFEITOS DA GESTÃO SOBRE A PRODUTIVIDADE - PARA PUBLICAÇÃO_Final_19122019_155125.docx',\n",
       " 'ID233885-1- Metodol Rec Did - rev.docx',\n",
       " 'ID233886-2- Metodol LD - rev.docx']"
      ]
     },
     "execution_count": 12,
     "metadata": {},
     "output_type": "execute_result"
    }
   ],
   "source": [
    "#fileDir = r\"/Users/wpessoa/repositorios/Fluxo_Editorial/words/\"\n",
    "fileDir= r'/Users/walnerpessoa/repositories/Fluxo_Editorial/words'\n",
    "fileExt = r\".docx\"\n",
    "[_ for _ in os.listdir(fileDir) if _.endswith(fileExt)]"
   ]
  },
  {
   "cell_type": "code",
   "execution_count": 21,
   "metadata": {},
   "outputs": [
    {
     "data": {
      "text/plain": [
       "False"
      ]
     },
     "execution_count": 21,
     "metadata": {},
     "output_type": "execute_result"
    }
   ],
   "source": [
    "# definir uma variável para o local onde estão os arquivos Word\n",
    "#mypath=\"/Users/wpessoa/repositorios/Fluxo_Editorial/words/\"\n",
    "#mypath='/Users/walnerpessoa/repositories/Fluxo_Editorial/words'\n",
    "\n",
    "# gerar vetor com ons nomes dos arquivos Word\n",
    "onlyfiles = [f for f in listdir(fileDir) if isfile(join(fileDir, f))]\n",
    "\n",
    "# verificar se existe o diretório\n",
    "#os.path.exists('/Users/wpessoa/repositorios/Fluxo_Editorial/words')\n",
    "os.path.exists('/Users/walnerpessoa/repositorios/Fluxo_Editorial/words') "
   ]
  },
  {
   "cell_type": "code",
   "execution_count": 16,
   "metadata": {},
   "outputs": [
    {
     "name": "stdout",
     "output_type": "stream",
     "text": [
      "ID233867-06_12_2019_EFEITOS DA GESTÃO SOBRE A PRODUTIVIDADE - PARA PUBLICAÇÃO_Final_19122019_155125.docx\n"
     ]
    }
   ],
   "source": [
    "print(onlyfiles[0])\n",
    "#docx2txt.process(onlyfiles[1])\n",
    "doc = docx.Document(fileDir+'/'+onlyfiles[0])\n",
    "#print(fileDir+'/'+onlyfiles[0])\n"
   ]
  },
  {
   "cell_type": "code",
   "execution_count": 20,
   "metadata": {},
   "outputs": [
    {
     "name": "stdout",
     "output_type": "stream",
     "text": [
      "Nome do diretório:  /Users/walnerpessoa/repositories/Fluxo_Editorial/words\n",
      "Nome do arquivo:  ID233867-06_12_2019_EFEITOS DA GESTÃO SOBRE A PRODUTIVIDADE - PARA PUBLICAÇÃO_Final_19122019_155125.docx\n",
      "Data de Criação do Arquivo:  2019-12-06 13:09:00 \n",
      "\n",
      "Quantidade de carcteres: 59270\n",
      "Quantidade de parágrafos:  356\n",
      "Quantidade de imagens no vetor de imagens/gráficos:  11\n",
      "Quantidade de Tabelas:  3\n"
     ]
    }
   ],
   "source": [
    "indice = 0\n",
    "image_array=[]\n",
    "table_chunks = []\n",
    "\n",
    "# abrir conecção com o arquivo Word \n",
    "doc = docx.Document(fileDir+'/'+onlyfiles[indice])\n",
    "\n",
    "# data criação\n",
    "dt_doc = doc.core_properties.created\n",
    "# ler em cada parágrafo dentro do arquivo Word\n",
    "paragra= [p.text for p in doc.paragraphs]\n",
    "\n",
    "# extai a quantidade de caracteres\n",
    "caracteres = docx2txt.process(fileDir+'/'+onlyfiles[indice])\n",
    "\n",
    "# gerar um array com tamanho de todas as imagens\n",
    "for image in doc.inline_shapes:\n",
    "    image_array.append([image.width, image.height])\n",
    "    # print (image.width, image.height)\n",
    "    \n",
    "# gerar um array com todas as tabelas\n",
    "for table in doc.tables:\n",
    "    table_chunks.append(table)\n",
    "\n",
    "#Saída dos dados\n",
    "print('Nome do diretório: ',fileDir)\n",
    "print('Nome do arquivo: ',onlyfiles[indice])\n",
    "print(\"Data de Criação do Arquivo: \", dt_doc,\"\\n\")\n",
    "print('Quantidade de carcteres:',len(caracteres))\n",
    "print(\"Quantidade de parágrafos: \", len(paragra))\n",
    "print(\"Quantidade de imagens no vetor de imagens/gráficos: \",len(image_array))\n",
    "print(\"Quantidade de Tabelas: \",len(table_chunks))\n"
   ]
  },
  {
   "cell_type": "markdown",
   "metadata": {},
   "source": [
    "Nome do diretório:  /Users/wpessoa/repositorios/Fluxo_Editorial/words/\n",
    "Nome do arquivo:  ID233867-06_12_2019_EFEITOS DA GESTÃO SOBRE A PRODUTIVIDADE - PARA PUBLICAÇÃO_Final_19122019_155125.docx\n",
    "Quantidade de carcteres: 59270"
   ]
  },
  {
   "cell_type": "markdown",
   "metadata": {},
   "source": [
    "Quantidade de parágrafos:  356\n",
    "Quantidade de imagens no vetor de imagens:  11\n",
    "Quantidade de Tabelas:  3\n",
    "Data de Criação do Arquivo:  2019-12-06 13:09:00"
   ]
  },
  {
   "cell_type": "code",
   "execution_count": null,
   "metadata": {},
   "outputs": [],
   "source": [
    "#####"
   ]
  },
  {
   "cell_type": "code",
   "execution_count": null,
   "metadata": {},
   "outputs": [],
   "source": [
    "#teste com metodos da biblioteca Docx\n",
    "\n",
    "print(doc.paragraphs[0].runs)\n",
    "print(doc.paragraphs[0].text)\n",
    "print(doc.paragraphs[0].runs[0].text)\n",
    "print(doc.paragraphs[0].runs[0].style)\n",
    "#print(doc.paragraphs[1].runs[0].text)\n",
    "#print(doc.paragraphs[1].runs[0].style)\n",
    "print(doc.core_properties.created)\n",
    "print(doc.inline_shapes)\n",
    "print(doc.inline_shapes[0].type)\n",
    "print(doc.inline_shapes[0].height)\n",
    "print(doc.inline_shapes[0].width)\n",
    "\n",
    "#\n"
   ]
  },
  {
   "cell_type": "code",
   "execution_count": null,
   "metadata": {},
   "outputs": [],
   "source": []
  },
  {
   "cell_type": "code",
   "execution_count": null,
   "metadata": {},
   "outputs": [],
   "source": []
  }
 ],
 "metadata": {
  "kernelspec": {
   "display_name": "Python 3",
   "language": "python",
   "name": "python3"
  },
  "language_info": {
   "codemirror_mode": {
    "name": "ipython",
    "version": 3
   },
   "file_extension": ".py",
   "mimetype": "text/x-python",
   "name": "python",
   "nbconvert_exporter": "python",
   "pygments_lexer": "ipython3",
   "version": "3.6.3"
  }
 },
 "nbformat": 4,
 "nbformat_minor": 4
}
