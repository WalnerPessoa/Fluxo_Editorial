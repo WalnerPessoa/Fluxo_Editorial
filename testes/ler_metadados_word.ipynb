{
 "cells": [
  {
   "cell_type": "code",
   "execution_count": null,
   "metadata": {},
   "outputs": [],
   "source": [
    "################################### DOXX2TXT\n",
    "#DOCX"
   ]
  },
  {
   "cell_type": "code",
   "execution_count": 1,
   "metadata": {},
   "outputs": [
    {
     "name": "stdout",
     "output_type": "stream",
     "text": [
      "True\n",
      "35\n"
     ]
    }
   ],
   "source": [
    "import os\n",
    "fileExt = r\".docx\"\n",
    "fileDir = r\"/Users/wpessoa/repositorios/NGE/words/\"\n",
    "print(os.path.exists(fileDir)) \n",
    "#fileDir = r\"/Users/wpessoa/repositorios/Fluxo_Editorial/words/\"\n",
    "#fileDir= r'/Users/walnerpessoa/repositories/Fluxo_Editorial/words'\n",
    "files_array = [_ for _ in os.listdir(fileDir) if _.endswith(fileExt)]\n",
    "print(len(files_array))"
   ]
  },
  {
   "cell_type": "code",
   "execution_count": 2,
   "metadata": {},
   "outputs": [
    {
     "name": "stdout",
     "output_type": "stream",
     "text": [
      "[('233893', 216, 0, 1, datetime.date(2020, 2, 14)), ('235502', 32209, 7, 8, datetime.date(2020, 5, 27)), ('233694', 74718, 12, 67, datetime.date(2019, 5, 16)), ('233896', 92519, 50, 95, datetime.date(2020, 2, 11)), ('233899', 72272, 70, 141, datetime.date(2020, 2, 18)), ('235305', 106149, 81, 165, datetime.date(2020, 4, 20)), ('233903', 125108, 103, 179, datetime.date(2020, 3, 4)), ('235512', 83759, 115, 205, datetime.date(2020, 6, 8)), ('233904', 77964, 132, 209, datetime.date(2020, 3, 6)), ('233900', 75298, 132, 224, datetime.date(2020, 3, 2)), ('233892', 13373, 161, 224, datetime.date(2019, 6, 18)), ('233909', 90955, 168, 226, datetime.date(2020, 3, 11)), ('233867', 59270, 171, 237, datetime.date(2019, 12, 6)), ('233884', 213336, 239, 238, datetime.date(2020, 1, 20)), ('235353', 65306, 242, 240, datetime.date(2020, 5, 6)), ('235313', 144436, 251, 246, datetime.date(2020, 5, 6)), ('233885', 99723, 270, 255, datetime.date(2020, 2, 5)), ('233891', 16359, 275, 255, datetime.date(2020, 2, 5)), ('233839', 216, 275, 256, datetime.date(2020, 2, 14)), ('233890', 30588, 280, 262, datetime.date(2020, 2, 5)), ('235092', 67666, 283, 264, datetime.date(2020, 3, 24)), ('233908', 584508, 303, 264, datetime.date(2020, 3, 10)), ('233888', 33606, 315, 268, datetime.date(2020, 2, 5)), ('233895', 90795, 329, 280, datetime.date(2020, 1, 29)), ('233886', 73923, 347, 303, datetime.date(2020, 2, 5)), ('235469', 29815, 349, 305, datetime.date(2020, 5, 20)), ('235293', 97465, 353, 310, datetime.date(2020, 4, 6)), ('233907', 32145, 355, 310, datetime.date(2020, 3, 10)), ('233898', 17287, 357, 317, datetime.date(2020, 2, 14)), ('235519', 125372, 363, 323, datetime.date(2020, 5, 26)), ('233889', 15598, 366, 323, datetime.date(2020, 2, 5)), ('235320', 105295, 368, 330, datetime.date(2020, 5, 21)), ('233887', 49223, 373, 335, datetime.date(2020, 2, 5)), ('235495', 33684, 383, 348, datetime.date(2020, 5, 25)), ('233906', 120816, 386, 417, datetime.date(2020, 3, 9))]\n"
     ]
    }
   ],
   "source": [
    "import get_file_word as gf\n",
    "import datetime\n",
    "#fileDir = r\"/Users/wpessoa/repositorios/Fluxo_Editorial/words/\"\n",
    "#fileDir= r'/Users/walnerpessoa/repositories/Fluxo_Editorial/words'\n",
    "#fileExt = r\".docx\"\n",
    "\n",
    "# NºID,Qtd_caracteres,Qtd_tabela,Qtd_image,data)\n",
    "            \n",
    "var=gf.get_info(fileDir,files_array)\n",
    "#var2=gf.get_info(fileDir,fileExt,1)\n",
    "#var3=gf.get_info(fileDir,fileExt,2)\n",
    "\n",
    "print(var)\n",
    "#print(var2)\n",
    "#print(var3)\n",
    "\n",
    "\n",
    "#gf.get_info(fileDir,fileExt)\n"
   ]
  },
  {
   "cell_type": "code",
   "execution_count": 4,
   "metadata": {},
   "outputs": [
    {
     "name": "stdout",
     "output_type": "stream",
     "text": [
      "('235502', 32209, 7, 8, datetime.date(2020, 5, 27))\n"
     ]
    }
   ],
   "source": [
    "# retorna (NºID,Qtd_caracteres,Qtd_tabela,Qtd_image,data)\n",
    "\n",
    "print(var[1])\n"
   ]
  },
  {
   "cell_type": "code",
   "execution_count": null,
   "metadata": {},
   "outputs": [],
   "source": []
  },
  {
   "cell_type": "code",
   "execution_count": null,
   "metadata": {},
   "outputs": [],
   "source": [
    "# Importar bibliotecas\n",
    "from os import listdir\n",
    "from os.path import isfile, join\n",
    "import docx2txt\n",
    "import docx\n",
    "import os\n",
    "import glob\n",
    "\n",
    "from os import listdir\n",
    "from os.path import isfile, join"
   ]
  },
  {
   "cell_type": "code",
   "execution_count": null,
   "metadata": {},
   "outputs": [],
   "source": [
    "import glob\n",
    "#targetPattern = r\"/Users/wpessoa/repositorios/Fluxo_Editorial/words/*.docx\"\n",
    "targetPattern = r\"/Users/walnerpessoa/repositorios/Fluxo_Editorial/words/*.docx\"\n",
    "\n",
    "#mypath='/Users/walnerpessoa/repositories/Fluxo_Editorial/words'\n",
    "print(targetPattern)\n",
    "files_array = glob.glob(targetPattern)\n",
    "print(files_array)"
   ]
  },
  {
   "cell_type": "code",
   "execution_count": null,
   "metadata": {},
   "outputs": [],
   "source": [
    "#fileDir = r\"/Users/wpessoa/repositorios/Fluxo_Editorial/words/\"\n",
    "fileDir= r'/Users/walnerpessoa/repositories/Fluxo_Editorial/words'\n",
    "fileExt = r\".docx\"\n",
    "[_ for _ in os.listdir(fileDir) if _.endswith(fileExt)]"
   ]
  },
  {
   "cell_type": "code",
   "execution_count": null,
   "metadata": {},
   "outputs": [],
   "source": [
    "# definir uma variável para o local onde estão os arquivos Word\n",
    "#mypath=\"/Users/wpessoa/repositorios/Fluxo_Editorial/words/\"\n",
    "#mypath='/Users/walnerpessoa/repositories/Fluxo_Editorial/words'\n",
    "\n",
    "# gerar vetor com ons nomes dos arquivos Word\n",
    "onlyfiles = [f for f in listdir(fileDir) if isfile(join(fileDir, f))]\n",
    "\n",
    "# verificar se existe o diretório\n",
    "#os.path.exists('/Users/wpessoa/repositorios/Fluxo_Editorial/words')\n",
    "os.path.exists(fileDir) "
   ]
  },
  {
   "cell_type": "code",
   "execution_count": null,
   "metadata": {},
   "outputs": [],
   "source": [
    "print(onlyfiles[0])\n",
    "#docx2txt.process(onlyfiles[1])\n",
    "doc = docx.Document(fileDir+'/'+onlyfiles[0])\n",
    "#print(fileDir+'/'+onlyfiles[0])\n"
   ]
  },
  {
   "cell_type": "code",
   "execution_count": null,
   "metadata": {},
   "outputs": [],
   "source": [
    "indice = 0\n",
    "image_array=[]\n",
    "table_chunks = []\n",
    "\n",
    "# abrir conecção com o arquivo Word \n",
    "doc = docx.Document(fileDir+'/'+onlyfiles[indice])\n",
    "\n",
    "# data criação\n",
    "dt_doc = doc.core_properties.created\n",
    "# ler em cada parágrafo dentro do arquivo Word\n",
    "paragra= [p.text for p in doc.paragraphs]\n",
    "\n",
    "# extai a quantidade de caracteres\n",
    "caracteres = docx2txt.process(fileDir+'/'+onlyfiles[indice])\n",
    "\n",
    "# gerar um array com tamanho de todas as imagens\n",
    "for image in doc.inline_shapes:\n",
    "    image_array.append([image.width, image.height])\n",
    "    # print (image.width, image.height)\n",
    "    \n",
    "# gerar um array com todas as tabelas\n",
    "for table in doc.tables:\n",
    "    table_chunks.append(table)\n",
    "\n",
    "#Saída dos dados\n",
    "print('Nome do diretório: ',fileDir)\n",
    "print('Nome do arquivo: ',onlyfiles[indice])\n",
    "print(\"Data de Criação do Arquivo: \", dt_doc,\"\\n\")\n",
    "print('Quantidade de carcteres:',len(caracteres))\n",
    "print(\"Quantidade de parágrafos: \", len(paragra))\n",
    "print(\"Quantidade de imagens no vetor de imagens/gráficos: \",len(image_array))\n",
    "print(\"Quantidade de Tabelas: \",len(table_chunks))\n"
   ]
  },
  {
   "cell_type": "markdown",
   "metadata": {},
   "source": [
    "Nome do diretório:  /Users/wpessoa/repositorios/Fluxo_Editorial/words/\n",
    "Nome do arquivo:  ID233867-06_12_2019_EFEITOS DA GESTÃO SOBRE A PRODUTIVIDADE - PARA PUBLICAÇÃO_Final_19122019_155125.docx\n",
    "Quantidade de carcteres: 59270"
   ]
  },
  {
   "cell_type": "markdown",
   "metadata": {},
   "source": [
    "Quantidade de parágrafos:  356\n",
    "Quantidade de imagens no vetor de imagens:  11\n",
    "Quantidade de Tabelas:  3\n",
    "Data de Criação do Arquivo:  2019-12-06 13:09:00"
   ]
  },
  {
   "cell_type": "code",
   "execution_count": null,
   "metadata": {},
   "outputs": [],
   "source": [
    "#####"
   ]
  },
  {
   "cell_type": "code",
   "execution_count": null,
   "metadata": {},
   "outputs": [],
   "source": [
    "#teste com metodos da biblioteca Docx\n",
    "\n",
    "print(doc.paragraphs[0].runs)\n",
    "print(doc.paragraphs[0].text)\n",
    "print(doc.paragraphs[0].runs[0].text)\n",
    "print(doc.paragraphs[0].runs[0].style)\n",
    "#print(doc.paragraphs[1].runs[0].text)\n",
    "#print(doc.paragraphs[1].runs[0].style)\n",
    "print(doc.core_properties.created)\n",
    "print(doc.inline_shapes)\n",
    "print(doc.inline_shapes[0].type)\n",
    "print(doc.inline_shapes[0].height)\n",
    "print(doc.inline_shapes[0].width)\n",
    "\n",
    "#\n"
   ]
  },
  {
   "cell_type": "code",
   "execution_count": null,
   "metadata": {},
   "outputs": [],
   "source": []
  },
  {
   "cell_type": "code",
   "execution_count": null,
   "metadata": {},
   "outputs": [],
   "source": []
  }
 ],
 "metadata": {
  "kernelspec": {
   "display_name": "Python 3",
   "language": "python",
   "name": "python3"
  },
  "language_info": {
   "codemirror_mode": {
    "name": "ipython",
    "version": 3
   },
   "file_extension": ".py",
   "mimetype": "text/x-python",
   "name": "python",
   "nbconvert_exporter": "python",
   "pygments_lexer": "ipython3",
   "version": "3.8.5"
  }
 },
 "nbformat": 4,
 "nbformat_minor": 4
}
