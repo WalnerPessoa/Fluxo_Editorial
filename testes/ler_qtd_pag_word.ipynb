{
 "cells": [
  {
   "cell_type": "code",
   "execution_count": 46,
   "metadata": {},
   "outputs": [
    {
     "name": "stdout",
     "output_type": "stream",
     "text": [
      "64070\n",
      "62913\n"
     ]
    }
   ],
   "source": [
    "import docx2txt\n",
    "fileDir = r\"/Users/wpessoa/repositorios/NGE/words_2019/\"\n",
    "#file =\"ID224323-Reuso_CE-normalizado_revisado_final.docx\"\n",
    "file =\"ID225392-CNI_Atos Internacionais_201810_normalizado_final.docx\"\n",
    "caracteres = docx2txt.process(fileDir+file)\n",
    "print(len(caracteres))\n",
    "#### novo codigo\n",
    "content = []\n",
    "for line in caracteres.splitlines():\n",
    "    #This will ignore empty/blank lines. \n",
    "    if line != '':\n",
    "        #Append to list\n",
    "        content.append(len(line))\n",
    "    # fim novo codigo\n",
    "print(sum(content))\n"
   ]
  },
  {
   "cell_type": "code",
   "execution_count": null,
   "metadata": {},
   "outputs": [],
   "source": []
  },
  {
   "cell_type": "code",
   "execution_count": null,
   "metadata": {},
   "outputs": [],
   "source": [
    "fileDir_19 = r\"/Users/wpessoa/repositorios/NGE/words_2019/\""
   ]
  },
  {
   "cell_type": "code",
   "execution_count": 47,
   "metadata": {},
   "outputs": [
    {
     "name": "stdout",
     "output_type": "stream",
     "text": [
      "No entanto, previsão orçamentária tal como vem sendo exigida pela Casa Civil para a sanção de atos internacionais é descabida, além de mostrar-se impraticável em muitos atos internacionais, pois estes sinalizam acordo político e não preveem planilhas de memória de cálculo de gastos ou datas específicas de desembolso.\n",
      "Ademais, o MRE, responsável pela Exposição de Motivos de promulgação, não tem expertise na de finanças públicas e responsabilidade na gestão fiscal (exigência de cumprimento dos art. 14 a 17 da LRF), que foge da rotina diplomática. Além disso, comissões de finanças na Câmara e no Senado, já fazem esse tipo de análise, o que tornaria redundante o processo no Poder Executivo.\n",
      "Por fim, vale destacar que a Exposição de Motivos de promulgação é aplicável às situações de ritos simplificados (ou seja, que não dependem de aprovação do Congresso Nacional) que exigem publicação de Decreto Presidencial no DOU. Nestes casos, tem-se exigido cumprimento dos requisitos do Decreto nº 9.191/17.\n",
      "_ParagraphStyle('Normal') id: 140513235292800\n",
      "_ParagraphStyle('Normal') id: 140513231458608\n",
      "_ParagraphStyle('Normal') id: 140513241143376\n"
     ]
    }
   ],
   "source": [
    "# https://automatetheboringstuff.com/chapter13/\n",
    "import docx\n",
    "doc = docx.Document(fileDir+file)\n",
    "print(doc.paragraphs[400].text)\n",
    "print(doc.paragraphs[401].text)\n",
    "print(doc.paragraphs[402].text)\n",
    "\n",
    "print(doc.paragraphs[400].style)\n",
    "print(doc.paragraphs[401].style)\n",
    "print(doc.paragraphs[402].style)\n"
   ]
  },
  {
   "cell_type": "code",
   "execution_count": 53,
   "metadata": {},
   "outputs": [
    {
     "name": "stdout",
     "output_type": "stream",
     "text": [
      "21\n"
     ]
    }
   ],
   "source": [
    "from docx.enum.style import WD_STYLE_TYPE\n",
    "styles = doc.styles\n",
    "array_styles=[]\n",
    "paragraph_styles = [s for s in styles if s.type == WD_STYLE_TYPE.PARAGRAPH]\n",
    "for style in paragraph_styles:\n",
    "    array_styles.append(style.name)\n",
    "    #print(style.name)\n",
    "print(len(array_styles))\n"
   ]
  },
  {
   "cell_type": "code",
   "execution_count": 49,
   "metadata": {},
   "outputs": [
    {
     "data": {
      "text/plain": [
       "21"
      ]
     },
     "execution_count": 49,
     "metadata": {},
     "output_type": "execute_result"
    }
   ],
   "source": [
    "len(array_styles)"
   ]
  },
  {
   "cell_type": "code",
   "execution_count": null,
   "metadata": {},
   "outputs": [],
   "source": []
  }
 ],
 "metadata": {
  "kernelspec": {
   "display_name": "Python 3",
   "language": "python",
   "name": "python3"
  },
  "language_info": {
   "codemirror_mode": {
    "name": "ipython",
    "version": 3
   },
   "file_extension": ".py",
   "mimetype": "text/x-python",
   "name": "python",
   "nbconvert_exporter": "python",
   "pygments_lexer": "ipython3",
   "version": "3.8.5"
  }
 },
 "nbformat": 4,
 "nbformat_minor": 4
}
