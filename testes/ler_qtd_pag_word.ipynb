{
 "cells": [
  {
   "cell_type": "code",
   "execution_count": null,
   "metadata": {},
   "outputs": [],
   "source": [
    "import docx2txt\n",
    "fileDir = r\"/Users/wpessoa/repositorios/NGE/words_2019/\"\n",
    "#file =\"ID224323-Reuso_CE-normalizado_revisado_final.docx\"\n",
    "file =\"ID225392-CNI_Atos Internacionais_201810_normalizado_final.docx\"\n",
    "caracteres = docx2txt.process(fileDir+file)\n",
    "print(len(caracteres))\n",
    "#### novo codigo\n",
    "content = []\n",
    "for line in caracteres.splitlines():\n",
    "    #This will ignore empty/blank lines. \n",
    "    if line != '':\n",
    "        #Append to list\n",
    "        content.append(len(line))\n",
    "    # fim novo codigo\n",
    "print(sum(content))\n"
   ]
  },
  {
   "cell_type": "code",
   "execution_count": null,
   "metadata": {},
   "outputs": [],
   "source": []
  },
  {
   "cell_type": "code",
   "execution_count": null,
   "metadata": {},
   "outputs": [],
   "source": [
    "fileDir_19 = r\"/Users/wpessoa/repositorios/NGE/words_2019/\""
   ]
  },
  {
   "cell_type": "code",
   "execution_count": null,
   "metadata": {},
   "outputs": [],
   "source": [
    "# https://automatetheboringstuff.com/chapter13/\n",
    "import docx\n",
    "doc = docx.Document(fileDir+file)\n",
    "print(doc.paragraphs[400].text)\n",
    "print(doc.paragraphs[401].text)\n",
    "print(doc.paragraphs[402].text)\n",
    "\n",
    "print(doc.paragraphs[400].style)\n",
    "print(doc.paragraphs[401].style)\n",
    "print(doc.paragraphs[402].style)\n"
   ]
  },
  {
   "cell_type": "code",
   "execution_count": null,
   "metadata": {},
   "outputs": [],
   "source": [
    "from docx.enum.style import WD_STYLE_TYPE\n",
    "styles = doc.styles\n",
    "array_styles=[]\n",
    "paragraph_styles = [s for s in styles if s.type == WD_STYLE_TYPE.PARAGRAPH]\n",
    "for style in paragraph_styles:\n",
    "    array_styles.append(style.name)\n",
    "    #print(style.name)\n",
    "print(len(array_styles))\n"
   ]
  },
  {
   "cell_type": "code",
   "execution_count": null,
   "metadata": {},
   "outputs": [],
   "source": [
    "len(array_styles)"
   ]
  },
  {
   "cell_type": "code",
   "execution_count": null,
   "metadata": {},
   "outputs": [],
   "source": [
    "# ! pip3 install docx2python"
   ]
  },
  {
   "cell_type": "code",
   "execution_count": null,
   "metadata": {},
   "outputs": [],
   "source": [
    "from docx2python import docx2python\n",
    " \n",
    "# extract docx content\n",
    "doc_result = docx2python(fileDir+file)\n",
    "print(type(doc_result))"
   ]
  },
  {
   "cell_type": "code",
   "execution_count": null,
   "metadata": {},
   "outputs": [],
   "source": [
    "#doc_html_result = docx2python(fileDir+file, html = True)\n",
    "print(doc_result.body)\n",
    "print(doc_result.body[4])"
   ]
  },
  {
   "cell_type": "code",
   "execution_count": null,
   "metadata": {},
   "outputs": [],
   "source": [
    "doc_result = docx2python(fileDir+file)\n",
    "                #### novo codigo\n",
    "caracteres = []\n",
    "for line in doc_result.split():\n",
    "    #This will ignore empty/blank lines. \n",
    "    if line != '':\n",
    "        #Append to list\n",
    "        caracteres.append(len(line))"
   ]
  },
  {
   "cell_type": "code",
   "execution_count": null,
   "metadata": {},
   "outputs": [],
   "source": [
    "# https://automatetheboringstuff.com/chapter13/"
   ]
  },
  {
   "cell_type": "code",
   "execution_count": null,
   "metadata": {},
   "outputs": [],
   "source": [
    "# https://docx2python.readthedocs.io/en/latest/docx2python.html"
   ]
  },
  {
   "cell_type": "code",
   "execution_count": null,
   "metadata": {},
   "outputs": [],
   "source": [
    "# https://pypi.org/project/docx2python/\n",
    "# for name, image in doc_result.images.items():\n",
    "#    with open(name, 'wb') as image_destination:\n",
    "#        write(image_destination, image)"
   ]
  },
  {
   "cell_type": "code",
   "execution_count": null,
   "metadata": {
    "scrolled": true
   },
   "outputs": [],
   "source": [
    "# get separate components of the document\n",
    "print(len(doc_result.body))\n",
    " \n",
    "# get the text from Zen of Python\n",
    "print(doc_result[0])\n",
    " \n",
    "# get the image\n",
    "print(doc_result[1] )\n",
    " \n",
    "# get the table text\n",
    "print(doc_result[2])"
   ]
  },
  {
   "cell_type": "code",
   "execution_count": null,
   "metadata": {
    "scrolled": true
   },
   "outputs": [],
   "source": [
    "# usando XML\n",
    "# \n",
    "# https://askubuntu.com/questions/305633/how-can-i-determine-the-page-count-of-odt-doc-docx-and-other-office-documents\n",
    "#! unzip -p 'sample-01.docx' docProps/app.xml | grep -oP '(?<=\\<Pages\\>).*(?=\\</Pages\\>)'\n",
    "# Parse the xml files composing the docx\n",
    "# https://stackoverflow.com/questions/32418244/finding-word-on-pages-in-document\n",
    "\n"
   ]
  },
  {
   "cell_type": "code",
   "execution_count": 59,
   "metadata": {},
   "outputs": [
    {
     "name": "stdout",
     "output_type": "stream",
     "text": [
      "0\n"
     ]
    }
   ],
   "source": [
    "import os\n",
    "pagina_xml = os.system(\"unzip -p '/Users/wpessoa/repositorios/NGE/words_2019/ID231928-Investimentos_Tributação_Roadmap_BrasilEUA_20190328_Normalizado_06092019_123259.docx' docProps/app.xml\")\n",
    "print(pagina_xml)"
   ]
  },
  {
   "cell_type": "code",
   "execution_count": 57,
   "metadata": {},
   "outputs": [
    {
     "name": "stdout",
     "output_type": "stream",
     "text": [
      "<?xml version=\"1.0\" encoding=\"UTF-8\" standalone=\"yes\"?>\r",
      "\r\n",
      "<Properties xmlns=\"http://schemas.openxmlformats.org/officeDocument/2006/extended-properties\" xmlns:vt=\"http://schemas.openxmlformats.org/officeDocument/2006/docPropsVTypes\"><Template>Normal.dotm</Template><TotalTime>1</TotalTime><Pages>34</Pages><Words>9124</Words><Characters>49271</Characters><Application>Microsoft Office Word</Application><DocSecurity>0</DocSecurity><Lines>410</Lines><Paragraphs>116</Paragraphs><ScaleCrop>false</ScaleCrop><HeadingPairs><vt:vector size=\"4\" baseType=\"variant\"><vt:variant><vt:lpstr>Título</vt:lpstr></vt:variant><vt:variant><vt:i4>1</vt:i4></vt:variant><vt:variant><vt:lpstr>Title</vt:lpstr></vt:variant><vt:variant><vt:i4>1</vt:i4></vt:variant></vt:vector></HeadingPairs><TitlesOfParts><vt:vector size=\"2\" baseType=\"lpstr\"><vt:lpstr></vt:lpstr><vt:lpstr></vt:lpstr></vt:vector></TitlesOfParts><Company>Microsoft</Company><LinksUpToDate>false</LinksUpToDate><CharactersWithSpaces>58279</CharactersWithSpaces><SharedDoc>false</SharedDoc><HyperlinksChanged>false</HyperlinksChanged><AppVersion>15.0000</AppVersion></Properties>"
     ]
    }
   ],
   "source": [
    "!unzip -p \"/Users/wpessoa/repositorios/NGE/words_2019/ID231928-Investimentos_Tributação_Roadmap_BrasilEUA_20190328_Normalizado_06092019_123259.docx\" docProps/app.xml"
   ]
  },
  {
   "cell_type": "code",
   "execution_count": 83,
   "metadata": {},
   "outputs": [
    {
     "name": "stdout",
     "output_type": "stream",
     "text": [
      "195\n"
     ]
    }
   ],
   "source": [
    "######\n",
    "###### CODIGO APROVADO\n",
    "###### \n",
    "# https://stackoverflow.com/questions/3730964/python-script-execute-commands-in-terminal\n",
    "import subprocess\n",
    "import re\n",
    "\n",
    "pagina_xml_code = subprocess.Popen([\"unzip\", \"-p\", \"/Users/wpessoa/repositorios/NGE/words_2019/ID232098-2019-09-16_30 CASOS_FINAL 20190820 (inglês).docx\", \"docProps/app.xml\"], stdout=subprocess.PIPE)\n",
    "output = pagina_xml_code.communicate()[0]\n",
    "pagina_xml_str = output.decode(\"utf-8\")\n",
    "x = re.search('(?<=\\<Pages\\>)(.*)(?=\\<\\/Pages\\>)', pagina_xml_str)\n",
    "pagina_xml = x.group()\n",
    "print(pagina_xml)"
   ]
  },
  {
   "cell_type": "code",
   "execution_count": 81,
   "metadata": {},
   "outputs": [
    {
     "name": "stdout",
     "output_type": "stream",
     "text": [
      "<?xml version=\"1.0\" encoding=\"UTF-8\" standalone=\"yes\"?>\r\n",
      "<Properties xmlns=\"http://schemas.openxmlformats.org/officeDocument/2006/extended-properties\" xmlns:vt=\"http://schemas.openxmlformats.org/officeDocument/2006/docPropsVTypes\"><Template>Normal</Template><TotalTime>0</TotalTime><Pages>69</Pages><Words>64089</Words><Characters>346086</Characters><Application>Microsoft Office Word</Application><DocSecurity>0</DocSecurity><Lines>2884</Lines><Paragraphs>818</Paragraphs><ScaleCrop>false</ScaleCrop><HeadingPairs><vt:vector size=\"2\" baseType=\"variant\"><vt:variant><vt:lpstr>Título</vt:lpstr></vt:variant><vt:variant><vt:i4>1</vt:i4></vt:variant></vt:vector></HeadingPairs><TitlesOfParts><vt:vector size=\"1\" baseType=\"lpstr\"><vt:lpstr></vt:lpstr></vt:vector></TitlesOfParts><Company></Company><LinksUpToDate>false</LinksUpToDate><CharactersWithSpaces>409357</CharactersWithSpaces><SharedDoc>false</SharedDoc><HyperlinksChanged>false</HyperlinksChanged><AppVersion>15.0000</AppVersion></Properties>\n"
     ]
    }
   ],
   "source": [
    "print(pagina_xml_str)"
   ]
  },
  {
   "cell_type": "code",
   "execution_count": 72,
   "metadata": {},
   "outputs": [
    {
     "data": {
      "text/plain": [
       "str"
      ]
     },
     "execution_count": 72,
     "metadata": {},
     "output_type": "execute_result"
    }
   ],
   "source": [
    "type(output.decode(\"utf-8\") )"
   ]
  },
  {
   "cell_type": "code",
   "execution_count": 75,
   "metadata": {},
   "outputs": [
    {
     "name": "stdout",
     "output_type": "stream",
     "text": [
      "32\n"
     ]
    }
   ],
   "source": [
    "pagina_xml = ! unzip -p 'sample-01.docx' docProps/app.xml\n",
    "import re\n",
    "#x = re.search('(?<=\\<Pages\\>).*(?=\\<\\/Pages\\>)', pagina_xml[1])\n",
    "x = re.search('(?<=\\<Pages\\>)(.*)(?=\\<\\/Pages\\>)', pagina_xml[1])\n",
    "#x = re.search('[?<=\\<Pages\\>](.*)[?=\\<\\/Pages\\>]', pagina_xml[1])\n",
    "pagina_xml = x.group()\n",
    "print(pagina_xml)"
   ]
  },
  {
   "cell_type": "code",
   "execution_count": 47,
   "metadata": {
    "scrolled": true
   },
   "outputs": [
    {
     "data": {
      "text/plain": [
       "'32'"
      ]
     },
     "execution_count": 47,
     "metadata": {},
     "output_type": "execute_result"
    }
   ],
   "source": [
    "pagina_xml = ! unzip -p 'sample-01.docx' docProps/app.xml\n",
    "import re\n",
    "x = re.search('(?<=\\<Pages\\>)(.*)(?=\\<\\/Pages\\>)', pagina_xml[1])\n",
    "x.group()"
   ]
  },
  {
   "cell_type": "code",
   "execution_count": null,
   "metadata": {},
   "outputs": [],
   "source": []
  }
 ],
 "metadata": {
  "kernelspec": {
   "display_name": "Python 3",
   "language": "python",
   "name": "python3"
  },
  "language_info": {
   "codemirror_mode": {
    "name": "ipython",
    "version": 3
   },
   "file_extension": ".py",
   "mimetype": "text/x-python",
   "name": "python",
   "nbconvert_exporter": "python",
   "pygments_lexer": "ipython3",
   "version": "3.8.5"
  }
 },
 "nbformat": 4,
 "nbformat_minor": 4
}
