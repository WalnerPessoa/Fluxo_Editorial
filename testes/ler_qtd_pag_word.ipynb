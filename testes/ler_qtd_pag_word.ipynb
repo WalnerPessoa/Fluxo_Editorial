{
 "cells": [
  {
   "cell_type": "code",
   "execution_count": 10,
   "metadata": {},
   "outputs": [
    {
     "name": "stdout",
     "output_type": "stream",
     "text": [
      "124996\n",
      "116142\n"
     ]
    }
   ],
   "source": [
    "import docx2txt\n",
    "fileDir = r\"/Users/wpessoa/repositorios/NGE/words_2019/\"\n",
    "file =\"ID224323-Reuso_CE-normalizado_revisado_final.docx\"\n",
    "caracteres = docx2txt.process(fileDir+file)\n",
    "print(len(caracteres))\n",
    "#### novo codigo\n",
    "content = []\n",
    "for line in caracteres.splitlines():\n",
    "    #This will ignore empty/blank lines. \n",
    "    if line != '':\n",
    "        #Append to list\n",
    "        content.append(len(line))\n",
    "    # fim novo codigo\n",
    "print(sum(content))\n"
   ]
  },
  {
   "cell_type": "code",
   "execution_count": null,
   "metadata": {},
   "outputs": [],
   "source": [
    "fileDir_19 = r\"/Users/wpessoa/repositorios/NGE/words_2019/\""
   ]
  }
 ],
 "metadata": {
  "kernelspec": {
   "display_name": "Python 3",
   "language": "python",
   "name": "python3"
  },
  "language_info": {
   "codemirror_mode": {
    "name": "ipython",
    "version": 3
   },
   "file_extension": ".py",
   "mimetype": "text/x-python",
   "name": "python",
   "nbconvert_exporter": "python",
   "pygments_lexer": "ipython3",
   "version": "3.8.5"
  }
 },
 "nbformat": 4,
 "nbformat_minor": 4
}
