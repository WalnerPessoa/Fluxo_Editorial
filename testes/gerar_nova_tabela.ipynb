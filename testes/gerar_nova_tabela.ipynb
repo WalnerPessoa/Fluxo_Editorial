{
 "cells": [
  {
   "cell_type": "code",
   "execution_count": null,
   "metadata": {},
   "outputs": [],
   "source": [
    "# metodo de tratar tabelas\n"
   ]
  },
  {
   "cell_type": "code",
   "execution_count": 1,
   "metadata": {},
   "outputs": [
    {
     "name": "stdout",
     "output_type": "stream",
     "text": [
      "True\n",
      "Quantidade de arquivos do word no diretório:  35\n",
      "[('233893', 216, 0, 1, datetime.date(2020, 2, 14)), ('235502', 32209, 7, 8, datetime.date(2020, 5, 27)), ('233694', 74718, 12, 67, datetime.date(2019, 5, 16)), ('233896', 92519, 50, 95, datetime.date(2020, 2, 11)), ('233899', 72272, 70, 141, datetime.date(2020, 2, 18)), ('235305', 106149, 81, 165, datetime.date(2020, 4, 20)), ('233903', 125108, 103, 179, datetime.date(2020, 3, 4)), ('235512', 83759, 115, 205, datetime.date(2020, 6, 8)), ('233904', 77964, 132, 209, datetime.date(2020, 3, 6)), ('233900', 75298, 132, 224, datetime.date(2020, 3, 2)), ('233892', 13373, 161, 224, datetime.date(2019, 6, 18)), ('233909', 90955, 168, 226, datetime.date(2020, 3, 11)), ('233867', 59270, 171, 237, datetime.date(2019, 12, 6)), ('233884', 213336, 239, 238, datetime.date(2020, 1, 20)), ('235353', 65306, 242, 240, datetime.date(2020, 5, 6)), ('235313', 144436, 251, 246, datetime.date(2020, 5, 6)), ('233885', 99723, 270, 255, datetime.date(2020, 2, 5)), ('233891', 16359, 275, 255, datetime.date(2020, 2, 5)), ('233839', 216, 275, 256, datetime.date(2020, 2, 14)), ('233890', 30588, 280, 262, datetime.date(2020, 2, 5)), ('235092', 67666, 283, 264, datetime.date(2020, 3, 24)), ('233908', 584508, 303, 264, datetime.date(2020, 3, 10)), ('233888', 33606, 315, 268, datetime.date(2020, 2, 5)), ('233895', 90795, 329, 280, datetime.date(2020, 1, 29)), ('233886', 73923, 347, 303, datetime.date(2020, 2, 5)), ('235469', 29815, 349, 305, datetime.date(2020, 5, 20)), ('235293', 97465, 353, 310, datetime.date(2020, 4, 6)), ('233907', 32145, 355, 310, datetime.date(2020, 3, 10)), ('233898', 17287, 357, 317, datetime.date(2020, 2, 14)), ('235519', 125372, 363, 323, datetime.date(2020, 5, 26)), ('233889', 15598, 366, 323, datetime.date(2020, 2, 5)), ('235320', 105295, 368, 330, datetime.date(2020, 5, 21)), ('233887', 49223, 373, 335, datetime.date(2020, 2, 5)), ('235495', 33684, 383, 348, datetime.date(2020, 5, 25)), ('233906', 120816, 386, 417, datetime.date(2020, 3, 9))]\n"
     ]
    }
   ],
   "source": [
    "import os\n",
    "import get_file_word as gf\n",
    "import datetime\n",
    "\n",
    "#setar variáveis onde estão arquivos\n",
    "fileExt = r\".docx\"\n",
    "fileDir = r\"/Users/wpessoa/repositorios/NGE/words/\"\n",
    "\n",
    "# verificar se existe o diretório\n",
    "print(os.path.exists(fileDir)) \n",
    "\n",
    "\n",
    "#fileDir = r\"/Users/wpessoa/repositorios/Fluxo_Editorial/words/\"\n",
    "#fileDir= r'/Users/walnerpessoa/repositories/Fluxo_Editorial/words'\n",
    "files_array = [_ for _ in os.listdir(fileDir) if _.endswith(fileExt)]\n",
    "\n",
    "print(\"Quantidade de arquivos do word no diretório: \",len(files_array))\n",
    "\n",
    "# rodar método get_info para ler aquivos do Word e retornar features de cada arquivo\n",
    "# argumentos (diretório e array dos arquivos word)\n",
    "# retorna (NºID,Qtd_caracteres,Qtd_tabela,Qtd_image,data)\n",
    "\n",
    "var=gf.get_info(fileDir,files_array)\n",
    "print(var)\n"
   ]
  },
  {
   "cell_type": "code",
   "execution_count": 5,
   "metadata": {},
   "outputs": [],
   "source": [
    "import pandas as pd"
   ]
  },
  {
   "cell_type": "code",
   "execution_count": 6,
   "metadata": {},
   "outputs": [
    {
     "name": "stdout",
     "output_type": "stream",
     "text": [
      "<class 'list'>\n"
     ]
    }
   ],
   "source": [
    "print(type(var))"
   ]
  },
  {
   "cell_type": "code",
   "execution_count": 22,
   "metadata": {},
   "outputs": [
    {
     "data": {
      "text/html": [
       "<div>\n",
       "<style scoped>\n",
       "    .dataframe tbody tr th:only-of-type {\n",
       "        vertical-align: middle;\n",
       "    }\n",
       "\n",
       "    .dataframe tbody tr th {\n",
       "        vertical-align: top;\n",
       "    }\n",
       "\n",
       "    .dataframe thead th {\n",
       "        text-align: right;\n",
       "    }\n",
       "</style>\n",
       "<table border=\"1\" class=\"dataframe\">\n",
       "  <thead>\n",
       "    <tr style=\"text-align: right;\">\n",
       "      <th></th>\n",
       "      <th>ID</th>\n",
       "      <th>Qtd_carac</th>\n",
       "      <th>Qtd_tabela</th>\n",
       "      <th>Qtd_image</th>\n",
       "      <th>Data</th>\n",
       "    </tr>\n",
       "  </thead>\n",
       "  <tbody>\n",
       "    <tr>\n",
       "      <th>0</th>\n",
       "      <td>233893</td>\n",
       "      <td>216</td>\n",
       "      <td>0</td>\n",
       "      <td>1</td>\n",
       "      <td>2020-02-14</td>\n",
       "    </tr>\n",
       "    <tr>\n",
       "      <th>1</th>\n",
       "      <td>235502</td>\n",
       "      <td>32209</td>\n",
       "      <td>7</td>\n",
       "      <td>8</td>\n",
       "      <td>2020-05-27</td>\n",
       "    </tr>\n",
       "    <tr>\n",
       "      <th>2</th>\n",
       "      <td>233694</td>\n",
       "      <td>74718</td>\n",
       "      <td>12</td>\n",
       "      <td>67</td>\n",
       "      <td>2019-05-16</td>\n",
       "    </tr>\n",
       "    <tr>\n",
       "      <th>3</th>\n",
       "      <td>233896</td>\n",
       "      <td>92519</td>\n",
       "      <td>50</td>\n",
       "      <td>95</td>\n",
       "      <td>2020-02-11</td>\n",
       "    </tr>\n",
       "    <tr>\n",
       "      <th>4</th>\n",
       "      <td>233899</td>\n",
       "      <td>72272</td>\n",
       "      <td>70</td>\n",
       "      <td>141</td>\n",
       "      <td>2020-02-18</td>\n",
       "    </tr>\n",
       "  </tbody>\n",
       "</table>\n",
       "</div>"
      ],
      "text/plain": [
       "       ID  Qtd_carac  Qtd_tabela  Qtd_image        Data\n",
       "0  233893        216           0          1  2020-02-14\n",
       "1  235502      32209           7          8  2020-05-27\n",
       "2  233694      74718          12         67  2019-05-16\n",
       "3  233896      92519          50         95  2020-02-11\n",
       "4  233899      72272          70        141  2020-02-18"
      ]
     },
     "execution_count": 22,
     "metadata": {},
     "output_type": "execute_result"
    }
   ],
   "source": [
    "df = pd.DataFrame(var,columns=['ID',\"Qtd_carac\",\"Qtd_tabela\",\"Qtd_image\",\"Data\"])\n",
    "df.head()"
   ]
  },
  {
   "cell_type": "code",
   "execution_count": 24,
   "metadata": {},
   "outputs": [
    {
     "data": {
      "text/plain": [
       "['BooleanDtype',\n",
       " 'Categorical',\n",
       " 'CategoricalDtype',\n",
       " 'CategoricalIndex',\n",
       " 'DataFrame',\n",
       " 'DateOffset',\n",
       " 'DatetimeIndex',\n",
       " 'DatetimeTZDtype',\n",
       " 'ExcelFile',\n",
       " 'ExcelWriter',\n",
       " 'Float64Index',\n",
       " 'Grouper',\n",
       " 'HDFStore',\n",
       " 'Index',\n",
       " 'IndexSlice',\n",
       " 'Int16Dtype',\n",
       " 'Int32Dtype',\n",
       " 'Int64Dtype',\n",
       " 'Int64Index',\n",
       " 'Int8Dtype',\n",
       " 'Interval',\n",
       " 'IntervalDtype',\n",
       " 'IntervalIndex',\n",
       " 'MultiIndex',\n",
       " 'NA',\n",
       " 'NaT',\n",
       " 'NamedAgg',\n",
       " 'Period',\n",
       " 'PeriodDtype',\n",
       " 'PeriodIndex',\n",
       " 'RangeIndex',\n",
       " 'Series',\n",
       " 'SparseDtype',\n",
       " 'StringDtype',\n",
       " 'Timedelta',\n",
       " 'TimedeltaIndex',\n",
       " 'Timestamp',\n",
       " 'UInt16Dtype',\n",
       " 'UInt32Dtype',\n",
       " 'UInt64Dtype',\n",
       " 'UInt64Index',\n",
       " 'UInt8Dtype',\n",
       " '__builtins__',\n",
       " '__cached__',\n",
       " '__doc__',\n",
       " '__docformat__',\n",
       " '__file__',\n",
       " '__getattr__',\n",
       " '__git_version__',\n",
       " '__loader__',\n",
       " '__name__',\n",
       " '__package__',\n",
       " '__path__',\n",
       " '__spec__',\n",
       " '__version__',\n",
       " '_config',\n",
       " '_hashtable',\n",
       " '_is_numpy_dev',\n",
       " '_lib',\n",
       " '_libs',\n",
       " '_np_version_under1p16',\n",
       " '_np_version_under1p17',\n",
       " '_np_version_under1p18',\n",
       " '_testing',\n",
       " '_tslib',\n",
       " '_typing',\n",
       " '_version',\n",
       " 'api',\n",
       " 'array',\n",
       " 'arrays',\n",
       " 'bdate_range',\n",
       " 'compat',\n",
       " 'concat',\n",
       " 'core',\n",
       " 'crosstab',\n",
       " 'cut',\n",
       " 'date_range',\n",
       " 'describe_option',\n",
       " 'errors',\n",
       " 'eval',\n",
       " 'factorize',\n",
       " 'get_dummies',\n",
       " 'get_option',\n",
       " 'infer_freq',\n",
       " 'interval_range',\n",
       " 'io',\n",
       " 'isna',\n",
       " 'isnull',\n",
       " 'json_normalize',\n",
       " 'lreshape',\n",
       " 'melt',\n",
       " 'merge',\n",
       " 'merge_asof',\n",
       " 'merge_ordered',\n",
       " 'notna',\n",
       " 'notnull',\n",
       " 'offsets',\n",
       " 'option_context',\n",
       " 'options',\n",
       " 'pandas',\n",
       " 'period_range',\n",
       " 'pivot',\n",
       " 'pivot_table',\n",
       " 'plotting',\n",
       " 'qcut',\n",
       " 'read_clipboard',\n",
       " 'read_csv',\n",
       " 'read_excel',\n",
       " 'read_feather',\n",
       " 'read_fwf',\n",
       " 'read_gbq',\n",
       " 'read_hdf',\n",
       " 'read_html',\n",
       " 'read_json',\n",
       " 'read_orc',\n",
       " 'read_parquet',\n",
       " 'read_pickle',\n",
       " 'read_sas',\n",
       " 'read_spss',\n",
       " 'read_sql',\n",
       " 'read_sql_query',\n",
       " 'read_sql_table',\n",
       " 'read_stata',\n",
       " 'read_table',\n",
       " 'reset_option',\n",
       " 'set_eng_float_format',\n",
       " 'set_option',\n",
       " 'show_versions',\n",
       " 'test',\n",
       " 'testing',\n",
       " 'timedelta_range',\n",
       " 'to_datetime',\n",
       " 'to_numeric',\n",
       " 'to_pickle',\n",
       " 'to_timedelta',\n",
       " 'tseries',\n",
       " 'unique',\n",
       " 'util',\n",
       " 'value_counts',\n",
       " 'wide_to_long']"
      ]
     },
     "execution_count": 24,
     "metadata": {},
     "output_type": "execute_result"
    }
   ],
   "source": [
    "dir(pd)"
   ]
  },
  {
   "cell_type": "code",
   "execution_count": 14,
   "metadata": {},
   "outputs": [
    {
     "name": "stdout",
     "output_type": "stream",
     "text": [
      "/Users/wpessoa/repositorios/Fluxo_Editorial/testes\r\n"
     ]
    }
   ],
   "source": [
    "!pwd"
   ]
  },
  {
   "cell_type": "code",
   "execution_count": 15,
   "metadata": {},
   "outputs": [
    {
     "name": "stdout",
     "output_type": "stream",
     "text": [
      "/Users/wpessoa/repositorios/Fluxo_Editorial/testes\r\n"
     ]
    }
   ],
   "source": [
    "!pwd /Users/wpessoa/repositorios/\n"
   ]
  },
  {
   "cell_type": "code",
   "execution_count": 29,
   "metadata": {},
   "outputs": [
    {
     "name": "stdout",
     "output_type": "stream",
     "text": [
      "Exercicio_estimativa_de_paginas.xlsx Sample_Sheet.xlsx\r\n"
     ]
    }
   ],
   "source": [
    "! ls /Users/wpessoa/repositorios/Fluxo_Editorial/dados/\n"
   ]
  },
  {
   "cell_type": "code",
   "execution_count": 33,
   "metadata": {},
   "outputs": [],
   "source": [
    "excelDir =\"/Users/wpessoa/repositorios/Fluxo_Editorial/dados/\"\n",
    "excelFile = pd.read_excel(excelDir+'Exercicio_estimativa_de_paginas.xlsx',\"EXECUTADO (2)\")"
   ]
  },
  {
   "cell_type": "code",
   "execution_count": 35,
   "metadata": {},
   "outputs": [
    {
     "data": {
      "text/plain": [
       "Index(['ENTIDADE', 'PUBLICAÇÃO', 'Nº de páginas WORD',\n",
       "       'Nº de páginas estimado',\n",
       "       'Variação nº de págs estimado sobre nº de págs Word', 'COMPLEXIDADE',\n",
       "       'FORNECEDOR', 'DESCRIÇÃO', 'Nº DA PLANILHA', 'CUSTO TOTAL',\n",
       "       'DATA DE ENVIO', 'DATA DE APROVAÇÃO', 'ANÁLISTA RESPONSÁVEL',\n",
       "       'SOLICITAÇÃO DE COMPRAS', 'PEDIDO DE COMPRAS', 'STATUS DE PGTO',\n",
       "       'NOTA FISCAL', 'DATA DE PGTO', 'Nº de páginas finais',\n",
       "       'Variação nº de págs do o Word sobre nº de págs finais',\n",
       "       'Variação nº de págs finais sobre nº de págs estimado', 'STATUS', 'OBS',\n",
       "       'ARQ EXTRA', 'LINHA SMARTSHEETS', 'PROJETO GRÁFICO'],\n",
       "      dtype='object')"
      ]
     },
     "execution_count": 35,
     "metadata": {},
     "output_type": "execute_result"
    }
   ],
   "source": [
    "excelFile.columns"
   ]
  },
  {
   "cell_type": "code",
   "execution_count": 47,
   "metadata": {},
   "outputs": [],
   "source": [
    "colunas=['ENTIDADE','PUBLICAÇÃO','Nº de páginas WORD','Nº de páginas estimado', 'COMPLEXIDADE','FORNECEDOR','Nº DA PLANILHA','STATUS DE PGTO','Nº de páginas finais']\n",
    "excelFile2 = excelFile[colunas]"
   ]
  },
  {
   "cell_type": "code",
   "execution_count": 48,
   "metadata": {},
   "outputs": [
    {
     "data": {
      "text/plain": [
       "Index(['ENTIDADE', 'PUBLICAÇÃO', 'Nº de páginas WORD',\n",
       "       'Nº de páginas estimado', 'COMPLEXIDADE', 'FORNECEDOR',\n",
       "       'Nº DA PLANILHA', 'STATUS DE PGTO', 'Nº de páginas finais'],\n",
       "      dtype='object')"
      ]
     },
     "execution_count": 48,
     "metadata": {},
     "output_type": "execute_result"
    }
   ],
   "source": [
    "excelFile2.columns"
   ]
  },
  {
   "cell_type": "code",
   "execution_count": null,
   "metadata": {},
   "outputs": [],
   "source": []
  }
 ],
 "metadata": {
  "kernelspec": {
   "display_name": "Python 3",
   "language": "python",
   "name": "python3"
  },
  "language_info": {
   "codemirror_mode": {
    "name": "ipython",
    "version": 3
   },
   "file_extension": ".py",
   "mimetype": "text/x-python",
   "name": "python",
   "nbconvert_exporter": "python",
   "pygments_lexer": "ipython3",
   "version": "3.8.5"
  }
 },
 "nbformat": 4,
 "nbformat_minor": 4
}
