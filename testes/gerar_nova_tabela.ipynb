{
 "cells": [
  {
   "cell_type": "code",
   "execution_count": null,
   "metadata": {},
   "outputs": [],
   "source": [
    "# metodo de tratar tabelas\n"
   ]
  },
  {
   "cell_type": "code",
   "execution_count": 1,
   "metadata": {},
   "outputs": [
    {
     "name": "stdout",
     "output_type": "stream",
     "text": [
      "True\n",
      "Quantidade de arquivos do word no diretório:  35\n",
      "[('233893', 216, 0, 1, datetime.date(2020, 2, 14)), ('235502', 32209, 7, 8, datetime.date(2020, 5, 27)), ('233694', 74718, 12, 67, datetime.date(2019, 5, 16)), ('233896', 92519, 50, 95, datetime.date(2020, 2, 11)), ('233899', 72272, 70, 141, datetime.date(2020, 2, 18)), ('235305', 106149, 81, 165, datetime.date(2020, 4, 20)), ('233903', 125108, 103, 179, datetime.date(2020, 3, 4)), ('235512', 83759, 115, 205, datetime.date(2020, 6, 8)), ('233904', 77964, 132, 209, datetime.date(2020, 3, 6)), ('233900', 75298, 132, 224, datetime.date(2020, 3, 2)), ('233892', 13373, 161, 224, datetime.date(2019, 6, 18)), ('233909', 90955, 168, 226, datetime.date(2020, 3, 11)), ('233867', 59270, 171, 237, datetime.date(2019, 12, 6)), ('233884', 213336, 239, 238, datetime.date(2020, 1, 20)), ('235353', 65306, 242, 240, datetime.date(2020, 5, 6)), ('235313', 144436, 251, 246, datetime.date(2020, 5, 6)), ('233885', 99723, 270, 255, datetime.date(2020, 2, 5)), ('233891', 16359, 275, 255, datetime.date(2020, 2, 5)), ('233839', 216, 275, 256, datetime.date(2020, 2, 14)), ('233890', 30588, 280, 262, datetime.date(2020, 2, 5)), ('235092', 67666, 283, 264, datetime.date(2020, 3, 24)), ('233908', 584508, 303, 264, datetime.date(2020, 3, 10)), ('233888', 33606, 315, 268, datetime.date(2020, 2, 5)), ('233895', 90795, 329, 280, datetime.date(2020, 1, 29)), ('233886', 73923, 347, 303, datetime.date(2020, 2, 5)), ('235469', 29815, 349, 305, datetime.date(2020, 5, 20)), ('235293', 97465, 353, 310, datetime.date(2020, 4, 6)), ('233907', 32145, 355, 310, datetime.date(2020, 3, 10)), ('233898', 17287, 357, 317, datetime.date(2020, 2, 14)), ('235519', 125372, 363, 323, datetime.date(2020, 5, 26)), ('233889', 15598, 366, 323, datetime.date(2020, 2, 5)), ('235320', 105295, 368, 330, datetime.date(2020, 5, 21)), ('233887', 49223, 373, 335, datetime.date(2020, 2, 5)), ('235495', 33684, 383, 348, datetime.date(2020, 5, 25)), ('233906', 120816, 386, 417, datetime.date(2020, 3, 9))]\n"
     ]
    }
   ],
   "source": [
    "import os\n",
    "import get_file_word as gf\n",
    "import datetime\n",
    "\n",
    "#setar variáveis onde estão arquivos\n",
    "fileExt = r\".docx\"\n",
    "fileDir = r\"/Users/wpessoa/repositorios/NGE/words/\"\n",
    "\n",
    "# verificar se existe o diretório\n",
    "print(os.path.exists(fileDir)) \n",
    "\n",
    "\n",
    "#fileDir = r\"/Users/wpessoa/repositorios/Fluxo_Editorial/words/\"\n",
    "#fileDir= r'/Users/walnerpessoa/repositories/Fluxo_Editorial/words'\n",
    "files_array = [_ for _ in os.listdir(fileDir) if _.endswith(fileExt)]\n",
    "\n",
    "print(\"Quantidade de arquivos do word no diretório: \",len(files_array))\n",
    "\n",
    "# rodar método get_info para ler aquivos do Word e retornar features de cada arquivo\n",
    "# argumentos (diretório e array dos arquivos word)\n",
    "# retorna (NºID,Qtd_caracteres,Qtd_tabela,Qtd_image,data)\n",
    "\n",
    "var=gf.get_info(fileDir,files_array)\n",
    "print(var)\n"
   ]
  },
  {
   "cell_type": "code",
   "execution_count": 5,
   "metadata": {},
   "outputs": [],
   "source": [
    "import pandas as pd"
   ]
  },
  {
   "cell_type": "code",
   "execution_count": 6,
   "metadata": {},
   "outputs": [
    {
     "name": "stdout",
     "output_type": "stream",
     "text": [
      "<class 'list'>\n"
     ]
    }
   ],
   "source": [
    "print(type(var))"
   ]
  },
  {
   "cell_type": "code",
   "execution_count": 12,
   "metadata": {},
   "outputs": [
    {
     "data": {
      "text/html": [
       "<div>\n",
       "<style scoped>\n",
       "    .dataframe tbody tr th:only-of-type {\n",
       "        vertical-align: middle;\n",
       "    }\n",
       "\n",
       "    .dataframe tbody tr th {\n",
       "        vertical-align: top;\n",
       "    }\n",
       "\n",
       "    .dataframe thead th {\n",
       "        text-align: right;\n",
       "    }\n",
       "</style>\n",
       "<table border=\"1\" class=\"dataframe\">\n",
       "  <thead>\n",
       "    <tr style=\"text-align: right;\">\n",
       "      <th></th>\n",
       "      <th>ID</th>\n",
       "      <th>Qtd_carac</th>\n",
       "      <th>Qtd_tabela</th>\n",
       "      <th>Qtd_image</th>\n",
       "      <th>Data</th>\n",
       "    </tr>\n",
       "  </thead>\n",
       "  <tbody>\n",
       "    <tr>\n",
       "      <th>0</th>\n",
       "      <td>233893</td>\n",
       "      <td>216</td>\n",
       "      <td>0</td>\n",
       "      <td>1</td>\n",
       "      <td>2020-02-14</td>\n",
       "    </tr>\n",
       "    <tr>\n",
       "      <th>1</th>\n",
       "      <td>235502</td>\n",
       "      <td>32209</td>\n",
       "      <td>7</td>\n",
       "      <td>8</td>\n",
       "      <td>2020-05-27</td>\n",
       "    </tr>\n",
       "    <tr>\n",
       "      <th>2</th>\n",
       "      <td>233694</td>\n",
       "      <td>74718</td>\n",
       "      <td>12</td>\n",
       "      <td>67</td>\n",
       "      <td>2019-05-16</td>\n",
       "    </tr>\n",
       "    <tr>\n",
       "      <th>3</th>\n",
       "      <td>233896</td>\n",
       "      <td>92519</td>\n",
       "      <td>50</td>\n",
       "      <td>95</td>\n",
       "      <td>2020-02-11</td>\n",
       "    </tr>\n",
       "    <tr>\n",
       "      <th>4</th>\n",
       "      <td>233899</td>\n",
       "      <td>72272</td>\n",
       "      <td>70</td>\n",
       "      <td>141</td>\n",
       "      <td>2020-02-18</td>\n",
       "    </tr>\n",
       "  </tbody>\n",
       "</table>\n",
       "</div>"
      ],
      "text/plain": [
       "       ID  Qtd_carac  Qtd_tabela  Qtd_image        Data\n",
       "0  233893        216           0          1  2020-02-14\n",
       "1  235502      32209           7          8  2020-05-27\n",
       "2  233694      74718          12         67  2019-05-16\n",
       "3  233896      92519          50         95  2020-02-11\n",
       "4  233899      72272          70        141  2020-02-18"
      ]
     },
     "execution_count": 12,
     "metadata": {},
     "output_type": "execute_result"
    }
   ],
   "source": [
    "df = pd.DataFrame(var,columns=['ID',\"Qtd_carac\",\"Qtd_tabela\",\"Qtd_image\",\"Data\"])\n",
    "df.head()"
   ]
  },
  {
   "cell_type": "code",
   "execution_count": null,
   "metadata": {},
   "outputs": [],
   "source": []
  }
 ],
 "metadata": {
  "kernelspec": {
   "display_name": "Python 3",
   "language": "python",
   "name": "python3"
  },
  "language_info": {
   "codemirror_mode": {
    "name": "ipython",
    "version": 3
   },
   "file_extension": ".py",
   "mimetype": "text/x-python",
   "name": "python",
   "nbconvert_exporter": "python",
   "pygments_lexer": "ipython3",
   "version": "3.8.5"
  }
 },
 "nbformat": 4,
 "nbformat_minor": 4
}
