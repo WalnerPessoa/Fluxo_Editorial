{
 "cells": [
  {
   "cell_type": "code",
   "execution_count": 3,
   "metadata": {},
   "outputs": [],
   "source": [
    "import requests\n"
   ]
  },
  {
   "cell_type": "code",
   "execution_count": 8,
   "metadata": {},
   "outputs": [],
   "source": [
    "response = requests.get(\"https://api.smartsheet.com/2.0/sheets\")\n",
    "resposta = response.json()"
   ]
  },
  {
   "cell_type": "code",
   "execution_count": 10,
   "metadata": {},
   "outputs": [
    {
     "name": "stdout",
     "output_type": "stream",
     "text": [
      "403\n",
      "{'errorCode': 1004, 'message': 'You are not authorized to perform this action.', 'refId': 'kxv50xzgvmkv'}\n",
      "You are not authorized to perform this action.\n"
     ]
    }
   ],
   "source": [
    "print(response.status_code)\n",
    "print(resposta)\n",
    "print(resposta[\"message\"])"
   ]
  },
  {
   "cell_type": "code",
   "execution_count": 6,
   "metadata": {},
   "outputs": [
    {
     "name": "stdout",
     "output_type": "stream",
     "text": [
      "{\n",
      "  \"errorCode\" : 1004,\n",
      "  \"message\" : \"You are not authorized to perform this action.\",\n",
      "  \"refId\" : \"b97j5zxcad26\"\n",
      "}\n"
     ]
    }
   ],
   "source": [
    "print(response.text)"
   ]
  },
  {
   "cell_type": "code",
   "execution_count": null,
   "metadata": {},
   "outputs": [],
   "source": [
    "\n",
    "attachment = smartsheet_client.Attachments.get_attachment(\n",
    "  9283173393803140,       # sheet_id\n",
    "  4583173393803140)       # attachment_id"
   ]
  }
 ],
 "metadata": {
  "kernelspec": {
   "display_name": "Python 3",
   "language": "python",
   "name": "python3"
  },
  "language_info": {
   "codemirror_mode": {
    "name": "ipython",
    "version": 3
   },
   "file_extension": ".py",
   "mimetype": "text/x-python",
   "name": "python",
   "nbconvert_exporter": "python",
   "pygments_lexer": "ipython3",
   "version": "3.8.5"
  }
 },
 "nbformat": 4,
 "nbformat_minor": 4
}
