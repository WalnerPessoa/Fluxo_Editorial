{
 "cells": [
  {
   "cell_type": "code",
   "execution_count": 3,
   "metadata": {},
   "outputs": [],
   "source": [
    "import smartsheet\n",
    "#create the client with token - be sure to safeguard the token:\n",
    "smartsheet_client = smartsheet.Smartsheet('sf39axxsx04j6lgekyekkc6w53')\n",
    "\n",
    "\n",
    "response = smartsheet_client.Sheets.list_sheets(include_all=True)\n",
    "sheets = response.data"
   ]
  },
  {
   "cell_type": "code",
   "execution_count": 9,
   "metadata": {},
   "outputs": [
    {
     "ename": "TypeError",
     "evalue": "list indices must be integers or slices, not str",
     "output_type": "error",
     "traceback": [
      "\u001b[0;31m---------------------------------------------------------------------------\u001b[0m",
      "\u001b[0;31mTypeError\u001b[0m                                 Traceback (most recent call last)",
      "\u001b[0;32m<ipython-input-9-ff8f15646dd3>\u001b[0m in \u001b[0;36m<module>\u001b[0;34m\u001b[0m\n\u001b[0;32m----> 1\u001b[0;31m \u001b[0mprint\u001b[0m\u001b[0;34m(\u001b[0m\u001b[0mresponse\u001b[0m\u001b[0;34m.\u001b[0m\u001b[0mdata\u001b[0m\u001b[0;34m[\u001b[0m\u001b[0;34m'name'\u001b[0m\u001b[0;34m]\u001b[0m\u001b[0;34m)\u001b[0m\u001b[0;34m\u001b[0m\u001b[0;34m\u001b[0m\u001b[0m\n\u001b[0m",
      "\u001b[0;31mTypeError\u001b[0m: list indices must be integers or slices, not str"
     ]
    }
   ],
   "source": [
    "print(response.data['name'])"
   ]
  },
  {
   "cell_type": "code",
   "execution_count": 12,
   "metadata": {},
   "outputs": [],
   "source": [
    "#print(response)"
   ]
  },
  {
   "cell_type": "code",
   "execution_count": 17,
   "metadata": {},
   "outputs": [
    {
     "name": "stdout",
     "output_type": "stream",
     "text": [
      "{\"data\": [{\"attachmentType\": \"FILE\", \"createdAt\": \"2019-11-07T20:29:49+00:00Z\", \"createdBy\": {\"email\": \"wpessoa@cni.com.br\", \"name\": \"Walner\"}, \"id\": 1465787474044804, \"mimeType\": \"application/pdf\", \"name\": \"ID_000000_Manual_de_formatos_V4 (revisado).pdf\", \"parentId\": 2823220100917124, \"parentType\": \"ROW\", \"sizeInKb\": 9827}, {\"attachmentType\": \"FILE\", \"createdAt\": \"2019-11-07T19:37:59+00:00Z\", \"createdBy\": {\"email\": \"andrey@editorarmultimidia.com.br\", \"name\": \"Editorar Multim\\u00eddia\"}, \"id\": 8830097313556356, \"mimeType\": \"application/pdf\", \"name\": \"ID_000000_Manual_de_formatos_V4.pdf\", \"parentId\": 2823220100917124, \"parentType\": \"ROW\", \"sizeInKb\": 9790}, {\"attachmentType\": \"FILE\", \"createdAt\": \"2019-11-07T17:22:56+00:00Z\", \"createdBy\": {\"email\": \"wpessoa@cni.com.br\", \"name\": \"Walner\"}, \"id\": 3516191976253316, \"mimeType\": \"application/pdf\", \"name\": \"ID_000000_Manual_de_formatos_V3 (1).pdf\", \"parentId\": 3949120007759748, \"parentType\": \"ROW\", \"sizeInKb\": 13177}, {\"attachmentType\": \"FILE\", \"createdAt\": \"2019-10-28T22:23:36+00:00Z\", \"createdBy\": {\"email\": \"andrey@editorarmultimidia.com.br\", \"name\": \"Editorar Multim\\u00eddia\"}, \"id\": 7398470762948484, \"mimeType\": \"application/pdf\", \"name\": \"ID_000000_Manual_de_formatos_V3.pdf\", \"parentId\": 2823220100917124, \"parentType\": \"ROW\", \"sizeInKb\": 13126}, {\"attachmentType\": \"FILE\", \"createdAt\": \"2019-10-28T17:35:11+00:00Z\", \"createdBy\": {\"email\": \"wpessoa@cni.com.br\", \"name\": \"Walner\"}, \"id\": 1839022145333124, \"mimeType\": \"application/pdf\", \"name\": \"ID_000000_Manual_de_formatos (vers\\u00e3o ajustada - coment\\u00e1rios Gabin 28out).pdf\", \"parentId\": 3949120007759748, \"parentType\": \"ROW\", \"sizeInKb\": 13014}, {\"attachmentType\": \"FILE\", \"createdAt\": \"2019-10-25T21:05:24+00:00Z\", \"createdBy\": {\"email\": \"andrey@editorarmultimidia.com.br\", \"name\": \"Editorar Multim\\u00eddia\"}, \"id\": 7485653599446916, \"mimeType\": \"application/pdf\", \"name\": \"ID_000000_Manual_de_formatos.pdf\", \"parentId\": 2823220100917124, \"parentType\": \"ROW\", \"sizeInKb\": 12952}, {\"attachmentType\": \"FILE\", \"createdAt\": \"2019-10-25T14:56:22+00:00Z\", \"createdBy\": {\"email\": \"wpessoa@cni.com.br\", \"name\": \"Walner\"}, \"id\": 5044394188400516, \"mimeType\": \"application/pdf\", \"name\": \"ID_000000_Manual_de_formatos_NGE.pdf\", \"parentId\": 5637969868023684, \"parentType\": \"ROW\", \"sizeInKb\": 7259}, {\"attachmentType\": \"FILE\", \"createdAt\": \"2019-10-24T22:04:57+00:00Z\", \"createdBy\": {\"email\": \"andrey@editorarmultimidia.com.br\", \"name\": \"Editorar Multim\\u00eddia\"}, \"id\": 6827673199634308, \"mimeType\": \"application/pdf\", \"name\": \"ID_000000_Manual_de_formatos.pdf\", \"parentId\": 1134370240653188, \"parentType\": \"ROW\", \"sizeInKb\": 7157}, {\"attachmentType\": \"FILE\", \"createdAt\": \"2019-10-23T18:29:52+00:00Z\", \"createdBy\": {\"email\": \"wpessoa@cni.com.br\", \"name\": \"Walner\"}, \"id\": 7841544790140804, \"mimeType\": \"application/pdf\", \"name\": \"ID_000000_Manual_de_formatos_V1 (com coment\\u00e1rios - Gabin) (1).pdf\", \"parentId\": 2260270147495812, \"parentType\": \"ROW\", \"sizeInKb\": 18488}, {\"attachmentType\": \"FILE\", \"createdAt\": \"2019-10-18T21:22:42+00:00Z\", \"createdBy\": {\"email\": \"andrey@editorarmultimidia.com.br\", \"name\": \"Editorar Multim\\u00eddia\"}, \"id\": 3771724780070788, \"mimeType\": \"application/pdf\", \"name\": \"ID_000000_Manual_de_formatos_V1.pdf\", \"parentId\": 4498875821647748, \"parentType\": \"ROW\", \"sizeInKb\": 20257}, {\"attachmentType\": \"FILE\", \"createdAt\": \"2019-10-10T21:43:50+00:00Z\", \"createdBy\": {\"email\": \"andrey@editorarmultimidia.com.br\", \"name\": \"Editorar Multim\\u00eddia\"}, \"id\": 7569674769590148, \"mimeType\": \"application/pdf\", \"name\": \"ID_000000_Manual_de_formatos_V3.pdf\", \"parentId\": 1121176101119876, \"parentType\": \"ROW\", \"sizeInKb\": 5707}, {\"attachmentType\": \"FILE\", \"createdAt\": \"2019-10-10T20:14:09+00:00Z\", \"createdBy\": {\"email\": \"wpessoa@cni.com.br\", \"name\": \"Walner\"}, \"id\": 3621317776828292, \"mimeType\": \"application/msword\", \"name\": \"Papel timbrado A4 PFI CNI.doc\", \"parentId\": 3654450891515780, \"parentType\": \"ROW\", \"sizeInKb\": 254}, {\"attachmentType\": \"FILE\", \"createdAt\": \"2019-10-10T14:00:04+00:00Z\", \"createdBy\": {\"email\": \"andrey@editorarmultimidia.com.br\", \"name\": \"Editorar Multim\\u00eddia\"}, \"id\": 1302948117538692, \"mimeType\": \"application/pdf\", \"name\": \"ID_000000_Manual_de_formatos_v2.pdf\", \"parentId\": 1121176101119876, \"parentType\": \"ROW\", \"sizeInKb\": 3904}, {\"attachmentType\": \"FILE\", \"createdAt\": \"2019-10-10T09:57:28+00:00Z\", \"createdBy\": {\"email\": \"andrey@editorarmultimidia.com.br\", \"name\": \"Editorar Multim\\u00eddia\"}, \"id\": 8963821153871748, \"mimeType\": \"application/pdf\", \"name\": \"ID_000000_Manual_de_formatos.pdf\", \"parentId\": 7313625588754308, \"parentType\": \"ROW\", \"sizeInKb\": 3896}, {\"attachmentType\": \"FILE\", \"createdAt\": \"2019-10-07T14:14:12+00:00Z\", \"createdBy\": {\"email\": \"marcela.santana@cni.com.br\"}, \"id\": 207134590822276, \"mimeType\": \"application/vnd.openxmlformats-officedocument.wordprocessingml.document\", \"name\": \"Cronograma_000000.docx\", \"parentId\": 7595100565464964, \"parentType\": \"ROW\", \"sizeInKb\": 28}, {\"attachmentType\": \"FILE\", \"createdAt\": \"2019-10-07T14:13:43+00:00Z\", \"createdBy\": {\"email\": \"marcela.santana@cni.com.br\"}, \"id\": 5565522904409988, \"mimeType\": \"application/vnd.openxmlformats-officedocument.wordprocessingml.document\", \"name\": \"Cronograma_000000.docx\", \"parentId\": 7595100565464964, \"parentType\": \"ROW\", \"sizeInKb\": 28}, {\"attachmentType\": \"FILE\", \"createdAt\": \"2019-10-07T14:09:42+00:00Z\", \"createdBy\": {\"email\": \"marcela.santana@cni.com.br\"}, \"id\": 7655867381245828, \"mimeType\": \"application/pdf\", \"name\": \"PRESIDENCIA CNI_EDITORAR_000000_MANUAL DE FORMATOS PARA CORRESPONDENCIA E DOCS DO SI.pdf\", \"parentId\": 7595100565464964, \"parentType\": \"ROW\", \"sizeInKb\": 77}, {\"attachmentType\": \"FILE\", \"createdAt\": \"2019-10-04T19:36:48+00:00Z\", \"createdBy\": {\"email\": \"marcela.santana@cni.com.br\"}, \"id\": 8236034784814980, \"mimeType\": \"application/pdf\", \"name\": \"ID_000000_Manual_de_formatos.pdf\", \"parentId\": 839701124409220, \"parentType\": \"ROW\", \"sizeInKb\": 93}, {\"attachmentType\": \"FILE\", \"createdAt\": \"2019-10-04T19:36:46+00:00Z\", \"createdBy\": {\"email\": \"marcela.santana@cni.com.br\"}, \"id\": 5984234971129732, \"mimeType\": \"application/vnd.openxmlformats-officedocument.wordprocessingml.document\", \"name\": \"Cronograma_000000.docx\", \"parentId\": 839701124409220, \"parentType\": \"ROW\", \"sizeInKb\": 28}, {\"attachmentType\": \"FILE\", \"createdAt\": \"2019-10-04T19:09:36+00:00Z\", \"createdBy\": {\"email\": \"andrey@editorarmultimidia.com.br\", \"name\": \"Editorar Multim\\u00eddia\"}, \"id\": 1636754183743364, \"mimeType\": \"application/vnd.openxmlformats-officedocument.wordprocessingml.document\", \"name\": \"Cronograma_000000.docx\", \"parentId\": 8158050518886276, \"parentType\": \"ROW\", \"sizeInKb\": 28}, {\"attachmentType\": \"FILE\", \"createdAt\": \"2019-10-04T19:06:44+00:00Z\", \"createdBy\": {\"email\": \"andrey@editorarmultimidia.com.br\", \"name\": \"Editorar Multim\\u00eddia\"}, \"id\": 5493119419475844, \"mimeType\": \"application/vnd.openxmlformats-officedocument.spreadsheetml.sheet\", \"name\": \"ID_000000_Manual_de_formatos.xlsx\", \"parentId\": 8158050518886276, \"parentType\": \"ROW\", \"sizeInKb\": 113}, {\"attachmentType\": \"FILE\", \"createdAt\": \"2019-10-04T15:24:24+00:00Z\", \"createdBy\": {\"email\": \"katia.rocha@senaicni.com.br\", \"name\": \"NGE\"}, \"id\": 3961898080200580, \"mimeType\": \"application/msword\", \"name\": \"Manual de formatos - Oficial.doc\", \"parentId\": 3654450891515780, \"parentType\": \"ROW\", \"sizeInKb\": 4966}, {\"attachmentType\": \"FILE\", \"createdAt\": \"2019-10-04T15:24:09+00:00Z\", \"createdBy\": {\"email\": \"katia.rocha@senaicni.com.br\", \"name\": \"NGE\"}, \"id\": 4741486184032132, \"mimeType\": \"application/pdf\", \"name\": \"2017.05.00 - Manual de Redac\\u0327a\\u0303o da Ca\\u0302mara dos Deputados.pdf\", \"parentId\": 3654450891515780, \"parentType\": \"ROW\", \"sizeInKb\": 3444}, {\"attachmentType\": \"FILE\", \"createdAt\": \"2019-10-04T15:23:38+00:00Z\", \"createdBy\": {\"email\": \"katia.rocha@senaicni.com.br\", \"name\": \"NGE\"}, \"id\": 4222603668809604, \"mimeType\": \"application/pdf\", \"name\": \"Manual da Preside\\u0302ncia (2018).pdf\", \"parentId\": 3654450891515780, \"parentType\": \"ROW\", \"sizeInKb\": 1803}], \"pageNumber\": 1, \"result\": [{\"attachmentType\": \"FILE\", \"createdAt\": \"2019-11-07T20:29:49+00:00Z\", \"createdBy\": {\"email\": \"wpessoa@cni.com.br\", \"name\": \"Walner\"}, \"id\": 1465787474044804, \"mimeType\": \"application/pdf\", \"name\": \"ID_000000_Manual_de_formatos_V4 (revisado).pdf\", \"parentId\": 2823220100917124, \"parentType\": \"ROW\", \"sizeInKb\": 9827}, {\"attachmentType\": \"FILE\", \"createdAt\": \"2019-11-07T19:37:59+00:00Z\", \"createdBy\": {\"email\": \"andrey@editorarmultimidia.com.br\", \"name\": \"Editorar Multim\\u00eddia\"}, \"id\": 8830097313556356, \"mimeType\": \"application/pdf\", \"name\": \"ID_000000_Manual_de_formatos_V4.pdf\", \"parentId\": 2823220100917124, \"parentType\": \"ROW\", \"sizeInKb\": 9790}, {\"attachmentType\": \"FILE\", \"createdAt\": \"2019-11-07T17:22:56+00:00Z\", \"createdBy\": {\"email\": \"wpessoa@cni.com.br\", \"name\": \"Walner\"}, \"id\": 3516191976253316, \"mimeType\": \"application/pdf\", \"name\": \"ID_000000_Manual_de_formatos_V3 (1).pdf\", \"parentId\": 3949120007759748, \"parentType\": \"ROW\", \"sizeInKb\": 13177}, {\"attachmentType\": \"FILE\", \"createdAt\": \"2019-10-28T22:23:36+00:00Z\", \"createdBy\": {\"email\": \"andrey@editorarmultimidia.com.br\", \"name\": \"Editorar Multim\\u00eddia\"}, \"id\": 7398470762948484, \"mimeType\": \"application/pdf\", \"name\": \"ID_000000_Manual_de_formatos_V3.pdf\", \"parentId\": 2823220100917124, \"parentType\": \"ROW\", \"sizeInKb\": 13126}, {\"attachmentType\": \"FILE\", \"createdAt\": \"2019-10-28T17:35:11+00:00Z\", \"createdBy\": {\"email\": \"wpessoa@cni.com.br\", \"name\": \"Walner\"}, \"id\": 1839022145333124, \"mimeType\": \"application/pdf\", \"name\": \"ID_000000_Manual_de_formatos (vers\\u00e3o ajustada - coment\\u00e1rios Gabin 28out).pdf\", \"parentId\": 3949120007759748, \"parentType\": \"ROW\", \"sizeInKb\": 13014}, {\"attachmentType\": \"FILE\", \"createdAt\": \"2019-10-25T21:05:24+00:00Z\", \"createdBy\": {\"email\": \"andrey@editorarmultimidia.com.br\", \"name\": \"Editorar Multim\\u00eddia\"}, \"id\": 7485653599446916, \"mimeType\": \"application/pdf\", \"name\": \"ID_000000_Manual_de_formatos.pdf\", \"parentId\": 2823220100917124, \"parentType\": \"ROW\", \"sizeInKb\": 12952}, {\"attachmentType\": \"FILE\", \"createdAt\": \"2019-10-25T14:56:22+00:00Z\", \"createdBy\": {\"email\": \"wpessoa@cni.com.br\", \"name\": \"Walner\"}, \"id\": 5044394188400516, \"mimeType\": \"application/pdf\", \"name\": \"ID_000000_Manual_de_formatos_NGE.pdf\", \"parentId\": 5637969868023684, \"parentType\": \"ROW\", \"sizeInKb\": 7259}, {\"attachmentType\": \"FILE\", \"createdAt\": \"2019-10-24T22:04:57+00:00Z\", \"createdBy\": {\"email\": \"andrey@editorarmultimidia.com.br\", \"name\": \"Editorar Multim\\u00eddia\"}, \"id\": 6827673199634308, \"mimeType\": \"application/pdf\", \"name\": \"ID_000000_Manual_de_formatos.pdf\", \"parentId\": 1134370240653188, \"parentType\": \"ROW\", \"sizeInKb\": 7157}, {\"attachmentType\": \"FILE\", \"createdAt\": \"2019-10-23T18:29:52+00:00Z\", \"createdBy\": {\"email\": \"wpessoa@cni.com.br\", \"name\": \"Walner\"}, \"id\": 7841544790140804, \"mimeType\": \"application/pdf\", \"name\": \"ID_000000_Manual_de_formatos_V1 (com coment\\u00e1rios - Gabin) (1).pdf\", \"parentId\": 2260270147495812, \"parentType\": \"ROW\", \"sizeInKb\": 18488}, {\"attachmentType\": \"FILE\", \"createdAt\": \"2019-10-18T21:22:42+00:00Z\", \"createdBy\": {\"email\": \"andrey@editorarmultimidia.com.br\", \"name\": \"Editorar Multim\\u00eddia\"}, \"id\": 3771724780070788, \"mimeType\": \"application/pdf\", \"name\": \"ID_000000_Manual_de_formatos_V1.pdf\", \"parentId\": 4498875821647748, \"parentType\": \"ROW\", \"sizeInKb\": 20257}, {\"attachmentType\": \"FILE\", \"createdAt\": \"2019-10-10T21:43:50+00:00Z\", \"createdBy\": {\"email\": \"andrey@editorarmultimidia.com.br\", \"name\": \"Editorar Multim\\u00eddia\"}, \"id\": 7569674769590148, \"mimeType\": \"application/pdf\", \"name\": \"ID_000000_Manual_de_formatos_V3.pdf\", \"parentId\": 1121176101119876, \"parentType\": \"ROW\", \"sizeInKb\": 5707}, {\"attachmentType\": \"FILE\", \"createdAt\": \"2019-10-10T20:14:09+00:00Z\", \"createdBy\": {\"email\": \"wpessoa@cni.com.br\", \"name\": \"Walner\"}, \"id\": 3621317776828292, \"mimeType\": \"application/msword\", \"name\": \"Papel timbrado A4 PFI CNI.doc\", \"parentId\": 3654450891515780, \"parentType\": \"ROW\", \"sizeInKb\": 254}, {\"attachmentType\": \"FILE\", \"createdAt\": \"2019-10-10T14:00:04+00:00Z\", \"createdBy\": {\"email\": \"andrey@editorarmultimidia.com.br\", \"name\": \"Editorar Multim\\u00eddia\"}, \"id\": 1302948117538692, \"mimeType\": \"application/pdf\", \"name\": \"ID_000000_Manual_de_formatos_v2.pdf\", \"parentId\": 1121176101119876, \"parentType\": \"ROW\", \"sizeInKb\": 3904}, {\"attachmentType\": \"FILE\", \"createdAt\": \"2019-10-10T09:57:28+00:00Z\", \"createdBy\": {\"email\": \"andrey@editorarmultimidia.com.br\", \"name\": \"Editorar Multim\\u00eddia\"}, \"id\": 8963821153871748, \"mimeType\": \"application/pdf\", \"name\": \"ID_000000_Manual_de_formatos.pdf\", \"parentId\": 7313625588754308, \"parentType\": \"ROW\", \"sizeInKb\": 3896}, {\"attachmentType\": \"FILE\", \"createdAt\": \"2019-10-07T14:14:12+00:00Z\", \"createdBy\": {\"email\": \"marcela.santana@cni.com.br\"}, \"id\": 207134590822276, \"mimeType\": \"application/vnd.openxmlformats-officedocument.wordprocessingml.document\", \"name\": \"Cronograma_000000.docx\", \"parentId\": 7595100565464964, \"parentType\": \"ROW\", \"sizeInKb\": 28}, {\"attachmentType\": \"FILE\", \"createdAt\": \"2019-10-07T14:13:43+00:00Z\", \"createdBy\": {\"email\": \"marcela.santana@cni.com.br\"}, \"id\": 5565522904409988, \"mimeType\": \"application/vnd.openxmlformats-officedocument.wordprocessingml.document\", \"name\": \"Cronograma_000000.docx\", \"parentId\": 7595100565464964, \"parentType\": \"ROW\", \"sizeInKb\": 28}, {\"attachmentType\": \"FILE\", \"createdAt\": \"2019-10-07T14:09:42+00:00Z\", \"createdBy\": {\"email\": \"marcela.santana@cni.com.br\"}, \"id\": 7655867381245828, \"mimeType\": \"application/pdf\", \"name\": \"PRESIDENCIA CNI_EDITORAR_000000_MANUAL DE FORMATOS PARA CORRESPONDENCIA E DOCS DO SI.pdf\", \"parentId\": 7595100565464964, \"parentType\": \"ROW\", \"sizeInKb\": 77}, {\"attachmentType\": \"FILE\", \"createdAt\": \"2019-10-04T19:36:48+00:00Z\", \"createdBy\": {\"email\": \"marcela.santana@cni.com.br\"}, \"id\": 8236034784814980, \"mimeType\": \"application/pdf\", \"name\": \"ID_000000_Manual_de_formatos.pdf\", \"parentId\": 839701124409220, \"parentType\": \"ROW\", \"sizeInKb\": 93}, {\"attachmentType\": \"FILE\", \"createdAt\": \"2019-10-04T19:36:46+00:00Z\", \"createdBy\": {\"email\": \"marcela.santana@cni.com.br\"}, \"id\": 5984234971129732, \"mimeType\": \"application/vnd.openxmlformats-officedocument.wordprocessingml.document\", \"name\": \"Cronograma_000000.docx\", \"parentId\": 839701124409220, \"parentType\": \"ROW\", \"sizeInKb\": 28}, {\"attachmentType\": \"FILE\", \"createdAt\": \"2019-10-04T19:09:36+00:00Z\", \"createdBy\": {\"email\": \"andrey@editorarmultimidia.com.br\", \"name\": \"Editorar Multim\\u00eddia\"}, \"id\": 1636754183743364, \"mimeType\": \"application/vnd.openxmlformats-officedocument.wordprocessingml.document\", \"name\": \"Cronograma_000000.docx\", \"parentId\": 8158050518886276, \"parentType\": \"ROW\", \"sizeInKb\": 28}, {\"attachmentType\": \"FILE\", \"createdAt\": \"2019-10-04T19:06:44+00:00Z\", \"createdBy\": {\"email\": \"andrey@editorarmultimidia.com.br\", \"name\": \"Editorar Multim\\u00eddia\"}, \"id\": 5493119419475844, \"mimeType\": \"application/vnd.openxmlformats-officedocument.spreadsheetml.sheet\", \"name\": \"ID_000000_Manual_de_formatos.xlsx\", \"parentId\": 8158050518886276, \"parentType\": \"ROW\", \"sizeInKb\": 113}, {\"attachmentType\": \"FILE\", \"createdAt\": \"2019-10-04T15:24:24+00:00Z\", \"createdBy\": {\"email\": \"katia.rocha@senaicni.com.br\", \"name\": \"NGE\"}, \"id\": 3961898080200580, \"mimeType\": \"application/msword\", \"name\": \"Manual de formatos - Oficial.doc\", \"parentId\": 3654450891515780, \"parentType\": \"ROW\", \"sizeInKb\": 4966}, {\"attachmentType\": \"FILE\", \"createdAt\": \"2019-10-04T15:24:09+00:00Z\", \"createdBy\": {\"email\": \"katia.rocha@senaicni.com.br\", \"name\": \"NGE\"}, \"id\": 4741486184032132, \"mimeType\": \"application/pdf\", \"name\": \"2017.05.00 - Manual de Redac\\u0327a\\u0303o da Ca\\u0302mara dos Deputados.pdf\", \"parentId\": 3654450891515780, \"parentType\": \"ROW\", \"sizeInKb\": 3444}, {\"attachmentType\": \"FILE\", \"createdAt\": \"2019-10-04T15:23:38+00:00Z\", \"createdBy\": {\"email\": \"katia.rocha@senaicni.com.br\", \"name\": \"NGE\"}, \"id\": 4222603668809604, \"mimeType\": \"application/pdf\", \"name\": \"Manual da Preside\\u0302ncia (2018).pdf\", \"parentId\": 3654450891515780, \"parentType\": \"ROW\", \"sizeInKb\": 1803}], \"totalCount\": 24, \"totalPages\": 1}\n"
     ]
    }
   ],
   "source": [
    "# Sample 1: List All\n",
    "response = smartsheet_client.Attachments.list_all_attachments(\n",
    "  7413190645573508,       # sheet_id ID 000000 Manual de formatos para correspondências e documentos do Sistema Indústria\n",
    "  include_all=True)\n",
    "attachments = response.data\n",
    "#print(attachments)\n",
    "print(response)"
   ]
  },
  {
   "cell_type": "code",
   "execution_count": 23,
   "metadata": {},
   "outputs": [
    {
     "name": "stdout",
     "output_type": "stream",
     "text": [
      "{\"data\": [{\"attachmentType\": \"FILE\", \"createdAt\": \"2019-11-07T20:29:49+00:00Z\", \"createdBy\": {\"email\": \"wpessoa@cni.com.br\", \"name\": \"Walner\"}, \"id\": 1465787474044804, \"mimeType\": \"application/pdf\", \"name\": \"ID_000000_Manual_de_formatos_V4 (revisado).pdf\", \"parentId\": 2823220100917124, \"parentType\": \"ROW\", \"sizeInKb\": 9827}, {\"attachmentType\": \"FILE\", \"createdAt\": \"2019-11-07T19:37:59+00:00Z\", \"createdBy\": {\"email\": \"andrey@editorarmultimidia.com.br\", \"name\": \"Editorar Multim\\u00eddia\"}, \"id\": 8830097313556356, \"mimeType\": \"application/pdf\", \"name\": \"ID_000000_Manual_de_formatos_V4.pdf\", \"parentId\": 2823220100917124, \"parentType\": \"ROW\", \"sizeInKb\": 9790}, {\"attachmentType\": \"FILE\", \"createdAt\": \"2019-11-07T17:22:56+00:00Z\", \"createdBy\": {\"email\": \"wpessoa@cni.com.br\", \"name\": \"Walner\"}, \"id\": 3516191976253316, \"mimeType\": \"application/pdf\", \"name\": \"ID_000000_Manual_de_formatos_V3 (1).pdf\", \"parentId\": 3949120007759748, \"parentType\": \"ROW\", \"sizeInKb\": 13177}, {\"attachmentType\": \"FILE\", \"createdAt\": \"2019-10-28T22:23:36+00:00Z\", \"createdBy\": {\"email\": \"andrey@editorarmultimidia.com.br\", \"name\": \"Editorar Multim\\u00eddia\"}, \"id\": 7398470762948484, \"mimeType\": \"application/pdf\", \"name\": \"ID_000000_Manual_de_formatos_V3.pdf\", \"parentId\": 2823220100917124, \"parentType\": \"ROW\", \"sizeInKb\": 13126}, {\"attachmentType\": \"FILE\", \"createdAt\": \"2019-10-28T17:35:11+00:00Z\", \"createdBy\": {\"email\": \"wpessoa@cni.com.br\", \"name\": \"Walner\"}, \"id\": 1839022145333124, \"mimeType\": \"application/pdf\", \"name\": \"ID_000000_Manual_de_formatos (vers\\u00e3o ajustada - coment\\u00e1rios Gabin 28out).pdf\", \"parentId\": 3949120007759748, \"parentType\": \"ROW\", \"sizeInKb\": 13014}, {\"attachmentType\": \"FILE\", \"createdAt\": \"2019-10-25T21:05:24+00:00Z\", \"createdBy\": {\"email\": \"andrey@editorarmultimidia.com.br\", \"name\": \"Editorar Multim\\u00eddia\"}, \"id\": 7485653599446916, \"mimeType\": \"application/pdf\", \"name\": \"ID_000000_Manual_de_formatos.pdf\", \"parentId\": 2823220100917124, \"parentType\": \"ROW\", \"sizeInKb\": 12952}, {\"attachmentType\": \"FILE\", \"createdAt\": \"2019-10-25T14:56:22+00:00Z\", \"createdBy\": {\"email\": \"wpessoa@cni.com.br\", \"name\": \"Walner\"}, \"id\": 5044394188400516, \"mimeType\": \"application/pdf\", \"name\": \"ID_000000_Manual_de_formatos_NGE.pdf\", \"parentId\": 5637969868023684, \"parentType\": \"ROW\", \"sizeInKb\": 7259}, {\"attachmentType\": \"FILE\", \"createdAt\": \"2019-10-24T22:04:57+00:00Z\", \"createdBy\": {\"email\": \"andrey@editorarmultimidia.com.br\", \"name\": \"Editorar Multim\\u00eddia\"}, \"id\": 6827673199634308, \"mimeType\": \"application/pdf\", \"name\": \"ID_000000_Manual_de_formatos.pdf\", \"parentId\": 1134370240653188, \"parentType\": \"ROW\", \"sizeInKb\": 7157}, {\"attachmentType\": \"FILE\", \"createdAt\": \"2019-10-23T18:29:52+00:00Z\", \"createdBy\": {\"email\": \"wpessoa@cni.com.br\", \"name\": \"Walner\"}, \"id\": 7841544790140804, \"mimeType\": \"application/pdf\", \"name\": \"ID_000000_Manual_de_formatos_V1 (com coment\\u00e1rios - Gabin) (1).pdf\", \"parentId\": 2260270147495812, \"parentType\": \"ROW\", \"sizeInKb\": 18488}, {\"attachmentType\": \"FILE\", \"createdAt\": \"2019-10-18T21:22:42+00:00Z\", \"createdBy\": {\"email\": \"andrey@editorarmultimidia.com.br\", \"name\": \"Editorar Multim\\u00eddia\"}, \"id\": 3771724780070788, \"mimeType\": \"application/pdf\", \"name\": \"ID_000000_Manual_de_formatos_V1.pdf\", \"parentId\": 4498875821647748, \"parentType\": \"ROW\", \"sizeInKb\": 20257}], \"pageNumber\": 1, \"pageSize\": 10, \"result\": [{\"attachmentType\": \"FILE\", \"createdAt\": \"2019-11-07T20:29:49+00:00Z\", \"createdBy\": {\"email\": \"wpessoa@cni.com.br\", \"name\": \"Walner\"}, \"id\": 1465787474044804, \"mimeType\": \"application/pdf\", \"name\": \"ID_000000_Manual_de_formatos_V4 (revisado).pdf\", \"parentId\": 2823220100917124, \"parentType\": \"ROW\", \"sizeInKb\": 9827}, {\"attachmentType\": \"FILE\", \"createdAt\": \"2019-11-07T19:37:59+00:00Z\", \"createdBy\": {\"email\": \"andrey@editorarmultimidia.com.br\", \"name\": \"Editorar Multim\\u00eddia\"}, \"id\": 8830097313556356, \"mimeType\": \"application/pdf\", \"name\": \"ID_000000_Manual_de_formatos_V4.pdf\", \"parentId\": 2823220100917124, \"parentType\": \"ROW\", \"sizeInKb\": 9790}, {\"attachmentType\": \"FILE\", \"createdAt\": \"2019-11-07T17:22:56+00:00Z\", \"createdBy\": {\"email\": \"wpessoa@cni.com.br\", \"name\": \"Walner\"}, \"id\": 3516191976253316, \"mimeType\": \"application/pdf\", \"name\": \"ID_000000_Manual_de_formatos_V3 (1).pdf\", \"parentId\": 3949120007759748, \"parentType\": \"ROW\", \"sizeInKb\": 13177}, {\"attachmentType\": \"FILE\", \"createdAt\": \"2019-10-28T22:23:36+00:00Z\", \"createdBy\": {\"email\": \"andrey@editorarmultimidia.com.br\", \"name\": \"Editorar Multim\\u00eddia\"}, \"id\": 7398470762948484, \"mimeType\": \"application/pdf\", \"name\": \"ID_000000_Manual_de_formatos_V3.pdf\", \"parentId\": 2823220100917124, \"parentType\": \"ROW\", \"sizeInKb\": 13126}, {\"attachmentType\": \"FILE\", \"createdAt\": \"2019-10-28T17:35:11+00:00Z\", \"createdBy\": {\"email\": \"wpessoa@cni.com.br\", \"name\": \"Walner\"}, \"id\": 1839022145333124, \"mimeType\": \"application/pdf\", \"name\": \"ID_000000_Manual_de_formatos (vers\\u00e3o ajustada - coment\\u00e1rios Gabin 28out).pdf\", \"parentId\": 3949120007759748, \"parentType\": \"ROW\", \"sizeInKb\": 13014}, {\"attachmentType\": \"FILE\", \"createdAt\": \"2019-10-25T21:05:24+00:00Z\", \"createdBy\": {\"email\": \"andrey@editorarmultimidia.com.br\", \"name\": \"Editorar Multim\\u00eddia\"}, \"id\": 7485653599446916, \"mimeType\": \"application/pdf\", \"name\": \"ID_000000_Manual_de_formatos.pdf\", \"parentId\": 2823220100917124, \"parentType\": \"ROW\", \"sizeInKb\": 12952}, {\"attachmentType\": \"FILE\", \"createdAt\": \"2019-10-25T14:56:22+00:00Z\", \"createdBy\": {\"email\": \"wpessoa@cni.com.br\", \"name\": \"Walner\"}, \"id\": 5044394188400516, \"mimeType\": \"application/pdf\", \"name\": \"ID_000000_Manual_de_formatos_NGE.pdf\", \"parentId\": 5637969868023684, \"parentType\": \"ROW\", \"sizeInKb\": 7259}, {\"attachmentType\": \"FILE\", \"createdAt\": \"2019-10-24T22:04:57+00:00Z\", \"createdBy\": {\"email\": \"andrey@editorarmultimidia.com.br\", \"name\": \"Editorar Multim\\u00eddia\"}, \"id\": 6827673199634308, \"mimeType\": \"application/pdf\", \"name\": \"ID_000000_Manual_de_formatos.pdf\", \"parentId\": 1134370240653188, \"parentType\": \"ROW\", \"sizeInKb\": 7157}, {\"attachmentType\": \"FILE\", \"createdAt\": \"2019-10-23T18:29:52+00:00Z\", \"createdBy\": {\"email\": \"wpessoa@cni.com.br\", \"name\": \"Walner\"}, \"id\": 7841544790140804, \"mimeType\": \"application/pdf\", \"name\": \"ID_000000_Manual_de_formatos_V1 (com coment\\u00e1rios - Gabin) (1).pdf\", \"parentId\": 2260270147495812, \"parentType\": \"ROW\", \"sizeInKb\": 18488}, {\"attachmentType\": \"FILE\", \"createdAt\": \"2019-10-18T21:22:42+00:00Z\", \"createdBy\": {\"email\": \"andrey@editorarmultimidia.com.br\", \"name\": \"Editorar Multim\\u00eddia\"}, \"id\": 3771724780070788, \"mimeType\": \"application/pdf\", \"name\": \"ID_000000_Manual_de_formatos_V1.pdf\", \"parentId\": 4498875821647748, \"parentType\": \"ROW\", \"sizeInKb\": 20257}], \"totalCount\": 24, \"totalPages\": 3}\n",
      "3\n"
     ]
    }
   ],
   "source": [
    "# Sample 2: Paginate the list of attachments\n",
    "response = smartsheet_client.Attachments.list_all_attachments(\n",
    "  7413190645573508,       # sheet_id ID 000000 Manual de formatos para correspondências e documentos do Sistema Indústria\n",
    "  page_size=10, \n",
    "  page=1)\n",
    "pages = response.total_pages\n",
    "attachments = response.data\n",
    "#print(attachments)\n",
    "print(response)\n",
    "print(pages)"
   ]
  },
  {
   "cell_type": "code",
   "execution_count": 24,
   "metadata": {},
   "outputs": [],
   "source": [
    "attachment = smartsheet_client.Attachments.get_attachment(\n",
    "  7413190645573508,       # # sheet_id ID 000000 Manual de formatos para correspondências e documentos do Sistema Indústria\n",
    "  1465787474044804)       # attachment_id \"name\": \"ID_000000_Manual_de_formatos_V4 (revisado).pdf\n",
    "\n"
   ]
  },
  {
   "cell_type": "code",
   "execution_count": 27,
   "metadata": {},
   "outputs": [
    {
     "name": "stdout",
     "output_type": "stream",
     "text": [
      "<class 'smartsheet.models.attachment.Attachment'>\n",
      "{\"attachmentType\": \"FILE\", \"createdAt\": \"2019-11-07T20:29:49+00:00Z\", \"createdBy\": {\"email\": \"wpessoa@cni.com.br\", \"name\": \"Walner\"}, \"id\": 1465787474044804, \"mimeType\": \"application/pdf\", \"name\": \"ID_000000_Manual_de_formatos_V4 (revisado).pdf\", \"parentId\": 2823220100917124, \"parentType\": \"ROW\", \"sizeInKb\": 9827, \"url\": \"https://s3.amazonaws.com/SmartsheetB1/1a69d1f8aa26402e9d15ba6146124948?response-content-disposition=attachment%3Bfilename%3D%22ID_000000_Manual_de_formatos_V4+%28revisado%29.pdf%22%3Bfilename*%3DUTF-8%27%27ID_000000_Manual_de_formatos_V4%2520%2528revisado%2529.pdf&Signature=Ndh5QKSU69SQUvdLzmESd7TqVSA%3D&Expires=1598041080&AWSAccessKeyId=11950YFEZZJFSSKKB3G2\", \"urlExpiresInMillis\": 120000}\n"
     ]
    }
   ],
   "source": [
    "print(type(attachment))\n",
    "print(attachment)"
   ]
  },
  {
   "cell_type": "code",
   "execution_count": null,
   "metadata": {},
   "outputs": [],
   "source": []
  }
 ],
 "metadata": {
  "kernelspec": {
   "display_name": "Python 3",
   "language": "python",
   "name": "python3"
  },
  "language_info": {
   "codemirror_mode": {
    "name": "ipython",
    "version": 3
   },
   "file_extension": ".py",
   "mimetype": "text/x-python",
   "name": "python",
   "nbconvert_exporter": "python",
   "pygments_lexer": "ipython3",
   "version": "3.8.5"
  }
 },
 "nbformat": 4,
 "nbformat_minor": 4
}
